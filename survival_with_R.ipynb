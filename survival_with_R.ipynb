{
 "cells": [
  {
   "cell_type": "markdown",
   "id": "acce7b91-ba73-409b-88fb-5cc92445d37a",
   "metadata": {
    "id": "acce7b91-ba73-409b-88fb-5cc92445d37a"
   },
   "source": [
    "<h1 style=\"font-weight: bold;\">Titanic Survival With R</h1>\n"
   ]
  },
  {
   "cell_type": "markdown",
   "id": "d50c0a95-60e6-4b7a-bfeb-75eb054d7254",
   "metadata": {
    "id": "d50c0a95-60e6-4b7a-bfeb-75eb054d7254"
   },
   "source": [
    "## 1) **Import libraries**\n",
    "\n",
    "load the libraries to be used in the notebook\n"
   ]
  },
  {
   "cell_type": "code",
   "execution_count": 1,
   "id": "23bde1d6-666d-4099-928a-a72ffe730798",
   "metadata": {
    "ExecuteTime": {
     "end_time": "2025-10-03T22:37:10.062897Z",
     "start_time": "2025-10-03T22:37:10.051491Z"
    },
    "id": "23bde1d6-666d-4099-928a-a72ffe730798",
    "vscode": {
     "languageId": "r"
    }
   },
   "outputs": [
    {
     "name": "stderr",
     "output_type": "stream",
     "text": [
      "── \u001b[1mAttaching core tidyverse packages\u001b[22m ──────────────────────── tidyverse 2.0.0 ──\n",
      "\u001b[32m✔\u001b[39m \u001b[34mdplyr    \u001b[39m 1.1.4     \u001b[32m✔\u001b[39m \u001b[34mreadr    \u001b[39m 2.1.5\n",
      "\u001b[32m✔\u001b[39m \u001b[34mforcats  \u001b[39m 1.0.1     \u001b[32m✔\u001b[39m \u001b[34mstringr  \u001b[39m 1.5.2\n",
      "\u001b[32m✔\u001b[39m \u001b[34mggplot2  \u001b[39m 4.0.0     \u001b[32m✔\u001b[39m \u001b[34mtibble   \u001b[39m 3.3.0\n",
      "\u001b[32m✔\u001b[39m \u001b[34mlubridate\u001b[39m 1.9.4     \u001b[32m✔\u001b[39m \u001b[34mtidyr    \u001b[39m 1.3.1\n",
      "\u001b[32m✔\u001b[39m \u001b[34mpurrr    \u001b[39m 1.1.0     \n",
      "── \u001b[1mConflicts\u001b[22m ────────────────────────────────────────── tidyverse_conflicts() ──\n",
      "\u001b[31m✖\u001b[39m \u001b[34mdplyr\u001b[39m::\u001b[32mfilter()\u001b[39m masks \u001b[34mstats\u001b[39m::filter()\n",
      "\u001b[31m✖\u001b[39m \u001b[34mdplyr\u001b[39m::\u001b[32mlag()\u001b[39m    masks \u001b[34mstats\u001b[39m::lag()\n",
      "\u001b[36mℹ\u001b[39m Use the conflicted package (\u001b[3m\u001b[34m<http://conflicted.r-lib.org/>\u001b[39m\u001b[23m) to force all conflicts to become errors\n",
      "── \u001b[1mAttaching packages\u001b[22m ────────────────────────────────────── tidymodels 1.4.1 ──\n",
      "\n",
      "\u001b[32m✔\u001b[39m \u001b[34mbroom       \u001b[39m 1.0.10     \u001b[32m✔\u001b[39m \u001b[34mrsample     \u001b[39m 1.3.1 \n",
      "\u001b[32m✔\u001b[39m \u001b[34mdials       \u001b[39m 1.4.2      \u001b[32m✔\u001b[39m \u001b[34mtailor      \u001b[39m 0.1.0 \n",
      "\u001b[32m✔\u001b[39m \u001b[34minfer       \u001b[39m 1.0.9      \u001b[32m✔\u001b[39m \u001b[34mtune        \u001b[39m 2.0.0 \n",
      "\u001b[32m✔\u001b[39m \u001b[34mmodeldata   \u001b[39m 1.5.1      \u001b[32m✔\u001b[39m \u001b[34mworkflows   \u001b[39m 1.3.0 \n",
      "\u001b[32m✔\u001b[39m \u001b[34mparsnip     \u001b[39m 1.3.3      \u001b[32m✔\u001b[39m \u001b[34mworkflowsets\u001b[39m 1.1.1 \n",
      "\u001b[32m✔\u001b[39m \u001b[34mrecipes     \u001b[39m 1.3.1      \u001b[32m✔\u001b[39m \u001b[34myardstick   \u001b[39m 1.3.2 \n",
      "\n",
      "── \u001b[1mConflicts\u001b[22m ───────────────────────────────────────── tidymodels_conflicts() ──\n",
      "\u001b[31m✖\u001b[39m \u001b[34mscales\u001b[39m::\u001b[32mdiscard()\u001b[39m masks \u001b[34mpurrr\u001b[39m::discard()\n",
      "\u001b[31m✖\u001b[39m \u001b[34mdplyr\u001b[39m::\u001b[32mfilter()\u001b[39m   masks \u001b[34mstats\u001b[39m::filter()\n",
      "\u001b[31m✖\u001b[39m \u001b[34mrecipes\u001b[39m::\u001b[32mfixed()\u001b[39m  masks \u001b[34mstringr\u001b[39m::fixed()\n",
      "\u001b[31m✖\u001b[39m \u001b[34mdplyr\u001b[39m::\u001b[32mlag()\u001b[39m      masks \u001b[34mstats\u001b[39m::lag()\n",
      "\u001b[31m✖\u001b[39m \u001b[34myardstick\u001b[39m::\u001b[32mspec()\u001b[39m masks \u001b[34mreadr\u001b[39m::spec()\n",
      "\u001b[31m✖\u001b[39m \u001b[34mrecipes\u001b[39m::\u001b[32mstep()\u001b[39m   masks \u001b[34mstats\u001b[39m::step()\n",
      "\n",
      "\n",
      "Attaching package: ‘psych’\n",
      "\n",
      "\n",
      "The following objects are masked from ‘package:scales’:\n",
      "\n",
      "    alpha, rescale\n",
      "\n",
      "\n",
      "The following objects are masked from ‘package:ggplot2’:\n",
      "\n",
      "    %+%, alpha\n",
      "\n",
      "\n"
     ]
    }
   ],
   "source": [
    "library(tidyverse)\n",
    "library(tidymodels)\n",
    "library(psych)"
   ]
  },
  {
   "cell_type": "markdown",
   "id": "796f2577-cd2f-4130-a2a9-35d768495f9a",
   "metadata": {
    "id": "796f2577-cd2f-4130-a2a9-35d768495f9a",
    "jp-MarkdownHeadingCollapsed": true
   },
   "source": [
    "## 2) **Setting notebook**\n"
   ]
  },
  {
   "cell_type": "code",
   "execution_count": 2,
   "id": "af3ad461-d57d-46d1-96d5-f62e51fd6d86",
   "metadata": {
    "ExecuteTime": {
     "end_time": "2025-10-03T22:37:10.150939Z",
     "start_time": "2025-10-03T22:37:10.140708Z"
    },
    "id": "af3ad461-d57d-46d1-96d5-f62e51fd6d86",
    "vscode": {
     "languageId": "r"
    }
   },
   "outputs": [
    {
     "data": {
      "text/plain": [
       "$add.smooth\n",
       "[1] TRUE\n",
       "\n",
       "$ambiguousMethodSelection\n",
       "function (cond) \n",
       "NULL\n",
       "<environment: R_EmptyEnv>\n",
       "\n",
       "$bitmapType\n",
       "[1] \"cairo\"\n",
       "\n",
       "$browser\n",
       "[1] \"\"\n",
       "\n",
       "$browserNLdisabled\n",
       "[1] FALSE\n",
       "\n",
       "$callr.condition_handler_cli_message\n",
       "function (msg) \n",
       "{\n",
       "    custom_handler <- getOption(\"cli.default_handler\")\n",
       "    if (is.function(custom_handler)) {\n",
       "        custom_handler(msg)\n",
       "    }\n",
       "    else {\n",
       "        cli_server_default(msg)\n",
       "    }\n",
       "}\n",
       "<bytecode: 0x30011dea58>\n",
       "<environment: namespace:cli>\n",
       "\n",
       "$catch.script.errors\n",
       "[1] FALSE\n",
       "\n",
       "$CBoundsCheck\n",
       "[1] FALSE\n",
       "\n",
       "$check.bounds\n",
       "[1] FALSE\n",
       "\n",
       "$citation.bibtex.max\n",
       "[1] 1\n",
       "\n",
       "$continue\n",
       "[1] \"+ \"\n",
       "\n",
       "$contrasts\n",
       "        unordered           ordered \n",
       "\"contr.treatment\"      \"contr.poly\" \n",
       "\n",
       "$crayon.enabled\n",
       "[1] TRUE\n",
       "\n",
       "$datatable.alloccol\n",
       "[1] 1024\n",
       "\n",
       "$datatable.allow.cartesian\n",
       "[1] FALSE\n",
       "\n",
       "$datatable.auto.index\n",
       "[1] TRUE\n",
       "\n",
       "$datatable.dfdispatchwarn\n",
       "[1] TRUE\n",
       "\n",
       "$datatable.optimize\n",
       "[1] Inf\n",
       "\n",
       "$datatable.print.class\n",
       "[1] TRUE\n",
       "\n",
       "$datatable.print.colnames\n",
       "[1] \"auto\"\n",
       "\n",
       "$datatable.print.keys\n",
       "[1] TRUE\n",
       "\n",
       "$datatable.print.nrows\n",
       "[1] 100\n",
       "\n",
       "$datatable.print.rownames\n",
       "[1] TRUE\n",
       "\n",
       "$datatable.print.topn\n",
       "[1] 5\n",
       "\n",
       "$datatable.print.trunc.cols\n",
       "[1] FALSE\n",
       "\n",
       "$datatable.show.indices\n",
       "[1] FALSE\n",
       "\n",
       "$datatable.use.index\n",
       "[1] TRUE\n",
       "\n",
       "$datatable.verbose\n",
       "[1] FALSE\n",
       "\n",
       "$datatable.warnredundantby\n",
       "[1] TRUE\n",
       "\n",
       "$defaultPackages\n",
       "[1] \"datasets\"  \"utils\"     \"grDevices\" \"graphics\"  \"stats\"     \"methods\"  \n",
       "\n",
       "$demo.ask\n",
       "[1] \"default\"\n",
       "\n",
       "$deparse.cutoff\n",
       "[1] 60\n",
       "\n",
       "$device\n",
       "function (filename = null_filename, ...) \n",
       "ok_device(filename, ...)\n",
       "<bytecode: 0x300210e260>\n",
       "<environment: 0x300210ddc8>\n",
       "\n",
       "$device.ask.default\n",
       "[1] FALSE\n",
       "\n",
       "$digits\n",
       "[1] 7\n",
       "\n",
       "$dplyr.show_progress\n",
       "[1] TRUE\n",
       "\n",
       "$dvipscmd\n",
       "[1] \"dvips\"\n",
       "\n",
       "$echo\n",
       "[1] FALSE\n",
       "\n",
       "$editor\n",
       "[1] \"vi\"\n",
       "\n",
       "$encoding\n",
       "[1] \"native.enc\"\n",
       "\n",
       "$example.ask\n",
       "[1] \"default\"\n",
       "\n",
       "$expressions\n",
       "[1] 5000\n",
       "\n",
       "$future.ClusterFuture.clusterEvalQ\n",
       "[1] \"warning\"\n",
       "\n",
       "$future.debug.indent\n",
       "[1] \" \"\n",
       "\n",
       "$future.globals.keepWhere\n",
       "[1] TRUE\n",
       "\n",
       "$future.globals.maxSize\n",
       "[1] 1e+09\n",
       "\n",
       "$future.globals.method.default\n",
       "[1] \"ordered\" \"dfs\"    \n",
       "\n",
       "$future.regression.note\n",
       "[1] TRUE\n",
       "\n",
       "$gd_num_thread\n",
       "[1] 2\n",
       "\n",
       "$globals.debug.indent\n",
       "[1] \" \"\n",
       "\n",
       "$help.search.types\n",
       "[1] \"vignette\" \"demo\"     \"help\"    \n",
       "\n",
       "$help.try.all.packages\n",
       "[1] FALSE\n",
       "\n",
       "$HTTPUserAgent\n",
       "[1] \"R (4.5.1 aarch64-unknown-linux-gnu aarch64 linux-gnu)\"\n",
       "\n",
       "$internet.info\n",
       "[1] 2\n",
       "\n",
       "$jupyter.base_display_func\n",
       "Class method definition for method display_data()\n",
       "function (data, metadata = NULL) \n",
       "{\n",
       "    if (is.null(metadata)) {\n",
       "        metadata <- namedlist()\n",
       "    }\n",
       "    send_response(\"display_data\", current_request, \"iopub\", list(data = data, \n",
       "        metadata = metadata))\n",
       "    invisible(TRUE)\n",
       "}\n",
       "<environment: 0x300269ac68>\n",
       "\n",
       "$jupyter.clear_output_func\n",
       "Class method definition for method clear_output()\n",
       "function (wait = TRUE) \n",
       "{\n",
       "    send_response(\"clear_output\", current_request, \"iopub\", list(wait = wait))\n",
       "}\n",
       "<environment: 0x300269ac68>\n",
       "\n",
       "$jupyter.display_mimetypes\n",
       " [1] \"text/plain\"                       \"text/html\"                       \n",
       " [3] \"text/markdown\"                    \"text/latex\"                      \n",
       " [5] \"application/json\"                 \"application/javascript\"          \n",
       " [7] \"application/geo+json\"             \"application/vdom.v1+json\"        \n",
       " [9] \"application/vnd.plotly.v1+json\"   \"application/vnd.vegalite.v2+json\"\n",
       "[11] \"application/vnd.vega.v4+json\"     \"application/pdf\"                 \n",
       "[13] \"image/png\"                        \"image/jpeg\"                      \n",
       "[15] \"image/svg+xml\"                   \n",
       "\n",
       "$jupyter.in_kernel\n",
       "[1] TRUE\n",
       "\n",
       "$jupyter.log_level\n",
       "[1] 1\n",
       "\n",
       "$jupyter.logfile\n",
       "[1] NA\n",
       "\n",
       "$jupyter.pager_classes\n",
       "[1] \"packageIQR\"            \"help_files_with_topic\"\n",
       "\n",
       "$jupyter.plot_mimetypes\n",
       "[1] \"text/plain\" \"image/png\" \n",
       "\n",
       "$jupyter.plot_scale\n",
       "[1] 2\n",
       "\n",
       "$jupyter.rich_display\n",
       "[1] TRUE\n",
       "\n",
       "$keep.parse.data\n",
       "[1] TRUE\n",
       "\n",
       "$keep.parse.data.pkgs\n",
       "[1] FALSE\n",
       "\n",
       "$keep.source\n",
       "[1] FALSE\n",
       "\n",
       "$keep.source.pkgs\n",
       "[1] FALSE\n",
       "\n",
       "$locatorBell\n",
       "[1] TRUE\n",
       "\n",
       "$mailer\n",
       "[1] \"mailto\"\n",
       "\n",
       "$matprod\n",
       "[1] \"default\"\n",
       "\n",
       "$max.contour.segments\n",
       "[1] 25000\n",
       "\n",
       "$max.print\n",
       "[1] 99999\n",
       "\n",
       "$menu.graphics\n",
       "[1] TRUE\n",
       "\n",
       "$na.action\n",
       "[1] \"na.omit\"\n",
       "\n",
       "$nwarnings\n",
       "[1] 50\n",
       "\n",
       "$OutDec\n",
       "[1] \".\"\n",
       "\n",
       "$pager\n",
       "function (files, header, title, delete.file) \n",
       "{\n",
       "    text <- title\n",
       "    for (path in files) {\n",
       "        text <- c(text, header, readLines(path))\n",
       "    }\n",
       "    if (delete.file) \n",
       "        file.remove(files)\n",
       "    data <- list(`text/plain` = paste(text, collapse = \"\\n\"))\n",
       "    page(list(data = data, metadata = namedlist()))\n",
       "}\n",
       "<environment: 0x300271bc68>\n",
       "\n",
       "$papersize\n",
       "[1] \"letter\"\n",
       "\n",
       "$PCRE_limit_recursion\n",
       "[1] NA\n",
       "\n",
       "$PCRE_study\n",
       "[1] FALSE\n",
       "\n",
       "$PCRE_use_JIT\n",
       "[1] TRUE\n",
       "\n",
       "$pdfviewer\n",
       "[1] \"\"\n",
       "\n",
       "$pkgType\n",
       "[1] \"source\"\n",
       "\n",
       "$printcmd\n",
       "[1] \"\"\n",
       "\n",
       "$prompt\n",
       "[1] \"> \"\n",
       "\n",
       "$readr.show_progress\n",
       "[1] TRUE\n",
       "\n",
       "$repos\n",
       "                        CRAN \n",
       "\"https://cran.r-project.org\" \n",
       "attr(,\"irkernel\")\n",
       "[1] TRUE\n",
       "\n",
       "$repr.function.highlight\n",
       "[1] FALSE\n",
       "\n",
       "$repr.html.deduplicate\n",
       "[1] FALSE\n",
       "\n",
       "$repr.matrix.latex.colspec\n",
       "$repr.matrix.latex.colspec$row_head\n",
       "[1] \"r|\"\n",
       "\n",
       "$repr.matrix.latex.colspec$col\n",
       "[1] \"l\"\n",
       "\n",
       "$repr.matrix.latex.colspec$end\n",
       "[1] \"\"\n",
       "\n",
       "\n",
       "$repr.matrix.max.cols\n",
       "[1] 20\n",
       "\n",
       "$repr.matrix.max.rows\n",
       "[1] 60\n",
       "\n",
       "$repr.plot.antialias\n",
       "[1] \"gray\"\n",
       "\n",
       "$repr.plot.bg\n",
       "[1] \"white\"\n",
       "\n",
       "$repr.plot.family\n",
       "[1] \"sans\"\n",
       "\n",
       "$repr.plot.height\n",
       "[1] 7\n",
       "\n",
       "$repr.plot.pointsize\n",
       "[1] 12\n",
       "\n",
       "$repr.plot.quality\n",
       "[1] 90\n",
       "\n",
       "$repr.plot.res\n",
       "[1] 120\n",
       "\n",
       "$repr.plot.width\n",
       "[1] 7\n",
       "\n",
       "$repr.vector.max.items\n",
       "[1] 400\n",
       "\n",
       "$repr.vector.quote\n",
       "[1] TRUE\n",
       "\n",
       "$rl_word_breaks\n",
       "[1] \" \\t\\n\\\"\\\\'`><=%;,|&{()}\"\n",
       "\n",
       "$rlang_trace_top_env\n",
       "<environment: 0x30042e1ef8>\n",
       "\n",
       "$scipen\n",
       "[1] 0\n",
       "\n",
       "$show.coef.Pvalues\n",
       "[1] TRUE\n",
       "\n",
       "$show.error.messages\n",
       "[1] TRUE\n",
       "\n",
       "$show.signif.stars\n",
       "[1] TRUE\n",
       "\n",
       "$showErrorCalls\n",
       "[1] TRUE\n",
       "\n",
       "$showNCalls\n",
       "[1] 50\n",
       "\n",
       "$showWarnCalls\n",
       "[1] FALSE\n",
       "\n",
       "$str\n",
       "$str$strict.width\n",
       "[1] \"no\"\n",
       "\n",
       "$str$digits.d\n",
       "[1] 3\n",
       "\n",
       "$str$vec.len\n",
       "[1] 4\n",
       "\n",
       "$str$list.len\n",
       "[1] 99\n",
       "\n",
       "$str$deparse.lines\n",
       "NULL\n",
       "\n",
       "$str$drop.deparse.attr\n",
       "[1] TRUE\n",
       "\n",
       "$str$formatNum\n",
       "function (x, ...) \n",
       "format(x, trim = TRUE, drop0trailing = TRUE, ...)\n",
       "<environment: 0x3000d3c1c8>\n",
       "\n",
       "\n",
       "$str.dendrogram.last\n",
       "[1] \"`\"\n",
       "\n",
       "$texi2dvi\n",
       "[1] \"/usr/bin/texi2dvi\"\n",
       "\n",
       "$timeout\n",
       "[1] 60\n",
       "\n",
       "$try.outFile\n",
       "A connection with                    \n",
       "description \"\"      \n",
       "class       \"file\"  \n",
       "mode        \"w+b\"   \n",
       "text        \"binary\"\n",
       "opened      \"opened\"\n",
       "can read    \"yes\"   \n",
       "can write   \"yes\"   \n",
       "\n",
       "$ts.eps\n",
       "[1] 1e-05\n",
       "\n",
       "$ts.S.compat\n",
       "[1] FALSE\n",
       "\n",
       "$unzip\n",
       "[1] \"/usr/bin/unzip\"\n",
       "\n",
       "$useFancyQuotes\n",
       "[1] TRUE\n",
       "\n",
       "$verbose\n",
       "[1] FALSE\n",
       "\n",
       "$warn\n",
       "[1] 0\n",
       "\n",
       "$warning.length\n",
       "[1] 1000\n",
       "\n",
       "$warnPartialMatchArgs\n",
       "[1] FALSE\n",
       "\n",
       "$warnPartialMatchAttr\n",
       "[1] FALSE\n",
       "\n",
       "$warnPartialMatchDollar\n",
       "[1] FALSE\n",
       "\n",
       "$width\n",
       "[1] 80\n"
      ]
     },
     "metadata": {},
     "output_type": "display_data"
    }
   ],
   "source": [
    "options()"
   ]
  },
  {
   "cell_type": "markdown",
   "id": "de696c32-e12b-4ac1-b39f-d2798415ded0",
   "metadata": {
    "id": "de696c32-e12b-4ac1-b39f-d2798415ded0"
   },
   "source": [
    "## 3) **Load the data**\n",
    "\n",
    "<p>Load the csv file to pandas dataframe</p>\n"
   ]
  },
  {
   "cell_type": "code",
   "execution_count": 3,
   "id": "3e76a29c",
   "metadata": {
    "vscode": {
     "languageId": "r"
    }
   },
   "outputs": [
    {
     "data": {
      "text/html": [
       "TRUE"
      ],
      "text/latex": [
       "TRUE"
      ],
      "text/markdown": [
       "TRUE"
      ],
      "text/plain": [
       "[1] TRUE"
      ]
     },
     "metadata": {},
     "output_type": "display_data"
    }
   ],
   "source": [
    "dir.exists(\"./data\")"
   ]
  },
  {
   "cell_type": "code",
   "execution_count": 4,
   "id": "11a39d04-d424-4ef9-bfc1-e5250b05dc9f",
   "metadata": {
    "ExecuteTime": {
     "end_time": "2025-10-03T22:37:10.187290Z",
     "start_time": "2025-10-03T22:37:10.172217Z"
    },
    "id": "11a39d04-d424-4ef9-bfc1-e5250b05dc9f",
    "vscode": {
     "languageId": "r"
    }
   },
   "outputs": [],
   "source": [
    "folder_path <- NULL\n",
    "\n",
    "if (dir.exists(\"data/\")) {\n",
    "    folder_path <- \"data\"\n",
    "} else {\n",
    "    stop(\"Unable find the data\")\n",
    "}\n",
    "\n",
    "\n",
    "train_path = file.path(folder_path, \"train.csv\")\n",
    "test_path = file.path(folder_path, \"test.csv\")"
   ]
  },
  {
   "cell_type": "code",
   "execution_count": 5,
   "id": "4ea8a195-e2de-4952-83df-0348ca524056",
   "metadata": {
    "ExecuteTime": {
     "end_time": "2025-10-03T22:37:10.714490Z",
     "start_time": "2025-10-03T22:37:10.207883Z"
    },
    "id": "4ea8a195-e2de-4952-83df-0348ca524056",
    "vscode": {
     "languageId": "r"
    }
   },
   "outputs": [
    {
     "name": "stderr",
     "output_type": "stream",
     "text": [
      "\u001b[1mRows: \u001b[22m\u001b[34m891\u001b[39m \u001b[1mColumns: \u001b[22m\u001b[34m12\u001b[39m\n",
      "\u001b[36m──\u001b[39m \u001b[1mColumn specification\u001b[22m \u001b[36m────────────────────────────────────────────────────────\u001b[39m\n",
      "\u001b[1mDelimiter:\u001b[22m \",\"\n",
      "\u001b[31mchr\u001b[39m (5): Name, Sex, Ticket, Cabin, Embarked\n",
      "\u001b[32mdbl\u001b[39m (7): PassengerId, Survived, Pclass, Age, SibSp, Parch, Fare\n",
      "\n",
      "\u001b[36mℹ\u001b[39m Use `spec()` to retrieve the full column specification for this data.\n",
      "\u001b[36mℹ\u001b[39m Specify the column types or set `show_col_types = FALSE` to quiet this message.\n",
      "\u001b[1mRows: \u001b[22m\u001b[34m418\u001b[39m \u001b[1mColumns: \u001b[22m\u001b[34m11\u001b[39m\n",
      "\u001b[36m──\u001b[39m \u001b[1mColumn specification\u001b[22m \u001b[36m────────────────────────────────────────────────────────\u001b[39m\n",
      "\u001b[1mDelimiter:\u001b[22m \",\"\n",
      "\u001b[31mchr\u001b[39m (5): Name, Sex, Ticket, Cabin, Embarked\n",
      "\u001b[32mdbl\u001b[39m (6): PassengerId, Pclass, Age, SibSp, Parch, Fare\n",
      "\n",
      "\u001b[36mℹ\u001b[39m Use `spec()` to retrieve the full column specification for this data.\n",
      "\u001b[36mℹ\u001b[39m Specify the column types or set `show_col_types = FALSE` to quiet this message.\n"
     ]
    }
   ],
   "source": [
    "# Set the PassengerId column as index column.\n",
    "index_col <- 'PassengerId'\n",
    "\n",
    "# Load the train and test dataframe.\n",
    "train_df <- read_csv(train_path)\n",
    "test_df <- read_csv(test_path)"
   ]
  },
  {
   "cell_type": "code",
   "execution_count": 6,
   "id": "aca928db-9d3c-4540-ad7e-15cf7234e71f",
   "metadata": {
    "vscode": {
     "languageId": "r"
    }
   },
   "outputs": [],
   "source": [
    "index_col <- \"PassengerId\"\n",
    "\n",
    "# Remove the PassengerId column for data index\n",
    "train_df <- train_df %>% select(-any_of(index_col))\n",
    "test_df <- test_df %>% select(-any_of(index_col))"
   ]
  },
  {
   "cell_type": "markdown",
   "id": "ca31e43e-f0b2-49f6-805a-d5db7b9103d7",
   "metadata": {
    "id": "ca31e43e-f0b2-49f6-805a-d5db7b9103d7"
   },
   "source": [
    "## 4) **Data statistics**\n",
    "\n",
    "<p>Analyse train and test dataframe</p>\n"
   ]
  },
  {
   "cell_type": "markdown",
   "id": "b0b5ee84-3674-4b58-b4f9-ebb4d980b920",
   "metadata": {
    "id": "b0b5ee84-3674-4b58-b4f9-ebb4d980b920"
   },
   "source": [
    "### i) Rows in train data\n",
    "\n",
    "<p>View train dataframe top and bottom rows</p>\n"
   ]
  },
  {
   "cell_type": "code",
   "execution_count": 7,
   "id": "3908408e-84a6-4225-9345-a7da8a7f7081",
   "metadata": {
    "ExecuteTime": {
     "end_time": "2025-10-03T22:37:10.910151Z",
     "start_time": "2025-10-03T22:37:10.732128Z"
    },
    "colab": {
     "base_uri": "https://localhost:8080/",
     "height": 535
    },
    "id": "3908408e-84a6-4225-9345-a7da8a7f7081",
    "outputId": "ca2868ed-3caa-459e-d7a1-22d5095359e2",
    "vscode": {
     "languageId": "r"
    }
   },
   "outputs": [
    {
     "data": {
      "text/html": [
       "<table class=\"dataframe\">\n",
       "<caption>A tibble: 6 × 11</caption>\n",
       "<thead>\n",
       "\t<tr><th scope=col>Survived</th><th scope=col>Pclass</th><th scope=col>Name</th><th scope=col>Sex</th><th scope=col>Age</th><th scope=col>SibSp</th><th scope=col>Parch</th><th scope=col>Ticket</th><th scope=col>Fare</th><th scope=col>Cabin</th><th scope=col>Embarked</th></tr>\n",
       "\t<tr><th scope=col>&lt;dbl&gt;</th><th scope=col>&lt;dbl&gt;</th><th scope=col>&lt;chr&gt;</th><th scope=col>&lt;chr&gt;</th><th scope=col>&lt;dbl&gt;</th><th scope=col>&lt;dbl&gt;</th><th scope=col>&lt;dbl&gt;</th><th scope=col>&lt;chr&gt;</th><th scope=col>&lt;dbl&gt;</th><th scope=col>&lt;chr&gt;</th><th scope=col>&lt;chr&gt;</th></tr>\n",
       "</thead>\n",
       "<tbody>\n",
       "\t<tr><td>0</td><td>3</td><td>Braund, Mr. Owen Harris                            </td><td>male  </td><td>22</td><td>1</td><td>0</td><td>A/5 21171       </td><td> 7.2500</td><td>NA  </td><td>S</td></tr>\n",
       "\t<tr><td>1</td><td>1</td><td>Cumings, Mrs. John Bradley (Florence Briggs Thayer)</td><td>female</td><td>38</td><td>1</td><td>0</td><td>PC 17599        </td><td>71.2833</td><td>C85 </td><td>C</td></tr>\n",
       "\t<tr><td>1</td><td>3</td><td>Heikkinen, Miss. Laina                             </td><td>female</td><td>26</td><td>0</td><td>0</td><td>STON/O2. 3101282</td><td> 7.9250</td><td>NA  </td><td>S</td></tr>\n",
       "\t<tr><td>1</td><td>1</td><td>Futrelle, Mrs. Jacques Heath (Lily May Peel)       </td><td>female</td><td>35</td><td>1</td><td>0</td><td>113803          </td><td>53.1000</td><td>C123</td><td>S</td></tr>\n",
       "\t<tr><td>0</td><td>3</td><td>Allen, Mr. William Henry                           </td><td>male  </td><td>35</td><td>0</td><td>0</td><td>373450          </td><td> 8.0500</td><td>NA  </td><td>S</td></tr>\n",
       "\t<tr><td>0</td><td>3</td><td>Moran, Mr. James                                   </td><td>male  </td><td>NA</td><td>0</td><td>0</td><td>330877          </td><td> 8.4583</td><td>NA  </td><td>Q</td></tr>\n",
       "</tbody>\n",
       "</table>\n"
      ],
      "text/latex": [
       "A tibble: 6 × 11\n",
       "\\begin{tabular}{lllllllllll}\n",
       " Survived & Pclass & Name & Sex & Age & SibSp & Parch & Ticket & Fare & Cabin & Embarked\\\\\n",
       " <dbl> & <dbl> & <chr> & <chr> & <dbl> & <dbl> & <dbl> & <chr> & <dbl> & <chr> & <chr>\\\\\n",
       "\\hline\n",
       "\t 0 & 3 & Braund, Mr. Owen Harris                             & male   & 22 & 1 & 0 & A/5 21171        &  7.2500 & NA   & S\\\\\n",
       "\t 1 & 1 & Cumings, Mrs. John Bradley (Florence Briggs Thayer) & female & 38 & 1 & 0 & PC 17599         & 71.2833 & C85  & C\\\\\n",
       "\t 1 & 3 & Heikkinen, Miss. Laina                              & female & 26 & 0 & 0 & STON/O2. 3101282 &  7.9250 & NA   & S\\\\\n",
       "\t 1 & 1 & Futrelle, Mrs. Jacques Heath (Lily May Peel)        & female & 35 & 1 & 0 & 113803           & 53.1000 & C123 & S\\\\\n",
       "\t 0 & 3 & Allen, Mr. William Henry                            & male   & 35 & 0 & 0 & 373450           &  8.0500 & NA   & S\\\\\n",
       "\t 0 & 3 & Moran, Mr. James                                    & male   & NA & 0 & 0 & 330877           &  8.4583 & NA   & Q\\\\\n",
       "\\end{tabular}\n"
      ],
      "text/markdown": [
       "\n",
       "A tibble: 6 × 11\n",
       "\n",
       "| Survived &lt;dbl&gt; | Pclass &lt;dbl&gt; | Name &lt;chr&gt; | Sex &lt;chr&gt; | Age &lt;dbl&gt; | SibSp &lt;dbl&gt; | Parch &lt;dbl&gt; | Ticket &lt;chr&gt; | Fare &lt;dbl&gt; | Cabin &lt;chr&gt; | Embarked &lt;chr&gt; |\n",
       "|---|---|---|---|---|---|---|---|---|---|---|\n",
       "| 0 | 3 | Braund, Mr. Owen Harris                             | male   | 22 | 1 | 0 | A/5 21171        |  7.2500 | NA   | S |\n",
       "| 1 | 1 | Cumings, Mrs. John Bradley (Florence Briggs Thayer) | female | 38 | 1 | 0 | PC 17599         | 71.2833 | C85  | C |\n",
       "| 1 | 3 | Heikkinen, Miss. Laina                              | female | 26 | 0 | 0 | STON/O2. 3101282 |  7.9250 | NA   | S |\n",
       "| 1 | 1 | Futrelle, Mrs. Jacques Heath (Lily May Peel)        | female | 35 | 1 | 0 | 113803           | 53.1000 | C123 | S |\n",
       "| 0 | 3 | Allen, Mr. William Henry                            | male   | 35 | 0 | 0 | 373450           |  8.0500 | NA   | S |\n",
       "| 0 | 3 | Moran, Mr. James                                    | male   | NA | 0 | 0 | 330877           |  8.4583 | NA   | Q |\n",
       "\n"
      ],
      "text/plain": [
       "  Survived Pclass Name                                                Sex   \n",
       "1 0        3      Braund, Mr. Owen Harris                             male  \n",
       "2 1        1      Cumings, Mrs. John Bradley (Florence Briggs Thayer) female\n",
       "3 1        3      Heikkinen, Miss. Laina                              female\n",
       "4 1        1      Futrelle, Mrs. Jacques Heath (Lily May Peel)        female\n",
       "5 0        3      Allen, Mr. William Henry                            male  \n",
       "6 0        3      Moran, Mr. James                                    male  \n",
       "  Age SibSp Parch Ticket           Fare    Cabin Embarked\n",
       "1 22  1     0     A/5 21171         7.2500 NA    S       \n",
       "2 38  1     0     PC 17599         71.2833 C85   C       \n",
       "3 26  0     0     STON/O2. 3101282  7.9250 NA    S       \n",
       "4 35  1     0     113803           53.1000 C123  S       \n",
       "5 35  0     0     373450            8.0500 NA    S       \n",
       "6 NA  0     0     330877            8.4583 NA    Q       "
      ]
     },
     "metadata": {},
     "output_type": "display_data"
    }
   ],
   "source": [
    "# First five rows in train data.\n",
    "train_df %>% head()"
   ]
  },
  {
   "cell_type": "code",
   "execution_count": 8,
   "id": "8a52e0f5-1267-4775-a373-501320697db7",
   "metadata": {
    "ExecuteTime": {
     "end_time": "2025-10-03T22:37:10.967507Z",
     "start_time": "2025-10-03T22:37:10.943396Z"
    },
    "colab": {
     "base_uri": "https://localhost:8080/",
     "height": 483
    },
    "id": "8a52e0f5-1267-4775-a373-501320697db7",
    "outputId": "91811e83-329f-4e06-c499-5786a27fc8ed",
    "vscode": {
     "languageId": "r"
    }
   },
   "outputs": [
    {
     "data": {
      "text/html": [
       "<table class=\"dataframe\">\n",
       "<caption>A tibble: 6 × 11</caption>\n",
       "<thead>\n",
       "\t<tr><th scope=col>Survived</th><th scope=col>Pclass</th><th scope=col>Name</th><th scope=col>Sex</th><th scope=col>Age</th><th scope=col>SibSp</th><th scope=col>Parch</th><th scope=col>Ticket</th><th scope=col>Fare</th><th scope=col>Cabin</th><th scope=col>Embarked</th></tr>\n",
       "\t<tr><th scope=col>&lt;dbl&gt;</th><th scope=col>&lt;dbl&gt;</th><th scope=col>&lt;chr&gt;</th><th scope=col>&lt;chr&gt;</th><th scope=col>&lt;dbl&gt;</th><th scope=col>&lt;dbl&gt;</th><th scope=col>&lt;dbl&gt;</th><th scope=col>&lt;chr&gt;</th><th scope=col>&lt;dbl&gt;</th><th scope=col>&lt;chr&gt;</th><th scope=col>&lt;chr&gt;</th></tr>\n",
       "</thead>\n",
       "<tbody>\n",
       "\t<tr><td>0</td><td>3</td><td>Rice, Mrs. William (Margaret Norton)    </td><td>female</td><td>39</td><td>0</td><td>5</td><td>382652    </td><td>29.125</td><td>NA  </td><td>Q</td></tr>\n",
       "\t<tr><td>0</td><td>2</td><td>Montvila, Rev. Juozas                   </td><td>male  </td><td>27</td><td>0</td><td>0</td><td>211536    </td><td>13.000</td><td>NA  </td><td>S</td></tr>\n",
       "\t<tr><td>1</td><td>1</td><td>Graham, Miss. Margaret Edith            </td><td>female</td><td>19</td><td>0</td><td>0</td><td>112053    </td><td>30.000</td><td>B42 </td><td>S</td></tr>\n",
       "\t<tr><td>0</td><td>3</td><td>Johnston, Miss. Catherine Helen \"Carrie\"</td><td>female</td><td>NA</td><td>1</td><td>2</td><td>W./C. 6607</td><td>23.450</td><td>NA  </td><td>S</td></tr>\n",
       "\t<tr><td>1</td><td>1</td><td>Behr, Mr. Karl Howell                   </td><td>male  </td><td>26</td><td>0</td><td>0</td><td>111369    </td><td>30.000</td><td>C148</td><td>C</td></tr>\n",
       "\t<tr><td>0</td><td>3</td><td>Dooley, Mr. Patrick                     </td><td>male  </td><td>32</td><td>0</td><td>0</td><td>370376    </td><td> 7.750</td><td>NA  </td><td>Q</td></tr>\n",
       "</tbody>\n",
       "</table>\n"
      ],
      "text/latex": [
       "A tibble: 6 × 11\n",
       "\\begin{tabular}{lllllllllll}\n",
       " Survived & Pclass & Name & Sex & Age & SibSp & Parch & Ticket & Fare & Cabin & Embarked\\\\\n",
       " <dbl> & <dbl> & <chr> & <chr> & <dbl> & <dbl> & <dbl> & <chr> & <dbl> & <chr> & <chr>\\\\\n",
       "\\hline\n",
       "\t 0 & 3 & Rice, Mrs. William (Margaret Norton)     & female & 39 & 0 & 5 & 382652     & 29.125 & NA   & Q\\\\\n",
       "\t 0 & 2 & Montvila, Rev. Juozas                    & male   & 27 & 0 & 0 & 211536     & 13.000 & NA   & S\\\\\n",
       "\t 1 & 1 & Graham, Miss. Margaret Edith             & female & 19 & 0 & 0 & 112053     & 30.000 & B42  & S\\\\\n",
       "\t 0 & 3 & Johnston, Miss. Catherine Helen \"Carrie\" & female & NA & 1 & 2 & W./C. 6607 & 23.450 & NA   & S\\\\\n",
       "\t 1 & 1 & Behr, Mr. Karl Howell                    & male   & 26 & 0 & 0 & 111369     & 30.000 & C148 & C\\\\\n",
       "\t 0 & 3 & Dooley, Mr. Patrick                      & male   & 32 & 0 & 0 & 370376     &  7.750 & NA   & Q\\\\\n",
       "\\end{tabular}\n"
      ],
      "text/markdown": [
       "\n",
       "A tibble: 6 × 11\n",
       "\n",
       "| Survived &lt;dbl&gt; | Pclass &lt;dbl&gt; | Name &lt;chr&gt; | Sex &lt;chr&gt; | Age &lt;dbl&gt; | SibSp &lt;dbl&gt; | Parch &lt;dbl&gt; | Ticket &lt;chr&gt; | Fare &lt;dbl&gt; | Cabin &lt;chr&gt; | Embarked &lt;chr&gt; |\n",
       "|---|---|---|---|---|---|---|---|---|---|---|\n",
       "| 0 | 3 | Rice, Mrs. William (Margaret Norton)     | female | 39 | 0 | 5 | 382652     | 29.125 | NA   | Q |\n",
       "| 0 | 2 | Montvila, Rev. Juozas                    | male   | 27 | 0 | 0 | 211536     | 13.000 | NA   | S |\n",
       "| 1 | 1 | Graham, Miss. Margaret Edith             | female | 19 | 0 | 0 | 112053     | 30.000 | B42  | S |\n",
       "| 0 | 3 | Johnston, Miss. Catherine Helen \"Carrie\" | female | NA | 1 | 2 | W./C. 6607 | 23.450 | NA   | S |\n",
       "| 1 | 1 | Behr, Mr. Karl Howell                    | male   | 26 | 0 | 0 | 111369     | 30.000 | C148 | C |\n",
       "| 0 | 3 | Dooley, Mr. Patrick                      | male   | 32 | 0 | 0 | 370376     |  7.750 | NA   | Q |\n",
       "\n"
      ],
      "text/plain": [
       "  Survived Pclass Name                                     Sex    Age SibSp\n",
       "1 0        3      Rice, Mrs. William (Margaret Norton)     female 39  0    \n",
       "2 0        2      Montvila, Rev. Juozas                    male   27  0    \n",
       "3 1        1      Graham, Miss. Margaret Edith             female 19  0    \n",
       "4 0        3      Johnston, Miss. Catherine Helen \"Carrie\" female NA  1    \n",
       "5 1        1      Behr, Mr. Karl Howell                    male   26  0    \n",
       "6 0        3      Dooley, Mr. Patrick                      male   32  0    \n",
       "  Parch Ticket     Fare   Cabin Embarked\n",
       "1 5     382652     29.125 NA    Q       \n",
       "2 0     211536     13.000 NA    S       \n",
       "3 0     112053     30.000 B42   S       \n",
       "4 2     W./C. 6607 23.450 NA    S       \n",
       "5 0     111369     30.000 C148  C       \n",
       "6 0     370376      7.750 NA    Q       "
      ]
     },
     "metadata": {},
     "output_type": "display_data"
    }
   ],
   "source": [
    "# First five rows in test data.\n",
    "train_df %>% tail()"
   ]
  },
  {
   "cell_type": "markdown",
   "id": "0536c4fb-2038-461a-8ba2-61ba88075b32",
   "metadata": {
    "id": "0536c4fb-2038-461a-8ba2-61ba88075b32"
   },
   "source": [
    "### ii) Rows in test data\n",
    "\n",
    "<p>View test dataframe top and bottom rows</p>\n"
   ]
  },
  {
   "cell_type": "code",
   "execution_count": 9,
   "id": "88078d46-6871-4db1-81d8-8b514b2eaa9b",
   "metadata": {
    "ExecuteTime": {
     "end_time": "2025-10-03T22:37:11.024057Z",
     "start_time": "2025-10-03T22:37:10.982854Z"
    },
    "colab": {
     "base_uri": "https://localhost:8080/",
     "height": 483
    },
    "id": "88078d46-6871-4db1-81d8-8b514b2eaa9b",
    "outputId": "859af79c-0546-4617-aa00-0562f24b89af",
    "vscode": {
     "languageId": "r"
    }
   },
   "outputs": [
    {
     "data": {
      "text/html": [
       "<table class=\"dataframe\">\n",
       "<caption>A tibble: 6 × 10</caption>\n",
       "<thead>\n",
       "\t<tr><th scope=col>Pclass</th><th scope=col>Name</th><th scope=col>Sex</th><th scope=col>Age</th><th scope=col>SibSp</th><th scope=col>Parch</th><th scope=col>Ticket</th><th scope=col>Fare</th><th scope=col>Cabin</th><th scope=col>Embarked</th></tr>\n",
       "\t<tr><th scope=col>&lt;dbl&gt;</th><th scope=col>&lt;chr&gt;</th><th scope=col>&lt;chr&gt;</th><th scope=col>&lt;dbl&gt;</th><th scope=col>&lt;dbl&gt;</th><th scope=col>&lt;dbl&gt;</th><th scope=col>&lt;chr&gt;</th><th scope=col>&lt;dbl&gt;</th><th scope=col>&lt;chr&gt;</th><th scope=col>&lt;chr&gt;</th></tr>\n",
       "</thead>\n",
       "<tbody>\n",
       "\t<tr><td>3</td><td>Kelly, Mr. James                            </td><td>male  </td><td>34.5</td><td>0</td><td>0</td><td>330911 </td><td> 7.8292</td><td>NA</td><td>Q</td></tr>\n",
       "\t<tr><td>3</td><td>Wilkes, Mrs. James (Ellen Needs)            </td><td>female</td><td>47.0</td><td>1</td><td>0</td><td>363272 </td><td> 7.0000</td><td>NA</td><td>S</td></tr>\n",
       "\t<tr><td>2</td><td>Myles, Mr. Thomas Francis                   </td><td>male  </td><td>62.0</td><td>0</td><td>0</td><td>240276 </td><td> 9.6875</td><td>NA</td><td>Q</td></tr>\n",
       "\t<tr><td>3</td><td>Wirz, Mr. Albert                            </td><td>male  </td><td>27.0</td><td>0</td><td>0</td><td>315154 </td><td> 8.6625</td><td>NA</td><td>S</td></tr>\n",
       "\t<tr><td>3</td><td>Hirvonen, Mrs. Alexander (Helga E Lindqvist)</td><td>female</td><td>22.0</td><td>1</td><td>1</td><td>3101298</td><td>12.2875</td><td>NA</td><td>S</td></tr>\n",
       "\t<tr><td>3</td><td>Svensson, Mr. Johan Cervin                  </td><td>male  </td><td>14.0</td><td>0</td><td>0</td><td>7538   </td><td> 9.2250</td><td>NA</td><td>S</td></tr>\n",
       "</tbody>\n",
       "</table>\n"
      ],
      "text/latex": [
       "A tibble: 6 × 10\n",
       "\\begin{tabular}{llllllllll}\n",
       " Pclass & Name & Sex & Age & SibSp & Parch & Ticket & Fare & Cabin & Embarked\\\\\n",
       " <dbl> & <chr> & <chr> & <dbl> & <dbl> & <dbl> & <chr> & <dbl> & <chr> & <chr>\\\\\n",
       "\\hline\n",
       "\t 3 & Kelly, Mr. James                             & male   & 34.5 & 0 & 0 & 330911  &  7.8292 & NA & Q\\\\\n",
       "\t 3 & Wilkes, Mrs. James (Ellen Needs)             & female & 47.0 & 1 & 0 & 363272  &  7.0000 & NA & S\\\\\n",
       "\t 2 & Myles, Mr. Thomas Francis                    & male   & 62.0 & 0 & 0 & 240276  &  9.6875 & NA & Q\\\\\n",
       "\t 3 & Wirz, Mr. Albert                             & male   & 27.0 & 0 & 0 & 315154  &  8.6625 & NA & S\\\\\n",
       "\t 3 & Hirvonen, Mrs. Alexander (Helga E Lindqvist) & female & 22.0 & 1 & 1 & 3101298 & 12.2875 & NA & S\\\\\n",
       "\t 3 & Svensson, Mr. Johan Cervin                   & male   & 14.0 & 0 & 0 & 7538    &  9.2250 & NA & S\\\\\n",
       "\\end{tabular}\n"
      ],
      "text/markdown": [
       "\n",
       "A tibble: 6 × 10\n",
       "\n",
       "| Pclass &lt;dbl&gt; | Name &lt;chr&gt; | Sex &lt;chr&gt; | Age &lt;dbl&gt; | SibSp &lt;dbl&gt; | Parch &lt;dbl&gt; | Ticket &lt;chr&gt; | Fare &lt;dbl&gt; | Cabin &lt;chr&gt; | Embarked &lt;chr&gt; |\n",
       "|---|---|---|---|---|---|---|---|---|---|\n",
       "| 3 | Kelly, Mr. James                             | male   | 34.5 | 0 | 0 | 330911  |  7.8292 | NA | Q |\n",
       "| 3 | Wilkes, Mrs. James (Ellen Needs)             | female | 47.0 | 1 | 0 | 363272  |  7.0000 | NA | S |\n",
       "| 2 | Myles, Mr. Thomas Francis                    | male   | 62.0 | 0 | 0 | 240276  |  9.6875 | NA | Q |\n",
       "| 3 | Wirz, Mr. Albert                             | male   | 27.0 | 0 | 0 | 315154  |  8.6625 | NA | S |\n",
       "| 3 | Hirvonen, Mrs. Alexander (Helga E Lindqvist) | female | 22.0 | 1 | 1 | 3101298 | 12.2875 | NA | S |\n",
       "| 3 | Svensson, Mr. Johan Cervin                   | male   | 14.0 | 0 | 0 | 7538    |  9.2250 | NA | S |\n",
       "\n"
      ],
      "text/plain": [
       "  Pclass Name                                         Sex    Age  SibSp Parch\n",
       "1 3      Kelly, Mr. James                             male   34.5 0     0    \n",
       "2 3      Wilkes, Mrs. James (Ellen Needs)             female 47.0 1     0    \n",
       "3 2      Myles, Mr. Thomas Francis                    male   62.0 0     0    \n",
       "4 3      Wirz, Mr. Albert                             male   27.0 0     0    \n",
       "5 3      Hirvonen, Mrs. Alexander (Helga E Lindqvist) female 22.0 1     1    \n",
       "6 3      Svensson, Mr. Johan Cervin                   male   14.0 0     0    \n",
       "  Ticket  Fare    Cabin Embarked\n",
       "1 330911   7.8292 NA    Q       \n",
       "2 363272   7.0000 NA    S       \n",
       "3 240276   9.6875 NA    Q       \n",
       "4 315154   8.6625 NA    S       \n",
       "5 3101298 12.2875 NA    S       \n",
       "6 7538     9.2250 NA    S       "
      ]
     },
     "metadata": {},
     "output_type": "display_data"
    }
   ],
   "source": [
    "# First five rows in test data.\n",
    "test_df %>% head()"
   ]
  },
  {
   "cell_type": "code",
   "execution_count": 10,
   "id": "a0faa19e-fd81-49c2-8762-fd85533b6868",
   "metadata": {
    "ExecuteTime": {
     "end_time": "2025-10-03T22:37:11.079153Z",
     "start_time": "2025-10-03T22:37:11.043846Z"
    },
    "colab": {
     "base_uri": "https://localhost:8080/",
     "height": 466
    },
    "id": "a0faa19e-fd81-49c2-8762-fd85533b6868",
    "outputId": "3845e917-0f60-49ef-e2a8-189808d9f91f",
    "vscode": {
     "languageId": "r"
    }
   },
   "outputs": [
    {
     "data": {
      "text/html": [
       "<table class=\"dataframe\">\n",
       "<caption>A tibble: 6 × 10</caption>\n",
       "<thead>\n",
       "\t<tr><th scope=col>Pclass</th><th scope=col>Name</th><th scope=col>Sex</th><th scope=col>Age</th><th scope=col>SibSp</th><th scope=col>Parch</th><th scope=col>Ticket</th><th scope=col>Fare</th><th scope=col>Cabin</th><th scope=col>Embarked</th></tr>\n",
       "\t<tr><th scope=col>&lt;dbl&gt;</th><th scope=col>&lt;chr&gt;</th><th scope=col>&lt;chr&gt;</th><th scope=col>&lt;dbl&gt;</th><th scope=col>&lt;dbl&gt;</th><th scope=col>&lt;dbl&gt;</th><th scope=col>&lt;chr&gt;</th><th scope=col>&lt;dbl&gt;</th><th scope=col>&lt;chr&gt;</th><th scope=col>&lt;chr&gt;</th></tr>\n",
       "</thead>\n",
       "<tbody>\n",
       "\t<tr><td>3</td><td>Henriksson, Miss. Jenny Lovisa</td><td>female</td><td>28.0</td><td>0</td><td>0</td><td>347086            </td><td>  7.7750</td><td>NA  </td><td>S</td></tr>\n",
       "\t<tr><td>3</td><td>Spector, Mr. Woolf            </td><td>male  </td><td>  NA</td><td>0</td><td>0</td><td>A.5. 3236         </td><td>  8.0500</td><td>NA  </td><td>S</td></tr>\n",
       "\t<tr><td>1</td><td>Oliva y Ocana, Dona. Fermina  </td><td>female</td><td>39.0</td><td>0</td><td>0</td><td>PC 17758          </td><td>108.9000</td><td>C105</td><td>C</td></tr>\n",
       "\t<tr><td>3</td><td>Saether, Mr. Simon Sivertsen  </td><td>male  </td><td>38.5</td><td>0</td><td>0</td><td>SOTON/O.Q. 3101262</td><td>  7.2500</td><td>NA  </td><td>S</td></tr>\n",
       "\t<tr><td>3</td><td>Ware, Mr. Frederick           </td><td>male  </td><td>  NA</td><td>0</td><td>0</td><td>359309            </td><td>  8.0500</td><td>NA  </td><td>S</td></tr>\n",
       "\t<tr><td>3</td><td>Peter, Master. Michael J      </td><td>male  </td><td>  NA</td><td>1</td><td>1</td><td>2668              </td><td> 22.3583</td><td>NA  </td><td>C</td></tr>\n",
       "</tbody>\n",
       "</table>\n"
      ],
      "text/latex": [
       "A tibble: 6 × 10\n",
       "\\begin{tabular}{llllllllll}\n",
       " Pclass & Name & Sex & Age & SibSp & Parch & Ticket & Fare & Cabin & Embarked\\\\\n",
       " <dbl> & <chr> & <chr> & <dbl> & <dbl> & <dbl> & <chr> & <dbl> & <chr> & <chr>\\\\\n",
       "\\hline\n",
       "\t 3 & Henriksson, Miss. Jenny Lovisa & female & 28.0 & 0 & 0 & 347086             &   7.7750 & NA   & S\\\\\n",
       "\t 3 & Spector, Mr. Woolf             & male   &   NA & 0 & 0 & A.5. 3236          &   8.0500 & NA   & S\\\\\n",
       "\t 1 & Oliva y Ocana, Dona. Fermina   & female & 39.0 & 0 & 0 & PC 17758           & 108.9000 & C105 & C\\\\\n",
       "\t 3 & Saether, Mr. Simon Sivertsen   & male   & 38.5 & 0 & 0 & SOTON/O.Q. 3101262 &   7.2500 & NA   & S\\\\\n",
       "\t 3 & Ware, Mr. Frederick            & male   &   NA & 0 & 0 & 359309             &   8.0500 & NA   & S\\\\\n",
       "\t 3 & Peter, Master. Michael J       & male   &   NA & 1 & 1 & 2668               &  22.3583 & NA   & C\\\\\n",
       "\\end{tabular}\n"
      ],
      "text/markdown": [
       "\n",
       "A tibble: 6 × 10\n",
       "\n",
       "| Pclass &lt;dbl&gt; | Name &lt;chr&gt; | Sex &lt;chr&gt; | Age &lt;dbl&gt; | SibSp &lt;dbl&gt; | Parch &lt;dbl&gt; | Ticket &lt;chr&gt; | Fare &lt;dbl&gt; | Cabin &lt;chr&gt; | Embarked &lt;chr&gt; |\n",
       "|---|---|---|---|---|---|---|---|---|---|\n",
       "| 3 | Henriksson, Miss. Jenny Lovisa | female | 28.0 | 0 | 0 | 347086             |   7.7750 | NA   | S |\n",
       "| 3 | Spector, Mr. Woolf             | male   |   NA | 0 | 0 | A.5. 3236          |   8.0500 | NA   | S |\n",
       "| 1 | Oliva y Ocana, Dona. Fermina   | female | 39.0 | 0 | 0 | PC 17758           | 108.9000 | C105 | C |\n",
       "| 3 | Saether, Mr. Simon Sivertsen   | male   | 38.5 | 0 | 0 | SOTON/O.Q. 3101262 |   7.2500 | NA   | S |\n",
       "| 3 | Ware, Mr. Frederick            | male   |   NA | 0 | 0 | 359309             |   8.0500 | NA   | S |\n",
       "| 3 | Peter, Master. Michael J       | male   |   NA | 1 | 1 | 2668               |  22.3583 | NA   | C |\n",
       "\n"
      ],
      "text/plain": [
       "  Pclass Name                           Sex    Age  SibSp Parch\n",
       "1 3      Henriksson, Miss. Jenny Lovisa female 28.0 0     0    \n",
       "2 3      Spector, Mr. Woolf             male     NA 0     0    \n",
       "3 1      Oliva y Ocana, Dona. Fermina   female 39.0 0     0    \n",
       "4 3      Saether, Mr. Simon Sivertsen   male   38.5 0     0    \n",
       "5 3      Ware, Mr. Frederick            male     NA 0     0    \n",
       "6 3      Peter, Master. Michael J       male     NA 1     1    \n",
       "  Ticket             Fare     Cabin Embarked\n",
       "1 347086               7.7750 NA    S       \n",
       "2 A.5. 3236            8.0500 NA    S       \n",
       "3 PC 17758           108.9000 C105  C       \n",
       "4 SOTON/O.Q. 3101262   7.2500 NA    S       \n",
       "5 359309               8.0500 NA    S       \n",
       "6 2668                22.3583 NA    C       "
      ]
     },
     "metadata": {},
     "output_type": "display_data"
    }
   ],
   "source": [
    "# Last five rows in test data\n",
    "test_df %>% tail()"
   ]
  },
  {
   "cell_type": "markdown",
   "id": "f84d908d-24e9-432a-ae38-b51af16ff6a6",
   "metadata": {
    "id": "f84d908d-24e9-432a-ae38-b51af16ff6a6"
   },
   "source": [
    "### iii) Data description\n",
    "\n",
    "<p>Get the know the datasets</p>\n"
   ]
  },
  {
   "cell_type": "markdown",
   "id": "47a11837-d1d5-4f7c-8a57-4f59cb2c7f71",
   "metadata": {
    "id": "47a11837-d1d5-4f7c-8a57-4f59cb2c7f71"
   },
   "source": [
    "#### a) Data shapes\n"
   ]
  },
  {
   "cell_type": "code",
   "execution_count": 11,
   "id": "4def610c-0540-4075-81bf-47a088d99a52",
   "metadata": {
    "ExecuteTime": {
     "end_time": "2025-10-03T22:37:11.103969Z",
     "start_time": "2025-10-03T22:37:11.094751Z"
    },
    "colab": {
     "base_uri": "https://localhost:8080/"
    },
    "id": "4def610c-0540-4075-81bf-47a088d99a52",
    "outputId": "b6690c2f-a2e0-45f4-efe5-364f9d3ee004",
    "vscode": {
     "languageId": "r"
    }
   },
   "outputs": [
    {
     "name": "stdout",
     "output_type": "stream",
     "text": [
      "Train shape:\n",
      "\trows: 891\n",
      "\tcolumns: 11"
     ]
    }
   ],
   "source": [
    "# Train dataframe shape.\n",
    "train_shape <- train_df %>% dim()\n",
    "display_shape <- sprintf(\"Train shape:\\n\\trows: %s\\n\\tcolumns: %s\", train_shape[1], train_shape[2])\n",
    "cat(display_shape)"
   ]
  },
  {
   "cell_type": "code",
   "execution_count": 12,
   "id": "b63684ac-85aa-45fe-8dc0-a16df2ffe964",
   "metadata": {
    "ExecuteTime": {
     "end_time": "2025-10-03T22:37:11.135301Z",
     "start_time": "2025-10-03T22:37:11.118926Z"
    },
    "colab": {
     "base_uri": "https://localhost:8080/"
    },
    "id": "b63684ac-85aa-45fe-8dc0-a16df2ffe964",
    "outputId": "caef9559-8644-4769-fc19-7779100c8e40",
    "vscode": {
     "languageId": "r"
    }
   },
   "outputs": [
    {
     "name": "stdout",
     "output_type": "stream",
     "text": [
      "Test shape:\n",
      "\trows: 418\n",
      "\tcolumns: 10"
     ]
    }
   ],
   "source": [
    "# Test dataframe shape.\n",
    "test_shape = test_df %>% dim()\n",
    "display_shape <- sprintf(\"Test shape:\\n\\trows: %s\\n\\tcolumns: %s\", test_shape[1], test_shape[2])\n",
    "cat(display_shape)"
   ]
  },
  {
   "cell_type": "markdown",
   "id": "661ad635-c7dc-4e83-8723-6ba88129b4a9",
   "metadata": {
    "id": "661ad635-c7dc-4e83-8723-6ba88129b4a9"
   },
   "source": [
    "#### b) Data column names\n"
   ]
  },
  {
   "cell_type": "code",
   "execution_count": 13,
   "id": "fcdb07c4-1b3a-4e53-8b98-1f5cbe18ab9e",
   "metadata": {
    "vscode": {
     "languageId": "r"
    }
   },
   "outputs": [],
   "source": [
    "formatVec <- function(vec){\n",
    "    cat(\"[\\n\")\n",
    "    for(i in vec){\n",
    "        cat(\"  \", i, \",\\n\", sep = \"\")\n",
    "    }\n",
    "    cat(\"]\")\n",
    "}\n"
   ]
  },
  {
   "cell_type": "code",
   "execution_count": 14,
   "id": "52caf66e-5b37-467a-abd0-343e21e9a10b",
   "metadata": {
    "ExecuteTime": {
     "end_time": "2025-10-03T22:37:11.188101Z",
     "start_time": "2025-10-03T22:37:11.172184Z"
    },
    "colab": {
     "base_uri": "https://localhost:8080/"
    },
    "id": "52caf66e-5b37-467a-abd0-343e21e9a10b",
    "outputId": "1c1b7f05-ff81-47ba-e38f-b5e0a01bb2e4",
    "vscode": {
     "languageId": "r"
    }
   },
   "outputs": [
    {
     "name": "stdout",
     "output_type": "stream",
     "text": [
      "[\n",
      "  Survived,\n",
      "  Pclass,\n",
      "  Name,\n",
      "  Sex,\n",
      "  Age,\n",
      "  SibSp,\n",
      "  Parch,\n",
      "  Ticket,\n",
      "  Fare,\n",
      "  Cabin,\n",
      "  Embarked,\n",
      "]"
     ]
    }
   ],
   "source": [
    "columns <- train_df %>% colnames()\n",
    "formatVec(columns)"
   ]
  },
  {
   "cell_type": "markdown",
   "id": "75b20ce5-4741-499c-9c5e-d519e4d77e0b",
   "metadata": {
    "id": "75b20ce5-4741-499c-9c5e-d519e4d77e0b"
   },
   "source": [
    "#### c) Data information\n"
   ]
  },
  {
   "cell_type": "code",
   "execution_count": 15,
   "id": "e2195c1e-4272-4d56-a94c-591458c1eb7c",
   "metadata": {
    "ExecuteTime": {
     "end_time": "2025-10-03T22:37:11.471277Z",
     "start_time": "2025-10-03T22:37:11.339721Z"
    },
    "colab": {
     "base_uri": "https://localhost:8080/"
    },
    "id": "e2195c1e-4272-4d56-a94c-591458c1eb7c",
    "outputId": "8dcb7d66-1ca3-4137-c1fe-1d6e08f753fd",
    "scrolled": true,
    "vscode": {
     "languageId": "r"
    }
   },
   "outputs": [
    {
     "name": "stdout",
     "output_type": "stream",
     "text": [
      "tibble [891 × 11] (S3: tbl_df/tbl/data.frame)\n",
      " $ Survived: num [1:891] 0 1 1 1 0 0 0 0 1 1 ...\n",
      " $ Pclass  : num [1:891] 3 1 3 1 3 3 1 3 3 2 ...\n",
      " $ Name    : chr [1:891] \"Braund, Mr. Owen Harris\" \"Cumings, Mrs. John Bradley (Florence Briggs Thayer)\" \"Heikkinen, Miss. Laina\" \"Futrelle, Mrs. Jacques Heath (Lily May Peel)\" ...\n",
      " $ Sex     : chr [1:891] \"male\" \"female\" \"female\" \"female\" ...\n",
      " $ Age     : num [1:891] 22 38 26 35 35 NA 54 2 27 14 ...\n",
      " $ SibSp   : num [1:891] 1 1 0 1 0 0 0 3 0 1 ...\n",
      " $ Parch   : num [1:891] 0 0 0 0 0 0 0 1 2 0 ...\n",
      " $ Ticket  : chr [1:891] \"A/5 21171\" \"PC 17599\" \"STON/O2. 3101282\" \"113803\" ...\n",
      " $ Fare    : num [1:891] 7.25 71.28 7.92 53.1 8.05 ...\n",
      " $ Cabin   : chr [1:891] NA \"C85\" NA \"C123\" ...\n",
      " $ Embarked: chr [1:891] \"S\" \"C\" \"S\" \"S\" ...\n"
     ]
    }
   ],
   "source": [
    "# Train data information.\n",
    "train_df %>% str()"
   ]
  },
  {
   "cell_type": "code",
   "execution_count": 16,
   "id": "00a99b72-fc52-4d0a-afad-800dc763f356",
   "metadata": {
    "ExecuteTime": {
     "end_time": "2025-10-03T22:37:11.500818Z",
     "start_time": "2025-10-03T22:37:11.484785Z"
    },
    "colab": {
     "base_uri": "https://localhost:8080/"
    },
    "id": "00a99b72-fc52-4d0a-afad-800dc763f356",
    "outputId": "5b9d7b15-e5b7-42c2-c9ea-e1d28e9085b8",
    "vscode": {
     "languageId": "r"
    }
   },
   "outputs": [
    {
     "name": "stdout",
     "output_type": "stream",
     "text": [
      "tibble [418 × 10] (S3: tbl_df/tbl/data.frame)\n",
      " $ Pclass  : num [1:418] 3 3 2 3 3 3 3 2 3 3 ...\n",
      " $ Name    : chr [1:418] \"Kelly, Mr. James\" \"Wilkes, Mrs. James (Ellen Needs)\" \"Myles, Mr. Thomas Francis\" \"Wirz, Mr. Albert\" ...\n",
      " $ Sex     : chr [1:418] \"male\" \"female\" \"male\" \"male\" ...\n",
      " $ Age     : num [1:418] 34.5 47 62 27 22 14 30 26 18 21 ...\n",
      " $ SibSp   : num [1:418] 0 1 0 0 1 0 0 1 0 2 ...\n",
      " $ Parch   : num [1:418] 0 0 0 0 1 0 0 1 0 0 ...\n",
      " $ Ticket  : chr [1:418] \"330911\" \"363272\" \"240276\" \"315154\" ...\n",
      " $ Fare    : num [1:418] 7.83 7 9.69 8.66 12.29 ...\n",
      " $ Cabin   : chr [1:418] NA NA NA NA ...\n",
      " $ Embarked: chr [1:418] \"Q\" \"S\" \"Q\" \"S\" ...\n"
     ]
    }
   ],
   "source": [
    "# Test data information\n",
    "test_df %>% str()"
   ]
  },
  {
   "cell_type": "markdown",
   "id": "28e7e1c4-8686-42da-8cd3-57d8cef62f0f",
   "metadata": {
    "id": "28e7e1c4-8686-42da-8cd3-57d8cef62f0f"
   },
   "source": [
    "#### d) Describing the data\n"
   ]
  },
  {
   "cell_type": "code",
   "execution_count": 44,
   "id": "3c4bc9f7-c8fa-4fe2-b778-53cdbacccb66",
   "metadata": {
    "vscode": {
     "languageId": "r"
    }
   },
   "outputs": [],
   "source": [
    "nunique <- function(x) length(unique(x))\n",
    "is_numeric_vec <- function(x, threshold_num = 10) nunique(x) > threshold_num\n",
    "\n",
    "desc <- function(data){\n",
    "    data %>% \n",
    "        select(where(is.numeric)) %>% \n",
    "        select(where(is_numeric_vec)) %>% \n",
    "        describe() %>% t()\n",
    "}"
   ]
  },
  {
   "cell_type": "code",
   "execution_count": null,
   "id": "8b65ac94",
   "metadata": {
    "vscode": {
     "languageId": "r"
    }
   },
   "outputs": [
    {
     "data": {
      "text/html": [
       "<dl>\n",
       "\t<dt>$Survived</dt>\n",
       "\t\t<dd>2</dd>\n",
       "\t<dt>$Pclass</dt>\n",
       "\t\t<dd>3</dd>\n",
       "\t<dt>$Name</dt>\n",
       "\t\t<dd>891</dd>\n",
       "\t<dt>$Sex</dt>\n",
       "\t\t<dd>2</dd>\n",
       "\t<dt>$Age</dt>\n",
       "\t\t<dd>89</dd>\n",
       "\t<dt>$SibSp</dt>\n",
       "\t\t<dd>7</dd>\n",
       "\t<dt>$Parch</dt>\n",
       "\t\t<dd>7</dd>\n",
       "\t<dt>$Ticket</dt>\n",
       "\t\t<dd>681</dd>\n",
       "\t<dt>$Fare</dt>\n",
       "\t\t<dd>248</dd>\n",
       "\t<dt>$Cabin</dt>\n",
       "\t\t<dd>148</dd>\n",
       "\t<dt>$Embarked</dt>\n",
       "\t\t<dd>4</dd>\n",
       "</dl>\n"
      ],
      "text/latex": [
       "\\begin{description}\n",
       "\\item[\\$Survived] 2\n",
       "\\item[\\$Pclass] 3\n",
       "\\item[\\$Name] 891\n",
       "\\item[\\$Sex] 2\n",
       "\\item[\\$Age] 89\n",
       "\\item[\\$SibSp] 7\n",
       "\\item[\\$Parch] 7\n",
       "\\item[\\$Ticket] 681\n",
       "\\item[\\$Fare] 248\n",
       "\\item[\\$Cabin] 148\n",
       "\\item[\\$Embarked] 4\n",
       "\\end{description}\n"
      ],
      "text/markdown": [
       "$Survived\n",
       ":   2\n",
       "$Pclass\n",
       ":   3\n",
       "$Name\n",
       ":   891\n",
       "$Sex\n",
       ":   2\n",
       "$Age\n",
       ":   89\n",
       "$SibSp\n",
       ":   7\n",
       "$Parch\n",
       ":   7\n",
       "$Ticket\n",
       ":   681\n",
       "$Fare\n",
       ":   248\n",
       "$Cabin\n",
       ":   148\n",
       "$Embarked\n",
       ":   4\n",
       "\n",
       "\n"
      ],
      "text/plain": [
       "$Survived\n",
       "[1] 2\n",
       "\n",
       "$Pclass\n",
       "[1] 3\n",
       "\n",
       "$Name\n",
       "[1] 891\n",
       "\n",
       "$Sex\n",
       "[1] 2\n",
       "\n",
       "$Age\n",
       "[1] 89\n",
       "\n",
       "$SibSp\n",
       "[1] 7\n",
       "\n",
       "$Parch\n",
       "[1] 7\n",
       "\n",
       "$Ticket\n",
       "[1] 681\n",
       "\n",
       "$Fare\n",
       "[1] 248\n",
       "\n",
       "$Cabin\n",
       "[1] 148\n",
       "\n",
       "$Embarked\n",
       "[1] 4\n"
      ]
     },
     "metadata": {},
     "output_type": "display_data"
    }
   ],
   "source": [
    "lapply(train_df, function(x) c(nunique(x)))"
   ]
  },
  {
   "cell_type": "code",
   "execution_count": null,
   "id": "3f728cc8",
   "metadata": {
    "vscode": {
     "languageId": "r"
    }
   },
   "outputs": [
    {
     "data": {
      "text/html": [
       "<table class=\"dataframe\">\n",
       "<caption>A tibble: 1 × 12</caption>\n",
       "<thead>\n",
       "\t<tr><th scope=col>Survived_len</th><th scope=col>Survived_n_unique</th><th scope=col>Pclass_len</th><th scope=col>Pclass_n_unique</th><th scope=col>Sex_len</th><th scope=col>Sex_n_unique</th><th scope=col>SibSp_len</th><th scope=col>SibSp_n_unique</th><th scope=col>Parch_len</th><th scope=col>Parch_n_unique</th><th scope=col>Embarked_len</th><th scope=col>Embarked_n_unique</th></tr>\n",
       "\t<tr><th scope=col>&lt;int&gt;</th><th scope=col>&lt;int&gt;</th><th scope=col>&lt;int&gt;</th><th scope=col>&lt;int&gt;</th><th scope=col>&lt;int&gt;</th><th scope=col>&lt;int&gt;</th><th scope=col>&lt;int&gt;</th><th scope=col>&lt;int&gt;</th><th scope=col>&lt;int&gt;</th><th scope=col>&lt;int&gt;</th><th scope=col>&lt;int&gt;</th><th scope=col>&lt;int&gt;</th></tr>\n",
       "</thead>\n",
       "<tbody>\n",
       "\t<tr><td>891</td><td>2</td><td>891</td><td>3</td><td>891</td><td>2</td><td>891</td><td>7</td><td>891</td><td>7</td><td>891</td><td>4</td></tr>\n",
       "</tbody>\n",
       "</table>\n"
      ],
      "text/latex": [
       "A tibble: 1 × 12\n",
       "\\begin{tabular}{llllllllllll}\n",
       " Survived\\_len & Survived\\_n\\_unique & Pclass\\_len & Pclass\\_n\\_unique & Sex\\_len & Sex\\_n\\_unique & SibSp\\_len & SibSp\\_n\\_unique & Parch\\_len & Parch\\_n\\_unique & Embarked\\_len & Embarked\\_n\\_unique\\\\\n",
       " <int> & <int> & <int> & <int> & <int> & <int> & <int> & <int> & <int> & <int> & <int> & <int>\\\\\n",
       "\\hline\n",
       "\t 891 & 2 & 891 & 3 & 891 & 2 & 891 & 7 & 891 & 7 & 891 & 4\\\\\n",
       "\\end{tabular}\n"
      ],
      "text/markdown": [
       "\n",
       "A tibble: 1 × 12\n",
       "\n",
       "| Survived_len &lt;int&gt; | Survived_n_unique &lt;int&gt; | Pclass_len &lt;int&gt; | Pclass_n_unique &lt;int&gt; | Sex_len &lt;int&gt; | Sex_n_unique &lt;int&gt; | SibSp_len &lt;int&gt; | SibSp_n_unique &lt;int&gt; | Parch_len &lt;int&gt; | Parch_n_unique &lt;int&gt; | Embarked_len &lt;int&gt; | Embarked_n_unique &lt;int&gt; |\n",
       "|---|---|---|---|---|---|---|---|---|---|---|---|\n",
       "| 891 | 2 | 891 | 3 | 891 | 2 | 891 | 7 | 891 | 7 | 891 | 4 |\n",
       "\n"
      ],
      "text/plain": [
       "  Survived_len Survived_n_unique Pclass_len Pclass_n_unique Sex_len\n",
       "1 891          2                 891        3               891    \n",
       "  Sex_n_unique SibSp_len SibSp_n_unique Parch_len Parch_n_unique Embarked_len\n",
       "1 2            891       7              891       7              891         \n",
       "  Embarked_n_unique\n",
       "1 4                "
      ]
     },
     "metadata": {},
     "output_type": "display_data"
    }
   ],
   "source": []
  },
  {
   "cell_type": "markdown",
   "id": "6b78a8b5-4a3a-44df-8b29-fd956f3f36b2",
   "metadata": {
    "id": "6b78a8b5-4a3a-44df-8b29-fd956f3f36b2"
   },
   "source": [
    "<p style=\"font-weight: bold; font-style: italic;\">Description of numerical columns in train data</p>\n"
   ]
  },
  {
   "cell_type": "code",
   "execution_count": 39,
   "id": "8e98c0a0-b78a-4b22-9851-e027d73f1ddc",
   "metadata": {
    "ExecuteTime": {
     "end_time": "2025-10-03T22:37:11.695382Z",
     "start_time": "2025-10-03T22:37:11.636696Z"
    },
    "colab": {
     "base_uri": "https://localhost:8080/",
     "height": 132
    },
    "id": "8e98c0a0-b78a-4b22-9851-e027d73f1ddc",
    "outputId": "26641692-4a7a-4e26-d300-f3791a247a71",
    "vscode": {
     "languageId": "r"
    }
   },
   "outputs": [
    {
     "data": {
      "text/html": [
       "<table class=\"dataframe\">\n",
       "<caption>A matrix: 13 × 2 of type dbl</caption>\n",
       "<thead>\n",
       "\t<tr><th></th><th scope=col>Age</th><th scope=col>Fare</th></tr>\n",
       "</thead>\n",
       "<tbody>\n",
       "\t<tr><th scope=row>vars</th><td>  1.0000000</td><td>  2.000000</td></tr>\n",
       "\t<tr><th scope=row>n</th><td>714.0000000</td><td>891.000000</td></tr>\n",
       "\t<tr><th scope=row>mean</th><td> 29.6991176</td><td> 32.204208</td></tr>\n",
       "\t<tr><th scope=row>sd</th><td> 14.5264973</td><td> 49.693429</td></tr>\n",
       "\t<tr><th scope=row>median</th><td> 28.0000000</td><td> 14.454200</td></tr>\n",
       "\t<tr><th scope=row>trimmed</th><td> 29.2692308</td><td> 21.378716</td></tr>\n",
       "\t<tr><th scope=row>mad</th><td> 13.3434000</td><td> 10.236167</td></tr>\n",
       "\t<tr><th scope=row>min</th><td>  0.4200000</td><td>  0.000000</td></tr>\n",
       "\t<tr><th scope=row>max</th><td> 80.0000000</td><td>512.329200</td></tr>\n",
       "\t<tr><th scope=row>range</th><td> 79.5800000</td><td>512.329200</td></tr>\n",
       "\t<tr><th scope=row>skew</th><td>  0.3874744</td><td>  4.771210</td></tr>\n",
       "\t<tr><th scope=row>kurtosis</th><td>  0.1597671</td><td> 33.123068</td></tr>\n",
       "\t<tr><th scope=row>se</th><td>  0.5436405</td><td>  1.664792</td></tr>\n",
       "</tbody>\n",
       "</table>\n"
      ],
      "text/latex": [
       "A matrix: 13 × 2 of type dbl\n",
       "\\begin{tabular}{r|ll}\n",
       "  & Age & Fare\\\\\n",
       "\\hline\n",
       "\tvars &   1.0000000 &   2.000000\\\\\n",
       "\tn & 714.0000000 & 891.000000\\\\\n",
       "\tmean &  29.6991176 &  32.204208\\\\\n",
       "\tsd &  14.5264973 &  49.693429\\\\\n",
       "\tmedian &  28.0000000 &  14.454200\\\\\n",
       "\ttrimmed &  29.2692308 &  21.378716\\\\\n",
       "\tmad &  13.3434000 &  10.236167\\\\\n",
       "\tmin &   0.4200000 &   0.000000\\\\\n",
       "\tmax &  80.0000000 & 512.329200\\\\\n",
       "\trange &  79.5800000 & 512.329200\\\\\n",
       "\tskew &   0.3874744 &   4.771210\\\\\n",
       "\tkurtosis &   0.1597671 &  33.123068\\\\\n",
       "\tse &   0.5436405 &   1.664792\\\\\n",
       "\\end{tabular}\n"
      ],
      "text/markdown": [
       "\n",
       "A matrix: 13 × 2 of type dbl\n",
       "\n",
       "| <!--/--> | Age | Fare |\n",
       "|---|---|---|\n",
       "| vars |   1.0000000 |   2.000000 |\n",
       "| n | 714.0000000 | 891.000000 |\n",
       "| mean |  29.6991176 |  32.204208 |\n",
       "| sd |  14.5264973 |  49.693429 |\n",
       "| median |  28.0000000 |  14.454200 |\n",
       "| trimmed |  29.2692308 |  21.378716 |\n",
       "| mad |  13.3434000 |  10.236167 |\n",
       "| min |   0.4200000 |   0.000000 |\n",
       "| max |  80.0000000 | 512.329200 |\n",
       "| range |  79.5800000 | 512.329200 |\n",
       "| skew |   0.3874744 |   4.771210 |\n",
       "| kurtosis |   0.1597671 |  33.123068 |\n",
       "| se |   0.5436405 |   1.664792 |\n",
       "\n"
      ],
      "text/plain": [
       "         Age         Fare      \n",
       "vars       1.0000000   2.000000\n",
       "n        714.0000000 891.000000\n",
       "mean      29.6991176  32.204208\n",
       "sd        14.5264973  49.693429\n",
       "median    28.0000000  14.454200\n",
       "trimmed   29.2692308  21.378716\n",
       "mad       13.3434000  10.236167\n",
       "min        0.4200000   0.000000\n",
       "max       80.0000000 512.329200\n",
       "range     79.5800000 512.329200\n",
       "skew       0.3874744   4.771210\n",
       "kurtosis   0.1597671  33.123068\n",
       "se         0.5436405   1.664792"
      ]
     },
     "metadata": {},
     "output_type": "display_data"
    }
   ],
   "source": [
    "train_df %>% desc()"
   ]
  },
  {
   "cell_type": "markdown",
   "id": "35ab9832-dfa2-4df0-acf6-8a37171bbc5e",
   "metadata": {
    "id": "35ab9832-dfa2-4df0-acf6-8a37171bbc5e"
   },
   "source": [
    "<p style=\"font-weight: bold; font-style: italic;\">Description of categorical columns in train data</p>\n"
   ]
  },
  {
   "cell_type": "code",
   "execution_count": null,
   "id": "63ea916a-bff3-4558-a37c-3bcdd30354fd",
   "metadata": {
    "ExecuteTime": {
     "end_time": "2025-10-03T22:37:11.764133Z",
     "start_time": "2025-10-03T22:37:11.714781Z"
    },
    "colab": {
     "base_uri": "https://localhost:8080/",
     "height": 386
    },
    "id": "63ea916a-bff3-4558-a37c-3bcdd30354fd",
    "outputId": "62169e50-013a-45e8-83d5-2a9e2ee6bc8b",
    "vscode": {
     "languageId": "r"
    }
   },
   "outputs": [],
   "source": [
    "ana_train_data.describe(exclude=float).T"
   ]
  },
  {
   "cell_type": "markdown",
   "id": "a38b8daf-539e-475d-a891-30a3ae5a889c",
   "metadata": {
    "id": "a38b8daf-539e-475d-a891-30a3ae5a889c",
    "jp-MarkdownHeadingCollapsed": true
   },
   "source": [
    "## 5) **Data split**\n",
    "\n",
    "<p>Separate target from the data and then split the data into train and validation</p>\n"
   ]
  },
  {
   "cell_type": "code",
   "execution_count": null,
   "id": "fad4ae80-7c05-4dec-9503-d7fbe24ed6b1",
   "metadata": {
    "ExecuteTime": {
     "end_time": "2025-10-03T22:37:11.818152Z",
     "start_time": "2025-10-03T22:37:11.777403Z"
    },
    "colab": {
     "base_uri": "https://localhost:8080/"
    },
    "id": "fad4ae80-7c05-4dec-9503-d7fbe24ed6b1",
    "outputId": "132c3c7d-f0c8-4095-ec79-a9de15f7d8b0",
    "vscode": {
     "languageId": "r"
    }
   },
   "outputs": [],
   "source": [
    "# Target name.\n",
    "target_name = \"Survived\"\n",
    "\n",
    "# Separating target column from the feature columns.\n",
    "X = train_df.copy()\n",
    "y = X.pop(target_name).values.reshape(-1, 1)\n",
    "\n",
    "# View the shape X and y.\n",
    "print(f'''\n",
    "X shape: {X.shape}\n",
    "y shape: {y.shape}\n",
    "''')"
   ]
  },
  {
   "cell_type": "code",
   "execution_count": null,
   "id": "63f7c9e4-8401-461a-83ba-fea6e9f0249d",
   "metadata": {
    "ExecuteTime": {
     "end_time": "2025-10-03T22:37:11.909713Z",
     "start_time": "2025-10-03T22:37:11.832914Z"
    },
    "colab": {
     "base_uri": "https://localhost:8080/"
    },
    "id": "63f7c9e4-8401-461a-83ba-fea6e9f0249d",
    "outputId": "e32ab24b-7c65-4f4e-ea62-d5c467e0a4b5",
    "vscode": {
     "languageId": "r"
    }
   },
   "outputs": [],
   "source": [
    "# 25 percent will be for test data.\n",
    "test_size = 0.25\n",
    "\n",
    "# 🪓 Splitting data into train and validation data.\n",
    "train_x, valid_x, train_y, valid_y = train_test_split(\n",
    "    X, y, test_size=test_size)\n",
    "\n",
    "# View the shape of the data.\n",
    "print(f'''\n",
    "train_x shape: {train_x.shape}\n",
    "train_y shape: {train_y.shape}\n",
    "valid_x shape: {valid_x.shape}\n",
    "valid_y shape: {valid_y.shape}\n",
    "''')"
   ]
  },
  {
   "cell_type": "markdown",
   "id": "569db3f6-aed1-4a2f-ac8a-15126a314794",
   "metadata": {
    "id": "569db3f6-aed1-4a2f-ac8a-15126a314794",
    "jp-MarkdownHeadingCollapsed": true
   },
   "source": [
    "## 6) **Data cleaning**\n",
    "\n",
    "<p>Modifying or removing data that is inaccurate, duplicate, incomplete, incorrectly formatted, or corrupted</p>\n"
   ]
  },
  {
   "cell_type": "markdown",
   "id": "c5a53948-c255-4c5d-b190-13daf7c45ba9",
   "metadata": {
    "id": "c5a53948-c255-4c5d-b190-13daf7c45ba9"
   },
   "source": [
    "### i) Check the missing values (NaN)\n",
    "\n",
    "<p>Search for missing value in the dataframes</p>\n"
   ]
  },
  {
   "cell_type": "code",
   "execution_count": null,
   "id": "ab9ec910-cbff-4b63-ba07-07f2fbd15ea3",
   "metadata": {
    "ExecuteTime": {
     "end_time": "2025-10-03T22:37:11.943108Z",
     "start_time": "2025-10-03T22:37:11.928212Z"
    },
    "id": "ab9ec910-cbff-4b63-ba07-07f2fbd15ea3",
    "vscode": {
     "languageId": "r"
    }
   },
   "outputs": [],
   "source": [
    "def check_n_nan(data: pd.DataFrame, only_nan: bool = True) -> pd.DataFrame:\n",
    "    \"\"\"\n",
    "    Represents the summary of missing data in the\n",
    "    data frame.\n",
    "\n",
    "    Parameters:\n",
    "    ----------\n",
    "    data: A data frame to check for missing data.\n",
    "\n",
    "    return: A dataframe with number of missing value (NaN) and the percentage.\n",
    "    \"\"\"\n",
    "    # Compute the total NaN for each column.\n",
    "    total_nan = data.isna().sum()\n",
    "\n",
    "    if only_nan:\n",
    "        total_nan = total_nan[total_nan > 0]\n",
    "\n",
    "    # Columns\n",
    "    column_names = total_nan.index\n",
    "\n",
    "    # Compute the percentage of missing data.\n",
    "    percentage = (((total_nan / data.shape[0]) * 100)\n",
    "                  .round(2)\n",
    "                  .astype(str)\n",
    "                  .map(lambda x: x + '%')\n",
    "                  )\n",
    "\n",
    "    return pd.DataFrame({\n",
    "        'columns': column_names,\n",
    "        'total_nan': total_nan,\n",
    "        'percent_nan': percentage\n",
    "    }).reset_index(drop=True)"
   ]
  },
  {
   "cell_type": "code",
   "execution_count": null,
   "id": "71d6e8a8-1a60-4ce7-bfa2-cd93ae383fba",
   "metadata": {
    "ExecuteTime": {
     "end_time": "2025-10-03T22:37:11.984257Z",
     "start_time": "2025-10-03T22:37:11.965061Z"
    },
    "id": "71d6e8a8-1a60-4ce7-bfa2-cd93ae383fba",
    "jupyter": {
     "source_hidden": true
    },
    "vscode": {
     "languageId": "r"
    }
   },
   "outputs": [],
   "source": [
    "def plot_nan(data: pd.DataFrame, name: str | None = None, only_nan: bool = True, use_percent=False) -> None:\n",
    "    nan_df = check_n_nan(data, only_nan)\n",
    "    nan_df['percent_nan'] = nan_df['percent_nan'].str.replace(\n",
    "        '%', '').astype(float).round().astype(int)\n",
    "\n",
    "    radius = 5\n",
    "    y_name = 'percent_nan' if use_percent else 'total_nan'\n",
    "    startup_title = 'Percentage' if use_percent else 'Number'\n",
    "    y_title = f'{startup_title} of missing values'\n",
    "    y_name = alt.Y(y_name).title(y_title)\n",
    "    name = name if name else 'a dataset'\n",
    "    title = f'{startup_title} Of Missing values In {name.title()}'\n",
    "    subtitle = f'A chart represents missing data in {name}'\n",
    "\n",
    "    base = alt.Chart(\n",
    "        nan_df,\n",
    "        title=alt.Title(\n",
    "            title,\n",
    "            subtitle=subtitle,\n",
    "            anchor='start',\n",
    "        )\n",
    "    ).mark_bar(\n",
    "        cornerRadiusTopLeft=radius,\n",
    "        cornerRadiusTopRight=radius\n",
    "    ).encode(\n",
    "        x=alt.X('columns').title('Columns names'),\n",
    "        y=y_name,\n",
    "        color=alt.Color('columns').scale(\n",
    "            scheme='lightgreyred',\n",
    "            reverse=True\n",
    "        ).legend(orient='right'),\n",
    "        tooltip=[\"columns\", \"total_nan\", 'percent_nan'],\n",
    "        text='columns'\n",
    "    ).configure_axis(\n",
    "        grid=False\n",
    "    ).configure_view(\n",
    "        stroke=None\n",
    "    )\n",
    "\n",
    "    return base"
   ]
  },
  {
   "cell_type": "markdown",
   "id": "907a7417-4dc5-4c7a-89f1-f5ca107291fb",
   "metadata": {
    "id": "907a7417-4dc5-4c7a-89f1-f5ca107291fb"
   },
   "source": [
    "#### a) Observing missing data in train and validation data\n"
   ]
  },
  {
   "cell_type": "markdown",
   "id": "d222933d-935b-48e9-ada5-9f5487dc2158",
   "metadata": {
    "id": "d222933d-935b-48e9-ada5-9f5487dc2158"
   },
   "source": [
    "##### One) X train dataset\n"
   ]
  },
  {
   "cell_type": "code",
   "execution_count": null,
   "id": "321fb63b-d441-4d2b-9e09-13d61256ab41",
   "metadata": {
    "ExecuteTime": {
     "end_time": "2025-10-03T22:37:12.017629Z",
     "start_time": "2025-10-03T22:37:11.998181Z"
    },
    "colab": {
     "base_uri": "https://localhost:8080/",
     "height": 163
    },
    "id": "321fb63b-d441-4d2b-9e09-13d61256ab41",
    "outputId": "3b76bf18-697b-4aca-b00c-772c8cd904ab",
    "vscode": {
     "languageId": "r"
    }
   },
   "outputs": [],
   "source": [
    "check_n_nan(train_x)"
   ]
  },
  {
   "cell_type": "code",
   "execution_count": null,
   "id": "b3f6aa76-3d6e-4be5-8c68-34f0e6232b01",
   "metadata": {
    "ExecuteTime": {
     "end_time": "2025-10-03T22:37:12.875126Z",
     "start_time": "2025-10-03T22:37:12.032334Z"
    },
    "colab": {
     "base_uri": "https://localhost:8080/",
     "height": 460
    },
    "id": "b3f6aa76-3d6e-4be5-8c68-34f0e6232b01",
    "outputId": "e4b0c512-9b87-4a0f-b452-34c3d48b34d1",
    "vscode": {
     "languageId": "r"
    }
   },
   "outputs": [],
   "source": [
    "plot_nan(\n",
    "    train_x,\n",
    "    name='x train dataset',\n",
    "    only_nan=False\n",
    ")"
   ]
  },
  {
   "cell_type": "markdown",
   "id": "e5ea56f0-1bbc-4a11-bad3-ee762c844f84",
   "metadata": {
    "id": "e5ea56f0-1bbc-4a11-bad3-ee762c844f84"
   },
   "source": [
    "**conclusion:** X train data sample contains missing data of 21.11%(141) of Age column, 78.29%(523) of cabin column and 0.3%(2) of Embarked column are the amount of missing data in the dataset from the data size of 668.\n"
   ]
  },
  {
   "cell_type": "markdown",
   "id": "dcff054d-4751-4b4d-9058-c7a24bf11d68",
   "metadata": {
    "id": "dcff054d-4751-4b4d-9058-c7a24bf11d68",
    "jp-MarkdownHeadingCollapsed": true
   },
   "source": [
    "##### Two) X validation dataset\n"
   ]
  },
  {
   "cell_type": "code",
   "execution_count": null,
   "id": "b8715e3e-853c-4d18-8174-9e2690f29260",
   "metadata": {
    "ExecuteTime": {
     "end_time": "2025-10-03T22:37:12.904521Z",
     "start_time": "2025-10-03T22:37:12.887911Z"
    },
    "colab": {
     "base_uri": "https://localhost:8080/",
     "height": 163
    },
    "editable": true,
    "id": "b8715e3e-853c-4d18-8174-9e2690f29260",
    "outputId": "9ef9673b-fd59-40b8-ce9c-fe9d338f6a60",
    "tags": [],
    "vscode": {
     "languageId": "r"
    }
   },
   "outputs": [],
   "source": [
    "check_n_nan(valid_x)"
   ]
  },
  {
   "cell_type": "code",
   "execution_count": null,
   "id": "32fa3466-5591-4ccf-a15f-2f741871286b",
   "metadata": {
    "ExecuteTime": {
     "end_time": "2025-10-03T22:37:13.000687Z",
     "start_time": "2025-10-03T22:37:12.918569Z"
    },
    "colab": {
     "base_uri": "https://localhost:8080/",
     "height": 460
    },
    "id": "32fa3466-5591-4ccf-a15f-2f741871286b",
    "outputId": "31f9e002-3d69-4ef4-d49e-5a61bbf96ad1",
    "vscode": {
     "languageId": "r"
    }
   },
   "outputs": [],
   "source": [
    "plot_nan(\n",
    "    valid_x,\n",
    "    name='x validation dataset',\n",
    "    only_nan=False,\n",
    "    use_percent=True\n",
    ")"
   ]
  },
  {
   "cell_type": "markdown",
   "id": "70cb1ef4-1b8f-4892-a56f-f2ebe9349ee4",
   "metadata": {
    "id": "70cb1ef4-1b8f-4892-a56f-f2ebe9349ee4"
   },
   "source": [
    "**conclusion:** In X validation data sample there are 16.14%(36) of Age column and 73.54%(164) of cabin column are the amount of missing data in the dataset from the data size of 223.\n"
   ]
  },
  {
   "cell_type": "markdown",
   "id": "bb47e119-64ce-4244-b63f-689391592150",
   "metadata": {
    "id": "bb47e119-64ce-4244-b63f-689391592150"
   },
   "source": [
    "#### b) Observing missing data in test dataset\n"
   ]
  },
  {
   "cell_type": "code",
   "execution_count": null,
   "id": "2e672b30-9557-411d-b6b5-817485fba03f",
   "metadata": {
    "ExecuteTime": {
     "end_time": "2025-10-03T22:37:13.028980Z",
     "start_time": "2025-10-03T22:37:13.012690Z"
    },
    "colab": {
     "base_uri": "https://localhost:8080/",
     "height": 163
    },
    "id": "2e672b30-9557-411d-b6b5-817485fba03f",
    "outputId": "85ae587c-1e0e-4e70-d1f1-7b93d97611fa",
    "vscode": {
     "languageId": "r"
    }
   },
   "outputs": [],
   "source": [
    "check_n_nan(test_df)"
   ]
  },
  {
   "cell_type": "code",
   "execution_count": null,
   "id": "606251fa-a05f-430b-b372-5aa5209d3dea",
   "metadata": {
    "ExecuteTime": {
     "end_time": "2025-10-03T22:37:13.119102Z",
     "start_time": "2025-10-03T22:37:13.042485Z"
    },
    "colab": {
     "base_uri": "https://localhost:8080/",
     "height": 460
    },
    "id": "606251fa-a05f-430b-b372-5aa5209d3dea",
    "outputId": "a5eea612-9b2b-4742-8165-bc8cac63dde8",
    "vscode": {
     "languageId": "r"
    }
   },
   "outputs": [],
   "source": [
    "plot_nan(\n",
    "    test_df,\n",
    "    name='test dataset',\n",
    "    only_nan=False,\n",
    "    use_percent=False\n",
    ")"
   ]
  },
  {
   "cell_type": "markdown",
   "id": "e3ea0e25-6bb5-408f-8671-709f7f0aa02a",
   "metadata": {
    "id": "e3ea0e25-6bb5-408f-8671-709f7f0aa02a"
   },
   "source": [
    "**conclusion:** The test data frame contains missing data of 20.57%(86) of Age column, 78.23%(327) of cabin column and 0.24%(1) of Fare column are the amount of missing data in the dataset from the data size of 418.\n"
   ]
  },
  {
   "cell_type": "markdown",
   "id": "1fG6lnoslyaM",
   "metadata": {
    "id": "1fG6lnoslyaM",
    "jp-MarkdownHeadingCollapsed": true
   },
   "source": [
    "### ii) Handling the missing values (NaN)\n",
    "\n",
    "<p>Filling missing value in the dataframes</p>\n"
   ]
  },
  {
   "cell_type": "code",
   "execution_count": null,
   "id": "e41f939a-2218-475c-b5e4-f27ca50a8ee8",
   "metadata": {
    "ExecuteTime": {
     "end_time": "2025-10-03T22:37:13.146709Z",
     "start_time": "2025-10-03T22:37:13.133348Z"
    },
    "id": "e41f939a-2218-475c-b5e4-f27ca50a8ee8",
    "vscode": {
     "languageId": "r"
    }
   },
   "outputs": [],
   "source": [
    "class FillNaN:\n",
    "    def __init__(self, dfs: List[pd.DataFrame], fill_with: Dict[str, Any]) -> None:\n",
    "        self.dfs = dfs\n",
    "        self.fill_with = fill_with\n",
    "\n",
    "    @property\n",
    "    def fill(self) -> List[pd.DataFrame]:\n",
    "        \"\"\"\n",
    "        Fills missing values in the data frames.\n",
    "        :return: A tuple of data frames\n",
    "        \"\"\"\n",
    "        lst = []\n",
    "        for df in self.dfs:\n",
    "            for col, strat in self.fill_with.items():\n",
    "                df = self.strategy(df, strat=strat, col_name=col)\n",
    "            lst.append(df)\n",
    "        return lst\n",
    "\n",
    "    @staticmethod\n",
    "    def strategy(df: pd.DataFrame, strat: str, col_name: str) -> pd.DataFrame:\n",
    "        match strat:\n",
    "            case 'mean':\n",
    "                df[col_name] = df[col_name].fillna(df[col_name].mean())\n",
    "            case 'mode':\n",
    "                df[col_name] = df[col_name].fillna(df[col_name].mode()[0])\n",
    "            case 'min':\n",
    "                df[col_name] = df[col_name].fillna(df[col_name].min())\n",
    "            case 'max':\n",
    "                df[col_name] = df[col_name].fillna(df[col_name].max())\n",
    "            case 'median':\n",
    "                df[col_name] = df[col_name].fillna(df[col_name].median())\n",
    "            case 'bfill':\n",
    "                df[col_name] = df[col_name].bfill()\n",
    "            case 'ffill':\n",
    "                df[col_name] = df[col_name].ffill()\n",
    "            case \"drop\":\n",
    "                df = df.drop(col_name, axis=1)\n",
    "            case _:\n",
    "                raise ValueError(\n",
    "                    f\"Ooh, strategy has received invalid value `{strat}` for strat\")\n",
    "        return df"
   ]
  },
  {
   "cell_type": "markdown",
   "id": "e02ac5a6-7db2-4163-81f2-05dbf6a25e3a",
   "metadata": {
    "id": "e02ac5a6-7db2-4163-81f2-05dbf6a25e3a"
   },
   "source": [
    "Filling the missing value in age with mean, Fare with ffill, Embarked with mode and Cabin with drop.\n"
   ]
  },
  {
   "cell_type": "code",
   "execution_count": null,
   "id": "49baf8f2310caf73",
   "metadata": {
    "ExecuteTime": {
     "end_time": "2025-10-03T22:37:13.180529Z",
     "start_time": "2025-10-03T22:37:13.165152Z"
    },
    "id": "49baf8f2310caf73",
    "vscode": {
     "languageId": "r"
    }
   },
   "outputs": [],
   "source": [
    "fill = FillNaN(\n",
    "    [train_x, valid_x, test_df],\n",
    "    {\"Age\": \"mean\",\n",
    "     \"Fare\": \"ffill\",\n",
    "     \"Embarked\": \"mode\",\n",
    "     \"Cabin\": \"drop\"})"
   ]
  },
  {
   "cell_type": "code",
   "execution_count": null,
   "id": "dd679420-5066-4f16-a720-b9afa7a94312",
   "metadata": {
    "ExecuteTime": {
     "end_time": "2025-10-03T22:37:13.234898Z",
     "start_time": "2025-10-03T22:37:13.192480Z"
    },
    "id": "dd679420-5066-4f16-a720-b9afa7a94312",
    "vscode": {
     "languageId": "r"
    }
   },
   "outputs": [],
   "source": [
    "clean_train_x, clean_valid_x, clean_test_df = fill.fill"
   ]
  },
  {
   "cell_type": "markdown",
   "id": "3640be44-6901-4f13-b8f0-04f4867b45af",
   "metadata": {
    "id": "3640be44-6901-4f13-b8f0-04f4867b45af"
   },
   "source": [
    "Check if there still any missing values in the data.\n"
   ]
  },
  {
   "cell_type": "markdown",
   "id": "c6c3ee03-6247-44c5-86ee-e3b1e5b5f004",
   "metadata": {
    "id": "c6c3ee03-6247-44c5-86ee-e3b1e5b5f004"
   },
   "source": [
    "**Clean train x**\n"
   ]
  },
  {
   "cell_type": "code",
   "execution_count": null,
   "id": "c4338507-507b-4e59-be64-732a3a200c69",
   "metadata": {
    "ExecuteTime": {
     "end_time": "2025-10-03T22:37:13.260333Z",
     "start_time": "2025-10-03T22:37:13.244537Z"
    },
    "colab": {
     "base_uri": "https://localhost:8080/",
     "height": 332
    },
    "id": "c4338507-507b-4e59-be64-732a3a200c69",
    "outputId": "18236591-37ce-4fa8-fbbf-fcee3ca12b30",
    "vscode": {
     "languageId": "r"
    }
   },
   "outputs": [],
   "source": [
    "check_n_nan(clean_train_x, only_nan=False)"
   ]
  },
  {
   "cell_type": "markdown",
   "id": "a921d930-643d-4dd8-88bd-5a7a5b0eebc4",
   "metadata": {
    "id": "a921d930-643d-4dd8-88bd-5a7a5b0eebc4"
   },
   "source": [
    "**Clean valid x**\n"
   ]
  },
  {
   "cell_type": "code",
   "execution_count": null,
   "id": "e98096ce-d542-4dbf-b9e1-a609f52f9daf",
   "metadata": {
    "ExecuteTime": {
     "end_time": "2025-10-03T22:37:13.286086Z",
     "start_time": "2025-10-03T22:37:13.272169Z"
    },
    "colab": {
     "base_uri": "https://localhost:8080/",
     "height": 332
    },
    "id": "e98096ce-d542-4dbf-b9e1-a609f52f9daf",
    "outputId": "de8b8f3e-39d7-4e4b-9979-4f84d01a959a",
    "vscode": {
     "languageId": "r"
    }
   },
   "outputs": [],
   "source": [
    "check_n_nan(clean_valid_x, only_nan=False)"
   ]
  },
  {
   "cell_type": "markdown",
   "id": "f47f5343-6754-4d6f-a4c3-bd1e34ba57fd",
   "metadata": {
    "id": "f47f5343-6754-4d6f-a4c3-bd1e34ba57fd"
   },
   "source": [
    "**Clean test df**\n"
   ]
  },
  {
   "cell_type": "code",
   "execution_count": null,
   "id": "f66869ed-6594-4fe7-8ec5-2648d23ae372",
   "metadata": {
    "ExecuteTime": {
     "end_time": "2025-10-03T22:37:13.317331Z",
     "start_time": "2025-10-03T22:37:13.301261Z"
    },
    "colab": {
     "base_uri": "https://localhost:8080/",
     "height": 332
    },
    "id": "f66869ed-6594-4fe7-8ec5-2648d23ae372",
    "outputId": "42e4df4b-7f57-4069-dd59-450a6e8cb425",
    "vscode": {
     "languageId": "r"
    }
   },
   "outputs": [],
   "source": [
    "check_n_nan(clean_test_df, only_nan=False)"
   ]
  },
  {
   "cell_type": "markdown",
   "id": "91b54b41-383b-4638-8a49-48aa3a664533",
   "metadata": {
    "id": "91b54b41-383b-4638-8a49-48aa3a664533"
   },
   "source": [
    "### iii) Handling the categorical columns\n",
    "\n",
    "<p>Encode categorical column to integer and drop high cardinality columns in the dataframes</p>\n"
   ]
  },
  {
   "cell_type": "code",
   "execution_count": null,
   "id": "cf0c58c5-1da2-4960-a1e1-29e50cb892ba",
   "metadata": {
    "ExecuteTime": {
     "end_time": "2025-10-03T22:37:13.345230Z",
     "start_time": "2025-10-03T22:37:13.332331Z"
    },
    "id": "cf0c58c5-1da2-4960-a1e1-29e50cb892ba",
    "vscode": {
     "languageId": "r"
    }
   },
   "outputs": [],
   "source": [
    "class CategoryEncoder:\n",
    "    def __init__(\n",
    "            self,\n",
    "            datasets: List[pd.DataFrame],\n",
    "            handle_with: Dict[str, str],\n",
    "    ) -> None:\n",
    "        self.datasets = datasets\n",
    "        self.handle_with = handle_with\n",
    "\n",
    "    def strategy(self, df: pd.DataFrame, col: str, strat: str) -> pd.DataFrame:\n",
    "        match strat:\n",
    "            case 'label_encode':\n",
    "                series = df[col].astype('category').cat.codes\n",
    "                df[col] = series\n",
    "            case 'one_hot_encode':\n",
    "                data = pd.get_dummies(\n",
    "                    df[col],\n",
    "                    columns=list(df[col].unique())\n",
    "                ).astype(int)\n",
    "                df = pd.concat([df, data], axis=1)\n",
    "                df = df.drop(col, axis=1)\n",
    "            case 'drop':\n",
    "                df = df.drop(col, axis=1)\n",
    "            case _:\n",
    "                raise ValueError()\n",
    "\n",
    "        return df\n",
    "\n",
    "    def encode(self) -> List[pd.DataFrame]:\n",
    "        \"\"\"\n",
    "        Encode categorical columns to integer.\n",
    "        :return: A tuple of data frames\n",
    "        \"\"\"\n",
    "\n",
    "        datasets = []\n",
    "\n",
    "        for dataset in self.datasets:\n",
    "            for col, strat in self.handle_with.items():\n",
    "                dataset = self.strategy(dataset, col, strat)\n",
    "            datasets.append(dataset)\n",
    "\n",
    "        return datasets"
   ]
  },
  {
   "cell_type": "code",
   "execution_count": null,
   "id": "eca0ff4c-7fc9-4fa6-a9d0-2d18f0594c3d",
   "metadata": {
    "ExecuteTime": {
     "end_time": "2025-10-03T22:37:13.379577Z",
     "start_time": "2025-10-03T22:37:13.357032Z"
    },
    "colab": {
     "base_uri": "https://localhost:8080/",
     "height": 272
    },
    "id": "eca0ff4c-7fc9-4fa6-a9d0-2d18f0594c3d",
    "outputId": "599612e5-eb70-480d-e73f-e5dfeb57a6e2",
    "vscode": {
     "languageId": "r"
    }
   },
   "outputs": [],
   "source": [
    "# First five rows from the clean train x.\n",
    "clean_train_x.head()"
   ]
  },
  {
   "cell_type": "code",
   "execution_count": null,
   "id": "a66e4adf-98d5-4c3f-89d3-36b285f36b01",
   "metadata": {
    "ExecuteTime": {
     "end_time": "2025-10-03T22:37:13.405955Z",
     "start_time": "2025-10-03T22:37:13.390858Z"
    },
    "colab": {
     "base_uri": "https://localhost:8080/",
     "height": 238
    },
    "id": "a66e4adf-98d5-4c3f-89d3-36b285f36b01",
    "outputId": "c6c23d8a-6666-4d66-db1c-65e29187999c",
    "vscode": {
     "languageId": "r"
    }
   },
   "outputs": [],
   "source": [
    "# Exclude the int and float from the data.\n",
    "cat_df = clean_train_x.select_dtypes(exclude=[int, float])\n",
    "cat_df.head()"
   ]
  },
  {
   "cell_type": "code",
   "execution_count": null,
   "id": "0184a184-33b9-491a-a7ed-5d84996652bd",
   "metadata": {
    "ExecuteTime": {
     "end_time": "2025-10-03T22:37:13.429458Z",
     "start_time": "2025-10-03T22:37:13.419076Z"
    },
    "colab": {
     "base_uri": "https://localhost:8080/"
    },
    "id": "0184a184-33b9-491a-a7ed-5d84996652bd",
    "outputId": "b7b7f9de-2ae1-468b-d90f-1dd811b28475",
    "vscode": {
     "languageId": "r"
    }
   },
   "outputs": [],
   "source": [
    "# Fetch the categorical columns.\n",
    "cat_columns = list(cat_df.columns)\n",
    "cat_columns"
   ]
  },
  {
   "cell_type": "markdown",
   "id": "34387b53-4a71-48fa-a3b6-978c49b8d9c6",
   "metadata": {
    "id": "34387b53-4a71-48fa-a3b6-978c49b8d9c6"
   },
   "source": [
    "Check for columns with high cardinality column in the data.\n"
   ]
  },
  {
   "cell_type": "code",
   "execution_count": null,
   "id": "5219b3ce-592a-4173-8d2d-943f9d9b7146",
   "metadata": {
    "ExecuteTime": {
     "end_time": "2025-10-03T22:37:13.455970Z",
     "start_time": "2025-10-03T22:37:13.443630Z"
    },
    "colab": {
     "base_uri": "https://localhost:8080/",
     "height": 210
    },
    "id": "5219b3ce-592a-4173-8d2d-943f9d9b7146",
    "outputId": "49c8e981-82d0-48be-e686-8fcbec7cf856",
    "vscode": {
     "languageId": "r"
    }
   },
   "outputs": [],
   "source": [
    "clean_train_x[cat_columns].nunique()"
   ]
  },
  {
   "cell_type": "code",
   "execution_count": null,
   "id": "IL7kBIALo20Z",
   "metadata": {
    "ExecuteTime": {
     "end_time": "2025-10-03T22:37:13.529582Z",
     "start_time": "2025-10-03T22:37:13.468165Z"
    },
    "id": "IL7kBIALo20Z",
    "vscode": {
     "languageId": "r"
    }
   },
   "outputs": [],
   "source": [
    "# Instantiate the CategoryEncoder\n",
    "encoder = CategoryEncoder(\n",
    "    [clean_train_x, clean_valid_x, clean_test_df],\n",
    "    {\n",
    "        \"Sex\": \"label_encode\",\n",
    "        \"Embarked\": \"one_hot_encode\",\n",
    "        \"Name\": \"drop\",\n",
    "        \"Ticket\": \"drop\"\n",
    "    }\n",
    ")\n",
    "\n",
    "# Encode the column\n",
    "num_train_x, num_valid_x, num_test_df = encoder.encode()"
   ]
  },
  {
   "cell_type": "code",
   "execution_count": null,
   "id": "FToJ4UKosTyc",
   "metadata": {
    "ExecuteTime": {
     "end_time": "2025-10-03T22:37:13.549701Z",
     "start_time": "2025-10-03T22:37:13.540020Z"
    },
    "colab": {
     "base_uri": "https://localhost:8080/",
     "height": 366
    },
    "id": "FToJ4UKosTyc",
    "outputId": "ed558dc5-e721-419c-bfb8-733b4d86eb13",
    "vscode": {
     "languageId": "r"
    }
   },
   "outputs": [],
   "source": [
    "num_train_x.dtypes"
   ]
  },
  {
   "cell_type": "markdown",
   "id": "ii49SEPHKcF5",
   "metadata": {
    "id": "ii49SEPHKcF5"
   },
   "source": [
    "## 7) **Data visualisation**\n",
    "\n",
    "<p>Represeting the data in graphical way like making chart</p>\n"
   ]
  },
  {
   "cell_type": "code",
   "execution_count": null,
   "id": "ulg7TDeg7bf-",
   "metadata": {
    "ExecuteTime": {
     "end_time": "2025-10-03T22:37:13.614363Z",
     "start_time": "2025-10-03T22:37:13.574220Z"
    },
    "colab": {
     "base_uri": "https://localhost:8080/",
     "height": 307
    },
    "id": "ulg7TDeg7bf-",
    "outputId": "2d2dda9e-95f3-400c-a4f3-484c77335fc1",
    "vscode": {
     "languageId": "r"
    }
   },
   "outputs": [],
   "source": [
    "visual_df = pd.concat([clean_train_x, clean_valid_x])\n",
    "visual_df['Survived'] = np.concatenate([train_y, valid_y])\n",
    "visual_df.head()"
   ]
  },
  {
   "cell_type": "code",
   "execution_count": null,
   "id": "UsL0fsm4MDiA",
   "metadata": {
    "ExecuteTime": {
     "end_time": "2025-10-04T00:37:08.071673Z",
     "start_time": "2025-10-04T00:37:07.856658Z"
    },
    "colab": {
     "base_uri": "https://localhost:8080/",
     "height": 519
    },
    "id": "UsL0fsm4MDiA",
    "outputId": "a0e79681-eb60-41c6-c949-fc0ecfe8ea19",
    "vscode": {
     "languageId": "r"
    }
   },
   "outputs": [],
   "source": [
    "alt.renderers.enable(\"html\")\n",
    "\n",
    "\n",
    "class Graph:\n",
    "    def __init__(\n",
    "        self, data: pd.DataFrame, map_values: Optional[Dict[str, Dict[str, Any]]] = None\n",
    "    ) -> None:\n",
    "        data = data.copy()\n",
    "\n",
    "        if map_values:\n",
    "            for key, value in map_values.items():\n",
    "                data[key] = data[key].map(lambda col: value[col])\n",
    "\n",
    "        self.__data = data\n",
    "\n",
    "    def setting_colors(\n",
    "        self, x: str, color: List[str] | str\n",
    "    ) -> Tuple[pd.DataFrame, alt.Color]:\n",
    "\n",
    "        # Color map.\n",
    "        if isinstance(color, list):\n",
    "            alt_color = (\n",
    "                alt.Color(x).scale(range=color, reverse=True).legend(orient=\"right\")\n",
    "            )\n",
    "        else:\n",
    "            alt_color = (\n",
    "                alt.Color(x).scale(scheme=color, reverse=True).legend(orient=\"right\")\n",
    "            )\n",
    "        return alt_color\n",
    "\n",
    "    def col_bar_char(\n",
    "        self,\n",
    "        x_column: str,\n",
    "        group_by: str,\n",
    "        color: List | str = \"paired\",\n",
    "        width: int = 200,\n",
    "        height: int = 200,\n",
    "        title: Optional[str] = None,\n",
    "        subtitle: Optional[str] = None,\n",
    "        x_title: str | None = None,\n",
    "        y_title: str | None = None,\n",
    "    ):\n",
    "        alt_color = self.setting_colors(x_column, color=color)\n",
    "\n",
    "        data = self.__data\n",
    "\n",
    "        x_title = x_title.title() if x_title else x_column.title()\n",
    "        y_title = y_title.title() if y_title else \"Number of Passengers\"\n",
    "\n",
    "        source = data.groupby(group_by)[x_column].value_counts().reset_index()\n",
    "\n",
    "        grouped_bars = (\n",
    "            alt.Chart(source)\n",
    "            .mark_bar(cornerRadius=10)\n",
    "            .encode(\n",
    "                x=alt.X(x_column, title=x_title),\n",
    "                y=alt.Y(\"count:Q\", title=y_title),\n",
    "                color=alt_color,\n",
    "                column=group_by,\n",
    "            )\n",
    "            .encode(\n",
    "                tooltip=[\n",
    "                    alt.Tooltip(x_column, title=x_title),\n",
    "                    alt.Tooltip(\"count\", title=y_title),\n",
    "                ],\n",
    "            )\n",
    "            .properties(\n",
    "                width=width,\n",
    "                height=height,\n",
    "                title=alt.Title(\n",
    "                    title if title else \"\",\n",
    "                    fontSize=18,\n",
    "                    subtitle=subtitle if subtitle else \"\",\n",
    "                    subtitleFontSize=12,\n",
    "                    # dy=-10,\n",
    "                ),\n",
    "            )\n",
    "        )\n",
    "\n",
    "        return grouped_bars\n",
    "\n",
    "    def bar_chart(\n",
    "        self,\n",
    "        x_column: str,\n",
    "        color: List | str = \"paired\",\n",
    "        width: int = 200,\n",
    "        height: int = 200,\n",
    "        title: Optional[str] = None,\n",
    "        subtitle: Optional[str] = None,\n",
    "        x_title: str | None = None,\n",
    "        y_title: str | None = None,\n",
    "    ) -> alt.ChartDataType:  # Make copy then change column data to str\n",
    "\n",
    "        alt_color = self.setting_colors(x_column, color=color)\n",
    "\n",
    "        data = self.__data\n",
    "\n",
    "        x_title = x_title.title() if x_title else x_column.title()\n",
    "        y_title = y_title.title() if y_title else \"Number of Passengers\"\n",
    "\n",
    "        # Return the alt chart\n",
    "        bar_layer = (\n",
    "            alt.Chart(data)\n",
    "            .mark_bar(cornerRadius=10)\n",
    "            .encode(\n",
    "                x=alt.X(\n",
    "                    x_column,\n",
    "                    title=x_title,\n",
    "                    axis=alt.Axis(grid=False, labelFontWeight=\"bold\"),\n",
    "                ),\n",
    "                y=alt.Y(\n",
    "                    \"count()\",\n",
    "                    title=y_title,\n",
    "                    axis=alt.Axis(grid=False, labelFontWeight=\"bold\"),\n",
    "                ),\n",
    "                color=alt_color.legend(orient=\"right\"),\n",
    "                tooltip=[\n",
    "                    alt.Tooltip(x_column, title=x_title),\n",
    "                    alt.Tooltip(\"count()\", title=y_title),\n",
    "                ],\n",
    "            )\n",
    "            .properties(\n",
    "                width=width,\n",
    "                height=height,\n",
    "                title=alt.Title(\n",
    "                    title if title else \"\",\n",
    "                    fontSize=18,\n",
    "                    subtitle=subtitle if subtitle else \"\",\n",
    "                    subtitleFontSize=12,\n",
    "                    # dy=-10,\n",
    "                ),\n",
    "            )\n",
    "        )\n",
    "\n",
    "        text_layer = (\n",
    "            alt.Chart(data)\n",
    "            .mark_text(\n",
    "                align=\"center\",\n",
    "                baseline=\"bottom\",  # Align text to the bottom of its bounding box\n",
    "                dy=-5,  # Adjust vertical position (negative for above the bar)\n",
    "                fontSize=12,\n",
    "                fontWeight=\"bold\",\n",
    "            )\n",
    "            .encode(x=x_column, y=\"count()\", text=alt.Text(\"count()\"))\n",
    "        )\n",
    "\n",
    "        return bar_layer + text_layer  # .configure_view(\n",
    "\n",
    "    def donut_chart(\n",
    "        self,\n",
    "        x: str,\n",
    "        inner_radius: int = 50,\n",
    "        color: List | str = \"paired\",\n",
    "        width: int = 200,\n",
    "        height: int = 200,\n",
    "    ) -> alt.ChartDataType:\n",
    "\n",
    "        data = self.__data\n",
    "\n",
    "        value_counts = data[x].value_counts().reset_index()\n",
    "        value_counts[\"count\"] = (value_counts[\"count\"] / data.shape[0]).round(3)\n",
    "\n",
    "        donut_chart = (\n",
    "            alt.Chart(value_counts)\n",
    "            .mark_arc(innerRadius=inner_radius)\n",
    "            .encode(\n",
    "                theta=\"count\",\n",
    "                color=f\"{x}:N\",\n",
    "                tooltip=[\n",
    "                    alt.Tooltip(f\"{x}\".title()),\n",
    "                    alt.Tooltip(\"count\", title=\"Percentage\"),\n",
    "                ],\n",
    "            )\n",
    "            .properties(\n",
    "                width=width,\n",
    "                height=height,\n",
    "            )\n",
    "        )\n",
    "        return donut_chart\n",
    "\n",
    "    def scatter_chart(\n",
    "        self,\n",
    "        x: str,\n",
    "        y: str,\n",
    "        color_with: Optional[str] = None,\n",
    "        width: int = 300,\n",
    "        height: int = 300,\n",
    "        title: Optional[str] = None,\n",
    "        subtitle: Optional[str] = None,\n",
    "        color: List[str] | str = \"dark2\",\n",
    "    ):\n",
    "        alt_color = None\n",
    "\n",
    "        if color_with:\n",
    "            alt_color = self.setting_colors(color_with, color=color)\n",
    "\n",
    "        tooltips = (\n",
    "            [alt.Tooltip(x), alt.Tooltip(y), alt.Tooltip(color_with)]\n",
    "            if color_with\n",
    "            else [alt.Tooltip(x), alt.Tooltip(y)]\n",
    "        )\n",
    "\n",
    "        encode_param = (\n",
    "            dict(x=\"%s:Q\" % x, y=\"%s:Q\" % y, color=alt_color, tooltip=tooltips)\n",
    "            if color_with\n",
    "            else dict(x=\"%s:Q\" % x, y=\"%s:Q\" % y, tooltip=tooltips)\n",
    "        )\n",
    "\n",
    "        data = self.__data\n",
    "\n",
    "        # Scatter Plot\n",
    "        points = (\n",
    "            alt.Chart(data)\n",
    "            .mark_point()\n",
    "            .encode(**encode_param)\n",
    "            .properties(\n",
    "                width=width,\n",
    "                height=height,\n",
    "                title=alt.Title(\n",
    "                    title if title else \"\",\n",
    "                    fontSize=18,\n",
    "                    subtitle=subtitle if subtitle else \"\",\n",
    "                    subtitleFontSize=12,\n",
    "                ),\n",
    "            )\n",
    "        )\n",
    "\n",
    "        points = points.configure_view(stroke=None)\n",
    "\n",
    "        return points\n",
    "\n",
    "    def concat(\n",
    "        self,\n",
    "        *args,\n",
    "        use: Literal[\"vconcat\", \"hconcat\"] = \"vconcat\",\n",
    "        show_stroke: bool = False,\n",
    "    ):\n",
    "        if use == \"vconcat\":\n",
    "            if show_stroke:\n",
    "                return alt.vconcat(*args)\n",
    "            return alt.vconcat(*args).configure_view(stroke=None)\n",
    "        elif use == \"hconcat\":\n",
    "            if show_stroke:\n",
    "                return alt.hconcat(*args)\n",
    "            return alt.hconcat(*args).configure_view(stroke=None)\n",
    "        else:\n",
    "            raise ValueError(\"Received invalid value `%s`\" % use)\n",
    "\n",
    "\n",
    "graph = Graph(\n",
    "    visual_df,\n",
    "    map_values={\n",
    "        \"Sex\": {0: \"Female (0)\", 1: \"Male (1)\"},\n",
    "        \"Survived\": {0: \"Didn't survive\", 1: \"survived\"},\n",
    "    },\n",
    ")\n",
    "graph.bar_chart(\"Embarked\")\n",
    "donut = graph.donut_chart(\"Embarked\")\n",
    "col_bar = graph.scatter_chart(\n",
    "    \"Age\", \"Fare\", color_with=\"Survived\", color=[\"red\", \"blue\"]\n",
    ")\n",
    "col_bar\n",
    "\n",
    "# hconcat = graph.concat(bar, donut, use=\"hconcat\", show_stroke=True)\n",
    "# graph.concat(hconcat, col_bar, use=\"vconcat\")\n",
    "# col_bar"
   ]
  },
  {
   "cell_type": "code",
   "execution_count": null,
   "id": "bd2a59f4-34c0-495a-bb70-191118b83d74",
   "metadata": {
    "ExecuteTime": {
     "end_time": "2025-10-03T22:37:14.143567Z",
     "start_time": "2025-10-03T22:37:14.126763Z"
    },
    "vscode": {
     "languageId": "r"
    }
   },
   "outputs": [],
   "source": [
    "x = clean_train_x['Embarked'].value_counts().reset_index()\n",
    "x[\"count\"] = (x[\"count\"] / clean_train_x.shape[0]).round(3)"
   ]
  },
  {
   "cell_type": "code",
   "execution_count": null,
   "id": "45398cfb-bf8c-400c-aaa4-3f7d02cae801",
   "metadata": {
    "ExecuteTime": {
     "end_time": "2025-10-04T00:06:14.155314Z",
     "start_time": "2025-10-04T00:06:14.068928Z"
    },
    "vscode": {
     "languageId": "r"
    }
   },
   "outputs": [],
   "source": []
  },
  {
   "cell_type": "code",
   "execution_count": null,
   "id": "d2eaef2a-93ed-408a-a08e-f861247edeb1",
   "metadata": {
    "ExecuteTime": {
     "end_time": "2025-10-03T22:37:14.279492Z",
     "start_time": "2025-10-03T22:37:14.274489Z"
    },
    "vscode": {
     "languageId": "r"
    }
   },
   "outputs": [],
   "source": []
  },
  {
   "cell_type": "code",
   "execution_count": null,
   "id": "af27aa4c-89ac-4139-a713-5665113fe923",
   "metadata": {
    "vscode": {
     "languageId": "r"
    }
   },
   "outputs": [],
   "source": []
  }
 ],
 "metadata": {
  "colab": {
   "provenance": []
  },
  "kernelspec": {
   "display_name": "R",
   "language": "R",
   "name": "ir"
  },
  "language_info": {
   "codemirror_mode": "r",
   "file_extension": ".r",
   "mimetype": "text/x-r-source",
   "name": "R",
   "pygments_lexer": "r",
   "version": "4.5.1"
  }
 },
 "nbformat": 4,
 "nbformat_minor": 5
}
