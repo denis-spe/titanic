{
 "cells": [
  {
   "cell_type": "markdown",
   "id": "acce7b91-ba73-409b-88fb-5cc92445d37a",
   "metadata": {
    "id": "acce7b91-ba73-409b-88fb-5cc92445d37a"
   },
   "source": [
    "<h1 style=\"font-weight: bold;\">Titanic Survival</h1>"
   ]
  },
  {
   "cell_type": "markdown",
   "id": "d50c0a95-60e6-4b7a-bfeb-75eb054d7254",
   "metadata": {
    "id": "d50c0a95-60e6-4b7a-bfeb-75eb054d7254"
   },
   "source": [
    "## 1) **Import libraries**\n",
    "load the libraries to be used in the notebook"
   ]
  },
  {
   "cell_type": "code",
   "execution_count": 1,
   "id": "23bde1d6-666d-4099-928a-a72ffe730798",
   "metadata": {
    "ExecuteTime": {
     "end_time": "2025-05-27T10:49:39.429235Z",
     "start_time": "2025-05-27T10:49:39.417498Z"
    },
    "id": "23bde1d6-666d-4099-928a-a72ffe730798"
   },
   "outputs": [],
   "source": [
    "import os\n",
    "import pandas as pd\n",
    "import pprint\n",
    "import numpy as np\n",
    "import altair as alt\n",
    "from typing import List, Any, Dict, Tuple, Literal\n",
    "from sklearn.model_selection import train_test_split"
   ]
  },
  {
   "cell_type": "code",
   "execution_count": 2,
   "id": "AJhL9958h7rT",
   "metadata": {
    "ExecuteTime": {
     "end_time": "2025-05-27T10:49:39.658714Z",
     "start_time": "2025-05-27T10:49:39.646710Z"
    },
    "colab": {
     "base_uri": "https://localhost:8080/"
    },
    "id": "AJhL9958h7rT",
    "outputId": "ac0bdafc-032d-4553-9038-21f3ccccafdd"
   },
   "outputs": [],
   "source": [
    "try:\n",
    "   from google.colab import drive\n",
    "   drive.mount(\"content\")\n",
    "   is_running_on_colab = True\n",
    "except ImportError:\n",
    "   is_running_on_colab = False"
   ]
  },
  {
   "cell_type": "markdown",
   "id": "796f2577-cd2f-4130-a2a9-35d768495f9a",
   "metadata": {
    "id": "796f2577-cd2f-4130-a2a9-35d768495f9a"
   },
   "source": [
    "## 2) **Setting notebook**"
   ]
  },
  {
   "cell_type": "code",
   "execution_count": 3,
   "id": "af3ad461-d57d-46d1-96d5-f62e51fd6d86",
   "metadata": {
    "ExecuteTime": {
     "end_time": "2025-05-27T10:50:53.422484Z",
     "start_time": "2025-05-27T10:50:53.416174Z"
    },
    "id": "af3ad461-d57d-46d1-96d5-f62e51fd6d86"
   },
   "outputs": [],
   "source": [
    "\n",
    "if not is_running_on_colab:\n",
    "    alt.renderers.enable('mimetype')\n",
    "else:\n",
    "    alt.renderers.enable('html')\n"
   ]
  },
  {
   "cell_type": "markdown",
   "id": "de696c32-e12b-4ac1-b39f-d2798415ded0",
   "metadata": {
    "id": "de696c32-e12b-4ac1-b39f-d2798415ded0"
   },
   "source": [
    "## 3) **Load the data**\n",
    "<p>Load the csv file to pandas dataframe</p>"
   ]
  },
  {
   "cell_type": "code",
   "execution_count": 4,
   "id": "11a39d04-d424-4ef9-bfc1-e5250b05dc9f",
   "metadata": {
    "ExecuteTime": {
     "end_time": "2025-05-27T10:49:41.971003Z",
     "start_time": "2025-05-27T10:49:40.817408Z"
    },
    "id": "11a39d04-d424-4ef9-bfc1-e5250b05dc9f"
   },
   "outputs": [],
   "source": [
    "folder_path = None\n",
    "if os.path.exists('./data/'):\n",
    "    folder_path = './data/'\n",
    "elif os.path.exists('content/MyDrive/Datasets/titanic_data'):\n",
    "    folder_path = 'content/MyDrive/Datasets/titanic_data'\n",
    "else:\n",
    "    raise ValueError(\"Unable to find titanic train and test csv files\")\n",
    "\n",
    "train_path = os.path.join(folder_path, \"train.csv\")\n",
    "test_path = os.path.join(folder_path, \"test.csv\")"
   ]
  },
  {
   "cell_type": "code",
   "execution_count": 5,
   "id": "4ea8a195-e2de-4952-83df-0348ca524056",
   "metadata": {
    "ExecuteTime": {
     "end_time": "2025-05-27T10:49:42.420979Z",
     "start_time": "2025-05-27T10:49:42.245650Z"
    },
    "id": "4ea8a195-e2de-4952-83df-0348ca524056"
   },
   "outputs": [],
   "source": [
    "# Set the PassengerId column as index column.\n",
    "index_col = 'PassengerId'\n",
    "\n",
    "# Load the train and test dataframe.\n",
    "train_df = pd.read_csv(train_path, index_col=index_col)\n",
    "test_df = pd.read_csv(test_path, index_col=index_col)"
   ]
  },
  {
   "cell_type": "markdown",
   "id": "ca31e43e-f0b2-49f6-805a-d5db7b9103d7",
   "metadata": {
    "id": "ca31e43e-f0b2-49f6-805a-d5db7b9103d7"
   },
   "source": [
    "## 4) **Data statistics**\n",
    "<p>Analyse train and test dataframe</p>"
   ]
  },
  {
   "cell_type": "markdown",
   "id": "b0b5ee84-3674-4b58-b4f9-ebb4d980b920",
   "metadata": {
    "id": "b0b5ee84-3674-4b58-b4f9-ebb4d980b920"
   },
   "source": [
    "### i) Rows in train data\n",
    "<p>View train dataframe top and bottom rows</p>"
   ]
  },
  {
   "cell_type": "code",
   "execution_count": 6,
   "id": "3908408e-84a6-4225-9345-a7da8a7f7081",
   "metadata": {
    "ExecuteTime": {
     "end_time": "2025-05-27T10:49:43.300390Z",
     "start_time": "2025-05-27T10:49:43.114021Z"
    },
    "colab": {
     "base_uri": "https://localhost:8080/",
     "height": 535
    },
    "id": "3908408e-84a6-4225-9345-a7da8a7f7081",
    "outputId": "ca2868ed-3caa-459e-d7a1-22d5095359e2"
   },
   "outputs": [
    {
     "data": {
      "text/html": [
       "<div>\n",
       "<style scoped>\n",
       "    .dataframe tbody tr th:only-of-type {\n",
       "        vertical-align: middle;\n",
       "    }\n",
       "\n",
       "    .dataframe tbody tr th {\n",
       "        vertical-align: top;\n",
       "    }\n",
       "\n",
       "    .dataframe thead th {\n",
       "        text-align: right;\n",
       "    }\n",
       "</style>\n",
       "<table border=\"1\" class=\"dataframe\">\n",
       "  <thead>\n",
       "    <tr style=\"text-align: right;\">\n",
       "      <th></th>\n",
       "      <th>Survived</th>\n",
       "      <th>Pclass</th>\n",
       "      <th>Name</th>\n",
       "      <th>Sex</th>\n",
       "      <th>Age</th>\n",
       "      <th>SibSp</th>\n",
       "      <th>Parch</th>\n",
       "      <th>Ticket</th>\n",
       "      <th>Fare</th>\n",
       "      <th>Cabin</th>\n",
       "      <th>Embarked</th>\n",
       "    </tr>\n",
       "    <tr>\n",
       "      <th>PassengerId</th>\n",
       "      <th></th>\n",
       "      <th></th>\n",
       "      <th></th>\n",
       "      <th></th>\n",
       "      <th></th>\n",
       "      <th></th>\n",
       "      <th></th>\n",
       "      <th></th>\n",
       "      <th></th>\n",
       "      <th></th>\n",
       "      <th></th>\n",
       "    </tr>\n",
       "  </thead>\n",
       "  <tbody>\n",
       "    <tr>\n",
       "      <th>1</th>\n",
       "      <td>0</td>\n",
       "      <td>3</td>\n",
       "      <td>Braund, Mr. Owen Harris</td>\n",
       "      <td>male</td>\n",
       "      <td>22.0</td>\n",
       "      <td>1</td>\n",
       "      <td>0</td>\n",
       "      <td>A/5 21171</td>\n",
       "      <td>7.2500</td>\n",
       "      <td>NaN</td>\n",
       "      <td>S</td>\n",
       "    </tr>\n",
       "    <tr>\n",
       "      <th>2</th>\n",
       "      <td>1</td>\n",
       "      <td>1</td>\n",
       "      <td>Cumings, Mrs. John Bradley (Florence Briggs Th...</td>\n",
       "      <td>female</td>\n",
       "      <td>38.0</td>\n",
       "      <td>1</td>\n",
       "      <td>0</td>\n",
       "      <td>PC 17599</td>\n",
       "      <td>71.2833</td>\n",
       "      <td>C85</td>\n",
       "      <td>C</td>\n",
       "    </tr>\n",
       "    <tr>\n",
       "      <th>3</th>\n",
       "      <td>1</td>\n",
       "      <td>3</td>\n",
       "      <td>Heikkinen, Miss. Laina</td>\n",
       "      <td>female</td>\n",
       "      <td>26.0</td>\n",
       "      <td>0</td>\n",
       "      <td>0</td>\n",
       "      <td>STON/O2. 3101282</td>\n",
       "      <td>7.9250</td>\n",
       "      <td>NaN</td>\n",
       "      <td>S</td>\n",
       "    </tr>\n",
       "    <tr>\n",
       "      <th>4</th>\n",
       "      <td>1</td>\n",
       "      <td>1</td>\n",
       "      <td>Futrelle, Mrs. Jacques Heath (Lily May Peel)</td>\n",
       "      <td>female</td>\n",
       "      <td>35.0</td>\n",
       "      <td>1</td>\n",
       "      <td>0</td>\n",
       "      <td>113803</td>\n",
       "      <td>53.1000</td>\n",
       "      <td>C123</td>\n",
       "      <td>S</td>\n",
       "    </tr>\n",
       "    <tr>\n",
       "      <th>5</th>\n",
       "      <td>0</td>\n",
       "      <td>3</td>\n",
       "      <td>Allen, Mr. William Henry</td>\n",
       "      <td>male</td>\n",
       "      <td>35.0</td>\n",
       "      <td>0</td>\n",
       "      <td>0</td>\n",
       "      <td>373450</td>\n",
       "      <td>8.0500</td>\n",
       "      <td>NaN</td>\n",
       "      <td>S</td>\n",
       "    </tr>\n",
       "  </tbody>\n",
       "</table>\n",
       "</div>"
      ],
      "text/plain": [
       "             Survived  Pclass  \\\n",
       "PassengerId                     \n",
       "1                   0       3   \n",
       "2                   1       1   \n",
       "3                   1       3   \n",
       "4                   1       1   \n",
       "5                   0       3   \n",
       "\n",
       "                                                          Name     Sex   Age  \\\n",
       "PassengerId                                                                    \n",
       "1                                      Braund, Mr. Owen Harris    male  22.0   \n",
       "2            Cumings, Mrs. John Bradley (Florence Briggs Th...  female  38.0   \n",
       "3                                       Heikkinen, Miss. Laina  female  26.0   \n",
       "4                 Futrelle, Mrs. Jacques Heath (Lily May Peel)  female  35.0   \n",
       "5                                     Allen, Mr. William Henry    male  35.0   \n",
       "\n",
       "             SibSp  Parch            Ticket     Fare Cabin Embarked  \n",
       "PassengerId                                                          \n",
       "1                1      0         A/5 21171   7.2500   NaN        S  \n",
       "2                1      0          PC 17599  71.2833   C85        C  \n",
       "3                0      0  STON/O2. 3101282   7.9250   NaN        S  \n",
       "4                1      0            113803  53.1000  C123        S  \n",
       "5                0      0            373450   8.0500   NaN        S  "
      ]
     },
     "execution_count": 6,
     "metadata": {},
     "output_type": "execute_result"
    }
   ],
   "source": [
    "# First five rows in train data.\n",
    "train_df.head()"
   ]
  },
  {
   "cell_type": "code",
   "execution_count": 7,
   "id": "8a52e0f5-1267-4775-a373-501320697db7",
   "metadata": {
    "ExecuteTime": {
     "end_time": "2025-05-27T10:49:45.041154Z",
     "start_time": "2025-05-27T10:49:44.959135Z"
    },
    "colab": {
     "base_uri": "https://localhost:8080/",
     "height": 483
    },
    "id": "8a52e0f5-1267-4775-a373-501320697db7",
    "outputId": "91811e83-329f-4e06-c499-5786a27fc8ed"
   },
   "outputs": [
    {
     "data": {
      "text/html": [
       "<div>\n",
       "<style scoped>\n",
       "    .dataframe tbody tr th:only-of-type {\n",
       "        vertical-align: middle;\n",
       "    }\n",
       "\n",
       "    .dataframe tbody tr th {\n",
       "        vertical-align: top;\n",
       "    }\n",
       "\n",
       "    .dataframe thead th {\n",
       "        text-align: right;\n",
       "    }\n",
       "</style>\n",
       "<table border=\"1\" class=\"dataframe\">\n",
       "  <thead>\n",
       "    <tr style=\"text-align: right;\">\n",
       "      <th></th>\n",
       "      <th>Survived</th>\n",
       "      <th>Pclass</th>\n",
       "      <th>Name</th>\n",
       "      <th>Sex</th>\n",
       "      <th>Age</th>\n",
       "      <th>SibSp</th>\n",
       "      <th>Parch</th>\n",
       "      <th>Ticket</th>\n",
       "      <th>Fare</th>\n",
       "      <th>Cabin</th>\n",
       "      <th>Embarked</th>\n",
       "    </tr>\n",
       "    <tr>\n",
       "      <th>PassengerId</th>\n",
       "      <th></th>\n",
       "      <th></th>\n",
       "      <th></th>\n",
       "      <th></th>\n",
       "      <th></th>\n",
       "      <th></th>\n",
       "      <th></th>\n",
       "      <th></th>\n",
       "      <th></th>\n",
       "      <th></th>\n",
       "      <th></th>\n",
       "    </tr>\n",
       "  </thead>\n",
       "  <tbody>\n",
       "    <tr>\n",
       "      <th>887</th>\n",
       "      <td>0</td>\n",
       "      <td>2</td>\n",
       "      <td>Montvila, Rev. Juozas</td>\n",
       "      <td>male</td>\n",
       "      <td>27.0</td>\n",
       "      <td>0</td>\n",
       "      <td>0</td>\n",
       "      <td>211536</td>\n",
       "      <td>13.00</td>\n",
       "      <td>NaN</td>\n",
       "      <td>S</td>\n",
       "    </tr>\n",
       "    <tr>\n",
       "      <th>888</th>\n",
       "      <td>1</td>\n",
       "      <td>1</td>\n",
       "      <td>Graham, Miss. Margaret Edith</td>\n",
       "      <td>female</td>\n",
       "      <td>19.0</td>\n",
       "      <td>0</td>\n",
       "      <td>0</td>\n",
       "      <td>112053</td>\n",
       "      <td>30.00</td>\n",
       "      <td>B42</td>\n",
       "      <td>S</td>\n",
       "    </tr>\n",
       "    <tr>\n",
       "      <th>889</th>\n",
       "      <td>0</td>\n",
       "      <td>3</td>\n",
       "      <td>Johnston, Miss. Catherine Helen \"Carrie\"</td>\n",
       "      <td>female</td>\n",
       "      <td>NaN</td>\n",
       "      <td>1</td>\n",
       "      <td>2</td>\n",
       "      <td>W./C. 6607</td>\n",
       "      <td>23.45</td>\n",
       "      <td>NaN</td>\n",
       "      <td>S</td>\n",
       "    </tr>\n",
       "    <tr>\n",
       "      <th>890</th>\n",
       "      <td>1</td>\n",
       "      <td>1</td>\n",
       "      <td>Behr, Mr. Karl Howell</td>\n",
       "      <td>male</td>\n",
       "      <td>26.0</td>\n",
       "      <td>0</td>\n",
       "      <td>0</td>\n",
       "      <td>111369</td>\n",
       "      <td>30.00</td>\n",
       "      <td>C148</td>\n",
       "      <td>C</td>\n",
       "    </tr>\n",
       "    <tr>\n",
       "      <th>891</th>\n",
       "      <td>0</td>\n",
       "      <td>3</td>\n",
       "      <td>Dooley, Mr. Patrick</td>\n",
       "      <td>male</td>\n",
       "      <td>32.0</td>\n",
       "      <td>0</td>\n",
       "      <td>0</td>\n",
       "      <td>370376</td>\n",
       "      <td>7.75</td>\n",
       "      <td>NaN</td>\n",
       "      <td>Q</td>\n",
       "    </tr>\n",
       "  </tbody>\n",
       "</table>\n",
       "</div>"
      ],
      "text/plain": [
       "             Survived  Pclass                                      Name  \\\n",
       "PassengerId                                                               \n",
       "887                 0       2                     Montvila, Rev. Juozas   \n",
       "888                 1       1              Graham, Miss. Margaret Edith   \n",
       "889                 0       3  Johnston, Miss. Catherine Helen \"Carrie\"   \n",
       "890                 1       1                     Behr, Mr. Karl Howell   \n",
       "891                 0       3                       Dooley, Mr. Patrick   \n",
       "\n",
       "                Sex   Age  SibSp  Parch      Ticket   Fare Cabin Embarked  \n",
       "PassengerId                                                                \n",
       "887            male  27.0      0      0      211536  13.00   NaN        S  \n",
       "888          female  19.0      0      0      112053  30.00   B42        S  \n",
       "889          female   NaN      1      2  W./C. 6607  23.45   NaN        S  \n",
       "890            male  26.0      0      0      111369  30.00  C148        C  \n",
       "891            male  32.0      0      0      370376   7.75   NaN        Q  "
      ]
     },
     "execution_count": 7,
     "metadata": {},
     "output_type": "execute_result"
    }
   ],
   "source": [
    "# First five rows in test data.\n",
    "train_df.tail()"
   ]
  },
  {
   "cell_type": "markdown",
   "id": "0536c4fb-2038-461a-8ba2-61ba88075b32",
   "metadata": {
    "id": "0536c4fb-2038-461a-8ba2-61ba88075b32"
   },
   "source": [
    "### ii) Rows in test data\n",
    "<p>View test dataframe top and bottom rows</p>"
   ]
  },
  {
   "cell_type": "code",
   "execution_count": 8,
   "id": "88078d46-6871-4db1-81d8-8b514b2eaa9b",
   "metadata": {
    "ExecuteTime": {
     "end_time": "2025-05-27T10:49:47.157155Z",
     "start_time": "2025-05-27T10:49:47.089283Z"
    },
    "colab": {
     "base_uri": "https://localhost:8080/",
     "height": 483
    },
    "id": "88078d46-6871-4db1-81d8-8b514b2eaa9b",
    "outputId": "859af79c-0546-4617-aa00-0562f24b89af"
   },
   "outputs": [
    {
     "data": {
      "text/html": [
       "<div>\n",
       "<style scoped>\n",
       "    .dataframe tbody tr th:only-of-type {\n",
       "        vertical-align: middle;\n",
       "    }\n",
       "\n",
       "    .dataframe tbody tr th {\n",
       "        vertical-align: top;\n",
       "    }\n",
       "\n",
       "    .dataframe thead th {\n",
       "        text-align: right;\n",
       "    }\n",
       "</style>\n",
       "<table border=\"1\" class=\"dataframe\">\n",
       "  <thead>\n",
       "    <tr style=\"text-align: right;\">\n",
       "      <th></th>\n",
       "      <th>Pclass</th>\n",
       "      <th>Name</th>\n",
       "      <th>Sex</th>\n",
       "      <th>Age</th>\n",
       "      <th>SibSp</th>\n",
       "      <th>Parch</th>\n",
       "      <th>Ticket</th>\n",
       "      <th>Fare</th>\n",
       "      <th>Cabin</th>\n",
       "      <th>Embarked</th>\n",
       "    </tr>\n",
       "    <tr>\n",
       "      <th>PassengerId</th>\n",
       "      <th></th>\n",
       "      <th></th>\n",
       "      <th></th>\n",
       "      <th></th>\n",
       "      <th></th>\n",
       "      <th></th>\n",
       "      <th></th>\n",
       "      <th></th>\n",
       "      <th></th>\n",
       "      <th></th>\n",
       "    </tr>\n",
       "  </thead>\n",
       "  <tbody>\n",
       "    <tr>\n",
       "      <th>892</th>\n",
       "      <td>3</td>\n",
       "      <td>Kelly, Mr. James</td>\n",
       "      <td>male</td>\n",
       "      <td>34.5</td>\n",
       "      <td>0</td>\n",
       "      <td>0</td>\n",
       "      <td>330911</td>\n",
       "      <td>7.8292</td>\n",
       "      <td>NaN</td>\n",
       "      <td>Q</td>\n",
       "    </tr>\n",
       "    <tr>\n",
       "      <th>893</th>\n",
       "      <td>3</td>\n",
       "      <td>Wilkes, Mrs. James (Ellen Needs)</td>\n",
       "      <td>female</td>\n",
       "      <td>47.0</td>\n",
       "      <td>1</td>\n",
       "      <td>0</td>\n",
       "      <td>363272</td>\n",
       "      <td>7.0000</td>\n",
       "      <td>NaN</td>\n",
       "      <td>S</td>\n",
       "    </tr>\n",
       "    <tr>\n",
       "      <th>894</th>\n",
       "      <td>2</td>\n",
       "      <td>Myles, Mr. Thomas Francis</td>\n",
       "      <td>male</td>\n",
       "      <td>62.0</td>\n",
       "      <td>0</td>\n",
       "      <td>0</td>\n",
       "      <td>240276</td>\n",
       "      <td>9.6875</td>\n",
       "      <td>NaN</td>\n",
       "      <td>Q</td>\n",
       "    </tr>\n",
       "    <tr>\n",
       "      <th>895</th>\n",
       "      <td>3</td>\n",
       "      <td>Wirz, Mr. Albert</td>\n",
       "      <td>male</td>\n",
       "      <td>27.0</td>\n",
       "      <td>0</td>\n",
       "      <td>0</td>\n",
       "      <td>315154</td>\n",
       "      <td>8.6625</td>\n",
       "      <td>NaN</td>\n",
       "      <td>S</td>\n",
       "    </tr>\n",
       "    <tr>\n",
       "      <th>896</th>\n",
       "      <td>3</td>\n",
       "      <td>Hirvonen, Mrs. Alexander (Helga E Lindqvist)</td>\n",
       "      <td>female</td>\n",
       "      <td>22.0</td>\n",
       "      <td>1</td>\n",
       "      <td>1</td>\n",
       "      <td>3101298</td>\n",
       "      <td>12.2875</td>\n",
       "      <td>NaN</td>\n",
       "      <td>S</td>\n",
       "    </tr>\n",
       "  </tbody>\n",
       "</table>\n",
       "</div>"
      ],
      "text/plain": [
       "             Pclass                                          Name     Sex  \\\n",
       "PassengerId                                                                 \n",
       "892               3                              Kelly, Mr. James    male   \n",
       "893               3              Wilkes, Mrs. James (Ellen Needs)  female   \n",
       "894               2                     Myles, Mr. Thomas Francis    male   \n",
       "895               3                              Wirz, Mr. Albert    male   \n",
       "896               3  Hirvonen, Mrs. Alexander (Helga E Lindqvist)  female   \n",
       "\n",
       "              Age  SibSp  Parch   Ticket     Fare Cabin Embarked  \n",
       "PassengerId                                                       \n",
       "892          34.5      0      0   330911   7.8292   NaN        Q  \n",
       "893          47.0      1      0   363272   7.0000   NaN        S  \n",
       "894          62.0      0      0   240276   9.6875   NaN        Q  \n",
       "895          27.0      0      0   315154   8.6625   NaN        S  \n",
       "896          22.0      1      1  3101298  12.2875   NaN        S  "
      ]
     },
     "execution_count": 8,
     "metadata": {},
     "output_type": "execute_result"
    }
   ],
   "source": [
    "# First five rows in test data.\n",
    "test_df.head()"
   ]
  },
  {
   "cell_type": "code",
   "execution_count": 9,
   "id": "a0faa19e-fd81-49c2-8762-fd85533b6868",
   "metadata": {
    "ExecuteTime": {
     "end_time": "2025-05-27T10:49:49.558896Z",
     "start_time": "2025-05-27T10:49:49.481362Z"
    },
    "colab": {
     "base_uri": "https://localhost:8080/",
     "height": 466
    },
    "id": "a0faa19e-fd81-49c2-8762-fd85533b6868",
    "outputId": "3845e917-0f60-49ef-e2a8-189808d9f91f"
   },
   "outputs": [
    {
     "data": {
      "text/html": [
       "<div>\n",
       "<style scoped>\n",
       "    .dataframe tbody tr th:only-of-type {\n",
       "        vertical-align: middle;\n",
       "    }\n",
       "\n",
       "    .dataframe tbody tr th {\n",
       "        vertical-align: top;\n",
       "    }\n",
       "\n",
       "    .dataframe thead th {\n",
       "        text-align: right;\n",
       "    }\n",
       "</style>\n",
       "<table border=\"1\" class=\"dataframe\">\n",
       "  <thead>\n",
       "    <tr style=\"text-align: right;\">\n",
       "      <th></th>\n",
       "      <th>Pclass</th>\n",
       "      <th>Name</th>\n",
       "      <th>Sex</th>\n",
       "      <th>Age</th>\n",
       "      <th>SibSp</th>\n",
       "      <th>Parch</th>\n",
       "      <th>Ticket</th>\n",
       "      <th>Fare</th>\n",
       "      <th>Cabin</th>\n",
       "      <th>Embarked</th>\n",
       "    </tr>\n",
       "    <tr>\n",
       "      <th>PassengerId</th>\n",
       "      <th></th>\n",
       "      <th></th>\n",
       "      <th></th>\n",
       "      <th></th>\n",
       "      <th></th>\n",
       "      <th></th>\n",
       "      <th></th>\n",
       "      <th></th>\n",
       "      <th></th>\n",
       "      <th></th>\n",
       "    </tr>\n",
       "  </thead>\n",
       "  <tbody>\n",
       "    <tr>\n",
       "      <th>1305</th>\n",
       "      <td>3</td>\n",
       "      <td>Spector, Mr. Woolf</td>\n",
       "      <td>male</td>\n",
       "      <td>NaN</td>\n",
       "      <td>0</td>\n",
       "      <td>0</td>\n",
       "      <td>A.5. 3236</td>\n",
       "      <td>8.0500</td>\n",
       "      <td>NaN</td>\n",
       "      <td>S</td>\n",
       "    </tr>\n",
       "    <tr>\n",
       "      <th>1306</th>\n",
       "      <td>1</td>\n",
       "      <td>Oliva y Ocana, Dona. Fermina</td>\n",
       "      <td>female</td>\n",
       "      <td>39.0</td>\n",
       "      <td>0</td>\n",
       "      <td>0</td>\n",
       "      <td>PC 17758</td>\n",
       "      <td>108.9000</td>\n",
       "      <td>C105</td>\n",
       "      <td>C</td>\n",
       "    </tr>\n",
       "    <tr>\n",
       "      <th>1307</th>\n",
       "      <td>3</td>\n",
       "      <td>Saether, Mr. Simon Sivertsen</td>\n",
       "      <td>male</td>\n",
       "      <td>38.5</td>\n",
       "      <td>0</td>\n",
       "      <td>0</td>\n",
       "      <td>SOTON/O.Q. 3101262</td>\n",
       "      <td>7.2500</td>\n",
       "      <td>NaN</td>\n",
       "      <td>S</td>\n",
       "    </tr>\n",
       "    <tr>\n",
       "      <th>1308</th>\n",
       "      <td>3</td>\n",
       "      <td>Ware, Mr. Frederick</td>\n",
       "      <td>male</td>\n",
       "      <td>NaN</td>\n",
       "      <td>0</td>\n",
       "      <td>0</td>\n",
       "      <td>359309</td>\n",
       "      <td>8.0500</td>\n",
       "      <td>NaN</td>\n",
       "      <td>S</td>\n",
       "    </tr>\n",
       "    <tr>\n",
       "      <th>1309</th>\n",
       "      <td>3</td>\n",
       "      <td>Peter, Master. Michael J</td>\n",
       "      <td>male</td>\n",
       "      <td>NaN</td>\n",
       "      <td>1</td>\n",
       "      <td>1</td>\n",
       "      <td>2668</td>\n",
       "      <td>22.3583</td>\n",
       "      <td>NaN</td>\n",
       "      <td>C</td>\n",
       "    </tr>\n",
       "  </tbody>\n",
       "</table>\n",
       "</div>"
      ],
      "text/plain": [
       "             Pclass                          Name     Sex   Age  SibSp  Parch  \\\n",
       "PassengerId                                                                     \n",
       "1305              3            Spector, Mr. Woolf    male   NaN      0      0   \n",
       "1306              1  Oliva y Ocana, Dona. Fermina  female  39.0      0      0   \n",
       "1307              3  Saether, Mr. Simon Sivertsen    male  38.5      0      0   \n",
       "1308              3           Ware, Mr. Frederick    male   NaN      0      0   \n",
       "1309              3      Peter, Master. Michael J    male   NaN      1      1   \n",
       "\n",
       "                         Ticket      Fare Cabin Embarked  \n",
       "PassengerId                                               \n",
       "1305                  A.5. 3236    8.0500   NaN        S  \n",
       "1306                   PC 17758  108.9000  C105        C  \n",
       "1307         SOTON/O.Q. 3101262    7.2500   NaN        S  \n",
       "1308                     359309    8.0500   NaN        S  \n",
       "1309                       2668   22.3583   NaN        C  "
      ]
     },
     "execution_count": 9,
     "metadata": {},
     "output_type": "execute_result"
    }
   ],
   "source": [
    "# Last five rows in test data\n",
    "test_df.tail()"
   ]
  },
  {
   "cell_type": "markdown",
   "id": "f84d908d-24e9-432a-ae38-b51af16ff6a6",
   "metadata": {
    "id": "f84d908d-24e9-432a-ae38-b51af16ff6a6"
   },
   "source": [
    "### iii) Data description\n",
    "<p>Get the know the datasets</p>"
   ]
  },
  {
   "cell_type": "markdown",
   "id": "47a11837-d1d5-4f7c-8a57-4f59cb2c7f71",
   "metadata": {
    "id": "47a11837-d1d5-4f7c-8a57-4f59cb2c7f71"
   },
   "source": [
    "#### a) Data shapes"
   ]
  },
  {
   "cell_type": "code",
   "execution_count": 10,
   "id": "4def610c-0540-4075-81bf-47a088d99a52",
   "metadata": {
    "ExecuteTime": {
     "end_time": "2025-05-27T10:49:52.334324Z",
     "start_time": "2025-05-27T10:49:52.320442Z"
    },
    "colab": {
     "base_uri": "https://localhost:8080/"
    },
    "id": "4def610c-0540-4075-81bf-47a088d99a52",
    "outputId": "b6690c2f-a2e0-45f4-efe5-364f9d3ee004"
   },
   "outputs": [
    {
     "name": "stdout",
     "output_type": "stream",
     "text": [
      "Train shape:\n",
      "\trows: 891\n",
      "\tcolumns: 11\n"
     ]
    }
   ],
   "source": [
    "# Train dataframe shape.\n",
    "train_shape = train_df.shape\n",
    "print(f\"Train shape:\\n\\trows: {train_shape[0]}\\n\\tcolumns: {train_shape[1]}\")"
   ]
  },
  {
   "cell_type": "code",
   "execution_count": 11,
   "id": "b63684ac-85aa-45fe-8dc0-a16df2ffe964",
   "metadata": {
    "ExecuteTime": {
     "end_time": "2025-05-27T10:49:54.929876Z",
     "start_time": "2025-05-27T10:49:54.911381Z"
    },
    "colab": {
     "base_uri": "https://localhost:8080/"
    },
    "id": "b63684ac-85aa-45fe-8dc0-a16df2ffe964",
    "outputId": "caef9559-8644-4769-fc19-7779100c8e40"
   },
   "outputs": [
    {
     "name": "stdout",
     "output_type": "stream",
     "text": [
      "Test shape:\n",
      "\trows: 418\n",
      "\tcolumns: 10\n"
     ]
    }
   ],
   "source": [
    "# Test dataframe shape.\n",
    "test_shape = test_df.shape\n",
    "print(f\"Test shape:\\n\\trows: {test_shape[0]}\\n\\tcolumns: {test_shape[1]}\")"
   ]
  },
  {
   "cell_type": "markdown",
   "id": "661ad635-c7dc-4e83-8723-6ba88129b4a9",
   "metadata": {
    "id": "661ad635-c7dc-4e83-8723-6ba88129b4a9"
   },
   "source": [
    "#### b) Data column names"
   ]
  },
  {
   "cell_type": "code",
   "execution_count": 12,
   "id": "52caf66e-5b37-467a-abd0-343e21e9a10b",
   "metadata": {
    "ExecuteTime": {
     "end_time": "2025-05-27T10:49:56.326887Z",
     "start_time": "2025-05-27T10:49:56.309572Z"
    },
    "colab": {
     "base_uri": "https://localhost:8080/"
    },
    "id": "52caf66e-5b37-467a-abd0-343e21e9a10b",
    "outputId": "1c1b7f05-ff81-47ba-e38f-b5e0a01bb2e4"
   },
   "outputs": [
    {
     "name": "stdout",
     "output_type": "stream",
     "text": [
      "['Survived',\n",
      " 'Pclass',\n",
      " 'Name',\n",
      " 'Sex',\n",
      " 'Age',\n",
      " 'SibSp',\n",
      " 'Parch',\n",
      " 'Ticket',\n",
      " 'Fare',\n",
      " 'Cabin',\n",
      " 'Embarked']\n"
     ]
    }
   ],
   "source": [
    "columns = train_df.columns.tolist()\n",
    "pprint.pprint(columns)"
   ]
  },
  {
   "cell_type": "code",
   "execution_count": 13,
   "id": "fb0b0807-4c82-4ddf-8173-e49b8aea134a",
   "metadata": {
    "ExecuteTime": {
     "end_time": "2025-05-27T10:49:58.161237Z",
     "start_time": "2025-05-27T10:49:58.132441Z"
    },
    "colab": {
     "base_uri": "https://localhost:8080/",
     "height": 467
    },
    "id": "fb0b0807-4c82-4ddf-8173-e49b8aea134a",
    "outputId": "79ec1afb-bb77-4fce-c604-c1432235c8d2"
   },
   "outputs": [
    {
     "data": {
      "text/plain": [
       "Survived      int64\n",
       "Pclass        int64\n",
       "Name         object\n",
       "Sex          object\n",
       "Age         float64\n",
       "SibSp         int64\n",
       "Parch         int64\n",
       "Ticket       object\n",
       "Fare        float64\n",
       "Cabin        object\n",
       "Embarked     object\n",
       "dtype: object"
      ]
     },
     "execution_count": 13,
     "metadata": {},
     "output_type": "execute_result"
    }
   ],
   "source": [
    "train_df.dtypes"
   ]
  },
  {
   "cell_type": "markdown",
   "id": "ebbff283-1f8a-4b69-8e9a-2e1c64e63ac9",
   "metadata": {
    "id": "ebbff283-1f8a-4b69-8e9a-2e1c64e63ac9",
    "jp-MarkdownHeadingCollapsed": true
   },
   "source": [
    "#### i) Converting train data frame low unique values"
   ]
  },
  {
   "cell_type": "code",
   "execution_count": 14,
   "id": "7893e5bb-4395-4727-9147-a073fa28a783",
   "metadata": {
    "ExecuteTime": {
     "end_time": "2025-05-27T10:49:59.908984Z",
     "start_time": "2025-05-27T10:49:59.865627Z"
    },
    "colab": {
     "base_uri": "https://localhost:8080/",
     "height": 467
    },
    "id": "7893e5bb-4395-4727-9147-a073fa28a783",
    "outputId": "4c9bfbd2-a14b-4029-c096-b475d9afb890"
   },
   "outputs": [
    {
     "data": {
      "text/plain": [
       "Survived     object\n",
       "Pclass       object\n",
       "Name         object\n",
       "Sex          object\n",
       "Age         float64\n",
       "SibSp        object\n",
       "Parch        object\n",
       "Ticket       object\n",
       "Fare        float64\n",
       "Cabin        object\n",
       "Embarked     object\n",
       "dtype: object"
      ]
     },
     "execution_count": 14,
     "metadata": {},
     "output_type": "execute_result"
    }
   ],
   "source": [
    "def convert_low_unique_value_to_str(data: pd.DataFrame) -> pd.DataFrame:\n",
    "    \"\"\"\n",
    "    Convert low unique values columns to string.\n",
    "\n",
    "    Args\n",
    "    ----\n",
    "    data: Dataframe to change low unique columns.\n",
    "\n",
    "    :return: Dataframe.\n",
    "    \"\"\"\n",
    "    # Change Survived, Pclass, SibSp and Parch to string data type for analysis.\n",
    "    data_copy = data.copy()\n",
    "\n",
    "    # Loop over the column name to turn to object\n",
    "    for col in (\"Survived\", \"Pclass\", \"SibSp\", \"Parch\"):\n",
    "        data_copy[col] = data_copy[col].astype(str)\n",
    "\n",
    "    return data_copy\n",
    "\n",
    "\n",
    "ana_train_data = convert_low_unique_value_to_str(train_df)\n",
    "ana_train_data.dtypes"
   ]
  },
  {
   "cell_type": "markdown",
   "id": "75b20ce5-4741-499c-9c5e-d519e4d77e0b",
   "metadata": {
    "id": "75b20ce5-4741-499c-9c5e-d519e4d77e0b"
   },
   "source": [
    "#### c) Data information"
   ]
  },
  {
   "cell_type": "code",
   "execution_count": 15,
   "id": "e2195c1e-4272-4d56-a94c-591458c1eb7c",
   "metadata": {
    "ExecuteTime": {
     "end_time": "2025-05-27T10:50:00.940081Z",
     "start_time": "2025-05-27T10:50:00.903395Z"
    },
    "colab": {
     "base_uri": "https://localhost:8080/"
    },
    "id": "e2195c1e-4272-4d56-a94c-591458c1eb7c",
    "outputId": "8dcb7d66-1ca3-4137-c1fe-1d6e08f753fd",
    "scrolled": true
   },
   "outputs": [
    {
     "name": "stdout",
     "output_type": "stream",
     "text": [
      "<class 'pandas.core.frame.DataFrame'>\n",
      "Index: 891 entries, 1 to 891\n",
      "Data columns (total 11 columns):\n",
      " #   Column    Non-Null Count  Dtype  \n",
      "---  ------    --------------  -----  \n",
      " 0   Survived  891 non-null    int64  \n",
      " 1   Pclass    891 non-null    int64  \n",
      " 2   Name      891 non-null    object \n",
      " 3   Sex       891 non-null    object \n",
      " 4   Age       714 non-null    float64\n",
      " 5   SibSp     891 non-null    int64  \n",
      " 6   Parch     891 non-null    int64  \n",
      " 7   Ticket    891 non-null    object \n",
      " 8   Fare      891 non-null    float64\n",
      " 9   Cabin     204 non-null    object \n",
      " 10  Embarked  889 non-null    object \n",
      "dtypes: float64(2), int64(4), object(5)\n",
      "memory usage: 83.5+ KB\n"
     ]
    }
   ],
   "source": [
    "# Train data information.\n",
    "train_df.info()"
   ]
  },
  {
   "cell_type": "code",
   "execution_count": 16,
   "id": "00a99b72-fc52-4d0a-afad-800dc763f356",
   "metadata": {
    "ExecuteTime": {
     "end_time": "2025-05-27T10:50:02.110518Z",
     "start_time": "2025-05-27T10:50:02.080415Z"
    },
    "colab": {
     "base_uri": "https://localhost:8080/"
    },
    "id": "00a99b72-fc52-4d0a-afad-800dc763f356",
    "outputId": "5b9d7b15-e5b7-42c2-c9ea-e1d28e9085b8"
   },
   "outputs": [
    {
     "name": "stdout",
     "output_type": "stream",
     "text": [
      "<class 'pandas.core.frame.DataFrame'>\n",
      "Index: 418 entries, 892 to 1309\n",
      "Data columns (total 10 columns):\n",
      " #   Column    Non-Null Count  Dtype  \n",
      "---  ------    --------------  -----  \n",
      " 0   Pclass    418 non-null    int64  \n",
      " 1   Name      418 non-null    object \n",
      " 2   Sex       418 non-null    object \n",
      " 3   Age       332 non-null    float64\n",
      " 4   SibSp     418 non-null    int64  \n",
      " 5   Parch     418 non-null    int64  \n",
      " 6   Ticket    418 non-null    object \n",
      " 7   Fare      417 non-null    float64\n",
      " 8   Cabin     91 non-null     object \n",
      " 9   Embarked  418 non-null    object \n",
      "dtypes: float64(2), int64(3), object(5)\n",
      "memory usage: 35.9+ KB\n"
     ]
    }
   ],
   "source": [
    "# Test data information\n",
    "test_df.info()"
   ]
  },
  {
   "cell_type": "markdown",
   "id": "28e7e1c4-8686-42da-8cd3-57d8cef62f0f",
   "metadata": {
    "id": "28e7e1c4-8686-42da-8cd3-57d8cef62f0f",
    "jp-MarkdownHeadingCollapsed": true
   },
   "source": [
    "#### d) Describing the data"
   ]
  },
  {
   "cell_type": "code",
   "execution_count": 17,
   "id": "99816fe2-5087-4d0f-ac8d-eb19a2d75409",
   "metadata": {
    "ExecuteTime": {
     "end_time": "2025-05-27T10:50:04.188407Z",
     "start_time": "2025-05-27T10:50:04.069932Z"
    },
    "colab": {
     "base_uri": "https://localhost:8080/",
     "height": 258
    },
    "id": "99816fe2-5087-4d0f-ac8d-eb19a2d75409",
    "outputId": "3b950e70-86f6-4fa8-a694-9c68345bd429"
   },
   "outputs": [
    {
     "data": {
      "text/html": [
       "<div>\n",
       "<style scoped>\n",
       "    .dataframe tbody tr th:only-of-type {\n",
       "        vertical-align: middle;\n",
       "    }\n",
       "\n",
       "    .dataframe tbody tr th {\n",
       "        vertical-align: top;\n",
       "    }\n",
       "\n",
       "    .dataframe thead th {\n",
       "        text-align: right;\n",
       "    }\n",
       "</style>\n",
       "<table border=\"1\" class=\"dataframe\">\n",
       "  <thead>\n",
       "    <tr style=\"text-align: right;\">\n",
       "      <th></th>\n",
       "      <th>count</th>\n",
       "      <th>mean</th>\n",
       "      <th>std</th>\n",
       "      <th>min</th>\n",
       "      <th>25%</th>\n",
       "      <th>50%</th>\n",
       "      <th>75%</th>\n",
       "      <th>max</th>\n",
       "    </tr>\n",
       "  </thead>\n",
       "  <tbody>\n",
       "    <tr>\n",
       "      <th>Survived</th>\n",
       "      <td>891.0</td>\n",
       "      <td>0.383838</td>\n",
       "      <td>0.486592</td>\n",
       "      <td>0.00</td>\n",
       "      <td>0.0000</td>\n",
       "      <td>0.0000</td>\n",
       "      <td>1.0</td>\n",
       "      <td>1.0000</td>\n",
       "    </tr>\n",
       "    <tr>\n",
       "      <th>Pclass</th>\n",
       "      <td>891.0</td>\n",
       "      <td>2.308642</td>\n",
       "      <td>0.836071</td>\n",
       "      <td>1.00</td>\n",
       "      <td>2.0000</td>\n",
       "      <td>3.0000</td>\n",
       "      <td>3.0</td>\n",
       "      <td>3.0000</td>\n",
       "    </tr>\n",
       "    <tr>\n",
       "      <th>Age</th>\n",
       "      <td>714.0</td>\n",
       "      <td>29.699118</td>\n",
       "      <td>14.526497</td>\n",
       "      <td>0.42</td>\n",
       "      <td>20.1250</td>\n",
       "      <td>28.0000</td>\n",
       "      <td>38.0</td>\n",
       "      <td>80.0000</td>\n",
       "    </tr>\n",
       "    <tr>\n",
       "      <th>SibSp</th>\n",
       "      <td>891.0</td>\n",
       "      <td>0.523008</td>\n",
       "      <td>1.102743</td>\n",
       "      <td>0.00</td>\n",
       "      <td>0.0000</td>\n",
       "      <td>0.0000</td>\n",
       "      <td>1.0</td>\n",
       "      <td>8.0000</td>\n",
       "    </tr>\n",
       "    <tr>\n",
       "      <th>Parch</th>\n",
       "      <td>891.0</td>\n",
       "      <td>0.381594</td>\n",
       "      <td>0.806057</td>\n",
       "      <td>0.00</td>\n",
       "      <td>0.0000</td>\n",
       "      <td>0.0000</td>\n",
       "      <td>0.0</td>\n",
       "      <td>6.0000</td>\n",
       "    </tr>\n",
       "    <tr>\n",
       "      <th>Fare</th>\n",
       "      <td>891.0</td>\n",
       "      <td>32.204208</td>\n",
       "      <td>49.693429</td>\n",
       "      <td>0.00</td>\n",
       "      <td>7.9104</td>\n",
       "      <td>14.4542</td>\n",
       "      <td>31.0</td>\n",
       "      <td>512.3292</td>\n",
       "    </tr>\n",
       "  </tbody>\n",
       "</table>\n",
       "</div>"
      ],
      "text/plain": [
       "          count       mean        std   min      25%      50%   75%       max\n",
       "Survived  891.0   0.383838   0.486592  0.00   0.0000   0.0000   1.0    1.0000\n",
       "Pclass    891.0   2.308642   0.836071  1.00   2.0000   3.0000   3.0    3.0000\n",
       "Age       714.0  29.699118  14.526497  0.42  20.1250  28.0000  38.0   80.0000\n",
       "SibSp     891.0   0.523008   1.102743  0.00   0.0000   0.0000   1.0    8.0000\n",
       "Parch     891.0   0.381594   0.806057  0.00   0.0000   0.0000   0.0    6.0000\n",
       "Fare      891.0  32.204208  49.693429  0.00   7.9104  14.4542  31.0  512.3292"
      ]
     },
     "execution_count": 17,
     "metadata": {},
     "output_type": "execute_result"
    }
   ],
   "source": [
    "# Train dataframe description\n",
    "train_df.describe().T"
   ]
  },
  {
   "cell_type": "markdown",
   "id": "6b78a8b5-4a3a-44df-8b29-fd956f3f36b2",
   "metadata": {
    "id": "6b78a8b5-4a3a-44df-8b29-fd956f3f36b2"
   },
   "source": [
    "<p style=\"font-weight: bold; font-style: italic;\">Description of numerical columns in train data</p>"
   ]
  },
  {
   "cell_type": "code",
   "execution_count": 18,
   "id": "8e98c0a0-b78a-4b22-9851-e027d73f1ddc",
   "metadata": {
    "ExecuteTime": {
     "end_time": "2025-05-27T10:50:05.179886Z",
     "start_time": "2025-05-27T10:50:05.069463Z"
    },
    "colab": {
     "base_uri": "https://localhost:8080/",
     "height": 132
    },
    "id": "8e98c0a0-b78a-4b22-9851-e027d73f1ddc",
    "outputId": "26641692-4a7a-4e26-d300-f3791a247a71"
   },
   "outputs": [
    {
     "data": {
      "text/html": [
       "<div>\n",
       "<style scoped>\n",
       "    .dataframe tbody tr th:only-of-type {\n",
       "        vertical-align: middle;\n",
       "    }\n",
       "\n",
       "    .dataframe tbody tr th {\n",
       "        vertical-align: top;\n",
       "    }\n",
       "\n",
       "    .dataframe thead th {\n",
       "        text-align: right;\n",
       "    }\n",
       "</style>\n",
       "<table border=\"1\" class=\"dataframe\">\n",
       "  <thead>\n",
       "    <tr style=\"text-align: right;\">\n",
       "      <th></th>\n",
       "      <th>count</th>\n",
       "      <th>mean</th>\n",
       "      <th>std</th>\n",
       "      <th>min</th>\n",
       "      <th>25%</th>\n",
       "      <th>50%</th>\n",
       "      <th>75%</th>\n",
       "      <th>max</th>\n",
       "    </tr>\n",
       "  </thead>\n",
       "  <tbody>\n",
       "    <tr>\n",
       "      <th>Age</th>\n",
       "      <td>714.0</td>\n",
       "      <td>29.699118</td>\n",
       "      <td>14.526497</td>\n",
       "      <td>0.42</td>\n",
       "      <td>20.1250</td>\n",
       "      <td>28.0000</td>\n",
       "      <td>38.0</td>\n",
       "      <td>80.0000</td>\n",
       "    </tr>\n",
       "    <tr>\n",
       "      <th>Fare</th>\n",
       "      <td>891.0</td>\n",
       "      <td>32.204208</td>\n",
       "      <td>49.693429</td>\n",
       "      <td>0.00</td>\n",
       "      <td>7.9104</td>\n",
       "      <td>14.4542</td>\n",
       "      <td>31.0</td>\n",
       "      <td>512.3292</td>\n",
       "    </tr>\n",
       "  </tbody>\n",
       "</table>\n",
       "</div>"
      ],
      "text/plain": [
       "      count       mean        std   min      25%      50%   75%       max\n",
       "Age   714.0  29.699118  14.526497  0.42  20.1250  28.0000  38.0   80.0000\n",
       "Fare  891.0  32.204208  49.693429  0.00   7.9104  14.4542  31.0  512.3292"
      ]
     },
     "execution_count": 18,
     "metadata": {},
     "output_type": "execute_result"
    }
   ],
   "source": [
    "\n",
    "ana_train_data.describe().T"
   ]
  },
  {
   "cell_type": "markdown",
   "id": "35ab9832-dfa2-4df0-acf6-8a37171bbc5e",
   "metadata": {
    "id": "35ab9832-dfa2-4df0-acf6-8a37171bbc5e"
   },
   "source": [
    "<p style=\"font-weight: bold; font-style: italic;\">Description of categorical columns in train data</p>"
   ]
  },
  {
   "cell_type": "code",
   "execution_count": 19,
   "id": "63ea916a-bff3-4558-a37c-3bcdd30354fd",
   "metadata": {
    "ExecuteTime": {
     "end_time": "2025-05-27T10:50:07.642228Z",
     "start_time": "2025-05-27T10:50:07.543243Z"
    },
    "colab": {
     "base_uri": "https://localhost:8080/",
     "height": 386
    },
    "id": "63ea916a-bff3-4558-a37c-3bcdd30354fd",
    "outputId": "62169e50-013a-45e8-83d5-2a9e2ee6bc8b"
   },
   "outputs": [
    {
     "data": {
      "text/html": [
       "<div>\n",
       "<style scoped>\n",
       "    .dataframe tbody tr th:only-of-type {\n",
       "        vertical-align: middle;\n",
       "    }\n",
       "\n",
       "    .dataframe tbody tr th {\n",
       "        vertical-align: top;\n",
       "    }\n",
       "\n",
       "    .dataframe thead th {\n",
       "        text-align: right;\n",
       "    }\n",
       "</style>\n",
       "<table border=\"1\" class=\"dataframe\">\n",
       "  <thead>\n",
       "    <tr style=\"text-align: right;\">\n",
       "      <th></th>\n",
       "      <th>count</th>\n",
       "      <th>unique</th>\n",
       "      <th>top</th>\n",
       "      <th>freq</th>\n",
       "    </tr>\n",
       "  </thead>\n",
       "  <tbody>\n",
       "    <tr>\n",
       "      <th>Survived</th>\n",
       "      <td>891</td>\n",
       "      <td>2</td>\n",
       "      <td>0</td>\n",
       "      <td>549</td>\n",
       "    </tr>\n",
       "    <tr>\n",
       "      <th>Pclass</th>\n",
       "      <td>891</td>\n",
       "      <td>3</td>\n",
       "      <td>3</td>\n",
       "      <td>491</td>\n",
       "    </tr>\n",
       "    <tr>\n",
       "      <th>Name</th>\n",
       "      <td>891</td>\n",
       "      <td>891</td>\n",
       "      <td>Braund, Mr. Owen Harris</td>\n",
       "      <td>1</td>\n",
       "    </tr>\n",
       "    <tr>\n",
       "      <th>Sex</th>\n",
       "      <td>891</td>\n",
       "      <td>2</td>\n",
       "      <td>male</td>\n",
       "      <td>577</td>\n",
       "    </tr>\n",
       "    <tr>\n",
       "      <th>SibSp</th>\n",
       "      <td>891</td>\n",
       "      <td>7</td>\n",
       "      <td>0</td>\n",
       "      <td>608</td>\n",
       "    </tr>\n",
       "    <tr>\n",
       "      <th>Parch</th>\n",
       "      <td>891</td>\n",
       "      <td>7</td>\n",
       "      <td>0</td>\n",
       "      <td>678</td>\n",
       "    </tr>\n",
       "    <tr>\n",
       "      <th>Ticket</th>\n",
       "      <td>891</td>\n",
       "      <td>681</td>\n",
       "      <td>347082</td>\n",
       "      <td>7</td>\n",
       "    </tr>\n",
       "    <tr>\n",
       "      <th>Cabin</th>\n",
       "      <td>204</td>\n",
       "      <td>147</td>\n",
       "      <td>B96 B98</td>\n",
       "      <td>4</td>\n",
       "    </tr>\n",
       "    <tr>\n",
       "      <th>Embarked</th>\n",
       "      <td>889</td>\n",
       "      <td>3</td>\n",
       "      <td>S</td>\n",
       "      <td>644</td>\n",
       "    </tr>\n",
       "  </tbody>\n",
       "</table>\n",
       "</div>"
      ],
      "text/plain": [
       "         count unique                      top freq\n",
       "Survived   891      2                        0  549\n",
       "Pclass     891      3                        3  491\n",
       "Name       891    891  Braund, Mr. Owen Harris    1\n",
       "Sex        891      2                     male  577\n",
       "SibSp      891      7                        0  608\n",
       "Parch      891      7                        0  678\n",
       "Ticket     891    681                   347082    7\n",
       "Cabin      204    147                  B96 B98    4\n",
       "Embarked   889      3                        S  644"
      ]
     },
     "execution_count": 19,
     "metadata": {},
     "output_type": "execute_result"
    }
   ],
   "source": [
    "ana_train_data.describe(exclude=float).T"
   ]
  },
  {
   "cell_type": "markdown",
   "id": "a38b8daf-539e-475d-a891-30a3ae5a889c",
   "metadata": {
    "id": "a38b8daf-539e-475d-a891-30a3ae5a889c",
    "jp-MarkdownHeadingCollapsed": true
   },
   "source": [
    "## 5) **Data split**\n",
    "<p>Separate target from the data and then split the data into train and validation</p>"
   ]
  },
  {
   "cell_type": "code",
   "execution_count": 20,
   "id": "fad4ae80-7c05-4dec-9503-d7fbe24ed6b1",
   "metadata": {
    "ExecuteTime": {
     "end_time": "2025-05-27T10:50:08.982579Z",
     "start_time": "2025-05-27T10:50:08.961818Z"
    },
    "colab": {
     "base_uri": "https://localhost:8080/"
    },
    "id": "fad4ae80-7c05-4dec-9503-d7fbe24ed6b1",
    "outputId": "132c3c7d-f0c8-4095-ec79-a9de15f7d8b0"
   },
   "outputs": [
    {
     "name": "stdout",
     "output_type": "stream",
     "text": [
      "\n",
      "X shape: (891, 10)\n",
      "y shape: (891, 1)\n",
      "\n"
     ]
    }
   ],
   "source": [
    "# Target name.\n",
    "target_name = \"Survived\"\n",
    "\n",
    "# Separating target column from the feature columns.\n",
    "X = train_df.copy()\n",
    "y = X.pop(target_name).values.reshape(-1, 1)\n",
    "\n",
    "# View the shape X and y.\n",
    "print(f'''\n",
    "X shape: {X.shape}\n",
    "y shape: {y.shape}\n",
    "''')"
   ]
  },
  {
   "cell_type": "code",
   "execution_count": 21,
   "id": "63f7c9e4-8401-461a-83ba-fea6e9f0249d",
   "metadata": {
    "ExecuteTime": {
     "end_time": "2025-05-27T10:50:11.430433Z",
     "start_time": "2025-05-27T10:50:11.388640Z"
    },
    "colab": {
     "base_uri": "https://localhost:8080/"
    },
    "id": "63f7c9e4-8401-461a-83ba-fea6e9f0249d",
    "outputId": "e32ab24b-7c65-4f4e-ea62-d5c467e0a4b5"
   },
   "outputs": [
    {
     "name": "stdout",
     "output_type": "stream",
     "text": [
      "\n",
      "train_x shape: (668, 10)\n",
      "train_y shape: (668, 1)\n",
      "valid_x shape: (223, 10)\n",
      "valid_y shape: (223, 1)\n",
      "\n"
     ]
    }
   ],
   "source": [
    "# 25 percent will be for test data.\n",
    "test_size = 0.25\n",
    "\n",
    "# 🪓 Splitting data into train and validation data.\n",
    "train_x, valid_x, train_y, valid_y = train_test_split(X, y, test_size=test_size)\n",
    "\n",
    "# View the shape of the data.\n",
    "print(f'''\n",
    "train_x shape: {train_x.shape}\n",
    "train_y shape: {train_y.shape}\n",
    "valid_x shape: {valid_x.shape}\n",
    "valid_y shape: {valid_y.shape}\n",
    "''')"
   ]
  },
  {
   "cell_type": "markdown",
   "id": "569db3f6-aed1-4a2f-ac8a-15126a314794",
   "metadata": {
    "id": "569db3f6-aed1-4a2f-ac8a-15126a314794"
   },
   "source": [
    "## 6) **Data cleaning**\n",
    "<p>Modifying or removing data that is inaccurate, duplicate, incomplete, incorrectly formatted, or corrupted</p>"
   ]
  },
  {
   "cell_type": "markdown",
   "id": "c5a53948-c255-4c5d-b190-13daf7c45ba9",
   "metadata": {
    "id": "c5a53948-c255-4c5d-b190-13daf7c45ba9"
   },
   "source": [
    "### i) Check the missing values (NaN)\n",
    "<p>Search for missing value in the dataframes</p>"
   ]
  },
  {
   "cell_type": "code",
   "execution_count": 22,
   "id": "ab9ec910-cbff-4b63-ba07-07f2fbd15ea3",
   "metadata": {
    "ExecuteTime": {
     "end_time": "2025-05-27T10:50:13.318600Z",
     "start_time": "2025-05-27T10:50:13.300613Z"
    },
    "id": "ab9ec910-cbff-4b63-ba07-07f2fbd15ea3"
   },
   "outputs": [],
   "source": [
    "def check_n_nan(data: pd.DataFrame, only_nan: bool=True) -> pd.DataFrame:\n",
    "    \"\"\"\n",
    "    Represents the summary of missing data in the\n",
    "    data frame.\n",
    "\n",
    "    Parameters:\n",
    "    ----------\n",
    "    data: A data frame to check for missing data.\n",
    "\n",
    "    return: A dataframe with number of missing value (NaN) and the percentage.\n",
    "    \"\"\"\n",
    "    # Compute the total NaN for each column.\n",
    "    total_nan = data.isna().sum()\n",
    "\n",
    "    if only_nan:\n",
    "        total_nan = total_nan[total_nan > 0]\n",
    "\n",
    "    # Columns\n",
    "    column_names = total_nan.index\n",
    "\n",
    "    # Compute the percentage of missing data.\n",
    "    percentage = (((total_nan / data.shape[0]) * 100)\n",
    "                  .round(2)\n",
    "                  .astype(str)\n",
    "                  .map(lambda x: x + '%')\n",
    "                 )\n",
    "\n",
    "    return pd.DataFrame({\n",
    "        'columns': column_names,\n",
    "        'total_nan': total_nan,\n",
    "        'percent_nan': percentage\n",
    "    }).reset_index(drop=True)"
   ]
  },
  {
   "cell_type": "code",
   "execution_count": 23,
   "id": "71d6e8a8-1a60-4ce7-bfa2-cd93ae383fba",
   "metadata": {
    "ExecuteTime": {
     "end_time": "2025-05-27T10:50:14.276665Z",
     "start_time": "2025-05-27T10:50:14.246125Z"
    },
    "id": "71d6e8a8-1a60-4ce7-bfa2-cd93ae383fba",
    "jupyter": {
     "source_hidden": true
    }
   },
   "outputs": [],
   "source": [
    "def plot_nan(data: pd.DataFrame, name: str | None=None, only_nan: bool=True, use_percent=False) -> None:\n",
    "    nan_df = check_n_nan(data, only_nan)\n",
    "    nan_df['percent_nan'] = nan_df['percent_nan'].str.replace('%', '').astype(float).round().astype(int)\n",
    "\n",
    "    radius = 5\n",
    "    y_name = 'percent_nan' if use_percent else 'total_nan'\n",
    "    startup_title = 'Percentage' if use_percent else 'Number'\n",
    "    y_title = f'{startup_title} of missing values'\n",
    "    y_name = alt.Y(y_name).title(y_title)\n",
    "    name = name if name else 'a dataset'\n",
    "    title = f'{startup_title} Of Missing values In {name.title()}'\n",
    "    subtitle = f'A chart represents missing data in {name}'\n",
    "\n",
    "    base = alt.Chart(\n",
    "        nan_df,\n",
    "        title=alt.Title(\n",
    "            title,\n",
    "            subtitle=subtitle,\n",
    "            anchor='start',\n",
    "        )\n",
    "    ).mark_bar(\n",
    "        cornerRadiusTopLeft=radius,\n",
    "        cornerRadiusTopRight=radius\n",
    "    ).encode(\n",
    "        x = alt.X('columns').title('Columns names'),\n",
    "        y = y_name,\n",
    "        color = alt.Color('columns').scale(\n",
    "            scheme='lightgreyred',\n",
    "            reverse=True\n",
    "        ).legend(orient='right'),\n",
    "        tooltip = [\"columns\", \"total_nan\", 'percent_nan'],\n",
    "        text = 'columns'\n",
    "    ).configure_axis(\n",
    "        grid=False\n",
    "    ).configure_view(\n",
    "        stroke=None\n",
    "    )\n",
    "\n",
    "    return base"
   ]
  },
  {
   "cell_type": "markdown",
   "id": "907a7417-4dc5-4c7a-89f1-f5ca107291fb",
   "metadata": {
    "id": "907a7417-4dc5-4c7a-89f1-f5ca107291fb"
   },
   "source": [
    "#### a) Observing missing data in train and validation data"
   ]
  },
  {
   "cell_type": "markdown",
   "id": "d222933d-935b-48e9-ada5-9f5487dc2158",
   "metadata": {
    "id": "d222933d-935b-48e9-ada5-9f5487dc2158"
   },
   "source": [
    "##### One) X train dataset"
   ]
  },
  {
   "cell_type": "code",
   "execution_count": 24,
   "id": "321fb63b-d441-4d2b-9e09-13d61256ab41",
   "metadata": {
    "ExecuteTime": {
     "end_time": "2025-05-27T10:50:14.780993Z",
     "start_time": "2025-05-27T10:50:14.747101Z"
    },
    "colab": {
     "base_uri": "https://localhost:8080/",
     "height": 163
    },
    "id": "321fb63b-d441-4d2b-9e09-13d61256ab41",
    "outputId": "3b76bf18-697b-4aca-b00c-772c8cd904ab"
   },
   "outputs": [
    {
     "data": {
      "text/html": [
       "<div>\n",
       "<style scoped>\n",
       "    .dataframe tbody tr th:only-of-type {\n",
       "        vertical-align: middle;\n",
       "    }\n",
       "\n",
       "    .dataframe tbody tr th {\n",
       "        vertical-align: top;\n",
       "    }\n",
       "\n",
       "    .dataframe thead th {\n",
       "        text-align: right;\n",
       "    }\n",
       "</style>\n",
       "<table border=\"1\" class=\"dataframe\">\n",
       "  <thead>\n",
       "    <tr style=\"text-align: right;\">\n",
       "      <th></th>\n",
       "      <th>columns</th>\n",
       "      <th>total_nan</th>\n",
       "      <th>percent_nan</th>\n",
       "    </tr>\n",
       "  </thead>\n",
       "  <tbody>\n",
       "    <tr>\n",
       "      <th>0</th>\n",
       "      <td>Age</td>\n",
       "      <td>130</td>\n",
       "      <td>19.46%</td>\n",
       "    </tr>\n",
       "    <tr>\n",
       "      <th>1</th>\n",
       "      <td>Cabin</td>\n",
       "      <td>508</td>\n",
       "      <td>76.05%</td>\n",
       "    </tr>\n",
       "    <tr>\n",
       "      <th>2</th>\n",
       "      <td>Embarked</td>\n",
       "      <td>2</td>\n",
       "      <td>0.3%</td>\n",
       "    </tr>\n",
       "  </tbody>\n",
       "</table>\n",
       "</div>"
      ],
      "text/plain": [
       "    columns  total_nan percent_nan\n",
       "0       Age        130      19.46%\n",
       "1     Cabin        508      76.05%\n",
       "2  Embarked          2        0.3%"
      ]
     },
     "execution_count": 24,
     "metadata": {},
     "output_type": "execute_result"
    }
   ],
   "source": [
    "check_n_nan(train_x)"
   ]
  },
  {
   "cell_type": "code",
   "execution_count": 25,
   "id": "b3f6aa76-3d6e-4be5-8c68-34f0e6232b01",
   "metadata": {
    "ExecuteTime": {
     "end_time": "2025-05-27T10:50:15.973827Z",
     "start_time": "2025-05-27T10:50:15.436750Z"
    },
    "colab": {
     "base_uri": "https://localhost:8080/",
     "height": 460
    },
    "id": "b3f6aa76-3d6e-4be5-8c68-34f0e6232b01",
    "outputId": "e4b0c512-9b87-4a0f-b452-34c3d48b34d1"
   },
   "outputs": [
    {
     "data": {
      "application/vnd.vegalite.v5+json": {
       "$schema": "https://vega.github.io/schema/vega-lite/v5.20.1.json",
       "config": {
        "axis": {
         "grid": false
        },
        "view": {
         "continuousHeight": 300,
         "continuousWidth": 300,
         "stroke": null
        }
       },
       "data": {
        "name": "data-c81b20104967db497cbc53b25204b0ff"
       },
       "datasets": {
        "data-c81b20104967db497cbc53b25204b0ff": [
         {
          "columns": "Pclass",
          "percent_nan": 0,
          "total_nan": 0
         },
         {
          "columns": "Name",
          "percent_nan": 0,
          "total_nan": 0
         },
         {
          "columns": "Sex",
          "percent_nan": 0,
          "total_nan": 0
         },
         {
          "columns": "Age",
          "percent_nan": 19,
          "total_nan": 130
         },
         {
          "columns": "SibSp",
          "percent_nan": 0,
          "total_nan": 0
         },
         {
          "columns": "Parch",
          "percent_nan": 0,
          "total_nan": 0
         },
         {
          "columns": "Ticket",
          "percent_nan": 0,
          "total_nan": 0
         },
         {
          "columns": "Fare",
          "percent_nan": 0,
          "total_nan": 0
         },
         {
          "columns": "Cabin",
          "percent_nan": 76,
          "total_nan": 508
         },
         {
          "columns": "Embarked",
          "percent_nan": 0,
          "total_nan": 2
         }
        ]
       },
       "encoding": {
        "color": {
         "field": "columns",
         "legend": {
          "orient": "right"
         },
         "scale": {
          "reverse": true,
          "scheme": "lightgreyred"
         },
         "type": "nominal"
        },
        "text": {
         "field": "columns",
         "type": "nominal"
        },
        "tooltip": [
         {
          "field": "columns",
          "type": "nominal"
         },
         {
          "field": "total_nan",
          "type": "quantitative"
         },
         {
          "field": "percent_nan",
          "type": "quantitative"
         }
        ],
        "x": {
         "field": "columns",
         "title": "Columns names",
         "type": "nominal"
        },
        "y": {
         "field": "total_nan",
         "title": "Number of missing values",
         "type": "quantitative"
        }
       },
       "mark": {
        "cornerRadiusTopLeft": 5,
        "cornerRadiusTopRight": 5,
        "type": "bar"
       },
       "title": {
        "anchor": "start",
        "subtitle": "A chart represents missing data in x train dataset",
        "text": "Number Of Missing values In X Train Dataset"
       }
      },
      "text/plain": [
       "<VegaLite 5 object>\n",
       "\n",
       "If you see this message, it means the renderer has not been properly enabled\n",
       "for the frontend that you are using. For more information, see\n",
       "https://altair-viz.github.io/user_guide/display_frontends.html#troubleshooting\n"
      ]
     },
     "execution_count": 25,
     "metadata": {},
     "output_type": "execute_result"
    }
   ],
   "source": [
    "plot_nan(\n",
    "    train_x,\n",
    "    name='x train dataset',\n",
    "    only_nan=False\n",
    ")"
   ]
  },
  {
   "cell_type": "markdown",
   "id": "e5ea56f0-1bbc-4a11-bad3-ee762c844f84",
   "metadata": {
    "id": "e5ea56f0-1bbc-4a11-bad3-ee762c844f84"
   },
   "source": [
    "**conclusion:** X train data sample contains missing data of 21.11%(141) of Age column, 78.29%(523) of cabin column and 0.3%(2) of Embarked column are the amount of missing data in the dataset from the data size of 668."
   ]
  },
  {
   "cell_type": "markdown",
   "id": "dcff054d-4751-4b4d-9058-c7a24bf11d68",
   "metadata": {
    "id": "dcff054d-4751-4b4d-9058-c7a24bf11d68",
    "jp-MarkdownHeadingCollapsed": true
   },
   "source": [
    "##### Two) X validation dataset"
   ]
  },
  {
   "cell_type": "code",
   "execution_count": 26,
   "id": "b8715e3e-853c-4d18-8174-9e2690f29260",
   "metadata": {
    "ExecuteTime": {
     "end_time": "2025-05-27T10:50:17.949593Z",
     "start_time": "2025-05-27T10:50:17.909615Z"
    },
    "colab": {
     "base_uri": "https://localhost:8080/",
     "height": 163
    },
    "editable": true,
    "id": "b8715e3e-853c-4d18-8174-9e2690f29260",
    "outputId": "9ef9673b-fd59-40b8-ce9c-fe9d338f6a60",
    "tags": []
   },
   "outputs": [
    {
     "data": {
      "text/html": [
       "<div>\n",
       "<style scoped>\n",
       "    .dataframe tbody tr th:only-of-type {\n",
       "        vertical-align: middle;\n",
       "    }\n",
       "\n",
       "    .dataframe tbody tr th {\n",
       "        vertical-align: top;\n",
       "    }\n",
       "\n",
       "    .dataframe thead th {\n",
       "        text-align: right;\n",
       "    }\n",
       "</style>\n",
       "<table border=\"1\" class=\"dataframe\">\n",
       "  <thead>\n",
       "    <tr style=\"text-align: right;\">\n",
       "      <th></th>\n",
       "      <th>columns</th>\n",
       "      <th>total_nan</th>\n",
       "      <th>percent_nan</th>\n",
       "    </tr>\n",
       "  </thead>\n",
       "  <tbody>\n",
       "    <tr>\n",
       "      <th>0</th>\n",
       "      <td>Age</td>\n",
       "      <td>47</td>\n",
       "      <td>21.08%</td>\n",
       "    </tr>\n",
       "    <tr>\n",
       "      <th>1</th>\n",
       "      <td>Cabin</td>\n",
       "      <td>179</td>\n",
       "      <td>80.27%</td>\n",
       "    </tr>\n",
       "  </tbody>\n",
       "</table>\n",
       "</div>"
      ],
      "text/plain": [
       "  columns  total_nan percent_nan\n",
       "0     Age         47      21.08%\n",
       "1   Cabin        179      80.27%"
      ]
     },
     "execution_count": 26,
     "metadata": {},
     "output_type": "execute_result"
    }
   ],
   "source": [
    "check_n_nan(valid_x)"
   ]
  },
  {
   "cell_type": "code",
   "execution_count": 27,
   "id": "32fa3466-5591-4ccf-a15f-2f741871286b",
   "metadata": {
    "ExecuteTime": {
     "end_time": "2025-05-27T10:50:18.936752Z",
     "start_time": "2025-05-27T10:50:18.690614Z"
    },
    "colab": {
     "base_uri": "https://localhost:8080/",
     "height": 460
    },
    "id": "32fa3466-5591-4ccf-a15f-2f741871286b",
    "outputId": "31f9e002-3d69-4ef4-d49e-5a61bbf96ad1"
   },
   "outputs": [
    {
     "data": {
      "application/vnd.vegalite.v5+json": {
       "$schema": "https://vega.github.io/schema/vega-lite/v5.20.1.json",
       "config": {
        "axis": {
         "grid": false
        },
        "view": {
         "continuousHeight": 300,
         "continuousWidth": 300,
         "stroke": null
        }
       },
       "data": {
        "name": "data-95044b7f714ae14926c0478c03d3791d"
       },
       "datasets": {
        "data-95044b7f714ae14926c0478c03d3791d": [
         {
          "columns": "Pclass",
          "percent_nan": 0,
          "total_nan": 0
         },
         {
          "columns": "Name",
          "percent_nan": 0,
          "total_nan": 0
         },
         {
          "columns": "Sex",
          "percent_nan": 0,
          "total_nan": 0
         },
         {
          "columns": "Age",
          "percent_nan": 21,
          "total_nan": 47
         },
         {
          "columns": "SibSp",
          "percent_nan": 0,
          "total_nan": 0
         },
         {
          "columns": "Parch",
          "percent_nan": 0,
          "total_nan": 0
         },
         {
          "columns": "Ticket",
          "percent_nan": 0,
          "total_nan": 0
         },
         {
          "columns": "Fare",
          "percent_nan": 0,
          "total_nan": 0
         },
         {
          "columns": "Cabin",
          "percent_nan": 80,
          "total_nan": 179
         },
         {
          "columns": "Embarked",
          "percent_nan": 0,
          "total_nan": 0
         }
        ]
       },
       "encoding": {
        "color": {
         "field": "columns",
         "legend": {
          "orient": "right"
         },
         "scale": {
          "reverse": true,
          "scheme": "lightgreyred"
         },
         "type": "nominal"
        },
        "text": {
         "field": "columns",
         "type": "nominal"
        },
        "tooltip": [
         {
          "field": "columns",
          "type": "nominal"
         },
         {
          "field": "total_nan",
          "type": "quantitative"
         },
         {
          "field": "percent_nan",
          "type": "quantitative"
         }
        ],
        "x": {
         "field": "columns",
         "title": "Columns names",
         "type": "nominal"
        },
        "y": {
         "field": "percent_nan",
         "title": "Percentage of missing values",
         "type": "quantitative"
        }
       },
       "mark": {
        "cornerRadiusTopLeft": 5,
        "cornerRadiusTopRight": 5,
        "type": "bar"
       },
       "title": {
        "anchor": "start",
        "subtitle": "A chart represents missing data in x validation dataset",
        "text": "Percentage Of Missing values In X Validation Dataset"
       }
      },
      "text/plain": [
       "<VegaLite 5 object>\n",
       "\n",
       "If you see this message, it means the renderer has not been properly enabled\n",
       "for the frontend that you are using. For more information, see\n",
       "https://altair-viz.github.io/user_guide/display_frontends.html#troubleshooting\n"
      ]
     },
     "execution_count": 27,
     "metadata": {},
     "output_type": "execute_result"
    }
   ],
   "source": [
    "plot_nan(\n",
    "    valid_x,\n",
    "    name='x validation dataset',\n",
    "    only_nan=False,\n",
    "    use_percent=True\n",
    ")"
   ]
  },
  {
   "cell_type": "markdown",
   "id": "70cb1ef4-1b8f-4892-a56f-f2ebe9349ee4",
   "metadata": {
    "id": "70cb1ef4-1b8f-4892-a56f-f2ebe9349ee4"
   },
   "source": [
    "**conclusion:** In X validation data sample there are 16.14%(36) of Age column and 73.54%(164) of cabin column are the amount of missing data in the dataset from the data size of 223."
   ]
  },
  {
   "cell_type": "markdown",
   "id": "bb47e119-64ce-4244-b63f-689391592150",
   "metadata": {
    "id": "bb47e119-64ce-4244-b63f-689391592150"
   },
   "source": [
    "#### b) Observing missing data in test dataset"
   ]
  },
  {
   "cell_type": "code",
   "execution_count": 28,
   "id": "2e672b30-9557-411d-b6b5-817485fba03f",
   "metadata": {
    "ExecuteTime": {
     "end_time": "2025-05-27T10:50:19.691394Z",
     "start_time": "2025-05-27T10:50:19.633613Z"
    },
    "colab": {
     "base_uri": "https://localhost:8080/",
     "height": 163
    },
    "id": "2e672b30-9557-411d-b6b5-817485fba03f",
    "outputId": "85ae587c-1e0e-4e70-d1f1-7b93d97611fa"
   },
   "outputs": [
    {
     "data": {
      "text/html": [
       "<div>\n",
       "<style scoped>\n",
       "    .dataframe tbody tr th:only-of-type {\n",
       "        vertical-align: middle;\n",
       "    }\n",
       "\n",
       "    .dataframe tbody tr th {\n",
       "        vertical-align: top;\n",
       "    }\n",
       "\n",
       "    .dataframe thead th {\n",
       "        text-align: right;\n",
       "    }\n",
       "</style>\n",
       "<table border=\"1\" class=\"dataframe\">\n",
       "  <thead>\n",
       "    <tr style=\"text-align: right;\">\n",
       "      <th></th>\n",
       "      <th>columns</th>\n",
       "      <th>total_nan</th>\n",
       "      <th>percent_nan</th>\n",
       "    </tr>\n",
       "  </thead>\n",
       "  <tbody>\n",
       "    <tr>\n",
       "      <th>0</th>\n",
       "      <td>Age</td>\n",
       "      <td>86</td>\n",
       "      <td>20.57%</td>\n",
       "    </tr>\n",
       "    <tr>\n",
       "      <th>1</th>\n",
       "      <td>Fare</td>\n",
       "      <td>1</td>\n",
       "      <td>0.24%</td>\n",
       "    </tr>\n",
       "    <tr>\n",
       "      <th>2</th>\n",
       "      <td>Cabin</td>\n",
       "      <td>327</td>\n",
       "      <td>78.23%</td>\n",
       "    </tr>\n",
       "  </tbody>\n",
       "</table>\n",
       "</div>"
      ],
      "text/plain": [
       "  columns  total_nan percent_nan\n",
       "0     Age         86      20.57%\n",
       "1    Fare          1       0.24%\n",
       "2   Cabin        327      78.23%"
      ]
     },
     "execution_count": 28,
     "metadata": {},
     "output_type": "execute_result"
    }
   ],
   "source": [
    "check_n_nan(test_df)"
   ]
  },
  {
   "cell_type": "code",
   "execution_count": 29,
   "id": "606251fa-a05f-430b-b372-5aa5209d3dea",
   "metadata": {
    "ExecuteTime": {
     "end_time": "2025-05-27T10:50:21.583938Z",
     "start_time": "2025-05-27T10:50:21.307230Z"
    },
    "colab": {
     "base_uri": "https://localhost:8080/",
     "height": 460
    },
    "id": "606251fa-a05f-430b-b372-5aa5209d3dea",
    "outputId": "a5eea612-9b2b-4742-8165-bc8cac63dde8"
   },
   "outputs": [
    {
     "data": {
      "application/vnd.vegalite.v5+json": {
       "$schema": "https://vega.github.io/schema/vega-lite/v5.20.1.json",
       "config": {
        "axis": {
         "grid": false
        },
        "view": {
         "continuousHeight": 300,
         "continuousWidth": 300,
         "stroke": null
        }
       },
       "data": {
        "name": "data-dcb125812a966ffd090a54dbd7db12b3"
       },
       "datasets": {
        "data-dcb125812a966ffd090a54dbd7db12b3": [
         {
          "columns": "Pclass",
          "percent_nan": 0,
          "total_nan": 0
         },
         {
          "columns": "Name",
          "percent_nan": 0,
          "total_nan": 0
         },
         {
          "columns": "Sex",
          "percent_nan": 0,
          "total_nan": 0
         },
         {
          "columns": "Age",
          "percent_nan": 21,
          "total_nan": 86
         },
         {
          "columns": "SibSp",
          "percent_nan": 0,
          "total_nan": 0
         },
         {
          "columns": "Parch",
          "percent_nan": 0,
          "total_nan": 0
         },
         {
          "columns": "Ticket",
          "percent_nan": 0,
          "total_nan": 0
         },
         {
          "columns": "Fare",
          "percent_nan": 0,
          "total_nan": 1
         },
         {
          "columns": "Cabin",
          "percent_nan": 78,
          "total_nan": 327
         },
         {
          "columns": "Embarked",
          "percent_nan": 0,
          "total_nan": 0
         }
        ]
       },
       "encoding": {
        "color": {
         "field": "columns",
         "legend": {
          "orient": "right"
         },
         "scale": {
          "reverse": true,
          "scheme": "lightgreyred"
         },
         "type": "nominal"
        },
        "text": {
         "field": "columns",
         "type": "nominal"
        },
        "tooltip": [
         {
          "field": "columns",
          "type": "nominal"
         },
         {
          "field": "total_nan",
          "type": "quantitative"
         },
         {
          "field": "percent_nan",
          "type": "quantitative"
         }
        ],
        "x": {
         "field": "columns",
         "title": "Columns names",
         "type": "nominal"
        },
        "y": {
         "field": "total_nan",
         "title": "Number of missing values",
         "type": "quantitative"
        }
       },
       "mark": {
        "cornerRadiusTopLeft": 5,
        "cornerRadiusTopRight": 5,
        "type": "bar"
       },
       "title": {
        "anchor": "start",
        "subtitle": "A chart represents missing data in test dataset",
        "text": "Number Of Missing values In Test Dataset"
       }
      },
      "text/plain": [
       "<VegaLite 5 object>\n",
       "\n",
       "If you see this message, it means the renderer has not been properly enabled\n",
       "for the frontend that you are using. For more information, see\n",
       "https://altair-viz.github.io/user_guide/display_frontends.html#troubleshooting\n"
      ]
     },
     "execution_count": 29,
     "metadata": {},
     "output_type": "execute_result"
    }
   ],
   "source": [
    "plot_nan(\n",
    "    test_df,\n",
    "    name='test dataset',\n",
    "    only_nan=False,\n",
    "    use_percent=False\n",
    ")"
   ]
  },
  {
   "cell_type": "markdown",
   "id": "e3ea0e25-6bb5-408f-8671-709f7f0aa02a",
   "metadata": {
    "id": "e3ea0e25-6bb5-408f-8671-709f7f0aa02a"
   },
   "source": [
    "**conclusion:** The test data frame contains missing data of 20.57%(86) of Age column, 78.23%(327) of cabin column and 0.24%(1) of Fare column are the amount of missing data in the dataset from the data size of 418."
   ]
  },
  {
   "cell_type": "markdown",
   "id": "1fG6lnoslyaM",
   "metadata": {
    "id": "1fG6lnoslyaM",
    "jp-MarkdownHeadingCollapsed": true
   },
   "source": [
    "### ii) Handling the missing values (NaN)\n",
    "<p>Filling missing value in the dataframes</p>"
   ]
  },
  {
   "cell_type": "code",
   "execution_count": 30,
   "id": "e41f939a-2218-475c-b5e4-f27ca50a8ee8",
   "metadata": {
    "ExecuteTime": {
     "end_time": "2025-05-27T10:50:22.196215Z",
     "start_time": "2025-05-27T10:50:22.108806Z"
    },
    "id": "e41f939a-2218-475c-b5e4-f27ca50a8ee8"
   },
   "outputs": [],
   "source": [
    "class FillNaN:\n",
    "    def __init__(self, dfs: List[pd.DataFrame], fill_with: Dict[str, Any]) -> None:\n",
    "        self.dfs = dfs\n",
    "        self.fill_with = fill_with\n",
    "\n",
    "    @property\n",
    "    def fill(self) -> List[pd.DataFrame]:\n",
    "        \"\"\"\n",
    "        Fills missing values in the data frames.\n",
    "        :return: A tuple of data frames\n",
    "        \"\"\"\n",
    "        lst = []\n",
    "        for df in self.dfs:\n",
    "            for col, strat in self.fill_with.items():\n",
    "                df = self.strategy(df, strat=strat, col_name=col)\n",
    "            lst.append(df)\n",
    "        return lst\n",
    "\n",
    "    @staticmethod\n",
    "    def strategy(df: pd.DataFrame, strat: str, col_name: str) -> pd.DataFrame:\n",
    "        match strat:\n",
    "            case 'mean':\n",
    "                df[col_name] = df[col_name].fillna(df[col_name].mean())\n",
    "            case 'mode':\n",
    "                df[col_name] = df[col_name].fillna(df[col_name].mode()[0])\n",
    "            case 'min':\n",
    "                df[col_name] = df[col_name].fillna(df[col_name].min())\n",
    "            case 'max':\n",
    "                df[col_name] = df[col_name].fillna(df[col_name].max())\n",
    "            case 'median':\n",
    "                df[col_name] = df[col_name].fillna(df[col_name].median())\n",
    "            case 'bfill':\n",
    "                df[col_name] = df[col_name].bfill()\n",
    "            case 'ffill':\n",
    "                df[col_name] = df[col_name].ffill()\n",
    "            case \"drop\":\n",
    "                df = df.drop(col_name, axis=1)\n",
    "            case _:\n",
    "                raise ValueError(f\"Ooh, strategy has received invalid value `{strat}` for strat\")\n",
    "        return df"
   ]
  },
  {
   "cell_type": "markdown",
   "id": "e02ac5a6-7db2-4163-81f2-05dbf6a25e3a",
   "metadata": {
    "id": "e02ac5a6-7db2-4163-81f2-05dbf6a25e3a"
   },
   "source": [
    "Filling the missing value in age with mean, Fare with ffill, Embarked with mode and Cabin with drop."
   ]
  },
  {
   "cell_type": "code",
   "execution_count": 31,
   "id": "49baf8f2310caf73",
   "metadata": {
    "ExecuteTime": {
     "end_time": "2025-05-27T10:50:26.424890Z",
     "start_time": "2025-05-27T10:50:26.415088Z"
    },
    "id": "49baf8f2310caf73"
   },
   "outputs": [],
   "source": [
    "fill = FillNaN(\n",
    "    [train_x, valid_x, test_df],\n",
    "    {\"Age\": \"mean\",\n",
    "     \"Fare\": \"ffill\",\n",
    "     \"Embarked\": \"mode\",\n",
    "     \"Cabin\": \"drop\"})"
   ]
  },
  {
   "cell_type": "code",
   "execution_count": 32,
   "id": "dd679420-5066-4f16-a720-b9afa7a94312",
   "metadata": {
    "id": "dd679420-5066-4f16-a720-b9afa7a94312"
   },
   "outputs": [],
   "source": [
    "clean_train_x, clean_valid_x, clean_test_df = fill.fill"
   ]
  },
  {
   "cell_type": "markdown",
   "id": "3640be44-6901-4f13-b8f0-04f4867b45af",
   "metadata": {
    "id": "3640be44-6901-4f13-b8f0-04f4867b45af"
   },
   "source": [
    "Check if there still any missing values in the data."
   ]
  },
  {
   "cell_type": "markdown",
   "id": "c6c3ee03-6247-44c5-86ee-e3b1e5b5f004",
   "metadata": {
    "id": "c6c3ee03-6247-44c5-86ee-e3b1e5b5f004"
   },
   "source": [
    "**Clean train x**"
   ]
  },
  {
   "cell_type": "code",
   "execution_count": 33,
   "id": "c4338507-507b-4e59-be64-732a3a200c69",
   "metadata": {
    "colab": {
     "base_uri": "https://localhost:8080/",
     "height": 332
    },
    "id": "c4338507-507b-4e59-be64-732a3a200c69",
    "outputId": "18236591-37ce-4fa8-fbbf-fcee3ca12b30"
   },
   "outputs": [
    {
     "data": {
      "text/html": [
       "<div>\n",
       "<style scoped>\n",
       "    .dataframe tbody tr th:only-of-type {\n",
       "        vertical-align: middle;\n",
       "    }\n",
       "\n",
       "    .dataframe tbody tr th {\n",
       "        vertical-align: top;\n",
       "    }\n",
       "\n",
       "    .dataframe thead th {\n",
       "        text-align: right;\n",
       "    }\n",
       "</style>\n",
       "<table border=\"1\" class=\"dataframe\">\n",
       "  <thead>\n",
       "    <tr style=\"text-align: right;\">\n",
       "      <th></th>\n",
       "      <th>columns</th>\n",
       "      <th>total_nan</th>\n",
       "      <th>percent_nan</th>\n",
       "    </tr>\n",
       "  </thead>\n",
       "  <tbody>\n",
       "    <tr>\n",
       "      <th>0</th>\n",
       "      <td>Pclass</td>\n",
       "      <td>0</td>\n",
       "      <td>0.0%</td>\n",
       "    </tr>\n",
       "    <tr>\n",
       "      <th>1</th>\n",
       "      <td>Name</td>\n",
       "      <td>0</td>\n",
       "      <td>0.0%</td>\n",
       "    </tr>\n",
       "    <tr>\n",
       "      <th>2</th>\n",
       "      <td>Sex</td>\n",
       "      <td>0</td>\n",
       "      <td>0.0%</td>\n",
       "    </tr>\n",
       "    <tr>\n",
       "      <th>3</th>\n",
       "      <td>Age</td>\n",
       "      <td>0</td>\n",
       "      <td>0.0%</td>\n",
       "    </tr>\n",
       "    <tr>\n",
       "      <th>4</th>\n",
       "      <td>SibSp</td>\n",
       "      <td>0</td>\n",
       "      <td>0.0%</td>\n",
       "    </tr>\n",
       "    <tr>\n",
       "      <th>5</th>\n",
       "      <td>Parch</td>\n",
       "      <td>0</td>\n",
       "      <td>0.0%</td>\n",
       "    </tr>\n",
       "    <tr>\n",
       "      <th>6</th>\n",
       "      <td>Ticket</td>\n",
       "      <td>0</td>\n",
       "      <td>0.0%</td>\n",
       "    </tr>\n",
       "    <tr>\n",
       "      <th>7</th>\n",
       "      <td>Fare</td>\n",
       "      <td>0</td>\n",
       "      <td>0.0%</td>\n",
       "    </tr>\n",
       "    <tr>\n",
       "      <th>8</th>\n",
       "      <td>Embarked</td>\n",
       "      <td>0</td>\n",
       "      <td>0.0%</td>\n",
       "    </tr>\n",
       "  </tbody>\n",
       "</table>\n",
       "</div>"
      ],
      "text/plain": [
       "    columns  total_nan percent_nan\n",
       "0    Pclass          0        0.0%\n",
       "1      Name          0        0.0%\n",
       "2       Sex          0        0.0%\n",
       "3       Age          0        0.0%\n",
       "4     SibSp          0        0.0%\n",
       "5     Parch          0        0.0%\n",
       "6    Ticket          0        0.0%\n",
       "7      Fare          0        0.0%\n",
       "8  Embarked          0        0.0%"
      ]
     },
     "execution_count": 33,
     "metadata": {},
     "output_type": "execute_result"
    }
   ],
   "source": [
    "check_n_nan(clean_train_x, only_nan=False)"
   ]
  },
  {
   "cell_type": "markdown",
   "id": "a921d930-643d-4dd8-88bd-5a7a5b0eebc4",
   "metadata": {
    "id": "a921d930-643d-4dd8-88bd-5a7a5b0eebc4"
   },
   "source": [
    "**Clean valid x**"
   ]
  },
  {
   "cell_type": "code",
   "execution_count": 34,
   "id": "e98096ce-d542-4dbf-b9e1-a609f52f9daf",
   "metadata": {
    "colab": {
     "base_uri": "https://localhost:8080/",
     "height": 332
    },
    "id": "e98096ce-d542-4dbf-b9e1-a609f52f9daf",
    "outputId": "de8b8f3e-39d7-4e4b-9979-4f84d01a959a"
   },
   "outputs": [
    {
     "data": {
      "text/html": [
       "<div>\n",
       "<style scoped>\n",
       "    .dataframe tbody tr th:only-of-type {\n",
       "        vertical-align: middle;\n",
       "    }\n",
       "\n",
       "    .dataframe tbody tr th {\n",
       "        vertical-align: top;\n",
       "    }\n",
       "\n",
       "    .dataframe thead th {\n",
       "        text-align: right;\n",
       "    }\n",
       "</style>\n",
       "<table border=\"1\" class=\"dataframe\">\n",
       "  <thead>\n",
       "    <tr style=\"text-align: right;\">\n",
       "      <th></th>\n",
       "      <th>columns</th>\n",
       "      <th>total_nan</th>\n",
       "      <th>percent_nan</th>\n",
       "    </tr>\n",
       "  </thead>\n",
       "  <tbody>\n",
       "    <tr>\n",
       "      <th>0</th>\n",
       "      <td>Pclass</td>\n",
       "      <td>0</td>\n",
       "      <td>0.0%</td>\n",
       "    </tr>\n",
       "    <tr>\n",
       "      <th>1</th>\n",
       "      <td>Name</td>\n",
       "      <td>0</td>\n",
       "      <td>0.0%</td>\n",
       "    </tr>\n",
       "    <tr>\n",
       "      <th>2</th>\n",
       "      <td>Sex</td>\n",
       "      <td>0</td>\n",
       "      <td>0.0%</td>\n",
       "    </tr>\n",
       "    <tr>\n",
       "      <th>3</th>\n",
       "      <td>Age</td>\n",
       "      <td>0</td>\n",
       "      <td>0.0%</td>\n",
       "    </tr>\n",
       "    <tr>\n",
       "      <th>4</th>\n",
       "      <td>SibSp</td>\n",
       "      <td>0</td>\n",
       "      <td>0.0%</td>\n",
       "    </tr>\n",
       "    <tr>\n",
       "      <th>5</th>\n",
       "      <td>Parch</td>\n",
       "      <td>0</td>\n",
       "      <td>0.0%</td>\n",
       "    </tr>\n",
       "    <tr>\n",
       "      <th>6</th>\n",
       "      <td>Ticket</td>\n",
       "      <td>0</td>\n",
       "      <td>0.0%</td>\n",
       "    </tr>\n",
       "    <tr>\n",
       "      <th>7</th>\n",
       "      <td>Fare</td>\n",
       "      <td>0</td>\n",
       "      <td>0.0%</td>\n",
       "    </tr>\n",
       "    <tr>\n",
       "      <th>8</th>\n",
       "      <td>Embarked</td>\n",
       "      <td>0</td>\n",
       "      <td>0.0%</td>\n",
       "    </tr>\n",
       "  </tbody>\n",
       "</table>\n",
       "</div>"
      ],
      "text/plain": [
       "    columns  total_nan percent_nan\n",
       "0    Pclass          0        0.0%\n",
       "1      Name          0        0.0%\n",
       "2       Sex          0        0.0%\n",
       "3       Age          0        0.0%\n",
       "4     SibSp          0        0.0%\n",
       "5     Parch          0        0.0%\n",
       "6    Ticket          0        0.0%\n",
       "7      Fare          0        0.0%\n",
       "8  Embarked          0        0.0%"
      ]
     },
     "execution_count": 34,
     "metadata": {},
     "output_type": "execute_result"
    }
   ],
   "source": [
    "check_n_nan(clean_valid_x, only_nan=False)"
   ]
  },
  {
   "cell_type": "markdown",
   "id": "f47f5343-6754-4d6f-a4c3-bd1e34ba57fd",
   "metadata": {
    "id": "f47f5343-6754-4d6f-a4c3-bd1e34ba57fd"
   },
   "source": [
    "**Clean test df**"
   ]
  },
  {
   "cell_type": "code",
   "execution_count": 35,
   "id": "f66869ed-6594-4fe7-8ec5-2648d23ae372",
   "metadata": {
    "colab": {
     "base_uri": "https://localhost:8080/",
     "height": 332
    },
    "id": "f66869ed-6594-4fe7-8ec5-2648d23ae372",
    "outputId": "42e4df4b-7f57-4069-dd59-450a6e8cb425"
   },
   "outputs": [
    {
     "data": {
      "text/html": [
       "<div>\n",
       "<style scoped>\n",
       "    .dataframe tbody tr th:only-of-type {\n",
       "        vertical-align: middle;\n",
       "    }\n",
       "\n",
       "    .dataframe tbody tr th {\n",
       "        vertical-align: top;\n",
       "    }\n",
       "\n",
       "    .dataframe thead th {\n",
       "        text-align: right;\n",
       "    }\n",
       "</style>\n",
       "<table border=\"1\" class=\"dataframe\">\n",
       "  <thead>\n",
       "    <tr style=\"text-align: right;\">\n",
       "      <th></th>\n",
       "      <th>columns</th>\n",
       "      <th>total_nan</th>\n",
       "      <th>percent_nan</th>\n",
       "    </tr>\n",
       "  </thead>\n",
       "  <tbody>\n",
       "    <tr>\n",
       "      <th>0</th>\n",
       "      <td>Pclass</td>\n",
       "      <td>0</td>\n",
       "      <td>0.0%</td>\n",
       "    </tr>\n",
       "    <tr>\n",
       "      <th>1</th>\n",
       "      <td>Name</td>\n",
       "      <td>0</td>\n",
       "      <td>0.0%</td>\n",
       "    </tr>\n",
       "    <tr>\n",
       "      <th>2</th>\n",
       "      <td>Sex</td>\n",
       "      <td>0</td>\n",
       "      <td>0.0%</td>\n",
       "    </tr>\n",
       "    <tr>\n",
       "      <th>3</th>\n",
       "      <td>Age</td>\n",
       "      <td>0</td>\n",
       "      <td>0.0%</td>\n",
       "    </tr>\n",
       "    <tr>\n",
       "      <th>4</th>\n",
       "      <td>SibSp</td>\n",
       "      <td>0</td>\n",
       "      <td>0.0%</td>\n",
       "    </tr>\n",
       "    <tr>\n",
       "      <th>5</th>\n",
       "      <td>Parch</td>\n",
       "      <td>0</td>\n",
       "      <td>0.0%</td>\n",
       "    </tr>\n",
       "    <tr>\n",
       "      <th>6</th>\n",
       "      <td>Ticket</td>\n",
       "      <td>0</td>\n",
       "      <td>0.0%</td>\n",
       "    </tr>\n",
       "    <tr>\n",
       "      <th>7</th>\n",
       "      <td>Fare</td>\n",
       "      <td>0</td>\n",
       "      <td>0.0%</td>\n",
       "    </tr>\n",
       "    <tr>\n",
       "      <th>8</th>\n",
       "      <td>Embarked</td>\n",
       "      <td>0</td>\n",
       "      <td>0.0%</td>\n",
       "    </tr>\n",
       "  </tbody>\n",
       "</table>\n",
       "</div>"
      ],
      "text/plain": [
       "    columns  total_nan percent_nan\n",
       "0    Pclass          0        0.0%\n",
       "1      Name          0        0.0%\n",
       "2       Sex          0        0.0%\n",
       "3       Age          0        0.0%\n",
       "4     SibSp          0        0.0%\n",
       "5     Parch          0        0.0%\n",
       "6    Ticket          0        0.0%\n",
       "7      Fare          0        0.0%\n",
       "8  Embarked          0        0.0%"
      ]
     },
     "execution_count": 35,
     "metadata": {},
     "output_type": "execute_result"
    }
   ],
   "source": [
    "check_n_nan(clean_test_df, only_nan=False)"
   ]
  },
  {
   "cell_type": "markdown",
   "id": "91b54b41-383b-4638-8a49-48aa3a664533",
   "metadata": {
    "id": "91b54b41-383b-4638-8a49-48aa3a664533"
   },
   "source": [
    "### iii) Handling the categorical columns\n",
    "<p>Encode categorical column to integer and drop high cardinality columns in the dataframes</p>"
   ]
  },
  {
   "cell_type": "code",
   "execution_count": 36,
   "id": "cf0c58c5-1da2-4960-a1e1-29e50cb892ba",
   "metadata": {
    "id": "cf0c58c5-1da2-4960-a1e1-29e50cb892ba"
   },
   "outputs": [],
   "source": [
    "class CategoryEncoder:\n",
    "    def __init__(\n",
    "            self,\n",
    "            datasets: List[pd.DataFrame],\n",
    "            handle_with: Dict[str, str],\n",
    "            ) -> None:\n",
    "        self.datasets = datasets\n",
    "        self.handle_with = handle_with\n",
    "\n",
    "    def strategy(self, df: pd.DataFrame, col: str, strat: str) -> pd.DataFrame:\n",
    "        match strat:\n",
    "            case 'label_encode':\n",
    "                series = df[col].astype('category').cat.codes\n",
    "                df[col] = series\n",
    "            case 'one_hot_encode':\n",
    "                data = pd.get_dummies(\n",
    "                    df[col],\n",
    "                    columns=list(df[col].unique())\n",
    "                    ).astype(int)\n",
    "                df = pd.concat([df, data], axis=1)\n",
    "                df = df.drop(col, axis=1)\n",
    "            case 'drop':\n",
    "                df = df.drop(col, axis=1)\n",
    "            case _:\n",
    "                raise ValueError()\n",
    "\n",
    "        return df\n",
    "\n",
    "    def encode(self) -> List[pd.DataFrame]:\n",
    "        \"\"\"\n",
    "        Encode categorical columns to integer.\n",
    "        :return: A tuple of data frames\n",
    "        \"\"\"\n",
    "\n",
    "        datasets = []\n",
    "\n",
    "        for dataset in self.datasets:\n",
    "            for col, strat in self.handle_with.items():\n",
    "                dataset = self.strategy(dataset, col, strat)\n",
    "            datasets.append(dataset)\n",
    "\n",
    "        return datasets"
   ]
  },
  {
   "cell_type": "code",
   "execution_count": 37,
   "id": "eca0ff4c-7fc9-4fa6-a9d0-2d18f0594c3d",
   "metadata": {
    "colab": {
     "base_uri": "https://localhost:8080/",
     "height": 272
    },
    "id": "eca0ff4c-7fc9-4fa6-a9d0-2d18f0594c3d",
    "outputId": "599612e5-eb70-480d-e73f-e5dfeb57a6e2"
   },
   "outputs": [
    {
     "data": {
      "text/html": [
       "<div>\n",
       "<style scoped>\n",
       "    .dataframe tbody tr th:only-of-type {\n",
       "        vertical-align: middle;\n",
       "    }\n",
       "\n",
       "    .dataframe tbody tr th {\n",
       "        vertical-align: top;\n",
       "    }\n",
       "\n",
       "    .dataframe thead th {\n",
       "        text-align: right;\n",
       "    }\n",
       "</style>\n",
       "<table border=\"1\" class=\"dataframe\">\n",
       "  <thead>\n",
       "    <tr style=\"text-align: right;\">\n",
       "      <th></th>\n",
       "      <th>Pclass</th>\n",
       "      <th>Name</th>\n",
       "      <th>Sex</th>\n",
       "      <th>Age</th>\n",
       "      <th>SibSp</th>\n",
       "      <th>Parch</th>\n",
       "      <th>Ticket</th>\n",
       "      <th>Fare</th>\n",
       "      <th>Embarked</th>\n",
       "    </tr>\n",
       "    <tr>\n",
       "      <th>PassengerId</th>\n",
       "      <th></th>\n",
       "      <th></th>\n",
       "      <th></th>\n",
       "      <th></th>\n",
       "      <th></th>\n",
       "      <th></th>\n",
       "      <th></th>\n",
       "      <th></th>\n",
       "      <th></th>\n",
       "    </tr>\n",
       "  </thead>\n",
       "  <tbody>\n",
       "    <tr>\n",
       "      <th>482</th>\n",
       "      <td>2</td>\n",
       "      <td>Frost, Mr. Anthony Wood \"Archie\"</td>\n",
       "      <td>male</td>\n",
       "      <td>29.857193</td>\n",
       "      <td>0</td>\n",
       "      <td>0</td>\n",
       "      <td>239854</td>\n",
       "      <td>0.0000</td>\n",
       "      <td>S</td>\n",
       "    </tr>\n",
       "    <tr>\n",
       "      <th>104</th>\n",
       "      <td>3</td>\n",
       "      <td>Johansson, Mr. Gustaf Joel</td>\n",
       "      <td>male</td>\n",
       "      <td>33.000000</td>\n",
       "      <td>0</td>\n",
       "      <td>0</td>\n",
       "      <td>7540</td>\n",
       "      <td>8.6542</td>\n",
       "      <td>S</td>\n",
       "    </tr>\n",
       "    <tr>\n",
       "      <th>210</th>\n",
       "      <td>1</td>\n",
       "      <td>Blank, Mr. Henry</td>\n",
       "      <td>male</td>\n",
       "      <td>40.000000</td>\n",
       "      <td>0</td>\n",
       "      <td>0</td>\n",
       "      <td>112277</td>\n",
       "      <td>31.0000</td>\n",
       "      <td>C</td>\n",
       "    </tr>\n",
       "    <tr>\n",
       "      <th>656</th>\n",
       "      <td>2</td>\n",
       "      <td>Hickman, Mr. Leonard Mark</td>\n",
       "      <td>male</td>\n",
       "      <td>24.000000</td>\n",
       "      <td>2</td>\n",
       "      <td>0</td>\n",
       "      <td>S.O.C. 14879</td>\n",
       "      <td>73.5000</td>\n",
       "      <td>S</td>\n",
       "    </tr>\n",
       "    <tr>\n",
       "      <th>268</th>\n",
       "      <td>3</td>\n",
       "      <td>Persson, Mr. Ernst Ulrik</td>\n",
       "      <td>male</td>\n",
       "      <td>25.000000</td>\n",
       "      <td>1</td>\n",
       "      <td>0</td>\n",
       "      <td>347083</td>\n",
       "      <td>7.7750</td>\n",
       "      <td>S</td>\n",
       "    </tr>\n",
       "  </tbody>\n",
       "</table>\n",
       "</div>"
      ],
      "text/plain": [
       "             Pclass                              Name   Sex        Age  SibSp  \\\n",
       "PassengerId                                                                     \n",
       "482               2  Frost, Mr. Anthony Wood \"Archie\"  male  29.857193      0   \n",
       "104               3        Johansson, Mr. Gustaf Joel  male  33.000000      0   \n",
       "210               1                  Blank, Mr. Henry  male  40.000000      0   \n",
       "656               2         Hickman, Mr. Leonard Mark  male  24.000000      2   \n",
       "268               3          Persson, Mr. Ernst Ulrik  male  25.000000      1   \n",
       "\n",
       "             Parch        Ticket     Fare Embarked  \n",
       "PassengerId                                         \n",
       "482              0        239854   0.0000        S  \n",
       "104              0          7540   8.6542        S  \n",
       "210              0        112277  31.0000        C  \n",
       "656              0  S.O.C. 14879  73.5000        S  \n",
       "268              0        347083   7.7750        S  "
      ]
     },
     "execution_count": 37,
     "metadata": {},
     "output_type": "execute_result"
    }
   ],
   "source": [
    "# First five rows from the clean train x.\n",
    "clean_train_x.head()"
   ]
  },
  {
   "cell_type": "code",
   "execution_count": 38,
   "id": "a66e4adf-98d5-4c3f-89d3-36b285f36b01",
   "metadata": {
    "colab": {
     "base_uri": "https://localhost:8080/",
     "height": 238
    },
    "id": "a66e4adf-98d5-4c3f-89d3-36b285f36b01",
    "outputId": "c6c23d8a-6666-4d66-db1c-65e29187999c"
   },
   "outputs": [
    {
     "data": {
      "text/html": [
       "<div>\n",
       "<style scoped>\n",
       "    .dataframe tbody tr th:only-of-type {\n",
       "        vertical-align: middle;\n",
       "    }\n",
       "\n",
       "    .dataframe tbody tr th {\n",
       "        vertical-align: top;\n",
       "    }\n",
       "\n",
       "    .dataframe thead th {\n",
       "        text-align: right;\n",
       "    }\n",
       "</style>\n",
       "<table border=\"1\" class=\"dataframe\">\n",
       "  <thead>\n",
       "    <tr style=\"text-align: right;\">\n",
       "      <th></th>\n",
       "      <th>Name</th>\n",
       "      <th>Sex</th>\n",
       "      <th>Ticket</th>\n",
       "      <th>Embarked</th>\n",
       "    </tr>\n",
       "    <tr>\n",
       "      <th>PassengerId</th>\n",
       "      <th></th>\n",
       "      <th></th>\n",
       "      <th></th>\n",
       "      <th></th>\n",
       "    </tr>\n",
       "  </thead>\n",
       "  <tbody>\n",
       "    <tr>\n",
       "      <th>482</th>\n",
       "      <td>Frost, Mr. Anthony Wood \"Archie\"</td>\n",
       "      <td>male</td>\n",
       "      <td>239854</td>\n",
       "      <td>S</td>\n",
       "    </tr>\n",
       "    <tr>\n",
       "      <th>104</th>\n",
       "      <td>Johansson, Mr. Gustaf Joel</td>\n",
       "      <td>male</td>\n",
       "      <td>7540</td>\n",
       "      <td>S</td>\n",
       "    </tr>\n",
       "    <tr>\n",
       "      <th>210</th>\n",
       "      <td>Blank, Mr. Henry</td>\n",
       "      <td>male</td>\n",
       "      <td>112277</td>\n",
       "      <td>C</td>\n",
       "    </tr>\n",
       "    <tr>\n",
       "      <th>656</th>\n",
       "      <td>Hickman, Mr. Leonard Mark</td>\n",
       "      <td>male</td>\n",
       "      <td>S.O.C. 14879</td>\n",
       "      <td>S</td>\n",
       "    </tr>\n",
       "    <tr>\n",
       "      <th>268</th>\n",
       "      <td>Persson, Mr. Ernst Ulrik</td>\n",
       "      <td>male</td>\n",
       "      <td>347083</td>\n",
       "      <td>S</td>\n",
       "    </tr>\n",
       "  </tbody>\n",
       "</table>\n",
       "</div>"
      ],
      "text/plain": [
       "                                         Name   Sex        Ticket Embarked\n",
       "PassengerId                                                               \n",
       "482          Frost, Mr. Anthony Wood \"Archie\"  male        239854        S\n",
       "104                Johansson, Mr. Gustaf Joel  male          7540        S\n",
       "210                          Blank, Mr. Henry  male        112277        C\n",
       "656                 Hickman, Mr. Leonard Mark  male  S.O.C. 14879        S\n",
       "268                  Persson, Mr. Ernst Ulrik  male        347083        S"
      ]
     },
     "execution_count": 38,
     "metadata": {},
     "output_type": "execute_result"
    }
   ],
   "source": [
    "# Exclude the int and float from the data.\n",
    "cat_df = clean_train_x.select_dtypes(exclude=[int, float])\n",
    "cat_df.head()"
   ]
  },
  {
   "cell_type": "code",
   "execution_count": 39,
   "id": "0184a184-33b9-491a-a7ed-5d84996652bd",
   "metadata": {
    "colab": {
     "base_uri": "https://localhost:8080/"
    },
    "id": "0184a184-33b9-491a-a7ed-5d84996652bd",
    "outputId": "b7b7f9de-2ae1-468b-d90f-1dd811b28475"
   },
   "outputs": [
    {
     "data": {
      "text/plain": [
       "['Name', 'Sex', 'Ticket', 'Embarked']"
      ]
     },
     "execution_count": 39,
     "metadata": {},
     "output_type": "execute_result"
    }
   ],
   "source": [
    "# Fetch the categorical columns.\n",
    "cat_columns = list(cat_df.columns)\n",
    "cat_columns"
   ]
  },
  {
   "cell_type": "markdown",
   "id": "34387b53-4a71-48fa-a3b6-978c49b8d9c6",
   "metadata": {
    "id": "34387b53-4a71-48fa-a3b6-978c49b8d9c6"
   },
   "source": [
    "Check for columns with high cardinality column in the data."
   ]
  },
  {
   "cell_type": "code",
   "execution_count": 40,
   "id": "5219b3ce-592a-4173-8d2d-943f9d9b7146",
   "metadata": {
    "colab": {
     "base_uri": "https://localhost:8080/",
     "height": 210
    },
    "id": "5219b3ce-592a-4173-8d2d-943f9d9b7146",
    "outputId": "49c8e981-82d0-48be-e686-8fcbec7cf856"
   },
   "outputs": [
    {
     "data": {
      "text/plain": [
       "Name        668\n",
       "Sex           2\n",
       "Ticket      533\n",
       "Embarked      3\n",
       "dtype: int64"
      ]
     },
     "execution_count": 40,
     "metadata": {},
     "output_type": "execute_result"
    }
   ],
   "source": [
    "clean_train_x[cat_columns].nunique()"
   ]
  },
  {
   "cell_type": "code",
   "execution_count": 41,
   "id": "IL7kBIALo20Z",
   "metadata": {
    "id": "IL7kBIALo20Z"
   },
   "outputs": [],
   "source": [
    "# Instantiate the CategoryEncoder\n",
    "encoder = CategoryEncoder(\n",
    "    [clean_train_x, clean_valid_x, clean_test_df],\n",
    "    {\n",
    "        \"Sex\": \"label_encode\",\n",
    "        \"Embarked\": \"one_hot_encode\",\n",
    "        \"Name\": \"drop\",\n",
    "        \"Ticket\": \"drop\"\n",
    "    }\n",
    ")\n",
    "\n",
    "# Encode the column\n",
    "num_train_x, num_valid_x, num_test_df = encoder.encode()"
   ]
  },
  {
   "cell_type": "code",
   "execution_count": 42,
   "id": "FToJ4UKosTyc",
   "metadata": {
    "colab": {
     "base_uri": "https://localhost:8080/",
     "height": 366
    },
    "id": "FToJ4UKosTyc",
    "outputId": "ed558dc5-e721-419c-bfb8-733b4d86eb13"
   },
   "outputs": [
    {
     "data": {
      "text/plain": [
       "Pclass      int64\n",
       "Sex          int8\n",
       "Age       float64\n",
       "SibSp       int64\n",
       "Parch       int64\n",
       "Fare      float64\n",
       "C           int64\n",
       "Q           int64\n",
       "S           int64\n",
       "dtype: object"
      ]
     },
     "execution_count": 42,
     "metadata": {},
     "output_type": "execute_result"
    }
   ],
   "source": [
    "num_train_x.dtypes"
   ]
  },
  {
   "cell_type": "markdown",
   "id": "ii49SEPHKcF5",
   "metadata": {
    "id": "ii49SEPHKcF5"
   },
   "source": [
    "## 7) **Data visualisation**\n",
    "<p>Represeting the data in graphical way like making chart</p>"
   ]
  },
  {
   "cell_type": "code",
   "execution_count": 43,
   "id": "ulg7TDeg7bf-",
   "metadata": {
    "colab": {
     "base_uri": "https://localhost:8080/",
     "height": 307
    },
    "id": "ulg7TDeg7bf-",
    "outputId": "2d2dda9e-95f3-400c-a4f3-484c77335fc1"
   },
   "outputs": [
    {
     "data": {
      "text/html": [
       "<div>\n",
       "<style scoped>\n",
       "    .dataframe tbody tr th:only-of-type {\n",
       "        vertical-align: middle;\n",
       "    }\n",
       "\n",
       "    .dataframe tbody tr th {\n",
       "        vertical-align: top;\n",
       "    }\n",
       "\n",
       "    .dataframe thead th {\n",
       "        text-align: right;\n",
       "    }\n",
       "</style>\n",
       "<table border=\"1\" class=\"dataframe\">\n",
       "  <thead>\n",
       "    <tr style=\"text-align: right;\">\n",
       "      <th></th>\n",
       "      <th>Pclass</th>\n",
       "      <th>Name</th>\n",
       "      <th>Sex</th>\n",
       "      <th>Age</th>\n",
       "      <th>SibSp</th>\n",
       "      <th>Parch</th>\n",
       "      <th>Ticket</th>\n",
       "      <th>Fare</th>\n",
       "      <th>Embarked</th>\n",
       "      <th>Survived</th>\n",
       "    </tr>\n",
       "    <tr>\n",
       "      <th>PassengerId</th>\n",
       "      <th></th>\n",
       "      <th></th>\n",
       "      <th></th>\n",
       "      <th></th>\n",
       "      <th></th>\n",
       "      <th></th>\n",
       "      <th></th>\n",
       "      <th></th>\n",
       "      <th></th>\n",
       "      <th></th>\n",
       "    </tr>\n",
       "  </thead>\n",
       "  <tbody>\n",
       "    <tr>\n",
       "      <th>482</th>\n",
       "      <td>2</td>\n",
       "      <td>Frost, Mr. Anthony Wood \"Archie\"</td>\n",
       "      <td>1</td>\n",
       "      <td>29.857193</td>\n",
       "      <td>0</td>\n",
       "      <td>0</td>\n",
       "      <td>239854</td>\n",
       "      <td>0.0000</td>\n",
       "      <td>S</td>\n",
       "      <td>0</td>\n",
       "    </tr>\n",
       "    <tr>\n",
       "      <th>104</th>\n",
       "      <td>3</td>\n",
       "      <td>Johansson, Mr. Gustaf Joel</td>\n",
       "      <td>1</td>\n",
       "      <td>33.000000</td>\n",
       "      <td>0</td>\n",
       "      <td>0</td>\n",
       "      <td>7540</td>\n",
       "      <td>8.6542</td>\n",
       "      <td>S</td>\n",
       "      <td>0</td>\n",
       "    </tr>\n",
       "    <tr>\n",
       "      <th>210</th>\n",
       "      <td>1</td>\n",
       "      <td>Blank, Mr. Henry</td>\n",
       "      <td>1</td>\n",
       "      <td>40.000000</td>\n",
       "      <td>0</td>\n",
       "      <td>0</td>\n",
       "      <td>112277</td>\n",
       "      <td>31.0000</td>\n",
       "      <td>C</td>\n",
       "      <td>1</td>\n",
       "    </tr>\n",
       "    <tr>\n",
       "      <th>656</th>\n",
       "      <td>2</td>\n",
       "      <td>Hickman, Mr. Leonard Mark</td>\n",
       "      <td>1</td>\n",
       "      <td>24.000000</td>\n",
       "      <td>2</td>\n",
       "      <td>0</td>\n",
       "      <td>S.O.C. 14879</td>\n",
       "      <td>73.5000</td>\n",
       "      <td>S</td>\n",
       "      <td>0</td>\n",
       "    </tr>\n",
       "    <tr>\n",
       "      <th>268</th>\n",
       "      <td>3</td>\n",
       "      <td>Persson, Mr. Ernst Ulrik</td>\n",
       "      <td>1</td>\n",
       "      <td>25.000000</td>\n",
       "      <td>1</td>\n",
       "      <td>0</td>\n",
       "      <td>347083</td>\n",
       "      <td>7.7750</td>\n",
       "      <td>S</td>\n",
       "      <td>1</td>\n",
       "    </tr>\n",
       "  </tbody>\n",
       "</table>\n",
       "</div>"
      ],
      "text/plain": [
       "             Pclass                              Name  Sex        Age  SibSp  \\\n",
       "PassengerId                                                                    \n",
       "482               2  Frost, Mr. Anthony Wood \"Archie\"    1  29.857193      0   \n",
       "104               3        Johansson, Mr. Gustaf Joel    1  33.000000      0   \n",
       "210               1                  Blank, Mr. Henry    1  40.000000      0   \n",
       "656               2         Hickman, Mr. Leonard Mark    1  24.000000      2   \n",
       "268               3          Persson, Mr. Ernst Ulrik    1  25.000000      1   \n",
       "\n",
       "             Parch        Ticket     Fare Embarked  Survived  \n",
       "PassengerId                                                   \n",
       "482              0        239854   0.0000        S         0  \n",
       "104              0          7540   8.6542        S         0  \n",
       "210              0        112277  31.0000        C         1  \n",
       "656              0  S.O.C. 14879  73.5000        S         0  \n",
       "268              0        347083   7.7750        S         1  "
      ]
     },
     "execution_count": 43,
     "metadata": {},
     "output_type": "execute_result"
    }
   ],
   "source": [
    "visual_df = pd.concat([clean_train_x, clean_valid_x])\n",
    "visual_df['Survived'] = np.concatenate([train_y, valid_y])\n",
    "visual_df.head()"
   ]
  },
  {
   "cell_type": "code",
   "execution_count": null,
   "id": "UsL0fsm4MDiA",
   "metadata": {
    "colab": {
     "base_uri": "https://localhost:8080/",
     "height": 519
    },
    "id": "UsL0fsm4MDiA",
    "outputId": "a0e79681-eb60-41c6-c949-fc0ecfe8ea19"
   },
   "outputs": [
    {
     "data": {
      "application/vnd.vegalite.v5+json": {
       "$schema": "https://vega.github.io/schema/vega-lite/v5.20.1.json",
       "config": {
        "view": {
         "continuousHeight": 300,
         "continuousWidth": 300,
         "stroke": null
        }
       },
       "datasets": {
        "data-54f35c6947c2bd21d458b28dd4e722b2": [
         {
          "Age": 29.857193308550187,
          "Embarked": "S",
          "Fare": 0,
          "Name": "Frost, Mr. Anthony Wood \"Archie\"",
          "Parch": 0,
          "Pclass": 2,
          "Sex": 1,
          "SibSp": 0,
          "Ticket": "239854"
         },
         {
          "Age": 33,
          "Embarked": "S",
          "Fare": 8.6542,
          "Name": "Johansson, Mr. Gustaf Joel",
          "Parch": 0,
          "Pclass": 3,
          "Sex": 1,
          "SibSp": 0,
          "Ticket": "7540"
         },
         {
          "Age": 40,
          "Embarked": "C",
          "Fare": 31,
          "Name": "Blank, Mr. Henry",
          "Parch": 0,
          "Pclass": 1,
          "Sex": 1,
          "SibSp": 0,
          "Ticket": "112277"
         },
         {
          "Age": 24,
          "Embarked": "S",
          "Fare": 73.5,
          "Name": "Hickman, Mr. Leonard Mark",
          "Parch": 0,
          "Pclass": 2,
          "Sex": 1,
          "SibSp": 2,
          "Ticket": "S.O.C. 14879"
         },
         {
          "Age": 25,
          "Embarked": "S",
          "Fare": 7.775,
          "Name": "Persson, Mr. Ernst Ulrik",
          "Parch": 0,
          "Pclass": 3,
          "Sex": 1,
          "SibSp": 1,
          "Ticket": "347083"
         },
         {
          "Age": 20,
          "Embarked": "S",
          "Fare": 7.8542,
          "Name": "Jensen, Mr. Hans Peder",
          "Parch": 0,
          "Pclass": 3,
          "Sex": 1,
          "SibSp": 0,
          "Ticket": "350050"
         },
         {
          "Age": 0.83,
          "Embarked": "S",
          "Fare": 29,
          "Name": "Caldwell, Master. Alden Gates",
          "Parch": 2,
          "Pclass": 2,
          "Sex": 1,
          "SibSp": 0,
          "Ticket": "248738"
         },
         {
          "Age": 17,
          "Embarked": "C",
          "Fare": 14.4583,
          "Name": "Attalah, Miss. Malake",
          "Parch": 0,
          "Pclass": 3,
          "Sex": 0,
          "SibSp": 0,
          "Ticket": "2627"
         },
         {
          "Age": 19,
          "Embarked": "S",
          "Fare": 26,
          "Name": "Phillips, Miss. Kate Florence (\"Mrs Kate Louise Phillips Marshall\")",
          "Parch": 0,
          "Pclass": 2,
          "Sex": 0,
          "SibSp": 0,
          "Ticket": "250655"
         },
         {
          "Age": 29.857193308550187,
          "Embarked": "S",
          "Fare": 33,
          "Name": "Leitch, Miss. Jessie Wills",
          "Parch": 0,
          "Pclass": 2,
          "Sex": 0,
          "SibSp": 0,
          "Ticket": "248727"
         },
         {
          "Age": 29.857193308550187,
          "Embarked": "S",
          "Fare": 15.1,
          "Name": "Shellard, Mr. Frederick William",
          "Parch": 0,
          "Pclass": 3,
          "Sex": 1,
          "SibSp": 0,
          "Ticket": "C.A. 6212"
         },
         {
          "Age": 35,
          "Embarked": "C",
          "Fare": 7.8958,
          "Name": "Markoff, Mr. Marin",
          "Parch": 0,
          "Pclass": 3,
          "Sex": 1,
          "SibSp": 0,
          "Ticket": "349213"
         },
         {
          "Age": 17,
          "Embarked": "S",
          "Fare": 8.6625,
          "Name": "Calic, Mr. Jovo",
          "Parch": 0,
          "Pclass": 3,
          "Sex": 1,
          "SibSp": 0,
          "Ticket": "315093"
         },
         {
          "Age": 29,
          "Embarked": "S",
          "Fare": 10.5,
          "Name": "Nye, Mrs. (Elizabeth Ramell)",
          "Parch": 0,
          "Pclass": 2,
          "Sex": 0,
          "SibSp": 0,
          "Ticket": "C.A. 29395"
         },
         {
          "Age": 56,
          "Embarked": "C",
          "Fare": 30.6958,
          "Name": "Smith, Mr. James Clinch",
          "Parch": 0,
          "Pclass": 1,
          "Sex": 1,
          "SibSp": 0,
          "Ticket": "17764"
         },
         {
          "Age": 50,
          "Embarked": "C",
          "Fare": 28.7125,
          "Name": "Isham, Miss. Ann Elizabeth",
          "Parch": 0,
          "Pclass": 1,
          "Sex": 0,
          "SibSp": 0,
          "Ticket": "PC 17595"
         },
         {
          "Age": 31,
          "Embarked": "S",
          "Fare": 8.6833,
          "Name": "Osman, Mrs. Mara",
          "Parch": 0,
          "Pclass": 3,
          "Sex": 0,
          "SibSp": 0,
          "Ticket": "349244"
         },
         {
          "Age": 27,
          "Embarked": "S",
          "Fare": 53.1,
          "Name": "Chambers, Mr. Norman Campbell",
          "Parch": 0,
          "Pclass": 1,
          "Sex": 1,
          "SibSp": 1,
          "Ticket": "113806"
         },
         {
          "Age": 25,
          "Embarked": "S",
          "Fare": 13,
          "Name": "Sobey, Mr. Samuel James Hayden",
          "Parch": 0,
          "Pclass": 2,
          "Sex": 1,
          "SibSp": 0,
          "Ticket": "C.A. 29178"
         },
         {
          "Age": 29.857193308550187,
          "Embarked": "C",
          "Fare": 7.2292,
          "Name": "Kassem, Mr. Fared",
          "Parch": 0,
          "Pclass": 3,
          "Sex": 1,
          "SibSp": 0,
          "Ticket": "2700"
         },
         {
          "Age": 27,
          "Embarked": "S",
          "Fare": 6.975,
          "Name": "Hedman, Mr. Oskar Arvid",
          "Parch": 0,
          "Pclass": 3,
          "Sex": 1,
          "SibSp": 0,
          "Ticket": "347089"
         },
         {
          "Age": 28,
          "Embarked": "C",
          "Fare": 82.1708,
          "Name": "Meyer, Mr. Edgar Joseph",
          "Parch": 0,
          "Pclass": 1,
          "Sex": 1,
          "SibSp": 1,
          "Ticket": "PC 17604"
         },
         {
          "Age": 29.857193308550187,
          "Embarked": "S",
          "Fare": 8.05,
          "Name": "Webber, Mr. James",
          "Parch": 0,
          "Pclass": 3,
          "Sex": 1,
          "SibSp": 0,
          "Ticket": "SOTON/OQ 3101316"
         },
         {
          "Age": 29.857193308550187,
          "Embarked": "C",
          "Fare": 7.225,
          "Name": "Boulos, Mr. Hanna",
          "Parch": 0,
          "Pclass": 3,
          "Sex": 1,
          "SibSp": 0,
          "Ticket": "2664"
         },
         {
          "Age": 36,
          "Embarked": "S",
          "Fare": 71,
          "Name": "Crosby, Miss. Harriet R",
          "Parch": 2,
          "Pclass": 1,
          "Sex": 0,
          "SibSp": 0,
          "Ticket": "WE/P 5735"
         },
         {
          "Age": 47,
          "Embarked": "S",
          "Fare": 34.0208,
          "Name": "Walker, Mr. William Anderson",
          "Parch": 0,
          "Pclass": 1,
          "Sex": 1,
          "SibSp": 0,
          "Ticket": "36967"
         },
         {
          "Age": 31,
          "Embarked": "S",
          "Fare": 57,
          "Name": "Dick, Mr. Albert Adrian",
          "Parch": 0,
          "Pclass": 1,
          "Sex": 1,
          "SibSp": 1,
          "Ticket": "17474"
         },
         {
          "Age": 30,
          "Embarked": "S",
          "Fare": 86.5,
          "Name": "Cherry, Miss. Gladys",
          "Parch": 0,
          "Pclass": 1,
          "Sex": 0,
          "SibSp": 0,
          "Ticket": "110152"
         },
         {
          "Age": 21,
          "Embarked": "S",
          "Fare": 16.1,
          "Name": "Bowen, Mr. David John \"Dai\"",
          "Parch": 0,
          "Pclass": 3,
          "Sex": 1,
          "SibSp": 0,
          "Ticket": "54636"
         },
         {
          "Age": 22,
          "Embarked": "S",
          "Fare": 9.35,
          "Name": "Berglund, Mr. Karl Ivar Sven",
          "Parch": 0,
          "Pclass": 3,
          "Sex": 1,
          "SibSp": 0,
          "Ticket": "PP 4348"
         },
         {
          "Age": 33,
          "Embarked": "C",
          "Fare": 8.6625,
          "Name": "Stankovic, Mr. Ivan",
          "Parch": 0,
          "Pclass": 3,
          "Sex": 1,
          "SibSp": 0,
          "Ticket": "349239"
         },
         {
          "Age": 42,
          "Embarked": "S",
          "Fare": 13,
          "Name": "Hosono, Mr. Masabumi",
          "Parch": 0,
          "Pclass": 2,
          "Sex": 1,
          "SibSp": 0,
          "Ticket": "237798"
         },
         {
          "Age": 32,
          "Embarked": "S",
          "Fare": 26,
          "Name": "Beane, Mr. Edward",
          "Parch": 0,
          "Pclass": 2,
          "Sex": 1,
          "SibSp": 1,
          "Ticket": "2908"
         },
         {
          "Age": 24,
          "Embarked": "C",
          "Fare": 79.2,
          "Name": "Giglio, Mr. Victor",
          "Parch": 0,
          "Pclass": 1,
          "Sex": 1,
          "SibSp": 0,
          "Ticket": "PC 17593"
         },
         {
          "Age": 42,
          "Embarked": "S",
          "Fare": 13,
          "Name": "Byles, Rev. Thomas Roussel Davids",
          "Parch": 0,
          "Pclass": 2,
          "Sex": 1,
          "SibSp": 0,
          "Ticket": "244310"
         },
         {
          "Age": 29.857193308550187,
          "Embarked": "S",
          "Fare": 25.4667,
          "Name": "Lefebre, Miss. Jeannie",
          "Parch": 1,
          "Pclass": 3,
          "Sex": 0,
          "SibSp": 3,
          "Ticket": "4133"
         },
         {
          "Age": 29.857193308550187,
          "Embarked": "C",
          "Fare": 14.4583,
          "Name": "Yousseff, Mr. Gerious",
          "Parch": 0,
          "Pclass": 3,
          "Sex": 1,
          "SibSp": 0,
          "Ticket": "2627"
         },
         {
          "Age": 25,
          "Embarked": "S",
          "Fare": 7.25,
          "Name": "Harmer, Mr. Abraham (David Lishin)",
          "Parch": 0,
          "Pclass": 3,
          "Sex": 1,
          "SibSp": 0,
          "Ticket": "374887"
         },
         {
          "Age": 27,
          "Embarked": "S",
          "Fare": 13,
          "Name": "Bracken, Mr. James H",
          "Parch": 0,
          "Pclass": 2,
          "Sex": 1,
          "SibSp": 0,
          "Ticket": "220367"
         },
         {
          "Age": 7,
          "Embarked": "S",
          "Fare": 26.25,
          "Name": "Hart, Miss. Eva Miriam",
          "Parch": 2,
          "Pclass": 2,
          "Sex": 0,
          "SibSp": 0,
          "Ticket": "F.C.C. 13529"
         },
         {
          "Age": 31,
          "Embarked": "Q",
          "Fare": 7.75,
          "Name": "Connaghton, Mr. Michael",
          "Parch": 0,
          "Pclass": 3,
          "Sex": 1,
          "SibSp": 0,
          "Ticket": "335097"
         },
         {
          "Age": 29.857193308550187,
          "Embarked": "C",
          "Fare": 27.7208,
          "Name": "Stewart, Mr. Albert A",
          "Parch": 0,
          "Pclass": 1,
          "Sex": 1,
          "SibSp": 0,
          "Ticket": "PC 17605"
         },
         {
          "Age": 29.857193308550187,
          "Embarked": "S",
          "Fare": 69.55,
          "Name": "Sage, Miss. Dorothy Edith \"Dolly\"",
          "Parch": 2,
          "Pclass": 3,
          "Sex": 0,
          "SibSp": 8,
          "Ticket": "CA. 2343"
         },
         {
          "Age": 29.857193308550187,
          "Embarked": "Q",
          "Fare": 24.15,
          "Name": "Moran, Mr. Daniel J",
          "Parch": 0,
          "Pclass": 3,
          "Sex": 1,
          "SibSp": 1,
          "Ticket": "371110"
         },
         {
          "Age": 29.857193308550187,
          "Embarked": "S",
          "Fare": 7.8958,
          "Name": "Nankoff, Mr. Minko",
          "Parch": 0,
          "Pclass": 3,
          "Sex": 1,
          "SibSp": 0,
          "Ticket": "349218"
         },
         {
          "Age": 29.857193308550187,
          "Embarked": "S",
          "Fare": 16.1,
          "Name": "Thorneycroft, Mrs. Percival (Florence Kate White)",
          "Parch": 0,
          "Pclass": 3,
          "Sex": 0,
          "SibSp": 1,
          "Ticket": "376564"
         },
         {
          "Age": 36,
          "Embarked": "S",
          "Fare": 7.8958,
          "Name": "Turcin, Mr. Stjepan",
          "Parch": 0,
          "Pclass": 3,
          "Sex": 1,
          "SibSp": 0,
          "Ticket": "349247"
         },
         {
          "Age": 39,
          "Embarked": "S",
          "Fare": 24.15,
          "Name": "Lester, Mr. James",
          "Parch": 0,
          "Pclass": 3,
          "Sex": 1,
          "SibSp": 0,
          "Ticket": "A/4 48871"
         },
         {
          "Age": 33,
          "Embarked": "S",
          "Fare": 26,
          "Name": "Quick, Mrs. Frederick Charles (Jane Richards)",
          "Parch": 2,
          "Pclass": 2,
          "Sex": 0,
          "SibSp": 0,
          "Ticket": "26360"
         },
         {
          "Age": 2,
          "Embarked": "S",
          "Fare": 27.9,
          "Name": "Skoog, Miss. Margit Elizabeth",
          "Parch": 2,
          "Pclass": 3,
          "Sex": 0,
          "SibSp": 3,
          "Ticket": "347088"
         },
         {
          "Age": 4,
          "Embarked": "S",
          "Fare": 27.9,
          "Name": "Skoog, Master. Harald",
          "Parch": 2,
          "Pclass": 3,
          "Sex": 1,
          "SibSp": 3,
          "Ticket": "347088"
         },
         {
          "Age": 32,
          "Embarked": "S",
          "Fare": 15.85,
          "Name": "Backstrom, Mr. Karl Alfred",
          "Parch": 0,
          "Pclass": 3,
          "Sex": 1,
          "SibSp": 1,
          "Ticket": "3101278"
         },
         {
          "Age": 17,
          "Embarked": "S",
          "Fare": 10.5,
          "Name": "Ilett, Miss. Bertha",
          "Parch": 0,
          "Pclass": 2,
          "Sex": 0,
          "SibSp": 0,
          "Ticket": "SO/C 14885"
         },
         {
          "Age": 22,
          "Embarked": "S",
          "Fare": 7.125,
          "Name": "Maenpaa, Mr. Matti Alexanteri",
          "Parch": 0,
          "Pclass": 3,
          "Sex": 1,
          "SibSp": 0,
          "Ticket": "STON/O 2. 3101275"
         },
         {
          "Age": 18,
          "Embarked": "S",
          "Fare": 17.8,
          "Name": "Arnold-Franchi, Mrs. Josef (Josefine Franchi)",
          "Parch": 0,
          "Pclass": 3,
          "Sex": 0,
          "SibSp": 1,
          "Ticket": "349237"
         },
         {
          "Age": 39,
          "Embarked": "S",
          "Fare": 7.925,
          "Name": "Salonen, Mr. Johan Werner",
          "Parch": 0,
          "Pclass": 3,
          "Sex": 1,
          "SibSp": 0,
          "Ticket": "3101296"
         },
         {
          "Age": 46,
          "Embarked": "C",
          "Fare": 79.2,
          "Name": "Guggenheim, Mr. Benjamin",
          "Parch": 0,
          "Pclass": 1,
          "Sex": 1,
          "SibSp": 0,
          "Ticket": "PC 17593"
         },
         {
          "Age": 25,
          "Embarked": "C",
          "Fare": 41.5792,
          "Name": "Laroche, Mr. Joseph Philippe Lemercier",
          "Parch": 2,
          "Pclass": 2,
          "Sex": 1,
          "SibSp": 1,
          "Ticket": "SC/Paris 2123"
         },
         {
          "Age": 29.857193308550187,
          "Embarked": "S",
          "Fare": 7.55,
          "Name": "Willey, Mr. Edward",
          "Parch": 0,
          "Pclass": 3,
          "Sex": 1,
          "SibSp": 0,
          "Ticket": "S.O./P.P. 751"
         },
         {
          "Age": 31,
          "Embarked": "S",
          "Fare": 7.8542,
          "Name": "Olsson, Miss. Elina",
          "Parch": 0,
          "Pclass": 3,
          "Sex": 0,
          "SibSp": 0,
          "Ticket": "350407"
         },
         {
          "Age": 33,
          "Embarked": "S",
          "Fare": 7.8958,
          "Name": "Markun, Mr. Johann",
          "Parch": 0,
          "Pclass": 3,
          "Sex": 1,
          "SibSp": 0,
          "Ticket": "349257"
         },
         {
          "Age": 18,
          "Embarked": "S",
          "Fare": 73.5,
          "Name": "Davies, Mr. Charles Henry",
          "Parch": 0,
          "Pclass": 2,
          "Sex": 1,
          "SibSp": 0,
          "Ticket": "S.O.C. 14879"
         },
         {
          "Age": 40.5,
          "Embarked": "S",
          "Fare": 14.5,
          "Name": "van Billiard, Mr. Austin Blyler",
          "Parch": 2,
          "Pclass": 3,
          "Sex": 1,
          "SibSp": 0,
          "Ticket": "A/5. 851"
         },
         {
          "Age": 28,
          "Embarked": "S",
          "Fare": 14.4,
          "Name": "Danbom, Mrs. Ernst Gilbert (Anna Sigrid Maria Brogren)",
          "Parch": 1,
          "Pclass": 3,
          "Sex": 0,
          "SibSp": 1,
          "Ticket": "347080"
         },
         {
          "Age": 49,
          "Embarked": "C",
          "Fare": 110.8833,
          "Name": "Thayer, Mr. John Borland",
          "Parch": 1,
          "Pclass": 1,
          "Sex": 1,
          "SibSp": 1,
          "Ticket": "17421"
         },
         {
          "Age": 57,
          "Embarked": "Q",
          "Fare": 12.35,
          "Name": "Kirkland, Rev. Charles Leonard",
          "Parch": 0,
          "Pclass": 2,
          "Sex": 1,
          "SibSp": 0,
          "Ticket": "219533"
         },
         {
          "Age": 19,
          "Embarked": "S",
          "Fare": 10.1708,
          "Name": "Dakic, Mr. Branko",
          "Parch": 0,
          "Pclass": 3,
          "Sex": 1,
          "SibSp": 0,
          "Ticket": "349228"
         },
         {
          "Age": 16,
          "Embarked": "S",
          "Fare": 26,
          "Name": "Gaskell, Mr. Alfred",
          "Parch": 0,
          "Pclass": 2,
          "Sex": 1,
          "SibSp": 0,
          "Ticket": "239865"
         },
         {
          "Age": 15,
          "Embarked": "C",
          "Fare": 7.225,
          "Name": "Najib, Miss. Adele Kiamie \"Jane\"",
          "Parch": 0,
          "Pclass": 3,
          "Sex": 0,
          "SibSp": 0,
          "Ticket": "2667"
         },
         {
          "Age": 23,
          "Embarked": "C",
          "Fare": 63.3583,
          "Name": "Greenfield, Mr. William Bertram",
          "Parch": 1,
          "Pclass": 1,
          "Sex": 1,
          "SibSp": 0,
          "Ticket": "PC 17759"
         },
         {
          "Age": 2,
          "Embarked": "S",
          "Fare": 21.075,
          "Name": "Palsson, Master. Gosta Leonard",
          "Parch": 1,
          "Pclass": 3,
          "Sex": 1,
          "SibSp": 3,
          "Ticket": "349909"
         },
         {
          "Age": 36,
          "Embarked": "S",
          "Fare": 120,
          "Name": "Carter, Mr. William Ernest",
          "Parch": 2,
          "Pclass": 1,
          "Sex": 1,
          "SibSp": 1,
          "Ticket": "113760"
         },
         {
          "Age": 29,
          "Embarked": "S",
          "Fare": 26,
          "Name": "Weisz, Mrs. Leopold (Mathilde Francoise Pede)",
          "Parch": 0,
          "Pclass": 2,
          "Sex": 0,
          "SibSp": 1,
          "Ticket": "228414"
         },
         {
          "Age": 29.857193308550187,
          "Embarked": "S",
          "Fare": 0,
          "Name": "Campbell, Mr. William",
          "Parch": 0,
          "Pclass": 2,
          "Sex": 1,
          "SibSp": 0,
          "Ticket": "239853"
         },
         {
          "Age": 48,
          "Embarked": "S",
          "Fare": 26.55,
          "Name": "Anderson, Mr. Harry",
          "Parch": 0,
          "Pclass": 1,
          "Sex": 1,
          "SibSp": 0,
          "Ticket": "19952"
         },
         {
          "Age": 46,
          "Embarked": "S",
          "Fare": 61.175,
          "Name": "Chaffee, Mr. Herbert Fuller",
          "Parch": 0,
          "Pclass": 1,
          "Sex": 1,
          "SibSp": 1,
          "Ticket": "W.E.P. 5734"
         },
         {
          "Age": 22,
          "Embarked": "S",
          "Fare": 7.25,
          "Name": "Dennis, Mr. Samuel",
          "Parch": 0,
          "Pclass": 3,
          "Sex": 1,
          "SibSp": 0,
          "Ticket": "A/5 21172"
         },
         {
          "Age": 32,
          "Embarked": "S",
          "Fare": 10.5,
          "Name": "Jenkin, Mr. Stephen Curnow",
          "Parch": 0,
          "Pclass": 2,
          "Sex": 1,
          "SibSp": 0,
          "Ticket": "C.A. 33111"
         },
         {
          "Age": 20,
          "Embarked": "S",
          "Fare": 9.8458,
          "Name": "Gustafsson, Mr. Alfred Ossian",
          "Parch": 0,
          "Pclass": 3,
          "Sex": 1,
          "SibSp": 0,
          "Ticket": "7534"
         },
         {
          "Age": 42,
          "Embarked": "S",
          "Fare": 8.4042,
          "Name": "Olsen, Mr. Karl Siegwart Andreas",
          "Parch": 1,
          "Pclass": 3,
          "Sex": 1,
          "SibSp": 0,
          "Ticket": "4579"
         },
         {
          "Age": 2,
          "Embarked": "S",
          "Fare": 12.2875,
          "Name": "Hirvonen, Miss. Hildur E",
          "Parch": 1,
          "Pclass": 3,
          "Sex": 0,
          "SibSp": 0,
          "Ticket": "3101298"
         },
         {
          "Age": 51,
          "Embarked": "S",
          "Fare": 7.0542,
          "Name": "Lundahl, Mr. Johan Svensson",
          "Parch": 0,
          "Pclass": 3,
          "Sex": 1,
          "SibSp": 0,
          "Ticket": "347743"
         },
         {
          "Age": 30,
          "Embarked": "S",
          "Fare": 10.5,
          "Name": "Harris, Mr. Walter",
          "Parch": 0,
          "Pclass": 2,
          "Sex": 1,
          "SibSp": 0,
          "Ticket": "W/C 14208"
         },
         {
          "Age": 47,
          "Embarked": "S",
          "Fare": 9,
          "Name": "Vander Cruyssen, Mr. Victor",
          "Parch": 0,
          "Pclass": 3,
          "Sex": 1,
          "SibSp": 0,
          "Ticket": "345765"
         },
         {
          "Age": 45,
          "Embarked": "S",
          "Fare": 83.475,
          "Name": "Harris, Mr. Henry Birkhardt",
          "Parch": 0,
          "Pclass": 1,
          "Sex": 1,
          "SibSp": 1,
          "Ticket": "36973"
         },
         {
          "Age": 29.857193308550187,
          "Embarked": "S",
          "Fare": 8.05,
          "Name": "Meek, Mrs. Thomas (Annie Louise Rowley)",
          "Parch": 0,
          "Pclass": 3,
          "Sex": 0,
          "SibSp": 0,
          "Ticket": "343095"
         },
         {
          "Age": 54,
          "Embarked": "S",
          "Fare": 14,
          "Name": "Moraweck, Dr. Ernest",
          "Parch": 0,
          "Pclass": 2,
          "Sex": 1,
          "SibSp": 0,
          "Ticket": "29011"
         },
         {
          "Age": 30,
          "Embarked": "C",
          "Fare": 7.2292,
          "Name": "Ibrahim Shawah, Mr. Yousseff",
          "Parch": 0,
          "Pclass": 3,
          "Sex": 1,
          "SibSp": 0,
          "Ticket": "2685"
         },
         {
          "Age": 29,
          "Embarked": "S",
          "Fare": 21.075,
          "Name": "Palsson, Mrs. Nils (Alma Cornelia Berglund)",
          "Parch": 4,
          "Pclass": 3,
          "Sex": 0,
          "SibSp": 0,
          "Ticket": "349909"
         },
         {
          "Age": 29.857193308550187,
          "Embarked": "S",
          "Fare": 8.05,
          "Name": "Simmons, Mr. John",
          "Parch": 0,
          "Pclass": 3,
          "Sex": 1,
          "SibSp": 0,
          "Ticket": "SOTON/OQ 392082"
         },
         {
          "Age": 29.857193308550187,
          "Embarked": "S",
          "Fare": 19.9667,
          "Name": "Hagland, Mr. Konrad Mathias Reiersen",
          "Parch": 0,
          "Pclass": 3,
          "Sex": 1,
          "SibSp": 1,
          "Ticket": "65304"
         },
         {
          "Age": 45,
          "Embarked": "S",
          "Fare": 35.5,
          "Name": "Blackwell, Mr. Stephen Weart",
          "Parch": 0,
          "Pclass": 1,
          "Sex": 1,
          "SibSp": 0,
          "Ticket": "113784"
         },
         {
          "Age": 29.857193308550187,
          "Embarked": "S",
          "Fare": 7.8958,
          "Name": "Mitkoff, Mr. Mito",
          "Parch": 0,
          "Pclass": 3,
          "Sex": 1,
          "SibSp": 0,
          "Ticket": "349221"
         },
         {
          "Age": 36,
          "Embarked": "S",
          "Fare": 17.4,
          "Name": "de Messemaeker, Mrs. Guillaume Joseph (Emma)",
          "Parch": 0,
          "Pclass": 3,
          "Sex": 0,
          "SibSp": 1,
          "Ticket": "345572"
         },
         {
          "Age": 9,
          "Embarked": "S",
          "Fare": 34.375,
          "Name": "Ford, Miss. Robina Maggie \"Ruby\"",
          "Parch": 2,
          "Pclass": 3,
          "Sex": 0,
          "SibSp": 2,
          "Ticket": "W./C. 6608"
         },
         {
          "Age": 48,
          "Embarked": "S",
          "Fare": 13,
          "Name": "Milling, Mr. Jacob Christian",
          "Parch": 0,
          "Pclass": 2,
          "Sex": 1,
          "SibSp": 0,
          "Ticket": "234360"
         },
         {
          "Age": 43,
          "Embarked": "S",
          "Fare": 8.05,
          "Name": "Cook, Mr. Jacob",
          "Parch": 0,
          "Pclass": 3,
          "Sex": 1,
          "SibSp": 0,
          "Ticket": "A/5 3536"
         },
         {
          "Age": 19,
          "Embarked": "S",
          "Fare": 7.8542,
          "Name": "Andersen-Jensen, Miss. Carla Christine Nielsine",
          "Parch": 0,
          "Pclass": 3,
          "Sex": 0,
          "SibSp": 1,
          "Ticket": "350046"
         },
         {
          "Age": 32,
          "Embarked": "S",
          "Fare": 7.8958,
          "Name": "Pavlovic, Mr. Stefo",
          "Parch": 0,
          "Pclass": 3,
          "Sex": 1,
          "SibSp": 0,
          "Ticket": "349242"
         },
         {
          "Age": 44,
          "Embarked": "S",
          "Fare": 7.925,
          "Name": "Sundman, Mr. Johan Julian",
          "Parch": 0,
          "Pclass": 3,
          "Sex": 1,
          "SibSp": 0,
          "Ticket": "STON/O 2. 3101269"
         },
         {
          "Age": 1,
          "Embarked": "S",
          "Fare": 11.1333,
          "Name": "Johnson, Miss. Eleanor Ileen",
          "Parch": 1,
          "Pclass": 3,
          "Sex": 0,
          "SibSp": 1,
          "Ticket": "347742"
         },
         {
          "Age": 29.857193308550187,
          "Embarked": "C",
          "Fare": 7.2292,
          "Name": "Doharr, Mr. Tannous",
          "Parch": 0,
          "Pclass": 3,
          "Sex": 1,
          "SibSp": 0,
          "Ticket": "2686"
         },
         {
          "Age": 58,
          "Embarked": "S",
          "Fare": 26.55,
          "Name": "Bonnell, Miss. Elizabeth",
          "Parch": 0,
          "Pclass": 1,
          "Sex": 0,
          "SibSp": 0,
          "Ticket": "113783"
         },
         {
          "Age": 29.857193308550187,
          "Embarked": "C",
          "Fare": 146.5208,
          "Name": "Spencer, Mrs. William Augustus (Marie Eugenie)",
          "Parch": 0,
          "Pclass": 1,
          "Sex": 0,
          "SibSp": 1,
          "Ticket": "PC 17569"
         },
         {
          "Age": 27,
          "Embarked": "S",
          "Fare": 11.1333,
          "Name": "Johnson, Mrs. Oscar W (Elisabeth Vilhelmina Berg)",
          "Parch": 2,
          "Pclass": 3,
          "Sex": 0,
          "SibSp": 0,
          "Ticket": "347742"
         },
         {
          "Age": 50,
          "Embarked": "S",
          "Fare": 10.5,
          "Name": "Toomey, Miss. Ellen",
          "Parch": 0,
          "Pclass": 2,
          "Sex": 0,
          "SibSp": 0,
          "Ticket": "F.C.C. 13531"
         },
         {
          "Age": 42,
          "Embarked": "S",
          "Fare": 7.65,
          "Name": "Humblen, Mr. Adolf Mathias Nicolai Olsen",
          "Parch": 0,
          "Pclass": 3,
          "Sex": 1,
          "SibSp": 0,
          "Ticket": "348121"
         },
         {
          "Age": 29,
          "Embarked": "C",
          "Fare": 27.7208,
          "Name": "del Carlo, Mr. Sebastiano",
          "Parch": 0,
          "Pclass": 2,
          "Sex": 1,
          "SibSp": 1,
          "Ticket": "SC/PARIS 2167"
         },
         {
          "Age": 22,
          "Embarked": "S",
          "Fare": 7.5208,
          "Name": "Karlsson, Mr. Nils August",
          "Parch": 0,
          "Pclass": 3,
          "Sex": 1,
          "SibSp": 0,
          "Ticket": "350060"
         },
         {
          "Age": 22,
          "Embarked": "S",
          "Fare": 7.7958,
          "Name": "Johansson, Mr. Erik",
          "Parch": 0,
          "Pclass": 3,
          "Sex": 1,
          "SibSp": 0,
          "Ticket": "350052"
         },
         {
          "Age": 23,
          "Embarked": "S",
          "Fare": 13,
          "Name": "Troupiansky, Mr. Moses Aaron",
          "Parch": 0,
          "Pclass": 2,
          "Sex": 1,
          "SibSp": 0,
          "Ticket": "233639"
         },
         {
          "Age": 25,
          "Embarked": "C",
          "Fare": 91.0792,
          "Name": "Bishop, Mr. Dickinson H",
          "Parch": 0,
          "Pclass": 1,
          "Sex": 1,
          "SibSp": 1,
          "Ticket": "11967"
         },
         {
          "Age": 44,
          "Embarked": "C",
          "Fare": 27.7208,
          "Name": "Brown, Mrs. James Joseph (Margaret Tobin)",
          "Parch": 0,
          "Pclass": 1,
          "Sex": 0,
          "SibSp": 0,
          "Ticket": "PC 17610"
         },
         {
          "Age": 16,
          "Embarked": "S",
          "Fare": 18,
          "Name": "Vander Planke, Mr. Leo Edmondus",
          "Parch": 0,
          "Pclass": 3,
          "Sex": 1,
          "SibSp": 2,
          "Ticket": "345764"
         },
         {
          "Age": 26,
          "Embarked": "C",
          "Fare": 14.4542,
          "Name": "Chronopoulos, Mr. Apostolos",
          "Parch": 0,
          "Pclass": 3,
          "Sex": 1,
          "SibSp": 1,
          "Ticket": "2680"
         },
         {
          "Age": 4,
          "Embarked": "S",
          "Fare": 81.8583,
          "Name": "Dodge, Master. Washington",
          "Parch": 2,
          "Pclass": 1,
          "Sex": 1,
          "SibSp": 0,
          "Ticket": "33638"
         },
         {
          "Age": 29.857193308550187,
          "Embarked": "C",
          "Fare": 7.8958,
          "Name": "Kraeff, Mr. Theodor",
          "Parch": 0,
          "Pclass": 3,
          "Sex": 1,
          "SibSp": 0,
          "Ticket": "349253"
         },
         {
          "Age": 29.857193308550187,
          "Embarked": "C",
          "Fare": 227.525,
          "Name": "Robbins, Mr. Victor",
          "Parch": 0,
          "Pclass": 1,
          "Sex": 1,
          "SibSp": 0,
          "Ticket": "PC 17757"
         },
         {
          "Age": 29.857193308550187,
          "Embarked": "S",
          "Fare": 8.05,
          "Name": "Moore, Mr. Leonard Charles",
          "Parch": 0,
          "Pclass": 3,
          "Sex": 1,
          "SibSp": 0,
          "Ticket": "A4. 54510"
         },
         {
          "Age": 36,
          "Embarked": "S",
          "Fare": 78.85,
          "Name": "Cavendish, Mr. Tyrell William",
          "Parch": 0,
          "Pclass": 1,
          "Sex": 1,
          "SibSp": 1,
          "Ticket": "19877"
         },
         {
          "Age": 29,
          "Embarked": "S",
          "Fare": 8.05,
          "Name": "Christmann, Mr. Emil",
          "Parch": 0,
          "Pclass": 3,
          "Sex": 1,
          "SibSp": 0,
          "Ticket": "343276"
         },
         {
          "Age": 34,
          "Embarked": "S",
          "Fare": 13,
          "Name": "Beesley, Mr. Lawrence",
          "Parch": 0,
          "Pclass": 2,
          "Sex": 1,
          "SibSp": 0,
          "Ticket": "248698"
         },
         {
          "Age": 29.857193308550187,
          "Embarked": "C",
          "Fare": 13.8625,
          "Name": "Padro y Manent, Mr. Julian",
          "Parch": 0,
          "Pclass": 2,
          "Sex": 1,
          "SibSp": 0,
          "Ticket": "SC/PARIS 2146"
         },
         {
          "Age": 54,
          "Embarked": "S",
          "Fare": 77.2875,
          "Name": "White, Mr. Percival Wayland",
          "Parch": 1,
          "Pclass": 1,
          "Sex": 1,
          "SibSp": 0,
          "Ticket": "35281"
         },
         {
          "Age": 29.857193308550187,
          "Embarked": "Q",
          "Fare": 7.7333,
          "Name": "O'Connell, Mr. Patrick D",
          "Parch": 0,
          "Pclass": 3,
          "Sex": 1,
          "SibSp": 0,
          "Ticket": "334912"
         },
         {
          "Age": 36,
          "Embarked": "C",
          "Fare": 512.3292,
          "Name": "Cardeza, Mr. Thomas Drake Martinez",
          "Parch": 1,
          "Pclass": 1,
          "Sex": 1,
          "SibSp": 0,
          "Ticket": "PC 17755"
         },
         {
          "Age": 46,
          "Embarked": "S",
          "Fare": 26,
          "Name": "McKane, Mr. Peter David",
          "Parch": 0,
          "Pclass": 2,
          "Sex": 1,
          "SibSp": 0,
          "Ticket": "28403"
         },
         {
          "Age": 7,
          "Embarked": "Q",
          "Fare": 29.125,
          "Name": "Rice, Master. Eric",
          "Parch": 1,
          "Pclass": 3,
          "Sex": 1,
          "SibSp": 4,
          "Ticket": "382652"
         },
         {
          "Age": 19,
          "Embarked": "C",
          "Fare": 91.0792,
          "Name": "Bishop, Mrs. Dickinson H (Helen Walton)",
          "Parch": 0,
          "Pclass": 1,
          "Sex": 0,
          "SibSp": 1,
          "Ticket": "11967"
         },
         {
          "Age": 20,
          "Embarked": "C",
          "Fare": 15.7417,
          "Name": "Nakid, Mr. Sahid",
          "Parch": 1,
          "Pclass": 3,
          "Sex": 1,
          "SibSp": 1,
          "Ticket": "2653"
         },
         {
          "Age": 58,
          "Embarked": "C",
          "Fare": 113.275,
          "Name": "Newell, Mr. Arthur Webster",
          "Parch": 2,
          "Pclass": 1,
          "Sex": 1,
          "SibSp": 0,
          "Ticket": "35273"
         },
         {
          "Age": 29.857193308550187,
          "Embarked": "S",
          "Fare": 8.05,
          "Name": "Williams, Mr. Howard Hugh \"Harry\"",
          "Parch": 0,
          "Pclass": 3,
          "Sex": 1,
          "SibSp": 0,
          "Ticket": "A/5 2466"
         },
         {
          "Age": 29.857193308550187,
          "Embarked": "C",
          "Fare": 7.2292,
          "Name": "Mamee, Mr. Hanna",
          "Parch": 0,
          "Pclass": 3,
          "Sex": 1,
          "SibSp": 0,
          "Ticket": "2677"
         },
         {
          "Age": 35,
          "Embarked": "S",
          "Fare": 7.05,
          "Name": "Asim, Mr. Adola",
          "Parch": 0,
          "Pclass": 3,
          "Sex": 1,
          "SibSp": 0,
          "Ticket": "SOTON/O.Q. 3101310"
         },
         {
          "Age": 20,
          "Embarked": "S",
          "Fare": 9.225,
          "Name": "Olsvigen, Mr. Thor Anderson",
          "Parch": 0,
          "Pclass": 3,
          "Sex": 1,
          "SibSp": 0,
          "Ticket": "6563"
         },
         {
          "Age": 26,
          "Embarked": "S",
          "Fare": 7.8958,
          "Name": "Balkic, Mr. Cerin",
          "Parch": 0,
          "Pclass": 3,
          "Sex": 1,
          "SibSp": 0,
          "Ticket": "349248"
         },
         {
          "Age": 64,
          "Embarked": "S",
          "Fare": 26,
          "Name": "Nicholson, Mr. Arthur Ernest",
          "Parch": 0,
          "Pclass": 1,
          "Sex": 1,
          "SibSp": 0,
          "Ticket": "693"
         },
         {
          "Age": 2,
          "Embarked": "S",
          "Fare": 10.4625,
          "Name": "Strom, Miss. Telma Matilda",
          "Parch": 1,
          "Pclass": 3,
          "Sex": 0,
          "SibSp": 0,
          "Ticket": "347054"
         },
         {
          "Age": 0.92,
          "Embarked": "S",
          "Fare": 151.55,
          "Name": "Allison, Master. Hudson Trevor",
          "Parch": 2,
          "Pclass": 1,
          "Sex": 1,
          "SibSp": 1,
          "Ticket": "113781"
         },
         {
          "Age": 32,
          "Embarked": "Q",
          "Fare": 7.75,
          "Name": "Dooley, Mr. Patrick",
          "Parch": 0,
          "Pclass": 3,
          "Sex": 1,
          "SibSp": 0,
          "Ticket": "370376"
         },
         {
          "Age": 31,
          "Embarked": "S",
          "Fare": 52,
          "Name": "Davidson, Mr. Thornton",
          "Parch": 0,
          "Pclass": 1,
          "Sex": 1,
          "SibSp": 1,
          "Ticket": "F.C. 12750"
         },
         {
          "Age": 18,
          "Embarked": "S",
          "Fare": 7.775,
          "Name": "Pettersson, Miss. Ellen Natalia",
          "Parch": 0,
          "Pclass": 3,
          "Sex": 0,
          "SibSp": 0,
          "Ticket": "347087"
         },
         {
          "Age": 35,
          "Embarked": "S",
          "Fare": 90,
          "Name": "Hoyt, Mrs. Frederick Maxfield (Jane Anne Forby)",
          "Parch": 0,
          "Pclass": 1,
          "Sex": 0,
          "SibSp": 1,
          "Ticket": "19943"
         },
         {
          "Age": 9,
          "Embarked": "S",
          "Fare": 46.9,
          "Name": "Goodwin, Master. Harold Victor",
          "Parch": 2,
          "Pclass": 3,
          "Sex": 1,
          "SibSp": 5,
          "Ticket": "CA 2144"
         },
         {
          "Age": 48,
          "Embarked": "C",
          "Fare": 39.6,
          "Name": "Duff Gordon, Lady. (Lucille Christiana Sutherland) (\"Mrs Morgan\")",
          "Parch": 0,
          "Pclass": 1,
          "Sex": 0,
          "SibSp": 1,
          "Ticket": "11755"
         },
         {
          "Age": 56,
          "Embarked": "C",
          "Fare": 83.1583,
          "Name": "Potter, Mrs. Thomas Jr (Lily Alexenia Wilson)",
          "Parch": 1,
          "Pclass": 1,
          "Sex": 0,
          "SibSp": 0,
          "Ticket": "11767"
         },
         {
          "Age": 29,
          "Embarked": "S",
          "Fare": 7.0458,
          "Name": "Braund, Mr. Lewis Richard",
          "Parch": 0,
          "Pclass": 3,
          "Sex": 1,
          "SibSp": 1,
          "Ticket": "3460"
         },
         {
          "Age": 30,
          "Embarked": "S",
          "Fare": 93.5,
          "Name": "Perreault, Miss. Anne",
          "Parch": 0,
          "Pclass": 1,
          "Sex": 0,
          "SibSp": 0,
          "Ticket": "12749"
         },
         {
          "Age": 42,
          "Embarked": "C",
          "Fare": 227.525,
          "Name": "Bidois, Miss. Rosalie",
          "Parch": 0,
          "Pclass": 1,
          "Sex": 0,
          "SibSp": 0,
          "Ticket": "PC 17757"
         },
         {
          "Age": 44,
          "Embarked": "C",
          "Fare": 57.9792,
          "Name": "Hippach, Mrs. Louis Albert (Ida Sophia Fischer)",
          "Parch": 1,
          "Pclass": 1,
          "Sex": 0,
          "SibSp": 0,
          "Ticket": "111361"
         },
         {
          "Age": 4,
          "Embarked": "S",
          "Fare": 22.025,
          "Name": "Kink-Heilmann, Miss. Luise Gretchen",
          "Parch": 2,
          "Pclass": 3,
          "Sex": 0,
          "SibSp": 0,
          "Ticket": "315153"
         },
         {
          "Age": 0.83,
          "Embarked": "S",
          "Fare": 18.75,
          "Name": "Richards, Master. George Sibley",
          "Parch": 1,
          "Pclass": 2,
          "Sex": 1,
          "SibSp": 1,
          "Ticket": "29106"
         },
         {
          "Age": 29.857193308550187,
          "Embarked": "S",
          "Fare": 26,
          "Name": "Smith, Mr. Richard William",
          "Parch": 0,
          "Pclass": 1,
          "Sex": 1,
          "SibSp": 0,
          "Ticket": "113056"
         },
         {
          "Age": 6,
          "Embarked": "S",
          "Fare": 33,
          "Name": "Harper, Miss. Annie Jessie \"Nina\"",
          "Parch": 1,
          "Pclass": 2,
          "Sex": 0,
          "SibSp": 0,
          "Ticket": "248727"
         },
         {
          "Age": 9,
          "Embarked": "S",
          "Fare": 27.9,
          "Name": "Skoog, Miss. Mabel",
          "Parch": 2,
          "Pclass": 3,
          "Sex": 0,
          "SibSp": 3,
          "Ticket": "347088"
         },
         {
          "Age": 29.857193308550187,
          "Embarked": "Q",
          "Fare": 7.75,
          "Name": "Kiernan, Mr. Philip",
          "Parch": 0,
          "Pclass": 3,
          "Sex": 1,
          "SibSp": 1,
          "Ticket": "367229"
         },
         {
          "Age": 24,
          "Embarked": "S",
          "Fare": 15.85,
          "Name": "Hakkarainen, Mrs. Pekka Pietari (Elin Matilda Dolck)",
          "Parch": 0,
          "Pclass": 3,
          "Sex": 0,
          "SibSp": 1,
          "Ticket": "STON/O2. 3101279"
         },
         {
          "Age": 22,
          "Embarked": "S",
          "Fare": 7.25,
          "Name": "Braund, Mr. Owen Harris",
          "Parch": 0,
          "Pclass": 3,
          "Sex": 1,
          "SibSp": 1,
          "Ticket": "A/5 21171"
         },
         {
          "Age": 28,
          "Embarked": "S",
          "Fare": 26,
          "Name": "Clarke, Mrs. Charles V (Ada Maria Winfield)",
          "Parch": 0,
          "Pclass": 2,
          "Sex": 0,
          "SibSp": 1,
          "Ticket": "2003"
         },
         {
          "Age": 38,
          "Embarked": "S",
          "Fare": 0,
          "Name": "Reuchlin, Jonkheer. John George",
          "Parch": 0,
          "Pclass": 1,
          "Sex": 1,
          "SibSp": 0,
          "Ticket": "19972"
         },
         {
          "Age": 32.5,
          "Embarked": "S",
          "Fare": 13,
          "Name": "Webber, Miss. Susan",
          "Parch": 0,
          "Pclass": 2,
          "Sex": 0,
          "SibSp": 0,
          "Ticket": "27267"
         },
         {
          "Age": 27,
          "Embarked": "S",
          "Fare": 7.8958,
          "Name": "Danoff, Mr. Yoto",
          "Parch": 0,
          "Pclass": 3,
          "Sex": 1,
          "SibSp": 0,
          "Ticket": "349219"
         },
         {
          "Age": 29,
          "Embarked": "S",
          "Fare": 10.4625,
          "Name": "Strom, Mrs. Wilhelm (Elna Matilda Persson)",
          "Parch": 1,
          "Pclass": 3,
          "Sex": 0,
          "SibSp": 1,
          "Ticket": "347054"
         },
         {
          "Age": 15,
          "Embarked": "Q",
          "Fare": 8.0292,
          "Name": "McGowan, Miss. Anna \"Annie\"",
          "Parch": 0,
          "Pclass": 3,
          "Sex": 0,
          "SibSp": 0,
          "Ticket": "330923"
         },
         {
          "Age": 43,
          "Embarked": "S",
          "Fare": 26.25,
          "Name": "Hart, Mr. Benjamin",
          "Parch": 1,
          "Pclass": 2,
          "Sex": 1,
          "SibSp": 1,
          "Ticket": "F.C.C. 13529"
         },
         {
          "Age": 28,
          "Embarked": "S",
          "Fare": 7.8542,
          "Name": "Olsson, Mr. Nils Johan Goransson",
          "Parch": 0,
          "Pclass": 3,
          "Sex": 1,
          "SibSp": 0,
          "Ticket": "347464"
         },
         {
          "Age": 25,
          "Embarked": "C",
          "Fare": 7.225,
          "Name": "Saad, Mr. Khalil",
          "Parch": 0,
          "Pclass": 3,
          "Sex": 1,
          "SibSp": 0,
          "Ticket": "2672"
         },
         {
          "Age": 36,
          "Embarked": "S",
          "Fare": 13,
          "Name": "Ball, Mrs. (Ada E Hall)",
          "Parch": 0,
          "Pclass": 2,
          "Sex": 0,
          "SibSp": 0,
          "Ticket": "28551"
         },
         {
          "Age": 27,
          "Embarked": "S",
          "Fare": 8.6625,
          "Name": "Lulic, Mr. Nikola",
          "Parch": 0,
          "Pclass": 3,
          "Sex": 1,
          "SibSp": 0,
          "Ticket": "315098"
         },
         {
          "Age": 31,
          "Embarked": "C",
          "Fare": 37.0042,
          "Name": "Mallet, Mr. Albert",
          "Parch": 1,
          "Pclass": 2,
          "Sex": 1,
          "SibSp": 1,
          "Ticket": "S.C./PARIS 2079"
         },
         {
          "Age": 29.857193308550187,
          "Embarked": "S",
          "Fare": 19.9667,
          "Name": "Hagland, Mr. Ingvald Olai Olsen",
          "Parch": 0,
          "Pclass": 3,
          "Sex": 1,
          "SibSp": 1,
          "Ticket": "65303"
         },
         {
          "Age": 11,
          "Embarked": "S",
          "Fare": 31.275,
          "Name": "Andersson, Miss. Sigrid Elisabeth",
          "Parch": 2,
          "Pclass": 3,
          "Sex": 0,
          "SibSp": 4,
          "Ticket": "347082"
         },
         {
          "Age": 22,
          "Embarked": "S",
          "Fare": 8.05,
          "Name": "Barton, Mr. David John",
          "Parch": 0,
          "Pclass": 3,
          "Sex": 1,
          "SibSp": 0,
          "Ticket": "324669"
         },
         {
          "Age": 23.5,
          "Embarked": "C",
          "Fare": 7.2292,
          "Name": "Hanna, Mr. Mansour",
          "Parch": 0,
          "Pclass": 3,
          "Sex": 1,
          "SibSp": 0,
          "Ticket": "2693"
         },
         {
          "Age": 26,
          "Embarked": "S",
          "Fare": 16.1,
          "Name": "Lobb, Mrs. William Arthur (Cordelia K Stanlick)",
          "Parch": 0,
          "Pclass": 3,
          "Sex": 0,
          "SibSp": 1,
          "Ticket": "A/5. 3336"
         },
         {
          "Age": 19,
          "Embarked": "S",
          "Fare": 7.8958,
          "Name": "Petroff, Mr. Nedelio",
          "Parch": 0,
          "Pclass": 3,
          "Sex": 1,
          "SibSp": 0,
          "Ticket": "349212"
         },
         {
          "Age": 52,
          "Embarked": "S",
          "Fare": 13,
          "Name": "Greenberg, Mr. Samuel",
          "Parch": 0,
          "Pclass": 2,
          "Sex": 1,
          "SibSp": 0,
          "Ticket": "250647"
         },
         {
          "Age": 26,
          "Embarked": "S",
          "Fare": 7.8542,
          "Name": "Nilsson, Miss. Helmina Josefina",
          "Parch": 0,
          "Pclass": 3,
          "Sex": 0,
          "SibSp": 0,
          "Ticket": "347470"
         },
         {
          "Age": 22,
          "Embarked": "S",
          "Fare": 7.8958,
          "Name": "Vovk, Mr. Janko",
          "Parch": 0,
          "Pclass": 3,
          "Sex": 1,
          "SibSp": 0,
          "Ticket": "349252"
         },
         {
          "Age": 9,
          "Embarked": "S",
          "Fare": 20.525,
          "Name": "Goldsmith, Master. Frank John William \"Frankie\"",
          "Parch": 2,
          "Pclass": 3,
          "Sex": 1,
          "SibSp": 0,
          "Ticket": "363291"
         },
         {
          "Age": 51,
          "Embarked": "S",
          "Fare": 7.75,
          "Name": "Widegren, Mr. Carl/Charles Peter",
          "Parch": 0,
          "Pclass": 3,
          "Sex": 1,
          "SibSp": 0,
          "Ticket": "347064"
         },
         {
          "Age": 29.857193308550187,
          "Embarked": "C",
          "Fare": 15.2458,
          "Name": "Moubarek, Master. Halim Gonios (\"William George\")",
          "Parch": 1,
          "Pclass": 3,
          "Sex": 1,
          "SibSp": 1,
          "Ticket": "2661"
         },
         {
          "Age": 59,
          "Embarked": "S",
          "Fare": 7.25,
          "Name": "Coxon, Mr. Daniel",
          "Parch": 0,
          "Pclass": 3,
          "Sex": 1,
          "SibSp": 0,
          "Ticket": "364500"
         },
         {
          "Age": 34,
          "Embarked": "S",
          "Fare": 8.05,
          "Name": "Theobald, Mr. Thomas Leonard",
          "Parch": 0,
          "Pclass": 3,
          "Sex": 1,
          "SibSp": 0,
          "Ticket": "363294"
         },
         {
          "Age": 25,
          "Embarked": "S",
          "Fare": 7.925,
          "Name": "Ilmakangas, Miss. Pieta Sofia",
          "Parch": 0,
          "Pclass": 3,
          "Sex": 0,
          "SibSp": 1,
          "Ticket": "STON/O2. 3101271"
         },
         {
          "Age": 29.857193308550187,
          "Embarked": "C",
          "Fare": 7.225,
          "Name": "Emir, Mr. Farred Chehab",
          "Parch": 0,
          "Pclass": 3,
          "Sex": 1,
          "SibSp": 0,
          "Ticket": "2631"
         },
         {
          "Age": 19,
          "Embarked": "S",
          "Fare": 14.5,
          "Name": "Patchett, Mr. George",
          "Parch": 0,
          "Pclass": 3,
          "Sex": 1,
          "SibSp": 0,
          "Ticket": "358585"
         },
         {
          "Age": 64,
          "Embarked": "S",
          "Fare": 263,
          "Name": "Fortune, Mr. Mark",
          "Parch": 4,
          "Pclass": 1,
          "Sex": 1,
          "SibSp": 1,
          "Ticket": "19950"
         },
         {
          "Age": 20,
          "Embarked": "S",
          "Fare": 9.5,
          "Name": "Hampe, Mr. Leon",
          "Parch": 0,
          "Pclass": 3,
          "Sex": 1,
          "SibSp": 0,
          "Ticket": "345769"
         },
         {
          "Age": 36,
          "Embarked": "C",
          "Fare": 135.6333,
          "Name": "Young, Miss. Marie Grice",
          "Parch": 0,
          "Pclass": 1,
          "Sex": 0,
          "SibSp": 0,
          "Ticket": "PC 17760"
         },
         {
          "Age": 2,
          "Embarked": "S",
          "Fare": 39.6875,
          "Name": "Panula, Master. Urho Abraham",
          "Parch": 1,
          "Pclass": 3,
          "Sex": 1,
          "SibSp": 4,
          "Ticket": "3101295"
         },
         {
          "Age": 29.857193308550187,
          "Embarked": "C",
          "Fare": 7.2292,
          "Name": "Moussa, Mrs. (Mantoura Boulos)",
          "Parch": 0,
          "Pclass": 3,
          "Sex": 0,
          "SibSp": 0,
          "Ticket": "2626"
         },
         {
          "Age": 80,
          "Embarked": "S",
          "Fare": 30,
          "Name": "Barkworth, Mr. Algernon Henry Wilson",
          "Parch": 0,
          "Pclass": 1,
          "Sex": 1,
          "SibSp": 0,
          "Ticket": "27042"
         },
         {
          "Age": 22,
          "Embarked": "S",
          "Fare": 10.5167,
          "Name": "Dahlberg, Miss. Gerda Ulrika",
          "Parch": 0,
          "Pclass": 3,
          "Sex": 0,
          "SibSp": 0,
          "Ticket": "7552"
         },
         {
          "Age": 40,
          "Embarked": "Q",
          "Fare": 15.5,
          "Name": "Bourke, Mr. John",
          "Parch": 1,
          "Pclass": 3,
          "Sex": 1,
          "SibSp": 1,
          "Ticket": "364849"
         },
         {
          "Age": 17,
          "Embarked": "S",
          "Fare": 7.925,
          "Name": "Andersson, Miss. Erna Alexandra",
          "Parch": 2,
          "Pclass": 3,
          "Sex": 0,
          "SibSp": 4,
          "Ticket": "3101281"
         },
         {
          "Age": 25,
          "Embarked": "S",
          "Fare": 0,
          "Name": "Tornquist, Mr. William Henry",
          "Parch": 0,
          "Pclass": 3,
          "Sex": 1,
          "SibSp": 0,
          "Ticket": "LINE"
         },
         {
          "Age": 40,
          "Embarked": "S",
          "Fare": 39,
          "Name": "Brown, Mrs. Thomas William Solomon (Elizabeth Catherine Ford)",
          "Parch": 1,
          "Pclass": 2,
          "Sex": 0,
          "SibSp": 1,
          "Ticket": "29750"
         },
         {
          "Age": 1,
          "Embarked": "S",
          "Fare": 39.6875,
          "Name": "Panula, Master. Eino Viljami",
          "Parch": 1,
          "Pclass": 3,
          "Sex": 1,
          "SibSp": 4,
          "Ticket": "3101295"
         },
         {
          "Age": 29.857193308550187,
          "Embarked": "C",
          "Fare": 7.225,
          "Name": "Elias, Mr. Dibo",
          "Parch": 0,
          "Pclass": 3,
          "Sex": 1,
          "SibSp": 0,
          "Ticket": "2674"
         },
         {
          "Age": 29.857193308550187,
          "Embarked": "Q",
          "Fare": 23.25,
          "Name": "McCoy, Mr. Bernard",
          "Parch": 0,
          "Pclass": 3,
          "Sex": 1,
          "SibSp": 2,
          "Ticket": "367226"
         },
         {
          "Age": 6,
          "Embarked": "S",
          "Fare": 31.275,
          "Name": "Andersson, Miss. Ebba Iris Alfrida",
          "Parch": 2,
          "Pclass": 3,
          "Sex": 0,
          "SibSp": 4,
          "Ticket": "347082"
         },
         {
          "Age": 29.857193308550187,
          "Embarked": "S",
          "Fare": 30.5,
          "Name": "Saalfeld, Mr. Adolphe",
          "Parch": 0,
          "Pclass": 1,
          "Sex": 1,
          "SibSp": 0,
          "Ticket": "19988"
         },
         {
          "Age": 40,
          "Embarked": "S",
          "Fare": 153.4625,
          "Name": "Shutes, Miss. Elizabeth W",
          "Parch": 0,
          "Pclass": 1,
          "Sex": 0,
          "SibSp": 0,
          "Ticket": "PC 17582"
         },
         {
          "Age": 33,
          "Embarked": "S",
          "Fare": 86.5,
          "Name": "Rothes, the Countess. of (Lucy Noel Martha Dyer-Edwards)",
          "Parch": 0,
          "Pclass": 1,
          "Sex": 0,
          "SibSp": 0,
          "Ticket": "110152"
         },
         {
          "Age": 24,
          "Embarked": "S",
          "Fare": 10.5,
          "Name": "Leyson, Mr. Robert William Norman",
          "Parch": 0,
          "Pclass": 2,
          "Sex": 1,
          "SibSp": 0,
          "Ticket": "C.A. 29566"
         },
         {
          "Age": 51,
          "Embarked": "S",
          "Fare": 26.55,
          "Name": "Daly, Mr. Peter Denis ",
          "Parch": 0,
          "Pclass": 1,
          "Sex": 1,
          "SibSp": 0,
          "Ticket": "113055"
         },
         {
          "Age": 24,
          "Embarked": "C",
          "Fare": 19.2583,
          "Name": "Baclini, Mrs. Solomon (Latifa Qurban)",
          "Parch": 3,
          "Pclass": 3,
          "Sex": 0,
          "SibSp": 0,
          "Ticket": "2666"
         },
         {
          "Age": 31,
          "Embarked": "S",
          "Fare": 13,
          "Name": "Wilhelms, Mr. Charles",
          "Parch": 0,
          "Pclass": 2,
          "Sex": 1,
          "SibSp": 0,
          "Ticket": "244270"
         },
         {
          "Age": 48,
          "Embarked": "S",
          "Fare": 7.8542,
          "Name": "Jensen, Mr. Niels Peder",
          "Parch": 0,
          "Pclass": 3,
          "Sex": 1,
          "SibSp": 0,
          "Ticket": "350047"
         },
         {
          "Age": 29,
          "Embarked": "S",
          "Fare": 9.4833,
          "Name": "Larsson, Mr. August Viktor",
          "Parch": 0,
          "Pclass": 3,
          "Sex": 1,
          "SibSp": 0,
          "Ticket": "7545"
         },
         {
          "Age": 41,
          "Embarked": "S",
          "Fare": 20.2125,
          "Name": "Rosblom, Mrs. Viktor (Helena Wilhelmina)",
          "Parch": 2,
          "Pclass": 3,
          "Sex": 0,
          "SibSp": 0,
          "Ticket": "370129"
         },
         {
          "Age": 24.5,
          "Embarked": "S",
          "Fare": 8.05,
          "Name": "Sawyer, Mr. Frederick Charles",
          "Parch": 0,
          "Pclass": 3,
          "Sex": 1,
          "SibSp": 0,
          "Ticket": "342826"
         },
         {
          "Age": 23,
          "Embarked": "C",
          "Fare": 113.275,
          "Name": "Newell, Miss. Marjorie",
          "Parch": 0,
          "Pclass": 1,
          "Sex": 0,
          "SibSp": 1,
          "Ticket": "35273"
         },
         {
          "Age": 36,
          "Embarked": "C",
          "Fare": 40.125,
          "Name": "Ross, Mr. John Hugo",
          "Parch": 0,
          "Pclass": 1,
          "Sex": 1,
          "SibSp": 0,
          "Ticket": "13049"
         },
         {
          "Age": 29.857193308550187,
          "Embarked": "Q",
          "Fare": 15.5,
          "Name": "O'Brien, Mrs. Thomas (Johanna \"Hannah\" Godfrey)",
          "Parch": 0,
          "Pclass": 3,
          "Sex": 0,
          "SibSp": 1,
          "Ticket": "370365"
         },
         {
          "Age": 26,
          "Embarked": "S",
          "Fare": 7.8542,
          "Name": "Hansen, Mr. Henrik Juul",
          "Parch": 0,
          "Pclass": 3,
          "Sex": 1,
          "SibSp": 1,
          "Ticket": "350025"
         },
         {
          "Age": 14,
          "Embarked": "S",
          "Fare": 120,
          "Name": "Carter, Miss. Lucile Polk",
          "Parch": 2,
          "Pclass": 1,
          "Sex": 0,
          "SibSp": 1,
          "Ticket": "113760"
         },
         {
          "Age": 18,
          "Embarked": "S",
          "Fare": 7.4958,
          "Name": "Sjoblom, Miss. Anna Sofia",
          "Parch": 0,
          "Pclass": 3,
          "Sex": 0,
          "SibSp": 0,
          "Ticket": "3101265"
         },
         {
          "Age": 24,
          "Embarked": "S",
          "Fare": 65,
          "Name": "Herman, Miss. Alice",
          "Parch": 2,
          "Pclass": 2,
          "Sex": 0,
          "SibSp": 1,
          "Ticket": "220845"
         },
         {
          "Age": 34,
          "Embarked": "S",
          "Fare": 32.5,
          "Name": "Drew, Mrs. James Vivian (Lulu Thorne Christian)",
          "Parch": 1,
          "Pclass": 2,
          "Sex": 0,
          "SibSp": 1,
          "Ticket": "28220"
         },
         {
          "Age": 33,
          "Embarked": "S",
          "Fare": 27.75,
          "Name": "West, Mrs. Edwy Arthur (Ada Mary Worth)",
          "Parch": 2,
          "Pclass": 2,
          "Sex": 0,
          "SibSp": 1,
          "Ticket": "C.A. 34651"
         },
         {
          "Age": 28,
          "Embarked": "S",
          "Fare": 7.8958,
          "Name": "Hendekovic, Mr. Ignjac",
          "Parch": 0,
          "Pclass": 3,
          "Sex": 1,
          "SibSp": 0,
          "Ticket": "349243"
         },
         {
          "Age": 38,
          "Embarked": "S",
          "Fare": 13,
          "Name": "Funk, Miss. Annie Clemmer",
          "Parch": 0,
          "Pclass": 2,
          "Sex": 0,
          "SibSp": 0,
          "Ticket": "237671"
         },
         {
          "Age": 36,
          "Embarked": "S",
          "Fare": 26,
          "Name": "Angle, Mrs. William A (Florence \"Mary\" Agnes Hughes)",
          "Parch": 0,
          "Pclass": 2,
          "Sex": 0,
          "SibSp": 1,
          "Ticket": "226875"
         },
         {
          "Age": 29.857193308550187,
          "Embarked": "S",
          "Fare": 42.4,
          "Name": "Harrington, Mr. Charles H",
          "Parch": 0,
          "Pclass": 1,
          "Sex": 1,
          "SibSp": 0,
          "Ticket": "113796"
         },
         {
          "Age": 32,
          "Embarked": "S",
          "Fare": 73.5,
          "Name": "Hickman, Mr. Lewis",
          "Parch": 0,
          "Pclass": 2,
          "Sex": 1,
          "SibSp": 2,
          "Ticket": "S.O.C. 14879"
         },
         {
          "Age": 1,
          "Embarked": "C",
          "Fare": 15.7417,
          "Name": "Nakid, Miss. Maria (\"Mary\")",
          "Parch": 2,
          "Pclass": 3,
          "Sex": 0,
          "SibSp": 0,
          "Ticket": "2653"
         },
         {
          "Age": 45,
          "Embarked": "S",
          "Fare": 7.75,
          "Name": "Lindblom, Miss. Augusta Charlotta",
          "Parch": 0,
          "Pclass": 3,
          "Sex": 0,
          "SibSp": 0,
          "Ticket": "347073"
         },
         {
          "Age": 27,
          "Embarked": "S",
          "Fare": 13,
          "Name": "Montvila, Rev. Juozas",
          "Parch": 0,
          "Pclass": 2,
          "Sex": 1,
          "SibSp": 0,
          "Ticket": "211536"
         },
         {
          "Age": 29.857193308550187,
          "Embarked": "C",
          "Fare": 7.2292,
          "Name": "Saad, Mr. Amin",
          "Parch": 0,
          "Pclass": 3,
          "Sex": 1,
          "SibSp": 0,
          "Ticket": "2671"
         },
         {
          "Age": 32,
          "Embarked": "S",
          "Fare": 8.05,
          "Name": "Pickard, Mr. Berk (Berk Trembisky)",
          "Parch": 0,
          "Pclass": 3,
          "Sex": 1,
          "SibSp": 0,
          "Ticket": "SOTON/O.Q. 392078"
         },
         {
          "Age": 29.857193308550187,
          "Embarked": "Q",
          "Fare": 7.7875,
          "Name": "McDermott, Miss. Brigdet Delia",
          "Parch": 0,
          "Pclass": 3,
          "Sex": 0,
          "SibSp": 0,
          "Ticket": "330932"
         },
         {
          "Age": 34,
          "Embarked": "S",
          "Fare": 23,
          "Name": "Doling, Mrs. John T (Ada Julia Bone)",
          "Parch": 1,
          "Pclass": 2,
          "Sex": 0,
          "SibSp": 0,
          "Ticket": "231919"
         },
         {
          "Age": 29.857193308550187,
          "Embarked": "S",
          "Fare": 0,
          "Name": "Parr, Mr. William Henry Marsh",
          "Parch": 0,
          "Pclass": 1,
          "Sex": 1,
          "SibSp": 0,
          "Ticket": "112052"
         },
         {
          "Age": 33,
          "Embarked": "S",
          "Fare": 20.525,
          "Name": "Goldsmith, Mr. Frank John",
          "Parch": 1,
          "Pclass": 3,
          "Sex": 1,
          "SibSp": 1,
          "Ticket": "363291"
         },
         {
          "Age": 24,
          "Embarked": "S",
          "Fare": 26,
          "Name": "Kantor, Mrs. Sinai (Miriam Sternin)",
          "Parch": 0,
          "Pclass": 2,
          "Sex": 0,
          "SibSp": 1,
          "Ticket": "244367"
         },
         {
          "Age": 31,
          "Embarked": "S",
          "Fare": 50.4958,
          "Name": "Roebling, Mr. Washington Augustus II",
          "Parch": 0,
          "Pclass": 1,
          "Sex": 1,
          "SibSp": 0,
          "Ticket": "PC 17590"
         },
         {
          "Age": 25,
          "Embarked": "S",
          "Fare": 7.05,
          "Name": "Sutehall, Mr. Henry Jr",
          "Parch": 0,
          "Pclass": 3,
          "Sex": 1,
          "SibSp": 0,
          "Ticket": "SOTON/OQ 392076"
         },
         {
          "Age": 33,
          "Embarked": "C",
          "Fare": 7.8958,
          "Name": "Drazenoic, Mr. Jozef",
          "Parch": 0,
          "Pclass": 3,
          "Sex": 1,
          "SibSp": 0,
          "Ticket": "349241"
         },
         {
          "Age": 33,
          "Embarked": "S",
          "Fare": 5,
          "Name": "Carlsson, Mr. Frans Olof",
          "Parch": 0,
          "Pclass": 1,
          "Sex": 1,
          "SibSp": 0,
          "Ticket": "695"
         },
         {
          "Age": 39,
          "Embarked": "C",
          "Fare": 110.8833,
          "Name": "Thayer, Mrs. John Borland (Marian Longstreth Morris)",
          "Parch": 1,
          "Pclass": 1,
          "Sex": 0,
          "SibSp": 1,
          "Ticket": "17421"
         },
         {
          "Age": 50,
          "Embarked": "S",
          "Fare": 26,
          "Name": "Parrish, Mrs. (Lutie Davis)",
          "Parch": 1,
          "Pclass": 2,
          "Sex": 0,
          "SibSp": 0,
          "Ticket": "230433"
         },
         {
          "Age": 62,
          "Embarked": "S",
          "Fare": 80,
          "Name": "Stone, Mrs. George Nelson (Martha Evelyn)",
          "Parch": 0,
          "Pclass": 1,
          "Sex": 0,
          "SibSp": 0,
          "Ticket": "113572"
         },
         {
          "Age": 45,
          "Embarked": "S",
          "Fare": 27.9,
          "Name": "Skoog, Mrs. William (Anna Bernhardina Karlsson)",
          "Parch": 4,
          "Pclass": 3,
          "Sex": 0,
          "SibSp": 1,
          "Ticket": "347088"
         },
         {
          "Age": 22,
          "Embarked": "S",
          "Fare": 9,
          "Name": "Waelens, Mr. Achille",
          "Parch": 0,
          "Pclass": 3,
          "Sex": 1,
          "SibSp": 0,
          "Ticket": "345767"
         },
         {
          "Age": 36,
          "Embarked": "S",
          "Fare": 15.55,
          "Name": "Lindell, Mr. Edvard Bengtsson",
          "Parch": 0,
          "Pclass": 3,
          "Sex": 1,
          "SibSp": 1,
          "Ticket": "349910"
         },
         {
          "Age": 22,
          "Embarked": "S",
          "Fare": 7.75,
          "Name": "Nysten, Miss. Anna Sofia",
          "Parch": 0,
          "Pclass": 3,
          "Sex": 0,
          "SibSp": 0,
          "Ticket": "347081"
         },
         {
          "Age": 42,
          "Embarked": "S",
          "Fare": 26.2875,
          "Name": "Calderhead, Mr. Edward Pennington",
          "Parch": 0,
          "Pclass": 1,
          "Sex": 1,
          "SibSp": 0,
          "Ticket": "PC 17476"
         },
         {
          "Age": 8,
          "Embarked": "S",
          "Fare": 36.75,
          "Name": "Davies, Master. John Morgan Jr",
          "Parch": 1,
          "Pclass": 2,
          "Sex": 1,
          "SibSp": 1,
          "Ticket": "C.A. 33112"
         },
         {
          "Age": 16,
          "Embarked": "S",
          "Fare": 7.775,
          "Name": "Eklund, Mr. Hans Linus",
          "Parch": 0,
          "Pclass": 3,
          "Sex": 1,
          "SibSp": 0,
          "Ticket": "347074"
         },
         {
          "Age": 30,
          "Embarked": "S",
          "Fare": 12.475,
          "Name": "Dowdell, Miss. Elizabeth",
          "Parch": 0,
          "Pclass": 3,
          "Sex": 0,
          "SibSp": 0,
          "Ticket": "364516"
         },
         {
          "Age": 18,
          "Embarked": "S",
          "Fare": 7.775,
          "Name": "Edvardsson, Mr. Gustaf Hjalmar",
          "Parch": 0,
          "Pclass": 3,
          "Sex": 1,
          "SibSp": 0,
          "Ticket": "349912"
         },
         {
          "Age": 25,
          "Embarked": "S",
          "Fare": 30,
          "Name": "Christy, Miss. Julie Rachel",
          "Parch": 1,
          "Pclass": 2,
          "Sex": 0,
          "SibSp": 1,
          "Ticket": "237789"
         },
         {
          "Age": 29.857193308550187,
          "Embarked": "S",
          "Fare": 8.05,
          "Name": "Meanwell, Miss. (Marion Ogden)",
          "Parch": 0,
          "Pclass": 3,
          "Sex": 0,
          "SibSp": 0,
          "Ticket": "SOTON/O.Q. 392087"
         },
         {
          "Age": 8,
          "Embarked": "S",
          "Fare": 26.25,
          "Name": "Collyer, Miss. Marjorie \"Lottie\"",
          "Parch": 2,
          "Pclass": 2,
          "Sex": 0,
          "SibSp": 0,
          "Ticket": "C.A. 31921"
         },
         {
          "Age": 39,
          "Embarked": "S",
          "Fare": 13,
          "Name": "Meyer, Mr. August",
          "Parch": 0,
          "Pclass": 2,
          "Sex": 1,
          "SibSp": 0,
          "Ticket": "248723"
         },
         {
          "Age": 17,
          "Embarked": "C",
          "Fare": 110.8833,
          "Name": "Thayer, Mr. John Borland Jr",
          "Parch": 2,
          "Pclass": 1,
          "Sex": 1,
          "SibSp": 0,
          "Ticket": "17421"
         },
         {
          "Age": 37,
          "Embarked": "C",
          "Fare": 29.7,
          "Name": "Natsch, Mr. Charles H",
          "Parch": 1,
          "Pclass": 1,
          "Sex": 1,
          "SibSp": 0,
          "Ticket": "PC 17596"
         },
         {
          "Age": 29.857193308550187,
          "Embarked": "C",
          "Fare": 8.7125,
          "Name": "Paulner, Mr. Uscher",
          "Parch": 0,
          "Pclass": 3,
          "Sex": 1,
          "SibSp": 0,
          "Ticket": "3411"
         },
         {
          "Age": 26,
          "Embarked": "S",
          "Fare": 8.6625,
          "Name": "Kink, Mr. Vincenz",
          "Parch": 0,
          "Pclass": 3,
          "Sex": 1,
          "SibSp": 2,
          "Ticket": "315151"
         },
         {
          "Age": 21,
          "Embarked": "Q",
          "Fare": 7.7333,
          "Name": "Charters, Mr. David",
          "Parch": 0,
          "Pclass": 3,
          "Sex": 1,
          "SibSp": 0,
          "Ticket": "A/5. 13032"
         },
         {
          "Age": 17,
          "Embarked": "C",
          "Fare": 7.2292,
          "Name": "Elias, Mr. Joseph Jr",
          "Parch": 1,
          "Pclass": 3,
          "Sex": 1,
          "SibSp": 1,
          "Ticket": "2690"
         },
         {
          "Age": 17,
          "Embarked": "S",
          "Fare": 8.6625,
          "Name": "Culumovic, Mr. Jeso",
          "Parch": 0,
          "Pclass": 3,
          "Sex": 1,
          "SibSp": 0,
          "Ticket": "315090"
         },
         {
          "Age": 38,
          "Embarked": "S",
          "Fare": 31.3875,
          "Name": "Asplund, Mrs. Carl Oscar (Selma Augusta Emilia Johansson)",
          "Parch": 5,
          "Pclass": 3,
          "Sex": 0,
          "SibSp": 1,
          "Ticket": "347077"
         },
         {
          "Age": 29.857193308550187,
          "Embarked": "Q",
          "Fare": 7.7375,
          "Name": "Mannion, Miss. Margareth",
          "Parch": 0,
          "Pclass": 3,
          "Sex": 0,
          "SibSp": 0,
          "Ticket": "36866"
         },
         {
          "Age": 38,
          "Embarked": "C",
          "Fare": 71.2833,
          "Name": "Cumings, Mrs. John Bradley (Florence Briggs Thayer)",
          "Parch": 0,
          "Pclass": 1,
          "Sex": 0,
          "SibSp": 1,
          "Ticket": "PC 17599"
         },
         {
          "Age": 28,
          "Embarked": "S",
          "Fare": 13,
          "Name": "Collander, Mr. Erik Gustaf",
          "Parch": 0,
          "Pclass": 2,
          "Sex": 1,
          "SibSp": 0,
          "Ticket": "248740"
         },
         {
          "Age": 18,
          "Embarked": "S",
          "Fare": 9.35,
          "Name": "Aks, Mrs. Sam (Leah Rosen)",
          "Parch": 1,
          "Pclass": 3,
          "Sex": 0,
          "SibSp": 0,
          "Ticket": "392091"
         },
         {
          "Age": 24,
          "Embarked": "C",
          "Fare": 83.1583,
          "Name": "Hays, Miss. Margaret Bechstein",
          "Parch": 0,
          "Pclass": 1,
          "Sex": 0,
          "SibSp": 0,
          "Ticket": "11767"
         },
         {
          "Age": 28,
          "Embarked": "S",
          "Fare": 9.5,
          "Name": "Vande Walle, Mr. Nestor Cyriel",
          "Parch": 0,
          "Pclass": 3,
          "Sex": 1,
          "SibSp": 0,
          "Ticket": "345770"
         },
         {
          "Age": 62,
          "Embarked": "S",
          "Fare": 26.55,
          "Name": "Wright, Mr. George",
          "Parch": 0,
          "Pclass": 1,
          "Sex": 1,
          "SibSp": 0,
          "Ticket": "113807"
         },
         {
          "Age": 29.857193308550187,
          "Embarked": "S",
          "Fare": 14.5,
          "Name": "Garfirth, Mr. John",
          "Parch": 0,
          "Pclass": 3,
          "Sex": 1,
          "SibSp": 0,
          "Ticket": "358585"
         },
         {
          "Age": 22,
          "Embarked": "C",
          "Fare": 135.6333,
          "Name": "Ringhini, Mr. Sante",
          "Parch": 0,
          "Pclass": 1,
          "Sex": 1,
          "SibSp": 0,
          "Ticket": "PC 17760"
         },
         {
          "Age": 16,
          "Embarked": "S",
          "Fare": 46.9,
          "Name": "Goodwin, Miss. Lillian Amy",
          "Parch": 2,
          "Pclass": 3,
          "Sex": 0,
          "SibSp": 5,
          "Ticket": "CA 2144"
         },
         {
          "Age": 27,
          "Embarked": "S",
          "Fare": 7.925,
          "Name": "Honkanen, Miss. Eliina",
          "Parch": 0,
          "Pclass": 3,
          "Sex": 0,
          "SibSp": 0,
          "Ticket": "STON/O2. 3101283"
         },
         {
          "Age": 29.857193308550187,
          "Embarked": "Q",
          "Fare": 7.75,
          "Name": "O'Connor, Mr. Maurice",
          "Parch": 0,
          "Pclass": 3,
          "Sex": 1,
          "SibSp": 0,
          "Ticket": "371060"
         },
         {
          "Age": 29.857193308550187,
          "Embarked": "S",
          "Fare": 52,
          "Name": "Taylor, Mrs. Elmer Zebley (Juliet Cummins Wright)",
          "Parch": 0,
          "Pclass": 1,
          "Sex": 0,
          "SibSp": 1,
          "Ticket": "19996"
         },
         {
          "Age": 36,
          "Embarked": "S",
          "Fare": 24.15,
          "Name": "Van Impe, Mr. Jean Baptiste",
          "Parch": 1,
          "Pclass": 3,
          "Sex": 1,
          "SibSp": 1,
          "Ticket": "345773"
         },
         {
          "Age": 26,
          "Embarked": "S",
          "Fare": 56.4958,
          "Name": "Lang, Mr. Fang",
          "Parch": 0,
          "Pclass": 3,
          "Sex": 1,
          "SibSp": 0,
          "Ticket": "1601"
         },
         {
          "Age": 1,
          "Embarked": "S",
          "Fare": 46.9,
          "Name": "Goodwin, Master. Sidney Leonard",
          "Parch": 2,
          "Pclass": 3,
          "Sex": 1,
          "SibSp": 5,
          "Ticket": "CA 2144"
         },
         {
          "Age": 48,
          "Embarked": "S",
          "Fare": 25.9292,
          "Name": "Swift, Mrs. Frederick Joel (Margaret Welles Barron)",
          "Parch": 0,
          "Pclass": 1,
          "Sex": 0,
          "SibSp": 0,
          "Ticket": "17466"
         },
         {
          "Age": 19,
          "Embarked": "S",
          "Fare": 10.5,
          "Name": "Mellors, Mr. William John",
          "Parch": 0,
          "Pclass": 2,
          "Sex": 1,
          "SibSp": 0,
          "Ticket": "SW/PP 751"
         },
         {
          "Age": 18,
          "Embarked": "C",
          "Fare": 108.9,
          "Name": "Penasco y Castellana, Mr. Victor de Satode",
          "Parch": 0,
          "Pclass": 1,
          "Sex": 1,
          "SibSp": 1,
          "Ticket": "PC 17758"
         },
         {
          "Age": 27,
          "Embarked": "C",
          "Fare": 76.7292,
          "Name": "Hassab, Mr. Hammad",
          "Parch": 0,
          "Pclass": 1,
          "Sex": 1,
          "SibSp": 0,
          "Ticket": "PC 17572"
         },
         {
          "Age": 29.857193308550187,
          "Embarked": "S",
          "Fare": 8.05,
          "Name": "Slocovski, Mr. Selman Francis",
          "Parch": 0,
          "Pclass": 3,
          "Sex": 1,
          "SibSp": 0,
          "Ticket": "SOTON/OQ 392086"
         },
         {
          "Age": 24,
          "Embarked": "S",
          "Fare": 13,
          "Name": "Brown, Miss. Amelia \"Mildred\"",
          "Parch": 0,
          "Pclass": 2,
          "Sex": 0,
          "SibSp": 0,
          "Ticket": "248733"
         },
         {
          "Age": 18,
          "Embarked": "S",
          "Fare": 7.7958,
          "Name": "Fischer, Mr. Eberhard Thelander",
          "Parch": 0,
          "Pclass": 3,
          "Sex": 1,
          "SibSp": 0,
          "Ticket": "350036"
         },
         {
          "Age": 16,
          "Embarked": "S",
          "Fare": 9.2167,
          "Name": "Osen, Mr. Olaf Elon",
          "Parch": 0,
          "Pclass": 3,
          "Sex": 1,
          "SibSp": 0,
          "Ticket": "7534"
         },
         {
          "Age": 51,
          "Embarked": "S",
          "Fare": 12.525,
          "Name": "Bateman, Rev. Robert James",
          "Parch": 0,
          "Pclass": 2,
          "Sex": 1,
          "SibSp": 0,
          "Ticket": "S.O.P. 1166"
         },
         {
          "Age": 63,
          "Embarked": "S",
          "Fare": 9.5875,
          "Name": "Turkula, Mrs. (Hedwig)",
          "Parch": 0,
          "Pclass": 3,
          "Sex": 0,
          "SibSp": 0,
          "Ticket": "4134"
         },
         {
          "Age": 16,
          "Embarked": "S",
          "Fare": 86.5,
          "Name": "Maioni, Miss. Roberta",
          "Parch": 0,
          "Pclass": 1,
          "Sex": 0,
          "SibSp": 0,
          "Ticket": "110152"
         },
         {
          "Age": 36,
          "Embarked": "S",
          "Fare": 7.4958,
          "Name": "Coleff, Mr. Peju",
          "Parch": 0,
          "Pclass": 3,
          "Sex": 1,
          "SibSp": 0,
          "Ticket": "349210"
         },
         {
          "Age": 29.857193308550187,
          "Embarked": "S",
          "Fare": 7.8958,
          "Name": "Plotcharsky, Mr. Vasil",
          "Parch": 0,
          "Pclass": 3,
          "Sex": 1,
          "SibSp": 0,
          "Ticket": "349227"
         },
         {
          "Age": 29.857193308550187,
          "Embarked": "S",
          "Fare": 26.55,
          "Name": "Klaber, Mr. Herman",
          "Parch": 0,
          "Pclass": 1,
          "Sex": 1,
          "SibSp": 0,
          "Ticket": "113028"
         },
         {
          "Age": 19,
          "Embarked": "S",
          "Fare": 26.2833,
          "Name": "Newsom, Miss. Helen Monypeny",
          "Parch": 2,
          "Pclass": 1,
          "Sex": 0,
          "SibSp": 0,
          "Ticket": "11752"
         },
         {
          "Age": 48,
          "Embarked": "C",
          "Fare": 76.7292,
          "Name": "Harper, Mr. Henry Sleeper",
          "Parch": 0,
          "Pclass": 1,
          "Sex": 1,
          "SibSp": 1,
          "Ticket": "PC 17572"
         },
         {
          "Age": 29.857193308550187,
          "Embarked": "Q",
          "Fare": 23.25,
          "Name": "McCoy, Miss. Agnes",
          "Parch": 0,
          "Pclass": 3,
          "Sex": 0,
          "SibSp": 2,
          "Ticket": "367226"
         },
         {
          "Age": 40,
          "Embarked": "S",
          "Fare": 0,
          "Name": "Harrison, Mr. William",
          "Parch": 0,
          "Pclass": 1,
          "Sex": 1,
          "SibSp": 0,
          "Ticket": "112059"
         },
         {
          "Age": 44,
          "Embarked": "S",
          "Fare": 26,
          "Name": "Carter, Mrs. Ernest Courtenay (Lilian Hughes)",
          "Parch": 0,
          "Pclass": 2,
          "Sex": 0,
          "SibSp": 1,
          "Ticket": "244252"
         },
         {
          "Age": 29.857193308550187,
          "Embarked": "Q",
          "Fare": 7.75,
          "Name": "Horgan, Mr. John",
          "Parch": 0,
          "Pclass": 3,
          "Sex": 1,
          "SibSp": 0,
          "Ticket": "370377"
         },
         {
          "Age": 36,
          "Embarked": "S",
          "Fare": 10.5,
          "Name": "Reeves, Mr. David",
          "Parch": 0,
          "Pclass": 2,
          "Sex": 1,
          "SibSp": 0,
          "Ticket": "C.A. 17248"
         },
         {
          "Age": 37,
          "Embarked": "S",
          "Fare": 52.5542,
          "Name": "Beckwith, Mr. Richard Leonard",
          "Parch": 1,
          "Pclass": 1,
          "Sex": 1,
          "SibSp": 1,
          "Ticket": "11751"
         },
         {
          "Age": 34,
          "Embarked": "S",
          "Fare": 21,
          "Name": "Gale, Mr. Shadrach",
          "Parch": 0,
          "Pclass": 2,
          "Sex": 1,
          "SibSp": 1,
          "Ticket": "28664"
         },
         {
          "Age": 32,
          "Embarked": "Q",
          "Fare": 15.5,
          "Name": "Bourke, Mrs. John (Catherine)",
          "Parch": 1,
          "Pclass": 3,
          "Sex": 0,
          "SibSp": 1,
          "Ticket": "364849"
         },
         {
          "Age": 47,
          "Embarked": "S",
          "Fare": 52.5542,
          "Name": "Beckwith, Mrs. Richard Leonard (Sallie Monypeny)",
          "Parch": 1,
          "Pclass": 1,
          "Sex": 0,
          "SibSp": 1,
          "Ticket": "11751"
         },
         {
          "Age": 29.857193308550187,
          "Embarked": "C",
          "Fare": 7.225,
          "Name": "Lahoud, Mr. Sarkis",
          "Parch": 0,
          "Pclass": 3,
          "Sex": 1,
          "SibSp": 0,
          "Ticket": "2624"
         },
         {
          "Age": 29.857193308550187,
          "Embarked": "S",
          "Fare": 0,
          "Name": "Parkes, Mr. Francis \"Frank\"",
          "Parch": 0,
          "Pclass": 2,
          "Sex": 1,
          "SibSp": 0,
          "Ticket": "239853"
         },
         {
          "Age": 18,
          "Embarked": "S",
          "Fare": 20.2125,
          "Name": "Rosblom, Mr. Viktor Richard",
          "Parch": 1,
          "Pclass": 3,
          "Sex": 1,
          "SibSp": 1,
          "Ticket": "370129"
         },
         {
          "Age": 51,
          "Embarked": "S",
          "Fare": 8.05,
          "Name": "Green, Mr. George Henry",
          "Parch": 0,
          "Pclass": 3,
          "Sex": 1,
          "SibSp": 0,
          "Ticket": "21440"
         },
         {
          "Age": 10,
          "Embarked": "S",
          "Fare": 24.15,
          "Name": "Van Impe, Miss. Catharina",
          "Parch": 2,
          "Pclass": 3,
          "Sex": 0,
          "SibSp": 0,
          "Ticket": "345773"
         },
         {
          "Age": 60,
          "Embarked": "C",
          "Fare": 75.25,
          "Name": "Warren, Mrs. Frank Manley (Anna Sophia Atkinson)",
          "Parch": 0,
          "Pclass": 1,
          "Sex": 0,
          "SibSp": 1,
          "Ticket": "110813"
         },
         {
          "Age": 36,
          "Embarked": "S",
          "Fare": 26.2875,
          "Name": "McGough, Mr. James Robert",
          "Parch": 0,
          "Pclass": 1,
          "Sex": 1,
          "SibSp": 0,
          "Ticket": "PC 17473"
         },
         {
          "Age": 19,
          "Embarked": "S",
          "Fare": 30,
          "Name": "Graham, Miss. Margaret Edith",
          "Parch": 0,
          "Pclass": 1,
          "Sex": 0,
          "SibSp": 0,
          "Ticket": "112053"
         },
         {
          "Age": 3,
          "Embarked": "S",
          "Fare": 31.3875,
          "Name": "Asplund, Master. Edvin Rojj Felix",
          "Parch": 2,
          "Pclass": 3,
          "Sex": 1,
          "SibSp": 4,
          "Ticket": "347077"
         },
         {
          "Age": 29.857193308550187,
          "Embarked": "Q",
          "Fare": 15.5,
          "Name": "Murphy, Miss. Margaret Jane",
          "Parch": 0,
          "Pclass": 3,
          "Sex": 0,
          "SibSp": 1,
          "Ticket": "367230"
         },
         {
          "Age": 26,
          "Embarked": "C",
          "Fare": 30,
          "Name": "Behr, Mr. Karl Howell",
          "Parch": 0,
          "Pclass": 1,
          "Sex": 1,
          "SibSp": 0,
          "Ticket": "111369"
         },
         {
          "Age": 23,
          "Embarked": "S",
          "Fare": 7.925,
          "Name": "Heininen, Miss. Wendla Maria",
          "Parch": 0,
          "Pclass": 3,
          "Sex": 0,
          "SibSp": 0,
          "Ticket": "STON/O2. 3101290"
         },
         {
          "Age": 29.857193308550187,
          "Embarked": "S",
          "Fare": 50,
          "Name": "Rood, Mr. Hugh Roscoe",
          "Parch": 0,
          "Pclass": 1,
          "Sex": 1,
          "SibSp": 0,
          "Ticket": "113767"
         },
         {
          "Age": 28,
          "Embarked": "S",
          "Fare": 7.8958,
          "Name": "Petranec, Miss. Matilda",
          "Parch": 0,
          "Pclass": 3,
          "Sex": 0,
          "SibSp": 0,
          "Ticket": "349245"
         },
         {
          "Age": 43,
          "Embarked": "S",
          "Fare": 6.45,
          "Name": "Holm, Mr. John Fredrik Alexander",
          "Parch": 0,
          "Pclass": 3,
          "Sex": 1,
          "SibSp": 0,
          "Ticket": "C 7075"
         },
         {
          "Age": 29.857193308550187,
          "Embarked": "Q",
          "Fare": 15.5,
          "Name": "Lennon, Mr. Denis",
          "Parch": 0,
          "Pclass": 3,
          "Sex": 1,
          "SibSp": 1,
          "Ticket": "370371"
         },
         {
          "Age": 29.857193308550187,
          "Embarked": "C",
          "Fare": 15.05,
          "Name": "Pernot, Mr. Rene",
          "Parch": 0,
          "Pclass": 2,
          "Sex": 1,
          "SibSp": 0,
          "Ticket": "SC/PARIS 2131"
         },
         {
          "Age": 23,
          "Embarked": "S",
          "Fare": 11.5,
          "Name": "Hocking, Mr. Richard George",
          "Parch": 1,
          "Pclass": 2,
          "Sex": 1,
          "SibSp": 2,
          "Ticket": "29104"
         },
         {
          "Age": 39,
          "Embarked": "S",
          "Fare": 79.65,
          "Name": "Taussig, Mrs. Emil (Tillie Mandelbaum)",
          "Parch": 1,
          "Pclass": 1,
          "Sex": 0,
          "SibSp": 1,
          "Ticket": "110413"
         },
         {
          "Age": 29.857193308550187,
          "Embarked": "Q",
          "Fare": 6.8583,
          "Name": "Hart, Mr. Henry",
          "Parch": 0,
          "Pclass": 3,
          "Sex": 1,
          "SibSp": 0,
          "Ticket": "394140"
         },
         {
          "Age": 29.857193308550187,
          "Embarked": "Q",
          "Fare": 7.75,
          "Name": "Kelly, Miss. Mary",
          "Parch": 0,
          "Pclass": 3,
          "Sex": 0,
          "SibSp": 0,
          "Ticket": "14312"
         },
         {
          "Age": 60,
          "Embarked": "C",
          "Fare": 79.2,
          "Name": "Frolicher-Stehli, Mr. Maxmillian",
          "Parch": 1,
          "Pclass": 1,
          "Sex": 1,
          "SibSp": 1,
          "Ticket": "13567"
         },
         {
          "Age": 55,
          "Embarked": "S",
          "Fare": 16,
          "Name": "Hewlett, Mrs. (Mary D Kingcome) ",
          "Parch": 0,
          "Pclass": 2,
          "Sex": 0,
          "SibSp": 0,
          "Ticket": "248706"
         },
         {
          "Age": 14,
          "Embarked": "C",
          "Fare": 11.2417,
          "Name": "Nicola-Yarred, Miss. Jamila",
          "Parch": 0,
          "Pclass": 3,
          "Sex": 0,
          "SibSp": 1,
          "Ticket": "2651"
         },
         {
          "Age": 35,
          "Embarked": "S",
          "Fare": 8.05,
          "Name": "Allen, Mr. William Henry",
          "Parch": 0,
          "Pclass": 3,
          "Sex": 1,
          "SibSp": 0,
          "Ticket": "373450"
         },
         {
          "Age": 25,
          "Embarked": "S",
          "Fare": 17.8,
          "Name": "Arnold-Franchi, Mr. Josef",
          "Parch": 0,
          "Pclass": 3,
          "Sex": 1,
          "SibSp": 1,
          "Ticket": "349237"
         },
         {
          "Age": 35,
          "Embarked": "S",
          "Fare": 20.25,
          "Name": "Abbott, Mrs. Stanton (Rosa Hunt)",
          "Parch": 1,
          "Pclass": 3,
          "Sex": 0,
          "SibSp": 1,
          "Ticket": "C.A. 2673"
         },
         {
          "Age": 25,
          "Embarked": "S",
          "Fare": 26,
          "Name": "Shelley, Mrs. William (Imanita Parrish Hall)",
          "Parch": 1,
          "Pclass": 2,
          "Sex": 0,
          "SibSp": 0,
          "Ticket": "230433"
         },
         {
          "Age": 24,
          "Embarked": "S",
          "Fare": 7.05,
          "Name": "Ali, Mr. Ahmed",
          "Parch": 0,
          "Pclass": 3,
          "Sex": 1,
          "SibSp": 0,
          "Ticket": "SOTON/O.Q. 3101311"
         },
         {
          "Age": 26,
          "Embarked": "C",
          "Fare": 18.7875,
          "Name": "Albimona, Mr. Nassef Cassem",
          "Parch": 0,
          "Pclass": 3,
          "Sex": 1,
          "SibSp": 0,
          "Ticket": "2699"
         },
         {
          "Age": 38,
          "Embarked": "S",
          "Fare": 90,
          "Name": "Hoyt, Mr. Frederick Maxfield",
          "Parch": 0,
          "Pclass": 1,
          "Sex": 1,
          "SibSp": 1,
          "Ticket": "19943"
         },
         {
          "Age": 26,
          "Embarked": "S",
          "Fare": 26,
          "Name": "Lahtinen, Mrs. William (Anna Sylfven)",
          "Parch": 1,
          "Pclass": 2,
          "Sex": 0,
          "SibSp": 1,
          "Ticket": "250651"
         },
         {
          "Age": 8,
          "Embarked": "S",
          "Fare": 21.075,
          "Name": "Palsson, Miss. Torborg Danira",
          "Parch": 1,
          "Pclass": 3,
          "Sex": 0,
          "SibSp": 3,
          "Ticket": "349909"
         },
         {
          "Age": 23,
          "Embarked": "S",
          "Fare": 7.8542,
          "Name": "Augustsson, Mr. Albert",
          "Parch": 0,
          "Pclass": 3,
          "Sex": 1,
          "SibSp": 0,
          "Ticket": "347468"
         },
         {
          "Age": 20,
          "Embarked": "S",
          "Fare": 8.6625,
          "Name": "Oreskovic, Mr. Luka",
          "Parch": 0,
          "Pclass": 3,
          "Sex": 1,
          "SibSp": 0,
          "Ticket": "315094"
         },
         {
          "Age": 71,
          "Embarked": "C",
          "Fare": 49.5042,
          "Name": "Artagaveytia, Mr. Ramon",
          "Parch": 0,
          "Pclass": 1,
          "Sex": 1,
          "SibSp": 0,
          "Ticket": "PC 17609"
         },
         {
          "Age": 29.857193308550187,
          "Embarked": "Q",
          "Fare": 24.15,
          "Name": "Ryan, Mr. Patrick",
          "Parch": 0,
          "Pclass": 3,
          "Sex": 1,
          "SibSp": 0,
          "Ticket": "371110"
         },
         {
          "Age": 36,
          "Embarked": "S",
          "Fare": 26.3875,
          "Name": "Flynn, Mr. John Irwin (\"Irving\")",
          "Parch": 0,
          "Pclass": 1,
          "Sex": 1,
          "SibSp": 0,
          "Ticket": "PC 17474"
         },
         {
          "Age": 33,
          "Embarked": "S",
          "Fare": 15.85,
          "Name": "Backstrom, Mrs. Karl Alfred (Maria Mathilda Gustafsson)",
          "Parch": 0,
          "Pclass": 3,
          "Sex": 0,
          "SibSp": 3,
          "Ticket": "3101278"
         },
         {
          "Age": 26,
          "Embarked": "S",
          "Fare": 7.925,
          "Name": "Heikkinen, Miss. Laina",
          "Parch": 0,
          "Pclass": 3,
          "Sex": 0,
          "SibSp": 0,
          "Ticket": "STON/O2. 3101282"
         },
         {
          "Age": 34,
          "Embarked": "S",
          "Fare": 14.4,
          "Name": "Danbom, Mr. Ernst Gilbert",
          "Parch": 1,
          "Pclass": 3,
          "Sex": 1,
          "SibSp": 1,
          "Ticket": "347080"
         },
         {
          "Age": 29.857193308550187,
          "Embarked": "Q",
          "Fare": 7.725,
          "Name": "Scanlan, Mr. James",
          "Parch": 0,
          "Pclass": 3,
          "Sex": 1,
          "SibSp": 0,
          "Ticket": "36209"
         },
         {
          "Age": 26,
          "Embarked": "S",
          "Fare": 7.775,
          "Name": "Bengtsson, Mr. John Viktor",
          "Parch": 0,
          "Pclass": 3,
          "Sex": 1,
          "SibSp": 0,
          "Ticket": "347068"
         },
         {
          "Age": 29.857193308550187,
          "Embarked": "Q",
          "Fare": 7.75,
          "Name": "Keane, Mr. Andrew \"Andy\"",
          "Parch": 0,
          "Pclass": 3,
          "Sex": 1,
          "SibSp": 0,
          "Ticket": "12460"
         },
         {
          "Age": 2,
          "Embarked": "Q",
          "Fare": 29.125,
          "Name": "Rice, Master. Eugene",
          "Parch": 1,
          "Pclass": 3,
          "Sex": 1,
          "SibSp": 4,
          "Ticket": "382652"
         },
         {
          "Age": 29.857193308550187,
          "Embarked": "S",
          "Fare": 0,
          "Name": "Knight, Mr. Robert J",
          "Parch": 0,
          "Pclass": 2,
          "Sex": 1,
          "SibSp": 0,
          "Ticket": "239855"
         },
         {
          "Age": 0.67,
          "Embarked": "S",
          "Fare": 14.5,
          "Name": "Hamalainen, Master. Viljo",
          "Parch": 1,
          "Pclass": 2,
          "Sex": 1,
          "SibSp": 1,
          "Ticket": "250649"
         },
         {
          "Age": 24,
          "Embarked": "S",
          "Fare": 24.15,
          "Name": "Davies, Mr. Alfred J",
          "Parch": 0,
          "Pclass": 3,
          "Sex": 1,
          "SibSp": 2,
          "Ticket": "A/4 48871"
         },
         {
          "Age": 31,
          "Embarked": "S",
          "Fare": 164.8667,
          "Name": "Wick, Miss. Mary Natalie",
          "Parch": 2,
          "Pclass": 1,
          "Sex": 0,
          "SibSp": 0,
          "Ticket": "36928"
         },
         {
          "Age": 36,
          "Embarked": "S",
          "Fare": 13,
          "Name": "Buss, Miss. Kate",
          "Parch": 0,
          "Pclass": 2,
          "Sex": 0,
          "SibSp": 0,
          "Ticket": "27849"
         },
         {
          "Age": 43,
          "Embarked": "S",
          "Fare": 211.3375,
          "Name": "Robert, Mrs. Edward Scott (Elisabeth Walton McMillan)",
          "Parch": 1,
          "Pclass": 1,
          "Sex": 0,
          "SibSp": 0,
          "Ticket": "24160"
         },
         {
          "Age": 29.857193308550187,
          "Embarked": "Q",
          "Fare": 7.75,
          "Name": "Morrow, Mr. Thomas Rowan",
          "Parch": 0,
          "Pclass": 3,
          "Sex": 1,
          "SibSp": 0,
          "Ticket": "372622"
         },
         {
          "Age": 18,
          "Embarked": "S",
          "Fare": 11.5,
          "Name": "Bailey, Mr. Percy Andrew",
          "Parch": 0,
          "Pclass": 2,
          "Sex": 1,
          "SibSp": 0,
          "Ticket": "29108"
         },
         {
          "Age": 45,
          "Embarked": "S",
          "Fare": 26.55,
          "Name": "Romaine, Mr. Charles Hallace (\"Mr C Rolmane\")",
          "Parch": 0,
          "Pclass": 1,
          "Sex": 1,
          "SibSp": 0,
          "Ticket": "111428"
         },
         {
          "Age": 30,
          "Embarked": "S",
          "Fare": 13,
          "Name": "Hale, Mr. Reginald",
          "Parch": 0,
          "Pclass": 2,
          "Sex": 1,
          "SibSp": 0,
          "Ticket": "250653"
         },
         {
          "Age": 29.857193308550187,
          "Embarked": "C",
          "Fare": 39.6,
          "Name": "Brewe, Dr. Arthur Jackson",
          "Parch": 0,
          "Pclass": 1,
          "Sex": 1,
          "SibSp": 0,
          "Ticket": "112379"
         },
         {
          "Age": 32,
          "Embarked": "S",
          "Fare": 8.3625,
          "Name": "Gronnestad, Mr. Daniel Danielsen",
          "Parch": 0,
          "Pclass": 3,
          "Sex": 1,
          "SibSp": 0,
          "Ticket": "8471"
         },
         {
          "Age": 19,
          "Embarked": "S",
          "Fare": 7.8958,
          "Name": "Cor, Mr. Liudevit",
          "Parch": 0,
          "Pclass": 3,
          "Sex": 1,
          "SibSp": 0,
          "Ticket": "349231"
         },
         {
          "Age": 18,
          "Embarked": "S",
          "Fare": 23,
          "Name": "Doling, Miss. Elsie",
          "Parch": 1,
          "Pclass": 2,
          "Sex": 0,
          "SibSp": 0,
          "Ticket": "231919"
         },
         {
          "Age": 29.857193308550187,
          "Embarked": "S",
          "Fare": 69.55,
          "Name": "Sage, Mr. Frederick",
          "Parch": 2,
          "Pclass": 3,
          "Sex": 1,
          "SibSp": 8,
          "Ticket": "CA. 2343"
         },
         {
          "Age": 16,
          "Embarked": "S",
          "Fare": 20.25,
          "Name": "Abbott, Mr. Rossmore Edward",
          "Parch": 1,
          "Pclass": 3,
          "Sex": 1,
          "SibSp": 1,
          "Ticket": "C.A. 2673"
         },
         {
          "Age": 29.857193308550187,
          "Embarked": "Q",
          "Fare": 12.35,
          "Name": "Keane, Miss. Nora A",
          "Parch": 0,
          "Pclass": 2,
          "Sex": 0,
          "SibSp": 0,
          "Ticket": "226593"
         },
         {
          "Age": 29.857193308550187,
          "Embarked": "S",
          "Fare": 8.05,
          "Name": "Moutal, Mr. Rahamin Haim",
          "Parch": 0,
          "Pclass": 3,
          "Sex": 1,
          "SibSp": 0,
          "Ticket": "374746"
         },
         {
          "Age": 50,
          "Embarked": "C",
          "Fare": 106.425,
          "Name": "Douglas, Mr. Walter Donald",
          "Parch": 0,
          "Pclass": 1,
          "Sex": 1,
          "SibSp": 1,
          "Ticket": "PC 17761"
         },
         {
          "Age": 17,
          "Embarked": "S",
          "Fare": 57,
          "Name": "Dick, Mrs. Albert Adrian (Vera Gillespie)",
          "Parch": 0,
          "Pclass": 1,
          "Sex": 0,
          "SibSp": 1,
          "Ticket": "17474"
         },
         {
          "Age": 27,
          "Embarked": "S",
          "Fare": 12.475,
          "Name": "Moor, Mrs. (Beila)",
          "Parch": 1,
          "Pclass": 3,
          "Sex": 0,
          "SibSp": 0,
          "Ticket": "392096"
         },
         {
          "Age": 29.857193308550187,
          "Embarked": "C",
          "Fare": 15.2458,
          "Name": "Boulos, Mrs. Joseph (Sultana)",
          "Parch": 2,
          "Pclass": 3,
          "Sex": 0,
          "SibSp": 0,
          "Ticket": "2678"
         },
         {
          "Age": 33,
          "Embarked": "S",
          "Fare": 7.775,
          "Name": "Johnson, Mr. Malkolm Joackim",
          "Parch": 0,
          "Pclass": 3,
          "Sex": 1,
          "SibSp": 0,
          "Ticket": "347062"
         },
         {
          "Age": 30,
          "Embarked": "C",
          "Fare": 7.225,
          "Name": "Attalah, Mr. Sleiman",
          "Parch": 0,
          "Pclass": 3,
          "Sex": 1,
          "SibSp": 0,
          "Ticket": "2694"
         },
         {
          "Age": 49,
          "Embarked": "C",
          "Fare": 76.7292,
          "Name": "Harper, Mrs. Henry Sleeper (Myna Haxtun)",
          "Parch": 0,
          "Pclass": 1,
          "Sex": 0,
          "SibSp": 1,
          "Ticket": "PC 17572"
         },
         {
          "Age": 19,
          "Embarked": "Q",
          "Fare": 6.75,
          "Name": "Burke, Mr. Jeremiah",
          "Parch": 0,
          "Pclass": 3,
          "Sex": 1,
          "SibSp": 0,
          "Ticket": "365222"
         },
         {
          "Age": 29.857193308550187,
          "Embarked": "Q",
          "Fare": 8.4583,
          "Name": "Moran, Mr. James",
          "Parch": 0,
          "Pclass": 3,
          "Sex": 1,
          "SibSp": 0,
          "Ticket": "330877"
         },
         {
          "Age": 24,
          "Embarked": "S",
          "Fare": 8.85,
          "Name": "Haas, Miss. Aloisia",
          "Parch": 0,
          "Pclass": 3,
          "Sex": 0,
          "SibSp": 0,
          "Ticket": "349236"
         },
         {
          "Age": 29.857193308550187,
          "Embarked": "Q",
          "Fare": 7.75,
          "Name": "Healy, Miss. Hanora \"Nora\"",
          "Parch": 0,
          "Pclass": 3,
          "Sex": 0,
          "SibSp": 0,
          "Ticket": "370375"
         },
         {
          "Age": 47,
          "Embarked": "S",
          "Fare": 15,
          "Name": "Jarvis, Mr. John Denzil",
          "Parch": 0,
          "Pclass": 2,
          "Sex": 1,
          "SibSp": 0,
          "Ticket": "237565"
         },
         {
          "Age": 50,
          "Embarked": "S",
          "Fare": 10.5,
          "Name": "Ridsdale, Miss. Lucy",
          "Parch": 0,
          "Pclass": 2,
          "Sex": 0,
          "SibSp": 0,
          "Ticket": "W./C. 14258"
         },
         {
          "Age": 52,
          "Embarked": "S",
          "Fare": 13.5,
          "Name": "Chapman, Mr. Charles Henry",
          "Parch": 0,
          "Pclass": 2,
          "Sex": 1,
          "SibSp": 0,
          "Ticket": "248731"
         },
         {
          "Age": 24,
          "Embarked": "S",
          "Fare": 18.75,
          "Name": "Richards, Mrs. Sidney (Emily Hocking)",
          "Parch": 3,
          "Pclass": 2,
          "Sex": 0,
          "SibSp": 2,
          "Ticket": "29106"
         },
         {
          "Age": 61,
          "Embarked": "S",
          "Fare": 6.2375,
          "Name": "Nysveen, Mr. Johan Hansen",
          "Parch": 0,
          "Pclass": 3,
          "Sex": 1,
          "SibSp": 0,
          "Ticket": "345364"
         },
         {
          "Age": 17,
          "Embarked": "C",
          "Fare": 12,
          "Name": "Lehmann, Miss. Bertha",
          "Parch": 0,
          "Pclass": 2,
          "Sex": 0,
          "SibSp": 0,
          "Ticket": "SC 1748"
         },
         {
          "Age": 44,
          "Embarked": "S",
          "Fare": 8.05,
          "Name": "Torber, Mr. Ernst William",
          "Parch": 0,
          "Pclass": 3,
          "Sex": 1,
          "SibSp": 0,
          "Ticket": "364511"
         },
         {
          "Age": 17,
          "Embarked": "S",
          "Fare": 7.0542,
          "Name": "Jensen, Mr. Svend Lauritz",
          "Parch": 0,
          "Pclass": 3,
          "Sex": 1,
          "SibSp": 1,
          "Ticket": "350048"
         },
         {
          "Age": 61,
          "Embarked": "S",
          "Fare": 33.5,
          "Name": "Van der hoef, Mr. Wyckoff",
          "Parch": 0,
          "Pclass": 1,
          "Sex": 1,
          "SibSp": 0,
          "Ticket": "111240"
         },
         {
          "Age": 56,
          "Embarked": "C",
          "Fare": 35.5,
          "Name": "Simonius-Blumer, Col. Oberst Alfons",
          "Parch": 0,
          "Pclass": 1,
          "Sex": 1,
          "SibSp": 0,
          "Ticket": "13213"
         },
         {
          "Age": 31,
          "Embarked": "S",
          "Fare": 18,
          "Name": "Vander Planke, Mrs. Julius (Emelia Maria Vandemoortele)",
          "Parch": 0,
          "Pclass": 3,
          "Sex": 0,
          "SibSp": 1,
          "Ticket": "345763"
         },
         {
          "Age": 62,
          "Embarked": "S",
          "Fare": 10.5,
          "Name": "Harris, Mr. George",
          "Parch": 0,
          "Pclass": 2,
          "Sex": 1,
          "SibSp": 0,
          "Ticket": "S.W./PP 752"
         },
         {
          "Age": 18,
          "Embarked": "S",
          "Fare": 13,
          "Name": "Silven, Miss. Lyyli Karoliina",
          "Parch": 2,
          "Pclass": 2,
          "Sex": 0,
          "SibSp": 0,
          "Ticket": "250652"
         },
         {
          "Age": 29.857193308550187,
          "Embarked": "S",
          "Fare": 7.8958,
          "Name": "Petroff, Mr. Pastcho (\"Pentcho\")",
          "Parch": 0,
          "Pclass": 3,
          "Sex": 1,
          "SibSp": 0,
          "Ticket": "349215"
         },
         {
          "Age": 39,
          "Embarked": "S",
          "Fare": 55.9,
          "Name": "Silvey, Mrs. William Baird (Alice Munger)",
          "Parch": 0,
          "Pclass": 1,
          "Sex": 0,
          "SibSp": 1,
          "Ticket": "13507"
         },
         {
          "Age": 28,
          "Embarked": "S",
          "Fare": 22.525,
          "Name": "Olsen, Mr. Henry Margido",
          "Parch": 0,
          "Pclass": 3,
          "Sex": 1,
          "SibSp": 0,
          "Ticket": "C 4001"
         },
         {
          "Age": 18,
          "Embarked": "S",
          "Fare": 7.8542,
          "Name": "Klasen, Mr. Klas Albin",
          "Parch": 1,
          "Pclass": 3,
          "Sex": 1,
          "SibSp": 1,
          "Ticket": "350404"
         },
         {
          "Age": 29.857193308550187,
          "Embarked": "C",
          "Fare": 30.6958,
          "Name": "Hoyt, Mr. William Fisher",
          "Parch": 0,
          "Pclass": 1,
          "Sex": 1,
          "SibSp": 0,
          "Ticket": "PC 17600"
         },
         {
          "Age": 19,
          "Embarked": "S",
          "Fare": 263,
          "Name": "Fortune, Mr. Charles Alexander",
          "Parch": 2,
          "Pclass": 1,
          "Sex": 1,
          "SibSp": 3,
          "Ticket": "19950"
         },
         {
          "Age": 21,
          "Embarked": "S",
          "Fare": 73.5,
          "Name": "Hood, Mr. Ambrose Jr",
          "Parch": 0,
          "Pclass": 2,
          "Sex": 1,
          "SibSp": 0,
          "Ticket": "S.O.C. 14879"
         },
         {
          "Age": 29.857193308550187,
          "Embarked": "S",
          "Fare": 51.8625,
          "Name": "Kenyon, Mrs. Frederick R (Marion)",
          "Parch": 0,
          "Pclass": 1,
          "Sex": 0,
          "SibSp": 1,
          "Ticket": "17464"
         },
         {
          "Age": 21,
          "Embarked": "C",
          "Fare": 262.375,
          "Name": "Ryerson, Miss. Susan Parker \"Suzette\"",
          "Parch": 2,
          "Pclass": 1,
          "Sex": 0,
          "SibSp": 2,
          "Ticket": "PC 17608"
         },
         {
          "Age": 25,
          "Embarked": "S",
          "Fare": 13,
          "Name": "Butler, Mr. Reginald Fenton",
          "Parch": 0,
          "Pclass": 2,
          "Sex": 1,
          "SibSp": 0,
          "Ticket": "234686"
         },
         {
          "Age": 30,
          "Embarked": "S",
          "Fare": 7.25,
          "Name": "Adahl, Mr. Mauritz Nils Martin",
          "Parch": 0,
          "Pclass": 3,
          "Sex": 1,
          "SibSp": 0,
          "Ticket": "C 7076"
         },
         {
          "Age": 52,
          "Embarked": "S",
          "Fare": 30.5,
          "Name": "Peuchen, Major. Arthur Godfrey",
          "Parch": 0,
          "Pclass": 1,
          "Sex": 1,
          "SibSp": 0,
          "Ticket": "113786"
         },
         {
          "Age": 29.857193308550187,
          "Embarked": "S",
          "Fare": 8.05,
          "Name": "Sirota, Mr. Maurice",
          "Parch": 0,
          "Pclass": 3,
          "Sex": 1,
          "SibSp": 0,
          "Ticket": "392092"
         },
         {
          "Age": 25,
          "Embarked": "Q",
          "Fare": 7.7417,
          "Name": "Gallagher, Mr. Martin",
          "Parch": 0,
          "Pclass": 3,
          "Sex": 1,
          "SibSp": 0,
          "Ticket": "36864"
         },
         {
          "Age": 11,
          "Embarked": "C",
          "Fare": 18.7875,
          "Name": "Hassan, Mr. Houssein G N",
          "Parch": 0,
          "Pclass": 3,
          "Sex": 1,
          "SibSp": 0,
          "Ticket": "2699"
         },
         {
          "Age": 18,
          "Embarked": "C",
          "Fare": 262.375,
          "Name": "Ryerson, Miss. Emily Borie",
          "Parch": 2,
          "Pclass": 1,
          "Sex": 0,
          "SibSp": 2,
          "Ticket": "PC 17608"
         },
         {
          "Age": 54,
          "Embarked": "S",
          "Fare": 26,
          "Name": "Carter, Rev. Ernest Courtenay",
          "Parch": 0,
          "Pclass": 2,
          "Sex": 1,
          "SibSp": 1,
          "Ticket": "244252"
         },
         {
          "Age": 42,
          "Embarked": "S",
          "Fare": 26,
          "Name": "Louch, Mrs. Charles Alexander (Alice Adelaide Slow)",
          "Parch": 0,
          "Pclass": 2,
          "Sex": 0,
          "SibSp": 1,
          "Ticket": "SC/AH 3085"
         },
         {
          "Age": 19,
          "Embarked": "S",
          "Fare": 7.65,
          "Name": "Soholt, Mr. Peter Andreas Lauritz Andersen",
          "Parch": 0,
          "Pclass": 3,
          "Sex": 1,
          "SibSp": 0,
          "Ticket": "348124"
         },
         {
          "Age": 44,
          "Embarked": "Q",
          "Fare": 90,
          "Name": "Minahan, Dr. William Edward",
          "Parch": 0,
          "Pclass": 1,
          "Sex": 1,
          "SibSp": 2,
          "Ticket": "19928"
         },
         {
          "Age": 49,
          "Embarked": "S",
          "Fare": 0,
          "Name": "Johnson, Mr. Alfred",
          "Parch": 0,
          "Pclass": 3,
          "Sex": 1,
          "SibSp": 0,
          "Ticket": "LINE"
         },
         {
          "Age": 29.857193308550187,
          "Embarked": "C",
          "Fare": 14.4542,
          "Name": "Zabour, Miss. Thamine",
          "Parch": 0,
          "Pclass": 3,
          "Sex": 0,
          "SibSp": 1,
          "Ticket": "2665"
         },
         {
          "Age": 54,
          "Embarked": "S",
          "Fare": 23,
          "Name": "Hocking, Mrs. Elizabeth (Eliza Needs)",
          "Parch": 3,
          "Pclass": 2,
          "Sex": 0,
          "SibSp": 1,
          "Ticket": "29105"
         },
         {
          "Age": 35,
          "Embarked": "S",
          "Fare": 83.475,
          "Name": "Harris, Mrs. Henry Birkhardt (Irene Wallach)",
          "Parch": 0,
          "Pclass": 1,
          "Sex": 0,
          "SibSp": 1,
          "Ticket": "36973"
         },
         {
          "Age": 29.857193308550187,
          "Embarked": "Q",
          "Fare": 15.5,
          "Name": "McEvoy, Mr. Michael",
          "Parch": 0,
          "Pclass": 3,
          "Sex": 1,
          "SibSp": 0,
          "Ticket": "36568"
         },
         {
          "Age": 18,
          "Embarked": "S",
          "Fare": 18,
          "Name": "Vander Planke, Miss. Augusta Maria",
          "Parch": 0,
          "Pclass": 3,
          "Sex": 0,
          "SibSp": 2,
          "Ticket": "345764"
         },
         {
          "Age": 19,
          "Embarked": "S",
          "Fare": 7.775,
          "Name": "Gustafsson, Mr. Karl Gideon",
          "Parch": 0,
          "Pclass": 3,
          "Sex": 1,
          "SibSp": 0,
          "Ticket": "347069"
         },
         {
          "Age": 6,
          "Embarked": "S",
          "Fare": 12.475,
          "Name": "Moor, Master. Meier",
          "Parch": 1,
          "Pclass": 3,
          "Sex": 1,
          "SibSp": 0,
          "Ticket": "392096"
         },
         {
          "Age": 29.857193308550187,
          "Embarked": "S",
          "Fare": 56.4958,
          "Name": "Lam, Mr. Len",
          "Parch": 0,
          "Pclass": 3,
          "Sex": 1,
          "SibSp": 0,
          "Ticket": "1601"
         },
         {
          "Age": 28,
          "Embarked": "S",
          "Fare": 35.5,
          "Name": "Sloper, Mr. William Thompson",
          "Parch": 0,
          "Pclass": 1,
          "Sex": 1,
          "SibSp": 0,
          "Ticket": "113788"
         },
         {
          "Age": 21,
          "Embarked": "S",
          "Fare": 77.2875,
          "Name": "White, Mr. Richard Frasar",
          "Parch": 1,
          "Pclass": 1,
          "Sex": 1,
          "SibSp": 0,
          "Ticket": "35281"
         },
         {
          "Age": 29.857193308550187,
          "Embarked": "S",
          "Fare": 7.55,
          "Name": "Harknett, Miss. Alice Phoebe",
          "Parch": 0,
          "Pclass": 3,
          "Sex": 0,
          "SibSp": 0,
          "Ticket": "W./C. 6609"
         },
         {
          "Age": 21,
          "Embarked": "S",
          "Fare": 10.5,
          "Name": "Rugg, Miss. Emily",
          "Parch": 0,
          "Pclass": 2,
          "Sex": 0,
          "SibSp": 0,
          "Ticket": "C.A. 31026"
         },
         {
          "Age": 29.857193308550187,
          "Embarked": "Q",
          "Fare": 24.15,
          "Name": "Moran, Miss. Bertha",
          "Parch": 0,
          "Pclass": 3,
          "Sex": 0,
          "SibSp": 1,
          "Ticket": "371110"
         },
         {
          "Age": 25,
          "Embarked": "S",
          "Fare": 151.55,
          "Name": "Allison, Mrs. Hudson J C (Bessie Waldo Daniels)",
          "Parch": 2,
          "Pclass": 1,
          "Sex": 0,
          "SibSp": 1,
          "Ticket": "113781"
         },
         {
          "Age": 59,
          "Embarked": "S",
          "Fare": 13.5,
          "Name": "Sjostedt, Mr. Ernst Adolf",
          "Parch": 0,
          "Pclass": 2,
          "Sex": 1,
          "SibSp": 0,
          "Ticket": "237442"
         },
         {
          "Age": 54,
          "Embarked": "C",
          "Fare": 59.4,
          "Name": "Rothschild, Mrs. Martin (Elizabeth L. Barrett)",
          "Parch": 0,
          "Pclass": 1,
          "Sex": 0,
          "SibSp": 1,
          "Ticket": "PC 17603"
         },
         {
          "Age": 50,
          "Embarked": "C",
          "Fare": 247.5208,
          "Name": "Baxter, Mrs. James (Helene DeLaudeniere Chaput)",
          "Parch": 1,
          "Pclass": 1,
          "Sex": 0,
          "SibSp": 0,
          "Ticket": "PC 17558"
         },
         {
          "Age": 1,
          "Embarked": "C",
          "Fare": 37.0042,
          "Name": "Mallet, Master. Andre",
          "Parch": 2,
          "Pclass": 2,
          "Sex": 1,
          "SibSp": 0,
          "Ticket": "S.C./PARIS 2079"
         },
         {
          "Age": 47,
          "Embarked": "S",
          "Fare": 14.5,
          "Name": "Robins, Mrs. Alexander A (Grace Charity Laury)",
          "Parch": 0,
          "Pclass": 3,
          "Sex": 0,
          "SibSp": 1,
          "Ticket": "A/5. 3337"
         },
         {
          "Age": 32.5,
          "Embarked": "C",
          "Fare": 30.0708,
          "Name": "Nasser, Mr. Nicholas",
          "Parch": 0,
          "Pclass": 2,
          "Sex": 1,
          "SibSp": 1,
          "Ticket": "237736"
         },
         {
          "Age": 8,
          "Embarked": "Q",
          "Fare": 29.125,
          "Name": "Rice, Master. George Hugh",
          "Parch": 1,
          "Pclass": 3,
          "Sex": 1,
          "SibSp": 4,
          "Ticket": "382652"
         },
         {
          "Age": 12,
          "Embarked": "C",
          "Fare": 11.2417,
          "Name": "Nicola-Yarred, Master. Elias",
          "Parch": 0,
          "Pclass": 3,
          "Sex": 1,
          "SibSp": 1,
          "Ticket": "2651"
         },
         {
          "Age": 70,
          "Embarked": "S",
          "Fare": 10.5,
          "Name": "Mitchell, Mr. Henry Michael",
          "Parch": 0,
          "Pclass": 2,
          "Sex": 1,
          "SibSp": 0,
          "Ticket": "C.A. 24580"
         },
         {
          "Age": 29.857193308550187,
          "Embarked": "Q",
          "Fare": 7.75,
          "Name": "Madigan, Miss. Margaret \"Maggie\"",
          "Parch": 0,
          "Pclass": 3,
          "Sex": 0,
          "SibSp": 0,
          "Ticket": "370370"
         },
         {
          "Age": 19,
          "Embarked": "Q",
          "Fare": 7.8792,
          "Name": "Devaney, Miss. Margaret Delia",
          "Parch": 0,
          "Pclass": 3,
          "Sex": 0,
          "SibSp": 0,
          "Ticket": "330958"
         },
         {
          "Age": 36,
          "Embarked": "S",
          "Fare": 0,
          "Name": "Leonard, Mr. Lionel",
          "Parch": 0,
          "Pclass": 3,
          "Sex": 1,
          "SibSp": 0,
          "Ticket": "LINE"
         },
         {
          "Age": 14,
          "Embarked": "C",
          "Fare": 30.0708,
          "Name": "Nasser, Mrs. Nicholas (Adele Achem)",
          "Parch": 0,
          "Pclass": 2,
          "Sex": 0,
          "SibSp": 1,
          "Ticket": "237736"
         },
         {
          "Age": 29.857193308550187,
          "Embarked": "C",
          "Fare": 110.8833,
          "Name": "Fleming, Miss. Margaret",
          "Parch": 0,
          "Pclass": 1,
          "Sex": 0,
          "SibSp": 0,
          "Ticket": "17421"
         },
         {
          "Age": 36,
          "Embarked": "C",
          "Fare": 12.875,
          "Name": "Levy, Mr. Rene Jacques",
          "Parch": 0,
          "Pclass": 2,
          "Sex": 1,
          "SibSp": 0,
          "Ticket": "SC/Paris 2163"
         },
         {
          "Age": 3,
          "Embarked": "S",
          "Fare": 15.9,
          "Name": "Coutts, Master. William Loch \"William\"",
          "Parch": 1,
          "Pclass": 3,
          "Sex": 1,
          "SibSp": 1,
          "Ticket": "C.A. 37671"
         },
         {
          "Age": 45,
          "Embarked": "S",
          "Fare": 26.55,
          "Name": "Butt, Major. Archibald Willingham",
          "Parch": 0,
          "Pclass": 1,
          "Sex": 1,
          "SibSp": 0,
          "Ticket": "113050"
         },
         {
          "Age": 16,
          "Embarked": "S",
          "Fare": 39.4,
          "Name": "Lines, Miss. Mary Conover",
          "Parch": 1,
          "Pclass": 1,
          "Sex": 0,
          "SibSp": 0,
          "Ticket": "PC 17592"
         },
         {
          "Age": 40,
          "Embarked": "S",
          "Fare": 15.75,
          "Name": "Watt, Mrs. James (Elizabeth \"Bessie\" Inglis Milne)",
          "Parch": 0,
          "Pclass": 2,
          "Sex": 0,
          "SibSp": 0,
          "Ticket": "C.A. 33595"
         },
         {
          "Age": 35,
          "Embarked": "C",
          "Fare": 512.3292,
          "Name": "Lesurer, Mr. Gustave J",
          "Parch": 0,
          "Pclass": 1,
          "Sex": 1,
          "SibSp": 0,
          "Ticket": "PC 17755"
         },
         {
          "Age": 32,
          "Embarked": "S",
          "Fare": 7.925,
          "Name": "Tikkanen, Mr. Juho",
          "Parch": 0,
          "Pclass": 3,
          "Sex": 1,
          "SibSp": 0,
          "Ticket": "STON/O 2. 3101293"
         },
         {
          "Age": 29.857193308550187,
          "Embarked": "Q",
          "Fare": 7.75,
          "Name": "Bourke, Miss. Mary",
          "Parch": 2,
          "Pclass": 3,
          "Sex": 0,
          "SibSp": 0,
          "Ticket": "364848"
         },
         {
          "Age": 31,
          "Embarked": "S",
          "Fare": 26.25,
          "Name": "Collyer, Mr. Harvey",
          "Parch": 1,
          "Pclass": 2,
          "Sex": 1,
          "SibSp": 1,
          "Ticket": "C.A. 31921"
         },
         {
          "Age": 65,
          "Embarked": "Q",
          "Fare": 7.75,
          "Name": "Duane, Mr. Frank",
          "Parch": 0,
          "Pclass": 3,
          "Sex": 1,
          "SibSp": 0,
          "Ticket": "336439"
         },
         {
          "Age": 29.857193308550187,
          "Embarked": "S",
          "Fare": 8.6625,
          "Name": "Smiljanic, Mr. Mile",
          "Parch": 0,
          "Pclass": 3,
          "Sex": 1,
          "SibSp": 0,
          "Ticket": "315037"
         },
         {
          "Age": 22,
          "Embarked": "S",
          "Fare": 55,
          "Name": "Bowerman, Miss. Elsie Edith",
          "Parch": 1,
          "Pclass": 1,
          "Sex": 0,
          "SibSp": 0,
          "Ticket": "113505"
         },
         {
          "Age": 29.857193308550187,
          "Embarked": "C",
          "Fare": 22.3583,
          "Name": "Peter, Miss. Anna",
          "Parch": 1,
          "Pclass": 3,
          "Sex": 0,
          "SibSp": 1,
          "Ticket": "2668"
         },
         {
          "Age": 19,
          "Embarked": "S",
          "Fare": 8.05,
          "Name": "Beavan, Mr. William Thomas",
          "Parch": 0,
          "Pclass": 3,
          "Sex": 1,
          "SibSp": 0,
          "Ticket": "323951"
         },
         {
          "Age": 29.857193308550187,
          "Embarked": "S",
          "Fare": 56.4958,
          "Name": "Lam, Mr. Ali",
          "Parch": 0,
          "Pclass": 3,
          "Sex": 1,
          "SibSp": 0,
          "Ticket": "1601"
         },
         {
          "Age": 27,
          "Embarked": "S",
          "Fare": 10.5,
          "Name": "Troutt, Miss. Edwina Celia \"Winnie\"",
          "Parch": 0,
          "Pclass": 2,
          "Sex": 0,
          "SibSp": 0,
          "Ticket": "34218"
         },
         {
          "Age": 26,
          "Embarked": "S",
          "Fare": 78.85,
          "Name": "Barber, Miss. Ellen \"Nellie\"",
          "Parch": 0,
          "Pclass": 1,
          "Sex": 0,
          "SibSp": 0,
          "Ticket": "19877"
         },
         {
          "Age": 42,
          "Embarked": "S",
          "Fare": 7.55,
          "Name": "Abbing, Mr. Anthony",
          "Parch": 0,
          "Pclass": 3,
          "Sex": 1,
          "SibSp": 0,
          "Ticket": "C.A. 5547"
         },
         {
          "Age": 18,
          "Embarked": "C",
          "Fare": 227.525,
          "Name": "Astor, Mrs. John Jacob (Madeleine Talmadge Force)",
          "Parch": 0,
          "Pclass": 1,
          "Sex": 0,
          "SibSp": 1,
          "Ticket": "PC 17757"
         },
         {
          "Age": 30,
          "Embarked": "C",
          "Fare": 56.9292,
          "Name": "Francatelli, Miss. Laura Mabel",
          "Parch": 0,
          "Pclass": 1,
          "Sex": 0,
          "SibSp": 0,
          "Ticket": "PC 17485"
         },
         {
          "Age": 14,
          "Embarked": "S",
          "Fare": 39.6875,
          "Name": "Panula, Mr. Jaako Arnold",
          "Parch": 1,
          "Pclass": 3,
          "Sex": 1,
          "SibSp": 4,
          "Ticket": "3101295"
         },
         {
          "Age": 11,
          "Embarked": "S",
          "Fare": 120,
          "Name": "Carter, Master. William Thornton II",
          "Parch": 2,
          "Pclass": 1,
          "Sex": 1,
          "SibSp": 1,
          "Ticket": "113760"
         },
         {
          "Age": 1,
          "Embarked": "S",
          "Fare": 39,
          "Name": "Becker, Master. Richard F",
          "Parch": 1,
          "Pclass": 2,
          "Sex": 1,
          "SibSp": 2,
          "Ticket": "230136"
         },
         {
          "Age": 24,
          "Embarked": "C",
          "Fare": 69.3,
          "Name": "Aubart, Mme. Leontine Pauline",
          "Parch": 0,
          "Pclass": 1,
          "Sex": 0,
          "SibSp": 0,
          "Ticket": "PC 17477"
         },
         {
          "Age": 29.857193308550187,
          "Embarked": "S",
          "Fare": 7.8958,
          "Name": "Laleff, Mr. Kristo",
          "Parch": 0,
          "Pclass": 3,
          "Sex": 1,
          "SibSp": 0,
          "Ticket": "349217"
         },
         {
          "Age": 14,
          "Embarked": "S",
          "Fare": 46.9,
          "Name": "Goodwin, Mr. Charles Edward",
          "Parch": 2,
          "Pclass": 3,
          "Sex": 1,
          "SibSp": 5,
          "Ticket": "CA 2144"
         },
         {
          "Age": 17,
          "Embarked": "S",
          "Fare": 7.125,
          "Name": "Kallio, Mr. Nikolai Erland",
          "Parch": 0,
          "Pclass": 3,
          "Sex": 1,
          "SibSp": 0,
          "Ticket": "STON/O 2. 3101274"
         },
         {
          "Age": 19,
          "Embarked": "S",
          "Fare": 13,
          "Name": "Carbines, Mr. William",
          "Parch": 0,
          "Pclass": 2,
          "Sex": 1,
          "SibSp": 0,
          "Ticket": "28424"
         },
         {
          "Age": 29,
          "Embarked": "S",
          "Fare": 30,
          "Name": "Long, Mr. Milton Clyde",
          "Parch": 0,
          "Pclass": 1,
          "Sex": 1,
          "SibSp": 0,
          "Ticket": "113501"
         },
         {
          "Age": 21,
          "Embarked": "S",
          "Fare": 8.4333,
          "Name": "Kalvik, Mr. Johannes Halvorsen",
          "Parch": 0,
          "Pclass": 3,
          "Sex": 1,
          "SibSp": 0,
          "Ticket": "8475"
         },
         {
          "Age": 29.857193308550187,
          "Embarked": "C",
          "Fare": 15.2458,
          "Name": "Moubarek, Master. Gerios",
          "Parch": 1,
          "Pclass": 3,
          "Sex": 1,
          "SibSp": 1,
          "Ticket": "2661"
         },
         {
          "Age": 22,
          "Embarked": "C",
          "Fare": 49.5,
          "Name": "Frolicher, Miss. Hedwig Margaritha",
          "Parch": 2,
          "Pclass": 1,
          "Sex": 0,
          "SibSp": 0,
          "Ticket": "13568"
         },
         {
          "Age": 39,
          "Embarked": "S",
          "Fare": 7.925,
          "Name": "Niskanen, Mr. Juha",
          "Parch": 0,
          "Pclass": 3,
          "Sex": 1,
          "SibSp": 0,
          "Ticket": "STON/O 2. 3101289"
         },
         {
          "Age": 21,
          "Embarked": "S",
          "Fare": 7.65,
          "Name": "Salkjelsvik, Miss. Anna Kristine",
          "Parch": 0,
          "Pclass": 3,
          "Sex": 0,
          "SibSp": 0,
          "Ticket": "343120"
         },
         {
          "Age": 45,
          "Embarked": "S",
          "Fare": 6.975,
          "Name": "Ekstrom, Mr. Johan",
          "Parch": 0,
          "Pclass": 3,
          "Sex": 1,
          "SibSp": 0,
          "Ticket": "347061"
         },
         {
          "Age": 21,
          "Embarked": "S",
          "Fare": 11.5,
          "Name": "Giles, Mr. Frederick Edward",
          "Parch": 0,
          "Pclass": 2,
          "Sex": 1,
          "SibSp": 1,
          "Ticket": "28134"
         },
         {
          "Age": 23,
          "Embarked": "S",
          "Fare": 263,
          "Name": "Fortune, Miss. Mabel Helen",
          "Parch": 2,
          "Pclass": 1,
          "Sex": 0,
          "SibSp": 3,
          "Ticket": "19950"
         },
         {
          "Age": 29.857193308550187,
          "Embarked": "C",
          "Fare": 7.2292,
          "Name": "Razi, Mr. Raihed",
          "Parch": 0,
          "Pclass": 3,
          "Sex": 1,
          "SibSp": 0,
          "Ticket": "2629"
         },
         {
          "Age": 18,
          "Embarked": "S",
          "Fare": 11.5,
          "Name": "Andrew, Mr. Edgardo Samuel",
          "Parch": 0,
          "Pclass": 2,
          "Sex": 1,
          "SibSp": 0,
          "Ticket": "231945"
         },
         {
          "Age": 9,
          "Embarked": "S",
          "Fare": 31.3875,
          "Name": "Asplund, Master. Clarence Gustaf Hugo",
          "Parch": 2,
          "Pclass": 3,
          "Sex": 1,
          "SibSp": 4,
          "Ticket": "347077"
         },
         {
          "Age": 29.857193308550187,
          "Embarked": "Q",
          "Fare": 7.8792,
          "Name": "O'Dwyer, Miss. Ellen \"Nellie\"",
          "Parch": 0,
          "Pclass": 3,
          "Sex": 0,
          "SibSp": 0,
          "Ticket": "330959"
         },
         {
          "Age": 29.857193308550187,
          "Embarked": "S",
          "Fare": 16.1,
          "Name": "Davison, Mrs. Thomas Henry (Mary E Finck)",
          "Parch": 0,
          "Pclass": 3,
          "Sex": 0,
          "SibSp": 1,
          "Ticket": "386525"
         },
         {
          "Age": 29.857193308550187,
          "Embarked": "Q",
          "Fare": 7.8792,
          "Name": "Mockler, Miss. Helen Mary \"Ellie\"",
          "Parch": 0,
          "Pclass": 3,
          "Sex": 0,
          "SibSp": 0,
          "Ticket": "330980"
         },
         {
          "Age": 22,
          "Embarked": "S",
          "Fare": 66.6,
          "Name": "Pears, Mrs. Thomas (Edith Wearne)",
          "Parch": 0,
          "Pclass": 1,
          "Sex": 0,
          "SibSp": 1,
          "Ticket": "113776"
         },
         {
          "Age": 16,
          "Embarked": "Q",
          "Fare": 7.7333,
          "Name": "Gilnagh, Miss. Katherine \"Katie\"",
          "Parch": 0,
          "Pclass": 3,
          "Sex": 0,
          "SibSp": 0,
          "Ticket": "35851"
         },
         {
          "Age": 30,
          "Embarked": "C",
          "Fare": 31,
          "Name": "Serepeca, Miss. Augusta",
          "Parch": 0,
          "Pclass": 1,
          "Sex": 0,
          "SibSp": 0,
          "Ticket": "113798"
         },
         {
          "Age": 54,
          "Embarked": "S",
          "Fare": 26,
          "Name": "Downton, Mr. William James",
          "Parch": 0,
          "Pclass": 2,
          "Sex": 1,
          "SibSp": 0,
          "Ticket": "28403"
         },
         {
          "Age": 29.857193308550187,
          "Embarked": "Q",
          "Fare": 7.75,
          "Name": "Jermyn, Miss. Annie",
          "Parch": 0,
          "Pclass": 3,
          "Sex": 0,
          "SibSp": 0,
          "Ticket": "14313"
         },
         {
          "Age": 19,
          "Embarked": "S",
          "Fare": 8.1583,
          "Name": "Crease, Mr. Ernest James",
          "Parch": 0,
          "Pclass": 3,
          "Sex": 1,
          "SibSp": 0,
          "Ticket": "S.P. 3464"
         },
         {
          "Age": 3,
          "Embarked": "C",
          "Fare": 41.5792,
          "Name": "Laroche, Miss. Simonne Marie Anne Andree",
          "Parch": 2,
          "Pclass": 2,
          "Sex": 0,
          "SibSp": 1,
          "Ticket": "SC/Paris 2123"
         },
         {
          "Age": 28,
          "Embarked": "S",
          "Fare": 10.5,
          "Name": "Banfield, Mr. Frederick James",
          "Parch": 0,
          "Pclass": 2,
          "Sex": 1,
          "SibSp": 0,
          "Ticket": "C.A./SOTON 34068"
         },
         {
          "Age": 32,
          "Embarked": "S",
          "Fare": 56.4958,
          "Name": "Chip, Mr. Chang",
          "Parch": 0,
          "Pclass": 3,
          "Sex": 1,
          "SibSp": 0,
          "Ticket": "1601"
         },
         {
          "Age": 34,
          "Embarked": "S",
          "Fare": 6.4958,
          "Name": "Johanson, Mr. Jakob Alfred",
          "Parch": 0,
          "Pclass": 3,
          "Sex": 1,
          "SibSp": 0,
          "Ticket": "3101264"
         },
         {
          "Age": 40,
          "Embarked": "C",
          "Fare": 27.7208,
          "Name": "Uruchurtu, Don. Manuel E",
          "Parch": 0,
          "Pclass": 1,
          "Sex": 1,
          "SibSp": 0,
          "Ticket": "PC 17601"
         },
         {
          "Age": 19,
          "Embarked": "S",
          "Fare": 7.8958,
          "Name": "Stoytcheff, Mr. Ilia",
          "Parch": 0,
          "Pclass": 3,
          "Sex": 1,
          "SibSp": 0,
          "Ticket": "349205"
         },
         {
          "Age": 28,
          "Embarked": "C",
          "Fare": 24,
          "Name": "Abelson, Mrs. Samuel (Hannah Wizosky)",
          "Parch": 0,
          "Pclass": 2,
          "Sex": 0,
          "SibSp": 1,
          "Ticket": "P/PP 3381"
         },
         {
          "Age": 25,
          "Embarked": "S",
          "Fare": 7.775,
          "Name": "Petterson, Mr. Johan Emil",
          "Parch": 0,
          "Pclass": 3,
          "Sex": 1,
          "SibSp": 1,
          "Ticket": "347076"
         },
         {
          "Age": 31,
          "Embarked": "S",
          "Fare": 7.925,
          "Name": "Stranden, Mr. Juho",
          "Parch": 0,
          "Pclass": 3,
          "Sex": 1,
          "SibSp": 0,
          "Ticket": "STON/O 2. 3101288"
         },
         {
          "Age": 29.857193308550187,
          "Embarked": "Q",
          "Fare": 15.5,
          "Name": "Murphy, Miss. Katherine \"Kate\"",
          "Parch": 0,
          "Pclass": 3,
          "Sex": 0,
          "SibSp": 1,
          "Ticket": "367230"
         },
         {
          "Age": 21,
          "Embarked": "S",
          "Fare": 7.925,
          "Name": "Sivola, Mr. Antti Wilhelm",
          "Parch": 0,
          "Pclass": 3,
          "Sex": 1,
          "SibSp": 0,
          "Ticket": "STON/O 2. 3101280"
         },
         {
          "Age": 29.857193308550187,
          "Embarked": "C",
          "Fare": 7.225,
          "Name": "Masselmani, Mrs. Fatima",
          "Parch": 0,
          "Pclass": 3,
          "Sex": 0,
          "SibSp": 0,
          "Ticket": "2649"
         },
         {
          "Age": 31,
          "Embarked": "S",
          "Fare": 26.25,
          "Name": "Collyer, Mrs. Harvey (Charlotte Annie Tate)",
          "Parch": 1,
          "Pclass": 2,
          "Sex": 0,
          "SibSp": 1,
          "Ticket": "C.A. 31921"
         },
         {
          "Age": 29.857193308550187,
          "Embarked": "Q",
          "Fare": 7.8292,
          "Name": "O'Leary, Miss. Hanora \"Norah\"",
          "Parch": 0,
          "Pclass": 3,
          "Sex": 0,
          "SibSp": 0,
          "Ticket": "330919"
         },
         {
          "Age": 29.857193308550187,
          "Embarked": "S",
          "Fare": 7.8958,
          "Name": "Staneff, Mr. Ivan",
          "Parch": 0,
          "Pclass": 3,
          "Sex": 1,
          "SibSp": 0,
          "Ticket": "349208"
         },
         {
          "Age": 50,
          "Embarked": "S",
          "Fare": 8.05,
          "Name": "Rouse, Mr. Richard Henry",
          "Parch": 0,
          "Pclass": 3,
          "Sex": 1,
          "SibSp": 0,
          "Ticket": "A/5 3594"
         },
         {
          "Age": 29.857193308550187,
          "Embarked": "S",
          "Fare": 8.05,
          "Name": "Murdlin, Mr. Joseph",
          "Parch": 0,
          "Pclass": 3,
          "Sex": 1,
          "SibSp": 0,
          "Ticket": "A./5. 3235"
         },
         {
          "Age": 27,
          "Embarked": "C",
          "Fare": 14.4542,
          "Name": "Yasbeck, Mr. Antoni",
          "Parch": 0,
          "Pclass": 3,
          "Sex": 1,
          "SibSp": 1,
          "Ticket": "2659"
         },
         {
          "Age": 40,
          "Embarked": "S",
          "Fare": 27.9,
          "Name": "Skoog, Mr. Wilhelm",
          "Parch": 4,
          "Pclass": 3,
          "Sex": 1,
          "SibSp": 1,
          "Ticket": "347088"
         },
         {
          "Age": 22,
          "Embarked": "S",
          "Fare": 7.25,
          "Name": "Landergren, Miss. Aurora Adelia",
          "Parch": 0,
          "Pclass": 3,
          "Sex": 0,
          "SibSp": 0,
          "Ticket": "C 7077"
         },
         {
          "Age": 29.857193308550187,
          "Embarked": "Q",
          "Fare": 7.75,
          "Name": "McMahon, Mr. Martin",
          "Parch": 0,
          "Pclass": 3,
          "Sex": 1,
          "SibSp": 0,
          "Ticket": "370372"
         },
         {
          "Age": 24,
          "Embarked": "S",
          "Fare": 7.8958,
          "Name": "Mineff, Mr. Ivan",
          "Parch": 0,
          "Pclass": 3,
          "Sex": 1,
          "SibSp": 0,
          "Ticket": "349233"
         },
         {
          "Age": 42,
          "Embarked": "S",
          "Fare": 52.5542,
          "Name": "Kimball, Mr. Edwin Nelson Jr",
          "Parch": 0,
          "Pclass": 1,
          "Sex": 1,
          "SibSp": 1,
          "Ticket": "11753"
         },
         {
          "Age": 29.857193308550187,
          "Embarked": "S",
          "Fare": 23.45,
          "Name": "Johnston, Miss. Catherine Helen \"Carrie\"",
          "Parch": 2,
          "Pclass": 3,
          "Sex": 0,
          "SibSp": 1,
          "Ticket": "W./C. 6607"
         },
         {
          "Age": 16,
          "Embarked": "C",
          "Fare": 57.9792,
          "Name": "Hippach, Miss. Jean Gertrude",
          "Parch": 1,
          "Pclass": 1,
          "Sex": 0,
          "SibSp": 0,
          "Ticket": "111361"
         },
         {
          "Age": 48,
          "Embarked": "S",
          "Fare": 34.375,
          "Name": "Ford, Mrs. Edward (Margaret Ann Watson)",
          "Parch": 3,
          "Pclass": 3,
          "Sex": 0,
          "SibSp": 1,
          "Ticket": "W./C. 6608"
         },
         {
          "Age": 58,
          "Embarked": "S",
          "Fare": 153.4625,
          "Name": "Graham, Mrs. William Thompson (Edith Junkins)",
          "Parch": 1,
          "Pclass": 1,
          "Sex": 0,
          "SibSp": 0,
          "Ticket": "PC 17582"
         },
         {
          "Age": 19,
          "Embarked": "S",
          "Fare": 26,
          "Name": "Beane, Mrs. Edward (Ethel Clarke)",
          "Parch": 0,
          "Pclass": 2,
          "Sex": 0,
          "SibSp": 1,
          "Ticket": "2908"
         },
         {
          "Age": 26,
          "Embarked": "S",
          "Fare": 10.5,
          "Name": "Gavey, Mr. Lawrence",
          "Parch": 0,
          "Pclass": 2,
          "Sex": 1,
          "SibSp": 0,
          "Ticket": "31028"
         },
         {
          "Age": 44,
          "Embarked": "S",
          "Fare": 16.1,
          "Name": "Cribb, Mr. John Hatfield",
          "Parch": 1,
          "Pclass": 3,
          "Sex": 1,
          "SibSp": 0,
          "Ticket": "371362"
         },
         {
          "Age": 1,
          "Embarked": "S",
          "Fare": 20.575,
          "Name": "Dean, Master. Bertram Vere",
          "Parch": 2,
          "Pclass": 3,
          "Sex": 1,
          "SibSp": 1,
          "Ticket": "C.A. 2315"
         },
         {
          "Age": 34,
          "Embarked": "S",
          "Fare": 21,
          "Name": "Renouf, Mr. Peter Henry",
          "Parch": 0,
          "Pclass": 2,
          "Sex": 1,
          "SibSp": 1,
          "Ticket": "31027"
         },
         {
          "Age": 29.857193308550187,
          "Embarked": "Q",
          "Fare": 15.5,
          "Name": "O'Brien, Mr. Thomas",
          "Parch": 0,
          "Pclass": 3,
          "Sex": 1,
          "SibSp": 1,
          "Ticket": "370365"
         },
         {
          "Age": 31,
          "Embarked": "S",
          "Fare": 20.525,
          "Name": "Goldsmith, Mrs. Frank John (Emily Alice Brown)",
          "Parch": 1,
          "Pclass": 3,
          "Sex": 0,
          "SibSp": 1,
          "Ticket": "363291"
         },
         {
          "Age": 40,
          "Embarked": "C",
          "Fare": 134.5,
          "Name": "Spedden, Mrs. Frederic Oakley (Margaretta Corning Stone)",
          "Parch": 1,
          "Pclass": 1,
          "Sex": 0,
          "SibSp": 1,
          "Ticket": "16966"
         },
         {
          "Age": 29.857193308550187,
          "Embarked": "S",
          "Fare": 13,
          "Name": "Williams, Mr. Charles Eugene",
          "Parch": 0,
          "Pclass": 2,
          "Sex": 1,
          "SibSp": 0,
          "Ticket": "244373"
         },
         {
          "Age": 29.857193308550187,
          "Embarked": "C",
          "Fare": 27.7208,
          "Name": "Lewy, Mr. Ervin G",
          "Parch": 0,
          "Pclass": 1,
          "Sex": 1,
          "SibSp": 0,
          "Ticket": "PC 17612"
         },
         {
          "Age": 25,
          "Embarked": "S",
          "Fare": 7.65,
          "Name": "Moen, Mr. Sigurd Hansen",
          "Parch": 0,
          "Pclass": 3,
          "Sex": 1,
          "SibSp": 0,
          "Ticket": "348123"
         },
         {
          "Age": 28,
          "Embarked": "S",
          "Fare": 33,
          "Name": "Harper, Rev. John",
          "Parch": 1,
          "Pclass": 2,
          "Sex": 1,
          "SibSp": 0,
          "Ticket": "248727"
         },
         {
          "Age": 29,
          "Embarked": "S",
          "Fare": 26,
          "Name": "Faunthorpe, Mrs. Lizzie (Elizabeth Anne Wilkinson)",
          "Parch": 0,
          "Pclass": 2,
          "Sex": 0,
          "SibSp": 1,
          "Ticket": "2926"
         },
         {
          "Age": 14,
          "Embarked": "S",
          "Fare": 7.8542,
          "Name": "Vestrom, Miss. Hulda Amanda Adolfina",
          "Parch": 0,
          "Pclass": 3,
          "Sex": 0,
          "SibSp": 0,
          "Ticket": "350406"
         },
         {
          "Age": 53,
          "Embarked": "S",
          "Fare": 51.4792,
          "Name": "Appleton, Mrs. Edward Dale (Charlotte Lamson)",
          "Parch": 0,
          "Pclass": 1,
          "Sex": 0,
          "SibSp": 2,
          "Ticket": "11769"
         },
         {
          "Age": 21,
          "Embarked": "S",
          "Fare": 7.8,
          "Name": "Nosworthy, Mr. Richard Cater",
          "Parch": 0,
          "Pclass": 3,
          "Sex": 1,
          "SibSp": 0,
          "Ticket": "A/4. 39886"
         },
         {
          "Age": 29.857193308550187,
          "Embarked": "Q",
          "Fare": 7.75,
          "Name": "Tobin, Mr. Roger",
          "Parch": 0,
          "Pclass": 3,
          "Sex": 1,
          "SibSp": 0,
          "Ticket": "383121"
         },
         {
          "Age": 29.857193308550187,
          "Embarked": "S",
          "Fare": 69.55,
          "Name": "Sage, Master. Thomas Henry",
          "Parch": 2,
          "Pclass": 3,
          "Sex": 1,
          "SibSp": 8,
          "Ticket": "CA. 2343"
         },
         {
          "Age": 24,
          "Embarked": "S",
          "Fare": 16.1,
          "Name": "McNamee, Mr. Neal",
          "Parch": 0,
          "Pclass": 3,
          "Sex": 1,
          "SibSp": 1,
          "Ticket": "376566"
         },
         {
          "Age": 19,
          "Embarked": "S",
          "Fare": 8.05,
          "Name": "Dorking, Mr. Edward Arthur",
          "Parch": 0,
          "Pclass": 3,
          "Sex": 1,
          "SibSp": 0,
          "Ticket": "A/5. 10482"
         },
         {
          "Age": 7,
          "Embarked": "S",
          "Fare": 39.6875,
          "Name": "Panula, Master. Juha Niilo",
          "Parch": 1,
          "Pclass": 3,
          "Sex": 1,
          "SibSp": 4,
          "Ticket": "3101295"
         },
         {
          "Age": 41,
          "Embarked": "S",
          "Fare": 14.1083,
          "Name": "Hansen, Mr. Claus Peter",
          "Parch": 0,
          "Pclass": 3,
          "Sex": 1,
          "SibSp": 2,
          "Ticket": "350026"
         },
         {
          "Age": 24,
          "Embarked": "S",
          "Fare": 13,
          "Name": "Gill, Mr. John William",
          "Parch": 0,
          "Pclass": 2,
          "Sex": 1,
          "SibSp": 0,
          "Ticket": "233866"
         },
         {
          "Age": 32,
          "Embarked": "S",
          "Fare": 7.925,
          "Name": "Leinonen, Mr. Antti Gustaf",
          "Parch": 0,
          "Pclass": 3,
          "Sex": 1,
          "SibSp": 0,
          "Ticket": "STON/O 2. 3101292"
         },
         {
          "Age": 26,
          "Embarked": "S",
          "Fare": 7.8875,
          "Name": "Alexander, Mr. William",
          "Parch": 0,
          "Pclass": 3,
          "Sex": 1,
          "SibSp": 0,
          "Ticket": "3474"
         },
         {
          "Age": 28,
          "Embarked": "S",
          "Fare": 26.55,
          "Name": "Bjornstrom-Steffansson, Mr. Mauritz Hakan",
          "Parch": 0,
          "Pclass": 1,
          "Sex": 1,
          "SibSp": 0,
          "Ticket": "110564"
         },
         {
          "Age": 4,
          "Embarked": "S",
          "Fare": 11.1333,
          "Name": "Johnson, Master. Harold Theodor",
          "Parch": 1,
          "Pclass": 3,
          "Sex": 1,
          "SibSp": 1,
          "Ticket": "347742"
         },
         {
          "Age": 22,
          "Embarked": "S",
          "Fare": 29,
          "Name": "Caldwell, Mrs. Albert Francis (Sylvia Mae Harbaugh)",
          "Parch": 1,
          "Pclass": 2,
          "Sex": 0,
          "SibSp": 1,
          "Ticket": "248738"
         },
         {
          "Age": 20,
          "Embarked": "S",
          "Fare": 9.825,
          "Name": "Jussila, Miss. Katriina",
          "Parch": 0,
          "Pclass": 3,
          "Sex": 0,
          "SibSp": 1,
          "Ticket": "4136"
         },
         {
          "Age": 29.857193308550187,
          "Embarked": "Q",
          "Fare": 8.1375,
          "Name": "Peters, Miss. Katie",
          "Parch": 0,
          "Pclass": 3,
          "Sex": 0,
          "SibSp": 0,
          "Ticket": "330935"
         },
         {
          "Age": 56,
          "Embarked": "S",
          "Fare": 26.55,
          "Name": "Smart, Mr. John Montgomery",
          "Parch": 0,
          "Pclass": 1,
          "Sex": 1,
          "SibSp": 0,
          "Ticket": "113792"
         },
         {
          "Age": 30,
          "Embarked": "S",
          "Fare": 13,
          "Name": "Givard, Mr. Hans Kristensen",
          "Parch": 0,
          "Pclass": 2,
          "Sex": 1,
          "SibSp": 0,
          "Ticket": "250646"
         },
         {
          "Age": 63,
          "Embarked": "S",
          "Fare": 77.9583,
          "Name": "Andrews, Miss. Kornelia Theodosia",
          "Parch": 0,
          "Pclass": 1,
          "Sex": 0,
          "SibSp": 1,
          "Ticket": "13502"
         },
         {
          "Age": 4,
          "Embarked": "S",
          "Fare": 23,
          "Name": "Wells, Miss. Joan",
          "Parch": 1,
          "Pclass": 2,
          "Sex": 0,
          "SibSp": 1,
          "Ticket": "29103"
         },
         {
          "Age": 44,
          "Embarked": "S",
          "Fare": 26,
          "Name": "Hold, Mr. Stephen",
          "Parch": 0,
          "Pclass": 2,
          "Sex": 1,
          "SibSp": 1,
          "Ticket": "26707"
         },
         {
          "Age": 25,
          "Embarked": "S",
          "Fare": 7.775,
          "Name": "Lindahl, Miss. Agda Thorilda Viktoria",
          "Parch": 0,
          "Pclass": 3,
          "Sex": 0,
          "SibSp": 0,
          "Ticket": "347071"
         },
         {
          "Age": 21,
          "Embarked": "S",
          "Fare": 8.05,
          "Name": "Cann, Mr. Ernest Charles",
          "Parch": 0,
          "Pclass": 3,
          "Sex": 1,
          "SibSp": 0,
          "Ticket": "A./5. 2152"
         },
         {
          "Age": 38,
          "Embarked": "S",
          "Fare": 7.05,
          "Name": "Goncalves, Mr. Manuel Estanslas",
          "Parch": 0,
          "Pclass": 3,
          "Sex": 1,
          "SibSp": 0,
          "Ticket": "SOTON/O.Q. 3101306"
         },
         {
          "Age": 36,
          "Embarked": "S",
          "Fare": 13,
          "Name": "Fox, Mr. Stanley Hubert",
          "Parch": 0,
          "Pclass": 2,
          "Sex": 1,
          "SibSp": 0,
          "Ticket": "229236"
         },
         {
          "Age": 38,
          "Embarked": "S",
          "Fare": 80,
          "Name": "Icard, Miss. Amelie",
          "Parch": 0,
          "Pclass": 1,
          "Sex": 0,
          "SibSp": 0,
          "Ticket": "113572"
         },
         {
          "Age": 21,
          "Embarked": "Q",
          "Fare": 7.75,
          "Name": "Canavan, Miss. Mary",
          "Parch": 0,
          "Pclass": 3,
          "Sex": 0,
          "SibSp": 0,
          "Ticket": "364846"
         },
         {
          "Age": 29.857193308550187,
          "Embarked": "S",
          "Fare": 35.5,
          "Name": "Woolner, Mr. Hugh",
          "Parch": 0,
          "Pclass": 1,
          "Sex": 1,
          "SibSp": 0,
          "Ticket": "19947"
         },
         {
          "Age": 38,
          "Embarked": "S",
          "Fare": 153.4625,
          "Name": "Graham, Mr. George Edward",
          "Parch": 1,
          "Pclass": 1,
          "Sex": 1,
          "SibSp": 0,
          "Ticket": "PC 17582"
         },
         {
          "Age": 29.857193308550187,
          "Embarked": "S",
          "Fare": 8.1125,
          "Name": "Johannesen-Bratthammer, Mr. Bernt",
          "Parch": 0,
          "Pclass": 3,
          "Sex": 1,
          "SibSp": 0,
          "Ticket": "65306"
         },
         {
          "Age": 35,
          "Embarked": "S",
          "Fare": 135.6333,
          "Name": "Bissette, Miss. Amelia",
          "Parch": 0,
          "Pclass": 1,
          "Sex": 0,
          "SibSp": 0,
          "Ticket": "PC 17760"
         },
         {
          "Age": 29.857193308550187,
          "Embarked": "S",
          "Fare": 7.25,
          "Name": "Keefe, Mr. Arthur",
          "Parch": 0,
          "Pclass": 3,
          "Sex": 1,
          "SibSp": 0,
          "Ticket": "323592"
         },
         {
          "Age": 24,
          "Embarked": "C",
          "Fare": 247.5208,
          "Name": "Baxter, Mr. Quigg Edmond",
          "Parch": 1,
          "Pclass": 1,
          "Sex": 1,
          "SibSp": 0,
          "Ticket": "PC 17558"
         },
         {
          "Age": 50,
          "Embarked": "S",
          "Fare": 55.9,
          "Name": "Silvey, Mr. William Baird",
          "Parch": 0,
          "Pclass": 1,
          "Sex": 1,
          "SibSp": 1,
          "Ticket": "13507"
         },
         {
          "Age": 29.857193308550187,
          "Embarked": "S",
          "Fare": 7.05,
          "Name": "Jardin, Mr. Jose Neto",
          "Parch": 0,
          "Pclass": 3,
          "Sex": 1,
          "SibSp": 0,
          "Ticket": "SOTON/O.Q. 3101305"
         },
         {
          "Age": 25,
          "Embarked": "S",
          "Fare": 13,
          "Name": "Sedgwick, Mr. Charles Frederick Waddington",
          "Parch": 0,
          "Pclass": 2,
          "Sex": 1,
          "SibSp": 0,
          "Ticket": "244361"
         },
         {
          "Age": 29.857193308550187,
          "Embarked": "S",
          "Fare": 0,
          "Name": "Cunningham, Mr. Alfred Fleming",
          "Parch": 0,
          "Pclass": 2,
          "Sex": 1,
          "SibSp": 0,
          "Ticket": "239853"
         },
         {
          "Age": 29.857193308550187,
          "Embarked": "Q",
          "Fare": 7.75,
          "Name": "O'Driscoll, Miss. Bridget",
          "Parch": 0,
          "Pclass": 3,
          "Sex": 0,
          "SibSp": 0,
          "Ticket": "14311"
         },
         {
          "Age": 29.857193308550187,
          "Embarked": "S",
          "Fare": 25.4667,
          "Name": "Lefebre, Master. Henry Forbes",
          "Parch": 1,
          "Pclass": 3,
          "Sex": 1,
          "SibSp": 3,
          "Ticket": "4133"
         },
         {
          "Age": 4,
          "Embarked": "Q",
          "Fare": 29.125,
          "Name": "Rice, Master. Arthur",
          "Parch": 1,
          "Pclass": 3,
          "Sex": 1,
          "SibSp": 4,
          "Ticket": "382652"
         },
         {
          "Age": 32,
          "Embarked": "S",
          "Fare": 13,
          "Name": "Pinsky, Mrs. (Rosa)",
          "Parch": 0,
          "Pclass": 2,
          "Sex": 0,
          "SibSp": 0,
          "Ticket": "234604"
         },
         {
          "Age": 29.857193308550187,
          "Embarked": "S",
          "Fare": 7.775,
          "Name": "Rommetvedt, Mr. Knud Paust",
          "Parch": 0,
          "Pclass": 3,
          "Sex": 1,
          "SibSp": 0,
          "Ticket": "312993"
         },
         {
          "Age": 35,
          "Embarked": "C",
          "Fare": 512.3292,
          "Name": "Ward, Miss. Anna",
          "Parch": 0,
          "Pclass": 1,
          "Sex": 0,
          "SibSp": 0,
          "Ticket": "PC 17755"
         },
         {
          "Age": 10,
          "Embarked": "S",
          "Fare": 27.9,
          "Name": "Skoog, Master. Karl Thorsten",
          "Parch": 2,
          "Pclass": 3,
          "Sex": 1,
          "SibSp": 3,
          "Ticket": "347088"
         },
         {
          "Age": 4,
          "Embarked": "S",
          "Fare": 16.7,
          "Name": "Sandstrom, Miss. Marguerite Rut",
          "Parch": 1,
          "Pclass": 3,
          "Sex": 0,
          "SibSp": 1,
          "Ticket": "PP 9549"
         },
         {
          "Age": 30,
          "Embarked": "S",
          "Fare": 16.1,
          "Name": "Lobb, Mr. William Arthur",
          "Parch": 0,
          "Pclass": 3,
          "Sex": 1,
          "SibSp": 1,
          "Ticket": "A/5. 3336"
         },
         {
          "Age": 35,
          "Embarked": "S",
          "Fare": 8.05,
          "Name": "Brocklebank, Mr. William Alfred",
          "Parch": 0,
          "Pclass": 3,
          "Sex": 1,
          "SibSp": 0,
          "Ticket": "364512"
         },
         {
          "Age": 30,
          "Embarked": "S",
          "Fare": 8.05,
          "Name": "Corn, Mr. Harry",
          "Parch": 0,
          "Pclass": 3,
          "Sex": 1,
          "SibSp": 0,
          "Ticket": "SOTON/OQ 392090"
         },
         {
          "Age": 52,
          "Embarked": "S",
          "Fare": 93.5,
          "Name": "Hays, Mrs. Charles Melville (Clara Jennings Gregg)",
          "Parch": 1,
          "Pclass": 1,
          "Sex": 0,
          "SibSp": 1,
          "Ticket": "12749"
         },
         {
          "Age": 45,
          "Embarked": "C",
          "Fare": 14.4542,
          "Name": "Barbara, Mrs. (Catherine David)",
          "Parch": 1,
          "Pclass": 3,
          "Sex": 0,
          "SibSp": 0,
          "Ticket": "2691"
         },
         {
          "Age": 40,
          "Embarked": "S",
          "Fare": 9.475,
          "Name": "Ahlin, Mrs. Johan (Johanna Persdotter Larsson)",
          "Parch": 0,
          "Pclass": 3,
          "Sex": 0,
          "SibSp": 1,
          "Ticket": "7546"
         },
         {
          "Age": 32,
          "Embarked": "S",
          "Fare": 7.8542,
          "Name": "Jonsson, Mr. Carl",
          "Parch": 0,
          "Pclass": 3,
          "Sex": 1,
          "SibSp": 0,
          "Ticket": "350417"
         },
         {
          "Age": 29.857193308550187,
          "Embarked": "Q",
          "Fare": 7.6292,
          "Name": "O'Sullivan, Miss. Bridget Mary",
          "Parch": 0,
          "Pclass": 3,
          "Sex": 0,
          "SibSp": 0,
          "Ticket": "330909"
         },
         {
          "Age": 39,
          "Embarked": "S",
          "Fare": 26,
          "Name": "Morley, Mr. Henry Samuel (\"Mr Henry Marshall\")",
          "Parch": 0,
          "Pclass": 2,
          "Sex": 1,
          "SibSp": 0,
          "Ticket": "250655"
         },
         {
          "Age": 22,
          "Embarked": "S",
          "Fare": 7.8958,
          "Name": "Naidenoff, Mr. Penko",
          "Parch": 0,
          "Pclass": 3,
          "Sex": 1,
          "SibSp": 0,
          "Ticket": "349206"
         },
         {
          "Age": 29.857193308550187,
          "Embarked": "C",
          "Fare": 7.8958,
          "Name": "Gheorgheff, Mr. Stanio",
          "Parch": 0,
          "Pclass": 3,
          "Sex": 1,
          "SibSp": 0,
          "Ticket": "349254"
         },
         {
          "Age": 29.857193308550187,
          "Embarked": "S",
          "Fare": 7.775,
          "Name": "Moss, Mr. Albert Johan",
          "Parch": 0,
          "Pclass": 3,
          "Sex": 1,
          "SibSp": 0,
          "Ticket": "312991"
         },
         {
          "Age": 45.5,
          "Embarked": "C",
          "Fare": 7.225,
          "Name": "Youseff, Mr. Gerious",
          "Parch": 0,
          "Pclass": 3,
          "Sex": 1,
          "SibSp": 0,
          "Ticket": "2628"
         },
         {
          "Age": 74,
          "Embarked": "S",
          "Fare": 7.775,
          "Name": "Svensson, Mr. Johan",
          "Parch": 0,
          "Pclass": 3,
          "Sex": 1,
          "SibSp": 0,
          "Ticket": "347060"
         },
         {
          "Age": 39,
          "Embarked": "S",
          "Fare": 31.275,
          "Name": "Andersson, Mrs. Anders Johan (Alfrida Konstantia Brogren)",
          "Parch": 5,
          "Pclass": 3,
          "Sex": 0,
          "SibSp": 1,
          "Ticket": "347082"
         },
         {
          "Age": 3,
          "Embarked": "S",
          "Fare": 26,
          "Name": "Navratil, Master. Michel M",
          "Parch": 1,
          "Pclass": 2,
          "Sex": 1,
          "SibSp": 1,
          "Ticket": "230080"
         },
         {
          "Age": 29.857193308550187,
          "Embarked": "C",
          "Fare": 7.2292,
          "Name": "Toufik, Mr. Nakli",
          "Parch": 0,
          "Pclass": 3,
          "Sex": 1,
          "SibSp": 0,
          "Ticket": "2641"
         },
         {
          "Age": 29,
          "Embarked": "Q",
          "Fare": 7.75,
          "Name": "Daly, Mr. Eugene Patrick",
          "Parch": 0,
          "Pclass": 3,
          "Sex": 1,
          "SibSp": 0,
          "Ticket": "382651"
         },
         {
          "Age": 26,
          "Embarked": "S",
          "Fare": 8.05,
          "Name": "Adams, Mr. John",
          "Parch": 0,
          "Pclass": 3,
          "Sex": 1,
          "SibSp": 0,
          "Ticket": "341826"
         },
         {
          "Age": 39,
          "Embarked": "S",
          "Fare": 0,
          "Name": "Andrews, Mr. Thomas Jr",
          "Parch": 0,
          "Pclass": 1,
          "Sex": 1,
          "SibSp": 0,
          "Ticket": "112050"
         },
         {
          "Age": 45,
          "Embarked": "S",
          "Fare": 13.5,
          "Name": "Kelly, Mrs. Florence \"Fannie\"",
          "Parch": 0,
          "Pclass": 2,
          "Sex": 0,
          "SibSp": 0,
          "Ticket": "223596"
         },
         {
          "Age": 29.857193308550187,
          "Embarked": "S",
          "Fare": 52,
          "Name": "Clifford, Mr. George Quincy",
          "Parch": 0,
          "Pclass": 1,
          "Sex": 1,
          "SibSp": 0,
          "Ticket": "110465"
         },
         {
          "Age": 49,
          "Embarked": "S",
          "Fare": 25.9292,
          "Name": "Leader, Dr. Alice (Farnham)",
          "Parch": 0,
          "Pclass": 1,
          "Sex": 0,
          "SibSp": 0,
          "Ticket": "17465"
         },
         {
          "Age": 42,
          "Embarked": "S",
          "Fare": 13,
          "Name": "Bystrom, Mrs. (Karolina)",
          "Parch": 0,
          "Pclass": 2,
          "Sex": 0,
          "SibSp": 0,
          "Ticket": "236852"
         },
         {
          "Age": 29,
          "Embarked": "S",
          "Fare": 7.875,
          "Name": "Zimmerman, Mr. Leo",
          "Parch": 0,
          "Pclass": 3,
          "Sex": 1,
          "SibSp": 0,
          "Ticket": "315082"
         },
         {
          "Age": 31,
          "Embarked": "C",
          "Fare": 113.275,
          "Name": "Newell, Miss. Madeleine",
          "Parch": 0,
          "Pclass": 1,
          "Sex": 0,
          "SibSp": 1,
          "Ticket": "35273"
         },
         {
          "Age": 58,
          "Embarked": "C",
          "Fare": 146.5208,
          "Name": "Lurette, Miss. Elise",
          "Parch": 0,
          "Pclass": 1,
          "Sex": 0,
          "SibSp": 0,
          "Ticket": "PC 17569"
         },
         {
          "Age": 22,
          "Embarked": "C",
          "Fare": 41.5792,
          "Name": "Laroche, Mrs. Joseph (Juliette Marie Louise Lafargue)",
          "Parch": 2,
          "Pclass": 2,
          "Sex": 0,
          "SibSp": 1,
          "Ticket": "SC/Paris 2123"
         },
         {
          "Age": 18,
          "Embarked": "S",
          "Fare": 9.8417,
          "Name": "Turja, Miss. Anna Sofia",
          "Parch": 0,
          "Pclass": 3,
          "Sex": 0,
          "SibSp": 0,
          "Ticket": "4138"
         },
         {
          "Age": 29.857193308550187,
          "Embarked": "S",
          "Fare": 69.55,
          "Name": "Sage, Mr. George John Jr",
          "Parch": 2,
          "Pclass": 3,
          "Sex": 1,
          "SibSp": 8,
          "Ticket": "CA. 2343"
         },
         {
          "Age": 29.857193308550187,
          "Embarked": "Q",
          "Fare": 7.75,
          "Name": "McCormack, Mr. Thomas Joseph",
          "Parch": 0,
          "Pclass": 3,
          "Sex": 1,
          "SibSp": 0,
          "Ticket": "367228"
         },
         {
          "Age": 20,
          "Embarked": "S",
          "Fare": 7.8542,
          "Name": "Andreasson, Mr. Paul Edvin",
          "Parch": 0,
          "Pclass": 3,
          "Sex": 1,
          "SibSp": 0,
          "Ticket": "347466"
         },
         {
          "Age": 58,
          "Embarked": "C",
          "Fare": 29.7,
          "Name": "Kent, Mr. Edward Austin",
          "Parch": 0,
          "Pclass": 1,
          "Sex": 1,
          "SibSp": 0,
          "Ticket": "11771"
         },
         {
          "Age": 24,
          "Embarked": "S",
          "Fare": 9.5,
          "Name": "Lievens, Mr. Rene Aime",
          "Parch": 0,
          "Pclass": 3,
          "Sex": 1,
          "SibSp": 0,
          "Ticket": "345781"
         },
         {
          "Age": 29.857193308550187,
          "Embarked": "S",
          "Fare": 7.8958,
          "Name": "Todoroff, Mr. Lalio",
          "Parch": 0,
          "Pclass": 3,
          "Sex": 1,
          "SibSp": 0,
          "Ticket": "349216"
         },
         {
          "Age": 29.857193308550187,
          "Embarked": "S",
          "Fare": 7.8958,
          "Name": "Nenkoff, Mr. Christo",
          "Parch": 0,
          "Pclass": 3,
          "Sex": 1,
          "SibSp": 0,
          "Ticket": "349234"
         },
         {
          "Age": 70.5,
          "Embarked": "Q",
          "Fare": 7.75,
          "Name": "Connors, Mr. Patrick",
          "Parch": 0,
          "Pclass": 3,
          "Sex": 1,
          "SibSp": 0,
          "Ticket": "370369"
         },
         {
          "Age": 35,
          "Embarked": "S",
          "Fare": 7.125,
          "Name": "Rintamaki, Mr. Matti",
          "Parch": 0,
          "Pclass": 3,
          "Sex": 1,
          "SibSp": 0,
          "Ticket": "STON/O 2. 3101273"
         },
         {
          "Age": 29.857193308550187,
          "Embarked": "S",
          "Fare": 221.7792,
          "Name": "Farthing, Mr. John",
          "Parch": 0,
          "Pclass": 1,
          "Sex": 1,
          "SibSp": 0,
          "Ticket": "PC 17483"
         },
         {
          "Age": 15,
          "Embarked": "S",
          "Fare": 211.3375,
          "Name": "Madill, Miss. Georgette Alexandra",
          "Parch": 1,
          "Pclass": 1,
          "Sex": 0,
          "SibSp": 0,
          "Ticket": "24160"
         },
         {
          "Age": 29,
          "Embarked": "S",
          "Fare": 66.6,
          "Name": "Pears, Mr. Thomas Clinton",
          "Parch": 0,
          "Pclass": 1,
          "Sex": 1,
          "SibSp": 1,
          "Ticket": "113776"
         },
         {
          "Age": 24,
          "Embarked": "S",
          "Fare": 13,
          "Name": "Yrois, Miss. Henriette (\"Mrs Harbeck\")",
          "Parch": 0,
          "Pclass": 2,
          "Sex": 0,
          "SibSp": 0,
          "Ticket": "248747"
         },
         {
          "Age": 29.857193308550187,
          "Embarked": "S",
          "Fare": 25.4667,
          "Name": "Lefebre, Miss. Ida",
          "Parch": 1,
          "Pclass": 3,
          "Sex": 0,
          "SibSp": 3,
          "Ticket": "4133"
         },
         {
          "Age": 13,
          "Embarked": "S",
          "Fare": 19.5,
          "Name": "Mellinger, Miss. Madeleine Violet",
          "Parch": 1,
          "Pclass": 2,
          "Sex": 0,
          "SibSp": 0,
          "Ticket": "250644"
         },
         {
          "Age": 30,
          "Embarked": "S",
          "Fare": 13,
          "Name": "Matthews, Mr. William John",
          "Parch": 0,
          "Pclass": 2,
          "Sex": 1,
          "SibSp": 0,
          "Ticket": "28228"
         },
         {
          "Age": 24,
          "Embarked": "S",
          "Fare": 16.7,
          "Name": "Sandstrom, Mrs. Hjalmar (Agnes Charlotta Bengtsson)",
          "Parch": 2,
          "Pclass": 3,
          "Sex": 0,
          "SibSp": 0,
          "Ticket": "PP 9549"
         },
         {
          "Age": 23,
          "Embarked": "S",
          "Fare": 7.8958,
          "Name": "Jonkoff, Mr. Lalio",
          "Parch": 0,
          "Pclass": 3,
          "Sex": 1,
          "SibSp": 0,
          "Ticket": "349204"
         },
         {
          "Age": 28,
          "Embarked": "S",
          "Fare": 15.85,
          "Name": "Hakkarainen, Mr. Pekka Pietari",
          "Parch": 0,
          "Pclass": 3,
          "Sex": 1,
          "SibSp": 1,
          "Ticket": "STON/O2. 3101279"
         },
         {
          "Age": 9,
          "Embarked": "S",
          "Fare": 15.9,
          "Name": "Coutts, Master. Eden Leslie \"Neville\"",
          "Parch": 1,
          "Pclass": 3,
          "Sex": 1,
          "SibSp": 1,
          "Ticket": "C.A. 37671"
         },
         {
          "Age": 55,
          "Embarked": "S",
          "Fare": 30.5,
          "Name": "Molson, Mr. Harry Markland",
          "Parch": 0,
          "Pclass": 1,
          "Sex": 1,
          "SibSp": 0,
          "Ticket": "113787"
         },
         {
          "Age": 25,
          "Embarked": "S",
          "Fare": 7.8958,
          "Name": "Dantcheff, Mr. Ristiu",
          "Parch": 0,
          "Pclass": 3,
          "Sex": 1,
          "SibSp": 0,
          "Ticket": "349203"
         },
         {
          "Age": 18,
          "Embarked": "Q",
          "Fare": 6.75,
          "Name": "Hegarty, Miss. Hanora \"Nora\"",
          "Parch": 0,
          "Pclass": 3,
          "Sex": 0,
          "SibSp": 0,
          "Ticket": "365226"
         },
         {
          "Age": 16,
          "Embarked": "S",
          "Fare": 8.05,
          "Name": "Rush, Mr. Alfred George John",
          "Parch": 0,
          "Pclass": 3,
          "Sex": 1,
          "SibSp": 0,
          "Ticket": "A/4. 20589"
         },
         {
          "Age": 21,
          "Embarked": "S",
          "Fare": 9.825,
          "Name": "Jussila, Miss. Mari Aina",
          "Parch": 0,
          "Pclass": 3,
          "Sex": 0,
          "SibSp": 1,
          "Ticket": "4137"
         },
         {
          "Age": 23,
          "Embarked": "S",
          "Fare": 9.225,
          "Name": "Odahl, Mr. Nils Martin",
          "Parch": 0,
          "Pclass": 3,
          "Sex": 1,
          "SibSp": 0,
          "Ticket": "7267"
         },
         {
          "Age": 29.857193308550187,
          "Embarked": "S",
          "Fare": 7.25,
          "Name": "Reed, Mr. James George",
          "Parch": 0,
          "Pclass": 3,
          "Sex": 1,
          "SibSp": 0,
          "Ticket": "362316"
         },
         {
          "Age": 24,
          "Embarked": "C",
          "Fare": 69.3,
          "Name": "Sagesser, Mlle. Emma",
          "Parch": 0,
          "Pclass": 1,
          "Sex": 0,
          "SibSp": 0,
          "Ticket": "PC 17477"
         },
         {
          "Age": 4,
          "Embarked": "S",
          "Fare": 39,
          "Name": "Becker, Miss. Marion Louise",
          "Parch": 1,
          "Pclass": 2,
          "Sex": 0,
          "SibSp": 2,
          "Ticket": "230136"
         },
         {
          "Age": 37,
          "Embarked": "S",
          "Fare": 9.5875,
          "Name": "Laitinen, Miss. Kristina Sofia",
          "Parch": 0,
          "Pclass": 3,
          "Sex": 0,
          "SibSp": 0,
          "Ticket": "4135"
         },
         {
          "Age": 16,
          "Embarked": "S",
          "Fare": 10.5,
          "Name": "Mudd, Mr. Thomas Charles",
          "Parch": 0,
          "Pclass": 2,
          "Sex": 1,
          "SibSp": 0,
          "Ticket": "S.O./P.P. 3"
         },
         {
          "Age": 4,
          "Embarked": "S",
          "Fare": 31.275,
          "Name": "Andersson, Master. Sigvard Harald Elias",
          "Parch": 2,
          "Pclass": 3,
          "Sex": 1,
          "SibSp": 4,
          "Ticket": "347082"
         },
         {
          "Age": 21,
          "Embarked": "S",
          "Fare": 7.775,
          "Name": "Birkeland, Mr. Hans Martin Monsen",
          "Parch": 0,
          "Pclass": 3,
          "Sex": 1,
          "SibSp": 0,
          "Ticket": "312992"
         },
         {
          "Age": 57,
          "Embarked": "S",
          "Fare": 10.5,
          "Name": "Mack, Mrs. (Mary)",
          "Parch": 0,
          "Pclass": 2,
          "Sex": 0,
          "SibSp": 0,
          "Ticket": "S.O./P.P. 3"
         },
         {
          "Age": 2,
          "Embarked": "S",
          "Fare": 31.275,
          "Name": "Andersson, Miss. Ellis Anna Maria",
          "Parch": 2,
          "Pclass": 3,
          "Sex": 0,
          "SibSp": 4,
          "Ticket": "347082"
         },
         {
          "Age": 60,
          "Embarked": "S",
          "Fare": 39,
          "Name": "Brown, Mr. Thomas William Solomon",
          "Parch": 1,
          "Pclass": 2,
          "Sex": 1,
          "SibSp": 1,
          "Ticket": "29750"
         },
         {
          "Age": 0.42,
          "Embarked": "C",
          "Fare": 8.5167,
          "Name": "Thomas, Master. Assad Alexander",
          "Parch": 1,
          "Pclass": 3,
          "Sex": 1,
          "SibSp": 0,
          "Ticket": "2625"
         },
         {
          "Age": 30,
          "Embarked": "S",
          "Fare": 9.5,
          "Name": "de Mulder, Mr. Theodore",
          "Parch": 0,
          "Pclass": 3,
          "Sex": 1,
          "SibSp": 0,
          "Ticket": "345774"
         },
         {
          "Age": 23,
          "Embarked": "S",
          "Fare": 10.5,
          "Name": "Pain, Dr. Alfred",
          "Parch": 0,
          "Pclass": 2,
          "Sex": 1,
          "SibSp": 0,
          "Ticket": "244278"
         },
         {
          "Age": 54,
          "Embarked": "S",
          "Fare": 51.8625,
          "Name": "McCarthy, Mr. Timothy J",
          "Parch": 0,
          "Pclass": 1,
          "Sex": 1,
          "SibSp": 0,
          "Ticket": "17463"
         },
         {
          "Age": 47,
          "Embarked": "S",
          "Fare": 7.25,
          "Name": "Elsbury, Mr. William James",
          "Parch": 0,
          "Pclass": 3,
          "Sex": 1,
          "SibSp": 0,
          "Ticket": "A/5 3902"
         },
         {
          "Age": 38,
          "Embarked": "C",
          "Fare": 227.525,
          "Name": "Endres, Miss. Caroline Louise",
          "Parch": 0,
          "Pclass": 1,
          "Sex": 0,
          "SibSp": 0,
          "Ticket": "PC 17757"
         },
         {
          "Age": 22,
          "Embarked": "S",
          "Fare": 9.8375,
          "Name": "Strandberg, Miss. Ida Sofia",
          "Parch": 0,
          "Pclass": 3,
          "Sex": 0,
          "SibSp": 0,
          "Ticket": "7553"
         },
         {
          "Age": 65,
          "Embarked": "C",
          "Fare": 61.9792,
          "Name": "Ostby, Mr. Engelhart Cornelius",
          "Parch": 1,
          "Pclass": 1,
          "Sex": 1,
          "SibSp": 0,
          "Ticket": "113509"
         },
         {
          "Age": 27,
          "Embarked": "S",
          "Fare": 21,
          "Name": "Turpin, Mrs. William John Robert (Dorothy Ann Wonnacott)",
          "Parch": 0,
          "Pclass": 2,
          "Sex": 0,
          "SibSp": 1,
          "Ticket": "11668"
         },
         {
          "Age": 35,
          "Embarked": "S",
          "Fare": 26,
          "Name": "Fynney, Mr. Joseph J",
          "Parch": 0,
          "Pclass": 2,
          "Sex": 1,
          "SibSp": 0,
          "Ticket": "239865"
         },
         {
          "Age": 27,
          "Embarked": "S",
          "Fare": 26,
          "Name": "Sharp, Mr. Percival James R",
          "Parch": 0,
          "Pclass": 2,
          "Sex": 1,
          "SibSp": 0,
          "Ticket": "244358"
         },
         {
          "Age": 22,
          "Embarked": "S",
          "Fare": 8.05,
          "Name": "Gilinski, Mr. Eliezer",
          "Parch": 0,
          "Pclass": 3,
          "Sex": 1,
          "SibSp": 0,
          "Ticket": "14973"
         },
         {
          "Age": 27,
          "Embarked": "C",
          "Fare": 211.5,
          "Name": "Widener, Mr. Harry Elkins",
          "Parch": 2,
          "Pclass": 1,
          "Sex": 1,
          "SibSp": 0,
          "Ticket": "113503"
         },
         {
          "Age": 27,
          "Embarked": "S",
          "Fare": 7.7958,
          "Name": "Andersson, Mr. August Edvard (\"Wennerstrom\")",
          "Parch": 0,
          "Pclass": 3,
          "Sex": 1,
          "SibSp": 0,
          "Ticket": "350043"
         },
         {
          "Age": 22,
          "Embarked": "Q",
          "Fare": 7.75,
          "Name": "Connolly, Miss. Kate",
          "Parch": 0,
          "Pclass": 3,
          "Sex": 0,
          "SibSp": 0,
          "Ticket": "370373"
         },
         {
          "Age": 29.857193308550187,
          "Embarked": "Q",
          "Fare": 7.7292,
          "Name": "Sadlier, Mr. Matthew",
          "Parch": 0,
          "Pclass": 3,
          "Sex": 1,
          "SibSp": 0,
          "Ticket": "367655"
         },
         {
          "Age": 29.857193308550187,
          "Embarked": "C",
          "Fare": 82.1708,
          "Name": "Meyer, Mrs. Edgar Joseph (Leila Saks)",
          "Parch": 0,
          "Pclass": 1,
          "Sex": 0,
          "SibSp": 1,
          "Ticket": "PC 17604"
         },
         {
          "Age": 37,
          "Embarked": "S",
          "Fare": 26,
          "Name": "Chapman, Mr. John Henry",
          "Parch": 0,
          "Pclass": 2,
          "Sex": 1,
          "SibSp": 1,
          "Ticket": "SC/AH 29037"
         },
         {
          "Age": 30,
          "Embarked": "Q",
          "Fare": 12.35,
          "Name": "Slayter, Miss. Hilda Mary",
          "Parch": 0,
          "Pclass": 2,
          "Sex": 0,
          "SibSp": 0,
          "Ticket": "234818"
         },
         {
          "Age": 32,
          "Embarked": "S",
          "Fare": 7.925,
          "Name": "Jussila, Mr. Eiriik",
          "Parch": 0,
          "Pclass": 3,
          "Sex": 1,
          "SibSp": 0,
          "Ticket": "STON/O 2. 3101286"
         },
         {
          "Age": 35,
          "Embarked": "C",
          "Fare": 26.55,
          "Name": "Homer, Mr. Harry (\"Mr E Haven\")",
          "Parch": 0,
          "Pclass": 1,
          "Sex": 1,
          "SibSp": 0,
          "Ticket": "111426"
         },
         {
          "Age": 45.5,
          "Embarked": "S",
          "Fare": 28.5,
          "Name": "Partner, Mr. Austen",
          "Parch": 0,
          "Pclass": 1,
          "Sex": 1,
          "SibSp": 0,
          "Ticket": "113043"
         },
         {
          "Age": 40,
          "Embarked": "S",
          "Fare": 13,
          "Name": "Smith, Miss. Marion Elsie",
          "Parch": 0,
          "Pclass": 2,
          "Sex": 0,
          "SibSp": 0,
          "Ticket": "31418"
         },
         {
          "Age": 49,
          "Embarked": "C",
          "Fare": 89.1042,
          "Name": "Goldenberg, Mr. Samuel L",
          "Parch": 0,
          "Pclass": 1,
          "Sex": 1,
          "SibSp": 1,
          "Ticket": "17453"
         },
         {
          "Age": 43,
          "Embarked": "S",
          "Fare": 46.9,
          "Name": "Goodwin, Mrs. Frederick (Augusta Tyler)",
          "Parch": 6,
          "Pclass": 3,
          "Sex": 0,
          "SibSp": 1,
          "Ticket": "CA 2144"
         },
         {
          "Age": 14.5,
          "Embarked": "C",
          "Fare": 14.4542,
          "Name": "Zabour, Miss. Hileni",
          "Parch": 0,
          "Pclass": 3,
          "Sex": 0,
          "SibSp": 1,
          "Ticket": "2665"
         }
        ],
        "data-954ffbfb6942de66220f48076e10317d": [
         {
          "Embarked": "S",
          "count": 0.722
         },
         {
          "Embarked": "C",
          "count": 0.187
         },
         {
          "Embarked": "Q",
          "count": 0.091
         }
        ]
       },
       "hconcat": [
        {
         "data": {
          "name": "data-54f35c6947c2bd21d458b28dd4e722b2"
         },
         "height": 400,
         "layer": [
          {
           "encoding": {
            "color": {
             "field": "Embarked",
             "legend": {
              "orient": "right"
             },
             "scale": {
              "reverse": true,
              "scheme": "paired"
             },
             "type": "nominal"
            },
            "tooltip": [
             {
              "field": "Embarked",
              "title": "Embarked",
              "type": "nominal"
             },
             {
              "aggregate": "count",
              "title": "Number of Passengers",
              "type": "quantitative"
             }
            ],
            "x": {
             "axis": {
              "grid": false,
              "labelFontWeight": "bold"
             },
             "field": "Embarked",
             "title": "Embarked",
             "type": "nominal"
            },
            "y": {
             "aggregate": "count",
             "axis": {
              "grid": false,
              "labelFontWeight": "bold"
             },
             "title": "Number of Passengers",
             "type": "quantitative"
            }
           },
           "mark": {
            "cornerRadius": 10,
            "type": "bar"
           },
           "title": {
            "dy": -10,
            "fontSize": 18,
            "subtitle": "Source: Titanic",
            "subtitleFontSize": 12,
            "text": "Embarked Distribution"
           }
          },
          {
           "encoding": {
            "text": {
             "aggregate": "count",
             "type": "quantitative"
            },
            "x": {
             "field": "Embarked",
             "type": "nominal"
            },
            "y": {
             "aggregate": "count",
             "type": "quantitative"
            }
           },
           "mark": {
            "align": "center",
            "baseline": "bottom",
            "dy": -5,
            "fontSize": 12,
            "fontWeight": "bold",
            "type": "text"
           }
          }
         ],
         "width": 300
        },
        {
         "data": {
          "name": "data-954ffbfb6942de66220f48076e10317d"
         },
         "encoding": {
          "color": {
           "field": "Embarked",
           "type": "nominal"
          },
          "theta": {
           "field": "count",
           "type": "quantitative"
          },
          "tooltip": [
           {
            "field": "Embarked",
            "type": "nominal"
           },
           {
            "field": "count",
            "title": "Percentage",
            "type": "quantitative"
           }
          ]
         },
         "mark": {
          "innerRadius": 50,
          "type": "arc"
         }
        }
       ]
      },
      "text/plain": [
       "<VegaLite 5 object>\n",
       "\n",
       "If you see this message, it means the renderer has not been properly enabled\n",
       "for the frontend that you are using. For more information, see\n",
       "https://altair-viz.github.io/user_guide/display_frontends.html#troubleshooting\n"
      ]
     },
     "execution_count": 44,
     "metadata": {},
     "output_type": "execute_result"
    }
   ],
   "source": [
    "class Graph:\n",
    "    def __init__(self, data: pd.DataFrame) -> None:\n",
    "        self.__data = data\n",
    "\n",
    "    def value_mapping(\n",
    "        self, \n",
    "        x: str, \n",
    "        map_values: Dict[str, Any] | None, \n",
    "        color: List[str] | str) -> Tuple[pd.DataFrame, alt.Color]:\n",
    "        \n",
    "        # Make copy then change column data to str\n",
    "        data = self.__data.copy()\n",
    "        data[x] = data[x].astype(str)\n",
    "        if map_values:\n",
    "            data[x] = data[x].map(lambda x: map_values[x])\n",
    "\n",
    "        # Color map.\n",
    "        if isinstance(color, list):\n",
    "            alt_color = (\n",
    "                alt.Color(x).scale(range=color, reverse=True).legend(orient=\"right\")\n",
    "            )\n",
    "        else:\n",
    "            alt_color = (\n",
    "                alt.Color(x).scale(scheme=color, reverse=True).legend(orient=\"right\")\n",
    "            )\n",
    "        return (data, alt_color)\n",
    "\n",
    "    def bar_chart(\n",
    "        self,\n",
    "        x: str,\n",
    "        map_values: Dict[str, Any] | None = None,\n",
    "        color: List | str = \"paired\",\n",
    "        width: int = 300,\n",
    "        height: int = 400,\n",
    "        x_title: str | None = None,\n",
    "        y_title: str | None = None,\n",
    "    ) -> alt.ChartDataType:# Make copy then change column data to str\n",
    "\n",
    "        data, alt_color = self.value_mapping(\n",
    "            x,\n",
    "            map_values=map_values,\n",
    "            color=color\n",
    "        )\n",
    "\n",
    "        x_title = x_title.title() if x_title else x.title()\n",
    "        y_title = y_title.title() if y_title else \"Number of Passengers\"\n",
    "\n",
    "        # Return the alt chart\n",
    "        bar_layer = (\n",
    "            alt.Chart(data)\n",
    "            .mark_bar(cornerRadius=10)\n",
    "            .encode(\n",
    "                x=alt.X(\n",
    "                    x, title=x_title, axis=alt.Axis(grid=False, labelFontWeight=\"bold\")\n",
    "                ),\n",
    "                y=alt.Y(\n",
    "                    \"count()\",\n",
    "                    title=y_title,\n",
    "                    axis=alt.Axis(grid=False, labelFontWeight=\"bold\"),\n",
    "                ),\n",
    "                color=alt_color.legend(orient=\"right\"),\n",
    "                tooltip=[\n",
    "                    alt.Tooltip(x, title=x_title),\n",
    "                    alt.Tooltip(\"count()\", title=y_title),\n",
    "                ],\n",
    "            )\n",
    "            .properties(\n",
    "                width=width,\n",
    "                height=height,\n",
    "                title=alt.Title(\n",
    "                    f\"{x.title()} Distribution\",\n",
    "                    fontSize=18,\n",
    "                    subtitle=\"Source: Titanic\",\n",
    "                    subtitleFontSize=12,\n",
    "                    dy=-10,\n",
    "                ),\n",
    "            )\n",
    "        )\n",
    "\n",
    "        text_layer = (\n",
    "            alt.Chart(data)\n",
    "            .mark_text(\n",
    "                align=\"center\",\n",
    "                baseline=\"bottom\",  # Align text to the bottom of its bounding box\n",
    "                dy=-5,  # Adjust vertical position (negative for above the bar)\n",
    "                fontSize=12,\n",
    "                fontWeight=\"bold\",\n",
    "            )\n",
    "            .encode(x=x, y=\"count()\", text=alt.Text(\"count()\"))\n",
    "        )\n",
    "\n",
    "        return bar_layer + text_layer  # .configure_view(\n",
    "\n",
    "    def donut_chart(\n",
    "        self, \n",
    "        x: str,\n",
    "        map_values: Dict[str, Any] | None = None,\n",
    "        color: List | str = \"paired\",\n",
    "    ) -> alt.ChartDataType:\n",
    "\n",
    "        data, alt_color = self.value_mapping(\n",
    "            x,\n",
    "            map_values=map_values,\n",
    "            color=color\n",
    "        )\n",
    "\n",
    "        value_counts = data[x].value_counts().reset_index()\n",
    "        value_counts[\"count\"] = (value_counts[\"count\"] / data.shape[0]).round(3)\n",
    "        \n",
    "        donut = alt.Chart(value_counts).mark_arc(innerRadius=50).encode(\n",
    "            theta=\"count\",\n",
    "            color=f\"{x}:N\",\n",
    "            tooltip=[\n",
    "                alt.Tooltip(f\"{x}\".title()),\n",
    "                alt.Tooltip('count', title='Percentage')\n",
    "            ]\n",
    "        )\n",
    "        return donut\n",
    "\n",
    "    def concat(self, *args, use: Literal[\"vconcat\", \"hconcat\"] = \"vconcat\"):\n",
    "        if use == \"vconcat\":\n",
    "            return alt.vconcat(*args).configure_view(stroke=None)\n",
    "        elif use == \"hconcat\":\n",
    "            return alt.hconcat(*args).configure_view(stroke=None)\n",
    "        else:\n",
    "            raise ValueError(\"Received invalid value `%s`\" % use)\n",
    "\n",
    "\n",
    "graph = Graph(clean_train_x)\n",
    "bar = graph.bar_chart(\"Embarked\")\n",
    "donut = graph.donut_chart(\"Embarked\")\n",
    "\n",
    "graph.concat(bar, donut, use=\"hconcat\")"
   ]
  },
  {
   "cell_type": "code",
   "execution_count": 45,
   "id": "bd2a59f4-34c0-495a-bb70-191118b83d74",
   "metadata": {},
   "outputs": [],
   "source": [
    "x = clean_train_x['Embarked'].value_counts().reset_index()\n",
    "x[\"count\"] = (x[\"count\"] / clean_train_x.shape[0]).round(3)"
   ]
  },
  {
   "cell_type": "code",
   "execution_count": 46,
   "id": "45398cfb-bf8c-400c-aaa4-3f7d02cae801",
   "metadata": {},
   "outputs": [
    {
     "data": {
      "text/html": [
       "<div>\n",
       "<style scoped>\n",
       "    .dataframe tbody tr th:only-of-type {\n",
       "        vertical-align: middle;\n",
       "    }\n",
       "\n",
       "    .dataframe tbody tr th {\n",
       "        vertical-align: top;\n",
       "    }\n",
       "\n",
       "    .dataframe thead th {\n",
       "        text-align: right;\n",
       "    }\n",
       "</style>\n",
       "<table border=\"1\" class=\"dataframe\">\n",
       "  <thead>\n",
       "    <tr style=\"text-align: right;\">\n",
       "      <th></th>\n",
       "      <th>Embarked</th>\n",
       "      <th>count</th>\n",
       "    </tr>\n",
       "  </thead>\n",
       "  <tbody>\n",
       "    <tr>\n",
       "      <th>0</th>\n",
       "      <td>S</td>\n",
       "      <td>0.722</td>\n",
       "    </tr>\n",
       "    <tr>\n",
       "      <th>1</th>\n",
       "      <td>C</td>\n",
       "      <td>0.187</td>\n",
       "    </tr>\n",
       "    <tr>\n",
       "      <th>2</th>\n",
       "      <td>Q</td>\n",
       "      <td>0.091</td>\n",
       "    </tr>\n",
       "  </tbody>\n",
       "</table>\n",
       "</div>"
      ],
      "text/plain": [
       "  Embarked  count\n",
       "0        S  0.722\n",
       "1        C  0.187\n",
       "2        Q  0.091"
      ]
     },
     "execution_count": 46,
     "metadata": {},
     "output_type": "execute_result"
    }
   ],
   "source": [
    "x"
   ]
  },
  {
   "cell_type": "code",
   "execution_count": null,
   "id": "d2eaef2a-93ed-408a-a08e-f861247edeb1",
   "metadata": {},
   "outputs": [],
   "source": []
  }
 ],
 "metadata": {
  "colab": {
   "provenance": []
  },
  "kernelspec": {
   "display_name": "ds11",
   "language": "python",
   "name": "python3"
  },
  "language_info": {
   "codemirror_mode": {
    "name": "ipython",
    "version": 3
   },
   "file_extension": ".py",
   "mimetype": "text/x-python",
   "name": "python",
   "nbconvert_exporter": "python",
   "pygments_lexer": "ipython3",
   "version": "3.11.13"
  }
 },
 "nbformat": 4,
 "nbformat_minor": 5
}
