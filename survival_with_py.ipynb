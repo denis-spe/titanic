{
 "cells": [
  {
   "cell_type": "markdown",
   "id": "acce7b91-ba73-409b-88fb-5cc92445d37a",
   "metadata": {
    "id": "acce7b91-ba73-409b-88fb-5cc92445d37a"
   },
   "source": [
    "<h1 style=\"font-weight: bold;\">Titanic Survival</h1>"
   ]
  },
  {
   "cell_type": "markdown",
   "id": "d50c0a95-60e6-4b7a-bfeb-75eb054d7254",
   "metadata": {
    "id": "d50c0a95-60e6-4b7a-bfeb-75eb054d7254"
   },
   "source": [
    "## 1) **Import libraries**\n",
    "load the libraries to be used in the notebook"
   ]
  },
  {
   "cell_type": "code",
   "id": "23bde1d6-666d-4099-928a-a72ffe730798",
   "metadata": {
    "id": "23bde1d6-666d-4099-928a-a72ffe730798",
    "ExecuteTime": {
     "end_time": "2025-10-03T22:37:10.062897Z",
     "start_time": "2025-10-03T22:37:10.051491Z"
    }
   },
   "source": [
    "import os\n",
    "import pprint\n",
    "from typing import List, Any, Dict, Tuple, Literal\n",
    "\n",
    "import altair as alt\n",
    "import numpy as np\n",
    "import pandas as pd\n",
    "from sklearn.model_selection import train_test_split"
   ],
   "outputs": [],
   "execution_count": 2
  },
  {
   "cell_type": "code",
   "id": "AJhL9958h7rT",
   "metadata": {
    "colab": {
     "base_uri": "https://localhost:8080/"
    },
    "id": "AJhL9958h7rT",
    "outputId": "ac0bdafc-032d-4553-9038-21f3ccccafdd",
    "ExecuteTime": {
     "end_time": "2025-10-03T22:37:10.117101Z",
     "start_time": "2025-10-03T22:37:10.077160Z"
    }
   },
   "source": [
    "try:\n",
    "    from google.colab import drive\n",
    "\n",
    "    drive.mount(\"content\")\n",
    "    is_running_on_colab = True\n",
    "except ImportError:\n",
    "    is_running_on_colab = False"
   ],
   "outputs": [],
   "execution_count": 3
  },
  {
   "cell_type": "markdown",
   "id": "796f2577-cd2f-4130-a2a9-35d768495f9a",
   "metadata": {
    "id": "796f2577-cd2f-4130-a2a9-35d768495f9a"
   },
   "source": [
    "## 2) **Setting notebook**"
   ]
  },
  {
   "cell_type": "code",
   "id": "af3ad461-d57d-46d1-96d5-f62e51fd6d86",
   "metadata": {
    "id": "af3ad461-d57d-46d1-96d5-f62e51fd6d86",
    "ExecuteTime": {
     "end_time": "2025-10-03T22:37:10.150939Z",
     "start_time": "2025-10-03T22:37:10.140708Z"
    }
   },
   "source": [
    "\n",
    "if not is_running_on_colab:\n",
    "    alt.renderers.enable('mimetype')\n",
    "else:\n",
    "    alt.renderers.enable('html')\n"
   ],
   "outputs": [],
   "execution_count": 4
  },
  {
   "cell_type": "markdown",
   "id": "de696c32-e12b-4ac1-b39f-d2798415ded0",
   "metadata": {
    "id": "de696c32-e12b-4ac1-b39f-d2798415ded0"
   },
   "source": [
    "## 3) **Load the data**\n",
    "<p>Load the csv file to pandas dataframe</p>"
   ]
  },
  {
   "cell_type": "code",
   "id": "11a39d04-d424-4ef9-bfc1-e5250b05dc9f",
   "metadata": {
    "id": "11a39d04-d424-4ef9-bfc1-e5250b05dc9f",
    "ExecuteTime": {
     "end_time": "2025-10-03T22:37:10.187290Z",
     "start_time": "2025-10-03T22:37:10.172217Z"
    }
   },
   "source": [
    "folder_path = None\n",
    "if os.path.exists('./data/'):\n",
    "    folder_path = './data/'\n",
    "elif os.path.exists('content/MyDrive/Datasets/titanic_data'):\n",
    "    folder_path = 'content/MyDrive/Datasets/titanic_data'\n",
    "else:\n",
    "    raise ValueError(\"Unable to find titanic train and test csv files\")\n",
    "\n",
    "train_path = os.path.join(folder_path, \"train.csv\")\n",
    "test_path = os.path.join(folder_path, \"test.csv\")"
   ],
   "outputs": [],
   "execution_count": 5
  },
  {
   "cell_type": "code",
   "id": "4ea8a195-e2de-4952-83df-0348ca524056",
   "metadata": {
    "id": "4ea8a195-e2de-4952-83df-0348ca524056",
    "ExecuteTime": {
     "end_time": "2025-10-03T22:37:10.714490Z",
     "start_time": "2025-10-03T22:37:10.207883Z"
    }
   },
   "source": [
    "# Set the PassengerId column as index column.\n",
    "index_col = 'PassengerId'\n",
    "\n",
    "# Load the train and test dataframe.\n",
    "train_df = pd.read_csv(train_path, index_col=index_col)\n",
    "test_df = pd.read_csv(test_path, index_col=index_col)"
   ],
   "outputs": [],
   "execution_count": 6
  },
  {
   "cell_type": "markdown",
   "id": "ca31e43e-f0b2-49f6-805a-d5db7b9103d7",
   "metadata": {
    "id": "ca31e43e-f0b2-49f6-805a-d5db7b9103d7"
   },
   "source": [
    "## 4) **Data statistics**\n",
    "<p>Analyse train and test dataframe</p>"
   ]
  },
  {
   "cell_type": "markdown",
   "id": "b0b5ee84-3674-4b58-b4f9-ebb4d980b920",
   "metadata": {
    "id": "b0b5ee84-3674-4b58-b4f9-ebb4d980b920"
   },
   "source": [
    "### i) Rows in train data\n",
    "<p>View train dataframe top and bottom rows</p>"
   ]
  },
  {
   "cell_type": "code",
   "id": "3908408e-84a6-4225-9345-a7da8a7f7081",
   "metadata": {
    "colab": {
     "base_uri": "https://localhost:8080/",
     "height": 535
    },
    "id": "3908408e-84a6-4225-9345-a7da8a7f7081",
    "outputId": "ca2868ed-3caa-459e-d7a1-22d5095359e2",
    "ExecuteTime": {
     "end_time": "2025-10-03T22:37:10.910151Z",
     "start_time": "2025-10-03T22:37:10.732128Z"
    }
   },
   "source": [
    "# First five rows in train data.\n",
    "train_df.head()"
   ],
   "outputs": [
    {
     "data": {
      "text/plain": [
       "             Survived  Pclass  \\\n",
       "PassengerId                     \n",
       "1                   0       3   \n",
       "2                   1       1   \n",
       "3                   1       3   \n",
       "4                   1       1   \n",
       "5                   0       3   \n",
       "\n",
       "                                                          Name     Sex   Age  \\\n",
       "PassengerId                                                                    \n",
       "1                                      Braund, Mr. Owen Harris    male  22.0   \n",
       "2            Cumings, Mrs. John Bradley (Florence Briggs Th...  female  38.0   \n",
       "3                                       Heikkinen, Miss. Laina  female  26.0   \n",
       "4                 Futrelle, Mrs. Jacques Heath (Lily May Peel)  female  35.0   \n",
       "5                                     Allen, Mr. William Henry    male  35.0   \n",
       "\n",
       "             SibSp  Parch            Ticket     Fare Cabin Embarked  \n",
       "PassengerId                                                          \n",
       "1                1      0         A/5 21171   7.2500   NaN        S  \n",
       "2                1      0          PC 17599  71.2833   C85        C  \n",
       "3                0      0  STON/O2. 3101282   7.9250   NaN        S  \n",
       "4                1      0            113803  53.1000  C123        S  \n",
       "5                0      0            373450   8.0500   NaN        S  "
      ],
      "text/html": [
       "<div>\n",
       "<style scoped>\n",
       "    .dataframe tbody tr th:only-of-type {\n",
       "        vertical-align: middle;\n",
       "    }\n",
       "\n",
       "    .dataframe tbody tr th {\n",
       "        vertical-align: top;\n",
       "    }\n",
       "\n",
       "    .dataframe thead th {\n",
       "        text-align: right;\n",
       "    }\n",
       "</style>\n",
       "<table border=\"1\" class=\"dataframe\">\n",
       "  <thead>\n",
       "    <tr style=\"text-align: right;\">\n",
       "      <th></th>\n",
       "      <th>Survived</th>\n",
       "      <th>Pclass</th>\n",
       "      <th>Name</th>\n",
       "      <th>Sex</th>\n",
       "      <th>Age</th>\n",
       "      <th>SibSp</th>\n",
       "      <th>Parch</th>\n",
       "      <th>Ticket</th>\n",
       "      <th>Fare</th>\n",
       "      <th>Cabin</th>\n",
       "      <th>Embarked</th>\n",
       "    </tr>\n",
       "    <tr>\n",
       "      <th>PassengerId</th>\n",
       "      <th></th>\n",
       "      <th></th>\n",
       "      <th></th>\n",
       "      <th></th>\n",
       "      <th></th>\n",
       "      <th></th>\n",
       "      <th></th>\n",
       "      <th></th>\n",
       "      <th></th>\n",
       "      <th></th>\n",
       "      <th></th>\n",
       "    </tr>\n",
       "  </thead>\n",
       "  <tbody>\n",
       "    <tr>\n",
       "      <th>1</th>\n",
       "      <td>0</td>\n",
       "      <td>3</td>\n",
       "      <td>Braund, Mr. Owen Harris</td>\n",
       "      <td>male</td>\n",
       "      <td>22.0</td>\n",
       "      <td>1</td>\n",
       "      <td>0</td>\n",
       "      <td>A/5 21171</td>\n",
       "      <td>7.2500</td>\n",
       "      <td>NaN</td>\n",
       "      <td>S</td>\n",
       "    </tr>\n",
       "    <tr>\n",
       "      <th>2</th>\n",
       "      <td>1</td>\n",
       "      <td>1</td>\n",
       "      <td>Cumings, Mrs. John Bradley (Florence Briggs Th...</td>\n",
       "      <td>female</td>\n",
       "      <td>38.0</td>\n",
       "      <td>1</td>\n",
       "      <td>0</td>\n",
       "      <td>PC 17599</td>\n",
       "      <td>71.2833</td>\n",
       "      <td>C85</td>\n",
       "      <td>C</td>\n",
       "    </tr>\n",
       "    <tr>\n",
       "      <th>3</th>\n",
       "      <td>1</td>\n",
       "      <td>3</td>\n",
       "      <td>Heikkinen, Miss. Laina</td>\n",
       "      <td>female</td>\n",
       "      <td>26.0</td>\n",
       "      <td>0</td>\n",
       "      <td>0</td>\n",
       "      <td>STON/O2. 3101282</td>\n",
       "      <td>7.9250</td>\n",
       "      <td>NaN</td>\n",
       "      <td>S</td>\n",
       "    </tr>\n",
       "    <tr>\n",
       "      <th>4</th>\n",
       "      <td>1</td>\n",
       "      <td>1</td>\n",
       "      <td>Futrelle, Mrs. Jacques Heath (Lily May Peel)</td>\n",
       "      <td>female</td>\n",
       "      <td>35.0</td>\n",
       "      <td>1</td>\n",
       "      <td>0</td>\n",
       "      <td>113803</td>\n",
       "      <td>53.1000</td>\n",
       "      <td>C123</td>\n",
       "      <td>S</td>\n",
       "    </tr>\n",
       "    <tr>\n",
       "      <th>5</th>\n",
       "      <td>0</td>\n",
       "      <td>3</td>\n",
       "      <td>Allen, Mr. William Henry</td>\n",
       "      <td>male</td>\n",
       "      <td>35.0</td>\n",
       "      <td>0</td>\n",
       "      <td>0</td>\n",
       "      <td>373450</td>\n",
       "      <td>8.0500</td>\n",
       "      <td>NaN</td>\n",
       "      <td>S</td>\n",
       "    </tr>\n",
       "  </tbody>\n",
       "</table>\n",
       "</div>"
      ]
     },
     "execution_count": 7,
     "metadata": {},
     "output_type": "execute_result"
    }
   ],
   "execution_count": 7
  },
  {
   "cell_type": "code",
   "id": "8a52e0f5-1267-4775-a373-501320697db7",
   "metadata": {
    "colab": {
     "base_uri": "https://localhost:8080/",
     "height": 483
    },
    "id": "8a52e0f5-1267-4775-a373-501320697db7",
    "outputId": "91811e83-329f-4e06-c499-5786a27fc8ed",
    "ExecuteTime": {
     "end_time": "2025-10-03T22:37:10.967507Z",
     "start_time": "2025-10-03T22:37:10.943396Z"
    }
   },
   "source": [
    "# First five rows in test data.\n",
    "train_df.tail()"
   ],
   "outputs": [
    {
     "data": {
      "text/plain": [
       "             Survived  Pclass                                      Name  \\\n",
       "PassengerId                                                               \n",
       "887                 0       2                     Montvila, Rev. Juozas   \n",
       "888                 1       1              Graham, Miss. Margaret Edith   \n",
       "889                 0       3  Johnston, Miss. Catherine Helen \"Carrie\"   \n",
       "890                 1       1                     Behr, Mr. Karl Howell   \n",
       "891                 0       3                       Dooley, Mr. Patrick   \n",
       "\n",
       "                Sex   Age  SibSp  Parch      Ticket   Fare Cabin Embarked  \n",
       "PassengerId                                                                \n",
       "887            male  27.0      0      0      211536  13.00   NaN        S  \n",
       "888          female  19.0      0      0      112053  30.00   B42        S  \n",
       "889          female   NaN      1      2  W./C. 6607  23.45   NaN        S  \n",
       "890            male  26.0      0      0      111369  30.00  C148        C  \n",
       "891            male  32.0      0      0      370376   7.75   NaN        Q  "
      ],
      "text/html": [
       "<div>\n",
       "<style scoped>\n",
       "    .dataframe tbody tr th:only-of-type {\n",
       "        vertical-align: middle;\n",
       "    }\n",
       "\n",
       "    .dataframe tbody tr th {\n",
       "        vertical-align: top;\n",
       "    }\n",
       "\n",
       "    .dataframe thead th {\n",
       "        text-align: right;\n",
       "    }\n",
       "</style>\n",
       "<table border=\"1\" class=\"dataframe\">\n",
       "  <thead>\n",
       "    <tr style=\"text-align: right;\">\n",
       "      <th></th>\n",
       "      <th>Survived</th>\n",
       "      <th>Pclass</th>\n",
       "      <th>Name</th>\n",
       "      <th>Sex</th>\n",
       "      <th>Age</th>\n",
       "      <th>SibSp</th>\n",
       "      <th>Parch</th>\n",
       "      <th>Ticket</th>\n",
       "      <th>Fare</th>\n",
       "      <th>Cabin</th>\n",
       "      <th>Embarked</th>\n",
       "    </tr>\n",
       "    <tr>\n",
       "      <th>PassengerId</th>\n",
       "      <th></th>\n",
       "      <th></th>\n",
       "      <th></th>\n",
       "      <th></th>\n",
       "      <th></th>\n",
       "      <th></th>\n",
       "      <th></th>\n",
       "      <th></th>\n",
       "      <th></th>\n",
       "      <th></th>\n",
       "      <th></th>\n",
       "    </tr>\n",
       "  </thead>\n",
       "  <tbody>\n",
       "    <tr>\n",
       "      <th>887</th>\n",
       "      <td>0</td>\n",
       "      <td>2</td>\n",
       "      <td>Montvila, Rev. Juozas</td>\n",
       "      <td>male</td>\n",
       "      <td>27.0</td>\n",
       "      <td>0</td>\n",
       "      <td>0</td>\n",
       "      <td>211536</td>\n",
       "      <td>13.00</td>\n",
       "      <td>NaN</td>\n",
       "      <td>S</td>\n",
       "    </tr>\n",
       "    <tr>\n",
       "      <th>888</th>\n",
       "      <td>1</td>\n",
       "      <td>1</td>\n",
       "      <td>Graham, Miss. Margaret Edith</td>\n",
       "      <td>female</td>\n",
       "      <td>19.0</td>\n",
       "      <td>0</td>\n",
       "      <td>0</td>\n",
       "      <td>112053</td>\n",
       "      <td>30.00</td>\n",
       "      <td>B42</td>\n",
       "      <td>S</td>\n",
       "    </tr>\n",
       "    <tr>\n",
       "      <th>889</th>\n",
       "      <td>0</td>\n",
       "      <td>3</td>\n",
       "      <td>Johnston, Miss. Catherine Helen \"Carrie\"</td>\n",
       "      <td>female</td>\n",
       "      <td>NaN</td>\n",
       "      <td>1</td>\n",
       "      <td>2</td>\n",
       "      <td>W./C. 6607</td>\n",
       "      <td>23.45</td>\n",
       "      <td>NaN</td>\n",
       "      <td>S</td>\n",
       "    </tr>\n",
       "    <tr>\n",
       "      <th>890</th>\n",
       "      <td>1</td>\n",
       "      <td>1</td>\n",
       "      <td>Behr, Mr. Karl Howell</td>\n",
       "      <td>male</td>\n",
       "      <td>26.0</td>\n",
       "      <td>0</td>\n",
       "      <td>0</td>\n",
       "      <td>111369</td>\n",
       "      <td>30.00</td>\n",
       "      <td>C148</td>\n",
       "      <td>C</td>\n",
       "    </tr>\n",
       "    <tr>\n",
       "      <th>891</th>\n",
       "      <td>0</td>\n",
       "      <td>3</td>\n",
       "      <td>Dooley, Mr. Patrick</td>\n",
       "      <td>male</td>\n",
       "      <td>32.0</td>\n",
       "      <td>0</td>\n",
       "      <td>0</td>\n",
       "      <td>370376</td>\n",
       "      <td>7.75</td>\n",
       "      <td>NaN</td>\n",
       "      <td>Q</td>\n",
       "    </tr>\n",
       "  </tbody>\n",
       "</table>\n",
       "</div>"
      ]
     },
     "execution_count": 8,
     "metadata": {},
     "output_type": "execute_result"
    }
   ],
   "execution_count": 8
  },
  {
   "cell_type": "markdown",
   "id": "0536c4fb-2038-461a-8ba2-61ba88075b32",
   "metadata": {
    "id": "0536c4fb-2038-461a-8ba2-61ba88075b32"
   },
   "source": [
    "### ii) Rows in test data\n",
    "<p>View test dataframe top and bottom rows</p>"
   ]
  },
  {
   "cell_type": "code",
   "id": "88078d46-6871-4db1-81d8-8b514b2eaa9b",
   "metadata": {
    "colab": {
     "base_uri": "https://localhost:8080/",
     "height": 483
    },
    "id": "88078d46-6871-4db1-81d8-8b514b2eaa9b",
    "outputId": "859af79c-0546-4617-aa00-0562f24b89af",
    "ExecuteTime": {
     "end_time": "2025-10-03T22:37:11.024057Z",
     "start_time": "2025-10-03T22:37:10.982854Z"
    }
   },
   "source": [
    "# First five rows in test data.\n",
    "test_df.head()"
   ],
   "outputs": [
    {
     "data": {
      "text/plain": [
       "             Pclass                                          Name     Sex  \\\n",
       "PassengerId                                                                 \n",
       "892               3                              Kelly, Mr. James    male   \n",
       "893               3              Wilkes, Mrs. James (Ellen Needs)  female   \n",
       "894               2                     Myles, Mr. Thomas Francis    male   \n",
       "895               3                              Wirz, Mr. Albert    male   \n",
       "896               3  Hirvonen, Mrs. Alexander (Helga E Lindqvist)  female   \n",
       "\n",
       "              Age  SibSp  Parch   Ticket     Fare Cabin Embarked  \n",
       "PassengerId                                                       \n",
       "892          34.5      0      0   330911   7.8292   NaN        Q  \n",
       "893          47.0      1      0   363272   7.0000   NaN        S  \n",
       "894          62.0      0      0   240276   9.6875   NaN        Q  \n",
       "895          27.0      0      0   315154   8.6625   NaN        S  \n",
       "896          22.0      1      1  3101298  12.2875   NaN        S  "
      ],
      "text/html": [
       "<div>\n",
       "<style scoped>\n",
       "    .dataframe tbody tr th:only-of-type {\n",
       "        vertical-align: middle;\n",
       "    }\n",
       "\n",
       "    .dataframe tbody tr th {\n",
       "        vertical-align: top;\n",
       "    }\n",
       "\n",
       "    .dataframe thead th {\n",
       "        text-align: right;\n",
       "    }\n",
       "</style>\n",
       "<table border=\"1\" class=\"dataframe\">\n",
       "  <thead>\n",
       "    <tr style=\"text-align: right;\">\n",
       "      <th></th>\n",
       "      <th>Pclass</th>\n",
       "      <th>Name</th>\n",
       "      <th>Sex</th>\n",
       "      <th>Age</th>\n",
       "      <th>SibSp</th>\n",
       "      <th>Parch</th>\n",
       "      <th>Ticket</th>\n",
       "      <th>Fare</th>\n",
       "      <th>Cabin</th>\n",
       "      <th>Embarked</th>\n",
       "    </tr>\n",
       "    <tr>\n",
       "      <th>PassengerId</th>\n",
       "      <th></th>\n",
       "      <th></th>\n",
       "      <th></th>\n",
       "      <th></th>\n",
       "      <th></th>\n",
       "      <th></th>\n",
       "      <th></th>\n",
       "      <th></th>\n",
       "      <th></th>\n",
       "      <th></th>\n",
       "    </tr>\n",
       "  </thead>\n",
       "  <tbody>\n",
       "    <tr>\n",
       "      <th>892</th>\n",
       "      <td>3</td>\n",
       "      <td>Kelly, Mr. James</td>\n",
       "      <td>male</td>\n",
       "      <td>34.5</td>\n",
       "      <td>0</td>\n",
       "      <td>0</td>\n",
       "      <td>330911</td>\n",
       "      <td>7.8292</td>\n",
       "      <td>NaN</td>\n",
       "      <td>Q</td>\n",
       "    </tr>\n",
       "    <tr>\n",
       "      <th>893</th>\n",
       "      <td>3</td>\n",
       "      <td>Wilkes, Mrs. James (Ellen Needs)</td>\n",
       "      <td>female</td>\n",
       "      <td>47.0</td>\n",
       "      <td>1</td>\n",
       "      <td>0</td>\n",
       "      <td>363272</td>\n",
       "      <td>7.0000</td>\n",
       "      <td>NaN</td>\n",
       "      <td>S</td>\n",
       "    </tr>\n",
       "    <tr>\n",
       "      <th>894</th>\n",
       "      <td>2</td>\n",
       "      <td>Myles, Mr. Thomas Francis</td>\n",
       "      <td>male</td>\n",
       "      <td>62.0</td>\n",
       "      <td>0</td>\n",
       "      <td>0</td>\n",
       "      <td>240276</td>\n",
       "      <td>9.6875</td>\n",
       "      <td>NaN</td>\n",
       "      <td>Q</td>\n",
       "    </tr>\n",
       "    <tr>\n",
       "      <th>895</th>\n",
       "      <td>3</td>\n",
       "      <td>Wirz, Mr. Albert</td>\n",
       "      <td>male</td>\n",
       "      <td>27.0</td>\n",
       "      <td>0</td>\n",
       "      <td>0</td>\n",
       "      <td>315154</td>\n",
       "      <td>8.6625</td>\n",
       "      <td>NaN</td>\n",
       "      <td>S</td>\n",
       "    </tr>\n",
       "    <tr>\n",
       "      <th>896</th>\n",
       "      <td>3</td>\n",
       "      <td>Hirvonen, Mrs. Alexander (Helga E Lindqvist)</td>\n",
       "      <td>female</td>\n",
       "      <td>22.0</td>\n",
       "      <td>1</td>\n",
       "      <td>1</td>\n",
       "      <td>3101298</td>\n",
       "      <td>12.2875</td>\n",
       "      <td>NaN</td>\n",
       "      <td>S</td>\n",
       "    </tr>\n",
       "  </tbody>\n",
       "</table>\n",
       "</div>"
      ]
     },
     "execution_count": 9,
     "metadata": {},
     "output_type": "execute_result"
    }
   ],
   "execution_count": 9
  },
  {
   "cell_type": "code",
   "id": "a0faa19e-fd81-49c2-8762-fd85533b6868",
   "metadata": {
    "colab": {
     "base_uri": "https://localhost:8080/",
     "height": 466
    },
    "id": "a0faa19e-fd81-49c2-8762-fd85533b6868",
    "outputId": "3845e917-0f60-49ef-e2a8-189808d9f91f",
    "ExecuteTime": {
     "end_time": "2025-10-03T22:37:11.079153Z",
     "start_time": "2025-10-03T22:37:11.043846Z"
    }
   },
   "source": [
    "# Last five rows in test data\n",
    "test_df.tail()"
   ],
   "outputs": [
    {
     "data": {
      "text/plain": [
       "             Pclass                          Name     Sex   Age  SibSp  Parch  \\\n",
       "PassengerId                                                                     \n",
       "1305              3            Spector, Mr. Woolf    male   NaN      0      0   \n",
       "1306              1  Oliva y Ocana, Dona. Fermina  female  39.0      0      0   \n",
       "1307              3  Saether, Mr. Simon Sivertsen    male  38.5      0      0   \n",
       "1308              3           Ware, Mr. Frederick    male   NaN      0      0   \n",
       "1309              3      Peter, Master. Michael J    male   NaN      1      1   \n",
       "\n",
       "                         Ticket      Fare Cabin Embarked  \n",
       "PassengerId                                               \n",
       "1305                  A.5. 3236    8.0500   NaN        S  \n",
       "1306                   PC 17758  108.9000  C105        C  \n",
       "1307         SOTON/O.Q. 3101262    7.2500   NaN        S  \n",
       "1308                     359309    8.0500   NaN        S  \n",
       "1309                       2668   22.3583   NaN        C  "
      ],
      "text/html": [
       "<div>\n",
       "<style scoped>\n",
       "    .dataframe tbody tr th:only-of-type {\n",
       "        vertical-align: middle;\n",
       "    }\n",
       "\n",
       "    .dataframe tbody tr th {\n",
       "        vertical-align: top;\n",
       "    }\n",
       "\n",
       "    .dataframe thead th {\n",
       "        text-align: right;\n",
       "    }\n",
       "</style>\n",
       "<table border=\"1\" class=\"dataframe\">\n",
       "  <thead>\n",
       "    <tr style=\"text-align: right;\">\n",
       "      <th></th>\n",
       "      <th>Pclass</th>\n",
       "      <th>Name</th>\n",
       "      <th>Sex</th>\n",
       "      <th>Age</th>\n",
       "      <th>SibSp</th>\n",
       "      <th>Parch</th>\n",
       "      <th>Ticket</th>\n",
       "      <th>Fare</th>\n",
       "      <th>Cabin</th>\n",
       "      <th>Embarked</th>\n",
       "    </tr>\n",
       "    <tr>\n",
       "      <th>PassengerId</th>\n",
       "      <th></th>\n",
       "      <th></th>\n",
       "      <th></th>\n",
       "      <th></th>\n",
       "      <th></th>\n",
       "      <th></th>\n",
       "      <th></th>\n",
       "      <th></th>\n",
       "      <th></th>\n",
       "      <th></th>\n",
       "    </tr>\n",
       "  </thead>\n",
       "  <tbody>\n",
       "    <tr>\n",
       "      <th>1305</th>\n",
       "      <td>3</td>\n",
       "      <td>Spector, Mr. Woolf</td>\n",
       "      <td>male</td>\n",
       "      <td>NaN</td>\n",
       "      <td>0</td>\n",
       "      <td>0</td>\n",
       "      <td>A.5. 3236</td>\n",
       "      <td>8.0500</td>\n",
       "      <td>NaN</td>\n",
       "      <td>S</td>\n",
       "    </tr>\n",
       "    <tr>\n",
       "      <th>1306</th>\n",
       "      <td>1</td>\n",
       "      <td>Oliva y Ocana, Dona. Fermina</td>\n",
       "      <td>female</td>\n",
       "      <td>39.0</td>\n",
       "      <td>0</td>\n",
       "      <td>0</td>\n",
       "      <td>PC 17758</td>\n",
       "      <td>108.9000</td>\n",
       "      <td>C105</td>\n",
       "      <td>C</td>\n",
       "    </tr>\n",
       "    <tr>\n",
       "      <th>1307</th>\n",
       "      <td>3</td>\n",
       "      <td>Saether, Mr. Simon Sivertsen</td>\n",
       "      <td>male</td>\n",
       "      <td>38.5</td>\n",
       "      <td>0</td>\n",
       "      <td>0</td>\n",
       "      <td>SOTON/O.Q. 3101262</td>\n",
       "      <td>7.2500</td>\n",
       "      <td>NaN</td>\n",
       "      <td>S</td>\n",
       "    </tr>\n",
       "    <tr>\n",
       "      <th>1308</th>\n",
       "      <td>3</td>\n",
       "      <td>Ware, Mr. Frederick</td>\n",
       "      <td>male</td>\n",
       "      <td>NaN</td>\n",
       "      <td>0</td>\n",
       "      <td>0</td>\n",
       "      <td>359309</td>\n",
       "      <td>8.0500</td>\n",
       "      <td>NaN</td>\n",
       "      <td>S</td>\n",
       "    </tr>\n",
       "    <tr>\n",
       "      <th>1309</th>\n",
       "      <td>3</td>\n",
       "      <td>Peter, Master. Michael J</td>\n",
       "      <td>male</td>\n",
       "      <td>NaN</td>\n",
       "      <td>1</td>\n",
       "      <td>1</td>\n",
       "      <td>2668</td>\n",
       "      <td>22.3583</td>\n",
       "      <td>NaN</td>\n",
       "      <td>C</td>\n",
       "    </tr>\n",
       "  </tbody>\n",
       "</table>\n",
       "</div>"
      ]
     },
     "execution_count": 10,
     "metadata": {},
     "output_type": "execute_result"
    }
   ],
   "execution_count": 10
  },
  {
   "cell_type": "markdown",
   "id": "f84d908d-24e9-432a-ae38-b51af16ff6a6",
   "metadata": {
    "id": "f84d908d-24e9-432a-ae38-b51af16ff6a6"
   },
   "source": [
    "### iii) Data description\n",
    "<p>Get the know the datasets</p>"
   ]
  },
  {
   "cell_type": "markdown",
   "id": "47a11837-d1d5-4f7c-8a57-4f59cb2c7f71",
   "metadata": {
    "id": "47a11837-d1d5-4f7c-8a57-4f59cb2c7f71"
   },
   "source": [
    "#### a) Data shapes"
   ]
  },
  {
   "cell_type": "code",
   "id": "4def610c-0540-4075-81bf-47a088d99a52",
   "metadata": {
    "colab": {
     "base_uri": "https://localhost:8080/"
    },
    "id": "4def610c-0540-4075-81bf-47a088d99a52",
    "outputId": "b6690c2f-a2e0-45f4-efe5-364f9d3ee004",
    "ExecuteTime": {
     "end_time": "2025-10-03T22:37:11.103969Z",
     "start_time": "2025-10-03T22:37:11.094751Z"
    }
   },
   "source": [
    "# Train dataframe shape.\n",
    "train_shape = train_df.shape\n",
    "print(f\"Train shape:\\n\\trows: {train_shape[0]}\\n\\tcolumns: {train_shape[1]}\")"
   ],
   "outputs": [
    {
     "name": "stdout",
     "output_type": "stream",
     "text": [
      "Train shape:\n",
      "\trows: 891\n",
      "\tcolumns: 11\n"
     ]
    }
   ],
   "execution_count": 11
  },
  {
   "cell_type": "code",
   "id": "b63684ac-85aa-45fe-8dc0-a16df2ffe964",
   "metadata": {
    "colab": {
     "base_uri": "https://localhost:8080/"
    },
    "id": "b63684ac-85aa-45fe-8dc0-a16df2ffe964",
    "outputId": "caef9559-8644-4769-fc19-7779100c8e40",
    "ExecuteTime": {
     "end_time": "2025-10-03T22:37:11.135301Z",
     "start_time": "2025-10-03T22:37:11.118926Z"
    }
   },
   "source": [
    "# Test dataframe shape.\n",
    "test_shape = test_df.shape\n",
    "print(f\"Test shape:\\n\\trows: {test_shape[0]}\\n\\tcolumns: {test_shape[1]}\")"
   ],
   "outputs": [
    {
     "name": "stdout",
     "output_type": "stream",
     "text": [
      "Test shape:\n",
      "\trows: 418\n",
      "\tcolumns: 10\n"
     ]
    }
   ],
   "execution_count": 12
  },
  {
   "cell_type": "markdown",
   "id": "661ad635-c7dc-4e83-8723-6ba88129b4a9",
   "metadata": {
    "id": "661ad635-c7dc-4e83-8723-6ba88129b4a9"
   },
   "source": [
    "#### b) Data column names"
   ]
  },
  {
   "cell_type": "code",
   "id": "52caf66e-5b37-467a-abd0-343e21e9a10b",
   "metadata": {
    "colab": {
     "base_uri": "https://localhost:8080/"
    },
    "id": "52caf66e-5b37-467a-abd0-343e21e9a10b",
    "outputId": "1c1b7f05-ff81-47ba-e38f-b5e0a01bb2e4",
    "ExecuteTime": {
     "end_time": "2025-10-03T22:37:11.188101Z",
     "start_time": "2025-10-03T22:37:11.172184Z"
    }
   },
   "source": [
    "columns = train_df.columns.tolist()\n",
    "pprint.pprint(columns)"
   ],
   "outputs": [
    {
     "name": "stdout",
     "output_type": "stream",
     "text": [
      "['Survived',\n",
      " 'Pclass',\n",
      " 'Name',\n",
      " 'Sex',\n",
      " 'Age',\n",
      " 'SibSp',\n",
      " 'Parch',\n",
      " 'Ticket',\n",
      " 'Fare',\n",
      " 'Cabin',\n",
      " 'Embarked']\n"
     ]
    }
   ],
   "execution_count": 13
  },
  {
   "cell_type": "code",
   "id": "fb0b0807-4c82-4ddf-8173-e49b8aea134a",
   "metadata": {
    "colab": {
     "base_uri": "https://localhost:8080/",
     "height": 467
    },
    "id": "fb0b0807-4c82-4ddf-8173-e49b8aea134a",
    "outputId": "79ec1afb-bb77-4fce-c604-c1432235c8d2",
    "ExecuteTime": {
     "end_time": "2025-10-03T22:37:11.239167Z",
     "start_time": "2025-10-03T22:37:11.206766Z"
    }
   },
   "source": [
    "train_df.dtypes"
   ],
   "outputs": [
    {
     "data": {
      "text/plain": [
       "Survived      int64\n",
       "Pclass        int64\n",
       "Name         object\n",
       "Sex          object\n",
       "Age         float64\n",
       "SibSp         int64\n",
       "Parch         int64\n",
       "Ticket       object\n",
       "Fare        float64\n",
       "Cabin        object\n",
       "Embarked     object\n",
       "dtype: object"
      ]
     },
     "execution_count": 14,
     "metadata": {},
     "output_type": "execute_result"
    }
   ],
   "execution_count": 14
  },
  {
   "cell_type": "markdown",
   "id": "ebbff283-1f8a-4b69-8e9a-2e1c64e63ac9",
   "metadata": {
    "id": "ebbff283-1f8a-4b69-8e9a-2e1c64e63ac9",
    "jp-MarkdownHeadingCollapsed": true
   },
   "source": [
    "#### i) Converting train data frame low unique values"
   ]
  },
  {
   "cell_type": "code",
   "id": "7893e5bb-4395-4727-9147-a073fa28a783",
   "metadata": {
    "colab": {
     "base_uri": "https://localhost:8080/",
     "height": 467
    },
    "id": "7893e5bb-4395-4727-9147-a073fa28a783",
    "outputId": "4c9bfbd2-a14b-4029-c096-b475d9afb890",
    "ExecuteTime": {
     "end_time": "2025-10-03T22:37:11.325816Z",
     "start_time": "2025-10-03T22:37:11.254852Z"
    }
   },
   "source": [
    "def convert_low_unique_value_to_str(data: pd.DataFrame) -> pd.DataFrame:\n",
    "    \"\"\"\n",
    "    Convert low unique values columns to string.\n",
    "\n",
    "    Args\n",
    "    ----\n",
    "    data: Dataframe to change low unique columns.\n",
    "\n",
    "    :return: Dataframe.\n",
    "    \"\"\"\n",
    "    # Change Survived, Pclass, SibSp and Parch to string data type for analysis.\n",
    "    data_copy = data.copy()\n",
    "\n",
    "    # Loop over the column name to turn to object\n",
    "    for col in (\"Survived\", \"Pclass\", \"SibSp\", \"Parch\"):\n",
    "        data_copy[col] = data_copy[col].astype(str)\n",
    "\n",
    "    return data_copy\n",
    "\n",
    "\n",
    "ana_train_data = convert_low_unique_value_to_str(train_df)\n",
    "ana_train_data.dtypes"
   ],
   "outputs": [
    {
     "data": {
      "text/plain": [
       "Survived     object\n",
       "Pclass       object\n",
       "Name         object\n",
       "Sex          object\n",
       "Age         float64\n",
       "SibSp        object\n",
       "Parch        object\n",
       "Ticket       object\n",
       "Fare        float64\n",
       "Cabin        object\n",
       "Embarked     object\n",
       "dtype: object"
      ]
     },
     "execution_count": 15,
     "metadata": {},
     "output_type": "execute_result"
    }
   ],
   "execution_count": 15
  },
  {
   "cell_type": "markdown",
   "id": "75b20ce5-4741-499c-9c5e-d519e4d77e0b",
   "metadata": {
    "id": "75b20ce5-4741-499c-9c5e-d519e4d77e0b"
   },
   "source": [
    "#### c) Data information"
   ]
  },
  {
   "cell_type": "code",
   "id": "e2195c1e-4272-4d56-a94c-591458c1eb7c",
   "metadata": {
    "colab": {
     "base_uri": "https://localhost:8080/"
    },
    "id": "e2195c1e-4272-4d56-a94c-591458c1eb7c",
    "outputId": "8dcb7d66-1ca3-4137-c1fe-1d6e08f753fd",
    "scrolled": true,
    "ExecuteTime": {
     "end_time": "2025-10-03T22:37:11.471277Z",
     "start_time": "2025-10-03T22:37:11.339721Z"
    }
   },
   "source": [
    "# Train data information.\n",
    "train_df.info()"
   ],
   "outputs": [
    {
     "name": "stdout",
     "output_type": "stream",
     "text": [
      "<class 'pandas.core.frame.DataFrame'>\n",
      "Index: 891 entries, 1 to 891\n",
      "Data columns (total 11 columns):\n",
      " #   Column    Non-Null Count  Dtype  \n",
      "---  ------    --------------  -----  \n",
      " 0   Survived  891 non-null    int64  \n",
      " 1   Pclass    891 non-null    int64  \n",
      " 2   Name      891 non-null    object \n",
      " 3   Sex       891 non-null    object \n",
      " 4   Age       714 non-null    float64\n",
      " 5   SibSp     891 non-null    int64  \n",
      " 6   Parch     891 non-null    int64  \n",
      " 7   Ticket    891 non-null    object \n",
      " 8   Fare      891 non-null    float64\n",
      " 9   Cabin     204 non-null    object \n",
      " 10  Embarked  889 non-null    object \n",
      "dtypes: float64(2), int64(4), object(5)\n",
      "memory usage: 83.5+ KB\n"
     ]
    }
   ],
   "execution_count": 16
  },
  {
   "cell_type": "code",
   "id": "00a99b72-fc52-4d0a-afad-800dc763f356",
   "metadata": {
    "colab": {
     "base_uri": "https://localhost:8080/"
    },
    "id": "00a99b72-fc52-4d0a-afad-800dc763f356",
    "outputId": "5b9d7b15-e5b7-42c2-c9ea-e1d28e9085b8",
    "ExecuteTime": {
     "end_time": "2025-10-03T22:37:11.500818Z",
     "start_time": "2025-10-03T22:37:11.484785Z"
    }
   },
   "source": [
    "# Test data information\n",
    "test_df.info()"
   ],
   "outputs": [
    {
     "name": "stdout",
     "output_type": "stream",
     "text": [
      "<class 'pandas.core.frame.DataFrame'>\n",
      "Index: 418 entries, 892 to 1309\n",
      "Data columns (total 10 columns):\n",
      " #   Column    Non-Null Count  Dtype  \n",
      "---  ------    --------------  -----  \n",
      " 0   Pclass    418 non-null    int64  \n",
      " 1   Name      418 non-null    object \n",
      " 2   Sex       418 non-null    object \n",
      " 3   Age       332 non-null    float64\n",
      " 4   SibSp     418 non-null    int64  \n",
      " 5   Parch     418 non-null    int64  \n",
      " 6   Ticket    418 non-null    object \n",
      " 7   Fare      417 non-null    float64\n",
      " 8   Cabin     91 non-null     object \n",
      " 9   Embarked  418 non-null    object \n",
      "dtypes: float64(2), int64(3), object(5)\n",
      "memory usage: 35.9+ KB\n"
     ]
    }
   ],
   "execution_count": 17
  },
  {
   "cell_type": "markdown",
   "id": "28e7e1c4-8686-42da-8cd3-57d8cef62f0f",
   "metadata": {
    "id": "28e7e1c4-8686-42da-8cd3-57d8cef62f0f",
    "jp-MarkdownHeadingCollapsed": true
   },
   "source": [
    "#### d) Describing the data"
   ]
  },
  {
   "cell_type": "code",
   "id": "99816fe2-5087-4d0f-ac8d-eb19a2d75409",
   "metadata": {
    "colab": {
     "base_uri": "https://localhost:8080/",
     "height": 258
    },
    "id": "99816fe2-5087-4d0f-ac8d-eb19a2d75409",
    "outputId": "3b950e70-86f6-4fa8-a694-9c68345bd429",
    "ExecuteTime": {
     "end_time": "2025-10-03T22:37:11.613180Z",
     "start_time": "2025-10-03T22:37:11.514933Z"
    }
   },
   "source": [
    "# Train dataframe description\n",
    "train_df.describe().T"
   ],
   "outputs": [
    {
     "data": {
      "text/plain": [
       "          count       mean        std   min      25%      50%   75%       max\n",
       "Survived  891.0   0.383838   0.486592  0.00   0.0000   0.0000   1.0    1.0000\n",
       "Pclass    891.0   2.308642   0.836071  1.00   2.0000   3.0000   3.0    3.0000\n",
       "Age       714.0  29.699118  14.526497  0.42  20.1250  28.0000  38.0   80.0000\n",
       "SibSp     891.0   0.523008   1.102743  0.00   0.0000   0.0000   1.0    8.0000\n",
       "Parch     891.0   0.381594   0.806057  0.00   0.0000   0.0000   0.0    6.0000\n",
       "Fare      891.0  32.204208  49.693429  0.00   7.9104  14.4542  31.0  512.3292"
      ],
      "text/html": [
       "<div>\n",
       "<style scoped>\n",
       "    .dataframe tbody tr th:only-of-type {\n",
       "        vertical-align: middle;\n",
       "    }\n",
       "\n",
       "    .dataframe tbody tr th {\n",
       "        vertical-align: top;\n",
       "    }\n",
       "\n",
       "    .dataframe thead th {\n",
       "        text-align: right;\n",
       "    }\n",
       "</style>\n",
       "<table border=\"1\" class=\"dataframe\">\n",
       "  <thead>\n",
       "    <tr style=\"text-align: right;\">\n",
       "      <th></th>\n",
       "      <th>count</th>\n",
       "      <th>mean</th>\n",
       "      <th>std</th>\n",
       "      <th>min</th>\n",
       "      <th>25%</th>\n",
       "      <th>50%</th>\n",
       "      <th>75%</th>\n",
       "      <th>max</th>\n",
       "    </tr>\n",
       "  </thead>\n",
       "  <tbody>\n",
       "    <tr>\n",
       "      <th>Survived</th>\n",
       "      <td>891.0</td>\n",
       "      <td>0.383838</td>\n",
       "      <td>0.486592</td>\n",
       "      <td>0.00</td>\n",
       "      <td>0.0000</td>\n",
       "      <td>0.0000</td>\n",
       "      <td>1.0</td>\n",
       "      <td>1.0000</td>\n",
       "    </tr>\n",
       "    <tr>\n",
       "      <th>Pclass</th>\n",
       "      <td>891.0</td>\n",
       "      <td>2.308642</td>\n",
       "      <td>0.836071</td>\n",
       "      <td>1.00</td>\n",
       "      <td>2.0000</td>\n",
       "      <td>3.0000</td>\n",
       "      <td>3.0</td>\n",
       "      <td>3.0000</td>\n",
       "    </tr>\n",
       "    <tr>\n",
       "      <th>Age</th>\n",
       "      <td>714.0</td>\n",
       "      <td>29.699118</td>\n",
       "      <td>14.526497</td>\n",
       "      <td>0.42</td>\n",
       "      <td>20.1250</td>\n",
       "      <td>28.0000</td>\n",
       "      <td>38.0</td>\n",
       "      <td>80.0000</td>\n",
       "    </tr>\n",
       "    <tr>\n",
       "      <th>SibSp</th>\n",
       "      <td>891.0</td>\n",
       "      <td>0.523008</td>\n",
       "      <td>1.102743</td>\n",
       "      <td>0.00</td>\n",
       "      <td>0.0000</td>\n",
       "      <td>0.0000</td>\n",
       "      <td>1.0</td>\n",
       "      <td>8.0000</td>\n",
       "    </tr>\n",
       "    <tr>\n",
       "      <th>Parch</th>\n",
       "      <td>891.0</td>\n",
       "      <td>0.381594</td>\n",
       "      <td>0.806057</td>\n",
       "      <td>0.00</td>\n",
       "      <td>0.0000</td>\n",
       "      <td>0.0000</td>\n",
       "      <td>0.0</td>\n",
       "      <td>6.0000</td>\n",
       "    </tr>\n",
       "    <tr>\n",
       "      <th>Fare</th>\n",
       "      <td>891.0</td>\n",
       "      <td>32.204208</td>\n",
       "      <td>49.693429</td>\n",
       "      <td>0.00</td>\n",
       "      <td>7.9104</td>\n",
       "      <td>14.4542</td>\n",
       "      <td>31.0</td>\n",
       "      <td>512.3292</td>\n",
       "    </tr>\n",
       "  </tbody>\n",
       "</table>\n",
       "</div>"
      ]
     },
     "execution_count": 18,
     "metadata": {},
     "output_type": "execute_result"
    }
   ],
   "execution_count": 18
  },
  {
   "cell_type": "markdown",
   "id": "6b78a8b5-4a3a-44df-8b29-fd956f3f36b2",
   "metadata": {
    "id": "6b78a8b5-4a3a-44df-8b29-fd956f3f36b2"
   },
   "source": [
    "<p style=\"font-weight: bold; font-style: italic;\">Description of numerical columns in train data</p>"
   ]
  },
  {
   "cell_type": "code",
   "id": "8e98c0a0-b78a-4b22-9851-e027d73f1ddc",
   "metadata": {
    "colab": {
     "base_uri": "https://localhost:8080/",
     "height": 132
    },
    "id": "8e98c0a0-b78a-4b22-9851-e027d73f1ddc",
    "outputId": "26641692-4a7a-4e26-d300-f3791a247a71",
    "ExecuteTime": {
     "end_time": "2025-10-03T22:37:11.695382Z",
     "start_time": "2025-10-03T22:37:11.636696Z"
    }
   },
   "source": [
    "\n",
    "ana_train_data.describe().T"
   ],
   "outputs": [
    {
     "data": {
      "text/plain": [
       "      count       mean        std   min      25%      50%   75%       max\n",
       "Age   714.0  29.699118  14.526497  0.42  20.1250  28.0000  38.0   80.0000\n",
       "Fare  891.0  32.204208  49.693429  0.00   7.9104  14.4542  31.0  512.3292"
      ],
      "text/html": [
       "<div>\n",
       "<style scoped>\n",
       "    .dataframe tbody tr th:only-of-type {\n",
       "        vertical-align: middle;\n",
       "    }\n",
       "\n",
       "    .dataframe tbody tr th {\n",
       "        vertical-align: top;\n",
       "    }\n",
       "\n",
       "    .dataframe thead th {\n",
       "        text-align: right;\n",
       "    }\n",
       "</style>\n",
       "<table border=\"1\" class=\"dataframe\">\n",
       "  <thead>\n",
       "    <tr style=\"text-align: right;\">\n",
       "      <th></th>\n",
       "      <th>count</th>\n",
       "      <th>mean</th>\n",
       "      <th>std</th>\n",
       "      <th>min</th>\n",
       "      <th>25%</th>\n",
       "      <th>50%</th>\n",
       "      <th>75%</th>\n",
       "      <th>max</th>\n",
       "    </tr>\n",
       "  </thead>\n",
       "  <tbody>\n",
       "    <tr>\n",
       "      <th>Age</th>\n",
       "      <td>714.0</td>\n",
       "      <td>29.699118</td>\n",
       "      <td>14.526497</td>\n",
       "      <td>0.42</td>\n",
       "      <td>20.1250</td>\n",
       "      <td>28.0000</td>\n",
       "      <td>38.0</td>\n",
       "      <td>80.0000</td>\n",
       "    </tr>\n",
       "    <tr>\n",
       "      <th>Fare</th>\n",
       "      <td>891.0</td>\n",
       "      <td>32.204208</td>\n",
       "      <td>49.693429</td>\n",
       "      <td>0.00</td>\n",
       "      <td>7.9104</td>\n",
       "      <td>14.4542</td>\n",
       "      <td>31.0</td>\n",
       "      <td>512.3292</td>\n",
       "    </tr>\n",
       "  </tbody>\n",
       "</table>\n",
       "</div>"
      ]
     },
     "execution_count": 19,
     "metadata": {},
     "output_type": "execute_result"
    }
   ],
   "execution_count": 19
  },
  {
   "cell_type": "markdown",
   "id": "35ab9832-dfa2-4df0-acf6-8a37171bbc5e",
   "metadata": {
    "id": "35ab9832-dfa2-4df0-acf6-8a37171bbc5e"
   },
   "source": [
    "<p style=\"font-weight: bold; font-style: italic;\">Description of categorical columns in train data</p>"
   ]
  },
  {
   "cell_type": "code",
   "id": "63ea916a-bff3-4558-a37c-3bcdd30354fd",
   "metadata": {
    "colab": {
     "base_uri": "https://localhost:8080/",
     "height": 386
    },
    "id": "63ea916a-bff3-4558-a37c-3bcdd30354fd",
    "outputId": "62169e50-013a-45e8-83d5-2a9e2ee6bc8b",
    "ExecuteTime": {
     "end_time": "2025-10-03T22:37:11.764133Z",
     "start_time": "2025-10-03T22:37:11.714781Z"
    }
   },
   "source": [
    "ana_train_data.describe(exclude=float).T"
   ],
   "outputs": [
    {
     "data": {
      "text/plain": [
       "         count unique                      top freq\n",
       "Survived   891      2                        0  549\n",
       "Pclass     891      3                        3  491\n",
       "Name       891    891  Braund, Mr. Owen Harris    1\n",
       "Sex        891      2                     male  577\n",
       "SibSp      891      7                        0  608\n",
       "Parch      891      7                        0  678\n",
       "Ticket     891    681                   347082    7\n",
       "Cabin      204    147                  B96 B98    4\n",
       "Embarked   889      3                        S  644"
      ],
      "text/html": [
       "<div>\n",
       "<style scoped>\n",
       "    .dataframe tbody tr th:only-of-type {\n",
       "        vertical-align: middle;\n",
       "    }\n",
       "\n",
       "    .dataframe tbody tr th {\n",
       "        vertical-align: top;\n",
       "    }\n",
       "\n",
       "    .dataframe thead th {\n",
       "        text-align: right;\n",
       "    }\n",
       "</style>\n",
       "<table border=\"1\" class=\"dataframe\">\n",
       "  <thead>\n",
       "    <tr style=\"text-align: right;\">\n",
       "      <th></th>\n",
       "      <th>count</th>\n",
       "      <th>unique</th>\n",
       "      <th>top</th>\n",
       "      <th>freq</th>\n",
       "    </tr>\n",
       "  </thead>\n",
       "  <tbody>\n",
       "    <tr>\n",
       "      <th>Survived</th>\n",
       "      <td>891</td>\n",
       "      <td>2</td>\n",
       "      <td>0</td>\n",
       "      <td>549</td>\n",
       "    </tr>\n",
       "    <tr>\n",
       "      <th>Pclass</th>\n",
       "      <td>891</td>\n",
       "      <td>3</td>\n",
       "      <td>3</td>\n",
       "      <td>491</td>\n",
       "    </tr>\n",
       "    <tr>\n",
       "      <th>Name</th>\n",
       "      <td>891</td>\n",
       "      <td>891</td>\n",
       "      <td>Braund, Mr. Owen Harris</td>\n",
       "      <td>1</td>\n",
       "    </tr>\n",
       "    <tr>\n",
       "      <th>Sex</th>\n",
       "      <td>891</td>\n",
       "      <td>2</td>\n",
       "      <td>male</td>\n",
       "      <td>577</td>\n",
       "    </tr>\n",
       "    <tr>\n",
       "      <th>SibSp</th>\n",
       "      <td>891</td>\n",
       "      <td>7</td>\n",
       "      <td>0</td>\n",
       "      <td>608</td>\n",
       "    </tr>\n",
       "    <tr>\n",
       "      <th>Parch</th>\n",
       "      <td>891</td>\n",
       "      <td>7</td>\n",
       "      <td>0</td>\n",
       "      <td>678</td>\n",
       "    </tr>\n",
       "    <tr>\n",
       "      <th>Ticket</th>\n",
       "      <td>891</td>\n",
       "      <td>681</td>\n",
       "      <td>347082</td>\n",
       "      <td>7</td>\n",
       "    </tr>\n",
       "    <tr>\n",
       "      <th>Cabin</th>\n",
       "      <td>204</td>\n",
       "      <td>147</td>\n",
       "      <td>B96 B98</td>\n",
       "      <td>4</td>\n",
       "    </tr>\n",
       "    <tr>\n",
       "      <th>Embarked</th>\n",
       "      <td>889</td>\n",
       "      <td>3</td>\n",
       "      <td>S</td>\n",
       "      <td>644</td>\n",
       "    </tr>\n",
       "  </tbody>\n",
       "</table>\n",
       "</div>"
      ]
     },
     "execution_count": 20,
     "metadata": {},
     "output_type": "execute_result"
    }
   ],
   "execution_count": 20
  },
  {
   "cell_type": "markdown",
   "id": "a38b8daf-539e-475d-a891-30a3ae5a889c",
   "metadata": {
    "id": "a38b8daf-539e-475d-a891-30a3ae5a889c",
    "jp-MarkdownHeadingCollapsed": true
   },
   "source": [
    "## 5) **Data split**\n",
    "<p>Separate target from the data and then split the data into train and validation</p>"
   ]
  },
  {
   "cell_type": "code",
   "id": "fad4ae80-7c05-4dec-9503-d7fbe24ed6b1",
   "metadata": {
    "colab": {
     "base_uri": "https://localhost:8080/"
    },
    "id": "fad4ae80-7c05-4dec-9503-d7fbe24ed6b1",
    "outputId": "132c3c7d-f0c8-4095-ec79-a9de15f7d8b0",
    "ExecuteTime": {
     "end_time": "2025-10-03T22:37:11.818152Z",
     "start_time": "2025-10-03T22:37:11.777403Z"
    }
   },
   "source": [
    "# Target name.\n",
    "target_name = \"Survived\"\n",
    "\n",
    "# Separating target column from the feature columns.\n",
    "X = train_df.copy()\n",
    "y = X.pop(target_name).values.reshape(-1, 1)\n",
    "\n",
    "# View the shape X and y.\n",
    "print(f'''\n",
    "X shape: {X.shape}\n",
    "y shape: {y.shape}\n",
    "''')"
   ],
   "outputs": [
    {
     "name": "stdout",
     "output_type": "stream",
     "text": [
      "\n",
      "X shape: (891, 10)\n",
      "y shape: (891, 1)\n",
      "\n"
     ]
    }
   ],
   "execution_count": 21
  },
  {
   "cell_type": "code",
   "id": "63f7c9e4-8401-461a-83ba-fea6e9f0249d",
   "metadata": {
    "colab": {
     "base_uri": "https://localhost:8080/"
    },
    "id": "63f7c9e4-8401-461a-83ba-fea6e9f0249d",
    "outputId": "e32ab24b-7c65-4f4e-ea62-d5c467e0a4b5",
    "ExecuteTime": {
     "end_time": "2025-10-03T22:37:11.909713Z",
     "start_time": "2025-10-03T22:37:11.832914Z"
    }
   },
   "source": [
    "# 25 percent will be for test data.\n",
    "test_size = 0.25\n",
    "\n",
    "# 🪓 Splitting data into train and validation data.\n",
    "train_x, valid_x, train_y, valid_y = train_test_split(X, y, test_size=test_size)\n",
    "\n",
    "# View the shape of the data.\n",
    "print(f'''\n",
    "train_x shape: {train_x.shape}\n",
    "train_y shape: {train_y.shape}\n",
    "valid_x shape: {valid_x.shape}\n",
    "valid_y shape: {valid_y.shape}\n",
    "''')"
   ],
   "outputs": [
    {
     "name": "stdout",
     "output_type": "stream",
     "text": [
      "\n",
      "train_x shape: (668, 10)\n",
      "train_y shape: (668, 1)\n",
      "valid_x shape: (223, 10)\n",
      "valid_y shape: (223, 1)\n",
      "\n"
     ]
    }
   ],
   "execution_count": 22
  },
  {
   "cell_type": "markdown",
   "id": "569db3f6-aed1-4a2f-ac8a-15126a314794",
   "metadata": {
    "id": "569db3f6-aed1-4a2f-ac8a-15126a314794"
   },
   "source": [
    "## 6) **Data cleaning**\n",
    "<p>Modifying or removing data that is inaccurate, duplicate, incomplete, incorrectly formatted, or corrupted</p>"
   ]
  },
  {
   "cell_type": "markdown",
   "id": "c5a53948-c255-4c5d-b190-13daf7c45ba9",
   "metadata": {
    "id": "c5a53948-c255-4c5d-b190-13daf7c45ba9"
   },
   "source": [
    "### i) Check the missing values (NaN)\n",
    "<p>Search for missing value in the dataframes</p>"
   ]
  },
  {
   "cell_type": "code",
   "id": "ab9ec910-cbff-4b63-ba07-07f2fbd15ea3",
   "metadata": {
    "id": "ab9ec910-cbff-4b63-ba07-07f2fbd15ea3",
    "ExecuteTime": {
     "end_time": "2025-10-03T22:37:11.943108Z",
     "start_time": "2025-10-03T22:37:11.928212Z"
    }
   },
   "source": [
    "def check_n_nan(data: pd.DataFrame, only_nan: bool = True) -> pd.DataFrame:\n",
    "    \"\"\"\n",
    "    Represents the summary of missing data in the\n",
    "    data frame.\n",
    "\n",
    "    Parameters:\n",
    "    ----------\n",
    "    data: A data frame to check for missing data.\n",
    "\n",
    "    return: A dataframe with number of missing value (NaN) and the percentage.\n",
    "    \"\"\"\n",
    "    # Compute the total NaN for each column.\n",
    "    total_nan = data.isna().sum()\n",
    "\n",
    "    if only_nan:\n",
    "        total_nan = total_nan[total_nan > 0]\n",
    "\n",
    "    # Columns\n",
    "    column_names = total_nan.index\n",
    "\n",
    "    # Compute the percentage of missing data.\n",
    "    percentage = (((total_nan / data.shape[0]) * 100)\n",
    "                  .round(2)\n",
    "                  .astype(str)\n",
    "                  .map(lambda x: x + '%')\n",
    "                  )\n",
    "\n",
    "    return pd.DataFrame({\n",
    "        'columns': column_names,\n",
    "        'total_nan': total_nan,\n",
    "        'percent_nan': percentage\n",
    "    }).reset_index(drop=True)"
   ],
   "outputs": [],
   "execution_count": 23
  },
  {
   "cell_type": "code",
   "id": "71d6e8a8-1a60-4ce7-bfa2-cd93ae383fba",
   "metadata": {
    "id": "71d6e8a8-1a60-4ce7-bfa2-cd93ae383fba",
    "jupyter": {
     "source_hidden": true
    },
    "ExecuteTime": {
     "end_time": "2025-10-03T22:37:11.984257Z",
     "start_time": "2025-10-03T22:37:11.965061Z"
    }
   },
   "source": [
    "def plot_nan(data: pd.DataFrame, name: str | None = None, only_nan: bool = True, use_percent=False) -> None:\n",
    "    nan_df = check_n_nan(data, only_nan)\n",
    "    nan_df['percent_nan'] = nan_df['percent_nan'].str.replace('%', '').astype(float).round().astype(int)\n",
    "\n",
    "    radius = 5\n",
    "    y_name = 'percent_nan' if use_percent else 'total_nan'\n",
    "    startup_title = 'Percentage' if use_percent else 'Number'\n",
    "    y_title = f'{startup_title} of missing values'\n",
    "    y_name = alt.Y(y_name).title(y_title)\n",
    "    name = name if name else 'a dataset'\n",
    "    title = f'{startup_title} Of Missing values In {name.title()}'\n",
    "    subtitle = f'A chart represents missing data in {name}'\n",
    "\n",
    "    base = alt.Chart(\n",
    "        nan_df,\n",
    "        title=alt.Title(\n",
    "            title,\n",
    "            subtitle=subtitle,\n",
    "            anchor='start',\n",
    "        )\n",
    "    ).mark_bar(\n",
    "        cornerRadiusTopLeft=radius,\n",
    "        cornerRadiusTopRight=radius\n",
    "    ).encode(\n",
    "        x=alt.X('columns').title('Columns names'),\n",
    "        y=y_name,\n",
    "        color=alt.Color('columns').scale(\n",
    "            scheme='lightgreyred',\n",
    "            reverse=True\n",
    "        ).legend(orient='right'),\n",
    "        tooltip=[\"columns\", \"total_nan\", 'percent_nan'],\n",
    "        text='columns'\n",
    "    ).configure_axis(\n",
    "        grid=False\n",
    "    ).configure_view(\n",
    "        stroke=None\n",
    "    )\n",
    "\n",
    "    return base"
   ],
   "outputs": [],
   "execution_count": 24
  },
  {
   "cell_type": "markdown",
   "id": "907a7417-4dc5-4c7a-89f1-f5ca107291fb",
   "metadata": {
    "id": "907a7417-4dc5-4c7a-89f1-f5ca107291fb"
   },
   "source": [
    "#### a) Observing missing data in train and validation data"
   ]
  },
  {
   "cell_type": "markdown",
   "id": "d222933d-935b-48e9-ada5-9f5487dc2158",
   "metadata": {
    "id": "d222933d-935b-48e9-ada5-9f5487dc2158"
   },
   "source": [
    "##### One) X train dataset"
   ]
  },
  {
   "cell_type": "code",
   "id": "321fb63b-d441-4d2b-9e09-13d61256ab41",
   "metadata": {
    "colab": {
     "base_uri": "https://localhost:8080/",
     "height": 163
    },
    "id": "321fb63b-d441-4d2b-9e09-13d61256ab41",
    "outputId": "3b76bf18-697b-4aca-b00c-772c8cd904ab",
    "ExecuteTime": {
     "end_time": "2025-10-03T22:37:12.017629Z",
     "start_time": "2025-10-03T22:37:11.998181Z"
    }
   },
   "source": [
    "check_n_nan(train_x)"
   ],
   "outputs": [
    {
     "data": {
      "text/plain": [
       "    columns  total_nan percent_nan\n",
       "0       Age        133      19.91%\n",
       "1     Cabin        509       76.2%\n",
       "2  Embarked          2        0.3%"
      ],
      "text/html": [
       "<div>\n",
       "<style scoped>\n",
       "    .dataframe tbody tr th:only-of-type {\n",
       "        vertical-align: middle;\n",
       "    }\n",
       "\n",
       "    .dataframe tbody tr th {\n",
       "        vertical-align: top;\n",
       "    }\n",
       "\n",
       "    .dataframe thead th {\n",
       "        text-align: right;\n",
       "    }\n",
       "</style>\n",
       "<table border=\"1\" class=\"dataframe\">\n",
       "  <thead>\n",
       "    <tr style=\"text-align: right;\">\n",
       "      <th></th>\n",
       "      <th>columns</th>\n",
       "      <th>total_nan</th>\n",
       "      <th>percent_nan</th>\n",
       "    </tr>\n",
       "  </thead>\n",
       "  <tbody>\n",
       "    <tr>\n",
       "      <th>0</th>\n",
       "      <td>Age</td>\n",
       "      <td>133</td>\n",
       "      <td>19.91%</td>\n",
       "    </tr>\n",
       "    <tr>\n",
       "      <th>1</th>\n",
       "      <td>Cabin</td>\n",
       "      <td>509</td>\n",
       "      <td>76.2%</td>\n",
       "    </tr>\n",
       "    <tr>\n",
       "      <th>2</th>\n",
       "      <td>Embarked</td>\n",
       "      <td>2</td>\n",
       "      <td>0.3%</td>\n",
       "    </tr>\n",
       "  </tbody>\n",
       "</table>\n",
       "</div>"
      ]
     },
     "execution_count": 25,
     "metadata": {},
     "output_type": "execute_result"
    }
   ],
   "execution_count": 25
  },
  {
   "cell_type": "code",
   "id": "b3f6aa76-3d6e-4be5-8c68-34f0e6232b01",
   "metadata": {
    "colab": {
     "base_uri": "https://localhost:8080/",
     "height": 460
    },
    "id": "b3f6aa76-3d6e-4be5-8c68-34f0e6232b01",
    "outputId": "e4b0c512-9b87-4a0f-b452-34c3d48b34d1",
    "ExecuteTime": {
     "end_time": "2025-10-03T22:37:12.875126Z",
     "start_time": "2025-10-03T22:37:12.032334Z"
    }
   },
   "source": [
    "plot_nan(\n",
    "    train_x,\n",
    "    name='x train dataset',\n",
    "    only_nan=False\n",
    ")"
   ],
   "outputs": [
    {
     "data": {
      "application/vnd.vegalite.v5+json": {
       "config": {
        "view": {
         "continuousWidth": 300,
         "continuousHeight": 300,
         "stroke": null
        },
        "axis": {
         "grid": false
        }
       },
       "data": {
        "name": "data-53e8d531cf30c6465984b098a62020da"
       },
       "mark": {
        "type": "bar",
        "cornerRadiusTopLeft": 5,
        "cornerRadiusTopRight": 5
       },
       "encoding": {
        "color": {
         "field": "columns",
         "legend": {
          "orient": "right"
         },
         "scale": {
          "scheme": "lightgreyred",
          "reverse": true
         },
         "type": "nominal"
        },
        "text": {
         "field": "columns",
         "type": "nominal"
        },
        "tooltip": [
         {
          "field": "columns",
          "type": "nominal"
         },
         {
          "field": "total_nan",
          "type": "quantitative"
         },
         {
          "field": "percent_nan",
          "type": "quantitative"
         }
        ],
        "x": {
         "field": "columns",
         "title": "Columns names",
         "type": "nominal"
        },
        "y": {
         "field": "total_nan",
         "title": "Number of missing values",
         "type": "quantitative"
        }
       },
       "title": {
        "text": "Number Of Missing values In X Train Dataset",
        "anchor": "start",
        "subtitle": "A chart represents missing data in x train dataset"
       },
       "$schema": "https://vega.github.io/schema/vega-lite/v5.20.1.json",
       "datasets": {
        "data-53e8d531cf30c6465984b098a62020da": [
         {
          "columns": "Pclass",
          "total_nan": 0,
          "percent_nan": 0
         },
         {
          "columns": "Name",
          "total_nan": 0,
          "percent_nan": 0
         },
         {
          "columns": "Sex",
          "total_nan": 0,
          "percent_nan": 0
         },
         {
          "columns": "Age",
          "total_nan": 133,
          "percent_nan": 20
         },
         {
          "columns": "SibSp",
          "total_nan": 0,
          "percent_nan": 0
         },
         {
          "columns": "Parch",
          "total_nan": 0,
          "percent_nan": 0
         },
         {
          "columns": "Ticket",
          "total_nan": 0,
          "percent_nan": 0
         },
         {
          "columns": "Fare",
          "total_nan": 0,
          "percent_nan": 0
         },
         {
          "columns": "Cabin",
          "total_nan": 509,
          "percent_nan": 76
         },
         {
          "columns": "Embarked",
          "total_nan": 2,
          "percent_nan": 0
         }
        ]
       }
      },
      "text/plain": [
       "<VegaLite 5 object>\n",
       "\n",
       "If you see this message, it means the renderer has not been properly enabled\n",
       "for the frontend that you are using. For more information, see\n",
       "https://altair-viz.github.io/user_guide/display_frontends.html#troubleshooting\n"
      ]
     },
     "execution_count": 26,
     "metadata": {},
     "output_type": "execute_result"
    }
   ],
   "execution_count": 26
  },
  {
   "cell_type": "markdown",
   "id": "e5ea56f0-1bbc-4a11-bad3-ee762c844f84",
   "metadata": {
    "id": "e5ea56f0-1bbc-4a11-bad3-ee762c844f84"
   },
   "source": [
    "**conclusion:** X train data sample contains missing data of 21.11%(141) of Age column, 78.29%(523) of cabin column and 0.3%(2) of Embarked column are the amount of missing data in the dataset from the data size of 668."
   ]
  },
  {
   "cell_type": "markdown",
   "id": "dcff054d-4751-4b4d-9058-c7a24bf11d68",
   "metadata": {
    "id": "dcff054d-4751-4b4d-9058-c7a24bf11d68",
    "jp-MarkdownHeadingCollapsed": true
   },
   "source": [
    "##### Two) X validation dataset"
   ]
  },
  {
   "cell_type": "code",
   "id": "b8715e3e-853c-4d18-8174-9e2690f29260",
   "metadata": {
    "colab": {
     "base_uri": "https://localhost:8080/",
     "height": 163
    },
    "editable": true,
    "id": "b8715e3e-853c-4d18-8174-9e2690f29260",
    "outputId": "9ef9673b-fd59-40b8-ce9c-fe9d338f6a60",
    "tags": [],
    "ExecuteTime": {
     "end_time": "2025-10-03T22:37:12.904521Z",
     "start_time": "2025-10-03T22:37:12.887911Z"
    }
   },
   "source": [
    "check_n_nan(valid_x)"
   ],
   "outputs": [
    {
     "data": {
      "text/plain": [
       "  columns  total_nan percent_nan\n",
       "0     Age         44      19.73%\n",
       "1   Cabin        178      79.82%"
      ],
      "text/html": [
       "<div>\n",
       "<style scoped>\n",
       "    .dataframe tbody tr th:only-of-type {\n",
       "        vertical-align: middle;\n",
       "    }\n",
       "\n",
       "    .dataframe tbody tr th {\n",
       "        vertical-align: top;\n",
       "    }\n",
       "\n",
       "    .dataframe thead th {\n",
       "        text-align: right;\n",
       "    }\n",
       "</style>\n",
       "<table border=\"1\" class=\"dataframe\">\n",
       "  <thead>\n",
       "    <tr style=\"text-align: right;\">\n",
       "      <th></th>\n",
       "      <th>columns</th>\n",
       "      <th>total_nan</th>\n",
       "      <th>percent_nan</th>\n",
       "    </tr>\n",
       "  </thead>\n",
       "  <tbody>\n",
       "    <tr>\n",
       "      <th>0</th>\n",
       "      <td>Age</td>\n",
       "      <td>44</td>\n",
       "      <td>19.73%</td>\n",
       "    </tr>\n",
       "    <tr>\n",
       "      <th>1</th>\n",
       "      <td>Cabin</td>\n",
       "      <td>178</td>\n",
       "      <td>79.82%</td>\n",
       "    </tr>\n",
       "  </tbody>\n",
       "</table>\n",
       "</div>"
      ]
     },
     "execution_count": 27,
     "metadata": {},
     "output_type": "execute_result"
    }
   ],
   "execution_count": 27
  },
  {
   "cell_type": "code",
   "id": "32fa3466-5591-4ccf-a15f-2f741871286b",
   "metadata": {
    "colab": {
     "base_uri": "https://localhost:8080/",
     "height": 460
    },
    "id": "32fa3466-5591-4ccf-a15f-2f741871286b",
    "outputId": "31f9e002-3d69-4ef4-d49e-5a61bbf96ad1",
    "ExecuteTime": {
     "end_time": "2025-10-03T22:37:13.000687Z",
     "start_time": "2025-10-03T22:37:12.918569Z"
    }
   },
   "source": [
    "plot_nan(\n",
    "    valid_x,\n",
    "    name='x validation dataset',\n",
    "    only_nan=False,\n",
    "    use_percent=True\n",
    ")"
   ],
   "outputs": [
    {
     "data": {
      "application/vnd.vegalite.v5+json": {
       "config": {
        "view": {
         "continuousWidth": 300,
         "continuousHeight": 300,
         "stroke": null
        },
        "axis": {
         "grid": false
        }
       },
       "data": {
        "name": "data-83c01f68eee7b4174cfa7370e8892d12"
       },
       "mark": {
        "type": "bar",
        "cornerRadiusTopLeft": 5,
        "cornerRadiusTopRight": 5
       },
       "encoding": {
        "color": {
         "field": "columns",
         "legend": {
          "orient": "right"
         },
         "scale": {
          "scheme": "lightgreyred",
          "reverse": true
         },
         "type": "nominal"
        },
        "text": {
         "field": "columns",
         "type": "nominal"
        },
        "tooltip": [
         {
          "field": "columns",
          "type": "nominal"
         },
         {
          "field": "total_nan",
          "type": "quantitative"
         },
         {
          "field": "percent_nan",
          "type": "quantitative"
         }
        ],
        "x": {
         "field": "columns",
         "title": "Columns names",
         "type": "nominal"
        },
        "y": {
         "field": "percent_nan",
         "title": "Percentage of missing values",
         "type": "quantitative"
        }
       },
       "title": {
        "text": "Percentage Of Missing values In X Validation Dataset",
        "anchor": "start",
        "subtitle": "A chart represents missing data in x validation dataset"
       },
       "$schema": "https://vega.github.io/schema/vega-lite/v5.20.1.json",
       "datasets": {
        "data-83c01f68eee7b4174cfa7370e8892d12": [
         {
          "columns": "Pclass",
          "total_nan": 0,
          "percent_nan": 0
         },
         {
          "columns": "Name",
          "total_nan": 0,
          "percent_nan": 0
         },
         {
          "columns": "Sex",
          "total_nan": 0,
          "percent_nan": 0
         },
         {
          "columns": "Age",
          "total_nan": 44,
          "percent_nan": 20
         },
         {
          "columns": "SibSp",
          "total_nan": 0,
          "percent_nan": 0
         },
         {
          "columns": "Parch",
          "total_nan": 0,
          "percent_nan": 0
         },
         {
          "columns": "Ticket",
          "total_nan": 0,
          "percent_nan": 0
         },
         {
          "columns": "Fare",
          "total_nan": 0,
          "percent_nan": 0
         },
         {
          "columns": "Cabin",
          "total_nan": 178,
          "percent_nan": 80
         },
         {
          "columns": "Embarked",
          "total_nan": 0,
          "percent_nan": 0
         }
        ]
       }
      },
      "text/plain": [
       "<VegaLite 5 object>\n",
       "\n",
       "If you see this message, it means the renderer has not been properly enabled\n",
       "for the frontend that you are using. For more information, see\n",
       "https://altair-viz.github.io/user_guide/display_frontends.html#troubleshooting\n"
      ]
     },
     "execution_count": 28,
     "metadata": {},
     "output_type": "execute_result"
    }
   ],
   "execution_count": 28
  },
  {
   "cell_type": "markdown",
   "id": "70cb1ef4-1b8f-4892-a56f-f2ebe9349ee4",
   "metadata": {
    "id": "70cb1ef4-1b8f-4892-a56f-f2ebe9349ee4"
   },
   "source": [
    "**conclusion:** In X validation data sample there are 16.14%(36) of Age column and 73.54%(164) of cabin column are the amount of missing data in the dataset from the data size of 223."
   ]
  },
  {
   "cell_type": "markdown",
   "id": "bb47e119-64ce-4244-b63f-689391592150",
   "metadata": {
    "id": "bb47e119-64ce-4244-b63f-689391592150"
   },
   "source": [
    "#### b) Observing missing data in test dataset"
   ]
  },
  {
   "cell_type": "code",
   "id": "2e672b30-9557-411d-b6b5-817485fba03f",
   "metadata": {
    "colab": {
     "base_uri": "https://localhost:8080/",
     "height": 163
    },
    "id": "2e672b30-9557-411d-b6b5-817485fba03f",
    "outputId": "85ae587c-1e0e-4e70-d1f1-7b93d97611fa",
    "ExecuteTime": {
     "end_time": "2025-10-03T22:37:13.028980Z",
     "start_time": "2025-10-03T22:37:13.012690Z"
    }
   },
   "source": [
    "check_n_nan(test_df)"
   ],
   "outputs": [
    {
     "data": {
      "text/plain": [
       "  columns  total_nan percent_nan\n",
       "0     Age         86      20.57%\n",
       "1    Fare          1       0.24%\n",
       "2   Cabin        327      78.23%"
      ],
      "text/html": [
       "<div>\n",
       "<style scoped>\n",
       "    .dataframe tbody tr th:only-of-type {\n",
       "        vertical-align: middle;\n",
       "    }\n",
       "\n",
       "    .dataframe tbody tr th {\n",
       "        vertical-align: top;\n",
       "    }\n",
       "\n",
       "    .dataframe thead th {\n",
       "        text-align: right;\n",
       "    }\n",
       "</style>\n",
       "<table border=\"1\" class=\"dataframe\">\n",
       "  <thead>\n",
       "    <tr style=\"text-align: right;\">\n",
       "      <th></th>\n",
       "      <th>columns</th>\n",
       "      <th>total_nan</th>\n",
       "      <th>percent_nan</th>\n",
       "    </tr>\n",
       "  </thead>\n",
       "  <tbody>\n",
       "    <tr>\n",
       "      <th>0</th>\n",
       "      <td>Age</td>\n",
       "      <td>86</td>\n",
       "      <td>20.57%</td>\n",
       "    </tr>\n",
       "    <tr>\n",
       "      <th>1</th>\n",
       "      <td>Fare</td>\n",
       "      <td>1</td>\n",
       "      <td>0.24%</td>\n",
       "    </tr>\n",
       "    <tr>\n",
       "      <th>2</th>\n",
       "      <td>Cabin</td>\n",
       "      <td>327</td>\n",
       "      <td>78.23%</td>\n",
       "    </tr>\n",
       "  </tbody>\n",
       "</table>\n",
       "</div>"
      ]
     },
     "execution_count": 29,
     "metadata": {},
     "output_type": "execute_result"
    }
   ],
   "execution_count": 29
  },
  {
   "cell_type": "code",
   "id": "606251fa-a05f-430b-b372-5aa5209d3dea",
   "metadata": {
    "colab": {
     "base_uri": "https://localhost:8080/",
     "height": 460
    },
    "id": "606251fa-a05f-430b-b372-5aa5209d3dea",
    "outputId": "a5eea612-9b2b-4742-8165-bc8cac63dde8",
    "ExecuteTime": {
     "end_time": "2025-10-03T22:37:13.119102Z",
     "start_time": "2025-10-03T22:37:13.042485Z"
    }
   },
   "source": [
    "plot_nan(\n",
    "    test_df,\n",
    "    name='test dataset',\n",
    "    only_nan=False,\n",
    "    use_percent=False\n",
    ")"
   ],
   "outputs": [
    {
     "data": {
      "application/vnd.vegalite.v5+json": {
       "config": {
        "view": {
         "continuousWidth": 300,
         "continuousHeight": 300,
         "stroke": null
        },
        "axis": {
         "grid": false
        }
       },
       "data": {
        "name": "data-dcb125812a966ffd090a54dbd7db12b3"
       },
       "mark": {
        "type": "bar",
        "cornerRadiusTopLeft": 5,
        "cornerRadiusTopRight": 5
       },
       "encoding": {
        "color": {
         "field": "columns",
         "legend": {
          "orient": "right"
         },
         "scale": {
          "scheme": "lightgreyred",
          "reverse": true
         },
         "type": "nominal"
        },
        "text": {
         "field": "columns",
         "type": "nominal"
        },
        "tooltip": [
         {
          "field": "columns",
          "type": "nominal"
         },
         {
          "field": "total_nan",
          "type": "quantitative"
         },
         {
          "field": "percent_nan",
          "type": "quantitative"
         }
        ],
        "x": {
         "field": "columns",
         "title": "Columns names",
         "type": "nominal"
        },
        "y": {
         "field": "total_nan",
         "title": "Number of missing values",
         "type": "quantitative"
        }
       },
       "title": {
        "text": "Number Of Missing values In Test Dataset",
        "anchor": "start",
        "subtitle": "A chart represents missing data in test dataset"
       },
       "$schema": "https://vega.github.io/schema/vega-lite/v5.20.1.json",
       "datasets": {
        "data-dcb125812a966ffd090a54dbd7db12b3": [
         {
          "columns": "Pclass",
          "total_nan": 0,
          "percent_nan": 0
         },
         {
          "columns": "Name",
          "total_nan": 0,
          "percent_nan": 0
         },
         {
          "columns": "Sex",
          "total_nan": 0,
          "percent_nan": 0
         },
         {
          "columns": "Age",
          "total_nan": 86,
          "percent_nan": 21
         },
         {
          "columns": "SibSp",
          "total_nan": 0,
          "percent_nan": 0
         },
         {
          "columns": "Parch",
          "total_nan": 0,
          "percent_nan": 0
         },
         {
          "columns": "Ticket",
          "total_nan": 0,
          "percent_nan": 0
         },
         {
          "columns": "Fare",
          "total_nan": 1,
          "percent_nan": 0
         },
         {
          "columns": "Cabin",
          "total_nan": 327,
          "percent_nan": 78
         },
         {
          "columns": "Embarked",
          "total_nan": 0,
          "percent_nan": 0
         }
        ]
       }
      },
      "text/plain": [
       "<VegaLite 5 object>\n",
       "\n",
       "If you see this message, it means the renderer has not been properly enabled\n",
       "for the frontend that you are using. For more information, see\n",
       "https://altair-viz.github.io/user_guide/display_frontends.html#troubleshooting\n"
      ]
     },
     "execution_count": 30,
     "metadata": {},
     "output_type": "execute_result"
    }
   ],
   "execution_count": 30
  },
  {
   "cell_type": "markdown",
   "id": "e3ea0e25-6bb5-408f-8671-709f7f0aa02a",
   "metadata": {
    "id": "e3ea0e25-6bb5-408f-8671-709f7f0aa02a"
   },
   "source": [
    "**conclusion:** The test data frame contains missing data of 20.57%(86) of Age column, 78.23%(327) of cabin column and 0.24%(1) of Fare column are the amount of missing data in the dataset from the data size of 418."
   ]
  },
  {
   "cell_type": "markdown",
   "id": "1fG6lnoslyaM",
   "metadata": {
    "id": "1fG6lnoslyaM",
    "jp-MarkdownHeadingCollapsed": true
   },
   "source": [
    "### ii) Handling the missing values (NaN)\n",
    "<p>Filling missing value in the dataframes</p>"
   ]
  },
  {
   "cell_type": "code",
   "id": "e41f939a-2218-475c-b5e4-f27ca50a8ee8",
   "metadata": {
    "id": "e41f939a-2218-475c-b5e4-f27ca50a8ee8",
    "ExecuteTime": {
     "end_time": "2025-10-03T22:37:13.146709Z",
     "start_time": "2025-10-03T22:37:13.133348Z"
    }
   },
   "source": [
    "class FillNaN:\n",
    "    def __init__(self, dfs: List[pd.DataFrame], fill_with: Dict[str, Any]) -> None:\n",
    "        self.dfs = dfs\n",
    "        self.fill_with = fill_with\n",
    "\n",
    "    @property\n",
    "    def fill(self) -> List[pd.DataFrame]:\n",
    "        \"\"\"\n",
    "        Fills missing values in the data frames.\n",
    "        :return: A tuple of data frames\n",
    "        \"\"\"\n",
    "        lst = []\n",
    "        for df in self.dfs:\n",
    "            for col, strat in self.fill_with.items():\n",
    "                df = self.strategy(df, strat=strat, col_name=col)\n",
    "            lst.append(df)\n",
    "        return lst\n",
    "\n",
    "    @staticmethod\n",
    "    def strategy(df: pd.DataFrame, strat: str, col_name: str) -> pd.DataFrame:\n",
    "        match strat:\n",
    "            case 'mean':\n",
    "                df[col_name] = df[col_name].fillna(df[col_name].mean())\n",
    "            case 'mode':\n",
    "                df[col_name] = df[col_name].fillna(df[col_name].mode()[0])\n",
    "            case 'min':\n",
    "                df[col_name] = df[col_name].fillna(df[col_name].min())\n",
    "            case 'max':\n",
    "                df[col_name] = df[col_name].fillna(df[col_name].max())\n",
    "            case 'median':\n",
    "                df[col_name] = df[col_name].fillna(df[col_name].median())\n",
    "            case 'bfill':\n",
    "                df[col_name] = df[col_name].bfill()\n",
    "            case 'ffill':\n",
    "                df[col_name] = df[col_name].ffill()\n",
    "            case \"drop\":\n",
    "                df = df.drop(col_name, axis=1)\n",
    "            case _:\n",
    "                raise ValueError(f\"Ooh, strategy has received invalid value `{strat}` for strat\")\n",
    "        return df"
   ],
   "outputs": [],
   "execution_count": 31
  },
  {
   "cell_type": "markdown",
   "id": "e02ac5a6-7db2-4163-81f2-05dbf6a25e3a",
   "metadata": {
    "id": "e02ac5a6-7db2-4163-81f2-05dbf6a25e3a"
   },
   "source": [
    "Filling the missing value in age with mean, Fare with ffill, Embarked with mode and Cabin with drop."
   ]
  },
  {
   "cell_type": "code",
   "id": "49baf8f2310caf73",
   "metadata": {
    "id": "49baf8f2310caf73",
    "ExecuteTime": {
     "end_time": "2025-10-03T22:37:13.180529Z",
     "start_time": "2025-10-03T22:37:13.165152Z"
    }
   },
   "source": [
    "fill = FillNaN(\n",
    "    [train_x, valid_x, test_df],\n",
    "    {\"Age\": \"mean\",\n",
    "     \"Fare\": \"ffill\",\n",
    "     \"Embarked\": \"mode\",\n",
    "     \"Cabin\": \"drop\"})"
   ],
   "outputs": [],
   "execution_count": 32
  },
  {
   "cell_type": "code",
   "id": "dd679420-5066-4f16-a720-b9afa7a94312",
   "metadata": {
    "id": "dd679420-5066-4f16-a720-b9afa7a94312",
    "ExecuteTime": {
     "end_time": "2025-10-03T22:37:13.234898Z",
     "start_time": "2025-10-03T22:37:13.192480Z"
    }
   },
   "source": [
    "clean_train_x, clean_valid_x, clean_test_df = fill.fill"
   ],
   "outputs": [],
   "execution_count": 33
  },
  {
   "cell_type": "markdown",
   "id": "3640be44-6901-4f13-b8f0-04f4867b45af",
   "metadata": {
    "id": "3640be44-6901-4f13-b8f0-04f4867b45af"
   },
   "source": [
    "Check if there still any missing values in the data."
   ]
  },
  {
   "cell_type": "markdown",
   "id": "c6c3ee03-6247-44c5-86ee-e3b1e5b5f004",
   "metadata": {
    "id": "c6c3ee03-6247-44c5-86ee-e3b1e5b5f004"
   },
   "source": [
    "**Clean train x**"
   ]
  },
  {
   "cell_type": "code",
   "id": "c4338507-507b-4e59-be64-732a3a200c69",
   "metadata": {
    "colab": {
     "base_uri": "https://localhost:8080/",
     "height": 332
    },
    "id": "c4338507-507b-4e59-be64-732a3a200c69",
    "outputId": "18236591-37ce-4fa8-fbbf-fcee3ca12b30",
    "ExecuteTime": {
     "end_time": "2025-10-03T22:37:13.260333Z",
     "start_time": "2025-10-03T22:37:13.244537Z"
    }
   },
   "source": [
    "check_n_nan(clean_train_x, only_nan=False)"
   ],
   "outputs": [
    {
     "data": {
      "text/plain": [
       "    columns  total_nan percent_nan\n",
       "0    Pclass          0        0.0%\n",
       "1      Name          0        0.0%\n",
       "2       Sex          0        0.0%\n",
       "3       Age          0        0.0%\n",
       "4     SibSp          0        0.0%\n",
       "5     Parch          0        0.0%\n",
       "6    Ticket          0        0.0%\n",
       "7      Fare          0        0.0%\n",
       "8  Embarked          0        0.0%"
      ],
      "text/html": [
       "<div>\n",
       "<style scoped>\n",
       "    .dataframe tbody tr th:only-of-type {\n",
       "        vertical-align: middle;\n",
       "    }\n",
       "\n",
       "    .dataframe tbody tr th {\n",
       "        vertical-align: top;\n",
       "    }\n",
       "\n",
       "    .dataframe thead th {\n",
       "        text-align: right;\n",
       "    }\n",
       "</style>\n",
       "<table border=\"1\" class=\"dataframe\">\n",
       "  <thead>\n",
       "    <tr style=\"text-align: right;\">\n",
       "      <th></th>\n",
       "      <th>columns</th>\n",
       "      <th>total_nan</th>\n",
       "      <th>percent_nan</th>\n",
       "    </tr>\n",
       "  </thead>\n",
       "  <tbody>\n",
       "    <tr>\n",
       "      <th>0</th>\n",
       "      <td>Pclass</td>\n",
       "      <td>0</td>\n",
       "      <td>0.0%</td>\n",
       "    </tr>\n",
       "    <tr>\n",
       "      <th>1</th>\n",
       "      <td>Name</td>\n",
       "      <td>0</td>\n",
       "      <td>0.0%</td>\n",
       "    </tr>\n",
       "    <tr>\n",
       "      <th>2</th>\n",
       "      <td>Sex</td>\n",
       "      <td>0</td>\n",
       "      <td>0.0%</td>\n",
       "    </tr>\n",
       "    <tr>\n",
       "      <th>3</th>\n",
       "      <td>Age</td>\n",
       "      <td>0</td>\n",
       "      <td>0.0%</td>\n",
       "    </tr>\n",
       "    <tr>\n",
       "      <th>4</th>\n",
       "      <td>SibSp</td>\n",
       "      <td>0</td>\n",
       "      <td>0.0%</td>\n",
       "    </tr>\n",
       "    <tr>\n",
       "      <th>5</th>\n",
       "      <td>Parch</td>\n",
       "      <td>0</td>\n",
       "      <td>0.0%</td>\n",
       "    </tr>\n",
       "    <tr>\n",
       "      <th>6</th>\n",
       "      <td>Ticket</td>\n",
       "      <td>0</td>\n",
       "      <td>0.0%</td>\n",
       "    </tr>\n",
       "    <tr>\n",
       "      <th>7</th>\n",
       "      <td>Fare</td>\n",
       "      <td>0</td>\n",
       "      <td>0.0%</td>\n",
       "    </tr>\n",
       "    <tr>\n",
       "      <th>8</th>\n",
       "      <td>Embarked</td>\n",
       "      <td>0</td>\n",
       "      <td>0.0%</td>\n",
       "    </tr>\n",
       "  </tbody>\n",
       "</table>\n",
       "</div>"
      ]
     },
     "execution_count": 34,
     "metadata": {},
     "output_type": "execute_result"
    }
   ],
   "execution_count": 34
  },
  {
   "cell_type": "markdown",
   "id": "a921d930-643d-4dd8-88bd-5a7a5b0eebc4",
   "metadata": {
    "id": "a921d930-643d-4dd8-88bd-5a7a5b0eebc4"
   },
   "source": [
    "**Clean valid x**"
   ]
  },
  {
   "cell_type": "code",
   "id": "e98096ce-d542-4dbf-b9e1-a609f52f9daf",
   "metadata": {
    "colab": {
     "base_uri": "https://localhost:8080/",
     "height": 332
    },
    "id": "e98096ce-d542-4dbf-b9e1-a609f52f9daf",
    "outputId": "de8b8f3e-39d7-4e4b-9979-4f84d01a959a",
    "ExecuteTime": {
     "end_time": "2025-10-03T22:37:13.286086Z",
     "start_time": "2025-10-03T22:37:13.272169Z"
    }
   },
   "source": [
    "check_n_nan(clean_valid_x, only_nan=False)"
   ],
   "outputs": [
    {
     "data": {
      "text/plain": [
       "    columns  total_nan percent_nan\n",
       "0    Pclass          0        0.0%\n",
       "1      Name          0        0.0%\n",
       "2       Sex          0        0.0%\n",
       "3       Age          0        0.0%\n",
       "4     SibSp          0        0.0%\n",
       "5     Parch          0        0.0%\n",
       "6    Ticket          0        0.0%\n",
       "7      Fare          0        0.0%\n",
       "8  Embarked          0        0.0%"
      ],
      "text/html": [
       "<div>\n",
       "<style scoped>\n",
       "    .dataframe tbody tr th:only-of-type {\n",
       "        vertical-align: middle;\n",
       "    }\n",
       "\n",
       "    .dataframe tbody tr th {\n",
       "        vertical-align: top;\n",
       "    }\n",
       "\n",
       "    .dataframe thead th {\n",
       "        text-align: right;\n",
       "    }\n",
       "</style>\n",
       "<table border=\"1\" class=\"dataframe\">\n",
       "  <thead>\n",
       "    <tr style=\"text-align: right;\">\n",
       "      <th></th>\n",
       "      <th>columns</th>\n",
       "      <th>total_nan</th>\n",
       "      <th>percent_nan</th>\n",
       "    </tr>\n",
       "  </thead>\n",
       "  <tbody>\n",
       "    <tr>\n",
       "      <th>0</th>\n",
       "      <td>Pclass</td>\n",
       "      <td>0</td>\n",
       "      <td>0.0%</td>\n",
       "    </tr>\n",
       "    <tr>\n",
       "      <th>1</th>\n",
       "      <td>Name</td>\n",
       "      <td>0</td>\n",
       "      <td>0.0%</td>\n",
       "    </tr>\n",
       "    <tr>\n",
       "      <th>2</th>\n",
       "      <td>Sex</td>\n",
       "      <td>0</td>\n",
       "      <td>0.0%</td>\n",
       "    </tr>\n",
       "    <tr>\n",
       "      <th>3</th>\n",
       "      <td>Age</td>\n",
       "      <td>0</td>\n",
       "      <td>0.0%</td>\n",
       "    </tr>\n",
       "    <tr>\n",
       "      <th>4</th>\n",
       "      <td>SibSp</td>\n",
       "      <td>0</td>\n",
       "      <td>0.0%</td>\n",
       "    </tr>\n",
       "    <tr>\n",
       "      <th>5</th>\n",
       "      <td>Parch</td>\n",
       "      <td>0</td>\n",
       "      <td>0.0%</td>\n",
       "    </tr>\n",
       "    <tr>\n",
       "      <th>6</th>\n",
       "      <td>Ticket</td>\n",
       "      <td>0</td>\n",
       "      <td>0.0%</td>\n",
       "    </tr>\n",
       "    <tr>\n",
       "      <th>7</th>\n",
       "      <td>Fare</td>\n",
       "      <td>0</td>\n",
       "      <td>0.0%</td>\n",
       "    </tr>\n",
       "    <tr>\n",
       "      <th>8</th>\n",
       "      <td>Embarked</td>\n",
       "      <td>0</td>\n",
       "      <td>0.0%</td>\n",
       "    </tr>\n",
       "  </tbody>\n",
       "</table>\n",
       "</div>"
      ]
     },
     "execution_count": 35,
     "metadata": {},
     "output_type": "execute_result"
    }
   ],
   "execution_count": 35
  },
  {
   "cell_type": "markdown",
   "id": "f47f5343-6754-4d6f-a4c3-bd1e34ba57fd",
   "metadata": {
    "id": "f47f5343-6754-4d6f-a4c3-bd1e34ba57fd"
   },
   "source": [
    "**Clean test df**"
   ]
  },
  {
   "cell_type": "code",
   "id": "f66869ed-6594-4fe7-8ec5-2648d23ae372",
   "metadata": {
    "colab": {
     "base_uri": "https://localhost:8080/",
     "height": 332
    },
    "id": "f66869ed-6594-4fe7-8ec5-2648d23ae372",
    "outputId": "42e4df4b-7f57-4069-dd59-450a6e8cb425",
    "ExecuteTime": {
     "end_time": "2025-10-03T22:37:13.317331Z",
     "start_time": "2025-10-03T22:37:13.301261Z"
    }
   },
   "source": [
    "check_n_nan(clean_test_df, only_nan=False)"
   ],
   "outputs": [
    {
     "data": {
      "text/plain": [
       "    columns  total_nan percent_nan\n",
       "0    Pclass          0        0.0%\n",
       "1      Name          0        0.0%\n",
       "2       Sex          0        0.0%\n",
       "3       Age          0        0.0%\n",
       "4     SibSp          0        0.0%\n",
       "5     Parch          0        0.0%\n",
       "6    Ticket          0        0.0%\n",
       "7      Fare          0        0.0%\n",
       "8  Embarked          0        0.0%"
      ],
      "text/html": [
       "<div>\n",
       "<style scoped>\n",
       "    .dataframe tbody tr th:only-of-type {\n",
       "        vertical-align: middle;\n",
       "    }\n",
       "\n",
       "    .dataframe tbody tr th {\n",
       "        vertical-align: top;\n",
       "    }\n",
       "\n",
       "    .dataframe thead th {\n",
       "        text-align: right;\n",
       "    }\n",
       "</style>\n",
       "<table border=\"1\" class=\"dataframe\">\n",
       "  <thead>\n",
       "    <tr style=\"text-align: right;\">\n",
       "      <th></th>\n",
       "      <th>columns</th>\n",
       "      <th>total_nan</th>\n",
       "      <th>percent_nan</th>\n",
       "    </tr>\n",
       "  </thead>\n",
       "  <tbody>\n",
       "    <tr>\n",
       "      <th>0</th>\n",
       "      <td>Pclass</td>\n",
       "      <td>0</td>\n",
       "      <td>0.0%</td>\n",
       "    </tr>\n",
       "    <tr>\n",
       "      <th>1</th>\n",
       "      <td>Name</td>\n",
       "      <td>0</td>\n",
       "      <td>0.0%</td>\n",
       "    </tr>\n",
       "    <tr>\n",
       "      <th>2</th>\n",
       "      <td>Sex</td>\n",
       "      <td>0</td>\n",
       "      <td>0.0%</td>\n",
       "    </tr>\n",
       "    <tr>\n",
       "      <th>3</th>\n",
       "      <td>Age</td>\n",
       "      <td>0</td>\n",
       "      <td>0.0%</td>\n",
       "    </tr>\n",
       "    <tr>\n",
       "      <th>4</th>\n",
       "      <td>SibSp</td>\n",
       "      <td>0</td>\n",
       "      <td>0.0%</td>\n",
       "    </tr>\n",
       "    <tr>\n",
       "      <th>5</th>\n",
       "      <td>Parch</td>\n",
       "      <td>0</td>\n",
       "      <td>0.0%</td>\n",
       "    </tr>\n",
       "    <tr>\n",
       "      <th>6</th>\n",
       "      <td>Ticket</td>\n",
       "      <td>0</td>\n",
       "      <td>0.0%</td>\n",
       "    </tr>\n",
       "    <tr>\n",
       "      <th>7</th>\n",
       "      <td>Fare</td>\n",
       "      <td>0</td>\n",
       "      <td>0.0%</td>\n",
       "    </tr>\n",
       "    <tr>\n",
       "      <th>8</th>\n",
       "      <td>Embarked</td>\n",
       "      <td>0</td>\n",
       "      <td>0.0%</td>\n",
       "    </tr>\n",
       "  </tbody>\n",
       "</table>\n",
       "</div>"
      ]
     },
     "execution_count": 36,
     "metadata": {},
     "output_type": "execute_result"
    }
   ],
   "execution_count": 36
  },
  {
   "cell_type": "markdown",
   "id": "91b54b41-383b-4638-8a49-48aa3a664533",
   "metadata": {
    "id": "91b54b41-383b-4638-8a49-48aa3a664533"
   },
   "source": [
    "### iii) Handling the categorical columns\n",
    "<p>Encode categorical column to integer and drop high cardinality columns in the dataframes</p>"
   ]
  },
  {
   "cell_type": "code",
   "id": "cf0c58c5-1da2-4960-a1e1-29e50cb892ba",
   "metadata": {
    "id": "cf0c58c5-1da2-4960-a1e1-29e50cb892ba",
    "ExecuteTime": {
     "end_time": "2025-10-03T22:37:13.345230Z",
     "start_time": "2025-10-03T22:37:13.332331Z"
    }
   },
   "source": [
    "class CategoryEncoder:\n",
    "    def __init__(\n",
    "            self,\n",
    "            datasets: List[pd.DataFrame],\n",
    "            handle_with: Dict[str, str],\n",
    "    ) -> None:\n",
    "        self.datasets = datasets\n",
    "        self.handle_with = handle_with\n",
    "\n",
    "    def strategy(self, df: pd.DataFrame, col: str, strat: str) -> pd.DataFrame:\n",
    "        match strat:\n",
    "            case 'label_encode':\n",
    "                series = df[col].astype('category').cat.codes\n",
    "                df[col] = series\n",
    "            case 'one_hot_encode':\n",
    "                data = pd.get_dummies(\n",
    "                    df[col],\n",
    "                    columns=list(df[col].unique())\n",
    "                ).astype(int)\n",
    "                df = pd.concat([df, data], axis=1)\n",
    "                df = df.drop(col, axis=1)\n",
    "            case 'drop':\n",
    "                df = df.drop(col, axis=1)\n",
    "            case _:\n",
    "                raise ValueError()\n",
    "\n",
    "        return df\n",
    "\n",
    "    def encode(self) -> List[pd.DataFrame]:\n",
    "        \"\"\"\n",
    "        Encode categorical columns to integer.\n",
    "        :return: A tuple of data frames\n",
    "        \"\"\"\n",
    "\n",
    "        datasets = []\n",
    "\n",
    "        for dataset in self.datasets:\n",
    "            for col, strat in self.handle_with.items():\n",
    "                dataset = self.strategy(dataset, col, strat)\n",
    "            datasets.append(dataset)\n",
    "\n",
    "        return datasets"
   ],
   "outputs": [],
   "execution_count": 37
  },
  {
   "cell_type": "code",
   "id": "eca0ff4c-7fc9-4fa6-a9d0-2d18f0594c3d",
   "metadata": {
    "colab": {
     "base_uri": "https://localhost:8080/",
     "height": 272
    },
    "id": "eca0ff4c-7fc9-4fa6-a9d0-2d18f0594c3d",
    "outputId": "599612e5-eb70-480d-e73f-e5dfeb57a6e2",
    "ExecuteTime": {
     "end_time": "2025-10-03T22:37:13.379577Z",
     "start_time": "2025-10-03T22:37:13.357032Z"
    }
   },
   "source": [
    "# First five rows from the clean train x.\n",
    "clean_train_x.head()"
   ],
   "outputs": [
    {
     "data": {
      "text/plain": [
       "             Pclass                                               Name  \\\n",
       "PassengerId                                                              \n",
       "56                1                                  Woolner, Mr. Hugh   \n",
       "13                3                     Saundercock, Mr. William Henry   \n",
       "133               3     Robins, Mrs. Alexander A (Grace Charity Laury)   \n",
       "795               3                              Dantcheff, Mr. Ristiu   \n",
       "760               1  Rothes, the Countess. of (Lucy Noel Martha Dye...   \n",
       "\n",
       "                Sex        Age  SibSp  Parch     Ticket     Fare Embarked  \n",
       "PassengerId                                                                \n",
       "56             male  29.647047      0      0      19947  35.5000        S  \n",
       "13             male  20.000000      0      0  A/5. 2151   8.0500        S  \n",
       "133          female  47.000000      1      0  A/5. 3337  14.5000        S  \n",
       "795            male  25.000000      0      0     349203   7.8958        S  \n",
       "760          female  33.000000      0      0     110152  86.5000        S  "
      ],
      "text/html": [
       "<div>\n",
       "<style scoped>\n",
       "    .dataframe tbody tr th:only-of-type {\n",
       "        vertical-align: middle;\n",
       "    }\n",
       "\n",
       "    .dataframe tbody tr th {\n",
       "        vertical-align: top;\n",
       "    }\n",
       "\n",
       "    .dataframe thead th {\n",
       "        text-align: right;\n",
       "    }\n",
       "</style>\n",
       "<table border=\"1\" class=\"dataframe\">\n",
       "  <thead>\n",
       "    <tr style=\"text-align: right;\">\n",
       "      <th></th>\n",
       "      <th>Pclass</th>\n",
       "      <th>Name</th>\n",
       "      <th>Sex</th>\n",
       "      <th>Age</th>\n",
       "      <th>SibSp</th>\n",
       "      <th>Parch</th>\n",
       "      <th>Ticket</th>\n",
       "      <th>Fare</th>\n",
       "      <th>Embarked</th>\n",
       "    </tr>\n",
       "    <tr>\n",
       "      <th>PassengerId</th>\n",
       "      <th></th>\n",
       "      <th></th>\n",
       "      <th></th>\n",
       "      <th></th>\n",
       "      <th></th>\n",
       "      <th></th>\n",
       "      <th></th>\n",
       "      <th></th>\n",
       "      <th></th>\n",
       "    </tr>\n",
       "  </thead>\n",
       "  <tbody>\n",
       "    <tr>\n",
       "      <th>56</th>\n",
       "      <td>1</td>\n",
       "      <td>Woolner, Mr. Hugh</td>\n",
       "      <td>male</td>\n",
       "      <td>29.647047</td>\n",
       "      <td>0</td>\n",
       "      <td>0</td>\n",
       "      <td>19947</td>\n",
       "      <td>35.5000</td>\n",
       "      <td>S</td>\n",
       "    </tr>\n",
       "    <tr>\n",
       "      <th>13</th>\n",
       "      <td>3</td>\n",
       "      <td>Saundercock, Mr. William Henry</td>\n",
       "      <td>male</td>\n",
       "      <td>20.000000</td>\n",
       "      <td>0</td>\n",
       "      <td>0</td>\n",
       "      <td>A/5. 2151</td>\n",
       "      <td>8.0500</td>\n",
       "      <td>S</td>\n",
       "    </tr>\n",
       "    <tr>\n",
       "      <th>133</th>\n",
       "      <td>3</td>\n",
       "      <td>Robins, Mrs. Alexander A (Grace Charity Laury)</td>\n",
       "      <td>female</td>\n",
       "      <td>47.000000</td>\n",
       "      <td>1</td>\n",
       "      <td>0</td>\n",
       "      <td>A/5. 3337</td>\n",
       "      <td>14.5000</td>\n",
       "      <td>S</td>\n",
       "    </tr>\n",
       "    <tr>\n",
       "      <th>795</th>\n",
       "      <td>3</td>\n",
       "      <td>Dantcheff, Mr. Ristiu</td>\n",
       "      <td>male</td>\n",
       "      <td>25.000000</td>\n",
       "      <td>0</td>\n",
       "      <td>0</td>\n",
       "      <td>349203</td>\n",
       "      <td>7.8958</td>\n",
       "      <td>S</td>\n",
       "    </tr>\n",
       "    <tr>\n",
       "      <th>760</th>\n",
       "      <td>1</td>\n",
       "      <td>Rothes, the Countess. of (Lucy Noel Martha Dye...</td>\n",
       "      <td>female</td>\n",
       "      <td>33.000000</td>\n",
       "      <td>0</td>\n",
       "      <td>0</td>\n",
       "      <td>110152</td>\n",
       "      <td>86.5000</td>\n",
       "      <td>S</td>\n",
       "    </tr>\n",
       "  </tbody>\n",
       "</table>\n",
       "</div>"
      ]
     },
     "execution_count": 38,
     "metadata": {},
     "output_type": "execute_result"
    }
   ],
   "execution_count": 38
  },
  {
   "cell_type": "code",
   "id": "a66e4adf-98d5-4c3f-89d3-36b285f36b01",
   "metadata": {
    "colab": {
     "base_uri": "https://localhost:8080/",
     "height": 238
    },
    "id": "a66e4adf-98d5-4c3f-89d3-36b285f36b01",
    "outputId": "c6c23d8a-6666-4d66-db1c-65e29187999c",
    "ExecuteTime": {
     "end_time": "2025-10-03T22:37:13.405955Z",
     "start_time": "2025-10-03T22:37:13.390858Z"
    }
   },
   "source": [
    "# Exclude the int and float from the data.\n",
    "cat_df = clean_train_x.select_dtypes(exclude=[int, float])\n",
    "cat_df.head()"
   ],
   "outputs": [
    {
     "data": {
      "text/plain": [
       "                                                          Name     Sex  \\\n",
       "PassengerId                                                              \n",
       "56                                           Woolner, Mr. Hugh    male   \n",
       "13                              Saundercock, Mr. William Henry    male   \n",
       "133             Robins, Mrs. Alexander A (Grace Charity Laury)  female   \n",
       "795                                      Dantcheff, Mr. Ristiu    male   \n",
       "760          Rothes, the Countess. of (Lucy Noel Martha Dye...  female   \n",
       "\n",
       "                Ticket Embarked  \n",
       "PassengerId                      \n",
       "56               19947        S  \n",
       "13           A/5. 2151        S  \n",
       "133          A/5. 3337        S  \n",
       "795             349203        S  \n",
       "760             110152        S  "
      ],
      "text/html": [
       "<div>\n",
       "<style scoped>\n",
       "    .dataframe tbody tr th:only-of-type {\n",
       "        vertical-align: middle;\n",
       "    }\n",
       "\n",
       "    .dataframe tbody tr th {\n",
       "        vertical-align: top;\n",
       "    }\n",
       "\n",
       "    .dataframe thead th {\n",
       "        text-align: right;\n",
       "    }\n",
       "</style>\n",
       "<table border=\"1\" class=\"dataframe\">\n",
       "  <thead>\n",
       "    <tr style=\"text-align: right;\">\n",
       "      <th></th>\n",
       "      <th>Name</th>\n",
       "      <th>Sex</th>\n",
       "      <th>Ticket</th>\n",
       "      <th>Embarked</th>\n",
       "    </tr>\n",
       "    <tr>\n",
       "      <th>PassengerId</th>\n",
       "      <th></th>\n",
       "      <th></th>\n",
       "      <th></th>\n",
       "      <th></th>\n",
       "    </tr>\n",
       "  </thead>\n",
       "  <tbody>\n",
       "    <tr>\n",
       "      <th>56</th>\n",
       "      <td>Woolner, Mr. Hugh</td>\n",
       "      <td>male</td>\n",
       "      <td>19947</td>\n",
       "      <td>S</td>\n",
       "    </tr>\n",
       "    <tr>\n",
       "      <th>13</th>\n",
       "      <td>Saundercock, Mr. William Henry</td>\n",
       "      <td>male</td>\n",
       "      <td>A/5. 2151</td>\n",
       "      <td>S</td>\n",
       "    </tr>\n",
       "    <tr>\n",
       "      <th>133</th>\n",
       "      <td>Robins, Mrs. Alexander A (Grace Charity Laury)</td>\n",
       "      <td>female</td>\n",
       "      <td>A/5. 3337</td>\n",
       "      <td>S</td>\n",
       "    </tr>\n",
       "    <tr>\n",
       "      <th>795</th>\n",
       "      <td>Dantcheff, Mr. Ristiu</td>\n",
       "      <td>male</td>\n",
       "      <td>349203</td>\n",
       "      <td>S</td>\n",
       "    </tr>\n",
       "    <tr>\n",
       "      <th>760</th>\n",
       "      <td>Rothes, the Countess. of (Lucy Noel Martha Dye...</td>\n",
       "      <td>female</td>\n",
       "      <td>110152</td>\n",
       "      <td>S</td>\n",
       "    </tr>\n",
       "  </tbody>\n",
       "</table>\n",
       "</div>"
      ]
     },
     "execution_count": 39,
     "metadata": {},
     "output_type": "execute_result"
    }
   ],
   "execution_count": 39
  },
  {
   "cell_type": "code",
   "id": "0184a184-33b9-491a-a7ed-5d84996652bd",
   "metadata": {
    "colab": {
     "base_uri": "https://localhost:8080/"
    },
    "id": "0184a184-33b9-491a-a7ed-5d84996652bd",
    "outputId": "b7b7f9de-2ae1-468b-d90f-1dd811b28475",
    "ExecuteTime": {
     "end_time": "2025-10-03T22:37:13.429458Z",
     "start_time": "2025-10-03T22:37:13.419076Z"
    }
   },
   "source": [
    "# Fetch the categorical columns.\n",
    "cat_columns = list(cat_df.columns)\n",
    "cat_columns"
   ],
   "outputs": [
    {
     "data": {
      "text/plain": [
       "['Name', 'Sex', 'Ticket', 'Embarked']"
      ]
     },
     "execution_count": 40,
     "metadata": {},
     "output_type": "execute_result"
    }
   ],
   "execution_count": 40
  },
  {
   "cell_type": "markdown",
   "id": "34387b53-4a71-48fa-a3b6-978c49b8d9c6",
   "metadata": {
    "id": "34387b53-4a71-48fa-a3b6-978c49b8d9c6"
   },
   "source": [
    "Check for columns with high cardinality column in the data."
   ]
  },
  {
   "cell_type": "code",
   "id": "5219b3ce-592a-4173-8d2d-943f9d9b7146",
   "metadata": {
    "colab": {
     "base_uri": "https://localhost:8080/",
     "height": 210
    },
    "id": "5219b3ce-592a-4173-8d2d-943f9d9b7146",
    "outputId": "49c8e981-82d0-48be-e686-8fcbec7cf856",
    "ExecuteTime": {
     "end_time": "2025-10-03T22:37:13.455970Z",
     "start_time": "2025-10-03T22:37:13.443630Z"
    }
   },
   "source": [
    "clean_train_x[cat_columns].nunique()"
   ],
   "outputs": [
    {
     "data": {
      "text/plain": [
       "Name        668\n",
       "Sex           2\n",
       "Ticket      541\n",
       "Embarked      3\n",
       "dtype: int64"
      ]
     },
     "execution_count": 41,
     "metadata": {},
     "output_type": "execute_result"
    }
   ],
   "execution_count": 41
  },
  {
   "cell_type": "code",
   "id": "IL7kBIALo20Z",
   "metadata": {
    "id": "IL7kBIALo20Z",
    "ExecuteTime": {
     "end_time": "2025-10-03T22:37:13.529582Z",
     "start_time": "2025-10-03T22:37:13.468165Z"
    }
   },
   "source": [
    "# Instantiate the CategoryEncoder\n",
    "encoder = CategoryEncoder(\n",
    "    [clean_train_x, clean_valid_x, clean_test_df],\n",
    "    {\n",
    "        \"Sex\": \"label_encode\",\n",
    "        \"Embarked\": \"one_hot_encode\",\n",
    "        \"Name\": \"drop\",\n",
    "        \"Ticket\": \"drop\"\n",
    "    }\n",
    ")\n",
    "\n",
    "# Encode the column\n",
    "num_train_x, num_valid_x, num_test_df = encoder.encode()"
   ],
   "outputs": [],
   "execution_count": 42
  },
  {
   "cell_type": "code",
   "id": "FToJ4UKosTyc",
   "metadata": {
    "colab": {
     "base_uri": "https://localhost:8080/",
     "height": 366
    },
    "id": "FToJ4UKosTyc",
    "outputId": "ed558dc5-e721-419c-bfb8-733b4d86eb13",
    "ExecuteTime": {
     "end_time": "2025-10-03T22:37:13.549701Z",
     "start_time": "2025-10-03T22:37:13.540020Z"
    }
   },
   "source": [
    "num_train_x.dtypes"
   ],
   "outputs": [
    {
     "data": {
      "text/plain": [
       "Pclass      int64\n",
       "Sex          int8\n",
       "Age       float64\n",
       "SibSp       int64\n",
       "Parch       int64\n",
       "Fare      float64\n",
       "C           int64\n",
       "Q           int64\n",
       "S           int64\n",
       "dtype: object"
      ]
     },
     "execution_count": 43,
     "metadata": {},
     "output_type": "execute_result"
    }
   ],
   "execution_count": 43
  },
  {
   "cell_type": "markdown",
   "id": "ii49SEPHKcF5",
   "metadata": {
    "id": "ii49SEPHKcF5"
   },
   "source": [
    "## 7) **Data visualisation**\n",
    "<p>Represeting the data in graphical way like making chart</p>"
   ]
  },
  {
   "cell_type": "code",
   "id": "ulg7TDeg7bf-",
   "metadata": {
    "colab": {
     "base_uri": "https://localhost:8080/",
     "height": 307
    },
    "id": "ulg7TDeg7bf-",
    "outputId": "2d2dda9e-95f3-400c-a4f3-484c77335fc1",
    "ExecuteTime": {
     "end_time": "2025-10-03T22:37:13.614363Z",
     "start_time": "2025-10-03T22:37:13.574220Z"
    }
   },
   "source": [
    "visual_df = pd.concat([clean_train_x, clean_valid_x])\n",
    "visual_df['Survived'] = np.concatenate([train_y, valid_y])\n",
    "visual_df.head()"
   ],
   "outputs": [
    {
     "data": {
      "text/plain": [
       "             Pclass                                               Name  Sex  \\\n",
       "PassengerId                                                                   \n",
       "56                1                                  Woolner, Mr. Hugh    1   \n",
       "13                3                     Saundercock, Mr. William Henry    1   \n",
       "133               3     Robins, Mrs. Alexander A (Grace Charity Laury)    0   \n",
       "795               3                              Dantcheff, Mr. Ristiu    1   \n",
       "760               1  Rothes, the Countess. of (Lucy Noel Martha Dye...    0   \n",
       "\n",
       "                   Age  SibSp  Parch     Ticket     Fare Embarked  Survived  \n",
       "PassengerId                                                                  \n",
       "56           29.647047      0      0      19947  35.5000        S         1  \n",
       "13           20.000000      0      0  A/5. 2151   8.0500        S         0  \n",
       "133          47.000000      1      0  A/5. 3337  14.5000        S         0  \n",
       "795          25.000000      0      0     349203   7.8958        S         0  \n",
       "760          33.000000      0      0     110152  86.5000        S         1  "
      ],
      "text/html": [
       "<div>\n",
       "<style scoped>\n",
       "    .dataframe tbody tr th:only-of-type {\n",
       "        vertical-align: middle;\n",
       "    }\n",
       "\n",
       "    .dataframe tbody tr th {\n",
       "        vertical-align: top;\n",
       "    }\n",
       "\n",
       "    .dataframe thead th {\n",
       "        text-align: right;\n",
       "    }\n",
       "</style>\n",
       "<table border=\"1\" class=\"dataframe\">\n",
       "  <thead>\n",
       "    <tr style=\"text-align: right;\">\n",
       "      <th></th>\n",
       "      <th>Pclass</th>\n",
       "      <th>Name</th>\n",
       "      <th>Sex</th>\n",
       "      <th>Age</th>\n",
       "      <th>SibSp</th>\n",
       "      <th>Parch</th>\n",
       "      <th>Ticket</th>\n",
       "      <th>Fare</th>\n",
       "      <th>Embarked</th>\n",
       "      <th>Survived</th>\n",
       "    </tr>\n",
       "    <tr>\n",
       "      <th>PassengerId</th>\n",
       "      <th></th>\n",
       "      <th></th>\n",
       "      <th></th>\n",
       "      <th></th>\n",
       "      <th></th>\n",
       "      <th></th>\n",
       "      <th></th>\n",
       "      <th></th>\n",
       "      <th></th>\n",
       "      <th></th>\n",
       "    </tr>\n",
       "  </thead>\n",
       "  <tbody>\n",
       "    <tr>\n",
       "      <th>56</th>\n",
       "      <td>1</td>\n",
       "      <td>Woolner, Mr. Hugh</td>\n",
       "      <td>1</td>\n",
       "      <td>29.647047</td>\n",
       "      <td>0</td>\n",
       "      <td>0</td>\n",
       "      <td>19947</td>\n",
       "      <td>35.5000</td>\n",
       "      <td>S</td>\n",
       "      <td>1</td>\n",
       "    </tr>\n",
       "    <tr>\n",
       "      <th>13</th>\n",
       "      <td>3</td>\n",
       "      <td>Saundercock, Mr. William Henry</td>\n",
       "      <td>1</td>\n",
       "      <td>20.000000</td>\n",
       "      <td>0</td>\n",
       "      <td>0</td>\n",
       "      <td>A/5. 2151</td>\n",
       "      <td>8.0500</td>\n",
       "      <td>S</td>\n",
       "      <td>0</td>\n",
       "    </tr>\n",
       "    <tr>\n",
       "      <th>133</th>\n",
       "      <td>3</td>\n",
       "      <td>Robins, Mrs. Alexander A (Grace Charity Laury)</td>\n",
       "      <td>0</td>\n",
       "      <td>47.000000</td>\n",
       "      <td>1</td>\n",
       "      <td>0</td>\n",
       "      <td>A/5. 3337</td>\n",
       "      <td>14.5000</td>\n",
       "      <td>S</td>\n",
       "      <td>0</td>\n",
       "    </tr>\n",
       "    <tr>\n",
       "      <th>795</th>\n",
       "      <td>3</td>\n",
       "      <td>Dantcheff, Mr. Ristiu</td>\n",
       "      <td>1</td>\n",
       "      <td>25.000000</td>\n",
       "      <td>0</td>\n",
       "      <td>0</td>\n",
       "      <td>349203</td>\n",
       "      <td>7.8958</td>\n",
       "      <td>S</td>\n",
       "      <td>0</td>\n",
       "    </tr>\n",
       "    <tr>\n",
       "      <th>760</th>\n",
       "      <td>1</td>\n",
       "      <td>Rothes, the Countess. of (Lucy Noel Martha Dye...</td>\n",
       "      <td>0</td>\n",
       "      <td>33.000000</td>\n",
       "      <td>0</td>\n",
       "      <td>0</td>\n",
       "      <td>110152</td>\n",
       "      <td>86.5000</td>\n",
       "      <td>S</td>\n",
       "      <td>1</td>\n",
       "    </tr>\n",
       "  </tbody>\n",
       "</table>\n",
       "</div>"
      ]
     },
     "execution_count": 44,
     "metadata": {},
     "output_type": "execute_result"
    }
   ],
   "execution_count": 44
  },
  {
   "cell_type": "code",
   "id": "UsL0fsm4MDiA",
   "metadata": {
    "colab": {
     "base_uri": "https://localhost:8080/",
     "height": 519
    },
    "id": "UsL0fsm4MDiA",
    "outputId": "a0e79681-eb60-41c6-c949-fc0ecfe8ea19",
    "ExecuteTime": {
     "end_time": "2025-10-04T00:37:08.071673Z",
     "start_time": "2025-10-04T00:37:07.856658Z"
    }
   },
   "source": [
    "alt.renderers.enable('html')\n",
    "\n",
    "\n",
    "class Graph:\n",
    "    def __init__(self, data: pd.DataFrame) -> None:\n",
    "        self.__data = data\n",
    "\n",
    "    def value_mapping(\n",
    "            self,\n",
    "            x: str,\n",
    "            map_values: Dict[str, Any] | None,\n",
    "            color: List[str] | str) -> Tuple[pd.DataFrame, alt.Color]:\n",
    "\n",
    "        # Make copy then change column data to str\n",
    "        data = self.__data.copy()\n",
    "        data[x] = data[x].astype(str)\n",
    "        if map_values:\n",
    "            data[x] = data[x].map(lambda col: map_values[col])\n",
    "\n",
    "        # Color map.\n",
    "        if isinstance(color, list):\n",
    "            alt_color = (\n",
    "                alt.Color(x).scale(range=color, reverse=True).legend(orient=\"right\")\n",
    "            )\n",
    "        else:\n",
    "            alt_color = (\n",
    "                alt.Color(x).scale(scheme=color, reverse=True).legend(orient=\"right\")\n",
    "            )\n",
    "        return data, alt_color\n",
    "\n",
    "    def col_bar_char(\n",
    "            self,\n",
    "            x_column: str,\n",
    "            group_by: str,\n",
    "            map_values: Dict[str, Any] | None = None,\n",
    "            color: List | str = \"paired\",\n",
    "            width: int = 300,\n",
    "            height: int = 400,\n",
    "            x_title: str | None = None,\n",
    "            y_title: str | None = None,\n",
    "    ):\n",
    "        data, alt_color = self.value_mapping(\n",
    "            x_column,\n",
    "            map_values=map_values,\n",
    "            color=color\n",
    "        )\n",
    "\n",
    "        x_title = x_title.title() if x_title else x_column.title()\n",
    "        y_title = y_title.title() if y_title else \"Number of Passengers\"\n",
    "\n",
    "        source = data.groupby(group_by)[x_column].value_counts().reset_index()\n",
    "\n",
    "        grouped_bars = (\n",
    "            alt.Chart(source)\n",
    "            .mark_bar(cornerRadius=10)\n",
    "            .encode(\n",
    "                x=x_column,\n",
    "                y='count:Q',\n",
    "                color=x_column,\n",
    "                column=group_by\n",
    "            )\n",
    "            .encode(\n",
    "                tooltip=[\n",
    "                    alt.Tooltip(x_column, title=x_title),\n",
    "                    alt.Tooltip(\"count\", title=y_title),\n",
    "                ],\n",
    "            )\n",
    "            .properties(\n",
    "                width=width,\n",
    "                height=height,\n",
    "                title=alt.Title(\n",
    "                    f\"{x_column.title()} Distribution\",\n",
    "                    fontSize=18,\n",
    "                    subtitle=\"Source: Titanic\",\n",
    "                    subtitleFontSize=12,\n",
    "                    dy=-10,\n",
    "                ),\n",
    "            )\n",
    "        )\n",
    "\n",
    "        text_layer = (\n",
    "            alt.Chart(data)\n",
    "            .mark_text(\n",
    "                align=\"center\",\n",
    "                baseline=\"bottom\",  # Align text to the bottom of its bounding box\n",
    "                dy=-5,  # Adjust vertical position (negative for above the bar)\n",
    "                fontSize=12,\n",
    "                fontWeight=\"bold\",\n",
    "            )\n",
    "            .encode(x=x_column, y=\"count\", text=alt.Text(\"count\"))\n",
    "        )\n",
    "\n",
    "        return grouped_bars\n",
    "\n",
    "    def bar_chart(\n",
    "            self,\n",
    "            x_column: str,\n",
    "            map_values: Dict[str, Any] | None = None,\n",
    "            color: List | str = \"paired\",\n",
    "            width: int = 300,\n",
    "            height: int = 400,\n",
    "            x_title: str | None = None,\n",
    "            y_title: str | None = None,\n",
    "    ) -> alt.ChartDataType:  # Make copy then change column data to str\n",
    "\n",
    "        data, alt_color = self.value_mapping(\n",
    "            x_column,\n",
    "            map_values=map_values,\n",
    "            color=color\n",
    "        )\n",
    "\n",
    "        x_title = x_title.title() if x_title else x_column.title()\n",
    "        y_title = y_title.title() if y_title else \"Number of Passengers\"\n",
    "\n",
    "        # Return the alt chart\n",
    "        bar_layer = (\n",
    "            alt.Chart(data)\n",
    "            .mark_bar(cornerRadius=10)\n",
    "            .encode(\n",
    "                x=alt.X(\n",
    "                    x_column, title=x_title, axis=alt.Axis(grid=False, labelFontWeight=\"bold\")\n",
    "                ),\n",
    "                y=alt.Y(\n",
    "                    \"count()\",\n",
    "                    title=y_title,\n",
    "                    axis=alt.Axis(grid=False, labelFontWeight=\"bold\"),\n",
    "                ),\n",
    "                color=alt_color.legend(orient=\"right\"),\n",
    "                tooltip=[\n",
    "                    alt.Tooltip(x_column, title=x_title),\n",
    "                    alt.Tooltip(\"count()\", title=y_title),\n",
    "                ],\n",
    "            )\n",
    "            .properties(\n",
    "                width=width,\n",
    "                height=height,\n",
    "                title=alt.Title(\n",
    "                    f\"{x_column.title()} Distribution\",\n",
    "                    fontSize=18,\n",
    "                    subtitle=\"Source: Titanic\",\n",
    "                    subtitleFontSize=12,\n",
    "                    dy=-10,\n",
    "                ),\n",
    "            )\n",
    "        )\n",
    "\n",
    "        text_layer = (\n",
    "            alt.Chart(data)\n",
    "            .mark_text(\n",
    "                align=\"center\",\n",
    "                baseline=\"bottom\",  # Align text to the bottom of its bounding box\n",
    "                dy=-5,  # Adjust vertical position (negative for above the bar)\n",
    "                fontSize=12,\n",
    "                fontWeight=\"bold\",\n",
    "            )\n",
    "            .encode(x=x_column, y=\"count()\", text=alt.Text(\"count()\"))\n",
    "        )\n",
    "\n",
    "        return bar_layer + text_layer  # .configure_view(\n",
    "\n",
    "    def donut_chart(\n",
    "            self,\n",
    "            x: str,\n",
    "            map_values: Dict[str, Any] | None = None,\n",
    "            color: List | str = \"paired\",\n",
    "    ) -> alt.ChartDataType:\n",
    "\n",
    "        data, alt_color = self.value_mapping(\n",
    "            x,\n",
    "            map_values=map_values,\n",
    "            color=color\n",
    "        )\n",
    "\n",
    "        value_counts = data[x].value_counts().reset_index()\n",
    "        value_counts[\"count\"] = (value_counts[\"count\"] / data.shape[0]).round(3)\n",
    "\n",
    "        donut_chart = alt.Chart(value_counts).mark_arc(innerRadius=50).encode(\n",
    "            theta=\"count\",\n",
    "            color=f\"{x}:N\",\n",
    "            tooltip=[\n",
    "                alt.Tooltip(f\"{x}\".title()),\n",
    "                alt.Tooltip('count', title='Percentage')\n",
    "            ]\n",
    "        )\n",
    "        return donut_chart\n",
    "\n",
    "    def concat(self, *args, use: Literal[\"vconcat\", \"hconcat\"] = \"vconcat\"):\n",
    "        if use == \"vconcat\":\n",
    "            return alt.vconcat(*args).configure_view(stroke=None)\n",
    "        elif use == \"hconcat\":\n",
    "            return alt.hconcat(*args).configure_view(stroke=None)\n",
    "        else:\n",
    "            raise ValueError(\"Received invalid value `%s`\" % use)\n",
    "\n",
    "\n",
    "graph = Graph(visual_df)\n",
    "bar = graph.bar_chart(\"Survived\", color=[\"green\", \"red\"])\n",
    "donut = graph.donut_chart(\"Survived\")\n",
    "graph.col_bar_char(\"Survived\", \"Sex\", map_values={\"0\": \"didn't survived\", \"1\": \"Survived\"})\n",
    "\n",
    "# graph.concat(bar, donut, use=\"hconcat\")"
   ],
   "outputs": [
    {
     "data": {
      "text/html": [
       "\n",
       "<style>\n",
       "  #altair-viz-1c9825a1795a474eaadf912e34218400.vega-embed {\n",
       "    width: 100%;\n",
       "    display: flex;\n",
       "  }\n",
       "\n",
       "  #altair-viz-1c9825a1795a474eaadf912e34218400.vega-embed details,\n",
       "  #altair-viz-1c9825a1795a474eaadf912e34218400.vega-embed details summary {\n",
       "    position: relative;\n",
       "  }\n",
       "</style>\n",
       "<div id=\"altair-viz-1c9825a1795a474eaadf912e34218400\"></div>\n",
       "<script type=\"text/javascript\">\n",
       "  var VEGA_DEBUG = (typeof VEGA_DEBUG == \"undefined\") ? {} : VEGA_DEBUG;\n",
       "  (function(spec, embedOpt){\n",
       "    let outputDiv = document.currentScript.previousElementSibling;\n",
       "    if (outputDiv.id !== \"altair-viz-1c9825a1795a474eaadf912e34218400\") {\n",
       "      outputDiv = document.getElementById(\"altair-viz-1c9825a1795a474eaadf912e34218400\");\n",
       "    }\n",
       "\n",
       "    const paths = {\n",
       "      \"vega\": \"https://cdn.jsdelivr.net/npm/vega@5?noext\",\n",
       "      \"vega-lib\": \"https://cdn.jsdelivr.net/npm/vega-lib?noext\",\n",
       "      \"vega-lite\": \"https://cdn.jsdelivr.net/npm/vega-lite@5.20.1?noext\",\n",
       "      \"vega-embed\": \"https://cdn.jsdelivr.net/npm/vega-embed@6?noext\",\n",
       "    };\n",
       "\n",
       "    function maybeLoadScript(lib, version) {\n",
       "      var key = `${lib.replace(\"-\", \"\")}_version`;\n",
       "      return (VEGA_DEBUG[key] == version) ?\n",
       "        Promise.resolve(paths[lib]) :\n",
       "        new Promise(function(resolve, reject) {\n",
       "          var s = document.createElement('script');\n",
       "          document.getElementsByTagName(\"head\")[0].appendChild(s);\n",
       "          s.async = true;\n",
       "          s.onload = () => {\n",
       "            VEGA_DEBUG[key] = version;\n",
       "            return resolve(paths[lib]);\n",
       "          };\n",
       "          s.onerror = () => reject(`Error loading script: ${paths[lib]}`);\n",
       "          s.src = paths[lib];\n",
       "        });\n",
       "    }\n",
       "\n",
       "    function showError(err) {\n",
       "      outputDiv.innerHTML = `<div class=\"error\" style=\"color:red;\">${err}</div>`;\n",
       "      throw err;\n",
       "    }\n",
       "\n",
       "    function displayChart(vegaEmbed) {\n",
       "      vegaEmbed(outputDiv, spec, embedOpt)\n",
       "        .catch(err => showError(`Javascript Error: ${err.message}<br>This usually means there's a typo in your chart specification. See the javascript console for the full traceback.`));\n",
       "    }\n",
       "\n",
       "    if(typeof define === \"function\" && define.amd) {\n",
       "      requirejs.config({paths});\n",
       "      let deps = [\"vega-embed\"];\n",
       "      require(deps, displayChart, err => showError(`Error loading script: ${err.message}`));\n",
       "    } else {\n",
       "      maybeLoadScript(\"vega\", \"5\")\n",
       "        .then(() => maybeLoadScript(\"vega-lite\", \"5.20.1\"))\n",
       "        .then(() => maybeLoadScript(\"vega-embed\", \"6\"))\n",
       "        .catch(showError)\n",
       "        .then(() => displayChart(vegaEmbed));\n",
       "    }\n",
       "  })({\"config\": {\"view\": {\"continuousWidth\": 300, \"continuousHeight\": 300}}, \"data\": {\"name\": \"data-775f35638bbe1189b82d8cbc7f2cf892\"}, \"mark\": {\"type\": \"bar\", \"cornerRadius\": 10}, \"encoding\": {\"color\": {\"field\": \"Survived\", \"type\": \"nominal\"}, \"column\": {\"field\": \"Sex\", \"type\": \"quantitative\"}, \"tooltip\": [{\"field\": \"Survived\", \"title\": \"Survived\", \"type\": \"nominal\"}, {\"field\": \"count\", \"title\": \"Number of Passengers\", \"type\": \"quantitative\"}], \"x\": {\"field\": \"Survived\", \"type\": \"nominal\"}, \"y\": {\"field\": \"count\", \"type\": \"quantitative\"}}, \"height\": 400, \"title\": {\"text\": \"Survived Distribution\", \"dy\": -10, \"fontSize\": 18, \"subtitle\": \"Source: Titanic\", \"subtitleFontSize\": 12}, \"width\": 300, \"$schema\": \"https://vega.github.io/schema/vega-lite/v5.20.1.json\", \"datasets\": {\"data-775f35638bbe1189b82d8cbc7f2cf892\": [{\"Sex\": 0, \"Survived\": \"Survived\", \"count\": 233}, {\"Sex\": 0, \"Survived\": \"didn't survived\", \"count\": 81}, {\"Sex\": 1, \"Survived\": \"didn't survived\", \"count\": 468}, {\"Sex\": 1, \"Survived\": \"Survived\", \"count\": 109}]}}, {\"mode\": \"vega-lite\"});\n",
       "</script>"
      ],
      "text/plain": [
       "alt.Chart(...)"
      ]
     },
     "execution_count": 92,
     "metadata": {},
     "output_type": "execute_result"
    }
   ],
   "execution_count": 92
  },
  {
   "cell_type": "code",
   "id": "bd2a59f4-34c0-495a-bb70-191118b83d74",
   "metadata": {
    "ExecuteTime": {
     "end_time": "2025-10-03T22:37:14.143567Z",
     "start_time": "2025-10-03T22:37:14.126763Z"
    }
   },
   "source": [
    "x = clean_train_x['Embarked'].value_counts().reset_index()\n",
    "x[\"count\"] = (x[\"count\"] / clean_train_x.shape[0]).round(3)"
   ],
   "outputs": [],
   "execution_count": 46
  },
  {
   "cell_type": "code",
   "id": "45398cfb-bf8c-400c-aaa4-3f7d02cae801",
   "metadata": {
    "ExecuteTime": {
     "end_time": "2025-10-04T00:06:14.155314Z",
     "start_time": "2025-10-04T00:06:14.068928Z"
    }
   },
   "source": "",
   "outputs": [
    {
     "data": {
      "text/html": [
       "\n",
       "<style>\n",
       "  #altair-viz-2166d8bb7c2140f49e026f5264025cd8.vega-embed {\n",
       "    width: 100%;\n",
       "    display: flex;\n",
       "  }\n",
       "\n",
       "  #altair-viz-2166d8bb7c2140f49e026f5264025cd8.vega-embed details,\n",
       "  #altair-viz-2166d8bb7c2140f49e026f5264025cd8.vega-embed details summary {\n",
       "    position: relative;\n",
       "  }\n",
       "</style>\n",
       "<div id=\"altair-viz-2166d8bb7c2140f49e026f5264025cd8\"></div>\n",
       "<script type=\"text/javascript\">\n",
       "  var VEGA_DEBUG = (typeof VEGA_DEBUG == \"undefined\") ? {} : VEGA_DEBUG;\n",
       "  (function(spec, embedOpt){\n",
       "    let outputDiv = document.currentScript.previousElementSibling;\n",
       "    if (outputDiv.id !== \"altair-viz-2166d8bb7c2140f49e026f5264025cd8\") {\n",
       "      outputDiv = document.getElementById(\"altair-viz-2166d8bb7c2140f49e026f5264025cd8\");\n",
       "    }\n",
       "\n",
       "    const paths = {\n",
       "      \"vega\": \"https://cdn.jsdelivr.net/npm/vega@5?noext\",\n",
       "      \"vega-lib\": \"https://cdn.jsdelivr.net/npm/vega-lib?noext\",\n",
       "      \"vega-lite\": \"https://cdn.jsdelivr.net/npm/vega-lite@5.20.1?noext\",\n",
       "      \"vega-embed\": \"https://cdn.jsdelivr.net/npm/vega-embed@6?noext\",\n",
       "    };\n",
       "\n",
       "    function maybeLoadScript(lib, version) {\n",
       "      var key = `${lib.replace(\"-\", \"\")}_version`;\n",
       "      return (VEGA_DEBUG[key] == version) ?\n",
       "        Promise.resolve(paths[lib]) :\n",
       "        new Promise(function(resolve, reject) {\n",
       "          var s = document.createElement('script');\n",
       "          document.getElementsByTagName(\"head\")[0].appendChild(s);\n",
       "          s.async = true;\n",
       "          s.onload = () => {\n",
       "            VEGA_DEBUG[key] = version;\n",
       "            return resolve(paths[lib]);\n",
       "          };\n",
       "          s.onerror = () => reject(`Error loading script: ${paths[lib]}`);\n",
       "          s.src = paths[lib];\n",
       "        });\n",
       "    }\n",
       "\n",
       "    function showError(err) {\n",
       "      outputDiv.innerHTML = `<div class=\"error\" style=\"color:red;\">${err}</div>`;\n",
       "      throw err;\n",
       "    }\n",
       "\n",
       "    function displayChart(vegaEmbed) {\n",
       "      vegaEmbed(outputDiv, spec, embedOpt)\n",
       "        .catch(err => showError(`Javascript Error: ${err.message}<br>This usually means there's a typo in your chart specification. See the javascript console for the full traceback.`));\n",
       "    }\n",
       "\n",
       "    if(typeof define === \"function\" && define.amd) {\n",
       "      requirejs.config({paths});\n",
       "      let deps = [\"vega-embed\"];\n",
       "      require(deps, displayChart, err => showError(`Error loading script: ${err.message}`));\n",
       "    } else {\n",
       "      maybeLoadScript(\"vega\", \"5\")\n",
       "        .then(() => maybeLoadScript(\"vega-lite\", \"5.20.1\"))\n",
       "        .then(() => maybeLoadScript(\"vega-embed\", \"6\"))\n",
       "        .catch(showError)\n",
       "        .then(() => displayChart(vegaEmbed));\n",
       "    }\n",
       "  })({\"config\": {\"view\": {\"continuousWidth\": 300, \"continuousHeight\": 300}}, \"data\": {\"name\": \"data-21290975917164ea3c8749c9a1e796d6\"}, \"mark\": {\"type\": \"bar\"}, \"encoding\": {\"color\": {\"field\": \"Survived\", \"type\": \"nominal\"}, \"column\": {\"field\": \"Embarked\", \"type\": \"nominal\"}, \"x\": {\"field\": \"Survived\", \"type\": \"ordinal\"}, \"y\": {\"field\": \"count\", \"type\": \"quantitative\"}}, \"$schema\": \"https://vega.github.io/schema/vega-lite/v5.20.1.json\", \"datasets\": {\"data-21290975917164ea3c8749c9a1e796d6\": [{\"Embarked\": \"C\", \"Survived\": 1, \"count\": 93}, {\"Embarked\": \"C\", \"Survived\": 0, \"count\": 75}, {\"Embarked\": \"Q\", \"Survived\": 0, \"count\": 47}, {\"Embarked\": \"Q\", \"Survived\": 1, \"count\": 30}, {\"Embarked\": \"S\", \"Survived\": 0, \"count\": 427}, {\"Embarked\": \"S\", \"Survived\": 1, \"count\": 219}]}}, {\"mode\": \"vega-lite\"});\n",
       "</script>"
      ],
      "text/plain": [
       "alt.Chart(...)"
      ]
     },
     "execution_count": 73,
     "metadata": {},
     "output_type": "execute_result"
    }
   ],
   "execution_count": 73
  },
  {
   "cell_type": "code",
   "id": "d2eaef2a-93ed-408a-a08e-f861247edeb1",
   "metadata": {
    "ExecuteTime": {
     "end_time": "2025-10-03T22:37:14.279492Z",
     "start_time": "2025-10-03T22:37:14.274489Z"
    }
   },
   "source": [],
   "outputs": [],
   "execution_count": null
  }
 ],
 "metadata": {
  "colab": {
   "provenance": []
  },
  "kernelspec": {
   "display_name": "ds11",
   "language": "python",
   "name": "python3"
  },
  "language_info": {
   "codemirror_mode": {
    "name": "ipython",
    "version": 3
   },
   "file_extension": ".py",
   "mimetype": "text/x-python",
   "name": "python",
   "nbconvert_exporter": "python",
   "pygments_lexer": "ipython3",
   "version": "3.11.13"
  }
 },
 "nbformat": 4,
 "nbformat_minor": 5
}
