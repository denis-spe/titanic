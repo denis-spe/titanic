{
 "cells": [
  {
   "cell_type": "markdown",
   "id": "acce7b91-ba73-409b-88fb-5cc92445d37a",
   "metadata": {
    "id": "acce7b91-ba73-409b-88fb-5cc92445d37a"
   },
   "source": [
    "<h1 style=\"font-weight: bold;\">Titanic Survival</h1>"
   ]
  },
  {
   "cell_type": "markdown",
   "id": "d50c0a95-60e6-4b7a-bfeb-75eb054d7254",
   "metadata": {
    "id": "d50c0a95-60e6-4b7a-bfeb-75eb054d7254",
    "jp-MarkdownHeadingCollapsed": true
   },
   "source": [
    "<h2 style=\"font-weight: bold;\">1) Import libraries</h2>\n",
    "<p>load the libraries to be used in the notebook</p>"
   ]
  },
  {
   "cell_type": "code",
   "execution_count": 210,
   "id": "23bde1d6-666d-4099-928a-a72ffe730798",
   "metadata": {
    "ExecuteTime": {
     "end_time": "2025-05-27T10:49:39.429235Z",
     "start_time": "2025-05-27T10:49:39.417498Z"
    },
    "id": "23bde1d6-666d-4099-928a-a72ffe730798"
   },
   "outputs": [],
   "source": [
    "import os\n",
    "import pandas as pd\n",
    "import pprint\n",
    "import altair as alt\n",
    "from typing import List, Any, Dict\n",
    "from sklearn.model_selection import train_test_split"
   ]
  },
  {
   "cell_type": "code",
   "execution_count": 211,
   "id": "AJhL9958h7rT",
   "metadata": {
    "ExecuteTime": {
     "end_time": "2025-05-27T10:49:39.658714Z",
     "start_time": "2025-05-27T10:49:39.646710Z"
    },
    "colab": {
     "base_uri": "https://localhost:8080/"
    },
    "id": "AJhL9958h7rT",
    "outputId": "f43dbd3f-a3f6-4598-d1f6-7a50ebebdfd7"
   },
   "outputs": [],
   "source": [
    "try:\n",
    "   from google.colab import drive\n",
    "   drive.mount(\"content\")\n",
    "   is_running_on_colab = True\n",
    "except ImportError:\n",
    "   is_running_on_colab = False"
   ]
  },
  {
   "cell_type": "markdown",
   "id": "796f2577-cd2f-4130-a2a9-35d768495f9a",
   "metadata": {
    "id": "796f2577-cd2f-4130-a2a9-35d768495f9a",
    "jp-MarkdownHeadingCollapsed": true
   },
   "source": [
    "<h2 style='font-weight: bold;'>2) Setting notebook</h2>"
   ]
  },
  {
   "cell_type": "code",
   "execution_count": 243,
   "id": "af3ad461-d57d-46d1-96d5-f62e51fd6d86",
   "metadata": {
    "ExecuteTime": {
     "end_time": "2025-05-27T10:50:53.422484Z",
     "start_time": "2025-05-27T10:50:53.416174Z"
    },
    "id": "af3ad461-d57d-46d1-96d5-f62e51fd6d86"
   },
   "outputs": [],
   "source": [
    "\n",
    "if not is_running_on_colab:\n",
    "    alt.renderers.enable('mimetype')\n",
    "else:\n",
    "    alt.renderers.enable('html')\n"
   ]
  },
  {
   "cell_type": "markdown",
   "id": "de696c32-e12b-4ac1-b39f-d2798415ded0",
   "metadata": {
    "id": "de696c32-e12b-4ac1-b39f-d2798415ded0",
    "jp-MarkdownHeadingCollapsed": true
   },
   "source": [
    "<h2 style=\"font-weight: bold;\">3) Load the data</h2>\n",
    "<p>Load the csv file to pandas dataframe</p>"
   ]
  },
  {
   "cell_type": "code",
   "execution_count": 213,
   "id": "11a39d04-d424-4ef9-bfc1-e5250b05dc9f",
   "metadata": {
    "ExecuteTime": {
     "end_time": "2025-05-27T10:49:41.971003Z",
     "start_time": "2025-05-27T10:49:40.817408Z"
    },
    "id": "11a39d04-d424-4ef9-bfc1-e5250b05dc9f",
    "jupyter": {
     "source_hidden": true
    }
   },
   "outputs": [],
   "source": [
    "android_path = \"/home/den/programming/notes/ds/datasets/titanic\"\n",
    "google_path = \"content/MyDrive/Datasets/titanic_data\"\n",
    "mac_path = \"/Volumes/Storage/programming/DS/Datasets/titanic\"\n",
    "\n",
    "folder_path = None\n",
    "\n",
    "if os.path.exists(android_path):\n",
    "    folder_path = android_path\n",
    "elif os.path.exists(google_path):\n",
    "    folder_path = google_path\n",
    "elif os.path.exists(mac_path):\n",
    "    folder_path = mac_path\n",
    "else:\n",
    "    raise ValueError(\"Unable to find titanic train and test csv files\")\n",
    "\n",
    "train_path = os.path.join(folder_path, \"train.csv\")\n",
    "test_path = os.path.join(folder_path, \"test.csv\")"
   ]
  },
  {
   "cell_type": "code",
   "execution_count": 214,
   "id": "4ea8a195-e2de-4952-83df-0348ca524056",
   "metadata": {
    "ExecuteTime": {
     "end_time": "2025-05-27T10:49:42.420979Z",
     "start_time": "2025-05-27T10:49:42.245650Z"
    },
    "id": "4ea8a195-e2de-4952-83df-0348ca524056",
    "jupyter": {
     "source_hidden": true
    }
   },
   "outputs": [],
   "source": [
    "# Set the PassengerId column as index column.\n",
    "index_col = 'PassengerId'\n",
    "\n",
    "# Load the train and test dataframe.\n",
    "train_df = pd.read_csv(train_path, index_col=index_col)\n",
    "test_df = pd.read_csv(test_path, index_col=index_col)"
   ]
  },
  {
   "cell_type": "markdown",
   "id": "ca31e43e-f0b2-49f6-805a-d5db7b9103d7",
   "metadata": {
    "id": "ca31e43e-f0b2-49f6-805a-d5db7b9103d7",
    "jp-MarkdownHeadingCollapsed": true
   },
   "source": [
    "<h2 style=\"font-weight: bold;\">4) Data statistics</h2>\n",
    "<p>Analyse train and test dataframe</p>"
   ]
  },
  {
   "cell_type": "markdown",
   "id": "b0b5ee84-3674-4b58-b4f9-ebb4d980b920",
   "metadata": {
    "id": "b0b5ee84-3674-4b58-b4f9-ebb4d980b920",
    "jp-MarkdownHeadingCollapsed": true
   },
   "source": [
    "<h3 style=\"font-weight: bold;\">i) Rows in train data</h3>\n",
    "<p>View train dataframe top and bottom rows</p>"
   ]
  },
  {
   "cell_type": "code",
   "execution_count": 215,
   "id": "3908408e-84a6-4225-9345-a7da8a7f7081",
   "metadata": {
    "ExecuteTime": {
     "end_time": "2025-05-27T10:49:43.300390Z",
     "start_time": "2025-05-27T10:49:43.114021Z"
    },
    "colab": {
     "base_uri": "https://localhost:8080/",
     "height": 535
    },
    "id": "3908408e-84a6-4225-9345-a7da8a7f7081",
    "outputId": "9345bb77-6db5-4ac9-b177-169dcd2e4d3f"
   },
   "outputs": [
    {
     "data": {
      "text/html": [
       "<div>\n",
       "<style scoped>\n",
       "    .dataframe tbody tr th:only-of-type {\n",
       "        vertical-align: middle;\n",
       "    }\n",
       "\n",
       "    .dataframe tbody tr th {\n",
       "        vertical-align: top;\n",
       "    }\n",
       "\n",
       "    .dataframe thead th {\n",
       "        text-align: right;\n",
       "    }\n",
       "</style>\n",
       "<table border=\"1\" class=\"dataframe\">\n",
       "  <thead>\n",
       "    <tr style=\"text-align: right;\">\n",
       "      <th></th>\n",
       "      <th>Survived</th>\n",
       "      <th>Pclass</th>\n",
       "      <th>Name</th>\n",
       "      <th>Sex</th>\n",
       "      <th>Age</th>\n",
       "      <th>SibSp</th>\n",
       "      <th>Parch</th>\n",
       "      <th>Ticket</th>\n",
       "      <th>Fare</th>\n",
       "      <th>Cabin</th>\n",
       "      <th>Embarked</th>\n",
       "    </tr>\n",
       "    <tr>\n",
       "      <th>PassengerId</th>\n",
       "      <th></th>\n",
       "      <th></th>\n",
       "      <th></th>\n",
       "      <th></th>\n",
       "      <th></th>\n",
       "      <th></th>\n",
       "      <th></th>\n",
       "      <th></th>\n",
       "      <th></th>\n",
       "      <th></th>\n",
       "      <th></th>\n",
       "    </tr>\n",
       "  </thead>\n",
       "  <tbody>\n",
       "    <tr>\n",
       "      <th>1</th>\n",
       "      <td>0</td>\n",
       "      <td>3</td>\n",
       "      <td>Braund, Mr. Owen Harris</td>\n",
       "      <td>male</td>\n",
       "      <td>22.0</td>\n",
       "      <td>1</td>\n",
       "      <td>0</td>\n",
       "      <td>A/5 21171</td>\n",
       "      <td>7.2500</td>\n",
       "      <td>NaN</td>\n",
       "      <td>S</td>\n",
       "    </tr>\n",
       "    <tr>\n",
       "      <th>2</th>\n",
       "      <td>1</td>\n",
       "      <td>1</td>\n",
       "      <td>Cumings, Mrs. John Bradley (Florence Briggs Th...</td>\n",
       "      <td>female</td>\n",
       "      <td>38.0</td>\n",
       "      <td>1</td>\n",
       "      <td>0</td>\n",
       "      <td>PC 17599</td>\n",
       "      <td>71.2833</td>\n",
       "      <td>C85</td>\n",
       "      <td>C</td>\n",
       "    </tr>\n",
       "    <tr>\n",
       "      <th>3</th>\n",
       "      <td>1</td>\n",
       "      <td>3</td>\n",
       "      <td>Heikkinen, Miss. Laina</td>\n",
       "      <td>female</td>\n",
       "      <td>26.0</td>\n",
       "      <td>0</td>\n",
       "      <td>0</td>\n",
       "      <td>STON/O2. 3101282</td>\n",
       "      <td>7.9250</td>\n",
       "      <td>NaN</td>\n",
       "      <td>S</td>\n",
       "    </tr>\n",
       "    <tr>\n",
       "      <th>4</th>\n",
       "      <td>1</td>\n",
       "      <td>1</td>\n",
       "      <td>Futrelle, Mrs. Jacques Heath (Lily May Peel)</td>\n",
       "      <td>female</td>\n",
       "      <td>35.0</td>\n",
       "      <td>1</td>\n",
       "      <td>0</td>\n",
       "      <td>113803</td>\n",
       "      <td>53.1000</td>\n",
       "      <td>C123</td>\n",
       "      <td>S</td>\n",
       "    </tr>\n",
       "    <tr>\n",
       "      <th>5</th>\n",
       "      <td>0</td>\n",
       "      <td>3</td>\n",
       "      <td>Allen, Mr. William Henry</td>\n",
       "      <td>male</td>\n",
       "      <td>35.0</td>\n",
       "      <td>0</td>\n",
       "      <td>0</td>\n",
       "      <td>373450</td>\n",
       "      <td>8.0500</td>\n",
       "      <td>NaN</td>\n",
       "      <td>S</td>\n",
       "    </tr>\n",
       "  </tbody>\n",
       "</table>\n",
       "</div>"
      ],
      "text/plain": [
       "             Survived  Pclass  \\\n",
       "PassengerId                     \n",
       "1                   0       3   \n",
       "2                   1       1   \n",
       "3                   1       3   \n",
       "4                   1       1   \n",
       "5                   0       3   \n",
       "\n",
       "                                                          Name     Sex   Age  \\\n",
       "PassengerId                                                                    \n",
       "1                                      Braund, Mr. Owen Harris    male  22.0   \n",
       "2            Cumings, Mrs. John Bradley (Florence Briggs Th...  female  38.0   \n",
       "3                                       Heikkinen, Miss. Laina  female  26.0   \n",
       "4                 Futrelle, Mrs. Jacques Heath (Lily May Peel)  female  35.0   \n",
       "5                                     Allen, Mr. William Henry    male  35.0   \n",
       "\n",
       "             SibSp  Parch            Ticket     Fare Cabin Embarked  \n",
       "PassengerId                                                          \n",
       "1                1      0         A/5 21171   7.2500   NaN        S  \n",
       "2                1      0          PC 17599  71.2833   C85        C  \n",
       "3                0      0  STON/O2. 3101282   7.9250   NaN        S  \n",
       "4                1      0            113803  53.1000  C123        S  \n",
       "5                0      0            373450   8.0500   NaN        S  "
      ]
     },
     "execution_count": 215,
     "metadata": {},
     "output_type": "execute_result"
    }
   ],
   "source": [
    "# First five rows in train data.\n",
    "train_df.head()"
   ]
  },
  {
   "cell_type": "code",
   "execution_count": 216,
   "id": "8a52e0f5-1267-4775-a373-501320697db7",
   "metadata": {
    "ExecuteTime": {
     "end_time": "2025-05-27T10:49:45.041154Z",
     "start_time": "2025-05-27T10:49:44.959135Z"
    },
    "colab": {
     "base_uri": "https://localhost:8080/",
     "height": 483
    },
    "id": "8a52e0f5-1267-4775-a373-501320697db7",
    "outputId": "258d3dbd-f9ce-482c-ee00-35feb1e6e874"
   },
   "outputs": [
    {
     "data": {
      "text/html": [
       "<div>\n",
       "<style scoped>\n",
       "    .dataframe tbody tr th:only-of-type {\n",
       "        vertical-align: middle;\n",
       "    }\n",
       "\n",
       "    .dataframe tbody tr th {\n",
       "        vertical-align: top;\n",
       "    }\n",
       "\n",
       "    .dataframe thead th {\n",
       "        text-align: right;\n",
       "    }\n",
       "</style>\n",
       "<table border=\"1\" class=\"dataframe\">\n",
       "  <thead>\n",
       "    <tr style=\"text-align: right;\">\n",
       "      <th></th>\n",
       "      <th>Survived</th>\n",
       "      <th>Pclass</th>\n",
       "      <th>Name</th>\n",
       "      <th>Sex</th>\n",
       "      <th>Age</th>\n",
       "      <th>SibSp</th>\n",
       "      <th>Parch</th>\n",
       "      <th>Ticket</th>\n",
       "      <th>Fare</th>\n",
       "      <th>Cabin</th>\n",
       "      <th>Embarked</th>\n",
       "    </tr>\n",
       "    <tr>\n",
       "      <th>PassengerId</th>\n",
       "      <th></th>\n",
       "      <th></th>\n",
       "      <th></th>\n",
       "      <th></th>\n",
       "      <th></th>\n",
       "      <th></th>\n",
       "      <th></th>\n",
       "      <th></th>\n",
       "      <th></th>\n",
       "      <th></th>\n",
       "      <th></th>\n",
       "    </tr>\n",
       "  </thead>\n",
       "  <tbody>\n",
       "    <tr>\n",
       "      <th>887</th>\n",
       "      <td>0</td>\n",
       "      <td>2</td>\n",
       "      <td>Montvila, Rev. Juozas</td>\n",
       "      <td>male</td>\n",
       "      <td>27.0</td>\n",
       "      <td>0</td>\n",
       "      <td>0</td>\n",
       "      <td>211536</td>\n",
       "      <td>13.00</td>\n",
       "      <td>NaN</td>\n",
       "      <td>S</td>\n",
       "    </tr>\n",
       "    <tr>\n",
       "      <th>888</th>\n",
       "      <td>1</td>\n",
       "      <td>1</td>\n",
       "      <td>Graham, Miss. Margaret Edith</td>\n",
       "      <td>female</td>\n",
       "      <td>19.0</td>\n",
       "      <td>0</td>\n",
       "      <td>0</td>\n",
       "      <td>112053</td>\n",
       "      <td>30.00</td>\n",
       "      <td>B42</td>\n",
       "      <td>S</td>\n",
       "    </tr>\n",
       "    <tr>\n",
       "      <th>889</th>\n",
       "      <td>0</td>\n",
       "      <td>3</td>\n",
       "      <td>Johnston, Miss. Catherine Helen \"Carrie\"</td>\n",
       "      <td>female</td>\n",
       "      <td>NaN</td>\n",
       "      <td>1</td>\n",
       "      <td>2</td>\n",
       "      <td>W./C. 6607</td>\n",
       "      <td>23.45</td>\n",
       "      <td>NaN</td>\n",
       "      <td>S</td>\n",
       "    </tr>\n",
       "    <tr>\n",
       "      <th>890</th>\n",
       "      <td>1</td>\n",
       "      <td>1</td>\n",
       "      <td>Behr, Mr. Karl Howell</td>\n",
       "      <td>male</td>\n",
       "      <td>26.0</td>\n",
       "      <td>0</td>\n",
       "      <td>0</td>\n",
       "      <td>111369</td>\n",
       "      <td>30.00</td>\n",
       "      <td>C148</td>\n",
       "      <td>C</td>\n",
       "    </tr>\n",
       "    <tr>\n",
       "      <th>891</th>\n",
       "      <td>0</td>\n",
       "      <td>3</td>\n",
       "      <td>Dooley, Mr. Patrick</td>\n",
       "      <td>male</td>\n",
       "      <td>32.0</td>\n",
       "      <td>0</td>\n",
       "      <td>0</td>\n",
       "      <td>370376</td>\n",
       "      <td>7.75</td>\n",
       "      <td>NaN</td>\n",
       "      <td>Q</td>\n",
       "    </tr>\n",
       "  </tbody>\n",
       "</table>\n",
       "</div>"
      ],
      "text/plain": [
       "             Survived  Pclass                                      Name  \\\n",
       "PassengerId                                                               \n",
       "887                 0       2                     Montvila, Rev. Juozas   \n",
       "888                 1       1              Graham, Miss. Margaret Edith   \n",
       "889                 0       3  Johnston, Miss. Catherine Helen \"Carrie\"   \n",
       "890                 1       1                     Behr, Mr. Karl Howell   \n",
       "891                 0       3                       Dooley, Mr. Patrick   \n",
       "\n",
       "                Sex   Age  SibSp  Parch      Ticket   Fare Cabin Embarked  \n",
       "PassengerId                                                                \n",
       "887            male  27.0      0      0      211536  13.00   NaN        S  \n",
       "888          female  19.0      0      0      112053  30.00   B42        S  \n",
       "889          female   NaN      1      2  W./C. 6607  23.45   NaN        S  \n",
       "890            male  26.0      0      0      111369  30.00  C148        C  \n",
       "891            male  32.0      0      0      370376   7.75   NaN        Q  "
      ]
     },
     "execution_count": 216,
     "metadata": {},
     "output_type": "execute_result"
    }
   ],
   "source": [
    "# First five rows in test data.\n",
    "train_df.tail()"
   ]
  },
  {
   "cell_type": "markdown",
   "id": "0536c4fb-2038-461a-8ba2-61ba88075b32",
   "metadata": {
    "id": "0536c4fb-2038-461a-8ba2-61ba88075b32",
    "jp-MarkdownHeadingCollapsed": true
   },
   "source": [
    "<h3 style=\"font-weight: bold;\">ii) Rows in test data</h3>\n",
    "<p>View test dataframe top and bottom rows</p>"
   ]
  },
  {
   "cell_type": "code",
   "execution_count": 217,
   "id": "88078d46-6871-4db1-81d8-8b514b2eaa9b",
   "metadata": {
    "ExecuteTime": {
     "end_time": "2025-05-27T10:49:47.157155Z",
     "start_time": "2025-05-27T10:49:47.089283Z"
    },
    "colab": {
     "base_uri": "https://localhost:8080/",
     "height": 483
    },
    "id": "88078d46-6871-4db1-81d8-8b514b2eaa9b",
    "outputId": "99d56430-3fed-4c09-8ca3-deb8ccf11a8b"
   },
   "outputs": [
    {
     "data": {
      "text/html": [
       "<div>\n",
       "<style scoped>\n",
       "    .dataframe tbody tr th:only-of-type {\n",
       "        vertical-align: middle;\n",
       "    }\n",
       "\n",
       "    .dataframe tbody tr th {\n",
       "        vertical-align: top;\n",
       "    }\n",
       "\n",
       "    .dataframe thead th {\n",
       "        text-align: right;\n",
       "    }\n",
       "</style>\n",
       "<table border=\"1\" class=\"dataframe\">\n",
       "  <thead>\n",
       "    <tr style=\"text-align: right;\">\n",
       "      <th></th>\n",
       "      <th>Pclass</th>\n",
       "      <th>Name</th>\n",
       "      <th>Sex</th>\n",
       "      <th>Age</th>\n",
       "      <th>SibSp</th>\n",
       "      <th>Parch</th>\n",
       "      <th>Ticket</th>\n",
       "      <th>Fare</th>\n",
       "      <th>Cabin</th>\n",
       "      <th>Embarked</th>\n",
       "    </tr>\n",
       "    <tr>\n",
       "      <th>PassengerId</th>\n",
       "      <th></th>\n",
       "      <th></th>\n",
       "      <th></th>\n",
       "      <th></th>\n",
       "      <th></th>\n",
       "      <th></th>\n",
       "      <th></th>\n",
       "      <th></th>\n",
       "      <th></th>\n",
       "      <th></th>\n",
       "    </tr>\n",
       "  </thead>\n",
       "  <tbody>\n",
       "    <tr>\n",
       "      <th>892</th>\n",
       "      <td>3</td>\n",
       "      <td>Kelly, Mr. James</td>\n",
       "      <td>male</td>\n",
       "      <td>34.5</td>\n",
       "      <td>0</td>\n",
       "      <td>0</td>\n",
       "      <td>330911</td>\n",
       "      <td>7.8292</td>\n",
       "      <td>NaN</td>\n",
       "      <td>Q</td>\n",
       "    </tr>\n",
       "    <tr>\n",
       "      <th>893</th>\n",
       "      <td>3</td>\n",
       "      <td>Wilkes, Mrs. James (Ellen Needs)</td>\n",
       "      <td>female</td>\n",
       "      <td>47.0</td>\n",
       "      <td>1</td>\n",
       "      <td>0</td>\n",
       "      <td>363272</td>\n",
       "      <td>7.0000</td>\n",
       "      <td>NaN</td>\n",
       "      <td>S</td>\n",
       "    </tr>\n",
       "    <tr>\n",
       "      <th>894</th>\n",
       "      <td>2</td>\n",
       "      <td>Myles, Mr. Thomas Francis</td>\n",
       "      <td>male</td>\n",
       "      <td>62.0</td>\n",
       "      <td>0</td>\n",
       "      <td>0</td>\n",
       "      <td>240276</td>\n",
       "      <td>9.6875</td>\n",
       "      <td>NaN</td>\n",
       "      <td>Q</td>\n",
       "    </tr>\n",
       "    <tr>\n",
       "      <th>895</th>\n",
       "      <td>3</td>\n",
       "      <td>Wirz, Mr. Albert</td>\n",
       "      <td>male</td>\n",
       "      <td>27.0</td>\n",
       "      <td>0</td>\n",
       "      <td>0</td>\n",
       "      <td>315154</td>\n",
       "      <td>8.6625</td>\n",
       "      <td>NaN</td>\n",
       "      <td>S</td>\n",
       "    </tr>\n",
       "    <tr>\n",
       "      <th>896</th>\n",
       "      <td>3</td>\n",
       "      <td>Hirvonen, Mrs. Alexander (Helga E Lindqvist)</td>\n",
       "      <td>female</td>\n",
       "      <td>22.0</td>\n",
       "      <td>1</td>\n",
       "      <td>1</td>\n",
       "      <td>3101298</td>\n",
       "      <td>12.2875</td>\n",
       "      <td>NaN</td>\n",
       "      <td>S</td>\n",
       "    </tr>\n",
       "  </tbody>\n",
       "</table>\n",
       "</div>"
      ],
      "text/plain": [
       "             Pclass                                          Name     Sex  \\\n",
       "PassengerId                                                                 \n",
       "892               3                              Kelly, Mr. James    male   \n",
       "893               3              Wilkes, Mrs. James (Ellen Needs)  female   \n",
       "894               2                     Myles, Mr. Thomas Francis    male   \n",
       "895               3                              Wirz, Mr. Albert    male   \n",
       "896               3  Hirvonen, Mrs. Alexander (Helga E Lindqvist)  female   \n",
       "\n",
       "              Age  SibSp  Parch   Ticket     Fare Cabin Embarked  \n",
       "PassengerId                                                       \n",
       "892          34.5      0      0   330911   7.8292   NaN        Q  \n",
       "893          47.0      1      0   363272   7.0000   NaN        S  \n",
       "894          62.0      0      0   240276   9.6875   NaN        Q  \n",
       "895          27.0      0      0   315154   8.6625   NaN        S  \n",
       "896          22.0      1      1  3101298  12.2875   NaN        S  "
      ]
     },
     "execution_count": 217,
     "metadata": {},
     "output_type": "execute_result"
    }
   ],
   "source": [
    "# First five rows in test data.\n",
    "test_df.head()"
   ]
  },
  {
   "cell_type": "code",
   "execution_count": 218,
   "id": "a0faa19e-fd81-49c2-8762-fd85533b6868",
   "metadata": {
    "ExecuteTime": {
     "end_time": "2025-05-27T10:49:49.558896Z",
     "start_time": "2025-05-27T10:49:49.481362Z"
    },
    "colab": {
     "base_uri": "https://localhost:8080/",
     "height": 483
    },
    "id": "a0faa19e-fd81-49c2-8762-fd85533b6868",
    "outputId": "96bb3c59-2d4c-4782-c5a7-efd6ad25b270"
   },
   "outputs": [
    {
     "data": {
      "text/html": [
       "<div>\n",
       "<style scoped>\n",
       "    .dataframe tbody tr th:only-of-type {\n",
       "        vertical-align: middle;\n",
       "    }\n",
       "\n",
       "    .dataframe tbody tr th {\n",
       "        vertical-align: top;\n",
       "    }\n",
       "\n",
       "    .dataframe thead th {\n",
       "        text-align: right;\n",
       "    }\n",
       "</style>\n",
       "<table border=\"1\" class=\"dataframe\">\n",
       "  <thead>\n",
       "    <tr style=\"text-align: right;\">\n",
       "      <th></th>\n",
       "      <th>Pclass</th>\n",
       "      <th>Name</th>\n",
       "      <th>Sex</th>\n",
       "      <th>Age</th>\n",
       "      <th>SibSp</th>\n",
       "      <th>Parch</th>\n",
       "      <th>Ticket</th>\n",
       "      <th>Fare</th>\n",
       "      <th>Cabin</th>\n",
       "      <th>Embarked</th>\n",
       "    </tr>\n",
       "    <tr>\n",
       "      <th>PassengerId</th>\n",
       "      <th></th>\n",
       "      <th></th>\n",
       "      <th></th>\n",
       "      <th></th>\n",
       "      <th></th>\n",
       "      <th></th>\n",
       "      <th></th>\n",
       "      <th></th>\n",
       "      <th></th>\n",
       "      <th></th>\n",
       "    </tr>\n",
       "  </thead>\n",
       "  <tbody>\n",
       "    <tr>\n",
       "      <th>1305</th>\n",
       "      <td>3</td>\n",
       "      <td>Spector, Mr. Woolf</td>\n",
       "      <td>male</td>\n",
       "      <td>NaN</td>\n",
       "      <td>0</td>\n",
       "      <td>0</td>\n",
       "      <td>A.5. 3236</td>\n",
       "      <td>8.0500</td>\n",
       "      <td>NaN</td>\n",
       "      <td>S</td>\n",
       "    </tr>\n",
       "    <tr>\n",
       "      <th>1306</th>\n",
       "      <td>1</td>\n",
       "      <td>Oliva y Ocana, Dona. Fermina</td>\n",
       "      <td>female</td>\n",
       "      <td>39.0</td>\n",
       "      <td>0</td>\n",
       "      <td>0</td>\n",
       "      <td>PC 17758</td>\n",
       "      <td>108.9000</td>\n",
       "      <td>C105</td>\n",
       "      <td>C</td>\n",
       "    </tr>\n",
       "    <tr>\n",
       "      <th>1307</th>\n",
       "      <td>3</td>\n",
       "      <td>Saether, Mr. Simon Sivertsen</td>\n",
       "      <td>male</td>\n",
       "      <td>38.5</td>\n",
       "      <td>0</td>\n",
       "      <td>0</td>\n",
       "      <td>SOTON/O.Q. 3101262</td>\n",
       "      <td>7.2500</td>\n",
       "      <td>NaN</td>\n",
       "      <td>S</td>\n",
       "    </tr>\n",
       "    <tr>\n",
       "      <th>1308</th>\n",
       "      <td>3</td>\n",
       "      <td>Ware, Mr. Frederick</td>\n",
       "      <td>male</td>\n",
       "      <td>NaN</td>\n",
       "      <td>0</td>\n",
       "      <td>0</td>\n",
       "      <td>359309</td>\n",
       "      <td>8.0500</td>\n",
       "      <td>NaN</td>\n",
       "      <td>S</td>\n",
       "    </tr>\n",
       "    <tr>\n",
       "      <th>1309</th>\n",
       "      <td>3</td>\n",
       "      <td>Peter, Master. Michael J</td>\n",
       "      <td>male</td>\n",
       "      <td>NaN</td>\n",
       "      <td>1</td>\n",
       "      <td>1</td>\n",
       "      <td>2668</td>\n",
       "      <td>22.3583</td>\n",
       "      <td>NaN</td>\n",
       "      <td>C</td>\n",
       "    </tr>\n",
       "  </tbody>\n",
       "</table>\n",
       "</div>"
      ],
      "text/plain": [
       "             Pclass                          Name     Sex   Age  SibSp  Parch  \\\n",
       "PassengerId                                                                     \n",
       "1305              3            Spector, Mr. Woolf    male   NaN      0      0   \n",
       "1306              1  Oliva y Ocana, Dona. Fermina  female  39.0      0      0   \n",
       "1307              3  Saether, Mr. Simon Sivertsen    male  38.5      0      0   \n",
       "1308              3           Ware, Mr. Frederick    male   NaN      0      0   \n",
       "1309              3      Peter, Master. Michael J    male   NaN      1      1   \n",
       "\n",
       "                         Ticket      Fare Cabin Embarked  \n",
       "PassengerId                                               \n",
       "1305                  A.5. 3236    8.0500   NaN        S  \n",
       "1306                   PC 17758  108.9000  C105        C  \n",
       "1307         SOTON/O.Q. 3101262    7.2500   NaN        S  \n",
       "1308                     359309    8.0500   NaN        S  \n",
       "1309                       2668   22.3583   NaN        C  "
      ]
     },
     "execution_count": 218,
     "metadata": {},
     "output_type": "execute_result"
    }
   ],
   "source": [
    "# Last five rows in test data\n",
    "test_df.tail()"
   ]
  },
  {
   "cell_type": "markdown",
   "id": "f84d908d-24e9-432a-ae38-b51af16ff6a6",
   "metadata": {
    "id": "f84d908d-24e9-432a-ae38-b51af16ff6a6",
    "jp-MarkdownHeadingCollapsed": true
   },
   "source": [
    "<h3 style=\"font-weight: bold;\">iii) Data description</h3>\n",
    "<p>Get the know the datasets</p>"
   ]
  },
  {
   "cell_type": "markdown",
   "id": "47a11837-d1d5-4f7c-8a57-4f59cb2c7f71",
   "metadata": {
    "id": "47a11837-d1d5-4f7c-8a57-4f59cb2c7f71",
    "jp-MarkdownHeadingCollapsed": true
   },
   "source": [
    "<h4 style=\"font-weight: bold;\">a) Data shapes</h4>"
   ]
  },
  {
   "cell_type": "code",
   "execution_count": 219,
   "id": "4def610c-0540-4075-81bf-47a088d99a52",
   "metadata": {
    "ExecuteTime": {
     "end_time": "2025-05-27T10:49:52.334324Z",
     "start_time": "2025-05-27T10:49:52.320442Z"
    },
    "colab": {
     "base_uri": "https://localhost:8080/"
    },
    "id": "4def610c-0540-4075-81bf-47a088d99a52",
    "outputId": "e075e055-9f7f-4e09-8c8c-ff95302f32b5"
   },
   "outputs": [
    {
     "name": "stdout",
     "output_type": "stream",
     "text": [
      "Train shape:\n",
      "\trows: 891\n",
      "\tcolumns: 11\n"
     ]
    }
   ],
   "source": [
    "# Train dataframe shape.\n",
    "train_shape = train_df.shape\n",
    "print(f\"Train shape:\\n\\trows: {train_shape[0]}\\n\\tcolumns: {train_shape[1]}\")"
   ]
  },
  {
   "cell_type": "code",
   "execution_count": 220,
   "id": "b63684ac-85aa-45fe-8dc0-a16df2ffe964",
   "metadata": {
    "ExecuteTime": {
     "end_time": "2025-05-27T10:49:54.929876Z",
     "start_time": "2025-05-27T10:49:54.911381Z"
    },
    "colab": {
     "base_uri": "https://localhost:8080/"
    },
    "id": "b63684ac-85aa-45fe-8dc0-a16df2ffe964",
    "outputId": "66673378-e87d-4097-ad65-cc9bcd25ae56"
   },
   "outputs": [
    {
     "name": "stdout",
     "output_type": "stream",
     "text": [
      "Test shape:\n",
      "\trows: 418\n",
      "\tcolumns: 10\n"
     ]
    }
   ],
   "source": [
    "# Test dataframe shape.\n",
    "test_shape = test_df.shape\n",
    "print(f\"Test shape:\\n\\trows: {test_shape[0]}\\n\\tcolumns: {test_shape[1]}\")"
   ]
  },
  {
   "cell_type": "markdown",
   "id": "661ad635-c7dc-4e83-8723-6ba88129b4a9",
   "metadata": {
    "id": "661ad635-c7dc-4e83-8723-6ba88129b4a9",
    "jp-MarkdownHeadingCollapsed": true
   },
   "source": [
    "<h4 style=\"font-weight: bold;\">b) Data column names</h4>"
   ]
  },
  {
   "cell_type": "code",
   "execution_count": 221,
   "id": "52caf66e-5b37-467a-abd0-343e21e9a10b",
   "metadata": {
    "ExecuteTime": {
     "end_time": "2025-05-27T10:49:56.326887Z",
     "start_time": "2025-05-27T10:49:56.309572Z"
    },
    "colab": {
     "base_uri": "https://localhost:8080/"
    },
    "id": "52caf66e-5b37-467a-abd0-343e21e9a10b",
    "outputId": "c9fb7358-c0aa-49b7-cfe7-26a1aef2701c"
   },
   "outputs": [
    {
     "name": "stdout",
     "output_type": "stream",
     "text": [
      "['Survived',\n",
      " 'Pclass',\n",
      " 'Name',\n",
      " 'Sex',\n",
      " 'Age',\n",
      " 'SibSp',\n",
      " 'Parch',\n",
      " 'Ticket',\n",
      " 'Fare',\n",
      " 'Cabin',\n",
      " 'Embarked']\n"
     ]
    }
   ],
   "source": [
    "columns = train_df.columns.tolist()\n",
    "pprint.pprint(columns)"
   ]
  },
  {
   "cell_type": "code",
   "execution_count": 222,
   "id": "fb0b0807-4c82-4ddf-8173-e49b8aea134a",
   "metadata": {
    "ExecuteTime": {
     "end_time": "2025-05-27T10:49:58.161237Z",
     "start_time": "2025-05-27T10:49:58.132441Z"
    },
    "colab": {
     "base_uri": "https://localhost:8080/",
     "height": 429
    },
    "id": "fb0b0807-4c82-4ddf-8173-e49b8aea134a",
    "outputId": "322f1e7e-774c-4652-f00f-b5b2212feded"
   },
   "outputs": [
    {
     "data": {
      "text/plain": [
       "Survived      int64\n",
       "Pclass        int64\n",
       "Name         object\n",
       "Sex          object\n",
       "Age         float64\n",
       "SibSp         int64\n",
       "Parch         int64\n",
       "Ticket       object\n",
       "Fare        float64\n",
       "Cabin        object\n",
       "Embarked     object\n",
       "dtype: object"
      ]
     },
     "execution_count": 222,
     "metadata": {},
     "output_type": "execute_result"
    }
   ],
   "source": [
    "train_df.dtypes"
   ]
  },
  {
   "cell_type": "markdown",
   "id": "ebbff283-1f8a-4b69-8e9a-2e1c64e63ac9",
   "metadata": {
    "id": "ebbff283-1f8a-4b69-8e9a-2e1c64e63ac9",
    "jp-MarkdownHeadingCollapsed": true
   },
   "source": [
    "<h5 style=\"font-weight: bold;\">i) Converting train data frame low unique values</h5>"
   ]
  },
  {
   "cell_type": "code",
   "execution_count": 223,
   "id": "7893e5bb-4395-4727-9147-a073fa28a783",
   "metadata": {
    "ExecuteTime": {
     "end_time": "2025-05-27T10:49:59.908984Z",
     "start_time": "2025-05-27T10:49:59.865627Z"
    },
    "colab": {
     "base_uri": "https://localhost:8080/",
     "height": 429
    },
    "id": "7893e5bb-4395-4727-9147-a073fa28a783",
    "outputId": "34fc95f2-2b12-4ae0-895c-bd7116d02780"
   },
   "outputs": [
    {
     "data": {
      "text/plain": [
       "Survived     object\n",
       "Pclass       object\n",
       "Name         object\n",
       "Sex          object\n",
       "Age         float64\n",
       "SibSp        object\n",
       "Parch        object\n",
       "Ticket       object\n",
       "Fare        float64\n",
       "Cabin        object\n",
       "Embarked     object\n",
       "dtype: object"
      ]
     },
     "execution_count": 223,
     "metadata": {},
     "output_type": "execute_result"
    }
   ],
   "source": [
    "def convert_low_unique_value_to_str(data: pd.DataFrame) -> pd.DataFrame:\n",
    "    \"\"\"\n",
    "    Convert low unique values columns to string.\n",
    "\n",
    "    Args\n",
    "    ----\n",
    "    data: Dataframe to change low unique columns.\n",
    "\n",
    "    :return: Dataframe.\n",
    "    \"\"\"\n",
    "    # Change Survived, Pclass, SibSp and Parch to string data type for analysis.\n",
    "    data_copy = data.copy()\n",
    "\n",
    "    # Loop over the column name to turn to object\n",
    "    for col in (\"Survived\", \"Pclass\", \"SibSp\", \"Parch\"):\n",
    "        data_copy[col] = data_copy[col].astype(str)\n",
    "\n",
    "    return data_copy\n",
    "\n",
    "\n",
    "ana_train_data = convert_low_unique_value_to_str(train_df)\n",
    "ana_train_data.dtypes"
   ]
  },
  {
   "cell_type": "markdown",
   "id": "75b20ce5-4741-499c-9c5e-d519e4d77e0b",
   "metadata": {
    "id": "75b20ce5-4741-499c-9c5e-d519e4d77e0b",
    "jp-MarkdownHeadingCollapsed": true
   },
   "source": [
    "<h4 style=\"font-weight: bold;\">c) Data information</h4>"
   ]
  },
  {
   "cell_type": "code",
   "execution_count": 224,
   "id": "e2195c1e-4272-4d56-a94c-591458c1eb7c",
   "metadata": {
    "ExecuteTime": {
     "end_time": "2025-05-27T10:50:00.940081Z",
     "start_time": "2025-05-27T10:50:00.903395Z"
    },
    "colab": {
     "base_uri": "https://localhost:8080/"
    },
    "id": "e2195c1e-4272-4d56-a94c-591458c1eb7c",
    "outputId": "db5bd71c-4980-4e6f-b5d9-3a4ec5e6d6e7",
    "scrolled": true
   },
   "outputs": [
    {
     "name": "stdout",
     "output_type": "stream",
     "text": [
      "<class 'pandas.core.frame.DataFrame'>\n",
      "Index: 891 entries, 1 to 891\n",
      "Data columns (total 11 columns):\n",
      " #   Column    Non-Null Count  Dtype  \n",
      "---  ------    --------------  -----  \n",
      " 0   Survived  891 non-null    int64  \n",
      " 1   Pclass    891 non-null    int64  \n",
      " 2   Name      891 non-null    object \n",
      " 3   Sex       891 non-null    object \n",
      " 4   Age       714 non-null    float64\n",
      " 5   SibSp     891 non-null    int64  \n",
      " 6   Parch     891 non-null    int64  \n",
      " 7   Ticket    891 non-null    object \n",
      " 8   Fare      891 non-null    float64\n",
      " 9   Cabin     204 non-null    object \n",
      " 10  Embarked  889 non-null    object \n",
      "dtypes: float64(2), int64(4), object(5)\n",
      "memory usage: 83.5+ KB\n"
     ]
    }
   ],
   "source": [
    "# Train data information.\n",
    "train_df.info()"
   ]
  },
  {
   "cell_type": "code",
   "execution_count": 225,
   "id": "00a99b72-fc52-4d0a-afad-800dc763f356",
   "metadata": {
    "ExecuteTime": {
     "end_time": "2025-05-27T10:50:02.110518Z",
     "start_time": "2025-05-27T10:50:02.080415Z"
    },
    "colab": {
     "base_uri": "https://localhost:8080/"
    },
    "id": "00a99b72-fc52-4d0a-afad-800dc763f356",
    "outputId": "33e5b5a2-062c-4624-eccc-aced04c4d7e9"
   },
   "outputs": [
    {
     "name": "stdout",
     "output_type": "stream",
     "text": [
      "<class 'pandas.core.frame.DataFrame'>\n",
      "Index: 418 entries, 892 to 1309\n",
      "Data columns (total 10 columns):\n",
      " #   Column    Non-Null Count  Dtype  \n",
      "---  ------    --------------  -----  \n",
      " 0   Pclass    418 non-null    int64  \n",
      " 1   Name      418 non-null    object \n",
      " 2   Sex       418 non-null    object \n",
      " 3   Age       332 non-null    float64\n",
      " 4   SibSp     418 non-null    int64  \n",
      " 5   Parch     418 non-null    int64  \n",
      " 6   Ticket    418 non-null    object \n",
      " 7   Fare      417 non-null    float64\n",
      " 8   Cabin     91 non-null     object \n",
      " 9   Embarked  418 non-null    object \n",
      "dtypes: float64(2), int64(3), object(5)\n",
      "memory usage: 35.9+ KB\n"
     ]
    }
   ],
   "source": [
    "# Test data information\n",
    "test_df.info()"
   ]
  },
  {
   "cell_type": "markdown",
   "id": "28e7e1c4-8686-42da-8cd3-57d8cef62f0f",
   "metadata": {
    "id": "28e7e1c4-8686-42da-8cd3-57d8cef62f0f",
    "jp-MarkdownHeadingCollapsed": true
   },
   "source": [
    "<h4 style=\"font-weight: bold;\">d) Describing the data</h4>"
   ]
  },
  {
   "cell_type": "code",
   "execution_count": 226,
   "id": "99816fe2-5087-4d0f-ac8d-eb19a2d75409",
   "metadata": {
    "ExecuteTime": {
     "end_time": "2025-05-27T10:50:04.188407Z",
     "start_time": "2025-05-27T10:50:04.069932Z"
    },
    "colab": {
     "base_uri": "https://localhost:8080/",
     "height": 237
    },
    "id": "99816fe2-5087-4d0f-ac8d-eb19a2d75409",
    "outputId": "43486703-b89a-4b0e-a877-df0546a00dd1"
   },
   "outputs": [
    {
     "data": {
      "text/html": [
       "<div>\n",
       "<style scoped>\n",
       "    .dataframe tbody tr th:only-of-type {\n",
       "        vertical-align: middle;\n",
       "    }\n",
       "\n",
       "    .dataframe tbody tr th {\n",
       "        vertical-align: top;\n",
       "    }\n",
       "\n",
       "    .dataframe thead th {\n",
       "        text-align: right;\n",
       "    }\n",
       "</style>\n",
       "<table border=\"1\" class=\"dataframe\">\n",
       "  <thead>\n",
       "    <tr style=\"text-align: right;\">\n",
       "      <th></th>\n",
       "      <th>count</th>\n",
       "      <th>mean</th>\n",
       "      <th>std</th>\n",
       "      <th>min</th>\n",
       "      <th>25%</th>\n",
       "      <th>50%</th>\n",
       "      <th>75%</th>\n",
       "      <th>max</th>\n",
       "    </tr>\n",
       "  </thead>\n",
       "  <tbody>\n",
       "    <tr>\n",
       "      <th>Survived</th>\n",
       "      <td>891.0</td>\n",
       "      <td>0.383838</td>\n",
       "      <td>0.486592</td>\n",
       "      <td>0.00</td>\n",
       "      <td>0.0000</td>\n",
       "      <td>0.0000</td>\n",
       "      <td>1.0</td>\n",
       "      <td>1.0000</td>\n",
       "    </tr>\n",
       "    <tr>\n",
       "      <th>Pclass</th>\n",
       "      <td>891.0</td>\n",
       "      <td>2.308642</td>\n",
       "      <td>0.836071</td>\n",
       "      <td>1.00</td>\n",
       "      <td>2.0000</td>\n",
       "      <td>3.0000</td>\n",
       "      <td>3.0</td>\n",
       "      <td>3.0000</td>\n",
       "    </tr>\n",
       "    <tr>\n",
       "      <th>Age</th>\n",
       "      <td>714.0</td>\n",
       "      <td>29.699118</td>\n",
       "      <td>14.526497</td>\n",
       "      <td>0.42</td>\n",
       "      <td>20.1250</td>\n",
       "      <td>28.0000</td>\n",
       "      <td>38.0</td>\n",
       "      <td>80.0000</td>\n",
       "    </tr>\n",
       "    <tr>\n",
       "      <th>SibSp</th>\n",
       "      <td>891.0</td>\n",
       "      <td>0.523008</td>\n",
       "      <td>1.102743</td>\n",
       "      <td>0.00</td>\n",
       "      <td>0.0000</td>\n",
       "      <td>0.0000</td>\n",
       "      <td>1.0</td>\n",
       "      <td>8.0000</td>\n",
       "    </tr>\n",
       "    <tr>\n",
       "      <th>Parch</th>\n",
       "      <td>891.0</td>\n",
       "      <td>0.381594</td>\n",
       "      <td>0.806057</td>\n",
       "      <td>0.00</td>\n",
       "      <td>0.0000</td>\n",
       "      <td>0.0000</td>\n",
       "      <td>0.0</td>\n",
       "      <td>6.0000</td>\n",
       "    </tr>\n",
       "    <tr>\n",
       "      <th>Fare</th>\n",
       "      <td>891.0</td>\n",
       "      <td>32.204208</td>\n",
       "      <td>49.693429</td>\n",
       "      <td>0.00</td>\n",
       "      <td>7.9104</td>\n",
       "      <td>14.4542</td>\n",
       "      <td>31.0</td>\n",
       "      <td>512.3292</td>\n",
       "    </tr>\n",
       "  </tbody>\n",
       "</table>\n",
       "</div>"
      ],
      "text/plain": [
       "          count       mean        std   min      25%      50%   75%       max\n",
       "Survived  891.0   0.383838   0.486592  0.00   0.0000   0.0000   1.0    1.0000\n",
       "Pclass    891.0   2.308642   0.836071  1.00   2.0000   3.0000   3.0    3.0000\n",
       "Age       714.0  29.699118  14.526497  0.42  20.1250  28.0000  38.0   80.0000\n",
       "SibSp     891.0   0.523008   1.102743  0.00   0.0000   0.0000   1.0    8.0000\n",
       "Parch     891.0   0.381594   0.806057  0.00   0.0000   0.0000   0.0    6.0000\n",
       "Fare      891.0  32.204208  49.693429  0.00   7.9104  14.4542  31.0  512.3292"
      ]
     },
     "execution_count": 226,
     "metadata": {},
     "output_type": "execute_result"
    }
   ],
   "source": [
    "# Train dataframe description\n",
    "train_df.describe().T"
   ]
  },
  {
   "cell_type": "markdown",
   "id": "6b78a8b5-4a3a-44df-8b29-fd956f3f36b2",
   "metadata": {
    "id": "6b78a8b5-4a3a-44df-8b29-fd956f3f36b2"
   },
   "source": [
    "<p style=\"font-weight: bold; font-style: italic;\">Description of numerical columns in train data</p>"
   ]
  },
  {
   "cell_type": "code",
   "execution_count": 227,
   "id": "8e98c0a0-b78a-4b22-9851-e027d73f1ddc",
   "metadata": {
    "ExecuteTime": {
     "end_time": "2025-05-27T10:50:05.179886Z",
     "start_time": "2025-05-27T10:50:05.069463Z"
    },
    "colab": {
     "base_uri": "https://localhost:8080/",
     "height": 112
    },
    "id": "8e98c0a0-b78a-4b22-9851-e027d73f1ddc",
    "outputId": "5dca4a84-697e-428c-f853-a9b4db465cd8"
   },
   "outputs": [
    {
     "data": {
      "text/html": [
       "<div>\n",
       "<style scoped>\n",
       "    .dataframe tbody tr th:only-of-type {\n",
       "        vertical-align: middle;\n",
       "    }\n",
       "\n",
       "    .dataframe tbody tr th {\n",
       "        vertical-align: top;\n",
       "    }\n",
       "\n",
       "    .dataframe thead th {\n",
       "        text-align: right;\n",
       "    }\n",
       "</style>\n",
       "<table border=\"1\" class=\"dataframe\">\n",
       "  <thead>\n",
       "    <tr style=\"text-align: right;\">\n",
       "      <th></th>\n",
       "      <th>count</th>\n",
       "      <th>mean</th>\n",
       "      <th>std</th>\n",
       "      <th>min</th>\n",
       "      <th>25%</th>\n",
       "      <th>50%</th>\n",
       "      <th>75%</th>\n",
       "      <th>max</th>\n",
       "    </tr>\n",
       "  </thead>\n",
       "  <tbody>\n",
       "    <tr>\n",
       "      <th>Age</th>\n",
       "      <td>714.0</td>\n",
       "      <td>29.699118</td>\n",
       "      <td>14.526497</td>\n",
       "      <td>0.42</td>\n",
       "      <td>20.1250</td>\n",
       "      <td>28.0000</td>\n",
       "      <td>38.0</td>\n",
       "      <td>80.0000</td>\n",
       "    </tr>\n",
       "    <tr>\n",
       "      <th>Fare</th>\n",
       "      <td>891.0</td>\n",
       "      <td>32.204208</td>\n",
       "      <td>49.693429</td>\n",
       "      <td>0.00</td>\n",
       "      <td>7.9104</td>\n",
       "      <td>14.4542</td>\n",
       "      <td>31.0</td>\n",
       "      <td>512.3292</td>\n",
       "    </tr>\n",
       "  </tbody>\n",
       "</table>\n",
       "</div>"
      ],
      "text/plain": [
       "      count       mean        std   min      25%      50%   75%       max\n",
       "Age   714.0  29.699118  14.526497  0.42  20.1250  28.0000  38.0   80.0000\n",
       "Fare  891.0  32.204208  49.693429  0.00   7.9104  14.4542  31.0  512.3292"
      ]
     },
     "execution_count": 227,
     "metadata": {},
     "output_type": "execute_result"
    }
   ],
   "source": [
    "\n",
    "ana_train_data.describe().T"
   ]
  },
  {
   "cell_type": "markdown",
   "id": "35ab9832-dfa2-4df0-acf6-8a37171bbc5e",
   "metadata": {
    "id": "35ab9832-dfa2-4df0-acf6-8a37171bbc5e"
   },
   "source": [
    "<p style=\"font-weight: bold; font-style: italic;\">Description of categorical columns in train data</p>"
   ]
  },
  {
   "cell_type": "code",
   "execution_count": 228,
   "id": "63ea916a-bff3-4558-a37c-3bcdd30354fd",
   "metadata": {
    "ExecuteTime": {
     "end_time": "2025-05-27T10:50:07.642228Z",
     "start_time": "2025-05-27T10:50:07.543243Z"
    },
    "colab": {
     "base_uri": "https://localhost:8080/",
     "height": 331
    },
    "id": "63ea916a-bff3-4558-a37c-3bcdd30354fd",
    "outputId": "07005315-2c5d-4723-90ac-b16fca3dcc53"
   },
   "outputs": [
    {
     "data": {
      "text/html": [
       "<div>\n",
       "<style scoped>\n",
       "    .dataframe tbody tr th:only-of-type {\n",
       "        vertical-align: middle;\n",
       "    }\n",
       "\n",
       "    .dataframe tbody tr th {\n",
       "        vertical-align: top;\n",
       "    }\n",
       "\n",
       "    .dataframe thead th {\n",
       "        text-align: right;\n",
       "    }\n",
       "</style>\n",
       "<table border=\"1\" class=\"dataframe\">\n",
       "  <thead>\n",
       "    <tr style=\"text-align: right;\">\n",
       "      <th></th>\n",
       "      <th>count</th>\n",
       "      <th>unique</th>\n",
       "      <th>top</th>\n",
       "      <th>freq</th>\n",
       "    </tr>\n",
       "  </thead>\n",
       "  <tbody>\n",
       "    <tr>\n",
       "      <th>Survived</th>\n",
       "      <td>891</td>\n",
       "      <td>2</td>\n",
       "      <td>0</td>\n",
       "      <td>549</td>\n",
       "    </tr>\n",
       "    <tr>\n",
       "      <th>Pclass</th>\n",
       "      <td>891</td>\n",
       "      <td>3</td>\n",
       "      <td>3</td>\n",
       "      <td>491</td>\n",
       "    </tr>\n",
       "    <tr>\n",
       "      <th>Name</th>\n",
       "      <td>891</td>\n",
       "      <td>891</td>\n",
       "      <td>Braund, Mr. Owen Harris</td>\n",
       "      <td>1</td>\n",
       "    </tr>\n",
       "    <tr>\n",
       "      <th>Sex</th>\n",
       "      <td>891</td>\n",
       "      <td>2</td>\n",
       "      <td>male</td>\n",
       "      <td>577</td>\n",
       "    </tr>\n",
       "    <tr>\n",
       "      <th>SibSp</th>\n",
       "      <td>891</td>\n",
       "      <td>7</td>\n",
       "      <td>0</td>\n",
       "      <td>608</td>\n",
       "    </tr>\n",
       "    <tr>\n",
       "      <th>Parch</th>\n",
       "      <td>891</td>\n",
       "      <td>7</td>\n",
       "      <td>0</td>\n",
       "      <td>678</td>\n",
       "    </tr>\n",
       "    <tr>\n",
       "      <th>Ticket</th>\n",
       "      <td>891</td>\n",
       "      <td>681</td>\n",
       "      <td>347082</td>\n",
       "      <td>7</td>\n",
       "    </tr>\n",
       "    <tr>\n",
       "      <th>Cabin</th>\n",
       "      <td>204</td>\n",
       "      <td>147</td>\n",
       "      <td>B96 B98</td>\n",
       "      <td>4</td>\n",
       "    </tr>\n",
       "    <tr>\n",
       "      <th>Embarked</th>\n",
       "      <td>889</td>\n",
       "      <td>3</td>\n",
       "      <td>S</td>\n",
       "      <td>644</td>\n",
       "    </tr>\n",
       "  </tbody>\n",
       "</table>\n",
       "</div>"
      ],
      "text/plain": [
       "         count unique                      top freq\n",
       "Survived   891      2                        0  549\n",
       "Pclass     891      3                        3  491\n",
       "Name       891    891  Braund, Mr. Owen Harris    1\n",
       "Sex        891      2                     male  577\n",
       "SibSp      891      7                        0  608\n",
       "Parch      891      7                        0  678\n",
       "Ticket     891    681                   347082    7\n",
       "Cabin      204    147                  B96 B98    4\n",
       "Embarked   889      3                        S  644"
      ]
     },
     "execution_count": 228,
     "metadata": {},
     "output_type": "execute_result"
    }
   ],
   "source": [
    "ana_train_data.describe(exclude=float).T"
   ]
  },
  {
   "cell_type": "markdown",
   "id": "a38b8daf-539e-475d-a891-30a3ae5a889c",
   "metadata": {
    "id": "a38b8daf-539e-475d-a891-30a3ae5a889c",
    "jp-MarkdownHeadingCollapsed": true
   },
   "source": [
    "<h2 style=\"font-weight: bold;\">5) Data split</h2>\n",
    "<p>Separate target from the data and then split the data into train and validation</p>"
   ]
  },
  {
   "cell_type": "code",
   "execution_count": 229,
   "id": "fad4ae80-7c05-4dec-9503-d7fbe24ed6b1",
   "metadata": {
    "ExecuteTime": {
     "end_time": "2025-05-27T10:50:08.982579Z",
     "start_time": "2025-05-27T10:50:08.961818Z"
    },
    "colab": {
     "base_uri": "https://localhost:8080/"
    },
    "id": "fad4ae80-7c05-4dec-9503-d7fbe24ed6b1",
    "outputId": "4a8ae648-c432-4629-c48f-9a53ca6f3478"
   },
   "outputs": [
    {
     "name": "stdout",
     "output_type": "stream",
     "text": [
      "\n",
      "X shape: (891, 10)\n",
      "y shape: (891, 1)\n",
      "\n"
     ]
    }
   ],
   "source": [
    "# Target name.\n",
    "target_name = \"Survived\"\n",
    "\n",
    "# Separating target column from the feature columns.\n",
    "X = train_df.copy()\n",
    "y = X.pop(target_name).values.reshape(-1, 1)\n",
    "\n",
    "# View the shape X and y.\n",
    "print(f'''\n",
    "X shape: {X.shape}\n",
    "y shape: {y.shape}\n",
    "''')"
   ]
  },
  {
   "cell_type": "code",
   "execution_count": 230,
   "id": "63f7c9e4-8401-461a-83ba-fea6e9f0249d",
   "metadata": {
    "ExecuteTime": {
     "end_time": "2025-05-27T10:50:11.430433Z",
     "start_time": "2025-05-27T10:50:11.388640Z"
    },
    "colab": {
     "base_uri": "https://localhost:8080/"
    },
    "id": "63f7c9e4-8401-461a-83ba-fea6e9f0249d",
    "outputId": "8de703aa-550d-409e-8f8a-29940348ca4c"
   },
   "outputs": [
    {
     "name": "stdout",
     "output_type": "stream",
     "text": [
      "\n",
      "train_x shape: (668, 10)\n",
      "train_y shape: (668, 1)\n",
      "valid_x shape: (223, 10)\n",
      "valid_y shape: (223, 1)\n",
      "\n"
     ]
    }
   ],
   "source": [
    "# 25 percent will be for test data.\n",
    "test_size = 0.25\n",
    "\n",
    "# 🪓 Splitting data into train and validation data.\n",
    "train_x, valid_x, train_y, valid_y = train_test_split(X, y, test_size=test_size)\n",
    "\n",
    "# View the shape of the data.\n",
    "print(f'''\n",
    "train_x shape: {train_x.shape}\n",
    "train_y shape: {train_y.shape}\n",
    "valid_x shape: {valid_x.shape}\n",
    "valid_y shape: {valid_y.shape}\n",
    "''')"
   ]
  },
  {
   "cell_type": "markdown",
   "id": "569db3f6-aed1-4a2f-ac8a-15126a314794",
   "metadata": {
    "id": "569db3f6-aed1-4a2f-ac8a-15126a314794",
    "jp-MarkdownHeadingCollapsed": true
   },
   "source": [
    "<h2 style=\"font-weight: bold;\">6) Data cleaning</h2>\n",
    "<p>Modifying or removing data that is inaccurate, duplicate, incomplete, incorrectly formatted, or corrupted</p>"
   ]
  },
  {
   "cell_type": "markdown",
   "id": "c5a53948-c255-4c5d-b190-13daf7c45ba9",
   "metadata": {
    "id": "c5a53948-c255-4c5d-b190-13daf7c45ba9"
   },
   "source": [
    "<h3 style=\"font-weight: bold;\">i) Check the missing values (NaN)</h3>\n",
    "<p>Search for missing value in the dataframes</p>"
   ]
  },
  {
   "cell_type": "code",
   "execution_count": 231,
   "id": "ab9ec910-cbff-4b63-ba07-07f2fbd15ea3",
   "metadata": {
    "ExecuteTime": {
     "end_time": "2025-05-27T10:50:13.318600Z",
     "start_time": "2025-05-27T10:50:13.300613Z"
    },
    "id": "ab9ec910-cbff-4b63-ba07-07f2fbd15ea3",
    "jupyter": {
     "source_hidden": true
    }
   },
   "outputs": [],
   "source": [
    "def check_n_nan(data: pd.DataFrame, only_nan: bool=True) -> pd.DataFrame:\n",
    "    \"\"\"\n",
    "    Represents the summary of missing data in the\n",
    "    data frame.\n",
    "\n",
    "    Parameters:\n",
    "    ----------\n",
    "    data: A data frame to check for missing data.\n",
    "\n",
    "    return: A dataframe with number of missing value (NaN) and the percentage.\n",
    "    \"\"\"\n",
    "    # Compute the total NaN for each column.\n",
    "    total_nan = data.isna().sum()\n",
    "\n",
    "    if only_nan:\n",
    "        total_nan = total_nan[total_nan > 0]\n",
    "\n",
    "    # Columns\n",
    "    column_names = total_nan.index\n",
    "\n",
    "    # Compute the percentage of missing data.\n",
    "    percentage = (((total_nan / data.shape[0]) * 100)\n",
    "                  .round(2)\n",
    "                  .astype(str)\n",
    "                  .map(lambda x: x + '%')\n",
    "                 )\n",
    "\n",
    "    return pd.DataFrame({\n",
    "        'columns': column_names,\n",
    "        'total_nan': total_nan,\n",
    "        'percent_nan': percentage\n",
    "    }).reset_index(drop=True)"
   ]
  },
  {
   "cell_type": "code",
   "execution_count": 232,
   "id": "71d6e8a8-1a60-4ce7-bfa2-cd93ae383fba",
   "metadata": {
    "ExecuteTime": {
     "end_time": "2025-05-27T10:50:14.276665Z",
     "start_time": "2025-05-27T10:50:14.246125Z"
    },
    "id": "71d6e8a8-1a60-4ce7-bfa2-cd93ae383fba",
    "jupyter": {
     "source_hidden": true
    }
   },
   "outputs": [],
   "source": [
    "def plot_nan(data: pd.DataFrame, name: str | None=None, only_nan: bool=True, use_percent=False) -> None:\n",
    "    nan_df = check_n_nan(data, only_nan)\n",
    "    nan_df['percent_nan'] = nan_df['percent_nan'].str.replace('%', '').astype(float).round().astype(int)\n",
    "\n",
    "    radius = 5\n",
    "    y_name = 'percent_nan' if use_percent else 'total_nan'\n",
    "    startup_title = 'Percentage' if use_percent else 'Number'\n",
    "    y_title = f'{startup_title} of missing values'\n",
    "    y_name = alt.Y(y_name).title(y_title)\n",
    "    name = name if name else 'a dataset'\n",
    "    title = f'{startup_title} Of Missing values In {name.title()}'\n",
    "    subtitle = f'A chart represents missing data in {name}'\n",
    "\n",
    "    base = alt.Chart(\n",
    "        nan_df,\n",
    "        title=alt.Title(\n",
    "            title,\n",
    "            subtitle=subtitle,\n",
    "            anchor='start',\n",
    "        )\n",
    "    ).mark_bar(\n",
    "        cornerRadiusTopLeft=radius,\n",
    "        cornerRadiusTopRight=radius\n",
    "    ).encode(\n",
    "        x = alt.X('columns').title('Columns names'),\n",
    "        y = y_name,\n",
    "        color = alt.Color('columns').scale(\n",
    "            scheme='lightgreyred',\n",
    "            reverse=True\n",
    "        ).legend(orient='right'),\n",
    "        tooltip = [\"columns\", \"total_nan\", 'percent_nan'],\n",
    "        text = 'columns'\n",
    "    ).configure_axis(\n",
    "        grid=False\n",
    "    ).configure_view(\n",
    "        stroke=None\n",
    "    )\n",
    "\n",
    "    return base"
   ]
  },
  {
   "cell_type": "markdown",
   "id": "907a7417-4dc5-4c7a-89f1-f5ca107291fb",
   "metadata": {
    "id": "907a7417-4dc5-4c7a-89f1-f5ca107291fb"
   },
   "source": [
    "<h4 style=\"font-weight: bold;\">a) Observing missing data in train and validation data</h4>"
   ]
  },
  {
   "cell_type": "markdown",
   "id": "d222933d-935b-48e9-ada5-9f5487dc2158",
   "metadata": {
    "id": "d222933d-935b-48e9-ada5-9f5487dc2158"
   },
   "source": [
    "<h5 style=\"font-weight: bold;\">One) X train dataset</h5>"
   ]
  },
  {
   "cell_type": "code",
   "execution_count": 233,
   "id": "321fb63b-d441-4d2b-9e09-13d61256ab41",
   "metadata": {
    "ExecuteTime": {
     "end_time": "2025-05-27T10:50:14.780993Z",
     "start_time": "2025-05-27T10:50:14.747101Z"
    },
    "colab": {
     "base_uri": "https://localhost:8080/",
     "height": 143
    },
    "id": "321fb63b-d441-4d2b-9e09-13d61256ab41",
    "outputId": "3eb23988-c501-4a34-c9c3-82921b75287d"
   },
   "outputs": [
    {
     "data": {
      "text/html": [
       "<div>\n",
       "<style scoped>\n",
       "    .dataframe tbody tr th:only-of-type {\n",
       "        vertical-align: middle;\n",
       "    }\n",
       "\n",
       "    .dataframe tbody tr th {\n",
       "        vertical-align: top;\n",
       "    }\n",
       "\n",
       "    .dataframe thead th {\n",
       "        text-align: right;\n",
       "    }\n",
       "</style>\n",
       "<table border=\"1\" class=\"dataframe\">\n",
       "  <thead>\n",
       "    <tr style=\"text-align: right;\">\n",
       "      <th></th>\n",
       "      <th>columns</th>\n",
       "      <th>total_nan</th>\n",
       "      <th>percent_nan</th>\n",
       "    </tr>\n",
       "  </thead>\n",
       "  <tbody>\n",
       "    <tr>\n",
       "      <th>0</th>\n",
       "      <td>Age</td>\n",
       "      <td>125</td>\n",
       "      <td>18.71%</td>\n",
       "    </tr>\n",
       "    <tr>\n",
       "      <th>1</th>\n",
       "      <td>Cabin</td>\n",
       "      <td>515</td>\n",
       "      <td>77.1%</td>\n",
       "    </tr>\n",
       "    <tr>\n",
       "      <th>2</th>\n",
       "      <td>Embarked</td>\n",
       "      <td>1</td>\n",
       "      <td>0.15%</td>\n",
       "    </tr>\n",
       "  </tbody>\n",
       "</table>\n",
       "</div>"
      ],
      "text/plain": [
       "    columns  total_nan percent_nan\n",
       "0       Age        125      18.71%\n",
       "1     Cabin        515       77.1%\n",
       "2  Embarked          1       0.15%"
      ]
     },
     "execution_count": 233,
     "metadata": {},
     "output_type": "execute_result"
    }
   ],
   "source": [
    "check_n_nan(train_x)"
   ]
  },
  {
   "cell_type": "code",
   "execution_count": 234,
   "id": "b3f6aa76-3d6e-4be5-8c68-34f0e6232b01",
   "metadata": {
    "ExecuteTime": {
     "end_time": "2025-05-27T10:50:15.973827Z",
     "start_time": "2025-05-27T10:50:15.436750Z"
    },
    "colab": {
     "base_uri": "https://localhost:8080/",
     "height": 435
    },
    "id": "b3f6aa76-3d6e-4be5-8c68-34f0e6232b01",
    "outputId": "7681cb1a-8433-428b-d57d-d92fdb5c26ac"
   },
   "outputs": [
    {
     "data": {
      "application/vnd.vegalite.v5+json": {
       "$schema": "https://vega.github.io/schema/vega-lite/v5.20.1.json",
       "config": {
        "axis": {
         "grid": false
        },
        "view": {
         "continuousHeight": 300,
         "continuousWidth": 300,
         "stroke": null
        }
       },
       "data": {
        "name": "data-6b7650b0e3343bbc8a224b4a2a2b7b13"
       },
       "datasets": {
        "data-6b7650b0e3343bbc8a224b4a2a2b7b13": [
         {
          "columns": "Pclass",
          "percent_nan": 0,
          "total_nan": 0
         },
         {
          "columns": "Name",
          "percent_nan": 0,
          "total_nan": 0
         },
         {
          "columns": "Sex",
          "percent_nan": 0,
          "total_nan": 0
         },
         {
          "columns": "Age",
          "percent_nan": 19,
          "total_nan": 125
         },
         {
          "columns": "SibSp",
          "percent_nan": 0,
          "total_nan": 0
         },
         {
          "columns": "Parch",
          "percent_nan": 0,
          "total_nan": 0
         },
         {
          "columns": "Ticket",
          "percent_nan": 0,
          "total_nan": 0
         },
         {
          "columns": "Fare",
          "percent_nan": 0,
          "total_nan": 0
         },
         {
          "columns": "Cabin",
          "percent_nan": 77,
          "total_nan": 515
         },
         {
          "columns": "Embarked",
          "percent_nan": 0,
          "total_nan": 1
         }
        ]
       },
       "encoding": {
        "color": {
         "field": "columns",
         "legend": {
          "orient": "right"
         },
         "scale": {
          "reverse": true,
          "scheme": "lightgreyred"
         },
         "type": "nominal"
        },
        "text": {
         "field": "columns",
         "type": "nominal"
        },
        "tooltip": [
         {
          "field": "columns",
          "type": "nominal"
         },
         {
          "field": "total_nan",
          "type": "quantitative"
         },
         {
          "field": "percent_nan",
          "type": "quantitative"
         }
        ],
        "x": {
         "field": "columns",
         "title": "Columns names",
         "type": "nominal"
        },
        "y": {
         "field": "total_nan",
         "title": "Number of missing values",
         "type": "quantitative"
        }
       },
       "mark": {
        "cornerRadiusTopLeft": 5,
        "cornerRadiusTopRight": 5,
        "type": "bar"
       },
       "title": {
        "anchor": "start",
        "subtitle": "A chart represents missing data in x train dataset",
        "text": "Number Of Missing values In X Train Dataset"
       }
      },
      "text/plain": [
       "<VegaLite 5 object>\n",
       "\n",
       "If you see this message, it means the renderer has not been properly enabled\n",
       "for the frontend that you are using. For more information, see\n",
       "https://altair-viz.github.io/user_guide/display_frontends.html#troubleshooting\n"
      ]
     },
     "execution_count": 234,
     "metadata": {},
     "output_type": "execute_result"
    }
   ],
   "source": [
    "plot_nan(\n",
    "    train_x,\n",
    "    name='x train dataset',\n",
    "    only_nan=False\n",
    ")"
   ]
  },
  {
   "cell_type": "markdown",
   "id": "e5ea56f0-1bbc-4a11-bad3-ee762c844f84",
   "metadata": {
    "id": "e5ea56f0-1bbc-4a11-bad3-ee762c844f84"
   },
   "source": [
    "**conclusion:** X train data sample contains missing data of 21.11%(141) of Age column, 78.29%(523) of cabin column and 0.3%(2) of Embarked column are the amount of missing data in the dataset from the data size of 668."
   ]
  },
  {
   "cell_type": "markdown",
   "id": "dcff054d-4751-4b4d-9058-c7a24bf11d68",
   "metadata": {
    "id": "dcff054d-4751-4b4d-9058-c7a24bf11d68",
    "jp-MarkdownHeadingCollapsed": true
   },
   "source": [
    "<h5 style=\"font-weight: bold;\">Two) X validation dataset</h5>"
   ]
  },
  {
   "cell_type": "code",
   "execution_count": 235,
   "id": "b8715e3e-853c-4d18-8174-9e2690f29260",
   "metadata": {
    "ExecuteTime": {
     "end_time": "2025-05-27T10:50:17.949593Z",
     "start_time": "2025-05-27T10:50:17.909615Z"
    },
    "colab": {
     "base_uri": "https://localhost:8080/",
     "height": 112
    },
    "editable": true,
    "id": "b8715e3e-853c-4d18-8174-9e2690f29260",
    "outputId": "1e41ba02-23d6-4c4a-dd17-a9e09171748c",
    "tags": []
   },
   "outputs": [
    {
     "data": {
      "text/html": [
       "<div>\n",
       "<style scoped>\n",
       "    .dataframe tbody tr th:only-of-type {\n",
       "        vertical-align: middle;\n",
       "    }\n",
       "\n",
       "    .dataframe tbody tr th {\n",
       "        vertical-align: top;\n",
       "    }\n",
       "\n",
       "    .dataframe thead th {\n",
       "        text-align: right;\n",
       "    }\n",
       "</style>\n",
       "<table border=\"1\" class=\"dataframe\">\n",
       "  <thead>\n",
       "    <tr style=\"text-align: right;\">\n",
       "      <th></th>\n",
       "      <th>columns</th>\n",
       "      <th>total_nan</th>\n",
       "      <th>percent_nan</th>\n",
       "    </tr>\n",
       "  </thead>\n",
       "  <tbody>\n",
       "    <tr>\n",
       "      <th>0</th>\n",
       "      <td>Age</td>\n",
       "      <td>52</td>\n",
       "      <td>23.32%</td>\n",
       "    </tr>\n",
       "    <tr>\n",
       "      <th>1</th>\n",
       "      <td>Cabin</td>\n",
       "      <td>172</td>\n",
       "      <td>77.13%</td>\n",
       "    </tr>\n",
       "    <tr>\n",
       "      <th>2</th>\n",
       "      <td>Embarked</td>\n",
       "      <td>1</td>\n",
       "      <td>0.45%</td>\n",
       "    </tr>\n",
       "  </tbody>\n",
       "</table>\n",
       "</div>"
      ],
      "text/plain": [
       "    columns  total_nan percent_nan\n",
       "0       Age         52      23.32%\n",
       "1     Cabin        172      77.13%\n",
       "2  Embarked          1       0.45%"
      ]
     },
     "execution_count": 235,
     "metadata": {},
     "output_type": "execute_result"
    }
   ],
   "source": [
    "check_n_nan(valid_x)"
   ]
  },
  {
   "cell_type": "code",
   "execution_count": 236,
   "id": "32fa3466-5591-4ccf-a15f-2f741871286b",
   "metadata": {
    "ExecuteTime": {
     "end_time": "2025-05-27T10:50:18.936752Z",
     "start_time": "2025-05-27T10:50:18.690614Z"
    },
    "colab": {
     "base_uri": "https://localhost:8080/",
     "height": 435
    },
    "id": "32fa3466-5591-4ccf-a15f-2f741871286b",
    "outputId": "e9833dab-fbad-497a-a7b0-dda17e3092af"
   },
   "outputs": [
    {
     "data": {
      "application/vnd.vegalite.v5+json": {
       "$schema": "https://vega.github.io/schema/vega-lite/v5.20.1.json",
       "config": {
        "axis": {
         "grid": false
        },
        "view": {
         "continuousHeight": 300,
         "continuousWidth": 300,
         "stroke": null
        }
       },
       "data": {
        "name": "data-d2b6f376c9fd1482da1d87107c72ab57"
       },
       "datasets": {
        "data-d2b6f376c9fd1482da1d87107c72ab57": [
         {
          "columns": "Pclass",
          "percent_nan": 0,
          "total_nan": 0
         },
         {
          "columns": "Name",
          "percent_nan": 0,
          "total_nan": 0
         },
         {
          "columns": "Sex",
          "percent_nan": 0,
          "total_nan": 0
         },
         {
          "columns": "Age",
          "percent_nan": 23,
          "total_nan": 52
         },
         {
          "columns": "SibSp",
          "percent_nan": 0,
          "total_nan": 0
         },
         {
          "columns": "Parch",
          "percent_nan": 0,
          "total_nan": 0
         },
         {
          "columns": "Ticket",
          "percent_nan": 0,
          "total_nan": 0
         },
         {
          "columns": "Fare",
          "percent_nan": 0,
          "total_nan": 0
         },
         {
          "columns": "Cabin",
          "percent_nan": 77,
          "total_nan": 172
         },
         {
          "columns": "Embarked",
          "percent_nan": 0,
          "total_nan": 1
         }
        ]
       },
       "encoding": {
        "color": {
         "field": "columns",
         "legend": {
          "orient": "right"
         },
         "scale": {
          "reverse": true,
          "scheme": "lightgreyred"
         },
         "type": "nominal"
        },
        "text": {
         "field": "columns",
         "type": "nominal"
        },
        "tooltip": [
         {
          "field": "columns",
          "type": "nominal"
         },
         {
          "field": "total_nan",
          "type": "quantitative"
         },
         {
          "field": "percent_nan",
          "type": "quantitative"
         }
        ],
        "x": {
         "field": "columns",
         "title": "Columns names",
         "type": "nominal"
        },
        "y": {
         "field": "percent_nan",
         "title": "Percentage of missing values",
         "type": "quantitative"
        }
       },
       "mark": {
        "cornerRadiusTopLeft": 5,
        "cornerRadiusTopRight": 5,
        "type": "bar"
       },
       "title": {
        "anchor": "start",
        "subtitle": "A chart represents missing data in x validation dataset",
        "text": "Percentage Of Missing values In X Validation Dataset"
       }
      },
      "text/plain": [
       "<VegaLite 5 object>\n",
       "\n",
       "If you see this message, it means the renderer has not been properly enabled\n",
       "for the frontend that you are using. For more information, see\n",
       "https://altair-viz.github.io/user_guide/display_frontends.html#troubleshooting\n"
      ]
     },
     "execution_count": 236,
     "metadata": {},
     "output_type": "execute_result"
    }
   ],
   "source": [
    "plot_nan(\n",
    "    valid_x,\n",
    "    name='x validation dataset',\n",
    "    only_nan=False,\n",
    "    use_percent=True\n",
    ")"
   ]
  },
  {
   "cell_type": "markdown",
   "id": "70cb1ef4-1b8f-4892-a56f-f2ebe9349ee4",
   "metadata": {
    "id": "70cb1ef4-1b8f-4892-a56f-f2ebe9349ee4"
   },
   "source": [
    "**conclusion:** In X validation data sample there are 16.14%(36) of Age column and 73.54%(164) of cabin column are the amount of missing data in the dataset from the data size of 223."
   ]
  },
  {
   "cell_type": "markdown",
   "id": "bb47e119-64ce-4244-b63f-689391592150",
   "metadata": {
    "id": "bb47e119-64ce-4244-b63f-689391592150",
    "jp-MarkdownHeadingCollapsed": true
   },
   "source": [
    "<h4 style=\"font-weight: bold;\">b) Observing missing data in test dataset</h4>"
   ]
  },
  {
   "cell_type": "code",
   "execution_count": 237,
   "id": "2e672b30-9557-411d-b6b5-817485fba03f",
   "metadata": {
    "ExecuteTime": {
     "end_time": "2025-05-27T10:50:19.691394Z",
     "start_time": "2025-05-27T10:50:19.633613Z"
    },
    "colab": {
     "base_uri": "https://localhost:8080/",
     "height": 143
    },
    "id": "2e672b30-9557-411d-b6b5-817485fba03f",
    "outputId": "c69afe03-4fc5-4e78-cc1e-4ba511a898e0"
   },
   "outputs": [
    {
     "data": {
      "text/html": [
       "<div>\n",
       "<style scoped>\n",
       "    .dataframe tbody tr th:only-of-type {\n",
       "        vertical-align: middle;\n",
       "    }\n",
       "\n",
       "    .dataframe tbody tr th {\n",
       "        vertical-align: top;\n",
       "    }\n",
       "\n",
       "    .dataframe thead th {\n",
       "        text-align: right;\n",
       "    }\n",
       "</style>\n",
       "<table border=\"1\" class=\"dataframe\">\n",
       "  <thead>\n",
       "    <tr style=\"text-align: right;\">\n",
       "      <th></th>\n",
       "      <th>columns</th>\n",
       "      <th>total_nan</th>\n",
       "      <th>percent_nan</th>\n",
       "    </tr>\n",
       "  </thead>\n",
       "  <tbody>\n",
       "    <tr>\n",
       "      <th>0</th>\n",
       "      <td>Age</td>\n",
       "      <td>86</td>\n",
       "      <td>20.57%</td>\n",
       "    </tr>\n",
       "    <tr>\n",
       "      <th>1</th>\n",
       "      <td>Fare</td>\n",
       "      <td>1</td>\n",
       "      <td>0.24%</td>\n",
       "    </tr>\n",
       "    <tr>\n",
       "      <th>2</th>\n",
       "      <td>Cabin</td>\n",
       "      <td>327</td>\n",
       "      <td>78.23%</td>\n",
       "    </tr>\n",
       "  </tbody>\n",
       "</table>\n",
       "</div>"
      ],
      "text/plain": [
       "  columns  total_nan percent_nan\n",
       "0     Age         86      20.57%\n",
       "1    Fare          1       0.24%\n",
       "2   Cabin        327      78.23%"
      ]
     },
     "execution_count": 237,
     "metadata": {},
     "output_type": "execute_result"
    }
   ],
   "source": [
    "check_n_nan(test_df)"
   ]
  },
  {
   "cell_type": "code",
   "execution_count": 238,
   "id": "606251fa-a05f-430b-b372-5aa5209d3dea",
   "metadata": {
    "ExecuteTime": {
     "end_time": "2025-05-27T10:50:21.583938Z",
     "start_time": "2025-05-27T10:50:21.307230Z"
    },
    "colab": {
     "base_uri": "https://localhost:8080/",
     "height": 435
    },
    "id": "606251fa-a05f-430b-b372-5aa5209d3dea",
    "outputId": "25fcb8a6-037c-4483-bdc6-7aeb195d53fe"
   },
   "outputs": [
    {
     "data": {
      "application/vnd.vegalite.v5+json": {
       "$schema": "https://vega.github.io/schema/vega-lite/v5.20.1.json",
       "config": {
        "axis": {
         "grid": false
        },
        "view": {
         "continuousHeight": 300,
         "continuousWidth": 300,
         "stroke": null
        }
       },
       "data": {
        "name": "data-dcb125812a966ffd090a54dbd7db12b3"
       },
       "datasets": {
        "data-dcb125812a966ffd090a54dbd7db12b3": [
         {
          "columns": "Pclass",
          "percent_nan": 0,
          "total_nan": 0
         },
         {
          "columns": "Name",
          "percent_nan": 0,
          "total_nan": 0
         },
         {
          "columns": "Sex",
          "percent_nan": 0,
          "total_nan": 0
         },
         {
          "columns": "Age",
          "percent_nan": 21,
          "total_nan": 86
         },
         {
          "columns": "SibSp",
          "percent_nan": 0,
          "total_nan": 0
         },
         {
          "columns": "Parch",
          "percent_nan": 0,
          "total_nan": 0
         },
         {
          "columns": "Ticket",
          "percent_nan": 0,
          "total_nan": 0
         },
         {
          "columns": "Fare",
          "percent_nan": 0,
          "total_nan": 1
         },
         {
          "columns": "Cabin",
          "percent_nan": 78,
          "total_nan": 327
         },
         {
          "columns": "Embarked",
          "percent_nan": 0,
          "total_nan": 0
         }
        ]
       },
       "encoding": {
        "color": {
         "field": "columns",
         "legend": {
          "orient": "right"
         },
         "scale": {
          "reverse": true,
          "scheme": "lightgreyred"
         },
         "type": "nominal"
        },
        "text": {
         "field": "columns",
         "type": "nominal"
        },
        "tooltip": [
         {
          "field": "columns",
          "type": "nominal"
         },
         {
          "field": "total_nan",
          "type": "quantitative"
         },
         {
          "field": "percent_nan",
          "type": "quantitative"
         }
        ],
        "x": {
         "field": "columns",
         "title": "Columns names",
         "type": "nominal"
        },
        "y": {
         "field": "total_nan",
         "title": "Number of missing values",
         "type": "quantitative"
        }
       },
       "mark": {
        "cornerRadiusTopLeft": 5,
        "cornerRadiusTopRight": 5,
        "type": "bar"
       },
       "title": {
        "anchor": "start",
        "subtitle": "A chart represents missing data in test dataset",
        "text": "Number Of Missing values In Test Dataset"
       }
      },
      "text/plain": [
       "<VegaLite 5 object>\n",
       "\n",
       "If you see this message, it means the renderer has not been properly enabled\n",
       "for the frontend that you are using. For more information, see\n",
       "https://altair-viz.github.io/user_guide/display_frontends.html#troubleshooting\n"
      ]
     },
     "execution_count": 238,
     "metadata": {},
     "output_type": "execute_result"
    }
   ],
   "source": [
    "plot_nan(\n",
    "    test_df,\n",
    "    name='test dataset',\n",
    "    only_nan=False,\n",
    "    use_percent=False\n",
    ")"
   ]
  },
  {
   "cell_type": "markdown",
   "id": "e3ea0e25-6bb5-408f-8671-709f7f0aa02a",
   "metadata": {
    "id": "e3ea0e25-6bb5-408f-8671-709f7f0aa02a"
   },
   "source": [
    "**conclusion:** The test data frame contains missing data of 20.57%(86) of Age column, 78.23%(327) of cabin column and 0.24%(1) of Fare column are the amount of missing data in the dataset from the data size of 418."
   ]
  },
  {
   "cell_type": "markdown",
   "id": "1fG6lnoslyaM",
   "metadata": {
    "id": "1fG6lnoslyaM"
   },
   "source": [
    "<h3 style=\"font-weight: bold;\">ii) Handling the missing values (NaN)</h3>\n",
    "<p>Filling missing value in the dataframes</p>"
   ]
  },
  {
   "cell_type": "code",
   "execution_count": 239,
   "id": "e41f939a-2218-475c-b5e4-f27ca50a8ee8",
   "metadata": {
    "ExecuteTime": {
     "end_time": "2025-05-27T10:50:22.196215Z",
     "start_time": "2025-05-27T10:50:22.108806Z"
    },
    "id": "e41f939a-2218-475c-b5e4-f27ca50a8ee8"
   },
   "outputs": [],
   "source": [
    "class FillNaN:\n",
    "    def __init__(self, dfs: List[pd.DataFrame], fill_with: Dict[str, Any]) -> None:\n",
    "        self.dfs = dfs\n",
    "        self.fill_with = fill_with\n",
    "\n",
    "    @property\n",
    "    def fill(self) -> List[pd.DataFrame]:\n",
    "        \"\"\"\n",
    "        Fills missing values in the data frames.\n",
    "        :return: A tuple of data frames\n",
    "        \"\"\"\n",
    "        lst = []\n",
    "        for df in self.dfs:\n",
    "            for col, strat in self.fill_with.items():\n",
    "                df = self.strategy(df, strat=strat, col_name=col)\n",
    "            lst.append(df)\n",
    "        return lst\n",
    "\n",
    "    @staticmethod\n",
    "    def strategy(df: pd.DataFrame, strat: str, col_name: str) -> pd.DataFrame:\n",
    "        match strat:\n",
    "            case 'mean':\n",
    "                df[col_name] = df[col_name].fillna(df[col_name].mean())\n",
    "            case 'mode':\n",
    "                df[col_name] = df[col_name].fillna(df[col_name].mode()[0])\n",
    "            case 'min':\n",
    "                df[col_name] = df[col_name].fillna(df[col_name].min())\n",
    "            case 'max':\n",
    "                df[col_name] = df[col_name].fillna(df[col_name].max())\n",
    "            case 'median':\n",
    "                df[col_name] = df[col_name].fillna(df[col_name].median())\n",
    "            case 'bfill':\n",
    "                df[col_name] = df[col_name].bfill()\n",
    "            case 'ffill':\n",
    "                df[col_name] = df[col_name].ffill()\n",
    "            case \"drop\":\n",
    "                df = df.drop(col_name, axis=1)\n",
    "            case _:\n",
    "                raise f\"Ooh, strategy has received invalid value `{strat}` for strat\"\n",
    "        return df\n",
    "\n",
    "fill = FillNaN([train_x, valid_x, test_df], {\"Age\": \"mean\", \"Fare\": \"ffill\", \"Embarked\": \"mode\", \"Cabin\": \"drop\"})\n",
    "t, v, t_df = fill.fill"
   ]
  },
  {
   "cell_type": "code",
   "execution_count": 240,
   "id": "e025419824c2f091",
   "metadata": {
    "ExecuteTime": {
     "end_time": "2025-05-27T10:50:22.852457Z",
     "start_time": "2025-05-27T10:50:22.822954Z"
    }
   },
   "outputs": [
    {
     "data": {
      "text/plain": [
       "Pclass      0\n",
       "Name        0\n",
       "Sex         0\n",
       "Age         0\n",
       "SibSp       0\n",
       "Parch       0\n",
       "Ticket      0\n",
       "Fare        0\n",
       "Embarked    0\n",
       "dtype: int64"
      ]
     },
     "execution_count": 240,
     "metadata": {},
     "output_type": "execute_result"
    }
   ],
   "source": [
    "t.isna().sum()"
   ]
  },
  {
   "cell_type": "code",
   "execution_count": 241,
   "id": "ca4f0e9b733bdc8e",
   "metadata": {
    "ExecuteTime": {
     "end_time": "2025-05-27T10:50:23.624322Z",
     "start_time": "2025-05-27T10:50:23.573661Z"
    }
   },
   "outputs": [
    {
     "data": {
      "text/plain": [
       "Pclass      0\n",
       "Name        0\n",
       "Sex         0\n",
       "Age         0\n",
       "SibSp       0\n",
       "Parch       0\n",
       "Ticket      0\n",
       "Fare        0\n",
       "Embarked    0\n",
       "dtype: int64"
      ]
     },
     "execution_count": 241,
     "metadata": {},
     "output_type": "execute_result"
    }
   ],
   "source": [
    "v.isna().sum()"
   ]
  },
  {
   "cell_type": "code",
   "execution_count": 242,
   "id": "fea74439071624c0",
   "metadata": {
    "ExecuteTime": {
     "end_time": "2025-05-27T10:50:25.323289Z",
     "start_time": "2025-05-27T10:50:25.259930Z"
    }
   },
   "outputs": [
    {
     "data": {
      "text/plain": [
       "Pclass      0\n",
       "Name        0\n",
       "Sex         0\n",
       "Age         0\n",
       "SibSp       0\n",
       "Parch       0\n",
       "Ticket      0\n",
       "Fare        0\n",
       "Embarked    0\n",
       "dtype: int64"
      ]
     },
     "execution_count": 242,
     "metadata": {},
     "output_type": "execute_result"
    }
   ],
   "source": [
    "t_df.isna().sum()"
   ]
  },
  {
   "cell_type": "code",
   "execution_count": null,
   "id": "49baf8f2310caf73",
   "metadata": {
    "ExecuteTime": {
     "end_time": "2025-05-27T10:50:26.424890Z",
     "start_time": "2025-05-27T10:50:26.415088Z"
    }
   },
   "outputs": [],
   "source": []
  }
 ],
 "metadata": {
  "colab": {
   "provenance": []
  },
  "kernelspec": {
   "display_name": "venv",
   "language": "python",
   "name": "python3"
  },
  "language_info": {
   "codemirror_mode": {
    "name": "ipython",
    "version": 3
   },
   "file_extension": ".py",
   "mimetype": "text/x-python",
   "name": "python",
   "nbconvert_exporter": "python",
   "pygments_lexer": "ipython3",
   "version": "3.12.1"
  }
 },
 "nbformat": 4,
 "nbformat_minor": 5
}
