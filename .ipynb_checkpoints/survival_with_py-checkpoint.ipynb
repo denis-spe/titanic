{
 "cells": [
  {
   "cell_type": "markdown",
   "id": "acce7b91-ba73-409b-88fb-5cc92445d37a",
   "metadata": {
    "id": "acce7b91-ba73-409b-88fb-5cc92445d37a"
   },
   "source": [
    "<h1 style=\"font-weight: bold;\">Titanic Survival</h1>\n"
   ]
  },
  {
   "cell_type": "markdown",
   "id": "d50c0a95-60e6-4b7a-bfeb-75eb054d7254",
   "metadata": {
    "id": "d50c0a95-60e6-4b7a-bfeb-75eb054d7254"
   },
   "source": [
    "## 1) **Import libraries**\n",
    "\n",
    "load the libraries to be used in the notebook\n"
   ]
  },
  {
   "cell_type": "code",
   "execution_count": 1,
   "id": "23bde1d6-666d-4099-928a-a72ffe730798",
   "metadata": {
    "ExecuteTime": {
     "end_time": "2025-10-03T22:37:10.062897Z",
     "start_time": "2025-10-03T22:37:10.051491Z"
    },
    "id": "23bde1d6-666d-4099-928a-a72ffe730798"
   },
   "outputs": [],
   "source": [
    "import os\n",
    "import pprint\n",
    "from typing import List, Any, Dict, Tuple, Literal, Optional\n",
    "import altair as alt\n",
    "import numpy as np\n",
    "import pandas as pd\n",
    "from sklearn.model_selection import train_test_split"
   ]
  },
  {
   "cell_type": "code",
   "execution_count": 2,
   "id": "AJhL9958h7rT",
   "metadata": {
    "ExecuteTime": {
     "end_time": "2025-10-03T22:37:10.117101Z",
     "start_time": "2025-10-03T22:37:10.077160Z"
    },
    "colab": {
     "base_uri": "https://localhost:8080/"
    },
    "id": "AJhL9958h7rT",
    "outputId": "ac0bdafc-032d-4553-9038-21f3ccccafdd"
   },
   "outputs": [],
   "source": [
    "try:\n",
    "    from google.colab import drive\n",
    "\n",
    "    drive.mount(\"content\")\n",
    "    is_running_on_colab = True\n",
    "except ImportError:\n",
    "    is_running_on_colab = False"
   ]
  },
  {
   "cell_type": "markdown",
   "id": "796f2577-cd2f-4130-a2a9-35d768495f9a",
   "metadata": {
    "id": "796f2577-cd2f-4130-a2a9-35d768495f9a"
   },
   "source": [
    "## 2) **Setting notebook**\n"
   ]
  },
  {
   "cell_type": "code",
   "execution_count": 3,
   "id": "af3ad461-d57d-46d1-96d5-f62e51fd6d86",
   "metadata": {
    "ExecuteTime": {
     "end_time": "2025-10-03T22:37:10.150939Z",
     "start_time": "2025-10-03T22:37:10.140708Z"
    },
    "id": "af3ad461-d57d-46d1-96d5-f62e51fd6d86"
   },
   "outputs": [],
   "source": [
    "\n",
    "if not is_running_on_colab:\n",
    "    alt.renderers.enable('mimetype')\n",
    "else:\n",
    "    alt.renderers.enable('html')"
   ]
  },
  {
   "cell_type": "markdown",
   "id": "de696c32-e12b-4ac1-b39f-d2798415ded0",
   "metadata": {
    "id": "de696c32-e12b-4ac1-b39f-d2798415ded0"
   },
   "source": [
    "## 3) **Load the data**\n",
    "\n",
    "<p>Load the csv file to pandas dataframe</p>\n"
   ]
  },
  {
   "cell_type": "code",
   "execution_count": 4,
   "id": "11a39d04-d424-4ef9-bfc1-e5250b05dc9f",
   "metadata": {
    "ExecuteTime": {
     "end_time": "2025-10-03T22:37:10.187290Z",
     "start_time": "2025-10-03T22:37:10.172217Z"
    },
    "id": "11a39d04-d424-4ef9-bfc1-e5250b05dc9f"
   },
   "outputs": [],
   "source": [
    "folder_path = None\n",
    "if os.path.exists('./data/'):\n",
    "    folder_path = './data/'\n",
    "elif os.path.exists('content/MyDrive/Datasets/titanic_data'):\n",
    "    folder_path = 'content/MyDrive/Datasets/titanic_data'\n",
    "else:\n",
    "    raise ValueError(\"Unable to find titanic train and test csv files\")\n",
    "\n",
    "train_path = os.path.join(folder_path, \"train.csv\")\n",
    "test_path = os.path.join(folder_path, \"test.csv\")"
   ]
  },
  {
   "cell_type": "code",
   "execution_count": 5,
   "id": "4ea8a195-e2de-4952-83df-0348ca524056",
   "metadata": {
    "ExecuteTime": {
     "end_time": "2025-10-03T22:37:10.714490Z",
     "start_time": "2025-10-03T22:37:10.207883Z"
    },
    "id": "4ea8a195-e2de-4952-83df-0348ca524056"
   },
   "outputs": [],
   "source": [
    "# Set the PassengerId column as index column.\n",
    "index_col = 'PassengerId'\n",
    "\n",
    "# Load the train and test dataframe.\n",
    "train_df = pd.read_csv(train_path, index_col=index_col)\n",
    "test_df = pd.read_csv(test_path, index_col=index_col)"
   ]
  },
  {
   "cell_type": "markdown",
   "id": "ca31e43e-f0b2-49f6-805a-d5db7b9103d7",
   "metadata": {
    "id": "ca31e43e-f0b2-49f6-805a-d5db7b9103d7"
   },
   "source": [
    "## 4) **Data statistics**\n",
    "\n",
    "<p>Analyse train and test dataframe</p>\n"
   ]
  },
  {
   "cell_type": "markdown",
   "id": "b0b5ee84-3674-4b58-b4f9-ebb4d980b920",
   "metadata": {
    "id": "b0b5ee84-3674-4b58-b4f9-ebb4d980b920"
   },
   "source": [
    "### i) Rows in train data\n",
    "\n",
    "<p>View train dataframe top and bottom rows</p>\n"
   ]
  },
  {
   "cell_type": "code",
   "execution_count": 6,
   "id": "3908408e-84a6-4225-9345-a7da8a7f7081",
   "metadata": {
    "ExecuteTime": {
     "end_time": "2025-10-03T22:37:10.910151Z",
     "start_time": "2025-10-03T22:37:10.732128Z"
    },
    "colab": {
     "base_uri": "https://localhost:8080/",
     "height": 535
    },
    "id": "3908408e-84a6-4225-9345-a7da8a7f7081",
    "outputId": "ca2868ed-3caa-459e-d7a1-22d5095359e2"
   },
   "outputs": [
    {
     "data": {
      "text/html": [
       "<div>\n",
       "<style scoped>\n",
       "    .dataframe tbody tr th:only-of-type {\n",
       "        vertical-align: middle;\n",
       "    }\n",
       "\n",
       "    .dataframe tbody tr th {\n",
       "        vertical-align: top;\n",
       "    }\n",
       "\n",
       "    .dataframe thead th {\n",
       "        text-align: right;\n",
       "    }\n",
       "</style>\n",
       "<table border=\"1\" class=\"dataframe\">\n",
       "  <thead>\n",
       "    <tr style=\"text-align: right;\">\n",
       "      <th></th>\n",
       "      <th>Survived</th>\n",
       "      <th>Pclass</th>\n",
       "      <th>Name</th>\n",
       "      <th>Sex</th>\n",
       "      <th>Age</th>\n",
       "      <th>SibSp</th>\n",
       "      <th>Parch</th>\n",
       "      <th>Ticket</th>\n",
       "      <th>Fare</th>\n",
       "      <th>Cabin</th>\n",
       "      <th>Embarked</th>\n",
       "    </tr>\n",
       "    <tr>\n",
       "      <th>PassengerId</th>\n",
       "      <th></th>\n",
       "      <th></th>\n",
       "      <th></th>\n",
       "      <th></th>\n",
       "      <th></th>\n",
       "      <th></th>\n",
       "      <th></th>\n",
       "      <th></th>\n",
       "      <th></th>\n",
       "      <th></th>\n",
       "      <th></th>\n",
       "    </tr>\n",
       "  </thead>\n",
       "  <tbody>\n",
       "    <tr>\n",
       "      <th>1</th>\n",
       "      <td>0</td>\n",
       "      <td>3</td>\n",
       "      <td>Braund, Mr. Owen Harris</td>\n",
       "      <td>male</td>\n",
       "      <td>22.0</td>\n",
       "      <td>1</td>\n",
       "      <td>0</td>\n",
       "      <td>A/5 21171</td>\n",
       "      <td>7.2500</td>\n",
       "      <td>NaN</td>\n",
       "      <td>S</td>\n",
       "    </tr>\n",
       "    <tr>\n",
       "      <th>2</th>\n",
       "      <td>1</td>\n",
       "      <td>1</td>\n",
       "      <td>Cumings, Mrs. John Bradley (Florence Briggs Th...</td>\n",
       "      <td>female</td>\n",
       "      <td>38.0</td>\n",
       "      <td>1</td>\n",
       "      <td>0</td>\n",
       "      <td>PC 17599</td>\n",
       "      <td>71.2833</td>\n",
       "      <td>C85</td>\n",
       "      <td>C</td>\n",
       "    </tr>\n",
       "    <tr>\n",
       "      <th>3</th>\n",
       "      <td>1</td>\n",
       "      <td>3</td>\n",
       "      <td>Heikkinen, Miss. Laina</td>\n",
       "      <td>female</td>\n",
       "      <td>26.0</td>\n",
       "      <td>0</td>\n",
       "      <td>0</td>\n",
       "      <td>STON/O2. 3101282</td>\n",
       "      <td>7.9250</td>\n",
       "      <td>NaN</td>\n",
       "      <td>S</td>\n",
       "    </tr>\n",
       "    <tr>\n",
       "      <th>4</th>\n",
       "      <td>1</td>\n",
       "      <td>1</td>\n",
       "      <td>Futrelle, Mrs. Jacques Heath (Lily May Peel)</td>\n",
       "      <td>female</td>\n",
       "      <td>35.0</td>\n",
       "      <td>1</td>\n",
       "      <td>0</td>\n",
       "      <td>113803</td>\n",
       "      <td>53.1000</td>\n",
       "      <td>C123</td>\n",
       "      <td>S</td>\n",
       "    </tr>\n",
       "    <tr>\n",
       "      <th>5</th>\n",
       "      <td>0</td>\n",
       "      <td>3</td>\n",
       "      <td>Allen, Mr. William Henry</td>\n",
       "      <td>male</td>\n",
       "      <td>35.0</td>\n",
       "      <td>0</td>\n",
       "      <td>0</td>\n",
       "      <td>373450</td>\n",
       "      <td>8.0500</td>\n",
       "      <td>NaN</td>\n",
       "      <td>S</td>\n",
       "    </tr>\n",
       "  </tbody>\n",
       "</table>\n",
       "</div>"
      ],
      "text/plain": [
       "             Survived  Pclass  \\\n",
       "PassengerId                     \n",
       "1                   0       3   \n",
       "2                   1       1   \n",
       "3                   1       3   \n",
       "4                   1       1   \n",
       "5                   0       3   \n",
       "\n",
       "                                                          Name     Sex   Age  \\\n",
       "PassengerId                                                                    \n",
       "1                                      Braund, Mr. Owen Harris    male  22.0   \n",
       "2            Cumings, Mrs. John Bradley (Florence Briggs Th...  female  38.0   \n",
       "3                                       Heikkinen, Miss. Laina  female  26.0   \n",
       "4                 Futrelle, Mrs. Jacques Heath (Lily May Peel)  female  35.0   \n",
       "5                                     Allen, Mr. William Henry    male  35.0   \n",
       "\n",
       "             SibSp  Parch            Ticket     Fare Cabin Embarked  \n",
       "PassengerId                                                          \n",
       "1                1      0         A/5 21171   7.2500   NaN        S  \n",
       "2                1      0          PC 17599  71.2833   C85        C  \n",
       "3                0      0  STON/O2. 3101282   7.9250   NaN        S  \n",
       "4                1      0            113803  53.1000  C123        S  \n",
       "5                0      0            373450   8.0500   NaN        S  "
      ]
     },
     "execution_count": 6,
     "metadata": {},
     "output_type": "execute_result"
    }
   ],
   "source": [
    "# First five rows in train data.\n",
    "train_df.head()"
   ]
  },
  {
   "cell_type": "code",
   "execution_count": 7,
   "id": "8a52e0f5-1267-4775-a373-501320697db7",
   "metadata": {
    "ExecuteTime": {
     "end_time": "2025-10-03T22:37:10.967507Z",
     "start_time": "2025-10-03T22:37:10.943396Z"
    },
    "colab": {
     "base_uri": "https://localhost:8080/",
     "height": 483
    },
    "id": "8a52e0f5-1267-4775-a373-501320697db7",
    "outputId": "91811e83-329f-4e06-c499-5786a27fc8ed"
   },
   "outputs": [
    {
     "data": {
      "text/html": [
       "<div>\n",
       "<style scoped>\n",
       "    .dataframe tbody tr th:only-of-type {\n",
       "        vertical-align: middle;\n",
       "    }\n",
       "\n",
       "    .dataframe tbody tr th {\n",
       "        vertical-align: top;\n",
       "    }\n",
       "\n",
       "    .dataframe thead th {\n",
       "        text-align: right;\n",
       "    }\n",
       "</style>\n",
       "<table border=\"1\" class=\"dataframe\">\n",
       "  <thead>\n",
       "    <tr style=\"text-align: right;\">\n",
       "      <th></th>\n",
       "      <th>Survived</th>\n",
       "      <th>Pclass</th>\n",
       "      <th>Name</th>\n",
       "      <th>Sex</th>\n",
       "      <th>Age</th>\n",
       "      <th>SibSp</th>\n",
       "      <th>Parch</th>\n",
       "      <th>Ticket</th>\n",
       "      <th>Fare</th>\n",
       "      <th>Cabin</th>\n",
       "      <th>Embarked</th>\n",
       "    </tr>\n",
       "    <tr>\n",
       "      <th>PassengerId</th>\n",
       "      <th></th>\n",
       "      <th></th>\n",
       "      <th></th>\n",
       "      <th></th>\n",
       "      <th></th>\n",
       "      <th></th>\n",
       "      <th></th>\n",
       "      <th></th>\n",
       "      <th></th>\n",
       "      <th></th>\n",
       "      <th></th>\n",
       "    </tr>\n",
       "  </thead>\n",
       "  <tbody>\n",
       "    <tr>\n",
       "      <th>887</th>\n",
       "      <td>0</td>\n",
       "      <td>2</td>\n",
       "      <td>Montvila, Rev. Juozas</td>\n",
       "      <td>male</td>\n",
       "      <td>27.0</td>\n",
       "      <td>0</td>\n",
       "      <td>0</td>\n",
       "      <td>211536</td>\n",
       "      <td>13.00</td>\n",
       "      <td>NaN</td>\n",
       "      <td>S</td>\n",
       "    </tr>\n",
       "    <tr>\n",
       "      <th>888</th>\n",
       "      <td>1</td>\n",
       "      <td>1</td>\n",
       "      <td>Graham, Miss. Margaret Edith</td>\n",
       "      <td>female</td>\n",
       "      <td>19.0</td>\n",
       "      <td>0</td>\n",
       "      <td>0</td>\n",
       "      <td>112053</td>\n",
       "      <td>30.00</td>\n",
       "      <td>B42</td>\n",
       "      <td>S</td>\n",
       "    </tr>\n",
       "    <tr>\n",
       "      <th>889</th>\n",
       "      <td>0</td>\n",
       "      <td>3</td>\n",
       "      <td>Johnston, Miss. Catherine Helen \"Carrie\"</td>\n",
       "      <td>female</td>\n",
       "      <td>NaN</td>\n",
       "      <td>1</td>\n",
       "      <td>2</td>\n",
       "      <td>W./C. 6607</td>\n",
       "      <td>23.45</td>\n",
       "      <td>NaN</td>\n",
       "      <td>S</td>\n",
       "    </tr>\n",
       "    <tr>\n",
       "      <th>890</th>\n",
       "      <td>1</td>\n",
       "      <td>1</td>\n",
       "      <td>Behr, Mr. Karl Howell</td>\n",
       "      <td>male</td>\n",
       "      <td>26.0</td>\n",
       "      <td>0</td>\n",
       "      <td>0</td>\n",
       "      <td>111369</td>\n",
       "      <td>30.00</td>\n",
       "      <td>C148</td>\n",
       "      <td>C</td>\n",
       "    </tr>\n",
       "    <tr>\n",
       "      <th>891</th>\n",
       "      <td>0</td>\n",
       "      <td>3</td>\n",
       "      <td>Dooley, Mr. Patrick</td>\n",
       "      <td>male</td>\n",
       "      <td>32.0</td>\n",
       "      <td>0</td>\n",
       "      <td>0</td>\n",
       "      <td>370376</td>\n",
       "      <td>7.75</td>\n",
       "      <td>NaN</td>\n",
       "      <td>Q</td>\n",
       "    </tr>\n",
       "  </tbody>\n",
       "</table>\n",
       "</div>"
      ],
      "text/plain": [
       "             Survived  Pclass                                      Name  \\\n",
       "PassengerId                                                               \n",
       "887                 0       2                     Montvila, Rev. Juozas   \n",
       "888                 1       1              Graham, Miss. Margaret Edith   \n",
       "889                 0       3  Johnston, Miss. Catherine Helen \"Carrie\"   \n",
       "890                 1       1                     Behr, Mr. Karl Howell   \n",
       "891                 0       3                       Dooley, Mr. Patrick   \n",
       "\n",
       "                Sex   Age  SibSp  Parch      Ticket   Fare Cabin Embarked  \n",
       "PassengerId                                                                \n",
       "887            male  27.0      0      0      211536  13.00   NaN        S  \n",
       "888          female  19.0      0      0      112053  30.00   B42        S  \n",
       "889          female   NaN      1      2  W./C. 6607  23.45   NaN        S  \n",
       "890            male  26.0      0      0      111369  30.00  C148        C  \n",
       "891            male  32.0      0      0      370376   7.75   NaN        Q  "
      ]
     },
     "execution_count": 7,
     "metadata": {},
     "output_type": "execute_result"
    }
   ],
   "source": [
    "# First five rows in test data.\n",
    "train_df.tail()"
   ]
  },
  {
   "cell_type": "markdown",
   "id": "0536c4fb-2038-461a-8ba2-61ba88075b32",
   "metadata": {
    "id": "0536c4fb-2038-461a-8ba2-61ba88075b32"
   },
   "source": [
    "### ii) Rows in test data\n",
    "\n",
    "<p>View test dataframe top and bottom rows</p>\n"
   ]
  },
  {
   "cell_type": "code",
   "execution_count": 8,
   "id": "88078d46-6871-4db1-81d8-8b514b2eaa9b",
   "metadata": {
    "ExecuteTime": {
     "end_time": "2025-10-03T22:37:11.024057Z",
     "start_time": "2025-10-03T22:37:10.982854Z"
    },
    "colab": {
     "base_uri": "https://localhost:8080/",
     "height": 483
    },
    "id": "88078d46-6871-4db1-81d8-8b514b2eaa9b",
    "outputId": "859af79c-0546-4617-aa00-0562f24b89af"
   },
   "outputs": [
    {
     "data": {
      "text/html": [
       "<div>\n",
       "<style scoped>\n",
       "    .dataframe tbody tr th:only-of-type {\n",
       "        vertical-align: middle;\n",
       "    }\n",
       "\n",
       "    .dataframe tbody tr th {\n",
       "        vertical-align: top;\n",
       "    }\n",
       "\n",
       "    .dataframe thead th {\n",
       "        text-align: right;\n",
       "    }\n",
       "</style>\n",
       "<table border=\"1\" class=\"dataframe\">\n",
       "  <thead>\n",
       "    <tr style=\"text-align: right;\">\n",
       "      <th></th>\n",
       "      <th>Pclass</th>\n",
       "      <th>Name</th>\n",
       "      <th>Sex</th>\n",
       "      <th>Age</th>\n",
       "      <th>SibSp</th>\n",
       "      <th>Parch</th>\n",
       "      <th>Ticket</th>\n",
       "      <th>Fare</th>\n",
       "      <th>Cabin</th>\n",
       "      <th>Embarked</th>\n",
       "    </tr>\n",
       "    <tr>\n",
       "      <th>PassengerId</th>\n",
       "      <th></th>\n",
       "      <th></th>\n",
       "      <th></th>\n",
       "      <th></th>\n",
       "      <th></th>\n",
       "      <th></th>\n",
       "      <th></th>\n",
       "      <th></th>\n",
       "      <th></th>\n",
       "      <th></th>\n",
       "    </tr>\n",
       "  </thead>\n",
       "  <tbody>\n",
       "    <tr>\n",
       "      <th>892</th>\n",
       "      <td>3</td>\n",
       "      <td>Kelly, Mr. James</td>\n",
       "      <td>male</td>\n",
       "      <td>34.5</td>\n",
       "      <td>0</td>\n",
       "      <td>0</td>\n",
       "      <td>330911</td>\n",
       "      <td>7.8292</td>\n",
       "      <td>NaN</td>\n",
       "      <td>Q</td>\n",
       "    </tr>\n",
       "    <tr>\n",
       "      <th>893</th>\n",
       "      <td>3</td>\n",
       "      <td>Wilkes, Mrs. James (Ellen Needs)</td>\n",
       "      <td>female</td>\n",
       "      <td>47.0</td>\n",
       "      <td>1</td>\n",
       "      <td>0</td>\n",
       "      <td>363272</td>\n",
       "      <td>7.0000</td>\n",
       "      <td>NaN</td>\n",
       "      <td>S</td>\n",
       "    </tr>\n",
       "    <tr>\n",
       "      <th>894</th>\n",
       "      <td>2</td>\n",
       "      <td>Myles, Mr. Thomas Francis</td>\n",
       "      <td>male</td>\n",
       "      <td>62.0</td>\n",
       "      <td>0</td>\n",
       "      <td>0</td>\n",
       "      <td>240276</td>\n",
       "      <td>9.6875</td>\n",
       "      <td>NaN</td>\n",
       "      <td>Q</td>\n",
       "    </tr>\n",
       "    <tr>\n",
       "      <th>895</th>\n",
       "      <td>3</td>\n",
       "      <td>Wirz, Mr. Albert</td>\n",
       "      <td>male</td>\n",
       "      <td>27.0</td>\n",
       "      <td>0</td>\n",
       "      <td>0</td>\n",
       "      <td>315154</td>\n",
       "      <td>8.6625</td>\n",
       "      <td>NaN</td>\n",
       "      <td>S</td>\n",
       "    </tr>\n",
       "    <tr>\n",
       "      <th>896</th>\n",
       "      <td>3</td>\n",
       "      <td>Hirvonen, Mrs. Alexander (Helga E Lindqvist)</td>\n",
       "      <td>female</td>\n",
       "      <td>22.0</td>\n",
       "      <td>1</td>\n",
       "      <td>1</td>\n",
       "      <td>3101298</td>\n",
       "      <td>12.2875</td>\n",
       "      <td>NaN</td>\n",
       "      <td>S</td>\n",
       "    </tr>\n",
       "  </tbody>\n",
       "</table>\n",
       "</div>"
      ],
      "text/plain": [
       "             Pclass                                          Name     Sex  \\\n",
       "PassengerId                                                                 \n",
       "892               3                              Kelly, Mr. James    male   \n",
       "893               3              Wilkes, Mrs. James (Ellen Needs)  female   \n",
       "894               2                     Myles, Mr. Thomas Francis    male   \n",
       "895               3                              Wirz, Mr. Albert    male   \n",
       "896               3  Hirvonen, Mrs. Alexander (Helga E Lindqvist)  female   \n",
       "\n",
       "              Age  SibSp  Parch   Ticket     Fare Cabin Embarked  \n",
       "PassengerId                                                       \n",
       "892          34.5      0      0   330911   7.8292   NaN        Q  \n",
       "893          47.0      1      0   363272   7.0000   NaN        S  \n",
       "894          62.0      0      0   240276   9.6875   NaN        Q  \n",
       "895          27.0      0      0   315154   8.6625   NaN        S  \n",
       "896          22.0      1      1  3101298  12.2875   NaN        S  "
      ]
     },
     "execution_count": 8,
     "metadata": {},
     "output_type": "execute_result"
    }
   ],
   "source": [
    "# First five rows in test data.\n",
    "test_df.head()"
   ]
  },
  {
   "cell_type": "code",
   "execution_count": 9,
   "id": "a0faa19e-fd81-49c2-8762-fd85533b6868",
   "metadata": {
    "ExecuteTime": {
     "end_time": "2025-10-03T22:37:11.079153Z",
     "start_time": "2025-10-03T22:37:11.043846Z"
    },
    "colab": {
     "base_uri": "https://localhost:8080/",
     "height": 466
    },
    "id": "a0faa19e-fd81-49c2-8762-fd85533b6868",
    "outputId": "3845e917-0f60-49ef-e2a8-189808d9f91f"
   },
   "outputs": [
    {
     "data": {
      "text/html": [
       "<div>\n",
       "<style scoped>\n",
       "    .dataframe tbody tr th:only-of-type {\n",
       "        vertical-align: middle;\n",
       "    }\n",
       "\n",
       "    .dataframe tbody tr th {\n",
       "        vertical-align: top;\n",
       "    }\n",
       "\n",
       "    .dataframe thead th {\n",
       "        text-align: right;\n",
       "    }\n",
       "</style>\n",
       "<table border=\"1\" class=\"dataframe\">\n",
       "  <thead>\n",
       "    <tr style=\"text-align: right;\">\n",
       "      <th></th>\n",
       "      <th>Pclass</th>\n",
       "      <th>Name</th>\n",
       "      <th>Sex</th>\n",
       "      <th>Age</th>\n",
       "      <th>SibSp</th>\n",
       "      <th>Parch</th>\n",
       "      <th>Ticket</th>\n",
       "      <th>Fare</th>\n",
       "      <th>Cabin</th>\n",
       "      <th>Embarked</th>\n",
       "    </tr>\n",
       "    <tr>\n",
       "      <th>PassengerId</th>\n",
       "      <th></th>\n",
       "      <th></th>\n",
       "      <th></th>\n",
       "      <th></th>\n",
       "      <th></th>\n",
       "      <th></th>\n",
       "      <th></th>\n",
       "      <th></th>\n",
       "      <th></th>\n",
       "      <th></th>\n",
       "    </tr>\n",
       "  </thead>\n",
       "  <tbody>\n",
       "    <tr>\n",
       "      <th>1305</th>\n",
       "      <td>3</td>\n",
       "      <td>Spector, Mr. Woolf</td>\n",
       "      <td>male</td>\n",
       "      <td>NaN</td>\n",
       "      <td>0</td>\n",
       "      <td>0</td>\n",
       "      <td>A.5. 3236</td>\n",
       "      <td>8.0500</td>\n",
       "      <td>NaN</td>\n",
       "      <td>S</td>\n",
       "    </tr>\n",
       "    <tr>\n",
       "      <th>1306</th>\n",
       "      <td>1</td>\n",
       "      <td>Oliva y Ocana, Dona. Fermina</td>\n",
       "      <td>female</td>\n",
       "      <td>39.0</td>\n",
       "      <td>0</td>\n",
       "      <td>0</td>\n",
       "      <td>PC 17758</td>\n",
       "      <td>108.9000</td>\n",
       "      <td>C105</td>\n",
       "      <td>C</td>\n",
       "    </tr>\n",
       "    <tr>\n",
       "      <th>1307</th>\n",
       "      <td>3</td>\n",
       "      <td>Saether, Mr. Simon Sivertsen</td>\n",
       "      <td>male</td>\n",
       "      <td>38.5</td>\n",
       "      <td>0</td>\n",
       "      <td>0</td>\n",
       "      <td>SOTON/O.Q. 3101262</td>\n",
       "      <td>7.2500</td>\n",
       "      <td>NaN</td>\n",
       "      <td>S</td>\n",
       "    </tr>\n",
       "    <tr>\n",
       "      <th>1308</th>\n",
       "      <td>3</td>\n",
       "      <td>Ware, Mr. Frederick</td>\n",
       "      <td>male</td>\n",
       "      <td>NaN</td>\n",
       "      <td>0</td>\n",
       "      <td>0</td>\n",
       "      <td>359309</td>\n",
       "      <td>8.0500</td>\n",
       "      <td>NaN</td>\n",
       "      <td>S</td>\n",
       "    </tr>\n",
       "    <tr>\n",
       "      <th>1309</th>\n",
       "      <td>3</td>\n",
       "      <td>Peter, Master. Michael J</td>\n",
       "      <td>male</td>\n",
       "      <td>NaN</td>\n",
       "      <td>1</td>\n",
       "      <td>1</td>\n",
       "      <td>2668</td>\n",
       "      <td>22.3583</td>\n",
       "      <td>NaN</td>\n",
       "      <td>C</td>\n",
       "    </tr>\n",
       "  </tbody>\n",
       "</table>\n",
       "</div>"
      ],
      "text/plain": [
       "             Pclass                          Name     Sex   Age  SibSp  Parch  \\\n",
       "PassengerId                                                                     \n",
       "1305              3            Spector, Mr. Woolf    male   NaN      0      0   \n",
       "1306              1  Oliva y Ocana, Dona. Fermina  female  39.0      0      0   \n",
       "1307              3  Saether, Mr. Simon Sivertsen    male  38.5      0      0   \n",
       "1308              3           Ware, Mr. Frederick    male   NaN      0      0   \n",
       "1309              3      Peter, Master. Michael J    male   NaN      1      1   \n",
       "\n",
       "                         Ticket      Fare Cabin Embarked  \n",
       "PassengerId                                               \n",
       "1305                  A.5. 3236    8.0500   NaN        S  \n",
       "1306                   PC 17758  108.9000  C105        C  \n",
       "1307         SOTON/O.Q. 3101262    7.2500   NaN        S  \n",
       "1308                     359309    8.0500   NaN        S  \n",
       "1309                       2668   22.3583   NaN        C  "
      ]
     },
     "execution_count": 9,
     "metadata": {},
     "output_type": "execute_result"
    }
   ],
   "source": [
    "# Last five rows in test data\n",
    "test_df.tail()"
   ]
  },
  {
   "cell_type": "markdown",
   "id": "f84d908d-24e9-432a-ae38-b51af16ff6a6",
   "metadata": {
    "id": "f84d908d-24e9-432a-ae38-b51af16ff6a6"
   },
   "source": [
    "### iii) Data description\n",
    "\n",
    "<p>Get the know the datasets</p>\n"
   ]
  },
  {
   "cell_type": "markdown",
   "id": "47a11837-d1d5-4f7c-8a57-4f59cb2c7f71",
   "metadata": {
    "id": "47a11837-d1d5-4f7c-8a57-4f59cb2c7f71"
   },
   "source": [
    "#### a) Data shapes\n"
   ]
  },
  {
   "cell_type": "code",
   "execution_count": 10,
   "id": "4def610c-0540-4075-81bf-47a088d99a52",
   "metadata": {
    "ExecuteTime": {
     "end_time": "2025-10-03T22:37:11.103969Z",
     "start_time": "2025-10-03T22:37:11.094751Z"
    },
    "colab": {
     "base_uri": "https://localhost:8080/"
    },
    "id": "4def610c-0540-4075-81bf-47a088d99a52",
    "outputId": "b6690c2f-a2e0-45f4-efe5-364f9d3ee004"
   },
   "outputs": [
    {
     "name": "stdout",
     "output_type": "stream",
     "text": [
      "Train shape:\n",
      "\trows: 891\n",
      "\tcolumns: 11\n"
     ]
    }
   ],
   "source": [
    "# Train dataframe shape.\n",
    "train_shape = train_df.shape\n",
    "print(f\"Train shape:\\n\\trows: {train_shape[0]}\\n\\tcolumns: {train_shape[1]}\")"
   ]
  },
  {
   "cell_type": "code",
   "execution_count": 11,
   "id": "b63684ac-85aa-45fe-8dc0-a16df2ffe964",
   "metadata": {
    "ExecuteTime": {
     "end_time": "2025-10-03T22:37:11.135301Z",
     "start_time": "2025-10-03T22:37:11.118926Z"
    },
    "colab": {
     "base_uri": "https://localhost:8080/"
    },
    "id": "b63684ac-85aa-45fe-8dc0-a16df2ffe964",
    "outputId": "caef9559-8644-4769-fc19-7779100c8e40"
   },
   "outputs": [
    {
     "name": "stdout",
     "output_type": "stream",
     "text": [
      "Test shape:\n",
      "\trows: 418\n",
      "\tcolumns: 10\n"
     ]
    }
   ],
   "source": [
    "# Test dataframe shape.\n",
    "test_shape = test_df.shape\n",
    "print(f\"Test shape:\\n\\trows: {test_shape[0]}\\n\\tcolumns: {test_shape[1]}\")"
   ]
  },
  {
   "cell_type": "markdown",
   "id": "661ad635-c7dc-4e83-8723-6ba88129b4a9",
   "metadata": {
    "id": "661ad635-c7dc-4e83-8723-6ba88129b4a9"
   },
   "source": [
    "#### b) Data column names\n"
   ]
  },
  {
   "cell_type": "code",
   "execution_count": 12,
   "id": "52caf66e-5b37-467a-abd0-343e21e9a10b",
   "metadata": {
    "ExecuteTime": {
     "end_time": "2025-10-03T22:37:11.188101Z",
     "start_time": "2025-10-03T22:37:11.172184Z"
    },
    "colab": {
     "base_uri": "https://localhost:8080/"
    },
    "id": "52caf66e-5b37-467a-abd0-343e21e9a10b",
    "outputId": "1c1b7f05-ff81-47ba-e38f-b5e0a01bb2e4"
   },
   "outputs": [
    {
     "name": "stdout",
     "output_type": "stream",
     "text": [
      "['Survived',\n",
      " 'Pclass',\n",
      " 'Name',\n",
      " 'Sex',\n",
      " 'Age',\n",
      " 'SibSp',\n",
      " 'Parch',\n",
      " 'Ticket',\n",
      " 'Fare',\n",
      " 'Cabin',\n",
      " 'Embarked']\n"
     ]
    }
   ],
   "source": [
    "columns = train_df.columns.tolist()\n",
    "pprint.pprint(columns)"
   ]
  },
  {
   "cell_type": "code",
   "execution_count": 13,
   "id": "fb0b0807-4c82-4ddf-8173-e49b8aea134a",
   "metadata": {
    "ExecuteTime": {
     "end_time": "2025-10-03T22:37:11.239167Z",
     "start_time": "2025-10-03T22:37:11.206766Z"
    },
    "colab": {
     "base_uri": "https://localhost:8080/",
     "height": 467
    },
    "id": "fb0b0807-4c82-4ddf-8173-e49b8aea134a",
    "outputId": "79ec1afb-bb77-4fce-c604-c1432235c8d2"
   },
   "outputs": [
    {
     "data": {
      "text/plain": [
       "Survived      int64\n",
       "Pclass        int64\n",
       "Name         object\n",
       "Sex          object\n",
       "Age         float64\n",
       "SibSp         int64\n",
       "Parch         int64\n",
       "Ticket       object\n",
       "Fare        float64\n",
       "Cabin        object\n",
       "Embarked     object\n",
       "dtype: object"
      ]
     },
     "execution_count": 13,
     "metadata": {},
     "output_type": "execute_result"
    }
   ],
   "source": [
    "train_df.dtypes"
   ]
  },
  {
   "cell_type": "markdown",
   "id": "ebbff283-1f8a-4b69-8e9a-2e1c64e63ac9",
   "metadata": {
    "id": "ebbff283-1f8a-4b69-8e9a-2e1c64e63ac9",
    "jp-MarkdownHeadingCollapsed": true
   },
   "source": [
    "#### i) Converting train data frame low unique values\n"
   ]
  },
  {
   "cell_type": "code",
   "execution_count": 14,
   "id": "7893e5bb-4395-4727-9147-a073fa28a783",
   "metadata": {
    "ExecuteTime": {
     "end_time": "2025-10-03T22:37:11.325816Z",
     "start_time": "2025-10-03T22:37:11.254852Z"
    },
    "colab": {
     "base_uri": "https://localhost:8080/",
     "height": 467
    },
    "id": "7893e5bb-4395-4727-9147-a073fa28a783",
    "outputId": "4c9bfbd2-a14b-4029-c096-b475d9afb890"
   },
   "outputs": [
    {
     "data": {
      "text/plain": [
       "Survived     object\n",
       "Pclass       object\n",
       "Name         object\n",
       "Sex          object\n",
       "Age         float64\n",
       "SibSp        object\n",
       "Parch        object\n",
       "Ticket       object\n",
       "Fare        float64\n",
       "Cabin        object\n",
       "Embarked     object\n",
       "dtype: object"
      ]
     },
     "execution_count": 14,
     "metadata": {},
     "output_type": "execute_result"
    }
   ],
   "source": [
    "def convert_low_unique_value_to_str(data: pd.DataFrame) -> pd.DataFrame:\n",
    "    \"\"\"\n",
    "    Convert low unique values columns to string.\n",
    "\n",
    "    Args\n",
    "    ----\n",
    "    data: Dataframe to change low unique columns.\n",
    "\n",
    "    :return: Dataframe.\n",
    "    \"\"\"\n",
    "    # Change Survived, Pclass, SibSp and Parch to string data type for analysis.\n",
    "    data_copy = data.copy()\n",
    "\n",
    "    # Loop over the column name to turn to object\n",
    "    for col in (\"Survived\", \"Pclass\", \"SibSp\", \"Parch\"):\n",
    "        data_copy[col] = data_copy[col].astype(str)\n",
    "\n",
    "    return data_copy\n",
    "\n",
    "\n",
    "ana_train_data = convert_low_unique_value_to_str(train_df)\n",
    "ana_train_data.dtypes"
   ]
  },
  {
   "cell_type": "markdown",
   "id": "75b20ce5-4741-499c-9c5e-d519e4d77e0b",
   "metadata": {
    "id": "75b20ce5-4741-499c-9c5e-d519e4d77e0b"
   },
   "source": [
    "#### c) Data information\n"
   ]
  },
  {
   "cell_type": "code",
   "execution_count": 15,
   "id": "e2195c1e-4272-4d56-a94c-591458c1eb7c",
   "metadata": {
    "ExecuteTime": {
     "end_time": "2025-10-03T22:37:11.471277Z",
     "start_time": "2025-10-03T22:37:11.339721Z"
    },
    "colab": {
     "base_uri": "https://localhost:8080/"
    },
    "id": "e2195c1e-4272-4d56-a94c-591458c1eb7c",
    "outputId": "8dcb7d66-1ca3-4137-c1fe-1d6e08f753fd",
    "scrolled": true
   },
   "outputs": [
    {
     "name": "stdout",
     "output_type": "stream",
     "text": [
      "<class 'pandas.core.frame.DataFrame'>\n",
      "Index: 891 entries, 1 to 891\n",
      "Data columns (total 11 columns):\n",
      " #   Column    Non-Null Count  Dtype  \n",
      "---  ------    --------------  -----  \n",
      " 0   Survived  891 non-null    int64  \n",
      " 1   Pclass    891 non-null    int64  \n",
      " 2   Name      891 non-null    object \n",
      " 3   Sex       891 non-null    object \n",
      " 4   Age       714 non-null    float64\n",
      " 5   SibSp     891 non-null    int64  \n",
      " 6   Parch     891 non-null    int64  \n",
      " 7   Ticket    891 non-null    object \n",
      " 8   Fare      891 non-null    float64\n",
      " 9   Cabin     204 non-null    object \n",
      " 10  Embarked  889 non-null    object \n",
      "dtypes: float64(2), int64(4), object(5)\n",
      "memory usage: 83.5+ KB\n"
     ]
    }
   ],
   "source": [
    "# Train data information.\n",
    "train_df.info()"
   ]
  },
  {
   "cell_type": "code",
   "execution_count": 16,
   "id": "00a99b72-fc52-4d0a-afad-800dc763f356",
   "metadata": {
    "ExecuteTime": {
     "end_time": "2025-10-03T22:37:11.500818Z",
     "start_time": "2025-10-03T22:37:11.484785Z"
    },
    "colab": {
     "base_uri": "https://localhost:8080/"
    },
    "id": "00a99b72-fc52-4d0a-afad-800dc763f356",
    "outputId": "5b9d7b15-e5b7-42c2-c9ea-e1d28e9085b8"
   },
   "outputs": [
    {
     "name": "stdout",
     "output_type": "stream",
     "text": [
      "<class 'pandas.core.frame.DataFrame'>\n",
      "Index: 418 entries, 892 to 1309\n",
      "Data columns (total 10 columns):\n",
      " #   Column    Non-Null Count  Dtype  \n",
      "---  ------    --------------  -----  \n",
      " 0   Pclass    418 non-null    int64  \n",
      " 1   Name      418 non-null    object \n",
      " 2   Sex       418 non-null    object \n",
      " 3   Age       332 non-null    float64\n",
      " 4   SibSp     418 non-null    int64  \n",
      " 5   Parch     418 non-null    int64  \n",
      " 6   Ticket    418 non-null    object \n",
      " 7   Fare      417 non-null    float64\n",
      " 8   Cabin     91 non-null     object \n",
      " 9   Embarked  418 non-null    object \n",
      "dtypes: float64(2), int64(3), object(5)\n",
      "memory usage: 35.9+ KB\n"
     ]
    }
   ],
   "source": [
    "# Test data information\n",
    "test_df.info()"
   ]
  },
  {
   "cell_type": "markdown",
   "id": "28e7e1c4-8686-42da-8cd3-57d8cef62f0f",
   "metadata": {
    "id": "28e7e1c4-8686-42da-8cd3-57d8cef62f0f",
    "jp-MarkdownHeadingCollapsed": true
   },
   "source": [
    "#### d) Describing the data\n"
   ]
  },
  {
   "cell_type": "code",
   "execution_count": 17,
   "id": "99816fe2-5087-4d0f-ac8d-eb19a2d75409",
   "metadata": {
    "ExecuteTime": {
     "end_time": "2025-10-03T22:37:11.613180Z",
     "start_time": "2025-10-03T22:37:11.514933Z"
    },
    "colab": {
     "base_uri": "https://localhost:8080/",
     "height": 258
    },
    "id": "99816fe2-5087-4d0f-ac8d-eb19a2d75409",
    "outputId": "3b950e70-86f6-4fa8-a694-9c68345bd429"
   },
   "outputs": [
    {
     "data": {
      "text/html": [
       "<div>\n",
       "<style scoped>\n",
       "    .dataframe tbody tr th:only-of-type {\n",
       "        vertical-align: middle;\n",
       "    }\n",
       "\n",
       "    .dataframe tbody tr th {\n",
       "        vertical-align: top;\n",
       "    }\n",
       "\n",
       "    .dataframe thead th {\n",
       "        text-align: right;\n",
       "    }\n",
       "</style>\n",
       "<table border=\"1\" class=\"dataframe\">\n",
       "  <thead>\n",
       "    <tr style=\"text-align: right;\">\n",
       "      <th></th>\n",
       "      <th>count</th>\n",
       "      <th>mean</th>\n",
       "      <th>std</th>\n",
       "      <th>min</th>\n",
       "      <th>25%</th>\n",
       "      <th>50%</th>\n",
       "      <th>75%</th>\n",
       "      <th>max</th>\n",
       "    </tr>\n",
       "  </thead>\n",
       "  <tbody>\n",
       "    <tr>\n",
       "      <th>Survived</th>\n",
       "      <td>891.0</td>\n",
       "      <td>0.383838</td>\n",
       "      <td>0.486592</td>\n",
       "      <td>0.00</td>\n",
       "      <td>0.0000</td>\n",
       "      <td>0.0000</td>\n",
       "      <td>1.0</td>\n",
       "      <td>1.0000</td>\n",
       "    </tr>\n",
       "    <tr>\n",
       "      <th>Pclass</th>\n",
       "      <td>891.0</td>\n",
       "      <td>2.308642</td>\n",
       "      <td>0.836071</td>\n",
       "      <td>1.00</td>\n",
       "      <td>2.0000</td>\n",
       "      <td>3.0000</td>\n",
       "      <td>3.0</td>\n",
       "      <td>3.0000</td>\n",
       "    </tr>\n",
       "    <tr>\n",
       "      <th>Age</th>\n",
       "      <td>714.0</td>\n",
       "      <td>29.699118</td>\n",
       "      <td>14.526497</td>\n",
       "      <td>0.42</td>\n",
       "      <td>20.1250</td>\n",
       "      <td>28.0000</td>\n",
       "      <td>38.0</td>\n",
       "      <td>80.0000</td>\n",
       "    </tr>\n",
       "    <tr>\n",
       "      <th>SibSp</th>\n",
       "      <td>891.0</td>\n",
       "      <td>0.523008</td>\n",
       "      <td>1.102743</td>\n",
       "      <td>0.00</td>\n",
       "      <td>0.0000</td>\n",
       "      <td>0.0000</td>\n",
       "      <td>1.0</td>\n",
       "      <td>8.0000</td>\n",
       "    </tr>\n",
       "    <tr>\n",
       "      <th>Parch</th>\n",
       "      <td>891.0</td>\n",
       "      <td>0.381594</td>\n",
       "      <td>0.806057</td>\n",
       "      <td>0.00</td>\n",
       "      <td>0.0000</td>\n",
       "      <td>0.0000</td>\n",
       "      <td>0.0</td>\n",
       "      <td>6.0000</td>\n",
       "    </tr>\n",
       "    <tr>\n",
       "      <th>Fare</th>\n",
       "      <td>891.0</td>\n",
       "      <td>32.204208</td>\n",
       "      <td>49.693429</td>\n",
       "      <td>0.00</td>\n",
       "      <td>7.9104</td>\n",
       "      <td>14.4542</td>\n",
       "      <td>31.0</td>\n",
       "      <td>512.3292</td>\n",
       "    </tr>\n",
       "  </tbody>\n",
       "</table>\n",
       "</div>"
      ],
      "text/plain": [
       "          count       mean        std   min      25%      50%   75%       max\n",
       "Survived  891.0   0.383838   0.486592  0.00   0.0000   0.0000   1.0    1.0000\n",
       "Pclass    891.0   2.308642   0.836071  1.00   2.0000   3.0000   3.0    3.0000\n",
       "Age       714.0  29.699118  14.526497  0.42  20.1250  28.0000  38.0   80.0000\n",
       "SibSp     891.0   0.523008   1.102743  0.00   0.0000   0.0000   1.0    8.0000\n",
       "Parch     891.0   0.381594   0.806057  0.00   0.0000   0.0000   0.0    6.0000\n",
       "Fare      891.0  32.204208  49.693429  0.00   7.9104  14.4542  31.0  512.3292"
      ]
     },
     "execution_count": 17,
     "metadata": {},
     "output_type": "execute_result"
    }
   ],
   "source": [
    "# Train dataframe description\n",
    "train_df.describe().T"
   ]
  },
  {
   "cell_type": "markdown",
   "id": "6b78a8b5-4a3a-44df-8b29-fd956f3f36b2",
   "metadata": {
    "id": "6b78a8b5-4a3a-44df-8b29-fd956f3f36b2"
   },
   "source": [
    "<p style=\"font-weight: bold; font-style: italic;\">Description of numerical columns in train data</p>\n"
   ]
  },
  {
   "cell_type": "code",
   "execution_count": 18,
   "id": "8e98c0a0-b78a-4b22-9851-e027d73f1ddc",
   "metadata": {
    "ExecuteTime": {
     "end_time": "2025-10-03T22:37:11.695382Z",
     "start_time": "2025-10-03T22:37:11.636696Z"
    },
    "colab": {
     "base_uri": "https://localhost:8080/",
     "height": 132
    },
    "id": "8e98c0a0-b78a-4b22-9851-e027d73f1ddc",
    "outputId": "26641692-4a7a-4e26-d300-f3791a247a71"
   },
   "outputs": [
    {
     "data": {
      "text/html": [
       "<div>\n",
       "<style scoped>\n",
       "    .dataframe tbody tr th:only-of-type {\n",
       "        vertical-align: middle;\n",
       "    }\n",
       "\n",
       "    .dataframe tbody tr th {\n",
       "        vertical-align: top;\n",
       "    }\n",
       "\n",
       "    .dataframe thead th {\n",
       "        text-align: right;\n",
       "    }\n",
       "</style>\n",
       "<table border=\"1\" class=\"dataframe\">\n",
       "  <thead>\n",
       "    <tr style=\"text-align: right;\">\n",
       "      <th></th>\n",
       "      <th>count</th>\n",
       "      <th>mean</th>\n",
       "      <th>std</th>\n",
       "      <th>min</th>\n",
       "      <th>25%</th>\n",
       "      <th>50%</th>\n",
       "      <th>75%</th>\n",
       "      <th>max</th>\n",
       "    </tr>\n",
       "  </thead>\n",
       "  <tbody>\n",
       "    <tr>\n",
       "      <th>Age</th>\n",
       "      <td>714.0</td>\n",
       "      <td>29.699118</td>\n",
       "      <td>14.526497</td>\n",
       "      <td>0.42</td>\n",
       "      <td>20.1250</td>\n",
       "      <td>28.0000</td>\n",
       "      <td>38.0</td>\n",
       "      <td>80.0000</td>\n",
       "    </tr>\n",
       "    <tr>\n",
       "      <th>Fare</th>\n",
       "      <td>891.0</td>\n",
       "      <td>32.204208</td>\n",
       "      <td>49.693429</td>\n",
       "      <td>0.00</td>\n",
       "      <td>7.9104</td>\n",
       "      <td>14.4542</td>\n",
       "      <td>31.0</td>\n",
       "      <td>512.3292</td>\n",
       "    </tr>\n",
       "  </tbody>\n",
       "</table>\n",
       "</div>"
      ],
      "text/plain": [
       "      count       mean        std   min      25%      50%   75%       max\n",
       "Age   714.0  29.699118  14.526497  0.42  20.1250  28.0000  38.0   80.0000\n",
       "Fare  891.0  32.204208  49.693429  0.00   7.9104  14.4542  31.0  512.3292"
      ]
     },
     "execution_count": 18,
     "metadata": {},
     "output_type": "execute_result"
    }
   ],
   "source": [
    "\n",
    "ana_train_data.describe().T"
   ]
  },
  {
   "cell_type": "markdown",
   "id": "35ab9832-dfa2-4df0-acf6-8a37171bbc5e",
   "metadata": {
    "id": "35ab9832-dfa2-4df0-acf6-8a37171bbc5e"
   },
   "source": [
    "<p style=\"font-weight: bold; font-style: italic;\">Description of categorical columns in train data</p>\n"
   ]
  },
  {
   "cell_type": "code",
   "execution_count": 19,
   "id": "63ea916a-bff3-4558-a37c-3bcdd30354fd",
   "metadata": {
    "ExecuteTime": {
     "end_time": "2025-10-03T22:37:11.764133Z",
     "start_time": "2025-10-03T22:37:11.714781Z"
    },
    "colab": {
     "base_uri": "https://localhost:8080/",
     "height": 386
    },
    "id": "63ea916a-bff3-4558-a37c-3bcdd30354fd",
    "outputId": "62169e50-013a-45e8-83d5-2a9e2ee6bc8b"
   },
   "outputs": [
    {
     "data": {
      "text/html": [
       "<div>\n",
       "<style scoped>\n",
       "    .dataframe tbody tr th:only-of-type {\n",
       "        vertical-align: middle;\n",
       "    }\n",
       "\n",
       "    .dataframe tbody tr th {\n",
       "        vertical-align: top;\n",
       "    }\n",
       "\n",
       "    .dataframe thead th {\n",
       "        text-align: right;\n",
       "    }\n",
       "</style>\n",
       "<table border=\"1\" class=\"dataframe\">\n",
       "  <thead>\n",
       "    <tr style=\"text-align: right;\">\n",
       "      <th></th>\n",
       "      <th>count</th>\n",
       "      <th>unique</th>\n",
       "      <th>top</th>\n",
       "      <th>freq</th>\n",
       "    </tr>\n",
       "  </thead>\n",
       "  <tbody>\n",
       "    <tr>\n",
       "      <th>Survived</th>\n",
       "      <td>891</td>\n",
       "      <td>2</td>\n",
       "      <td>0</td>\n",
       "      <td>549</td>\n",
       "    </tr>\n",
       "    <tr>\n",
       "      <th>Pclass</th>\n",
       "      <td>891</td>\n",
       "      <td>3</td>\n",
       "      <td>3</td>\n",
       "      <td>491</td>\n",
       "    </tr>\n",
       "    <tr>\n",
       "      <th>Name</th>\n",
       "      <td>891</td>\n",
       "      <td>891</td>\n",
       "      <td>Braund, Mr. Owen Harris</td>\n",
       "      <td>1</td>\n",
       "    </tr>\n",
       "    <tr>\n",
       "      <th>Sex</th>\n",
       "      <td>891</td>\n",
       "      <td>2</td>\n",
       "      <td>male</td>\n",
       "      <td>577</td>\n",
       "    </tr>\n",
       "    <tr>\n",
       "      <th>SibSp</th>\n",
       "      <td>891</td>\n",
       "      <td>7</td>\n",
       "      <td>0</td>\n",
       "      <td>608</td>\n",
       "    </tr>\n",
       "    <tr>\n",
       "      <th>Parch</th>\n",
       "      <td>891</td>\n",
       "      <td>7</td>\n",
       "      <td>0</td>\n",
       "      <td>678</td>\n",
       "    </tr>\n",
       "    <tr>\n",
       "      <th>Ticket</th>\n",
       "      <td>891</td>\n",
       "      <td>681</td>\n",
       "      <td>347082</td>\n",
       "      <td>7</td>\n",
       "    </tr>\n",
       "    <tr>\n",
       "      <th>Cabin</th>\n",
       "      <td>204</td>\n",
       "      <td>147</td>\n",
       "      <td>B96 B98</td>\n",
       "      <td>4</td>\n",
       "    </tr>\n",
       "    <tr>\n",
       "      <th>Embarked</th>\n",
       "      <td>889</td>\n",
       "      <td>3</td>\n",
       "      <td>S</td>\n",
       "      <td>644</td>\n",
       "    </tr>\n",
       "  </tbody>\n",
       "</table>\n",
       "</div>"
      ],
      "text/plain": [
       "         count unique                      top freq\n",
       "Survived   891      2                        0  549\n",
       "Pclass     891      3                        3  491\n",
       "Name       891    891  Braund, Mr. Owen Harris    1\n",
       "Sex        891      2                     male  577\n",
       "SibSp      891      7                        0  608\n",
       "Parch      891      7                        0  678\n",
       "Ticket     891    681                   347082    7\n",
       "Cabin      204    147                  B96 B98    4\n",
       "Embarked   889      3                        S  644"
      ]
     },
     "execution_count": 19,
     "metadata": {},
     "output_type": "execute_result"
    }
   ],
   "source": [
    "ana_train_data.describe(exclude=float).T"
   ]
  },
  {
   "cell_type": "markdown",
   "id": "a38b8daf-539e-475d-a891-30a3ae5a889c",
   "metadata": {
    "id": "a38b8daf-539e-475d-a891-30a3ae5a889c",
    "jp-MarkdownHeadingCollapsed": true
   },
   "source": [
    "## 5) **Data split**\n",
    "\n",
    "<p>Separate target from the data and then split the data into train and validation</p>\n"
   ]
  },
  {
   "cell_type": "code",
   "execution_count": 20,
   "id": "fad4ae80-7c05-4dec-9503-d7fbe24ed6b1",
   "metadata": {
    "ExecuteTime": {
     "end_time": "2025-10-03T22:37:11.818152Z",
     "start_time": "2025-10-03T22:37:11.777403Z"
    },
    "colab": {
     "base_uri": "https://localhost:8080/"
    },
    "id": "fad4ae80-7c05-4dec-9503-d7fbe24ed6b1",
    "outputId": "132c3c7d-f0c8-4095-ec79-a9de15f7d8b0"
   },
   "outputs": [
    {
     "name": "stdout",
     "output_type": "stream",
     "text": [
      "\n",
      "X shape: (891, 10)\n",
      "y shape: (891, 1)\n",
      "\n"
     ]
    }
   ],
   "source": [
    "# Target name.\n",
    "target_name = \"Survived\"\n",
    "\n",
    "# Separating target column from the feature columns.\n",
    "X = train_df.copy()\n",
    "y = X.pop(target_name).values.reshape(-1, 1)\n",
    "\n",
    "# View the shape X and y.\n",
    "print(f'''\n",
    "X shape: {X.shape}\n",
    "y shape: {y.shape}\n",
    "''')"
   ]
  },
  {
   "cell_type": "code",
   "execution_count": 21,
   "id": "63f7c9e4-8401-461a-83ba-fea6e9f0249d",
   "metadata": {
    "ExecuteTime": {
     "end_time": "2025-10-03T22:37:11.909713Z",
     "start_time": "2025-10-03T22:37:11.832914Z"
    },
    "colab": {
     "base_uri": "https://localhost:8080/"
    },
    "id": "63f7c9e4-8401-461a-83ba-fea6e9f0249d",
    "outputId": "e32ab24b-7c65-4f4e-ea62-d5c467e0a4b5"
   },
   "outputs": [
    {
     "name": "stdout",
     "output_type": "stream",
     "text": [
      "\n",
      "train_x shape: (668, 10)\n",
      "train_y shape: (668, 1)\n",
      "valid_x shape: (223, 10)\n",
      "valid_y shape: (223, 1)\n",
      "\n"
     ]
    }
   ],
   "source": [
    "# 25 percent will be for test data.\n",
    "test_size = 0.25\n",
    "\n",
    "# 🪓 Splitting data into train and validation data.\n",
    "train_x, valid_x, train_y, valid_y = train_test_split(\n",
    "    X, y, test_size=test_size)\n",
    "\n",
    "# View the shape of the data.\n",
    "print(f'''\n",
    "train_x shape: {train_x.shape}\n",
    "train_y shape: {train_y.shape}\n",
    "valid_x shape: {valid_x.shape}\n",
    "valid_y shape: {valid_y.shape}\n",
    "''')"
   ]
  },
  {
   "cell_type": "markdown",
   "id": "569db3f6-aed1-4a2f-ac8a-15126a314794",
   "metadata": {
    "id": "569db3f6-aed1-4a2f-ac8a-15126a314794"
   },
   "source": [
    "## 6) **Data cleaning**\n",
    "\n",
    "<p>Modifying or removing data that is inaccurate, duplicate, incomplete, incorrectly formatted, or corrupted</p>\n"
   ]
  },
  {
   "cell_type": "markdown",
   "id": "c5a53948-c255-4c5d-b190-13daf7c45ba9",
   "metadata": {
    "id": "c5a53948-c255-4c5d-b190-13daf7c45ba9"
   },
   "source": [
    "### i) Check the missing values (NaN)\n",
    "\n",
    "<p>Search for missing value in the dataframes</p>\n"
   ]
  },
  {
   "cell_type": "code",
   "execution_count": 22,
   "id": "ab9ec910-cbff-4b63-ba07-07f2fbd15ea3",
   "metadata": {
    "ExecuteTime": {
     "end_time": "2025-10-03T22:37:11.943108Z",
     "start_time": "2025-10-03T22:37:11.928212Z"
    },
    "id": "ab9ec910-cbff-4b63-ba07-07f2fbd15ea3"
   },
   "outputs": [],
   "source": [
    "def check_n_nan(data: pd.DataFrame, only_nan: bool = True) -> pd.DataFrame:\n",
    "    \"\"\"\n",
    "    Represents the summary of missing data in the\n",
    "    data frame.\n",
    "\n",
    "    Parameters:\n",
    "    ----------\n",
    "    data: A data frame to check for missing data.\n",
    "\n",
    "    return: A dataframe with number of missing value (NaN) and the percentage.\n",
    "    \"\"\"\n",
    "    # Compute the total NaN for each column.\n",
    "    total_nan = data.isna().sum()\n",
    "\n",
    "    if only_nan:\n",
    "        total_nan = total_nan[total_nan > 0]\n",
    "\n",
    "    # Columns\n",
    "    column_names = total_nan.index\n",
    "\n",
    "    # Compute the percentage of missing data.\n",
    "    percentage = (((total_nan / data.shape[0]) * 100)\n",
    "                  .round(2)\n",
    "                  .astype(str)\n",
    "                  .map(lambda x: x + '%')\n",
    "                  )\n",
    "\n",
    "    return pd.DataFrame({\n",
    "        'columns': column_names,\n",
    "        'total_nan': total_nan,\n",
    "        'percent_nan': percentage\n",
    "    }).reset_index(drop=True)"
   ]
  },
  {
   "cell_type": "code",
   "execution_count": 23,
   "id": "71d6e8a8-1a60-4ce7-bfa2-cd93ae383fba",
   "metadata": {
    "ExecuteTime": {
     "end_time": "2025-10-03T22:37:11.984257Z",
     "start_time": "2025-10-03T22:37:11.965061Z"
    },
    "id": "71d6e8a8-1a60-4ce7-bfa2-cd93ae383fba",
    "jupyter": {
     "source_hidden": true
    }
   },
   "outputs": [],
   "source": [
    "def plot_nan(data: pd.DataFrame, name: str | None = None, only_nan: bool = True, use_percent=False) -> None:\n",
    "    nan_df = check_n_nan(data, only_nan)\n",
    "    nan_df['percent_nan'] = nan_df['percent_nan'].str.replace(\n",
    "        '%', '').astype(float).round().astype(int)\n",
    "\n",
    "    radius = 5\n",
    "    y_name = 'percent_nan' if use_percent else 'total_nan'\n",
    "    startup_title = 'Percentage' if use_percent else 'Number'\n",
    "    y_title = f'{startup_title} of missing values'\n",
    "    y_name = alt.Y(y_name).title(y_title)\n",
    "    name = name if name else 'a dataset'\n",
    "    title = f'{startup_title} Of Missing values In {name.title()}'\n",
    "    subtitle = f'A chart represents missing data in {name}'\n",
    "\n",
    "    base = alt.Chart(\n",
    "        nan_df,\n",
    "        title=alt.Title(\n",
    "            title,\n",
    "            subtitle=subtitle,\n",
    "            anchor='start',\n",
    "        )\n",
    "    ).mark_bar(\n",
    "        cornerRadiusTopLeft=radius,\n",
    "        cornerRadiusTopRight=radius\n",
    "    ).encode(\n",
    "        x=alt.X('columns').title('Columns names'),\n",
    "        y=y_name,\n",
    "        color=alt.Color('columns').scale(\n",
    "            scheme='lightgreyred',\n",
    "            reverse=True\n",
    "        ).legend(orient='right'),\n",
    "        tooltip=[\"columns\", \"total_nan\", 'percent_nan'],\n",
    "        text='columns'\n",
    "    ).configure_axis(\n",
    "        grid=False\n",
    "    ).configure_view(\n",
    "        stroke=None\n",
    "    )\n",
    "\n",
    "    return base"
   ]
  },
  {
   "cell_type": "markdown",
   "id": "907a7417-4dc5-4c7a-89f1-f5ca107291fb",
   "metadata": {
    "id": "907a7417-4dc5-4c7a-89f1-f5ca107291fb"
   },
   "source": [
    "#### a) Observing missing data in train and validation data\n"
   ]
  },
  {
   "cell_type": "markdown",
   "id": "d222933d-935b-48e9-ada5-9f5487dc2158",
   "metadata": {
    "id": "d222933d-935b-48e9-ada5-9f5487dc2158"
   },
   "source": [
    "##### One) X train dataset\n"
   ]
  },
  {
   "cell_type": "code",
   "execution_count": 24,
   "id": "321fb63b-d441-4d2b-9e09-13d61256ab41",
   "metadata": {
    "ExecuteTime": {
     "end_time": "2025-10-03T22:37:12.017629Z",
     "start_time": "2025-10-03T22:37:11.998181Z"
    },
    "colab": {
     "base_uri": "https://localhost:8080/",
     "height": 163
    },
    "id": "321fb63b-d441-4d2b-9e09-13d61256ab41",
    "outputId": "3b76bf18-697b-4aca-b00c-772c8cd904ab"
   },
   "outputs": [
    {
     "data": {
      "text/html": [
       "<div>\n",
       "<style scoped>\n",
       "    .dataframe tbody tr th:only-of-type {\n",
       "        vertical-align: middle;\n",
       "    }\n",
       "\n",
       "    .dataframe tbody tr th {\n",
       "        vertical-align: top;\n",
       "    }\n",
       "\n",
       "    .dataframe thead th {\n",
       "        text-align: right;\n",
       "    }\n",
       "</style>\n",
       "<table border=\"1\" class=\"dataframe\">\n",
       "  <thead>\n",
       "    <tr style=\"text-align: right;\">\n",
       "      <th></th>\n",
       "      <th>columns</th>\n",
       "      <th>total_nan</th>\n",
       "      <th>percent_nan</th>\n",
       "    </tr>\n",
       "  </thead>\n",
       "  <tbody>\n",
       "    <tr>\n",
       "      <th>0</th>\n",
       "      <td>Age</td>\n",
       "      <td>127</td>\n",
       "      <td>19.01%</td>\n",
       "    </tr>\n",
       "    <tr>\n",
       "      <th>1</th>\n",
       "      <td>Cabin</td>\n",
       "      <td>515</td>\n",
       "      <td>77.1%</td>\n",
       "    </tr>\n",
       "  </tbody>\n",
       "</table>\n",
       "</div>"
      ],
      "text/plain": [
       "  columns  total_nan percent_nan\n",
       "0     Age        127      19.01%\n",
       "1   Cabin        515       77.1%"
      ]
     },
     "execution_count": 24,
     "metadata": {},
     "output_type": "execute_result"
    }
   ],
   "source": [
    "check_n_nan(train_x)"
   ]
  },
  {
   "cell_type": "code",
   "execution_count": 25,
   "id": "b3f6aa76-3d6e-4be5-8c68-34f0e6232b01",
   "metadata": {
    "ExecuteTime": {
     "end_time": "2025-10-03T22:37:12.875126Z",
     "start_time": "2025-10-03T22:37:12.032334Z"
    },
    "colab": {
     "base_uri": "https://localhost:8080/",
     "height": 460
    },
    "id": "b3f6aa76-3d6e-4be5-8c68-34f0e6232b01",
    "outputId": "e4b0c512-9b87-4a0f-b452-34c3d48b34d1"
   },
   "outputs": [
    {
     "data": {
      "application/vnd.vegalite.v5+json": {
       "$schema": "https://vega.github.io/schema/vega-lite/v5.20.1.json",
       "config": {
        "axis": {
         "grid": false
        },
        "view": {
         "continuousHeight": 300,
         "continuousWidth": 300,
         "stroke": null
        }
       },
       "data": {
        "name": "data-7de7b200d9738d1e6d590788a97dbc9c"
       },
       "datasets": {
        "data-7de7b200d9738d1e6d590788a97dbc9c": [
         {
          "columns": "Pclass",
          "percent_nan": 0,
          "total_nan": 0
         },
         {
          "columns": "Name",
          "percent_nan": 0,
          "total_nan": 0
         },
         {
          "columns": "Sex",
          "percent_nan": 0,
          "total_nan": 0
         },
         {
          "columns": "Age",
          "percent_nan": 19,
          "total_nan": 127
         },
         {
          "columns": "SibSp",
          "percent_nan": 0,
          "total_nan": 0
         },
         {
          "columns": "Parch",
          "percent_nan": 0,
          "total_nan": 0
         },
         {
          "columns": "Ticket",
          "percent_nan": 0,
          "total_nan": 0
         },
         {
          "columns": "Fare",
          "percent_nan": 0,
          "total_nan": 0
         },
         {
          "columns": "Cabin",
          "percent_nan": 77,
          "total_nan": 515
         },
         {
          "columns": "Embarked",
          "percent_nan": 0,
          "total_nan": 0
         }
        ]
       },
       "encoding": {
        "color": {
         "field": "columns",
         "legend": {
          "orient": "right"
         },
         "scale": {
          "reverse": true,
          "scheme": "lightgreyred"
         },
         "type": "nominal"
        },
        "text": {
         "field": "columns",
         "type": "nominal"
        },
        "tooltip": [
         {
          "field": "columns",
          "type": "nominal"
         },
         {
          "field": "total_nan",
          "type": "quantitative"
         },
         {
          "field": "percent_nan",
          "type": "quantitative"
         }
        ],
        "x": {
         "field": "columns",
         "title": "Columns names",
         "type": "nominal"
        },
        "y": {
         "field": "total_nan",
         "title": "Number of missing values",
         "type": "quantitative"
        }
       },
       "mark": {
        "cornerRadiusTopLeft": 5,
        "cornerRadiusTopRight": 5,
        "type": "bar"
       },
       "title": {
        "anchor": "start",
        "subtitle": "A chart represents missing data in x train dataset",
        "text": "Number Of Missing values In X Train Dataset"
       }
      },
      "text/plain": [
       "<VegaLite 5 object>\n",
       "\n",
       "If you see this message, it means the renderer has not been properly enabled\n",
       "for the frontend that you are using. For more information, see\n",
       "https://altair-viz.github.io/user_guide/display_frontends.html#troubleshooting\n"
      ]
     },
     "execution_count": 25,
     "metadata": {},
     "output_type": "execute_result"
    }
   ],
   "source": [
    "plot_nan(\n",
    "    train_x,\n",
    "    name='x train dataset',\n",
    "    only_nan=False\n",
    ")"
   ]
  },
  {
   "cell_type": "markdown",
   "id": "e5ea56f0-1bbc-4a11-bad3-ee762c844f84",
   "metadata": {
    "id": "e5ea56f0-1bbc-4a11-bad3-ee762c844f84"
   },
   "source": [
    "**conclusion:** X train data sample contains missing data of 21.11%(141) of Age column, 78.29%(523) of cabin column and 0.3%(2) of Embarked column are the amount of missing data in the dataset from the data size of 668.\n"
   ]
  },
  {
   "cell_type": "markdown",
   "id": "dcff054d-4751-4b4d-9058-c7a24bf11d68",
   "metadata": {
    "id": "dcff054d-4751-4b4d-9058-c7a24bf11d68",
    "jp-MarkdownHeadingCollapsed": true
   },
   "source": [
    "##### Two) X validation dataset\n"
   ]
  },
  {
   "cell_type": "code",
   "execution_count": 26,
   "id": "b8715e3e-853c-4d18-8174-9e2690f29260",
   "metadata": {
    "ExecuteTime": {
     "end_time": "2025-10-03T22:37:12.904521Z",
     "start_time": "2025-10-03T22:37:12.887911Z"
    },
    "colab": {
     "base_uri": "https://localhost:8080/",
     "height": 163
    },
    "editable": true,
    "id": "b8715e3e-853c-4d18-8174-9e2690f29260",
    "outputId": "9ef9673b-fd59-40b8-ce9c-fe9d338f6a60",
    "tags": []
   },
   "outputs": [
    {
     "data": {
      "text/html": [
       "<div>\n",
       "<style scoped>\n",
       "    .dataframe tbody tr th:only-of-type {\n",
       "        vertical-align: middle;\n",
       "    }\n",
       "\n",
       "    .dataframe tbody tr th {\n",
       "        vertical-align: top;\n",
       "    }\n",
       "\n",
       "    .dataframe thead th {\n",
       "        text-align: right;\n",
       "    }\n",
       "</style>\n",
       "<table border=\"1\" class=\"dataframe\">\n",
       "  <thead>\n",
       "    <tr style=\"text-align: right;\">\n",
       "      <th></th>\n",
       "      <th>columns</th>\n",
       "      <th>total_nan</th>\n",
       "      <th>percent_nan</th>\n",
       "    </tr>\n",
       "  </thead>\n",
       "  <tbody>\n",
       "    <tr>\n",
       "      <th>0</th>\n",
       "      <td>Age</td>\n",
       "      <td>50</td>\n",
       "      <td>22.42%</td>\n",
       "    </tr>\n",
       "    <tr>\n",
       "      <th>1</th>\n",
       "      <td>Cabin</td>\n",
       "      <td>172</td>\n",
       "      <td>77.13%</td>\n",
       "    </tr>\n",
       "    <tr>\n",
       "      <th>2</th>\n",
       "      <td>Embarked</td>\n",
       "      <td>2</td>\n",
       "      <td>0.9%</td>\n",
       "    </tr>\n",
       "  </tbody>\n",
       "</table>\n",
       "</div>"
      ],
      "text/plain": [
       "    columns  total_nan percent_nan\n",
       "0       Age         50      22.42%\n",
       "1     Cabin        172      77.13%\n",
       "2  Embarked          2        0.9%"
      ]
     },
     "execution_count": 26,
     "metadata": {},
     "output_type": "execute_result"
    }
   ],
   "source": [
    "check_n_nan(valid_x)"
   ]
  },
  {
   "cell_type": "code",
   "execution_count": 27,
   "id": "32fa3466-5591-4ccf-a15f-2f741871286b",
   "metadata": {
    "ExecuteTime": {
     "end_time": "2025-10-03T22:37:13.000687Z",
     "start_time": "2025-10-03T22:37:12.918569Z"
    },
    "colab": {
     "base_uri": "https://localhost:8080/",
     "height": 460
    },
    "id": "32fa3466-5591-4ccf-a15f-2f741871286b",
    "outputId": "31f9e002-3d69-4ef4-d49e-5a61bbf96ad1"
   },
   "outputs": [
    {
     "data": {
      "application/vnd.vegalite.v5+json": {
       "$schema": "https://vega.github.io/schema/vega-lite/v5.20.1.json",
       "config": {
        "axis": {
         "grid": false
        },
        "view": {
         "continuousHeight": 300,
         "continuousWidth": 300,
         "stroke": null
        }
       },
       "data": {
        "name": "data-e7e76915f70fbfe0c0e7fef8140ad919"
       },
       "datasets": {
        "data-e7e76915f70fbfe0c0e7fef8140ad919": [
         {
          "columns": "Pclass",
          "percent_nan": 0,
          "total_nan": 0
         },
         {
          "columns": "Name",
          "percent_nan": 0,
          "total_nan": 0
         },
         {
          "columns": "Sex",
          "percent_nan": 0,
          "total_nan": 0
         },
         {
          "columns": "Age",
          "percent_nan": 22,
          "total_nan": 50
         },
         {
          "columns": "SibSp",
          "percent_nan": 0,
          "total_nan": 0
         },
         {
          "columns": "Parch",
          "percent_nan": 0,
          "total_nan": 0
         },
         {
          "columns": "Ticket",
          "percent_nan": 0,
          "total_nan": 0
         },
         {
          "columns": "Fare",
          "percent_nan": 0,
          "total_nan": 0
         },
         {
          "columns": "Cabin",
          "percent_nan": 77,
          "total_nan": 172
         },
         {
          "columns": "Embarked",
          "percent_nan": 1,
          "total_nan": 2
         }
        ]
       },
       "encoding": {
        "color": {
         "field": "columns",
         "legend": {
          "orient": "right"
         },
         "scale": {
          "reverse": true,
          "scheme": "lightgreyred"
         },
         "type": "nominal"
        },
        "text": {
         "field": "columns",
         "type": "nominal"
        },
        "tooltip": [
         {
          "field": "columns",
          "type": "nominal"
         },
         {
          "field": "total_nan",
          "type": "quantitative"
         },
         {
          "field": "percent_nan",
          "type": "quantitative"
         }
        ],
        "x": {
         "field": "columns",
         "title": "Columns names",
         "type": "nominal"
        },
        "y": {
         "field": "percent_nan",
         "title": "Percentage of missing values",
         "type": "quantitative"
        }
       },
       "mark": {
        "cornerRadiusTopLeft": 5,
        "cornerRadiusTopRight": 5,
        "type": "bar"
       },
       "title": {
        "anchor": "start",
        "subtitle": "A chart represents missing data in x validation dataset",
        "text": "Percentage Of Missing values In X Validation Dataset"
       }
      },
      "text/plain": [
       "<VegaLite 5 object>\n",
       "\n",
       "If you see this message, it means the renderer has not been properly enabled\n",
       "for the frontend that you are using. For more information, see\n",
       "https://altair-viz.github.io/user_guide/display_frontends.html#troubleshooting\n"
      ]
     },
     "execution_count": 27,
     "metadata": {},
     "output_type": "execute_result"
    }
   ],
   "source": [
    "plot_nan(\n",
    "    valid_x,\n",
    "    name='x validation dataset',\n",
    "    only_nan=False,\n",
    "    use_percent=True\n",
    ")"
   ]
  },
  {
   "cell_type": "markdown",
   "id": "70cb1ef4-1b8f-4892-a56f-f2ebe9349ee4",
   "metadata": {
    "id": "70cb1ef4-1b8f-4892-a56f-f2ebe9349ee4"
   },
   "source": [
    "**conclusion:** In X validation data sample there are 16.14%(36) of Age column and 73.54%(164) of cabin column are the amount of missing data in the dataset from the data size of 223.\n"
   ]
  },
  {
   "cell_type": "markdown",
   "id": "bb47e119-64ce-4244-b63f-689391592150",
   "metadata": {
    "id": "bb47e119-64ce-4244-b63f-689391592150"
   },
   "source": [
    "#### b) Observing missing data in test dataset\n"
   ]
  },
  {
   "cell_type": "code",
   "execution_count": 28,
   "id": "2e672b30-9557-411d-b6b5-817485fba03f",
   "metadata": {
    "ExecuteTime": {
     "end_time": "2025-10-03T22:37:13.028980Z",
     "start_time": "2025-10-03T22:37:13.012690Z"
    },
    "colab": {
     "base_uri": "https://localhost:8080/",
     "height": 163
    },
    "id": "2e672b30-9557-411d-b6b5-817485fba03f",
    "outputId": "85ae587c-1e0e-4e70-d1f1-7b93d97611fa"
   },
   "outputs": [
    {
     "data": {
      "text/html": [
       "<div>\n",
       "<style scoped>\n",
       "    .dataframe tbody tr th:only-of-type {\n",
       "        vertical-align: middle;\n",
       "    }\n",
       "\n",
       "    .dataframe tbody tr th {\n",
       "        vertical-align: top;\n",
       "    }\n",
       "\n",
       "    .dataframe thead th {\n",
       "        text-align: right;\n",
       "    }\n",
       "</style>\n",
       "<table border=\"1\" class=\"dataframe\">\n",
       "  <thead>\n",
       "    <tr style=\"text-align: right;\">\n",
       "      <th></th>\n",
       "      <th>columns</th>\n",
       "      <th>total_nan</th>\n",
       "      <th>percent_nan</th>\n",
       "    </tr>\n",
       "  </thead>\n",
       "  <tbody>\n",
       "    <tr>\n",
       "      <th>0</th>\n",
       "      <td>Age</td>\n",
       "      <td>86</td>\n",
       "      <td>20.57%</td>\n",
       "    </tr>\n",
       "    <tr>\n",
       "      <th>1</th>\n",
       "      <td>Fare</td>\n",
       "      <td>1</td>\n",
       "      <td>0.24%</td>\n",
       "    </tr>\n",
       "    <tr>\n",
       "      <th>2</th>\n",
       "      <td>Cabin</td>\n",
       "      <td>327</td>\n",
       "      <td>78.23%</td>\n",
       "    </tr>\n",
       "  </tbody>\n",
       "</table>\n",
       "</div>"
      ],
      "text/plain": [
       "  columns  total_nan percent_nan\n",
       "0     Age         86      20.57%\n",
       "1    Fare          1       0.24%\n",
       "2   Cabin        327      78.23%"
      ]
     },
     "execution_count": 28,
     "metadata": {},
     "output_type": "execute_result"
    }
   ],
   "source": [
    "check_n_nan(test_df)"
   ]
  },
  {
   "cell_type": "code",
   "execution_count": 29,
   "id": "606251fa-a05f-430b-b372-5aa5209d3dea",
   "metadata": {
    "ExecuteTime": {
     "end_time": "2025-10-03T22:37:13.119102Z",
     "start_time": "2025-10-03T22:37:13.042485Z"
    },
    "colab": {
     "base_uri": "https://localhost:8080/",
     "height": 460
    },
    "id": "606251fa-a05f-430b-b372-5aa5209d3dea",
    "outputId": "a5eea612-9b2b-4742-8165-bc8cac63dde8"
   },
   "outputs": [
    {
     "data": {
      "application/vnd.vegalite.v5+json": {
       "$schema": "https://vega.github.io/schema/vega-lite/v5.20.1.json",
       "config": {
        "axis": {
         "grid": false
        },
        "view": {
         "continuousHeight": 300,
         "continuousWidth": 300,
         "stroke": null
        }
       },
       "data": {
        "name": "data-dcb125812a966ffd090a54dbd7db12b3"
       },
       "datasets": {
        "data-dcb125812a966ffd090a54dbd7db12b3": [
         {
          "columns": "Pclass",
          "percent_nan": 0,
          "total_nan": 0
         },
         {
          "columns": "Name",
          "percent_nan": 0,
          "total_nan": 0
         },
         {
          "columns": "Sex",
          "percent_nan": 0,
          "total_nan": 0
         },
         {
          "columns": "Age",
          "percent_nan": 21,
          "total_nan": 86
         },
         {
          "columns": "SibSp",
          "percent_nan": 0,
          "total_nan": 0
         },
         {
          "columns": "Parch",
          "percent_nan": 0,
          "total_nan": 0
         },
         {
          "columns": "Ticket",
          "percent_nan": 0,
          "total_nan": 0
         },
         {
          "columns": "Fare",
          "percent_nan": 0,
          "total_nan": 1
         },
         {
          "columns": "Cabin",
          "percent_nan": 78,
          "total_nan": 327
         },
         {
          "columns": "Embarked",
          "percent_nan": 0,
          "total_nan": 0
         }
        ]
       },
       "encoding": {
        "color": {
         "field": "columns",
         "legend": {
          "orient": "right"
         },
         "scale": {
          "reverse": true,
          "scheme": "lightgreyred"
         },
         "type": "nominal"
        },
        "text": {
         "field": "columns",
         "type": "nominal"
        },
        "tooltip": [
         {
          "field": "columns",
          "type": "nominal"
         },
         {
          "field": "total_nan",
          "type": "quantitative"
         },
         {
          "field": "percent_nan",
          "type": "quantitative"
         }
        ],
        "x": {
         "field": "columns",
         "title": "Columns names",
         "type": "nominal"
        },
        "y": {
         "field": "total_nan",
         "title": "Number of missing values",
         "type": "quantitative"
        }
       },
       "mark": {
        "cornerRadiusTopLeft": 5,
        "cornerRadiusTopRight": 5,
        "type": "bar"
       },
       "title": {
        "anchor": "start",
        "subtitle": "A chart represents missing data in test dataset",
        "text": "Number Of Missing values In Test Dataset"
       }
      },
      "text/plain": [
       "<VegaLite 5 object>\n",
       "\n",
       "If you see this message, it means the renderer has not been properly enabled\n",
       "for the frontend that you are using. For more information, see\n",
       "https://altair-viz.github.io/user_guide/display_frontends.html#troubleshooting\n"
      ]
     },
     "execution_count": 29,
     "metadata": {},
     "output_type": "execute_result"
    }
   ],
   "source": [
    "plot_nan(\n",
    "    test_df,\n",
    "    name='test dataset',\n",
    "    only_nan=False,\n",
    "    use_percent=False\n",
    ")"
   ]
  },
  {
   "cell_type": "markdown",
   "id": "e3ea0e25-6bb5-408f-8671-709f7f0aa02a",
   "metadata": {
    "id": "e3ea0e25-6bb5-408f-8671-709f7f0aa02a"
   },
   "source": [
    "**conclusion:** The test data frame contains missing data of 20.57%(86) of Age column, 78.23%(327) of cabin column and 0.24%(1) of Fare column are the amount of missing data in the dataset from the data size of 418.\n"
   ]
  },
  {
   "cell_type": "markdown",
   "id": "1fG6lnoslyaM",
   "metadata": {
    "id": "1fG6lnoslyaM",
    "jp-MarkdownHeadingCollapsed": true
   },
   "source": [
    "### ii) Handling the missing values (NaN)\n",
    "\n",
    "<p>Filling missing value in the dataframes</p>\n"
   ]
  },
  {
   "cell_type": "code",
   "execution_count": 30,
   "id": "e41f939a-2218-475c-b5e4-f27ca50a8ee8",
   "metadata": {
    "ExecuteTime": {
     "end_time": "2025-10-03T22:37:13.146709Z",
     "start_time": "2025-10-03T22:37:13.133348Z"
    },
    "id": "e41f939a-2218-475c-b5e4-f27ca50a8ee8"
   },
   "outputs": [],
   "source": [
    "class FillNaN:\n",
    "    def __init__(self, dfs: List[pd.DataFrame], fill_with: Dict[str, Any]) -> None:\n",
    "        self.dfs = dfs\n",
    "        self.fill_with = fill_with\n",
    "\n",
    "    @property\n",
    "    def fill(self) -> List[pd.DataFrame]:\n",
    "        \"\"\"\n",
    "        Fills missing values in the data frames.\n",
    "        :return: A tuple of data frames\n",
    "        \"\"\"\n",
    "        lst = []\n",
    "        for df in self.dfs:\n",
    "            for col, strat in self.fill_with.items():\n",
    "                df = self.strategy(df, strat=strat, col_name=col)\n",
    "            lst.append(df)\n",
    "        return lst\n",
    "\n",
    "    @staticmethod\n",
    "    def strategy(df: pd.DataFrame, strat: str, col_name: str) -> pd.DataFrame:\n",
    "        match strat:\n",
    "            case 'mean':\n",
    "                df[col_name] = df[col_name].fillna(df[col_name].mean())\n",
    "            case 'mode':\n",
    "                df[col_name] = df[col_name].fillna(df[col_name].mode()[0])\n",
    "            case 'min':\n",
    "                df[col_name] = df[col_name].fillna(df[col_name].min())\n",
    "            case 'max':\n",
    "                df[col_name] = df[col_name].fillna(df[col_name].max())\n",
    "            case 'median':\n",
    "                df[col_name] = df[col_name].fillna(df[col_name].median())\n",
    "            case 'bfill':\n",
    "                df[col_name] = df[col_name].bfill()\n",
    "            case 'ffill':\n",
    "                df[col_name] = df[col_name].ffill()\n",
    "            case \"drop\":\n",
    "                df = df.drop(col_name, axis=1)\n",
    "            case _:\n",
    "                raise ValueError(\n",
    "                    f\"Ooh, strategy has received invalid value `{strat}` for strat\")\n",
    "        return df"
   ]
  },
  {
   "cell_type": "markdown",
   "id": "e02ac5a6-7db2-4163-81f2-05dbf6a25e3a",
   "metadata": {
    "id": "e02ac5a6-7db2-4163-81f2-05dbf6a25e3a"
   },
   "source": [
    "Filling the missing value in age with mean, Fare with ffill, Embarked with mode and Cabin with drop.\n"
   ]
  },
  {
   "cell_type": "code",
   "execution_count": 31,
   "id": "49baf8f2310caf73",
   "metadata": {
    "ExecuteTime": {
     "end_time": "2025-10-03T22:37:13.180529Z",
     "start_time": "2025-10-03T22:37:13.165152Z"
    },
    "id": "49baf8f2310caf73"
   },
   "outputs": [],
   "source": [
    "fill = FillNaN(\n",
    "    [train_x, valid_x, test_df],\n",
    "    {\"Age\": \"mean\",\n",
    "     \"Fare\": \"ffill\",\n",
    "     \"Embarked\": \"mode\",\n",
    "     \"Cabin\": \"drop\"})"
   ]
  },
  {
   "cell_type": "code",
   "execution_count": 32,
   "id": "dd679420-5066-4f16-a720-b9afa7a94312",
   "metadata": {
    "ExecuteTime": {
     "end_time": "2025-10-03T22:37:13.234898Z",
     "start_time": "2025-10-03T22:37:13.192480Z"
    },
    "id": "dd679420-5066-4f16-a720-b9afa7a94312"
   },
   "outputs": [],
   "source": [
    "clean_train_x, clean_valid_x, clean_test_df = fill.fill"
   ]
  },
  {
   "cell_type": "markdown",
   "id": "3640be44-6901-4f13-b8f0-04f4867b45af",
   "metadata": {
    "id": "3640be44-6901-4f13-b8f0-04f4867b45af"
   },
   "source": [
    "Check if there still any missing values in the data.\n"
   ]
  },
  {
   "cell_type": "markdown",
   "id": "c6c3ee03-6247-44c5-86ee-e3b1e5b5f004",
   "metadata": {
    "id": "c6c3ee03-6247-44c5-86ee-e3b1e5b5f004"
   },
   "source": [
    "**Clean train x**\n"
   ]
  },
  {
   "cell_type": "code",
   "execution_count": 33,
   "id": "c4338507-507b-4e59-be64-732a3a200c69",
   "metadata": {
    "ExecuteTime": {
     "end_time": "2025-10-03T22:37:13.260333Z",
     "start_time": "2025-10-03T22:37:13.244537Z"
    },
    "colab": {
     "base_uri": "https://localhost:8080/",
     "height": 332
    },
    "id": "c4338507-507b-4e59-be64-732a3a200c69",
    "outputId": "18236591-37ce-4fa8-fbbf-fcee3ca12b30"
   },
   "outputs": [
    {
     "data": {
      "text/html": [
       "<div>\n",
       "<style scoped>\n",
       "    .dataframe tbody tr th:only-of-type {\n",
       "        vertical-align: middle;\n",
       "    }\n",
       "\n",
       "    .dataframe tbody tr th {\n",
       "        vertical-align: top;\n",
       "    }\n",
       "\n",
       "    .dataframe thead th {\n",
       "        text-align: right;\n",
       "    }\n",
       "</style>\n",
       "<table border=\"1\" class=\"dataframe\">\n",
       "  <thead>\n",
       "    <tr style=\"text-align: right;\">\n",
       "      <th></th>\n",
       "      <th>columns</th>\n",
       "      <th>total_nan</th>\n",
       "      <th>percent_nan</th>\n",
       "    </tr>\n",
       "  </thead>\n",
       "  <tbody>\n",
       "    <tr>\n",
       "      <th>0</th>\n",
       "      <td>Pclass</td>\n",
       "      <td>0</td>\n",
       "      <td>0.0%</td>\n",
       "    </tr>\n",
       "    <tr>\n",
       "      <th>1</th>\n",
       "      <td>Name</td>\n",
       "      <td>0</td>\n",
       "      <td>0.0%</td>\n",
       "    </tr>\n",
       "    <tr>\n",
       "      <th>2</th>\n",
       "      <td>Sex</td>\n",
       "      <td>0</td>\n",
       "      <td>0.0%</td>\n",
       "    </tr>\n",
       "    <tr>\n",
       "      <th>3</th>\n",
       "      <td>Age</td>\n",
       "      <td>0</td>\n",
       "      <td>0.0%</td>\n",
       "    </tr>\n",
       "    <tr>\n",
       "      <th>4</th>\n",
       "      <td>SibSp</td>\n",
       "      <td>0</td>\n",
       "      <td>0.0%</td>\n",
       "    </tr>\n",
       "    <tr>\n",
       "      <th>5</th>\n",
       "      <td>Parch</td>\n",
       "      <td>0</td>\n",
       "      <td>0.0%</td>\n",
       "    </tr>\n",
       "    <tr>\n",
       "      <th>6</th>\n",
       "      <td>Ticket</td>\n",
       "      <td>0</td>\n",
       "      <td>0.0%</td>\n",
       "    </tr>\n",
       "    <tr>\n",
       "      <th>7</th>\n",
       "      <td>Fare</td>\n",
       "      <td>0</td>\n",
       "      <td>0.0%</td>\n",
       "    </tr>\n",
       "    <tr>\n",
       "      <th>8</th>\n",
       "      <td>Embarked</td>\n",
       "      <td>0</td>\n",
       "      <td>0.0%</td>\n",
       "    </tr>\n",
       "  </tbody>\n",
       "</table>\n",
       "</div>"
      ],
      "text/plain": [
       "    columns  total_nan percent_nan\n",
       "0    Pclass          0        0.0%\n",
       "1      Name          0        0.0%\n",
       "2       Sex          0        0.0%\n",
       "3       Age          0        0.0%\n",
       "4     SibSp          0        0.0%\n",
       "5     Parch          0        0.0%\n",
       "6    Ticket          0        0.0%\n",
       "7      Fare          0        0.0%\n",
       "8  Embarked          0        0.0%"
      ]
     },
     "execution_count": 33,
     "metadata": {},
     "output_type": "execute_result"
    }
   ],
   "source": [
    "check_n_nan(clean_train_x, only_nan=False)"
   ]
  },
  {
   "cell_type": "markdown",
   "id": "a921d930-643d-4dd8-88bd-5a7a5b0eebc4",
   "metadata": {
    "id": "a921d930-643d-4dd8-88bd-5a7a5b0eebc4"
   },
   "source": [
    "**Clean valid x**\n"
   ]
  },
  {
   "cell_type": "code",
   "execution_count": 34,
   "id": "e98096ce-d542-4dbf-b9e1-a609f52f9daf",
   "metadata": {
    "ExecuteTime": {
     "end_time": "2025-10-03T22:37:13.286086Z",
     "start_time": "2025-10-03T22:37:13.272169Z"
    },
    "colab": {
     "base_uri": "https://localhost:8080/",
     "height": 332
    },
    "id": "e98096ce-d542-4dbf-b9e1-a609f52f9daf",
    "outputId": "de8b8f3e-39d7-4e4b-9979-4f84d01a959a"
   },
   "outputs": [
    {
     "data": {
      "text/html": [
       "<div>\n",
       "<style scoped>\n",
       "    .dataframe tbody tr th:only-of-type {\n",
       "        vertical-align: middle;\n",
       "    }\n",
       "\n",
       "    .dataframe tbody tr th {\n",
       "        vertical-align: top;\n",
       "    }\n",
       "\n",
       "    .dataframe thead th {\n",
       "        text-align: right;\n",
       "    }\n",
       "</style>\n",
       "<table border=\"1\" class=\"dataframe\">\n",
       "  <thead>\n",
       "    <tr style=\"text-align: right;\">\n",
       "      <th></th>\n",
       "      <th>columns</th>\n",
       "      <th>total_nan</th>\n",
       "      <th>percent_nan</th>\n",
       "    </tr>\n",
       "  </thead>\n",
       "  <tbody>\n",
       "    <tr>\n",
       "      <th>0</th>\n",
       "      <td>Pclass</td>\n",
       "      <td>0</td>\n",
       "      <td>0.0%</td>\n",
       "    </tr>\n",
       "    <tr>\n",
       "      <th>1</th>\n",
       "      <td>Name</td>\n",
       "      <td>0</td>\n",
       "      <td>0.0%</td>\n",
       "    </tr>\n",
       "    <tr>\n",
       "      <th>2</th>\n",
       "      <td>Sex</td>\n",
       "      <td>0</td>\n",
       "      <td>0.0%</td>\n",
       "    </tr>\n",
       "    <tr>\n",
       "      <th>3</th>\n",
       "      <td>Age</td>\n",
       "      <td>0</td>\n",
       "      <td>0.0%</td>\n",
       "    </tr>\n",
       "    <tr>\n",
       "      <th>4</th>\n",
       "      <td>SibSp</td>\n",
       "      <td>0</td>\n",
       "      <td>0.0%</td>\n",
       "    </tr>\n",
       "    <tr>\n",
       "      <th>5</th>\n",
       "      <td>Parch</td>\n",
       "      <td>0</td>\n",
       "      <td>0.0%</td>\n",
       "    </tr>\n",
       "    <tr>\n",
       "      <th>6</th>\n",
       "      <td>Ticket</td>\n",
       "      <td>0</td>\n",
       "      <td>0.0%</td>\n",
       "    </tr>\n",
       "    <tr>\n",
       "      <th>7</th>\n",
       "      <td>Fare</td>\n",
       "      <td>0</td>\n",
       "      <td>0.0%</td>\n",
       "    </tr>\n",
       "    <tr>\n",
       "      <th>8</th>\n",
       "      <td>Embarked</td>\n",
       "      <td>0</td>\n",
       "      <td>0.0%</td>\n",
       "    </tr>\n",
       "  </tbody>\n",
       "</table>\n",
       "</div>"
      ],
      "text/plain": [
       "    columns  total_nan percent_nan\n",
       "0    Pclass          0        0.0%\n",
       "1      Name          0        0.0%\n",
       "2       Sex          0        0.0%\n",
       "3       Age          0        0.0%\n",
       "4     SibSp          0        0.0%\n",
       "5     Parch          0        0.0%\n",
       "6    Ticket          0        0.0%\n",
       "7      Fare          0        0.0%\n",
       "8  Embarked          0        0.0%"
      ]
     },
     "execution_count": 34,
     "metadata": {},
     "output_type": "execute_result"
    }
   ],
   "source": [
    "check_n_nan(clean_valid_x, only_nan=False)"
   ]
  },
  {
   "cell_type": "markdown",
   "id": "f47f5343-6754-4d6f-a4c3-bd1e34ba57fd",
   "metadata": {
    "id": "f47f5343-6754-4d6f-a4c3-bd1e34ba57fd"
   },
   "source": [
    "**Clean test df**\n"
   ]
  },
  {
   "cell_type": "code",
   "execution_count": 35,
   "id": "f66869ed-6594-4fe7-8ec5-2648d23ae372",
   "metadata": {
    "ExecuteTime": {
     "end_time": "2025-10-03T22:37:13.317331Z",
     "start_time": "2025-10-03T22:37:13.301261Z"
    },
    "colab": {
     "base_uri": "https://localhost:8080/",
     "height": 332
    },
    "id": "f66869ed-6594-4fe7-8ec5-2648d23ae372",
    "outputId": "42e4df4b-7f57-4069-dd59-450a6e8cb425"
   },
   "outputs": [
    {
     "data": {
      "text/html": [
       "<div>\n",
       "<style scoped>\n",
       "    .dataframe tbody tr th:only-of-type {\n",
       "        vertical-align: middle;\n",
       "    }\n",
       "\n",
       "    .dataframe tbody tr th {\n",
       "        vertical-align: top;\n",
       "    }\n",
       "\n",
       "    .dataframe thead th {\n",
       "        text-align: right;\n",
       "    }\n",
       "</style>\n",
       "<table border=\"1\" class=\"dataframe\">\n",
       "  <thead>\n",
       "    <tr style=\"text-align: right;\">\n",
       "      <th></th>\n",
       "      <th>columns</th>\n",
       "      <th>total_nan</th>\n",
       "      <th>percent_nan</th>\n",
       "    </tr>\n",
       "  </thead>\n",
       "  <tbody>\n",
       "    <tr>\n",
       "      <th>0</th>\n",
       "      <td>Pclass</td>\n",
       "      <td>0</td>\n",
       "      <td>0.0%</td>\n",
       "    </tr>\n",
       "    <tr>\n",
       "      <th>1</th>\n",
       "      <td>Name</td>\n",
       "      <td>0</td>\n",
       "      <td>0.0%</td>\n",
       "    </tr>\n",
       "    <tr>\n",
       "      <th>2</th>\n",
       "      <td>Sex</td>\n",
       "      <td>0</td>\n",
       "      <td>0.0%</td>\n",
       "    </tr>\n",
       "    <tr>\n",
       "      <th>3</th>\n",
       "      <td>Age</td>\n",
       "      <td>0</td>\n",
       "      <td>0.0%</td>\n",
       "    </tr>\n",
       "    <tr>\n",
       "      <th>4</th>\n",
       "      <td>SibSp</td>\n",
       "      <td>0</td>\n",
       "      <td>0.0%</td>\n",
       "    </tr>\n",
       "    <tr>\n",
       "      <th>5</th>\n",
       "      <td>Parch</td>\n",
       "      <td>0</td>\n",
       "      <td>0.0%</td>\n",
       "    </tr>\n",
       "    <tr>\n",
       "      <th>6</th>\n",
       "      <td>Ticket</td>\n",
       "      <td>0</td>\n",
       "      <td>0.0%</td>\n",
       "    </tr>\n",
       "    <tr>\n",
       "      <th>7</th>\n",
       "      <td>Fare</td>\n",
       "      <td>0</td>\n",
       "      <td>0.0%</td>\n",
       "    </tr>\n",
       "    <tr>\n",
       "      <th>8</th>\n",
       "      <td>Embarked</td>\n",
       "      <td>0</td>\n",
       "      <td>0.0%</td>\n",
       "    </tr>\n",
       "  </tbody>\n",
       "</table>\n",
       "</div>"
      ],
      "text/plain": [
       "    columns  total_nan percent_nan\n",
       "0    Pclass          0        0.0%\n",
       "1      Name          0        0.0%\n",
       "2       Sex          0        0.0%\n",
       "3       Age          0        0.0%\n",
       "4     SibSp          0        0.0%\n",
       "5     Parch          0        0.0%\n",
       "6    Ticket          0        0.0%\n",
       "7      Fare          0        0.0%\n",
       "8  Embarked          0        0.0%"
      ]
     },
     "execution_count": 35,
     "metadata": {},
     "output_type": "execute_result"
    }
   ],
   "source": [
    "check_n_nan(clean_test_df, only_nan=False)"
   ]
  },
  {
   "cell_type": "markdown",
   "id": "91b54b41-383b-4638-8a49-48aa3a664533",
   "metadata": {
    "id": "91b54b41-383b-4638-8a49-48aa3a664533"
   },
   "source": [
    "### iii) Handling the categorical columns\n",
    "\n",
    "<p>Encode categorical column to integer and drop high cardinality columns in the dataframes</p>\n"
   ]
  },
  {
   "cell_type": "code",
   "execution_count": 36,
   "id": "cf0c58c5-1da2-4960-a1e1-29e50cb892ba",
   "metadata": {
    "ExecuteTime": {
     "end_time": "2025-10-03T22:37:13.345230Z",
     "start_time": "2025-10-03T22:37:13.332331Z"
    },
    "id": "cf0c58c5-1da2-4960-a1e1-29e50cb892ba"
   },
   "outputs": [],
   "source": [
    "class CategoryEncoder:\n",
    "    def __init__(\n",
    "            self,\n",
    "            datasets: List[pd.DataFrame],\n",
    "            handle_with: Dict[str, str],\n",
    "    ) -> None:\n",
    "        self.datasets = datasets\n",
    "        self.handle_with = handle_with\n",
    "\n",
    "    def strategy(self, df: pd.DataFrame, col: str, strat: str) -> pd.DataFrame:\n",
    "        match strat:\n",
    "            case 'label_encode':\n",
    "                series = df[col].astype('category').cat.codes\n",
    "                df[col] = series\n",
    "            case 'one_hot_encode':\n",
    "                data = pd.get_dummies(\n",
    "                    df[col],\n",
    "                    columns=list(df[col].unique())\n",
    "                ).astype(int)\n",
    "                df = pd.concat([df, data], axis=1)\n",
    "                df = df.drop(col, axis=1)\n",
    "            case 'drop':\n",
    "                df = df.drop(col, axis=1)\n",
    "            case _:\n",
    "                raise ValueError()\n",
    "\n",
    "        return df\n",
    "\n",
    "    def encode(self) -> List[pd.DataFrame]:\n",
    "        \"\"\"\n",
    "        Encode categorical columns to integer.\n",
    "        :return: A tuple of data frames\n",
    "        \"\"\"\n",
    "\n",
    "        datasets = []\n",
    "\n",
    "        for dataset in self.datasets:\n",
    "            for col, strat in self.handle_with.items():\n",
    "                dataset = self.strategy(dataset, col, strat)\n",
    "            datasets.append(dataset)\n",
    "\n",
    "        return datasets"
   ]
  },
  {
   "cell_type": "code",
   "execution_count": 37,
   "id": "eca0ff4c-7fc9-4fa6-a9d0-2d18f0594c3d",
   "metadata": {
    "ExecuteTime": {
     "end_time": "2025-10-03T22:37:13.379577Z",
     "start_time": "2025-10-03T22:37:13.357032Z"
    },
    "colab": {
     "base_uri": "https://localhost:8080/",
     "height": 272
    },
    "id": "eca0ff4c-7fc9-4fa6-a9d0-2d18f0594c3d",
    "outputId": "599612e5-eb70-480d-e73f-e5dfeb57a6e2"
   },
   "outputs": [
    {
     "data": {
      "text/html": [
       "<div>\n",
       "<style scoped>\n",
       "    .dataframe tbody tr th:only-of-type {\n",
       "        vertical-align: middle;\n",
       "    }\n",
       "\n",
       "    .dataframe tbody tr th {\n",
       "        vertical-align: top;\n",
       "    }\n",
       "\n",
       "    .dataframe thead th {\n",
       "        text-align: right;\n",
       "    }\n",
       "</style>\n",
       "<table border=\"1\" class=\"dataframe\">\n",
       "  <thead>\n",
       "    <tr style=\"text-align: right;\">\n",
       "      <th></th>\n",
       "      <th>Pclass</th>\n",
       "      <th>Name</th>\n",
       "      <th>Sex</th>\n",
       "      <th>Age</th>\n",
       "      <th>SibSp</th>\n",
       "      <th>Parch</th>\n",
       "      <th>Ticket</th>\n",
       "      <th>Fare</th>\n",
       "      <th>Embarked</th>\n",
       "    </tr>\n",
       "    <tr>\n",
       "      <th>PassengerId</th>\n",
       "      <th></th>\n",
       "      <th></th>\n",
       "      <th></th>\n",
       "      <th></th>\n",
       "      <th></th>\n",
       "      <th></th>\n",
       "      <th></th>\n",
       "      <th></th>\n",
       "      <th></th>\n",
       "    </tr>\n",
       "  </thead>\n",
       "  <tbody>\n",
       "    <tr>\n",
       "      <th>476</th>\n",
       "      <td>1</td>\n",
       "      <td>Clifford, Mr. George Quincy</td>\n",
       "      <td>male</td>\n",
       "      <td>29.430998</td>\n",
       "      <td>0</td>\n",
       "      <td>0</td>\n",
       "      <td>110465</td>\n",
       "      <td>52.0000</td>\n",
       "      <td>S</td>\n",
       "    </tr>\n",
       "    <tr>\n",
       "      <th>302</th>\n",
       "      <td>3</td>\n",
       "      <td>McCoy, Mr. Bernard</td>\n",
       "      <td>male</td>\n",
       "      <td>29.430998</td>\n",
       "      <td>2</td>\n",
       "      <td>0</td>\n",
       "      <td>367226</td>\n",
       "      <td>23.2500</td>\n",
       "      <td>Q</td>\n",
       "    </tr>\n",
       "    <tr>\n",
       "      <th>518</th>\n",
       "      <td>3</td>\n",
       "      <td>Ryan, Mr. Patrick</td>\n",
       "      <td>male</td>\n",
       "      <td>29.430998</td>\n",
       "      <td>0</td>\n",
       "      <td>0</td>\n",
       "      <td>371110</td>\n",
       "      <td>24.1500</td>\n",
       "      <td>Q</td>\n",
       "    </tr>\n",
       "    <tr>\n",
       "      <th>671</th>\n",
       "      <td>2</td>\n",
       "      <td>Brown, Mrs. Thomas William Solomon (Elizabeth ...</td>\n",
       "      <td>female</td>\n",
       "      <td>40.000000</td>\n",
       "      <td>1</td>\n",
       "      <td>1</td>\n",
       "      <td>29750</td>\n",
       "      <td>39.0000</td>\n",
       "      <td>S</td>\n",
       "    </tr>\n",
       "    <tr>\n",
       "      <th>692</th>\n",
       "      <td>3</td>\n",
       "      <td>Karun, Miss. Manca</td>\n",
       "      <td>female</td>\n",
       "      <td>4.000000</td>\n",
       "      <td>0</td>\n",
       "      <td>1</td>\n",
       "      <td>349256</td>\n",
       "      <td>13.4167</td>\n",
       "      <td>C</td>\n",
       "    </tr>\n",
       "  </tbody>\n",
       "</table>\n",
       "</div>"
      ],
      "text/plain": [
       "             Pclass                                               Name  \\\n",
       "PassengerId                                                              \n",
       "476               1                        Clifford, Mr. George Quincy   \n",
       "302               3                                 McCoy, Mr. Bernard   \n",
       "518               3                                  Ryan, Mr. Patrick   \n",
       "671               2  Brown, Mrs. Thomas William Solomon (Elizabeth ...   \n",
       "692               3                                 Karun, Miss. Manca   \n",
       "\n",
       "                Sex        Age  SibSp  Parch  Ticket     Fare Embarked  \n",
       "PassengerId                                                             \n",
       "476            male  29.430998      0      0  110465  52.0000        S  \n",
       "302            male  29.430998      2      0  367226  23.2500        Q  \n",
       "518            male  29.430998      0      0  371110  24.1500        Q  \n",
       "671          female  40.000000      1      1   29750  39.0000        S  \n",
       "692          female   4.000000      0      1  349256  13.4167        C  "
      ]
     },
     "execution_count": 37,
     "metadata": {},
     "output_type": "execute_result"
    }
   ],
   "source": [
    "# First five rows from the clean train x.\n",
    "clean_train_x.head()"
   ]
  },
  {
   "cell_type": "code",
   "execution_count": 38,
   "id": "a66e4adf-98d5-4c3f-89d3-36b285f36b01",
   "metadata": {
    "ExecuteTime": {
     "end_time": "2025-10-03T22:37:13.405955Z",
     "start_time": "2025-10-03T22:37:13.390858Z"
    },
    "colab": {
     "base_uri": "https://localhost:8080/",
     "height": 238
    },
    "id": "a66e4adf-98d5-4c3f-89d3-36b285f36b01",
    "outputId": "c6c23d8a-6666-4d66-db1c-65e29187999c"
   },
   "outputs": [
    {
     "data": {
      "text/html": [
       "<div>\n",
       "<style scoped>\n",
       "    .dataframe tbody tr th:only-of-type {\n",
       "        vertical-align: middle;\n",
       "    }\n",
       "\n",
       "    .dataframe tbody tr th {\n",
       "        vertical-align: top;\n",
       "    }\n",
       "\n",
       "    .dataframe thead th {\n",
       "        text-align: right;\n",
       "    }\n",
       "</style>\n",
       "<table border=\"1\" class=\"dataframe\">\n",
       "  <thead>\n",
       "    <tr style=\"text-align: right;\">\n",
       "      <th></th>\n",
       "      <th>Name</th>\n",
       "      <th>Sex</th>\n",
       "      <th>Ticket</th>\n",
       "      <th>Embarked</th>\n",
       "    </tr>\n",
       "    <tr>\n",
       "      <th>PassengerId</th>\n",
       "      <th></th>\n",
       "      <th></th>\n",
       "      <th></th>\n",
       "      <th></th>\n",
       "    </tr>\n",
       "  </thead>\n",
       "  <tbody>\n",
       "    <tr>\n",
       "      <th>476</th>\n",
       "      <td>Clifford, Mr. George Quincy</td>\n",
       "      <td>male</td>\n",
       "      <td>110465</td>\n",
       "      <td>S</td>\n",
       "    </tr>\n",
       "    <tr>\n",
       "      <th>302</th>\n",
       "      <td>McCoy, Mr. Bernard</td>\n",
       "      <td>male</td>\n",
       "      <td>367226</td>\n",
       "      <td>Q</td>\n",
       "    </tr>\n",
       "    <tr>\n",
       "      <th>518</th>\n",
       "      <td>Ryan, Mr. Patrick</td>\n",
       "      <td>male</td>\n",
       "      <td>371110</td>\n",
       "      <td>Q</td>\n",
       "    </tr>\n",
       "    <tr>\n",
       "      <th>671</th>\n",
       "      <td>Brown, Mrs. Thomas William Solomon (Elizabeth ...</td>\n",
       "      <td>female</td>\n",
       "      <td>29750</td>\n",
       "      <td>S</td>\n",
       "    </tr>\n",
       "    <tr>\n",
       "      <th>692</th>\n",
       "      <td>Karun, Miss. Manca</td>\n",
       "      <td>female</td>\n",
       "      <td>349256</td>\n",
       "      <td>C</td>\n",
       "    </tr>\n",
       "  </tbody>\n",
       "</table>\n",
       "</div>"
      ],
      "text/plain": [
       "                                                          Name     Sex  \\\n",
       "PassengerId                                                              \n",
       "476                                Clifford, Mr. George Quincy    male   \n",
       "302                                         McCoy, Mr. Bernard    male   \n",
       "518                                          Ryan, Mr. Patrick    male   \n",
       "671          Brown, Mrs. Thomas William Solomon (Elizabeth ...  female   \n",
       "692                                         Karun, Miss. Manca  female   \n",
       "\n",
       "             Ticket Embarked  \n",
       "PassengerId                   \n",
       "476          110465        S  \n",
       "302          367226        Q  \n",
       "518          371110        Q  \n",
       "671           29750        S  \n",
       "692          349256        C  "
      ]
     },
     "execution_count": 38,
     "metadata": {},
     "output_type": "execute_result"
    }
   ],
   "source": [
    "# Exclude the int and float from the data.\n",
    "cat_df = clean_train_x.select_dtypes(exclude=[int, float])\n",
    "cat_df.head()"
   ]
  },
  {
   "cell_type": "code",
   "execution_count": 39,
   "id": "0184a184-33b9-491a-a7ed-5d84996652bd",
   "metadata": {
    "ExecuteTime": {
     "end_time": "2025-10-03T22:37:13.429458Z",
     "start_time": "2025-10-03T22:37:13.419076Z"
    },
    "colab": {
     "base_uri": "https://localhost:8080/"
    },
    "id": "0184a184-33b9-491a-a7ed-5d84996652bd",
    "outputId": "b7b7f9de-2ae1-468b-d90f-1dd811b28475"
   },
   "outputs": [
    {
     "data": {
      "text/plain": [
       "['Name', 'Sex', 'Ticket', 'Embarked']"
      ]
     },
     "execution_count": 39,
     "metadata": {},
     "output_type": "execute_result"
    }
   ],
   "source": [
    "# Fetch the categorical columns.\n",
    "cat_columns = list(cat_df.columns)\n",
    "cat_columns"
   ]
  },
  {
   "cell_type": "markdown",
   "id": "34387b53-4a71-48fa-a3b6-978c49b8d9c6",
   "metadata": {
    "id": "34387b53-4a71-48fa-a3b6-978c49b8d9c6"
   },
   "source": [
    "Check for columns with high cardinality column in the data.\n"
   ]
  },
  {
   "cell_type": "code",
   "execution_count": 40,
   "id": "5219b3ce-592a-4173-8d2d-943f9d9b7146",
   "metadata": {
    "ExecuteTime": {
     "end_time": "2025-10-03T22:37:13.455970Z",
     "start_time": "2025-10-03T22:37:13.443630Z"
    },
    "colab": {
     "base_uri": "https://localhost:8080/",
     "height": 210
    },
    "id": "5219b3ce-592a-4173-8d2d-943f9d9b7146",
    "outputId": "49c8e981-82d0-48be-e686-8fcbec7cf856"
   },
   "outputs": [
    {
     "data": {
      "text/plain": [
       "Name        668\n",
       "Sex           2\n",
       "Ticket      535\n",
       "Embarked      3\n",
       "dtype: int64"
      ]
     },
     "execution_count": 40,
     "metadata": {},
     "output_type": "execute_result"
    }
   ],
   "source": [
    "clean_train_x[cat_columns].nunique()"
   ]
  },
  {
   "cell_type": "code",
   "execution_count": 41,
   "id": "IL7kBIALo20Z",
   "metadata": {
    "ExecuteTime": {
     "end_time": "2025-10-03T22:37:13.529582Z",
     "start_time": "2025-10-03T22:37:13.468165Z"
    },
    "id": "IL7kBIALo20Z"
   },
   "outputs": [],
   "source": [
    "# Instantiate the CategoryEncoder\n",
    "encoder = CategoryEncoder(\n",
    "    [clean_train_x, clean_valid_x, clean_test_df],\n",
    "    {\n",
    "        \"Sex\": \"label_encode\",\n",
    "        \"Embarked\": \"one_hot_encode\",\n",
    "        \"Name\": \"drop\",\n",
    "        \"Ticket\": \"drop\"\n",
    "    }\n",
    ")\n",
    "\n",
    "# Encode the column\n",
    "num_train_x, num_valid_x, num_test_df = encoder.encode()"
   ]
  },
  {
   "cell_type": "code",
   "execution_count": 42,
   "id": "FToJ4UKosTyc",
   "metadata": {
    "ExecuteTime": {
     "end_time": "2025-10-03T22:37:13.549701Z",
     "start_time": "2025-10-03T22:37:13.540020Z"
    },
    "colab": {
     "base_uri": "https://localhost:8080/",
     "height": 366
    },
    "id": "FToJ4UKosTyc",
    "outputId": "ed558dc5-e721-419c-bfb8-733b4d86eb13"
   },
   "outputs": [
    {
     "data": {
      "text/plain": [
       "Pclass      int64\n",
       "Sex          int8\n",
       "Age       float64\n",
       "SibSp       int64\n",
       "Parch       int64\n",
       "Fare      float64\n",
       "C           int64\n",
       "Q           int64\n",
       "S           int64\n",
       "dtype: object"
      ]
     },
     "execution_count": 42,
     "metadata": {},
     "output_type": "execute_result"
    }
   ],
   "source": [
    "num_train_x.dtypes"
   ]
  },
  {
   "cell_type": "markdown",
   "id": "ii49SEPHKcF5",
   "metadata": {
    "id": "ii49SEPHKcF5"
   },
   "source": [
    "## 7) **Data visualisation**\n",
    "\n",
    "<p>Represeting the data in graphical way like making chart</p>\n"
   ]
  },
  {
   "cell_type": "code",
   "execution_count": 43,
   "id": "ulg7TDeg7bf-",
   "metadata": {
    "ExecuteTime": {
     "end_time": "2025-10-03T22:37:13.614363Z",
     "start_time": "2025-10-03T22:37:13.574220Z"
    },
    "colab": {
     "base_uri": "https://localhost:8080/",
     "height": 307
    },
    "id": "ulg7TDeg7bf-",
    "outputId": "2d2dda9e-95f3-400c-a4f3-484c77335fc1"
   },
   "outputs": [
    {
     "data": {
      "text/html": [
       "<div>\n",
       "<style scoped>\n",
       "    .dataframe tbody tr th:only-of-type {\n",
       "        vertical-align: middle;\n",
       "    }\n",
       "\n",
       "    .dataframe tbody tr th {\n",
       "        vertical-align: top;\n",
       "    }\n",
       "\n",
       "    .dataframe thead th {\n",
       "        text-align: right;\n",
       "    }\n",
       "</style>\n",
       "<table border=\"1\" class=\"dataframe\">\n",
       "  <thead>\n",
       "    <tr style=\"text-align: right;\">\n",
       "      <th></th>\n",
       "      <th>Pclass</th>\n",
       "      <th>Name</th>\n",
       "      <th>Sex</th>\n",
       "      <th>Age</th>\n",
       "      <th>SibSp</th>\n",
       "      <th>Parch</th>\n",
       "      <th>Ticket</th>\n",
       "      <th>Fare</th>\n",
       "      <th>Embarked</th>\n",
       "      <th>Survived</th>\n",
       "    </tr>\n",
       "    <tr>\n",
       "      <th>PassengerId</th>\n",
       "      <th></th>\n",
       "      <th></th>\n",
       "      <th></th>\n",
       "      <th></th>\n",
       "      <th></th>\n",
       "      <th></th>\n",
       "      <th></th>\n",
       "      <th></th>\n",
       "      <th></th>\n",
       "      <th></th>\n",
       "    </tr>\n",
       "  </thead>\n",
       "  <tbody>\n",
       "    <tr>\n",
       "      <th>476</th>\n",
       "      <td>1</td>\n",
       "      <td>Clifford, Mr. George Quincy</td>\n",
       "      <td>1</td>\n",
       "      <td>29.430998</td>\n",
       "      <td>0</td>\n",
       "      <td>0</td>\n",
       "      <td>110465</td>\n",
       "      <td>52.0000</td>\n",
       "      <td>S</td>\n",
       "      <td>0</td>\n",
       "    </tr>\n",
       "    <tr>\n",
       "      <th>302</th>\n",
       "      <td>3</td>\n",
       "      <td>McCoy, Mr. Bernard</td>\n",
       "      <td>1</td>\n",
       "      <td>29.430998</td>\n",
       "      <td>2</td>\n",
       "      <td>0</td>\n",
       "      <td>367226</td>\n",
       "      <td>23.2500</td>\n",
       "      <td>Q</td>\n",
       "      <td>1</td>\n",
       "    </tr>\n",
       "    <tr>\n",
       "      <th>518</th>\n",
       "      <td>3</td>\n",
       "      <td>Ryan, Mr. Patrick</td>\n",
       "      <td>1</td>\n",
       "      <td>29.430998</td>\n",
       "      <td>0</td>\n",
       "      <td>0</td>\n",
       "      <td>371110</td>\n",
       "      <td>24.1500</td>\n",
       "      <td>Q</td>\n",
       "      <td>0</td>\n",
       "    </tr>\n",
       "    <tr>\n",
       "      <th>671</th>\n",
       "      <td>2</td>\n",
       "      <td>Brown, Mrs. Thomas William Solomon (Elizabeth ...</td>\n",
       "      <td>0</td>\n",
       "      <td>40.000000</td>\n",
       "      <td>1</td>\n",
       "      <td>1</td>\n",
       "      <td>29750</td>\n",
       "      <td>39.0000</td>\n",
       "      <td>S</td>\n",
       "      <td>1</td>\n",
       "    </tr>\n",
       "    <tr>\n",
       "      <th>692</th>\n",
       "      <td>3</td>\n",
       "      <td>Karun, Miss. Manca</td>\n",
       "      <td>0</td>\n",
       "      <td>4.000000</td>\n",
       "      <td>0</td>\n",
       "      <td>1</td>\n",
       "      <td>349256</td>\n",
       "      <td>13.4167</td>\n",
       "      <td>C</td>\n",
       "      <td>1</td>\n",
       "    </tr>\n",
       "  </tbody>\n",
       "</table>\n",
       "</div>"
      ],
      "text/plain": [
       "             Pclass                                               Name  Sex  \\\n",
       "PassengerId                                                                   \n",
       "476               1                        Clifford, Mr. George Quincy    1   \n",
       "302               3                                 McCoy, Mr. Bernard    1   \n",
       "518               3                                  Ryan, Mr. Patrick    1   \n",
       "671               2  Brown, Mrs. Thomas William Solomon (Elizabeth ...    0   \n",
       "692               3                                 Karun, Miss. Manca    0   \n",
       "\n",
       "                   Age  SibSp  Parch  Ticket     Fare Embarked  Survived  \n",
       "PassengerId                                                               \n",
       "476          29.430998      0      0  110465  52.0000        S         0  \n",
       "302          29.430998      2      0  367226  23.2500        Q         1  \n",
       "518          29.430998      0      0  371110  24.1500        Q         0  \n",
       "671          40.000000      1      1   29750  39.0000        S         1  \n",
       "692           4.000000      0      1  349256  13.4167        C         1  "
      ]
     },
     "execution_count": 43,
     "metadata": {},
     "output_type": "execute_result"
    }
   ],
   "source": [
    "visual_df = pd.concat([clean_train_x, clean_valid_x])\n",
    "visual_df['Survived'] = np.concatenate([train_y, valid_y])\n",
    "visual_df.head()"
   ]
  },
  {
   "cell_type": "code",
   "execution_count": null,
   "id": "UsL0fsm4MDiA",
   "metadata": {
    "ExecuteTime": {
     "end_time": "2025-10-04T00:37:08.071673Z",
     "start_time": "2025-10-04T00:37:07.856658Z"
    },
    "colab": {
     "base_uri": "https://localhost:8080/",
     "height": 519
    },
    "id": "UsL0fsm4MDiA",
    "outputId": "a0e79681-eb60-41c6-c949-fc0ecfe8ea19"
   },
   "outputs": [
    {
     "ename": "ValueError",
     "evalue": "Unable to determine data type for the field \"red\"; verify that the field name is not misspelled. If you are referencing a field from a transform, also confirm that the data type is specified correctly.",
     "output_type": "error",
     "traceback": [
      "\u001b[31m---------------------------------------------------------------------------\u001b[39m",
      "\u001b[31mValueError\u001b[39m                                Traceback (most recent call last)",
      "\u001b[32m~/miniconda3/envs/ds11/lib/python3.11/site-packages/altair/vegalite/v5/api.py\u001b[39m in \u001b[36m?\u001b[39m\u001b[34m(self, *args, **kwds)\u001b[39m\n\u001b[32m   3674\u001b[39m         \u001b[38;5;66;03m# see https://github.com/ipython/ipython/issues/11038\u001b[39;00m\n\u001b[32m   3675\u001b[39m         \u001b[38;5;28;01mtry\u001b[39;00m:\n\u001b[32m   3676\u001b[39m             dct = self.to_dict(context={\u001b[33m\"pre_transform\"\u001b[39m: \u001b[38;5;28;01mFalse\u001b[39;00m})\n\u001b[32m   3677\u001b[39m         \u001b[38;5;28;01mexcept\u001b[39;00m Exception:\n\u001b[32m-> \u001b[39m\u001b[32m3678\u001b[39m             utils.display_traceback(in_ipython=\u001b[38;5;28;01mTrue\u001b[39;00m)\n\u001b[32m   3679\u001b[39m             \u001b[38;5;28;01mreturn\u001b[39;00m {}\n\u001b[32m   3680\u001b[39m         \u001b[38;5;28;01melse\u001b[39;00m:\n\u001b[32m   3681\u001b[39m             \u001b[38;5;28;01mif\u001b[39;00m renderer := renderers.get():\n",
      "\u001b[32m~/miniconda3/envs/ds11/lib/python3.11/site-packages/altair/vegalite/v5/api.py\u001b[39m in \u001b[36m?\u001b[39m\u001b[34m(self, validate, format, ignore, context)\u001b[39m\n\u001b[32m   4029\u001b[39m             \u001b[38;5;66;03m# for easier specification of datum encodings.\u001b[39;00m\n\u001b[32m   4030\u001b[39m             copy = self.copy(deep=\u001b[38;5;28;01mFalse\u001b[39;00m)\n\u001b[32m   4031\u001b[39m             copy.data = core.InlineData(values=[{}])\n\u001b[32m   4032\u001b[39m             \u001b[38;5;28;01mreturn\u001b[39;00m super(Chart, copy).to_dict(**kwds)\n\u001b[32m-> \u001b[39m\u001b[32m4033\u001b[39m         \u001b[38;5;28;01mreturn\u001b[39;00m super().to_dict(**kwds)\n",
      "\u001b[32m~/miniconda3/envs/ds11/lib/python3.11/site-packages/altair/vegalite/v5/api.py\u001b[39m in \u001b[36m?\u001b[39m\u001b[34m(self, validate, format, ignore, context)\u001b[39m\n\u001b[32m   2000\u001b[39m \n\u001b[32m   2001\u001b[39m         \u001b[38;5;66;03m# remaining to_dict calls are not at top level\u001b[39;00m\n\u001b[32m   2002\u001b[39m         context[\u001b[33m\"top_level\"\u001b[39m] = \u001b[38;5;28;01mFalse\u001b[39;00m\n\u001b[32m   2003\u001b[39m \n\u001b[32m-> \u001b[39m\u001b[32m2004\u001b[39m         vegalite_spec: Any = _top_schema_base(super(TopLevelMixin, copy)).to_dict(\n\u001b[32m   2005\u001b[39m             validate=validate, ignore=ignore, context=dict(context, pre_transform=\u001b[38;5;28;01mFalse\u001b[39;00m)\n\u001b[32m   2006\u001b[39m         )\n\u001b[32m   2007\u001b[39m \n",
      "\u001b[32m~/miniconda3/envs/ds11/lib/python3.11/site-packages/altair/utils/schemapi.py\u001b[39m in \u001b[36m?\u001b[39m\u001b[34m(self, validate, ignore, context)\u001b[39m\n\u001b[32m   1159\u001b[39m                 kwds[\u001b[33m\"mark\"\u001b[39m] = {\u001b[33m\"type\"\u001b[39m: mark}\n\u001b[32m   1160\u001b[39m         \u001b[38;5;28;01melse\u001b[39;00m:\n\u001b[32m   1161\u001b[39m             msg = \u001b[33mf\"{type(self)} instance has both a value and properties : cannot serialize to dict\"\u001b[39m\n\u001b[32m   1162\u001b[39m             \u001b[38;5;28;01mraise\u001b[39;00m ValueError(msg)\n\u001b[32m-> \u001b[39m\u001b[32m1163\u001b[39m         result = _todict(kwds, context=context, **opts)\n\u001b[32m   1164\u001b[39m         \u001b[38;5;28;01mif\u001b[39;00m validate:\n\u001b[32m   1165\u001b[39m             \u001b[38;5;66;03m# NOTE: Don't raise `from err`, see `SchemaValidationError` doc\u001b[39;00m\n\u001b[32m   1166\u001b[39m             \u001b[38;5;28;01mtry\u001b[39;00m:\n",
      "\u001b[32m~/miniconda3/envs/ds11/lib/python3.11/site-packages/altair/utils/schemapi.py\u001b[39m in \u001b[36m?\u001b[39m\u001b[34m(obj, context, np_opt, pd_opt)\u001b[39m\n\u001b[32m    549\u001b[39m         \u001b[38;5;28;01mreturn\u001b[39;00m obj.to_dict(validate=\u001b[38;5;28;01mFalse\u001b[39;00m, context=context)\n\u001b[32m    550\u001b[39m     \u001b[38;5;28;01melif\u001b[39;00m isinstance(obj, (list, tuple)):\n\u001b[32m    551\u001b[39m         \u001b[38;5;28;01mreturn\u001b[39;00m [_todict(v, context, np_opt, pd_opt) \u001b[38;5;28;01mfor\u001b[39;00m v \u001b[38;5;28;01min\u001b[39;00m obj]\n\u001b[32m    552\u001b[39m     \u001b[38;5;28;01melif\u001b[39;00m isinstance(obj, dict):\n\u001b[32m--> \u001b[39m\u001b[32m553\u001b[39m         return {\n\u001b[32m    554\u001b[39m             k: _todict(v, context, np_opt, pd_opt)\n\u001b[32m    555\u001b[39m             \u001b[38;5;28;01mfor\u001b[39;00m k, v \u001b[38;5;28;01min\u001b[39;00m obj.items()\n\u001b[32m    556\u001b[39m             \u001b[38;5;28;01mif\u001b[39;00m v \u001b[38;5;28;01mis\u001b[39;00m \u001b[38;5;28;01mnot\u001b[39;00m Undefined\n",
      "\u001b[32m~/miniconda3/envs/ds11/lib/python3.11/site-packages/altair/utils/schemapi.py\u001b[39m in \u001b[36m?\u001b[39m\u001b[34m(.0)\u001b[39m\n\u001b[32m    553\u001b[39m \u001b[38;5;28;01mdef\u001b[39;00m _todict(obj: Any, context: dict[str, Any] | \u001b[38;5;28;01mNone\u001b[39;00m, np_opt: Any, pd_opt: Any) -> Any:  \u001b[38;5;66;03m# noqa: C901\u001b[39;00m\n\u001b[32m--> \u001b[39m\u001b[32m554\u001b[39m     \u001b[33m\"\"\"Convert an object to a dict representation.\"\"\"\u001b[39m\n\u001b[32m    555\u001b[39m     \u001b[38;5;28;01mif\u001b[39;00m np_opt \u001b[38;5;28;01mis\u001b[39;00m \u001b[38;5;28;01mnot\u001b[39;00m \u001b[38;5;28;01mNone\u001b[39;00m:\n\u001b[32m    556\u001b[39m         np = np_opt\n\u001b[32m    557\u001b[39m         \u001b[38;5;28;01mif\u001b[39;00m isinstance(obj, np.ndarray):\n",
      "\u001b[32m~/miniconda3/envs/ds11/lib/python3.11/site-packages/altair/utils/schemapi.py\u001b[39m in \u001b[36m?\u001b[39m\u001b[34m(obj, context, np_opt, pd_opt)\u001b[39m\n\u001b[32m    545\u001b[39m                 \u001b[38;5;66;03m# See https://github.com/vega/altair/issues/1027 for why this is necessary.\u001b[39;00m\n\u001b[32m    546\u001b[39m                 result += \u001b[33m\"T00:00:00\"\u001b[39m\n\u001b[32m    547\u001b[39m             \u001b[38;5;28;01mreturn\u001b[39;00m result\n\u001b[32m    548\u001b[39m     \u001b[38;5;28;01mif\u001b[39;00m isinstance(obj, SchemaBase):\n\u001b[32m--> \u001b[39m\u001b[32m549\u001b[39m         \u001b[38;5;28;01mreturn\u001b[39;00m obj.to_dict(validate=\u001b[38;5;28;01mFalse\u001b[39;00m, context=context)\n\u001b[32m    550\u001b[39m     \u001b[38;5;28;01melif\u001b[39;00m isinstance(obj, (list, tuple)):\n\u001b[32m    551\u001b[39m         \u001b[38;5;28;01mreturn\u001b[39;00m [_todict(v, context, np_opt, pd_opt) \u001b[38;5;28;01mfor\u001b[39;00m v \u001b[38;5;28;01min\u001b[39;00m obj]\n\u001b[32m    552\u001b[39m     \u001b[38;5;28;01melif\u001b[39;00m isinstance(obj, dict):\n",
      "\u001b[32m~/miniconda3/envs/ds11/lib/python3.11/site-packages/altair/utils/schemapi.py\u001b[39m in \u001b[36m?\u001b[39m\u001b[34m(self, validate, ignore, context)\u001b[39m\n\u001b[32m   1159\u001b[39m                 kwds[\u001b[33m\"mark\"\u001b[39m] = {\u001b[33m\"type\"\u001b[39m: mark}\n\u001b[32m   1160\u001b[39m         \u001b[38;5;28;01melse\u001b[39;00m:\n\u001b[32m   1161\u001b[39m             msg = \u001b[33mf\"{type(self)} instance has both a value and properties : cannot serialize to dict\"\u001b[39m\n\u001b[32m   1162\u001b[39m             \u001b[38;5;28;01mraise\u001b[39;00m ValueError(msg)\n\u001b[32m-> \u001b[39m\u001b[32m1163\u001b[39m         result = _todict(kwds, context=context, **opts)\n\u001b[32m   1164\u001b[39m         \u001b[38;5;28;01mif\u001b[39;00m validate:\n\u001b[32m   1165\u001b[39m             \u001b[38;5;66;03m# NOTE: Don't raise `from err`, see `SchemaValidationError` doc\u001b[39;00m\n\u001b[32m   1166\u001b[39m             \u001b[38;5;28;01mtry\u001b[39;00m:\n",
      "\u001b[32m~/miniconda3/envs/ds11/lib/python3.11/site-packages/altair/utils/schemapi.py\u001b[39m in \u001b[36m?\u001b[39m\u001b[34m(obj, context, np_opt, pd_opt)\u001b[39m\n\u001b[32m    549\u001b[39m         \u001b[38;5;28;01mreturn\u001b[39;00m obj.to_dict(validate=\u001b[38;5;28;01mFalse\u001b[39;00m, context=context)\n\u001b[32m    550\u001b[39m     \u001b[38;5;28;01melif\u001b[39;00m isinstance(obj, (list, tuple)):\n\u001b[32m    551\u001b[39m         \u001b[38;5;28;01mreturn\u001b[39;00m [_todict(v, context, np_opt, pd_opt) \u001b[38;5;28;01mfor\u001b[39;00m v \u001b[38;5;28;01min\u001b[39;00m obj]\n\u001b[32m    552\u001b[39m     \u001b[38;5;28;01melif\u001b[39;00m isinstance(obj, dict):\n\u001b[32m--> \u001b[39m\u001b[32m553\u001b[39m         return {\n\u001b[32m    554\u001b[39m             k: _todict(v, context, np_opt, pd_opt)\n\u001b[32m    555\u001b[39m             \u001b[38;5;28;01mfor\u001b[39;00m k, v \u001b[38;5;28;01min\u001b[39;00m obj.items()\n\u001b[32m    556\u001b[39m             \u001b[38;5;28;01mif\u001b[39;00m v \u001b[38;5;28;01mis\u001b[39;00m \u001b[38;5;28;01mnot\u001b[39;00m Undefined\n",
      "\u001b[32m~/miniconda3/envs/ds11/lib/python3.11/site-packages/altair/utils/schemapi.py\u001b[39m in \u001b[36m?\u001b[39m\u001b[34m(.0)\u001b[39m\n\u001b[32m    553\u001b[39m \u001b[38;5;28;01mdef\u001b[39;00m _todict(obj: Any, context: dict[str, Any] | \u001b[38;5;28;01mNone\u001b[39;00m, np_opt: Any, pd_opt: Any) -> Any:  \u001b[38;5;66;03m# noqa: C901\u001b[39;00m\n\u001b[32m--> \u001b[39m\u001b[32m554\u001b[39m     \u001b[33m\"\"\"Convert an object to a dict representation.\"\"\"\u001b[39m\n\u001b[32m    555\u001b[39m     \u001b[38;5;28;01mif\u001b[39;00m np_opt \u001b[38;5;28;01mis\u001b[39;00m \u001b[38;5;28;01mnot\u001b[39;00m \u001b[38;5;28;01mNone\u001b[39;00m:\n\u001b[32m    556\u001b[39m         np = np_opt\n\u001b[32m    557\u001b[39m         \u001b[38;5;28;01mif\u001b[39;00m isinstance(obj, np.ndarray):\n",
      "\u001b[32m~/miniconda3/envs/ds11/lib/python3.11/site-packages/altair/utils/schemapi.py\u001b[39m in \u001b[36m?\u001b[39m\u001b[34m(obj, context, np_opt, pd_opt)\u001b[39m\n\u001b[32m    545\u001b[39m                 \u001b[38;5;66;03m# See https://github.com/vega/altair/issues/1027 for why this is necessary.\u001b[39;00m\n\u001b[32m    546\u001b[39m                 result += \u001b[33m\"T00:00:00\"\u001b[39m\n\u001b[32m    547\u001b[39m             \u001b[38;5;28;01mreturn\u001b[39;00m result\n\u001b[32m    548\u001b[39m     \u001b[38;5;28;01mif\u001b[39;00m isinstance(obj, SchemaBase):\n\u001b[32m--> \u001b[39m\u001b[32m549\u001b[39m         \u001b[38;5;28;01mreturn\u001b[39;00m obj.to_dict(validate=\u001b[38;5;28;01mFalse\u001b[39;00m, context=context)\n\u001b[32m    550\u001b[39m     \u001b[38;5;28;01melif\u001b[39;00m isinstance(obj, (list, tuple)):\n\u001b[32m    551\u001b[39m         \u001b[38;5;28;01mreturn\u001b[39;00m [_todict(v, context, np_opt, pd_opt) \u001b[38;5;28;01mfor\u001b[39;00m v \u001b[38;5;28;01min\u001b[39;00m obj]\n\u001b[32m    552\u001b[39m     \u001b[38;5;28;01melif\u001b[39;00m isinstance(obj, dict):\n",
      "\u001b[32m~/miniconda3/envs/ds11/lib/python3.11/site-packages/altair/vegalite/v5/schema/channels.py\u001b[39m in \u001b[36m?\u001b[39m\u001b[34m(self, validate, ignore, context)\u001b[39m\n\u001b[32m    178\u001b[39m         \u001b[38;5;28;01mif\u001b[39;00m isinstance(shorthand, (tuple, list)):\n\u001b[32m    179\u001b[39m             \u001b[38;5;66;03m# If given a list of shorthands, then transform it to a list of classes\u001b[39;00m\n\u001b[32m    180\u001b[39m             kwds = self._kwds.copy()  \u001b[38;5;66;03m# type: ignore[attr-defined]\u001b[39;00m\n\u001b[32m    181\u001b[39m             kwds.pop(\u001b[33m\"shorthand\"\u001b[39m)\n\u001b[32m--> \u001b[39m\u001b[32m182\u001b[39m             return [\n\u001b[32m    183\u001b[39m                 self.__class__(sh, **kwds).to_dict(  # type: ignore[call-arg]\n\u001b[32m    184\u001b[39m                     validate=validate, ignore=ignore, context=context\n\u001b[32m    185\u001b[39m                 )\n",
      "\u001b[32m~/miniconda3/envs/ds11/lib/python3.11/site-packages/altair/vegalite/v5/schema/channels.py\u001b[39m in \u001b[36m?\u001b[39m\u001b[34m(.0)\u001b[39m\n\u001b[32m    182\u001b[39m     def to_dict(\n\u001b[32m--> \u001b[39m\u001b[32m183\u001b[39m         self,\n\u001b[32m    184\u001b[39m         validate: bool = \u001b[38;5;28;01mTrue\u001b[39;00m,\n\u001b[32m    185\u001b[39m         ignore: list[str] | \u001b[38;5;28;01mNone\u001b[39;00m = \u001b[38;5;28;01mNone\u001b[39;00m,\n\u001b[32m    186\u001b[39m         context: dict[str, Any] | \u001b[38;5;28;01mNone\u001b[39;00m = \u001b[38;5;28;01mNone\u001b[39;00m,\n",
      "\u001b[32m~/miniconda3/envs/ds11/lib/python3.11/site-packages/altair/vegalite/v5/schema/channels.py\u001b[39m in \u001b[36m?\u001b[39m\u001b[34m(self, validate, ignore, context)\u001b[39m\n\u001b[32m    205\u001b[39m                         \u001b[33m\" verify that the field name is not misspelled.\"\u001b[39m\n\u001b[32m    206\u001b[39m                         \u001b[33m\" If you are referencing a field from a transform,\"\u001b[39m\n\u001b[32m    207\u001b[39m                         \u001b[33m\" also confirm that the data type is specified correctly.\"\u001b[39m\n\u001b[32m    208\u001b[39m                     )\n\u001b[32m--> \u001b[39m\u001b[32m209\u001b[39m                     \u001b[38;5;28;01mraise\u001b[39;00m ValueError(msg)\n\u001b[32m    210\u001b[39m                 \u001b[38;5;28;01melse\u001b[39;00m:\n\u001b[32m    211\u001b[39m                     msg = (\n\u001b[32m    212\u001b[39m                         \u001b[33mf\"{shorthand} encoding field is specified without a type; \"\u001b[39m\n",
      "\u001b[31mValueError\u001b[39m: Unable to determine data type for the field \"red\"; verify that the field name is not misspelled. If you are referencing a field from a transform, also confirm that the data type is specified correctly."
     ]
    },
    {
     "data": {
      "text/plain": [
       "alt.Chart(...)"
      ]
     },
     "execution_count": 54,
     "metadata": {},
     "output_type": "execute_result"
    }
   ],
   "source": [
    "alt.renderers.enable('html')\n",
    "\n",
    "\n",
    "class Graph:\n",
    "    def __init__(\n",
    "        self, \n",
    "        data: pd.DataFrame, \n",
    "        map_values: Optional[Dict[str, Dict[str, Any]]] = None\n",
    "        ) -> None:\n",
    "        data = data.copy()\n",
    "\n",
    "        if map_values:\n",
    "            for key, value in map_values.items():\n",
    "                data[key] = data[key].map(lambda col: value[col])\n",
    "\n",
    "        self.__data = data\n",
    "\n",
    "    def setting_colors(\n",
    "            self,\n",
    "            x: str,\n",
    "            color: List[str] | str) -> Tuple[pd.DataFrame, alt.Color]:\n",
    "\n",
    "        # Color map.\n",
    "        if isinstance(color, list):\n",
    "            alt_color = (\n",
    "                alt.Color(x).scale(range=color, reverse=True).legend(orient=\"right\")\n",
    "            )\n",
    "        else:\n",
    "            alt_color = (\n",
    "                alt.Color(x).scale(scheme=color, reverse=True).legend(orient=\"right\")\n",
    "            )\n",
    "        return alt_color\n",
    "\n",
    "    def col_bar_char(\n",
    "            self,\n",
    "            x_column: str,\n",
    "            group_by: str,\n",
    "            color: List | str = \"paired\",\n",
    "            width: int = 200,\n",
    "            height: int = 200,\n",
    "            title: Optional[str] = None,\n",
    "            subtitle: Optional[str] = None,\n",
    "            x_title: str | None = None,\n",
    "            y_title: str | None = None,\n",
    "    ):\n",
    "        alt_color = self.setting_colors(\n",
    "            x_column,\n",
    "            color=color\n",
    "        )\n",
    "\n",
    "        data = self.__data\n",
    "\n",
    "        x_title = x_title.title() if x_title else x_column.title()\n",
    "        y_title = y_title.title() if y_title else \"Number of Passengers\"\n",
    "\n",
    "        source = data.groupby(group_by)[x_column].value_counts().reset_index()\n",
    "\n",
    "        grouped_bars = (\n",
    "            alt.Chart(source)\n",
    "            .mark_bar(cornerRadius=10)\n",
    "            .encode(\n",
    "                x=alt.X(x_column, title=x_title),\n",
    "                y=alt.Y('count:Q', title=y_title),\n",
    "                color=alt_color,\n",
    "                column=group_by\n",
    "            )\n",
    "            .encode(\n",
    "                tooltip=[\n",
    "                    alt.Tooltip(x_column, title=x_title),\n",
    "                    alt.Tooltip(\"count\", title=y_title),\n",
    "                ],\n",
    "            )\n",
    "            .properties(\n",
    "                width=width,\n",
    "                height=height,\n",
    "                title=alt.Title(\n",
    "                    title if title else \"\",\n",
    "                    fontSize=18,\n",
    "                    subtitle=subtitle if subtitle else \"\",\n",
    "                    subtitleFontSize=12,\n",
    "                    # dy=-10,\n",
    "                ),\n",
    "            )\n",
    "        )\n",
    "\n",
    "        text_layer = (\n",
    "            alt.Chart(data)\n",
    "            .mark_text(\n",
    "                align=\"center\",\n",
    "                baseline=\"bottom\",  # Align text to the bottom of its bounding box\n",
    "                dy=-5,  # Adjust vertical position (negative for above the bar)\n",
    "                fontSize=12,\n",
    "                fontWeight=\"bold\",\n",
    "            )\n",
    "            .encode(x=x_column, y=\"count\", text=alt.Text(\"count\"))\n",
    "        )\n",
    "\n",
    "        return grouped_bars\n",
    "\n",
    "    def bar_chart(\n",
    "            self,\n",
    "            x_column: str,\n",
    "            color: List | str = \"paired\",\n",
    "            width: int = 200,\n",
    "            height: int = 200,\n",
    "            title: Optional[str] = None,\n",
    "            subtitle: Optional[str] = None,\n",
    "            x_title: str | None = None,\n",
    "            y_title: str | None = None,\n",
    "    ) -> alt.ChartDataType:  # Make copy then change column data to str\n",
    "\n",
    "        alt_color = self.setting_colors(\n",
    "            x_column,\n",
    "            color=color\n",
    "        )\n",
    "\n",
    "        data = self.__data\n",
    "\n",
    "        x_title = x_title.title() if x_title else x_column.title()\n",
    "        y_title = y_title.title() if y_title else \"Number of Passengers\"\n",
    "\n",
    "        # Return the alt chart\n",
    "        bar_layer = (\n",
    "            alt.Chart(data)\n",
    "            .mark_bar(cornerRadius=10)\n",
    "            .encode(\n",
    "                x=alt.X(\n",
    "                    x_column, title=x_title, axis=alt.Axis(grid=False, labelFontWeight=\"bold\")\n",
    "                ),\n",
    "                y=alt.Y(\n",
    "                    \"count()\",\n",
    "                    title=y_title,\n",
    "                    axis=alt.Axis(grid=False, labelFontWeight=\"bold\"),\n",
    "                ),\n",
    "                color=alt_color.legend(orient=\"right\"),\n",
    "                tooltip=[\n",
    "                    alt.Tooltip(x_column, title=x_title),\n",
    "                    alt.Tooltip(\"count()\", title=y_title),\n",
    "                ],\n",
    "            )\n",
    "            .properties(\n",
    "                width=width,\n",
    "                height=height,\n",
    "                title=alt.Title(\n",
    "                    title if title else \"\",\n",
    "                    fontSize=18,\n",
    "                    subtitle=subtitle if subtitle else \"\",\n",
    "                    subtitleFontSize=12,\n",
    "                    # dy=-10,\n",
    "                ),\n",
    "            )\n",
    "        )\n",
    "\n",
    "        text_layer = (\n",
    "            alt.Chart(data)\n",
    "            .mark_text(\n",
    "                align=\"center\",\n",
    "                baseline=\"bottom\",  # Align text to the bottom of its bounding box\n",
    "                dy=-5,  # Adjust vertical position (negative for above the bar)\n",
    "                fontSize=12,\n",
    "                fontWeight=\"bold\",\n",
    "            )\n",
    "            .encode(x=x_column, y=\"count()\", text=alt.Text(\"count()\"))\n",
    "        )\n",
    "\n",
    "        return bar_layer + text_layer  # .configure_view(\n",
    "\n",
    "    def donut_chart(\n",
    "            self,\n",
    "            x: str,\n",
    "            inner_radius: int = 50,\n",
    "            color: List | str = \"paired\",\n",
    "            width: int = 200,\n",
    "            height: int = 200\n",
    "    ) -> alt.ChartDataType:\n",
    "\n",
    "        data = self.__data\n",
    "\n",
    "        value_counts = data[x].value_counts().reset_index()\n",
    "        value_counts[\"count\"] = (value_counts[\"count\"] / data.shape[0]).round(3)\n",
    "\n",
    "        donut_chart = alt.Chart(value_counts).mark_arc(innerRadius=inner_radius).encode(\n",
    "            theta=\"count\",\n",
    "            color=f\"{x}:N\",\n",
    "            tooltip=[\n",
    "                alt.Tooltip(f\"{x}\".title()),\n",
    "                alt.Tooltip('count', title='Percentage')\n",
    "            ]\n",
    "        ).properties(\n",
    "                width=width,\n",
    "                height=height,\n",
    "        )\n",
    "        return donut_chart\n",
    "\n",
    "    def scatter_chart(\n",
    "        self,\n",
    "        x: str,\n",
    "        y: str,\n",
    "        color: List[str] | str = \"dark2\",\n",
    "    ):\n",
    "        alt_color = self.setting_colors(\n",
    "            color,\n",
    "            color=color\n",
    "        )\n",
    "\n",
    "        data = self.__data\n",
    "\n",
    "        # Brush for selection\n",
    "        brush = alt.selection_interval()\n",
    "\n",
    "        # Scatter Plot\n",
    "        points = alt.Chart(data).mark_point().encode(\n",
    "            x='%s:Q' % x,\n",
    "            y='%s:Q' % y,\n",
    "            color=alt_color\n",
    "        ).add_params(brush)\n",
    "\n",
    "        return points\n",
    "\n",
    "    def concat(\n",
    "        self, \n",
    "        *args,\n",
    "        use: Literal[\"vconcat\", \"hconcat\"] = \"vconcat\",\n",
    "        show_stroke: bool = False\n",
    "        ):\n",
    "        if use == \"vconcat\":\n",
    "            if show_stroke:\n",
    "                return alt.vconcat(*args)\n",
    "            return alt.vconcat(*args).configure_view(stroke=None)\n",
    "        elif use == \"hconcat\":\n",
    "            if show_stroke:\n",
    "                return alt.hconcat(*args)\n",
    "            return alt.hconcat(*args).configure_view(stroke=None)\n",
    "        else:\n",
    "            raise ValueError(\"Received invalid value `%s`\" % use)\n",
    "\n",
    "\n",
    "\n",
    "graph = Graph(visual_df, map_values={\n",
    "    \"Sex\": {0: \"Female (0)\", 1: \"Male (1)\"},\n",
    "    \"Survived\": {0: \"Didn't survive\", 1: \"survived\"}\n",
    "    })\n",
    "bar = graph.bar_chart(\"Embarked\")\n",
    "#donut = graph.donut_chart(\"Embarked\")\n",
    "#col_bar = graph.scatter_chart(\"Age\", \"Fare\", color=['red', \"blue\"])\n",
    "\n",
    "#hconcat = graph.concat(bar, donut, use=\"hconcat\", show_stroke=True)\n",
    "# graph.concat(hconcat, col_bar, use=\"vconcat\")\n",
    "# col_bar"
   ]
  },
  {
   "cell_type": "code",
   "execution_count": 45,
   "id": "bd2a59f4-34c0-495a-bb70-191118b83d74",
   "metadata": {
    "ExecuteTime": {
     "end_time": "2025-10-03T22:37:14.143567Z",
     "start_time": "2025-10-03T22:37:14.126763Z"
    }
   },
   "outputs": [],
   "source": [
    "x = clean_train_x['Embarked'].value_counts().reset_index()\n",
    "x[\"count\"] = (x[\"count\"] / clean_train_x.shape[0]).round(3)"
   ]
  },
  {
   "cell_type": "code",
   "execution_count": null,
   "id": "45398cfb-bf8c-400c-aaa4-3f7d02cae801",
   "metadata": {
    "ExecuteTime": {
     "end_time": "2025-10-04T00:06:14.155314Z",
     "start_time": "2025-10-04T00:06:14.068928Z"
    }
   },
   "outputs": [],
   "source": []
  },
  {
   "cell_type": "code",
   "execution_count": null,
   "id": "d2eaef2a-93ed-408a-a08e-f861247edeb1",
   "metadata": {
    "ExecuteTime": {
     "end_time": "2025-10-03T22:37:14.279492Z",
     "start_time": "2025-10-03T22:37:14.274489Z"
    }
   },
   "outputs": [],
   "source": []
  }
 ],
 "metadata": {
  "colab": {
   "provenance": []
  },
  "kernelspec": {
   "display_name": "ds11",
   "language": "python",
   "name": "python3"
  },
  "language_info": {
   "codemirror_mode": {
    "name": "ipython",
    "version": 3
   },
   "file_extension": ".py",
   "mimetype": "text/x-python",
   "name": "python",
   "nbconvert_exporter": "python",
   "pygments_lexer": "ipython3",
   "version": "3.11.13"
  }
 },
 "nbformat": 4,
 "nbformat_minor": 5
}
