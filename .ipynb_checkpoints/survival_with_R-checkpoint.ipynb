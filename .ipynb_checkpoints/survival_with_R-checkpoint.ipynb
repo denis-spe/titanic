{
 "cells": [
  {
   "cell_type": "markdown",
   "id": "acce7b91-ba73-409b-88fb-5cc92445d37a",
   "metadata": {
    "id": "acce7b91-ba73-409b-88fb-5cc92445d37a"
   },
   "source": [
    "<h1 style=\"font-weight: bold;\">Titanic Survival With R</h1>\n"
   ]
  },
  {
   "cell_type": "markdown",
   "id": "d50c0a95-60e6-4b7a-bfeb-75eb054d7254",
   "metadata": {
    "id": "d50c0a95-60e6-4b7a-bfeb-75eb054d7254",
    "jp-MarkdownHeadingCollapsed": true
   },
   "source": [
    "## 1) **Import libraries**\n",
    "\n",
    "load the libraries to be used in the notebook\n"
   ]
  },
  {
   "cell_type": "code",
   "execution_count": 11,
   "id": "23bde1d6-666d-4099-928a-a72ffe730798",
   "metadata": {
    "ExecuteTime": {
     "end_time": "2025-10-03T22:37:10.062897Z",
     "start_time": "2025-10-03T22:37:10.051491Z"
    },
    "id": "23bde1d6-666d-4099-928a-a72ffe730798",
    "vscode": {
     "languageId": "r"
    }
   },
   "outputs": [],
   "source": [
    "library(tidyverse)\n",
    "library(tidymodels)"
   ]
  },
  {
   "cell_type": "markdown",
   "id": "796f2577-cd2f-4130-a2a9-35d768495f9a",
   "metadata": {
    "id": "796f2577-cd2f-4130-a2a9-35d768495f9a",
    "jp-MarkdownHeadingCollapsed": true
   },
   "source": [
    "## 2) **Setting notebook**\n"
   ]
  },
  {
   "cell_type": "code",
   "execution_count": 12,
   "id": "af3ad461-d57d-46d1-96d5-f62e51fd6d86",
   "metadata": {
    "ExecuteTime": {
     "end_time": "2025-10-03T22:37:10.150939Z",
     "start_time": "2025-10-03T22:37:10.140708Z"
    },
    "id": "af3ad461-d57d-46d1-96d5-f62e51fd6d86",
    "vscode": {
     "languageId": "r"
    }
   },
   "outputs": [
    {
     "data": {
      "text/plain": [
       "$add.smooth\n",
       "[1] TRUE\n",
       "\n",
       "$ambiguousMethodSelection\n",
       "function (cond) \n",
       "NULL\n",
       "<environment: R_EmptyEnv>\n",
       "\n",
       "$bitmapType\n",
       "[1] \"cairo\"\n",
       "\n",
       "$browser\n",
       "[1] \"\"\n",
       "\n",
       "$browserNLdisabled\n",
       "[1] FALSE\n",
       "\n",
       "$callr.condition_handler_cli_message\n",
       "function (msg) \n",
       "{\n",
       "    custom_handler <- getOption(\"cli.default_handler\")\n",
       "    if (is.function(custom_handler)) {\n",
       "        custom_handler(msg)\n",
       "    }\n",
       "    else {\n",
       "        cli_server_default(msg)\n",
       "    }\n",
       "}\n",
       "<bytecode: 0x30011dea68>\n",
       "<environment: namespace:cli>\n",
       "\n",
       "$catch.script.errors\n",
       "[1] FALSE\n",
       "\n",
       "$CBoundsCheck\n",
       "[1] FALSE\n",
       "\n",
       "$check.bounds\n",
       "[1] FALSE\n",
       "\n",
       "$citation.bibtex.max\n",
       "[1] 1\n",
       "\n",
       "$continue\n",
       "[1] \"+ \"\n",
       "\n",
       "$contrasts\n",
       "        unordered           ordered \n",
       "\"contr.treatment\"      \"contr.poly\" \n",
       "\n",
       "$crayon.enabled\n",
       "[1] TRUE\n",
       "\n",
       "$datatable.alloccol\n",
       "[1] 1024\n",
       "\n",
       "$datatable.allow.cartesian\n",
       "[1] FALSE\n",
       "\n",
       "$datatable.auto.index\n",
       "[1] TRUE\n",
       "\n",
       "$datatable.dfdispatchwarn\n",
       "[1] TRUE\n",
       "\n",
       "$datatable.optimize\n",
       "[1] Inf\n",
       "\n",
       "$datatable.print.class\n",
       "[1] TRUE\n",
       "\n",
       "$datatable.print.colnames\n",
       "[1] \"auto\"\n",
       "\n",
       "$datatable.print.keys\n",
       "[1] TRUE\n",
       "\n",
       "$datatable.print.nrows\n",
       "[1] 100\n",
       "\n",
       "$datatable.print.rownames\n",
       "[1] TRUE\n",
       "\n",
       "$datatable.print.topn\n",
       "[1] 5\n",
       "\n",
       "$datatable.print.trunc.cols\n",
       "[1] FALSE\n",
       "\n",
       "$datatable.show.indices\n",
       "[1] FALSE\n",
       "\n",
       "$datatable.use.index\n",
       "[1] TRUE\n",
       "\n",
       "$datatable.verbose\n",
       "[1] FALSE\n",
       "\n",
       "$datatable.warnredundantby\n",
       "[1] TRUE\n",
       "\n",
       "$defaultPackages\n",
       "[1] \"datasets\"  \"utils\"     \"grDevices\" \"graphics\"  \"stats\"     \"methods\"  \n",
       "\n",
       "$demo.ask\n",
       "[1] \"default\"\n",
       "\n",
       "$deparse.cutoff\n",
       "[1] 60\n",
       "\n",
       "$device\n",
       "function (filename = null_filename, ...) \n",
       "ok_device(filename, ...)\n",
       "<bytecode: 0x300210e270>\n",
       "<environment: 0x300210ddd8>\n",
       "\n",
       "$device.ask.default\n",
       "[1] FALSE\n",
       "\n",
       "$digits\n",
       "[1] 7\n",
       "\n",
       "$dplyr.show_progress\n",
       "[1] TRUE\n",
       "\n",
       "$dvipscmd\n",
       "[1] \"dvips\"\n",
       "\n",
       "$echo\n",
       "[1] FALSE\n",
       "\n",
       "$editor\n",
       "[1] \"vi\"\n",
       "\n",
       "$encoding\n",
       "[1] \"native.enc\"\n",
       "\n",
       "$example.ask\n",
       "[1] \"default\"\n",
       "\n",
       "$expressions\n",
       "[1] 5000\n",
       "\n",
       "$future.ClusterFuture.clusterEvalQ\n",
       "[1] \"warning\"\n",
       "\n",
       "$future.debug.indent\n",
       "[1] \" \"\n",
       "\n",
       "$future.globals.keepWhere\n",
       "[1] TRUE\n",
       "\n",
       "$future.globals.maxSize\n",
       "[1] 1e+09\n",
       "\n",
       "$future.globals.method.default\n",
       "[1] \"ordered\" \"dfs\"    \n",
       "\n",
       "$future.regression.note\n",
       "[1] TRUE\n",
       "\n",
       "$gd_num_thread\n",
       "[1] 2\n",
       "\n",
       "$globals.debug.indent\n",
       "[1] \" \"\n",
       "\n",
       "$help.search.types\n",
       "[1] \"vignette\" \"demo\"     \"help\"    \n",
       "\n",
       "$help.try.all.packages\n",
       "[1] FALSE\n",
       "\n",
       "$HTTPUserAgent\n",
       "[1] \"R (4.5.1 aarch64-unknown-linux-gnu aarch64 linux-gnu)\"\n",
       "\n",
       "$internet.info\n",
       "[1] 2\n",
       "\n",
       "$jupyter.base_display_func\n",
       "Class method definition for method display_data()\n",
       "function (data, metadata = NULL) \n",
       "{\n",
       "    if (is.null(metadata)) {\n",
       "        metadata <- namedlist()\n",
       "    }\n",
       "    send_response(\"display_data\", current_request, \"iopub\", list(data = data, \n",
       "        metadata = metadata))\n",
       "    invisible(TRUE)\n",
       "}\n",
       "<environment: 0x300269ac78>\n",
       "\n",
       "$jupyter.clear_output_func\n",
       "Class method definition for method clear_output()\n",
       "function (wait = TRUE) \n",
       "{\n",
       "    send_response(\"clear_output\", current_request, \"iopub\", list(wait = wait))\n",
       "}\n",
       "<environment: 0x300269ac78>\n",
       "\n",
       "$jupyter.display_mimetypes\n",
       " [1] \"text/plain\"                       \"text/html\"                       \n",
       " [3] \"text/markdown\"                    \"text/latex\"                      \n",
       " [5] \"application/json\"                 \"application/javascript\"          \n",
       " [7] \"application/geo+json\"             \"application/vdom.v1+json\"        \n",
       " [9] \"application/vnd.plotly.v1+json\"   \"application/vnd.vegalite.v2+json\"\n",
       "[11] \"application/vnd.vega.v4+json\"     \"application/pdf\"                 \n",
       "[13] \"image/png\"                        \"image/jpeg\"                      \n",
       "[15] \"image/svg+xml\"                   \n",
       "\n",
       "$jupyter.in_kernel\n",
       "[1] TRUE\n",
       "\n",
       "$jupyter.log_level\n",
       "[1] 1\n",
       "\n",
       "$jupyter.logfile\n",
       "[1] NA\n",
       "\n",
       "$jupyter.pager_classes\n",
       "[1] \"packageIQR\"            \"help_files_with_topic\"\n",
       "\n",
       "$jupyter.plot_mimetypes\n",
       "[1] \"text/plain\" \"image/png\" \n",
       "\n",
       "$jupyter.plot_scale\n",
       "[1] 2\n",
       "\n",
       "$jupyter.rich_display\n",
       "[1] TRUE\n",
       "\n",
       "$keep.parse.data\n",
       "[1] TRUE\n",
       "\n",
       "$keep.parse.data.pkgs\n",
       "[1] FALSE\n",
       "\n",
       "$keep.source\n",
       "[1] FALSE\n",
       "\n",
       "$keep.source.pkgs\n",
       "[1] FALSE\n",
       "\n",
       "$locatorBell\n",
       "[1] TRUE\n",
       "\n",
       "$mailer\n",
       "[1] \"mailto\"\n",
       "\n",
       "$matprod\n",
       "[1] \"default\"\n",
       "\n",
       "$max.contour.segments\n",
       "[1] 25000\n",
       "\n",
       "$max.print\n",
       "[1] 99999\n",
       "\n",
       "$menu.graphics\n",
       "[1] TRUE\n",
       "\n",
       "$na.action\n",
       "[1] \"na.omit\"\n",
       "\n",
       "$nwarnings\n",
       "[1] 50\n",
       "\n",
       "$OutDec\n",
       "[1] \".\"\n",
       "\n",
       "$pager\n",
       "function (files, header, title, delete.file) \n",
       "{\n",
       "    text <- title\n",
       "    for (path in files) {\n",
       "        text <- c(text, header, readLines(path))\n",
       "    }\n",
       "    if (delete.file) \n",
       "        file.remove(files)\n",
       "    data <- list(`text/plain` = paste(text, collapse = \"\\n\"))\n",
       "    page(list(data = data, metadata = namedlist()))\n",
       "}\n",
       "<environment: 0x300271bc78>\n",
       "\n",
       "$papersize\n",
       "[1] \"letter\"\n",
       "\n",
       "$PCRE_limit_recursion\n",
       "[1] NA\n",
       "\n",
       "$PCRE_study\n",
       "[1] FALSE\n",
       "\n",
       "$PCRE_use_JIT\n",
       "[1] TRUE\n",
       "\n",
       "$pdfviewer\n",
       "[1] \"\"\n",
       "\n",
       "$pkgType\n",
       "[1] \"source\"\n",
       "\n",
       "$printcmd\n",
       "[1] \"\"\n",
       "\n",
       "$prompt\n",
       "[1] \"> \"\n",
       "\n",
       "$readr.show_progress\n",
       "[1] TRUE\n",
       "\n",
       "$repos\n",
       "                        CRAN \n",
       "\"https://cran.r-project.org\" \n",
       "attr(,\"irkernel\")\n",
       "[1] TRUE\n",
       "\n",
       "$repr.function.highlight\n",
       "[1] FALSE\n",
       "\n",
       "$repr.html.deduplicate\n",
       "[1] FALSE\n",
       "\n",
       "$repr.matrix.latex.colspec\n",
       "$repr.matrix.latex.colspec$row_head\n",
       "[1] \"r|\"\n",
       "\n",
       "$repr.matrix.latex.colspec$col\n",
       "[1] \"l\"\n",
       "\n",
       "$repr.matrix.latex.colspec$end\n",
       "[1] \"\"\n",
       "\n",
       "\n",
       "$repr.matrix.max.cols\n",
       "[1] 20\n",
       "\n",
       "$repr.matrix.max.rows\n",
       "[1] 60\n",
       "\n",
       "$repr.plot.antialias\n",
       "[1] \"gray\"\n",
       "\n",
       "$repr.plot.bg\n",
       "[1] \"white\"\n",
       "\n",
       "$repr.plot.family\n",
       "[1] \"sans\"\n",
       "\n",
       "$repr.plot.height\n",
       "[1] 7\n",
       "\n",
       "$repr.plot.pointsize\n",
       "[1] 12\n",
       "\n",
       "$repr.plot.quality\n",
       "[1] 90\n",
       "\n",
       "$repr.plot.res\n",
       "[1] 120\n",
       "\n",
       "$repr.plot.width\n",
       "[1] 7\n",
       "\n",
       "$repr.vector.max.items\n",
       "[1] 400\n",
       "\n",
       "$repr.vector.quote\n",
       "[1] TRUE\n",
       "\n",
       "$rl_word_breaks\n",
       "[1] \" \\t\\n\\\"\\\\'`><=%;,|&{()}\"\n",
       "\n",
       "$rlang_trace_top_env\n",
       "<environment: 0x300444d3b8>\n",
       "\n",
       "$scipen\n",
       "[1] 0\n",
       "\n",
       "$show.coef.Pvalues\n",
       "[1] TRUE\n",
       "\n",
       "$show.error.messages\n",
       "[1] TRUE\n",
       "\n",
       "$show.signif.stars\n",
       "[1] TRUE\n",
       "\n",
       "$showErrorCalls\n",
       "[1] TRUE\n",
       "\n",
       "$showNCalls\n",
       "[1] 50\n",
       "\n",
       "$showWarnCalls\n",
       "[1] FALSE\n",
       "\n",
       "$str\n",
       "$str$strict.width\n",
       "[1] \"no\"\n",
       "\n",
       "$str$digits.d\n",
       "[1] 3\n",
       "\n",
       "$str$vec.len\n",
       "[1] 4\n",
       "\n",
       "$str$list.len\n",
       "[1] 99\n",
       "\n",
       "$str$deparse.lines\n",
       "NULL\n",
       "\n",
       "$str$drop.deparse.attr\n",
       "[1] TRUE\n",
       "\n",
       "$str$formatNum\n",
       "function (x, ...) \n",
       "format(x, trim = TRUE, drop0trailing = TRUE, ...)\n",
       "<environment: 0x3000d3c1d8>\n",
       "\n",
       "\n",
       "$str.dendrogram.last\n",
       "[1] \"`\"\n",
       "\n",
       "$texi2dvi\n",
       "[1] \"/usr/bin/texi2dvi\"\n",
       "\n",
       "$timeout\n",
       "[1] 60\n",
       "\n",
       "$try.outFile\n",
       "A connection with                    \n",
       "description \"\"      \n",
       "class       \"file\"  \n",
       "mode        \"w+b\"   \n",
       "text        \"binary\"\n",
       "opened      \"opened\"\n",
       "can read    \"yes\"   \n",
       "can write   \"yes\"   \n",
       "\n",
       "$ts.eps\n",
       "[1] 1e-05\n",
       "\n",
       "$ts.S.compat\n",
       "[1] FALSE\n",
       "\n",
       "$unzip\n",
       "[1] \"/usr/bin/unzip\"\n",
       "\n",
       "$useFancyQuotes\n",
       "[1] TRUE\n",
       "\n",
       "$verbose\n",
       "[1] FALSE\n",
       "\n",
       "$warn\n",
       "[1] 0\n",
       "\n",
       "$warning.length\n",
       "[1] 1000\n",
       "\n",
       "$warnPartialMatchArgs\n",
       "[1] FALSE\n",
       "\n",
       "$warnPartialMatchAttr\n",
       "[1] FALSE\n",
       "\n",
       "$warnPartialMatchDollar\n",
       "[1] FALSE\n",
       "\n",
       "$width\n",
       "[1] 80\n"
      ]
     },
     "metadata": {},
     "output_type": "display_data"
    }
   ],
   "source": [
    "options()"
   ]
  },
  {
   "cell_type": "markdown",
   "id": "de696c32-e12b-4ac1-b39f-d2798415ded0",
   "metadata": {
    "id": "de696c32-e12b-4ac1-b39f-d2798415ded0",
    "jp-MarkdownHeadingCollapsed": true
   },
   "source": [
    "## 3) **Load the data**\n",
    "\n",
    "<p>Load the csv file to pandas dataframe</p>\n"
   ]
  },
  {
   "cell_type": "code",
   "execution_count": 13,
   "id": "3e76a29c",
   "metadata": {
    "vscode": {
     "languageId": "r"
    }
   },
   "outputs": [
    {
     "data": {
      "text/html": [
       "TRUE"
      ],
      "text/latex": [
       "TRUE"
      ],
      "text/markdown": [
       "TRUE"
      ],
      "text/plain": [
       "[1] TRUE"
      ]
     },
     "metadata": {},
     "output_type": "display_data"
    }
   ],
   "source": [
    "dir.exists(\"./data\")"
   ]
  },
  {
   "cell_type": "code",
   "execution_count": 14,
   "id": "11a39d04-d424-4ef9-bfc1-e5250b05dc9f",
   "metadata": {
    "ExecuteTime": {
     "end_time": "2025-10-03T22:37:10.187290Z",
     "start_time": "2025-10-03T22:37:10.172217Z"
    },
    "id": "11a39d04-d424-4ef9-bfc1-e5250b05dc9f",
    "vscode": {
     "languageId": "r"
    }
   },
   "outputs": [],
   "source": [
    "folder_path <- NULL\n",
    "\n",
    "if (dir.exists(\"data/\")) {\n",
    "    folder_path <- \"data\"\n",
    "} else {\n",
    "    stop(\"Unable find the data\")\n",
    "}\n",
    "\n",
    "\n",
    "train_path = file.path(folder_path, \"train.csv\")\n",
    "test_path = file.path(folder_path, \"test.csv\")"
   ]
  },
  {
   "cell_type": "code",
   "execution_count": 15,
   "id": "4ea8a195-e2de-4952-83df-0348ca524056",
   "metadata": {
    "ExecuteTime": {
     "end_time": "2025-10-03T22:37:10.714490Z",
     "start_time": "2025-10-03T22:37:10.207883Z"
    },
    "id": "4ea8a195-e2de-4952-83df-0348ca524056",
    "vscode": {
     "languageId": "r"
    }
   },
   "outputs": [
    {
     "name": "stderr",
     "output_type": "stream",
     "text": [
      "\u001b[1mRows: \u001b[22m\u001b[34m891\u001b[39m \u001b[1mColumns: \u001b[22m\u001b[34m12\u001b[39m\n",
      "\u001b[36m──\u001b[39m \u001b[1mColumn specification\u001b[22m \u001b[36m────────────────────────────────────────────────────────\u001b[39m\n",
      "\u001b[1mDelimiter:\u001b[22m \",\"\n",
      "\u001b[31mchr\u001b[39m (5): Name, Sex, Ticket, Cabin, Embarked\n",
      "\u001b[32mdbl\u001b[39m (7): PassengerId, Survived, Pclass, Age, SibSp, Parch, Fare\n",
      "\n",
      "\u001b[36mℹ\u001b[39m Use `spec()` to retrieve the full column specification for this data.\n",
      "\u001b[36mℹ\u001b[39m Specify the column types or set `show_col_types = FALSE` to quiet this message.\n",
      "\u001b[1mRows: \u001b[22m\u001b[34m418\u001b[39m \u001b[1mColumns: \u001b[22m\u001b[34m11\u001b[39m\n",
      "\u001b[36m──\u001b[39m \u001b[1mColumn specification\u001b[22m \u001b[36m────────────────────────────────────────────────────────\u001b[39m\n",
      "\u001b[1mDelimiter:\u001b[22m \",\"\n",
      "\u001b[31mchr\u001b[39m (5): Name, Sex, Ticket, Cabin, Embarked\n",
      "\u001b[32mdbl\u001b[39m (6): PassengerId, Pclass, Age, SibSp, Parch, Fare\n",
      "\n",
      "\u001b[36mℹ\u001b[39m Use `spec()` to retrieve the full column specification for this data.\n",
      "\u001b[36mℹ\u001b[39m Specify the column types or set `show_col_types = FALSE` to quiet this message.\n"
     ]
    }
   ],
   "source": [
    "# Set the PassengerId column as index column.\n",
    "index_col <- 'PassengerId'\n",
    "\n",
    "# Load the train and test dataframe.\n",
    "train_df = read_csv(train_path)\n",
    "test_df = read_csv(test_path)"
   ]
  },
  {
   "cell_type": "markdown",
   "id": "ca31e43e-f0b2-49f6-805a-d5db7b9103d7",
   "metadata": {
    "id": "ca31e43e-f0b2-49f6-805a-d5db7b9103d7",
    "jp-MarkdownHeadingCollapsed": true
   },
   "source": [
    "## 4) **Data statistics**\n",
    "\n",
    "<p>Analyse train and test dataframe</p>\n"
   ]
  },
  {
   "cell_type": "markdown",
   "id": "b0b5ee84-3674-4b58-b4f9-ebb4d980b920",
   "metadata": {
    "id": "b0b5ee84-3674-4b58-b4f9-ebb4d980b920"
   },
   "source": [
    "### i) Rows in train data\n",
    "\n",
    "<p>View train dataframe top and bottom rows</p>\n"
   ]
  },
  {
   "cell_type": "code",
   "execution_count": 16,
   "id": "3908408e-84a6-4225-9345-a7da8a7f7081",
   "metadata": {
    "ExecuteTime": {
     "end_time": "2025-10-03T22:37:10.910151Z",
     "start_time": "2025-10-03T22:37:10.732128Z"
    },
    "colab": {
     "base_uri": "https://localhost:8080/",
     "height": 535
    },
    "id": "3908408e-84a6-4225-9345-a7da8a7f7081",
    "outputId": "ca2868ed-3caa-459e-d7a1-22d5095359e2",
    "vscode": {
     "languageId": "r"
    }
   },
   "outputs": [
    {
     "data": {
      "text/html": [
       "<table class=\"dataframe\">\n",
       "<caption>A tibble: 6 × 12</caption>\n",
       "<thead>\n",
       "\t<tr><th scope=col>PassengerId</th><th scope=col>Survived</th><th scope=col>Pclass</th><th scope=col>Name</th><th scope=col>Sex</th><th scope=col>Age</th><th scope=col>SibSp</th><th scope=col>Parch</th><th scope=col>Ticket</th><th scope=col>Fare</th><th scope=col>Cabin</th><th scope=col>Embarked</th></tr>\n",
       "\t<tr><th scope=col>&lt;dbl&gt;</th><th scope=col>&lt;dbl&gt;</th><th scope=col>&lt;dbl&gt;</th><th scope=col>&lt;chr&gt;</th><th scope=col>&lt;chr&gt;</th><th scope=col>&lt;dbl&gt;</th><th scope=col>&lt;dbl&gt;</th><th scope=col>&lt;dbl&gt;</th><th scope=col>&lt;chr&gt;</th><th scope=col>&lt;dbl&gt;</th><th scope=col>&lt;chr&gt;</th><th scope=col>&lt;chr&gt;</th></tr>\n",
       "</thead>\n",
       "<tbody>\n",
       "\t<tr><td>1</td><td>0</td><td>3</td><td>Braund, Mr. Owen Harris                            </td><td>male  </td><td>22</td><td>1</td><td>0</td><td>A/5 21171       </td><td> 7.2500</td><td>NA  </td><td>S</td></tr>\n",
       "\t<tr><td>2</td><td>1</td><td>1</td><td>Cumings, Mrs. John Bradley (Florence Briggs Thayer)</td><td>female</td><td>38</td><td>1</td><td>0</td><td>PC 17599        </td><td>71.2833</td><td>C85 </td><td>C</td></tr>\n",
       "\t<tr><td>3</td><td>1</td><td>3</td><td>Heikkinen, Miss. Laina                             </td><td>female</td><td>26</td><td>0</td><td>0</td><td>STON/O2. 3101282</td><td> 7.9250</td><td>NA  </td><td>S</td></tr>\n",
       "\t<tr><td>4</td><td>1</td><td>1</td><td>Futrelle, Mrs. Jacques Heath (Lily May Peel)       </td><td>female</td><td>35</td><td>1</td><td>0</td><td>113803          </td><td>53.1000</td><td>C123</td><td>S</td></tr>\n",
       "\t<tr><td>5</td><td>0</td><td>3</td><td>Allen, Mr. William Henry                           </td><td>male  </td><td>35</td><td>0</td><td>0</td><td>373450          </td><td> 8.0500</td><td>NA  </td><td>S</td></tr>\n",
       "\t<tr><td>6</td><td>0</td><td>3</td><td>Moran, Mr. James                                   </td><td>male  </td><td>NA</td><td>0</td><td>0</td><td>330877          </td><td> 8.4583</td><td>NA  </td><td>Q</td></tr>\n",
       "</tbody>\n",
       "</table>\n"
      ],
      "text/latex": [
       "A tibble: 6 × 12\n",
       "\\begin{tabular}{llllllllllll}\n",
       " PassengerId & Survived & Pclass & Name & Sex & Age & SibSp & Parch & Ticket & Fare & Cabin & Embarked\\\\\n",
       " <dbl> & <dbl> & <dbl> & <chr> & <chr> & <dbl> & <dbl> & <dbl> & <chr> & <dbl> & <chr> & <chr>\\\\\n",
       "\\hline\n",
       "\t 1 & 0 & 3 & Braund, Mr. Owen Harris                             & male   & 22 & 1 & 0 & A/5 21171        &  7.2500 & NA   & S\\\\\n",
       "\t 2 & 1 & 1 & Cumings, Mrs. John Bradley (Florence Briggs Thayer) & female & 38 & 1 & 0 & PC 17599         & 71.2833 & C85  & C\\\\\n",
       "\t 3 & 1 & 3 & Heikkinen, Miss. Laina                              & female & 26 & 0 & 0 & STON/O2. 3101282 &  7.9250 & NA   & S\\\\\n",
       "\t 4 & 1 & 1 & Futrelle, Mrs. Jacques Heath (Lily May Peel)        & female & 35 & 1 & 0 & 113803           & 53.1000 & C123 & S\\\\\n",
       "\t 5 & 0 & 3 & Allen, Mr. William Henry                            & male   & 35 & 0 & 0 & 373450           &  8.0500 & NA   & S\\\\\n",
       "\t 6 & 0 & 3 & Moran, Mr. James                                    & male   & NA & 0 & 0 & 330877           &  8.4583 & NA   & Q\\\\\n",
       "\\end{tabular}\n"
      ],
      "text/markdown": [
       "\n",
       "A tibble: 6 × 12\n",
       "\n",
       "| PassengerId &lt;dbl&gt; | Survived &lt;dbl&gt; | Pclass &lt;dbl&gt; | Name &lt;chr&gt; | Sex &lt;chr&gt; | Age &lt;dbl&gt; | SibSp &lt;dbl&gt; | Parch &lt;dbl&gt; | Ticket &lt;chr&gt; | Fare &lt;dbl&gt; | Cabin &lt;chr&gt; | Embarked &lt;chr&gt; |\n",
       "|---|---|---|---|---|---|---|---|---|---|---|---|\n",
       "| 1 | 0 | 3 | Braund, Mr. Owen Harris                             | male   | 22 | 1 | 0 | A/5 21171        |  7.2500 | NA   | S |\n",
       "| 2 | 1 | 1 | Cumings, Mrs. John Bradley (Florence Briggs Thayer) | female | 38 | 1 | 0 | PC 17599         | 71.2833 | C85  | C |\n",
       "| 3 | 1 | 3 | Heikkinen, Miss. Laina                              | female | 26 | 0 | 0 | STON/O2. 3101282 |  7.9250 | NA   | S |\n",
       "| 4 | 1 | 1 | Futrelle, Mrs. Jacques Heath (Lily May Peel)        | female | 35 | 1 | 0 | 113803           | 53.1000 | C123 | S |\n",
       "| 5 | 0 | 3 | Allen, Mr. William Henry                            | male   | 35 | 0 | 0 | 373450           |  8.0500 | NA   | S |\n",
       "| 6 | 0 | 3 | Moran, Mr. James                                    | male   | NA | 0 | 0 | 330877           |  8.4583 | NA   | Q |\n",
       "\n"
      ],
      "text/plain": [
       "  PassengerId Survived Pclass\n",
       "1 1           0        3     \n",
       "2 2           1        1     \n",
       "3 3           1        3     \n",
       "4 4           1        1     \n",
       "5 5           0        3     \n",
       "6 6           0        3     \n",
       "  Name                                                Sex    Age SibSp Parch\n",
       "1 Braund, Mr. Owen Harris                             male   22  1     0    \n",
       "2 Cumings, Mrs. John Bradley (Florence Briggs Thayer) female 38  1     0    \n",
       "3 Heikkinen, Miss. Laina                              female 26  0     0    \n",
       "4 Futrelle, Mrs. Jacques Heath (Lily May Peel)        female 35  1     0    \n",
       "5 Allen, Mr. William Henry                            male   35  0     0    \n",
       "6 Moran, Mr. James                                    male   NA  0     0    \n",
       "  Ticket           Fare    Cabin Embarked\n",
       "1 A/5 21171         7.2500 NA    S       \n",
       "2 PC 17599         71.2833 C85   C       \n",
       "3 STON/O2. 3101282  7.9250 NA    S       \n",
       "4 113803           53.1000 C123  S       \n",
       "5 373450            8.0500 NA    S       \n",
       "6 330877            8.4583 NA    Q       "
      ]
     },
     "metadata": {},
     "output_type": "display_data"
    }
   ],
   "source": [
    "# First five rows in train data.\n",
    "train_df %>% head()"
   ]
  },
  {
   "cell_type": "code",
   "execution_count": 17,
   "id": "8a52e0f5-1267-4775-a373-501320697db7",
   "metadata": {
    "ExecuteTime": {
     "end_time": "2025-10-03T22:37:10.967507Z",
     "start_time": "2025-10-03T22:37:10.943396Z"
    },
    "colab": {
     "base_uri": "https://localhost:8080/",
     "height": 483
    },
    "id": "8a52e0f5-1267-4775-a373-501320697db7",
    "outputId": "91811e83-329f-4e06-c499-5786a27fc8ed",
    "vscode": {
     "languageId": "r"
    }
   },
   "outputs": [
    {
     "data": {
      "text/html": [
       "<table class=\"dataframe\">\n",
       "<caption>A tibble: 6 × 12</caption>\n",
       "<thead>\n",
       "\t<tr><th scope=col>PassengerId</th><th scope=col>Survived</th><th scope=col>Pclass</th><th scope=col>Name</th><th scope=col>Sex</th><th scope=col>Age</th><th scope=col>SibSp</th><th scope=col>Parch</th><th scope=col>Ticket</th><th scope=col>Fare</th><th scope=col>Cabin</th><th scope=col>Embarked</th></tr>\n",
       "\t<tr><th scope=col>&lt;dbl&gt;</th><th scope=col>&lt;dbl&gt;</th><th scope=col>&lt;dbl&gt;</th><th scope=col>&lt;chr&gt;</th><th scope=col>&lt;chr&gt;</th><th scope=col>&lt;dbl&gt;</th><th scope=col>&lt;dbl&gt;</th><th scope=col>&lt;dbl&gt;</th><th scope=col>&lt;chr&gt;</th><th scope=col>&lt;dbl&gt;</th><th scope=col>&lt;chr&gt;</th><th scope=col>&lt;chr&gt;</th></tr>\n",
       "</thead>\n",
       "<tbody>\n",
       "\t<tr><td>886</td><td>0</td><td>3</td><td>Rice, Mrs. William (Margaret Norton)    </td><td>female</td><td>39</td><td>0</td><td>5</td><td>382652    </td><td>29.125</td><td>NA  </td><td>Q</td></tr>\n",
       "\t<tr><td>887</td><td>0</td><td>2</td><td>Montvila, Rev. Juozas                   </td><td>male  </td><td>27</td><td>0</td><td>0</td><td>211536    </td><td>13.000</td><td>NA  </td><td>S</td></tr>\n",
       "\t<tr><td>888</td><td>1</td><td>1</td><td>Graham, Miss. Margaret Edith            </td><td>female</td><td>19</td><td>0</td><td>0</td><td>112053    </td><td>30.000</td><td>B42 </td><td>S</td></tr>\n",
       "\t<tr><td>889</td><td>0</td><td>3</td><td>Johnston, Miss. Catherine Helen \"Carrie\"</td><td>female</td><td>NA</td><td>1</td><td>2</td><td>W./C. 6607</td><td>23.450</td><td>NA  </td><td>S</td></tr>\n",
       "\t<tr><td>890</td><td>1</td><td>1</td><td>Behr, Mr. Karl Howell                   </td><td>male  </td><td>26</td><td>0</td><td>0</td><td>111369    </td><td>30.000</td><td>C148</td><td>C</td></tr>\n",
       "\t<tr><td>891</td><td>0</td><td>3</td><td>Dooley, Mr. Patrick                     </td><td>male  </td><td>32</td><td>0</td><td>0</td><td>370376    </td><td> 7.750</td><td>NA  </td><td>Q</td></tr>\n",
       "</tbody>\n",
       "</table>\n"
      ],
      "text/latex": [
       "A tibble: 6 × 12\n",
       "\\begin{tabular}{llllllllllll}\n",
       " PassengerId & Survived & Pclass & Name & Sex & Age & SibSp & Parch & Ticket & Fare & Cabin & Embarked\\\\\n",
       " <dbl> & <dbl> & <dbl> & <chr> & <chr> & <dbl> & <dbl> & <dbl> & <chr> & <dbl> & <chr> & <chr>\\\\\n",
       "\\hline\n",
       "\t 886 & 0 & 3 & Rice, Mrs. William (Margaret Norton)     & female & 39 & 0 & 5 & 382652     & 29.125 & NA   & Q\\\\\n",
       "\t 887 & 0 & 2 & Montvila, Rev. Juozas                    & male   & 27 & 0 & 0 & 211536     & 13.000 & NA   & S\\\\\n",
       "\t 888 & 1 & 1 & Graham, Miss. Margaret Edith             & female & 19 & 0 & 0 & 112053     & 30.000 & B42  & S\\\\\n",
       "\t 889 & 0 & 3 & Johnston, Miss. Catherine Helen \"Carrie\" & female & NA & 1 & 2 & W./C. 6607 & 23.450 & NA   & S\\\\\n",
       "\t 890 & 1 & 1 & Behr, Mr. Karl Howell                    & male   & 26 & 0 & 0 & 111369     & 30.000 & C148 & C\\\\\n",
       "\t 891 & 0 & 3 & Dooley, Mr. Patrick                      & male   & 32 & 0 & 0 & 370376     &  7.750 & NA   & Q\\\\\n",
       "\\end{tabular}\n"
      ],
      "text/markdown": [
       "\n",
       "A tibble: 6 × 12\n",
       "\n",
       "| PassengerId &lt;dbl&gt; | Survived &lt;dbl&gt; | Pclass &lt;dbl&gt; | Name &lt;chr&gt; | Sex &lt;chr&gt; | Age &lt;dbl&gt; | SibSp &lt;dbl&gt; | Parch &lt;dbl&gt; | Ticket &lt;chr&gt; | Fare &lt;dbl&gt; | Cabin &lt;chr&gt; | Embarked &lt;chr&gt; |\n",
       "|---|---|---|---|---|---|---|---|---|---|---|---|\n",
       "| 886 | 0 | 3 | Rice, Mrs. William (Margaret Norton)     | female | 39 | 0 | 5 | 382652     | 29.125 | NA   | Q |\n",
       "| 887 | 0 | 2 | Montvila, Rev. Juozas                    | male   | 27 | 0 | 0 | 211536     | 13.000 | NA   | S |\n",
       "| 888 | 1 | 1 | Graham, Miss. Margaret Edith             | female | 19 | 0 | 0 | 112053     | 30.000 | B42  | S |\n",
       "| 889 | 0 | 3 | Johnston, Miss. Catherine Helen \"Carrie\" | female | NA | 1 | 2 | W./C. 6607 | 23.450 | NA   | S |\n",
       "| 890 | 1 | 1 | Behr, Mr. Karl Howell                    | male   | 26 | 0 | 0 | 111369     | 30.000 | C148 | C |\n",
       "| 891 | 0 | 3 | Dooley, Mr. Patrick                      | male   | 32 | 0 | 0 | 370376     |  7.750 | NA   | Q |\n",
       "\n"
      ],
      "text/plain": [
       "  PassengerId Survived Pclass Name                                     Sex   \n",
       "1 886         0        3      Rice, Mrs. William (Margaret Norton)     female\n",
       "2 887         0        2      Montvila, Rev. Juozas                    male  \n",
       "3 888         1        1      Graham, Miss. Margaret Edith             female\n",
       "4 889         0        3      Johnston, Miss. Catherine Helen \"Carrie\" female\n",
       "5 890         1        1      Behr, Mr. Karl Howell                    male  \n",
       "6 891         0        3      Dooley, Mr. Patrick                      male  \n",
       "  Age SibSp Parch Ticket     Fare   Cabin Embarked\n",
       "1 39  0     5     382652     29.125 NA    Q       \n",
       "2 27  0     0     211536     13.000 NA    S       \n",
       "3 19  0     0     112053     30.000 B42   S       \n",
       "4 NA  1     2     W./C. 6607 23.450 NA    S       \n",
       "5 26  0     0     111369     30.000 C148  C       \n",
       "6 32  0     0     370376      7.750 NA    Q       "
      ]
     },
     "metadata": {},
     "output_type": "display_data"
    }
   ],
   "source": [
    "# First five rows in test data.\n",
    "train_df %>% tail()"
   ]
  },
  {
   "cell_type": "markdown",
   "id": "0536c4fb-2038-461a-8ba2-61ba88075b32",
   "metadata": {
    "id": "0536c4fb-2038-461a-8ba2-61ba88075b32"
   },
   "source": [
    "### ii) Rows in test data\n",
    "\n",
    "<p>View test dataframe top and bottom rows</p>\n"
   ]
  },
  {
   "cell_type": "code",
   "execution_count": 18,
   "id": "88078d46-6871-4db1-81d8-8b514b2eaa9b",
   "metadata": {
    "ExecuteTime": {
     "end_time": "2025-10-03T22:37:11.024057Z",
     "start_time": "2025-10-03T22:37:10.982854Z"
    },
    "colab": {
     "base_uri": "https://localhost:8080/",
     "height": 483
    },
    "id": "88078d46-6871-4db1-81d8-8b514b2eaa9b",
    "outputId": "859af79c-0546-4617-aa00-0562f24b89af",
    "vscode": {
     "languageId": "r"
    }
   },
   "outputs": [
    {
     "data": {
      "text/html": [
       "<table class=\"dataframe\">\n",
       "<caption>A tibble: 6 × 11</caption>\n",
       "<thead>\n",
       "\t<tr><th scope=col>PassengerId</th><th scope=col>Pclass</th><th scope=col>Name</th><th scope=col>Sex</th><th scope=col>Age</th><th scope=col>SibSp</th><th scope=col>Parch</th><th scope=col>Ticket</th><th scope=col>Fare</th><th scope=col>Cabin</th><th scope=col>Embarked</th></tr>\n",
       "\t<tr><th scope=col>&lt;dbl&gt;</th><th scope=col>&lt;dbl&gt;</th><th scope=col>&lt;chr&gt;</th><th scope=col>&lt;chr&gt;</th><th scope=col>&lt;dbl&gt;</th><th scope=col>&lt;dbl&gt;</th><th scope=col>&lt;dbl&gt;</th><th scope=col>&lt;chr&gt;</th><th scope=col>&lt;dbl&gt;</th><th scope=col>&lt;chr&gt;</th><th scope=col>&lt;chr&gt;</th></tr>\n",
       "</thead>\n",
       "<tbody>\n",
       "\t<tr><td>892</td><td>3</td><td>Kelly, Mr. James                            </td><td>male  </td><td>34.5</td><td>0</td><td>0</td><td>330911 </td><td> 7.8292</td><td>NA</td><td>Q</td></tr>\n",
       "\t<tr><td>893</td><td>3</td><td>Wilkes, Mrs. James (Ellen Needs)            </td><td>female</td><td>47.0</td><td>1</td><td>0</td><td>363272 </td><td> 7.0000</td><td>NA</td><td>S</td></tr>\n",
       "\t<tr><td>894</td><td>2</td><td>Myles, Mr. Thomas Francis                   </td><td>male  </td><td>62.0</td><td>0</td><td>0</td><td>240276 </td><td> 9.6875</td><td>NA</td><td>Q</td></tr>\n",
       "\t<tr><td>895</td><td>3</td><td>Wirz, Mr. Albert                            </td><td>male  </td><td>27.0</td><td>0</td><td>0</td><td>315154 </td><td> 8.6625</td><td>NA</td><td>S</td></tr>\n",
       "\t<tr><td>896</td><td>3</td><td>Hirvonen, Mrs. Alexander (Helga E Lindqvist)</td><td>female</td><td>22.0</td><td>1</td><td>1</td><td>3101298</td><td>12.2875</td><td>NA</td><td>S</td></tr>\n",
       "\t<tr><td>897</td><td>3</td><td>Svensson, Mr. Johan Cervin                  </td><td>male  </td><td>14.0</td><td>0</td><td>0</td><td>7538   </td><td> 9.2250</td><td>NA</td><td>S</td></tr>\n",
       "</tbody>\n",
       "</table>\n"
      ],
      "text/latex": [
       "A tibble: 6 × 11\n",
       "\\begin{tabular}{lllllllllll}\n",
       " PassengerId & Pclass & Name & Sex & Age & SibSp & Parch & Ticket & Fare & Cabin & Embarked\\\\\n",
       " <dbl> & <dbl> & <chr> & <chr> & <dbl> & <dbl> & <dbl> & <chr> & <dbl> & <chr> & <chr>\\\\\n",
       "\\hline\n",
       "\t 892 & 3 & Kelly, Mr. James                             & male   & 34.5 & 0 & 0 & 330911  &  7.8292 & NA & Q\\\\\n",
       "\t 893 & 3 & Wilkes, Mrs. James (Ellen Needs)             & female & 47.0 & 1 & 0 & 363272  &  7.0000 & NA & S\\\\\n",
       "\t 894 & 2 & Myles, Mr. Thomas Francis                    & male   & 62.0 & 0 & 0 & 240276  &  9.6875 & NA & Q\\\\\n",
       "\t 895 & 3 & Wirz, Mr. Albert                             & male   & 27.0 & 0 & 0 & 315154  &  8.6625 & NA & S\\\\\n",
       "\t 896 & 3 & Hirvonen, Mrs. Alexander (Helga E Lindqvist) & female & 22.0 & 1 & 1 & 3101298 & 12.2875 & NA & S\\\\\n",
       "\t 897 & 3 & Svensson, Mr. Johan Cervin                   & male   & 14.0 & 0 & 0 & 7538    &  9.2250 & NA & S\\\\\n",
       "\\end{tabular}\n"
      ],
      "text/markdown": [
       "\n",
       "A tibble: 6 × 11\n",
       "\n",
       "| PassengerId &lt;dbl&gt; | Pclass &lt;dbl&gt; | Name &lt;chr&gt; | Sex &lt;chr&gt; | Age &lt;dbl&gt; | SibSp &lt;dbl&gt; | Parch &lt;dbl&gt; | Ticket &lt;chr&gt; | Fare &lt;dbl&gt; | Cabin &lt;chr&gt; | Embarked &lt;chr&gt; |\n",
       "|---|---|---|---|---|---|---|---|---|---|---|\n",
       "| 892 | 3 | Kelly, Mr. James                             | male   | 34.5 | 0 | 0 | 330911  |  7.8292 | NA | Q |\n",
       "| 893 | 3 | Wilkes, Mrs. James (Ellen Needs)             | female | 47.0 | 1 | 0 | 363272  |  7.0000 | NA | S |\n",
       "| 894 | 2 | Myles, Mr. Thomas Francis                    | male   | 62.0 | 0 | 0 | 240276  |  9.6875 | NA | Q |\n",
       "| 895 | 3 | Wirz, Mr. Albert                             | male   | 27.0 | 0 | 0 | 315154  |  8.6625 | NA | S |\n",
       "| 896 | 3 | Hirvonen, Mrs. Alexander (Helga E Lindqvist) | female | 22.0 | 1 | 1 | 3101298 | 12.2875 | NA | S |\n",
       "| 897 | 3 | Svensson, Mr. Johan Cervin                   | male   | 14.0 | 0 | 0 | 7538    |  9.2250 | NA | S |\n",
       "\n"
      ],
      "text/plain": [
       "  PassengerId Pclass Name                                         Sex    Age \n",
       "1 892         3      Kelly, Mr. James                             male   34.5\n",
       "2 893         3      Wilkes, Mrs. James (Ellen Needs)             female 47.0\n",
       "3 894         2      Myles, Mr. Thomas Francis                    male   62.0\n",
       "4 895         3      Wirz, Mr. Albert                             male   27.0\n",
       "5 896         3      Hirvonen, Mrs. Alexander (Helga E Lindqvist) female 22.0\n",
       "6 897         3      Svensson, Mr. Johan Cervin                   male   14.0\n",
       "  SibSp Parch Ticket  Fare    Cabin Embarked\n",
       "1 0     0     330911   7.8292 NA    Q       \n",
       "2 1     0     363272   7.0000 NA    S       \n",
       "3 0     0     240276   9.6875 NA    Q       \n",
       "4 0     0     315154   8.6625 NA    S       \n",
       "5 1     1     3101298 12.2875 NA    S       \n",
       "6 0     0     7538     9.2250 NA    S       "
      ]
     },
     "metadata": {},
     "output_type": "display_data"
    }
   ],
   "source": [
    "# First five rows in test data.\n",
    "test_df %>% head()"
   ]
  },
  {
   "cell_type": "code",
   "execution_count": 19,
   "id": "a0faa19e-fd81-49c2-8762-fd85533b6868",
   "metadata": {
    "ExecuteTime": {
     "end_time": "2025-10-03T22:37:11.079153Z",
     "start_time": "2025-10-03T22:37:11.043846Z"
    },
    "colab": {
     "base_uri": "https://localhost:8080/",
     "height": 466
    },
    "id": "a0faa19e-fd81-49c2-8762-fd85533b6868",
    "outputId": "3845e917-0f60-49ef-e2a8-189808d9f91f",
    "vscode": {
     "languageId": "r"
    }
   },
   "outputs": [
    {
     "data": {
      "text/html": [
       "<table class=\"dataframe\">\n",
       "<caption>A tibble: 6 × 11</caption>\n",
       "<thead>\n",
       "\t<tr><th scope=col>PassengerId</th><th scope=col>Pclass</th><th scope=col>Name</th><th scope=col>Sex</th><th scope=col>Age</th><th scope=col>SibSp</th><th scope=col>Parch</th><th scope=col>Ticket</th><th scope=col>Fare</th><th scope=col>Cabin</th><th scope=col>Embarked</th></tr>\n",
       "\t<tr><th scope=col>&lt;dbl&gt;</th><th scope=col>&lt;dbl&gt;</th><th scope=col>&lt;chr&gt;</th><th scope=col>&lt;chr&gt;</th><th scope=col>&lt;dbl&gt;</th><th scope=col>&lt;dbl&gt;</th><th scope=col>&lt;dbl&gt;</th><th scope=col>&lt;chr&gt;</th><th scope=col>&lt;dbl&gt;</th><th scope=col>&lt;chr&gt;</th><th scope=col>&lt;chr&gt;</th></tr>\n",
       "</thead>\n",
       "<tbody>\n",
       "\t<tr><td>1304</td><td>3</td><td>Henriksson, Miss. Jenny Lovisa</td><td>female</td><td>28.0</td><td>0</td><td>0</td><td>347086            </td><td>  7.7750</td><td>NA  </td><td>S</td></tr>\n",
       "\t<tr><td>1305</td><td>3</td><td>Spector, Mr. Woolf            </td><td>male  </td><td>  NA</td><td>0</td><td>0</td><td>A.5. 3236         </td><td>  8.0500</td><td>NA  </td><td>S</td></tr>\n",
       "\t<tr><td>1306</td><td>1</td><td>Oliva y Ocana, Dona. Fermina  </td><td>female</td><td>39.0</td><td>0</td><td>0</td><td>PC 17758          </td><td>108.9000</td><td>C105</td><td>C</td></tr>\n",
       "\t<tr><td>1307</td><td>3</td><td>Saether, Mr. Simon Sivertsen  </td><td>male  </td><td>38.5</td><td>0</td><td>0</td><td>SOTON/O.Q. 3101262</td><td>  7.2500</td><td>NA  </td><td>S</td></tr>\n",
       "\t<tr><td>1308</td><td>3</td><td>Ware, Mr. Frederick           </td><td>male  </td><td>  NA</td><td>0</td><td>0</td><td>359309            </td><td>  8.0500</td><td>NA  </td><td>S</td></tr>\n",
       "\t<tr><td>1309</td><td>3</td><td>Peter, Master. Michael J      </td><td>male  </td><td>  NA</td><td>1</td><td>1</td><td>2668              </td><td> 22.3583</td><td>NA  </td><td>C</td></tr>\n",
       "</tbody>\n",
       "</table>\n"
      ],
      "text/latex": [
       "A tibble: 6 × 11\n",
       "\\begin{tabular}{lllllllllll}\n",
       " PassengerId & Pclass & Name & Sex & Age & SibSp & Parch & Ticket & Fare & Cabin & Embarked\\\\\n",
       " <dbl> & <dbl> & <chr> & <chr> & <dbl> & <dbl> & <dbl> & <chr> & <dbl> & <chr> & <chr>\\\\\n",
       "\\hline\n",
       "\t 1304 & 3 & Henriksson, Miss. Jenny Lovisa & female & 28.0 & 0 & 0 & 347086             &   7.7750 & NA   & S\\\\\n",
       "\t 1305 & 3 & Spector, Mr. Woolf             & male   &   NA & 0 & 0 & A.5. 3236          &   8.0500 & NA   & S\\\\\n",
       "\t 1306 & 1 & Oliva y Ocana, Dona. Fermina   & female & 39.0 & 0 & 0 & PC 17758           & 108.9000 & C105 & C\\\\\n",
       "\t 1307 & 3 & Saether, Mr. Simon Sivertsen   & male   & 38.5 & 0 & 0 & SOTON/O.Q. 3101262 &   7.2500 & NA   & S\\\\\n",
       "\t 1308 & 3 & Ware, Mr. Frederick            & male   &   NA & 0 & 0 & 359309             &   8.0500 & NA   & S\\\\\n",
       "\t 1309 & 3 & Peter, Master. Michael J       & male   &   NA & 1 & 1 & 2668               &  22.3583 & NA   & C\\\\\n",
       "\\end{tabular}\n"
      ],
      "text/markdown": [
       "\n",
       "A tibble: 6 × 11\n",
       "\n",
       "| PassengerId &lt;dbl&gt; | Pclass &lt;dbl&gt; | Name &lt;chr&gt; | Sex &lt;chr&gt; | Age &lt;dbl&gt; | SibSp &lt;dbl&gt; | Parch &lt;dbl&gt; | Ticket &lt;chr&gt; | Fare &lt;dbl&gt; | Cabin &lt;chr&gt; | Embarked &lt;chr&gt; |\n",
       "|---|---|---|---|---|---|---|---|---|---|---|\n",
       "| 1304 | 3 | Henriksson, Miss. Jenny Lovisa | female | 28.0 | 0 | 0 | 347086             |   7.7750 | NA   | S |\n",
       "| 1305 | 3 | Spector, Mr. Woolf             | male   |   NA | 0 | 0 | A.5. 3236          |   8.0500 | NA   | S |\n",
       "| 1306 | 1 | Oliva y Ocana, Dona. Fermina   | female | 39.0 | 0 | 0 | PC 17758           | 108.9000 | C105 | C |\n",
       "| 1307 | 3 | Saether, Mr. Simon Sivertsen   | male   | 38.5 | 0 | 0 | SOTON/O.Q. 3101262 |   7.2500 | NA   | S |\n",
       "| 1308 | 3 | Ware, Mr. Frederick            | male   |   NA | 0 | 0 | 359309             |   8.0500 | NA   | S |\n",
       "| 1309 | 3 | Peter, Master. Michael J       | male   |   NA | 1 | 1 | 2668               |  22.3583 | NA   | C |\n",
       "\n"
      ],
      "text/plain": [
       "  PassengerId Pclass Name                           Sex    Age  SibSp Parch\n",
       "1 1304        3      Henriksson, Miss. Jenny Lovisa female 28.0 0     0    \n",
       "2 1305        3      Spector, Mr. Woolf             male     NA 0     0    \n",
       "3 1306        1      Oliva y Ocana, Dona. Fermina   female 39.0 0     0    \n",
       "4 1307        3      Saether, Mr. Simon Sivertsen   male   38.5 0     0    \n",
       "5 1308        3      Ware, Mr. Frederick            male     NA 0     0    \n",
       "6 1309        3      Peter, Master. Michael J       male     NA 1     1    \n",
       "  Ticket             Fare     Cabin Embarked\n",
       "1 347086               7.7750 NA    S       \n",
       "2 A.5. 3236            8.0500 NA    S       \n",
       "3 PC 17758           108.9000 C105  C       \n",
       "4 SOTON/O.Q. 3101262   7.2500 NA    S       \n",
       "5 359309               8.0500 NA    S       \n",
       "6 2668                22.3583 NA    C       "
      ]
     },
     "metadata": {},
     "output_type": "display_data"
    }
   ],
   "source": [
    "# Last five rows in test data\n",
    "test_df %>% tail()"
   ]
  },
  {
   "cell_type": "markdown",
   "id": "f84d908d-24e9-432a-ae38-b51af16ff6a6",
   "metadata": {
    "id": "f84d908d-24e9-432a-ae38-b51af16ff6a6"
   },
   "source": [
    "### iii) Data description\n",
    "\n",
    "<p>Get the know the datasets</p>\n"
   ]
  },
  {
   "cell_type": "markdown",
   "id": "47a11837-d1d5-4f7c-8a57-4f59cb2c7f71",
   "metadata": {
    "id": "47a11837-d1d5-4f7c-8a57-4f59cb2c7f71"
   },
   "source": [
    "#### a) Data shapes\n"
   ]
  },
  {
   "cell_type": "code",
   "execution_count": 24,
   "id": "4def610c-0540-4075-81bf-47a088d99a52",
   "metadata": {
    "ExecuteTime": {
     "end_time": "2025-10-03T22:37:11.103969Z",
     "start_time": "2025-10-03T22:37:11.094751Z"
    },
    "colab": {
     "base_uri": "https://localhost:8080/"
    },
    "id": "4def610c-0540-4075-81bf-47a088d99a52",
    "outputId": "b6690c2f-a2e0-45f4-efe5-364f9d3ee004",
    "vscode": {
     "languageId": "r"
    }
   },
   "outputs": [
    {
     "name": "stdout",
     "output_type": "stream",
     "text": [
      "Train shape:\n",
      "\trows: 891\n",
      "\tcolumns: 12"
     ]
    }
   ],
   "source": [
    "# Train dataframe shape.\n",
    "train_shape <- train_df %>% dim()\n",
    "display_shape <- sprintf(\"Train shape:\\n\\trows: %s\\n\\tcolumns: %s\", train_shape[1], train_shape[2])\n",
    "cat(display_shape)"
   ]
  },
  {
   "cell_type": "code",
   "execution_count": 25,
   "id": "b63684ac-85aa-45fe-8dc0-a16df2ffe964",
   "metadata": {
    "ExecuteTime": {
     "end_time": "2025-10-03T22:37:11.135301Z",
     "start_time": "2025-10-03T22:37:11.118926Z"
    },
    "colab": {
     "base_uri": "https://localhost:8080/"
    },
    "id": "b63684ac-85aa-45fe-8dc0-a16df2ffe964",
    "outputId": "caef9559-8644-4769-fc19-7779100c8e40",
    "vscode": {
     "languageId": "r"
    }
   },
   "outputs": [
    {
     "name": "stdout",
     "output_type": "stream",
     "text": [
      "Test shape:\n",
      "\trows: 418\n",
      "\tcolumns: 11"
     ]
    }
   ],
   "source": [
    "# Test dataframe shape.\n",
    "test_shape = test_df %>% dim()\n",
    "display_shape <- sprintf(\"Test shape:\\n\\trows: %s\\n\\tcolumns: %s\", test_shape[1], test_shape[2])\n",
    "cat(display_shape)"
   ]
  },
  {
   "cell_type": "markdown",
   "id": "661ad635-c7dc-4e83-8723-6ba88129b4a9",
   "metadata": {
    "id": "661ad635-c7dc-4e83-8723-6ba88129b4a9"
   },
   "source": [
    "#### b) Data column names\n"
   ]
  },
  {
   "cell_type": "code",
   "execution_count": 27,
   "id": "52caf66e-5b37-467a-abd0-343e21e9a10b",
   "metadata": {
    "ExecuteTime": {
     "end_time": "2025-10-03T22:37:11.188101Z",
     "start_time": "2025-10-03T22:37:11.172184Z"
    },
    "colab": {
     "base_uri": "https://localhost:8080/"
    },
    "id": "52caf66e-5b37-467a-abd0-343e21e9a10b",
    "outputId": "1c1b7f05-ff81-47ba-e38f-b5e0a01bb2e4",
    "vscode": {
     "languageId": "r"
    }
   },
   "outputs": [
    {
     "name": "stdout",
     "output_type": "stream",
     "text": [
      "PassengerId Survived Pclass Name Sex Age SibSp Parch Ticket Fare Cabin Embarked"
     ]
    }
   ],
   "source": [
    "columns <- train_df %>% colnames()\n",
    "cat(columns)"
   ]
  },
  {
   "cell_type": "code",
   "execution_count": null,
   "id": "fb0b0807-4c82-4ddf-8173-e49b8aea134a",
   "metadata": {
    "ExecuteTime": {
     "end_time": "2025-10-03T22:37:11.239167Z",
     "start_time": "2025-10-03T22:37:11.206766Z"
    },
    "colab": {
     "base_uri": "https://localhost:8080/",
     "height": 467
    },
    "id": "fb0b0807-4c82-4ddf-8173-e49b8aea134a",
    "outputId": "79ec1afb-bb77-4fce-c604-c1432235c8d2",
    "vscode": {
     "languageId": "r"
    }
   },
   "outputs": [
    {
     "data": {
      "text/plain": [
       "Survived      int64\n",
       "Pclass        int64\n",
       "Name         object\n",
       "Sex          object\n",
       "Age         float64\n",
       "SibSp         int64\n",
       "Parch         int64\n",
       "Ticket       object\n",
       "Fare        float64\n",
       "Cabin        object\n",
       "Embarked     object\n",
       "dtype: object"
      ]
     },
     "execution_count": 13,
     "metadata": {},
     "output_type": "execute_result"
    }
   ],
   "source": [
    "train_df.dtypes"
   ]
  },
  {
   "cell_type": "markdown",
   "id": "ebbff283-1f8a-4b69-8e9a-2e1c64e63ac9",
   "metadata": {
    "id": "ebbff283-1f8a-4b69-8e9a-2e1c64e63ac9",
    "jp-MarkdownHeadingCollapsed": true
   },
   "source": [
    "#### i) Converting train data frame low unique values\n"
   ]
  },
  {
   "cell_type": "code",
   "execution_count": null,
   "id": "7893e5bb-4395-4727-9147-a073fa28a783",
   "metadata": {
    "ExecuteTime": {
     "end_time": "2025-10-03T22:37:11.325816Z",
     "start_time": "2025-10-03T22:37:11.254852Z"
    },
    "colab": {
     "base_uri": "https://localhost:8080/",
     "height": 467
    },
    "id": "7893e5bb-4395-4727-9147-a073fa28a783",
    "outputId": "4c9bfbd2-a14b-4029-c096-b475d9afb890",
    "vscode": {
     "languageId": "r"
    }
   },
   "outputs": [
    {
     "data": {
      "text/plain": [
       "Survived     object\n",
       "Pclass       object\n",
       "Name         object\n",
       "Sex          object\n",
       "Age         float64\n",
       "SibSp        object\n",
       "Parch        object\n",
       "Ticket       object\n",
       "Fare        float64\n",
       "Cabin        object\n",
       "Embarked     object\n",
       "dtype: object"
      ]
     },
     "execution_count": 14,
     "metadata": {},
     "output_type": "execute_result"
    }
   ],
   "source": [
    "def convert_low_unique_value_to_str(data: pd.DataFrame) -> pd.DataFrame:\n",
    "    \"\"\"\n",
    "    Convert low unique values columns to string.\n",
    "\n",
    "    Args\n",
    "    ----\n",
    "    data: Dataframe to change low unique columns.\n",
    "\n",
    "    :return: Dataframe.\n",
    "    \"\"\"\n",
    "    # Change Survived, Pclass, SibSp and Parch to string data type for analysis.\n",
    "    data_copy = data.copy()\n",
    "\n",
    "    # Loop over the column name to turn to object\n",
    "    for col in (\"Survived\", \"Pclass\", \"SibSp\", \"Parch\"):\n",
    "        data_copy[col] = data_copy[col].astype(str)\n",
    "\n",
    "    return data_copy\n",
    "\n",
    "\n",
    "ana_train_data = convert_low_unique_value_to_str(train_df)\n",
    "ana_train_data.dtypes"
   ]
  },
  {
   "cell_type": "markdown",
   "id": "75b20ce5-4741-499c-9c5e-d519e4d77e0b",
   "metadata": {
    "id": "75b20ce5-4741-499c-9c5e-d519e4d77e0b"
   },
   "source": [
    "#### c) Data information\n"
   ]
  },
  {
   "cell_type": "code",
   "execution_count": null,
   "id": "e2195c1e-4272-4d56-a94c-591458c1eb7c",
   "metadata": {
    "ExecuteTime": {
     "end_time": "2025-10-03T22:37:11.471277Z",
     "start_time": "2025-10-03T22:37:11.339721Z"
    },
    "colab": {
     "base_uri": "https://localhost:8080/"
    },
    "id": "e2195c1e-4272-4d56-a94c-591458c1eb7c",
    "outputId": "8dcb7d66-1ca3-4137-c1fe-1d6e08f753fd",
    "scrolled": true,
    "vscode": {
     "languageId": "r"
    }
   },
   "outputs": [
    {
     "name": "stdout",
     "output_type": "stream",
     "text": [
      "<class 'pandas.core.frame.DataFrame'>\n",
      "Index: 891 entries, 1 to 891\n",
      "Data columns (total 11 columns):\n",
      " #   Column    Non-Null Count  Dtype  \n",
      "---  ------    --------------  -----  \n",
      " 0   Survived  891 non-null    int64  \n",
      " 1   Pclass    891 non-null    int64  \n",
      " 2   Name      891 non-null    object \n",
      " 3   Sex       891 non-null    object \n",
      " 4   Age       714 non-null    float64\n",
      " 5   SibSp     891 non-null    int64  \n",
      " 6   Parch     891 non-null    int64  \n",
      " 7   Ticket    891 non-null    object \n",
      " 8   Fare      891 non-null    float64\n",
      " 9   Cabin     204 non-null    object \n",
      " 10  Embarked  889 non-null    object \n",
      "dtypes: float64(2), int64(4), object(5)\n",
      "memory usage: 83.5+ KB\n"
     ]
    }
   ],
   "source": [
    "# Train data information.\n",
    "train_df.info()"
   ]
  },
  {
   "cell_type": "code",
   "execution_count": null,
   "id": "00a99b72-fc52-4d0a-afad-800dc763f356",
   "metadata": {
    "ExecuteTime": {
     "end_time": "2025-10-03T22:37:11.500818Z",
     "start_time": "2025-10-03T22:37:11.484785Z"
    },
    "colab": {
     "base_uri": "https://localhost:8080/"
    },
    "id": "00a99b72-fc52-4d0a-afad-800dc763f356",
    "outputId": "5b9d7b15-e5b7-42c2-c9ea-e1d28e9085b8",
    "vscode": {
     "languageId": "r"
    }
   },
   "outputs": [
    {
     "name": "stdout",
     "output_type": "stream",
     "text": [
      "<class 'pandas.core.frame.DataFrame'>\n",
      "Index: 418 entries, 892 to 1309\n",
      "Data columns (total 10 columns):\n",
      " #   Column    Non-Null Count  Dtype  \n",
      "---  ------    --------------  -----  \n",
      " 0   Pclass    418 non-null    int64  \n",
      " 1   Name      418 non-null    object \n",
      " 2   Sex       418 non-null    object \n",
      " 3   Age       332 non-null    float64\n",
      " 4   SibSp     418 non-null    int64  \n",
      " 5   Parch     418 non-null    int64  \n",
      " 6   Ticket    418 non-null    object \n",
      " 7   Fare      417 non-null    float64\n",
      " 8   Cabin     91 non-null     object \n",
      " 9   Embarked  418 non-null    object \n",
      "dtypes: float64(2), int64(3), object(5)\n",
      "memory usage: 35.9+ KB\n"
     ]
    }
   ],
   "source": [
    "# Test data information\n",
    "test_df.info()"
   ]
  },
  {
   "cell_type": "markdown",
   "id": "28e7e1c4-8686-42da-8cd3-57d8cef62f0f",
   "metadata": {
    "id": "28e7e1c4-8686-42da-8cd3-57d8cef62f0f",
    "jp-MarkdownHeadingCollapsed": true
   },
   "source": [
    "#### d) Describing the data\n"
   ]
  },
  {
   "cell_type": "code",
   "execution_count": null,
   "id": "99816fe2-5087-4d0f-ac8d-eb19a2d75409",
   "metadata": {
    "ExecuteTime": {
     "end_time": "2025-10-03T22:37:11.613180Z",
     "start_time": "2025-10-03T22:37:11.514933Z"
    },
    "colab": {
     "base_uri": "https://localhost:8080/",
     "height": 258
    },
    "id": "99816fe2-5087-4d0f-ac8d-eb19a2d75409",
    "outputId": "3b950e70-86f6-4fa8-a694-9c68345bd429",
    "vscode": {
     "languageId": "r"
    }
   },
   "outputs": [
    {
     "data": {
      "text/html": [
       "<div>\n",
       "<style scoped>\n",
       "    .dataframe tbody tr th:only-of-type {\n",
       "        vertical-align: middle;\n",
       "    }\n",
       "\n",
       "    .dataframe tbody tr th {\n",
       "        vertical-align: top;\n",
       "    }\n",
       "\n",
       "    .dataframe thead th {\n",
       "        text-align: right;\n",
       "    }\n",
       "</style>\n",
       "<table border=\"1\" class=\"dataframe\">\n",
       "  <thead>\n",
       "    <tr style=\"text-align: right;\">\n",
       "      <th></th>\n",
       "      <th>count</th>\n",
       "      <th>mean</th>\n",
       "      <th>std</th>\n",
       "      <th>min</th>\n",
       "      <th>25%</th>\n",
       "      <th>50%</th>\n",
       "      <th>75%</th>\n",
       "      <th>max</th>\n",
       "    </tr>\n",
       "  </thead>\n",
       "  <tbody>\n",
       "    <tr>\n",
       "      <th>Survived</th>\n",
       "      <td>891.0</td>\n",
       "      <td>0.383838</td>\n",
       "      <td>0.486592</td>\n",
       "      <td>0.00</td>\n",
       "      <td>0.0000</td>\n",
       "      <td>0.0000</td>\n",
       "      <td>1.0</td>\n",
       "      <td>1.0000</td>\n",
       "    </tr>\n",
       "    <tr>\n",
       "      <th>Pclass</th>\n",
       "      <td>891.0</td>\n",
       "      <td>2.308642</td>\n",
       "      <td>0.836071</td>\n",
       "      <td>1.00</td>\n",
       "      <td>2.0000</td>\n",
       "      <td>3.0000</td>\n",
       "      <td>3.0</td>\n",
       "      <td>3.0000</td>\n",
       "    </tr>\n",
       "    <tr>\n",
       "      <th>Age</th>\n",
       "      <td>714.0</td>\n",
       "      <td>29.699118</td>\n",
       "      <td>14.526497</td>\n",
       "      <td>0.42</td>\n",
       "      <td>20.1250</td>\n",
       "      <td>28.0000</td>\n",
       "      <td>38.0</td>\n",
       "      <td>80.0000</td>\n",
       "    </tr>\n",
       "    <tr>\n",
       "      <th>SibSp</th>\n",
       "      <td>891.0</td>\n",
       "      <td>0.523008</td>\n",
       "      <td>1.102743</td>\n",
       "      <td>0.00</td>\n",
       "      <td>0.0000</td>\n",
       "      <td>0.0000</td>\n",
       "      <td>1.0</td>\n",
       "      <td>8.0000</td>\n",
       "    </tr>\n",
       "    <tr>\n",
       "      <th>Parch</th>\n",
       "      <td>891.0</td>\n",
       "      <td>0.381594</td>\n",
       "      <td>0.806057</td>\n",
       "      <td>0.00</td>\n",
       "      <td>0.0000</td>\n",
       "      <td>0.0000</td>\n",
       "      <td>0.0</td>\n",
       "      <td>6.0000</td>\n",
       "    </tr>\n",
       "    <tr>\n",
       "      <th>Fare</th>\n",
       "      <td>891.0</td>\n",
       "      <td>32.204208</td>\n",
       "      <td>49.693429</td>\n",
       "      <td>0.00</td>\n",
       "      <td>7.9104</td>\n",
       "      <td>14.4542</td>\n",
       "      <td>31.0</td>\n",
       "      <td>512.3292</td>\n",
       "    </tr>\n",
       "  </tbody>\n",
       "</table>\n",
       "</div>"
      ],
      "text/plain": [
       "          count       mean        std   min      25%      50%   75%       max\n",
       "Survived  891.0   0.383838   0.486592  0.00   0.0000   0.0000   1.0    1.0000\n",
       "Pclass    891.0   2.308642   0.836071  1.00   2.0000   3.0000   3.0    3.0000\n",
       "Age       714.0  29.699118  14.526497  0.42  20.1250  28.0000  38.0   80.0000\n",
       "SibSp     891.0   0.523008   1.102743  0.00   0.0000   0.0000   1.0    8.0000\n",
       "Parch     891.0   0.381594   0.806057  0.00   0.0000   0.0000   0.0    6.0000\n",
       "Fare      891.0  32.204208  49.693429  0.00   7.9104  14.4542  31.0  512.3292"
      ]
     },
     "execution_count": 17,
     "metadata": {},
     "output_type": "execute_result"
    }
   ],
   "source": [
    "# Train dataframe description\n",
    "train_df.describe().T"
   ]
  },
  {
   "cell_type": "markdown",
   "id": "6b78a8b5-4a3a-44df-8b29-fd956f3f36b2",
   "metadata": {
    "id": "6b78a8b5-4a3a-44df-8b29-fd956f3f36b2"
   },
   "source": [
    "<p style=\"font-weight: bold; font-style: italic;\">Description of numerical columns in train data</p>\n"
   ]
  },
  {
   "cell_type": "code",
   "execution_count": null,
   "id": "8e98c0a0-b78a-4b22-9851-e027d73f1ddc",
   "metadata": {
    "ExecuteTime": {
     "end_time": "2025-10-03T22:37:11.695382Z",
     "start_time": "2025-10-03T22:37:11.636696Z"
    },
    "colab": {
     "base_uri": "https://localhost:8080/",
     "height": 132
    },
    "id": "8e98c0a0-b78a-4b22-9851-e027d73f1ddc",
    "outputId": "26641692-4a7a-4e26-d300-f3791a247a71",
    "vscode": {
     "languageId": "r"
    }
   },
   "outputs": [
    {
     "data": {
      "text/html": [
       "<div>\n",
       "<style scoped>\n",
       "    .dataframe tbody tr th:only-of-type {\n",
       "        vertical-align: middle;\n",
       "    }\n",
       "\n",
       "    .dataframe tbody tr th {\n",
       "        vertical-align: top;\n",
       "    }\n",
       "\n",
       "    .dataframe thead th {\n",
       "        text-align: right;\n",
       "    }\n",
       "</style>\n",
       "<table border=\"1\" class=\"dataframe\">\n",
       "  <thead>\n",
       "    <tr style=\"text-align: right;\">\n",
       "      <th></th>\n",
       "      <th>count</th>\n",
       "      <th>mean</th>\n",
       "      <th>std</th>\n",
       "      <th>min</th>\n",
       "      <th>25%</th>\n",
       "      <th>50%</th>\n",
       "      <th>75%</th>\n",
       "      <th>max</th>\n",
       "    </tr>\n",
       "  </thead>\n",
       "  <tbody>\n",
       "    <tr>\n",
       "      <th>Age</th>\n",
       "      <td>714.0</td>\n",
       "      <td>29.699118</td>\n",
       "      <td>14.526497</td>\n",
       "      <td>0.42</td>\n",
       "      <td>20.1250</td>\n",
       "      <td>28.0000</td>\n",
       "      <td>38.0</td>\n",
       "      <td>80.0000</td>\n",
       "    </tr>\n",
       "    <tr>\n",
       "      <th>Fare</th>\n",
       "      <td>891.0</td>\n",
       "      <td>32.204208</td>\n",
       "      <td>49.693429</td>\n",
       "      <td>0.00</td>\n",
       "      <td>7.9104</td>\n",
       "      <td>14.4542</td>\n",
       "      <td>31.0</td>\n",
       "      <td>512.3292</td>\n",
       "    </tr>\n",
       "  </tbody>\n",
       "</table>\n",
       "</div>"
      ],
      "text/plain": [
       "      count       mean        std   min      25%      50%   75%       max\n",
       "Age   714.0  29.699118  14.526497  0.42  20.1250  28.0000  38.0   80.0000\n",
       "Fare  891.0  32.204208  49.693429  0.00   7.9104  14.4542  31.0  512.3292"
      ]
     },
     "execution_count": 18,
     "metadata": {},
     "output_type": "execute_result"
    }
   ],
   "source": [
    "\n",
    "ana_train_data.describe().T"
   ]
  },
  {
   "cell_type": "markdown",
   "id": "35ab9832-dfa2-4df0-acf6-8a37171bbc5e",
   "metadata": {
    "id": "35ab9832-dfa2-4df0-acf6-8a37171bbc5e"
   },
   "source": [
    "<p style=\"font-weight: bold; font-style: italic;\">Description of categorical columns in train data</p>\n"
   ]
  },
  {
   "cell_type": "code",
   "execution_count": null,
   "id": "63ea916a-bff3-4558-a37c-3bcdd30354fd",
   "metadata": {
    "ExecuteTime": {
     "end_time": "2025-10-03T22:37:11.764133Z",
     "start_time": "2025-10-03T22:37:11.714781Z"
    },
    "colab": {
     "base_uri": "https://localhost:8080/",
     "height": 386
    },
    "id": "63ea916a-bff3-4558-a37c-3bcdd30354fd",
    "outputId": "62169e50-013a-45e8-83d5-2a9e2ee6bc8b",
    "vscode": {
     "languageId": "r"
    }
   },
   "outputs": [
    {
     "data": {
      "text/html": [
       "<div>\n",
       "<style scoped>\n",
       "    .dataframe tbody tr th:only-of-type {\n",
       "        vertical-align: middle;\n",
       "    }\n",
       "\n",
       "    .dataframe tbody tr th {\n",
       "        vertical-align: top;\n",
       "    }\n",
       "\n",
       "    .dataframe thead th {\n",
       "        text-align: right;\n",
       "    }\n",
       "</style>\n",
       "<table border=\"1\" class=\"dataframe\">\n",
       "  <thead>\n",
       "    <tr style=\"text-align: right;\">\n",
       "      <th></th>\n",
       "      <th>count</th>\n",
       "      <th>unique</th>\n",
       "      <th>top</th>\n",
       "      <th>freq</th>\n",
       "    </tr>\n",
       "  </thead>\n",
       "  <tbody>\n",
       "    <tr>\n",
       "      <th>Survived</th>\n",
       "      <td>891</td>\n",
       "      <td>2</td>\n",
       "      <td>0</td>\n",
       "      <td>549</td>\n",
       "    </tr>\n",
       "    <tr>\n",
       "      <th>Pclass</th>\n",
       "      <td>891</td>\n",
       "      <td>3</td>\n",
       "      <td>3</td>\n",
       "      <td>491</td>\n",
       "    </tr>\n",
       "    <tr>\n",
       "      <th>Name</th>\n",
       "      <td>891</td>\n",
       "      <td>891</td>\n",
       "      <td>Braund, Mr. Owen Harris</td>\n",
       "      <td>1</td>\n",
       "    </tr>\n",
       "    <tr>\n",
       "      <th>Sex</th>\n",
       "      <td>891</td>\n",
       "      <td>2</td>\n",
       "      <td>male</td>\n",
       "      <td>577</td>\n",
       "    </tr>\n",
       "    <tr>\n",
       "      <th>SibSp</th>\n",
       "      <td>891</td>\n",
       "      <td>7</td>\n",
       "      <td>0</td>\n",
       "      <td>608</td>\n",
       "    </tr>\n",
       "    <tr>\n",
       "      <th>Parch</th>\n",
       "      <td>891</td>\n",
       "      <td>7</td>\n",
       "      <td>0</td>\n",
       "      <td>678</td>\n",
       "    </tr>\n",
       "    <tr>\n",
       "      <th>Ticket</th>\n",
       "      <td>891</td>\n",
       "      <td>681</td>\n",
       "      <td>347082</td>\n",
       "      <td>7</td>\n",
       "    </tr>\n",
       "    <tr>\n",
       "      <th>Cabin</th>\n",
       "      <td>204</td>\n",
       "      <td>147</td>\n",
       "      <td>B96 B98</td>\n",
       "      <td>4</td>\n",
       "    </tr>\n",
       "    <tr>\n",
       "      <th>Embarked</th>\n",
       "      <td>889</td>\n",
       "      <td>3</td>\n",
       "      <td>S</td>\n",
       "      <td>644</td>\n",
       "    </tr>\n",
       "  </tbody>\n",
       "</table>\n",
       "</div>"
      ],
      "text/plain": [
       "         count unique                      top freq\n",
       "Survived   891      2                        0  549\n",
       "Pclass     891      3                        3  491\n",
       "Name       891    891  Braund, Mr. Owen Harris    1\n",
       "Sex        891      2                     male  577\n",
       "SibSp      891      7                        0  608\n",
       "Parch      891      7                        0  678\n",
       "Ticket     891    681                   347082    7\n",
       "Cabin      204    147                  B96 B98    4\n",
       "Embarked   889      3                        S  644"
      ]
     },
     "execution_count": 19,
     "metadata": {},
     "output_type": "execute_result"
    }
   ],
   "source": [
    "ana_train_data.describe(exclude=float).T"
   ]
  },
  {
   "cell_type": "markdown",
   "id": "a38b8daf-539e-475d-a891-30a3ae5a889c",
   "metadata": {
    "id": "a38b8daf-539e-475d-a891-30a3ae5a889c",
    "jp-MarkdownHeadingCollapsed": true
   },
   "source": [
    "## 5) **Data split**\n",
    "\n",
    "<p>Separate target from the data and then split the data into train and validation</p>\n"
   ]
  },
  {
   "cell_type": "code",
   "execution_count": null,
   "id": "fad4ae80-7c05-4dec-9503-d7fbe24ed6b1",
   "metadata": {
    "ExecuteTime": {
     "end_time": "2025-10-03T22:37:11.818152Z",
     "start_time": "2025-10-03T22:37:11.777403Z"
    },
    "colab": {
     "base_uri": "https://localhost:8080/"
    },
    "id": "fad4ae80-7c05-4dec-9503-d7fbe24ed6b1",
    "outputId": "132c3c7d-f0c8-4095-ec79-a9de15f7d8b0",
    "vscode": {
     "languageId": "r"
    }
   },
   "outputs": [
    {
     "name": "stdout",
     "output_type": "stream",
     "text": [
      "\n",
      "X shape: (891, 10)\n",
      "y shape: (891, 1)\n",
      "\n"
     ]
    }
   ],
   "source": [
    "# Target name.\n",
    "target_name = \"Survived\"\n",
    "\n",
    "# Separating target column from the feature columns.\n",
    "X = train_df.copy()\n",
    "y = X.pop(target_name).values.reshape(-1, 1)\n",
    "\n",
    "# View the shape X and y.\n",
    "print(f'''\n",
    "X shape: {X.shape}\n",
    "y shape: {y.shape}\n",
    "''')"
   ]
  },
  {
   "cell_type": "code",
   "execution_count": null,
   "id": "63f7c9e4-8401-461a-83ba-fea6e9f0249d",
   "metadata": {
    "ExecuteTime": {
     "end_time": "2025-10-03T22:37:11.909713Z",
     "start_time": "2025-10-03T22:37:11.832914Z"
    },
    "colab": {
     "base_uri": "https://localhost:8080/"
    },
    "id": "63f7c9e4-8401-461a-83ba-fea6e9f0249d",
    "outputId": "e32ab24b-7c65-4f4e-ea62-d5c467e0a4b5",
    "vscode": {
     "languageId": "r"
    }
   },
   "outputs": [
    {
     "name": "stdout",
     "output_type": "stream",
     "text": [
      "\n",
      "train_x shape: (668, 10)\n",
      "train_y shape: (668, 1)\n",
      "valid_x shape: (223, 10)\n",
      "valid_y shape: (223, 1)\n",
      "\n"
     ]
    }
   ],
   "source": [
    "# 25 percent will be for test data.\n",
    "test_size = 0.25\n",
    "\n",
    "# 🪓 Splitting data into train and validation data.\n",
    "train_x, valid_x, train_y, valid_y = train_test_split(\n",
    "    X, y, test_size=test_size)\n",
    "\n",
    "# View the shape of the data.\n",
    "print(f'''\n",
    "train_x shape: {train_x.shape}\n",
    "train_y shape: {train_y.shape}\n",
    "valid_x shape: {valid_x.shape}\n",
    "valid_y shape: {valid_y.shape}\n",
    "''')"
   ]
  },
  {
   "cell_type": "markdown",
   "id": "569db3f6-aed1-4a2f-ac8a-15126a314794",
   "metadata": {
    "id": "569db3f6-aed1-4a2f-ac8a-15126a314794",
    "jp-MarkdownHeadingCollapsed": true
   },
   "source": [
    "## 6) **Data cleaning**\n",
    "\n",
    "<p>Modifying or removing data that is inaccurate, duplicate, incomplete, incorrectly formatted, or corrupted</p>\n"
   ]
  },
  {
   "cell_type": "markdown",
   "id": "c5a53948-c255-4c5d-b190-13daf7c45ba9",
   "metadata": {
    "id": "c5a53948-c255-4c5d-b190-13daf7c45ba9"
   },
   "source": [
    "### i) Check the missing values (NaN)\n",
    "\n",
    "<p>Search for missing value in the dataframes</p>\n"
   ]
  },
  {
   "cell_type": "code",
   "execution_count": null,
   "id": "ab9ec910-cbff-4b63-ba07-07f2fbd15ea3",
   "metadata": {
    "ExecuteTime": {
     "end_time": "2025-10-03T22:37:11.943108Z",
     "start_time": "2025-10-03T22:37:11.928212Z"
    },
    "id": "ab9ec910-cbff-4b63-ba07-07f2fbd15ea3",
    "vscode": {
     "languageId": "r"
    }
   },
   "outputs": [],
   "source": [
    "def check_n_nan(data: pd.DataFrame, only_nan: bool = True) -> pd.DataFrame:\n",
    "    \"\"\"\n",
    "    Represents the summary of missing data in the\n",
    "    data frame.\n",
    "\n",
    "    Parameters:\n",
    "    ----------\n",
    "    data: A data frame to check for missing data.\n",
    "\n",
    "    return: A dataframe with number of missing value (NaN) and the percentage.\n",
    "    \"\"\"\n",
    "    # Compute the total NaN for each column.\n",
    "    total_nan = data.isna().sum()\n",
    "\n",
    "    if only_nan:\n",
    "        total_nan = total_nan[total_nan > 0]\n",
    "\n",
    "    # Columns\n",
    "    column_names = total_nan.index\n",
    "\n",
    "    # Compute the percentage of missing data.\n",
    "    percentage = (((total_nan / data.shape[0]) * 100)\n",
    "                  .round(2)\n",
    "                  .astype(str)\n",
    "                  .map(lambda x: x + '%')\n",
    "                  )\n",
    "\n",
    "    return pd.DataFrame({\n",
    "        'columns': column_names,\n",
    "        'total_nan': total_nan,\n",
    "        'percent_nan': percentage\n",
    "    }).reset_index(drop=True)"
   ]
  },
  {
   "cell_type": "code",
   "execution_count": null,
   "id": "71d6e8a8-1a60-4ce7-bfa2-cd93ae383fba",
   "metadata": {
    "ExecuteTime": {
     "end_time": "2025-10-03T22:37:11.984257Z",
     "start_time": "2025-10-03T22:37:11.965061Z"
    },
    "id": "71d6e8a8-1a60-4ce7-bfa2-cd93ae383fba",
    "jupyter": {
     "source_hidden": true
    },
    "vscode": {
     "languageId": "r"
    }
   },
   "outputs": [],
   "source": [
    "def plot_nan(data: pd.DataFrame, name: str | None = None, only_nan: bool = True, use_percent=False) -> None:\n",
    "    nan_df = check_n_nan(data, only_nan)\n",
    "    nan_df['percent_nan'] = nan_df['percent_nan'].str.replace(\n",
    "        '%', '').astype(float).round().astype(int)\n",
    "\n",
    "    radius = 5\n",
    "    y_name = 'percent_nan' if use_percent else 'total_nan'\n",
    "    startup_title = 'Percentage' if use_percent else 'Number'\n",
    "    y_title = f'{startup_title} of missing values'\n",
    "    y_name = alt.Y(y_name).title(y_title)\n",
    "    name = name if name else 'a dataset'\n",
    "    title = f'{startup_title} Of Missing values In {name.title()}'\n",
    "    subtitle = f'A chart represents missing data in {name}'\n",
    "\n",
    "    base = alt.Chart(\n",
    "        nan_df,\n",
    "        title=alt.Title(\n",
    "            title,\n",
    "            subtitle=subtitle,\n",
    "            anchor='start',\n",
    "        )\n",
    "    ).mark_bar(\n",
    "        cornerRadiusTopLeft=radius,\n",
    "        cornerRadiusTopRight=radius\n",
    "    ).encode(\n",
    "        x=alt.X('columns').title('Columns names'),\n",
    "        y=y_name,\n",
    "        color=alt.Color('columns').scale(\n",
    "            scheme='lightgreyred',\n",
    "            reverse=True\n",
    "        ).legend(orient='right'),\n",
    "        tooltip=[\"columns\", \"total_nan\", 'percent_nan'],\n",
    "        text='columns'\n",
    "    ).configure_axis(\n",
    "        grid=False\n",
    "    ).configure_view(\n",
    "        stroke=None\n",
    "    )\n",
    "\n",
    "    return base"
   ]
  },
  {
   "cell_type": "markdown",
   "id": "907a7417-4dc5-4c7a-89f1-f5ca107291fb",
   "metadata": {
    "id": "907a7417-4dc5-4c7a-89f1-f5ca107291fb"
   },
   "source": [
    "#### a) Observing missing data in train and validation data\n"
   ]
  },
  {
   "cell_type": "markdown",
   "id": "d222933d-935b-48e9-ada5-9f5487dc2158",
   "metadata": {
    "id": "d222933d-935b-48e9-ada5-9f5487dc2158"
   },
   "source": [
    "##### One) X train dataset\n"
   ]
  },
  {
   "cell_type": "code",
   "execution_count": null,
   "id": "321fb63b-d441-4d2b-9e09-13d61256ab41",
   "metadata": {
    "ExecuteTime": {
     "end_time": "2025-10-03T22:37:12.017629Z",
     "start_time": "2025-10-03T22:37:11.998181Z"
    },
    "colab": {
     "base_uri": "https://localhost:8080/",
     "height": 163
    },
    "id": "321fb63b-d441-4d2b-9e09-13d61256ab41",
    "outputId": "3b76bf18-697b-4aca-b00c-772c8cd904ab",
    "vscode": {
     "languageId": "r"
    }
   },
   "outputs": [
    {
     "data": {
      "text/html": [
       "<div>\n",
       "<style scoped>\n",
       "    .dataframe tbody tr th:only-of-type {\n",
       "        vertical-align: middle;\n",
       "    }\n",
       "\n",
       "    .dataframe tbody tr th {\n",
       "        vertical-align: top;\n",
       "    }\n",
       "\n",
       "    .dataframe thead th {\n",
       "        text-align: right;\n",
       "    }\n",
       "</style>\n",
       "<table border=\"1\" class=\"dataframe\">\n",
       "  <thead>\n",
       "    <tr style=\"text-align: right;\">\n",
       "      <th></th>\n",
       "      <th>columns</th>\n",
       "      <th>total_nan</th>\n",
       "      <th>percent_nan</th>\n",
       "    </tr>\n",
       "  </thead>\n",
       "  <tbody>\n",
       "    <tr>\n",
       "      <th>0</th>\n",
       "      <td>Age</td>\n",
       "      <td>131</td>\n",
       "      <td>19.61%</td>\n",
       "    </tr>\n",
       "    <tr>\n",
       "      <th>1</th>\n",
       "      <td>Cabin</td>\n",
       "      <td>508</td>\n",
       "      <td>76.05%</td>\n",
       "    </tr>\n",
       "    <tr>\n",
       "      <th>2</th>\n",
       "      <td>Embarked</td>\n",
       "      <td>1</td>\n",
       "      <td>0.15%</td>\n",
       "    </tr>\n",
       "  </tbody>\n",
       "</table>\n",
       "</div>"
      ],
      "text/plain": [
       "    columns  total_nan percent_nan\n",
       "0       Age        131      19.61%\n",
       "1     Cabin        508      76.05%\n",
       "2  Embarked          1       0.15%"
      ]
     },
     "execution_count": 24,
     "metadata": {},
     "output_type": "execute_result"
    }
   ],
   "source": [
    "check_n_nan(train_x)"
   ]
  },
  {
   "cell_type": "code",
   "execution_count": null,
   "id": "b3f6aa76-3d6e-4be5-8c68-34f0e6232b01",
   "metadata": {
    "ExecuteTime": {
     "end_time": "2025-10-03T22:37:12.875126Z",
     "start_time": "2025-10-03T22:37:12.032334Z"
    },
    "colab": {
     "base_uri": "https://localhost:8080/",
     "height": 460
    },
    "id": "b3f6aa76-3d6e-4be5-8c68-34f0e6232b01",
    "outputId": "e4b0c512-9b87-4a0f-b452-34c3d48b34d1",
    "vscode": {
     "languageId": "r"
    }
   },
   "outputs": [
    {
     "data": {
      "application/vnd.vegalite.v5+json": {
       "$schema": "https://vega.github.io/schema/vega-lite/v5.20.1.json",
       "config": {
        "axis": {
         "grid": false
        },
        "view": {
         "continuousHeight": 300,
         "continuousWidth": 300,
         "stroke": null
        }
       },
       "data": {
        "name": "data-e69c147bd25ee815377b21c57a02428e"
       },
       "datasets": {
        "data-e69c147bd25ee815377b21c57a02428e": [
         {
          "columns": "Pclass",
          "percent_nan": 0,
          "total_nan": 0
         },
         {
          "columns": "Name",
          "percent_nan": 0,
          "total_nan": 0
         },
         {
          "columns": "Sex",
          "percent_nan": 0,
          "total_nan": 0
         },
         {
          "columns": "Age",
          "percent_nan": 20,
          "total_nan": 131
         },
         {
          "columns": "SibSp",
          "percent_nan": 0,
          "total_nan": 0
         },
         {
          "columns": "Parch",
          "percent_nan": 0,
          "total_nan": 0
         },
         {
          "columns": "Ticket",
          "percent_nan": 0,
          "total_nan": 0
         },
         {
          "columns": "Fare",
          "percent_nan": 0,
          "total_nan": 0
         },
         {
          "columns": "Cabin",
          "percent_nan": 76,
          "total_nan": 508
         },
         {
          "columns": "Embarked",
          "percent_nan": 0,
          "total_nan": 1
         }
        ]
       },
       "encoding": {
        "color": {
         "field": "columns",
         "legend": {
          "orient": "right"
         },
         "scale": {
          "reverse": true,
          "scheme": "lightgreyred"
         },
         "type": "nominal"
        },
        "text": {
         "field": "columns",
         "type": "nominal"
        },
        "tooltip": [
         {
          "field": "columns",
          "type": "nominal"
         },
         {
          "field": "total_nan",
          "type": "quantitative"
         },
         {
          "field": "percent_nan",
          "type": "quantitative"
         }
        ],
        "x": {
         "field": "columns",
         "title": "Columns names",
         "type": "nominal"
        },
        "y": {
         "field": "total_nan",
         "title": "Number of missing values",
         "type": "quantitative"
        }
       },
       "mark": {
        "cornerRadiusTopLeft": 5,
        "cornerRadiusTopRight": 5,
        "type": "bar"
       },
       "title": {
        "anchor": "start",
        "subtitle": "A chart represents missing data in x train dataset",
        "text": "Number Of Missing values In X Train Dataset"
       }
      },
      "image/png": "[encoded data removed]",
      "text/plain": [
       "<VegaLite 5 object>\n",
       "\n",
       "If you see this message, it means the renderer has not been properly enabled\n",
       "for the frontend that you are using. For more information, see\n",
       "https://altair-viz.github.io/user_guide/display_frontends.html#troubleshooting\n"
      ]
     },
     "execution_count": 25,
     "metadata": {},
     "output_type": "execute_result"
    }
   ],
   "source": [
    "plot_nan(\n",
    "    train_x,\n",
    "    name='x train dataset',\n",
    "    only_nan=False\n",
    ")"
   ]
  },
  {
   "cell_type": "markdown",
   "id": "e5ea56f0-1bbc-4a11-bad3-ee762c844f84",
   "metadata": {
    "id": "e5ea56f0-1bbc-4a11-bad3-ee762c844f84"
   },
   "source": [
    "**conclusion:** X train data sample contains missing data of 21.11%(141) of Age column, 78.29%(523) of cabin column and 0.3%(2) of Embarked column are the amount of missing data in the dataset from the data size of 668.\n"
   ]
  },
  {
   "cell_type": "markdown",
   "id": "dcff054d-4751-4b4d-9058-c7a24bf11d68",
   "metadata": {
    "id": "dcff054d-4751-4b4d-9058-c7a24bf11d68",
    "jp-MarkdownHeadingCollapsed": true
   },
   "source": [
    "##### Two) X validation dataset\n"
   ]
  },
  {
   "cell_type": "code",
   "execution_count": null,
   "id": "b8715e3e-853c-4d18-8174-9e2690f29260",
   "metadata": {
    "ExecuteTime": {
     "end_time": "2025-10-03T22:37:12.904521Z",
     "start_time": "2025-10-03T22:37:12.887911Z"
    },
    "colab": {
     "base_uri": "https://localhost:8080/",
     "height": 163
    },
    "editable": true,
    "id": "b8715e3e-853c-4d18-8174-9e2690f29260",
    "outputId": "9ef9673b-fd59-40b8-ce9c-fe9d338f6a60",
    "tags": [],
    "vscode": {
     "languageId": "r"
    }
   },
   "outputs": [
    {
     "data": {
      "text/html": [
       "<div>\n",
       "<style scoped>\n",
       "    .dataframe tbody tr th:only-of-type {\n",
       "        vertical-align: middle;\n",
       "    }\n",
       "\n",
       "    .dataframe tbody tr th {\n",
       "        vertical-align: top;\n",
       "    }\n",
       "\n",
       "    .dataframe thead th {\n",
       "        text-align: right;\n",
       "    }\n",
       "</style>\n",
       "<table border=\"1\" class=\"dataframe\">\n",
       "  <thead>\n",
       "    <tr style=\"text-align: right;\">\n",
       "      <th></th>\n",
       "      <th>columns</th>\n",
       "      <th>total_nan</th>\n",
       "      <th>percent_nan</th>\n",
       "    </tr>\n",
       "  </thead>\n",
       "  <tbody>\n",
       "    <tr>\n",
       "      <th>0</th>\n",
       "      <td>Age</td>\n",
       "      <td>46</td>\n",
       "      <td>20.63%</td>\n",
       "    </tr>\n",
       "    <tr>\n",
       "      <th>1</th>\n",
       "      <td>Cabin</td>\n",
       "      <td>179</td>\n",
       "      <td>80.27%</td>\n",
       "    </tr>\n",
       "    <tr>\n",
       "      <th>2</th>\n",
       "      <td>Embarked</td>\n",
       "      <td>1</td>\n",
       "      <td>0.45%</td>\n",
       "    </tr>\n",
       "  </tbody>\n",
       "</table>\n",
       "</div>"
      ],
      "text/plain": [
       "    columns  total_nan percent_nan\n",
       "0       Age         46      20.63%\n",
       "1     Cabin        179      80.27%\n",
       "2  Embarked          1       0.45%"
      ]
     },
     "execution_count": 26,
     "metadata": {},
     "output_type": "execute_result"
    }
   ],
   "source": [
    "check_n_nan(valid_x)"
   ]
  },
  {
   "cell_type": "code",
   "execution_count": null,
   "id": "32fa3466-5591-4ccf-a15f-2f741871286b",
   "metadata": {
    "ExecuteTime": {
     "end_time": "2025-10-03T22:37:13.000687Z",
     "start_time": "2025-10-03T22:37:12.918569Z"
    },
    "colab": {
     "base_uri": "https://localhost:8080/",
     "height": 460
    },
    "id": "32fa3466-5591-4ccf-a15f-2f741871286b",
    "outputId": "31f9e002-3d69-4ef4-d49e-5a61bbf96ad1",
    "vscode": {
     "languageId": "r"
    }
   },
   "outputs": [
    {
     "data": {
      "application/vnd.vegalite.v5+json": {
       "$schema": "https://vega.github.io/schema/vega-lite/v5.20.1.json",
       "config": {
        "axis": {
         "grid": false
        },
        "view": {
         "continuousHeight": 300,
         "continuousWidth": 300,
         "stroke": null
        }
       },
       "data": {
        "name": "data-99d10b0888a7da5a87e5674ce5d6a444"
       },
       "datasets": {
        "data-99d10b0888a7da5a87e5674ce5d6a444": [
         {
          "columns": "Pclass",
          "percent_nan": 0,
          "total_nan": 0
         },
         {
          "columns": "Name",
          "percent_nan": 0,
          "total_nan": 0
         },
         {
          "columns": "Sex",
          "percent_nan": 0,
          "total_nan": 0
         },
         {
          "columns": "Age",
          "percent_nan": 21,
          "total_nan": 46
         },
         {
          "columns": "SibSp",
          "percent_nan": 0,
          "total_nan": 0
         },
         {
          "columns": "Parch",
          "percent_nan": 0,
          "total_nan": 0
         },
         {
          "columns": "Ticket",
          "percent_nan": 0,
          "total_nan": 0
         },
         {
          "columns": "Fare",
          "percent_nan": 0,
          "total_nan": 0
         },
         {
          "columns": "Cabin",
          "percent_nan": 80,
          "total_nan": 179
         },
         {
          "columns": "Embarked",
          "percent_nan": 0,
          "total_nan": 1
         }
        ]
       },
       "encoding": {
        "color": {
         "field": "columns",
         "legend": {
          "orient": "right"
         },
         "scale": {
          "reverse": true,
          "scheme": "lightgreyred"
         },
         "type": "nominal"
        },
        "text": {
         "field": "columns",
         "type": "nominal"
        },
        "tooltip": [
         {
          "field": "columns",
          "type": "nominal"
         },
         {
          "field": "total_nan",
          "type": "quantitative"
         },
         {
          "field": "percent_nan",
          "type": "quantitative"
         }
        ],
        "x": {
         "field": "columns",
         "title": "Columns names",
         "type": "nominal"
        },
        "y": {
         "field": "percent_nan",
         "title": "Percentage of missing values",
         "type": "quantitative"
        }
       },
       "mark": {
        "cornerRadiusTopLeft": 5,
        "cornerRadiusTopRight": 5,
        "type": "bar"
       },
       "title": {
        "anchor": "start",
        "subtitle": "A chart represents missing data in x validation dataset",
        "text": "Percentage Of Missing values In X Validation Dataset"
       }
      },
      "image/png": "[encoded data removed]",
      "text/plain": [
       "<VegaLite 5 object>\n",
       "\n",
       "If you see this message, it means the renderer has not been properly enabled\n",
       "for the frontend that you are using. For more information, see\n",
       "https://altair-viz.github.io/user_guide/display_frontends.html#troubleshooting\n"
      ]
     },
     "execution_count": 27,
     "metadata": {},
     "output_type": "execute_result"
    }
   ],
   "source": [
    "plot_nan(\n",
    "    valid_x,\n",
    "    name='x validation dataset',\n",
    "    only_nan=False,\n",
    "    use_percent=True\n",
    ")"
   ]
  },
  {
   "cell_type": "markdown",
   "id": "70cb1ef4-1b8f-4892-a56f-f2ebe9349ee4",
   "metadata": {
    "id": "70cb1ef4-1b8f-4892-a56f-f2ebe9349ee4"
   },
   "source": [
    "**conclusion:** In X validation data sample there are 16.14%(36) of Age column and 73.54%(164) of cabin column are the amount of missing data in the dataset from the data size of 223.\n"
   ]
  },
  {
   "cell_type": "markdown",
   "id": "bb47e119-64ce-4244-b63f-689391592150",
   "metadata": {
    "id": "bb47e119-64ce-4244-b63f-689391592150"
   },
   "source": [
    "#### b) Observing missing data in test dataset\n"
   ]
  },
  {
   "cell_type": "code",
   "execution_count": null,
   "id": "2e672b30-9557-411d-b6b5-817485fba03f",
   "metadata": {
    "ExecuteTime": {
     "end_time": "2025-10-03T22:37:13.028980Z",
     "start_time": "2025-10-03T22:37:13.012690Z"
    },
    "colab": {
     "base_uri": "https://localhost:8080/",
     "height": 163
    },
    "id": "2e672b30-9557-411d-b6b5-817485fba03f",
    "outputId": "85ae587c-1e0e-4e70-d1f1-7b93d97611fa",
    "vscode": {
     "languageId": "r"
    }
   },
   "outputs": [
    {
     "data": {
      "text/html": [
       "<div>\n",
       "<style scoped>\n",
       "    .dataframe tbody tr th:only-of-type {\n",
       "        vertical-align: middle;\n",
       "    }\n",
       "\n",
       "    .dataframe tbody tr th {\n",
       "        vertical-align: top;\n",
       "    }\n",
       "\n",
       "    .dataframe thead th {\n",
       "        text-align: right;\n",
       "    }\n",
       "</style>\n",
       "<table border=\"1\" class=\"dataframe\">\n",
       "  <thead>\n",
       "    <tr style=\"text-align: right;\">\n",
       "      <th></th>\n",
       "      <th>columns</th>\n",
       "      <th>total_nan</th>\n",
       "      <th>percent_nan</th>\n",
       "    </tr>\n",
       "  </thead>\n",
       "  <tbody>\n",
       "    <tr>\n",
       "      <th>0</th>\n",
       "      <td>Age</td>\n",
       "      <td>86</td>\n",
       "      <td>20.57%</td>\n",
       "    </tr>\n",
       "    <tr>\n",
       "      <th>1</th>\n",
       "      <td>Fare</td>\n",
       "      <td>1</td>\n",
       "      <td>0.24%</td>\n",
       "    </tr>\n",
       "    <tr>\n",
       "      <th>2</th>\n",
       "      <td>Cabin</td>\n",
       "      <td>327</td>\n",
       "      <td>78.23%</td>\n",
       "    </tr>\n",
       "  </tbody>\n",
       "</table>\n",
       "</div>"
      ],
      "text/plain": [
       "  columns  total_nan percent_nan\n",
       "0     Age         86      20.57%\n",
       "1    Fare          1       0.24%\n",
       "2   Cabin        327      78.23%"
      ]
     },
     "execution_count": 28,
     "metadata": {},
     "output_type": "execute_result"
    }
   ],
   "source": [
    "check_n_nan(test_df)"
   ]
  },
  {
   "cell_type": "code",
   "execution_count": null,
   "id": "606251fa-a05f-430b-b372-5aa5209d3dea",
   "metadata": {
    "ExecuteTime": {
     "end_time": "2025-10-03T22:37:13.119102Z",
     "start_time": "2025-10-03T22:37:13.042485Z"
    },
    "colab": {
     "base_uri": "https://localhost:8080/",
     "height": 460
    },
    "id": "606251fa-a05f-430b-b372-5aa5209d3dea",
    "outputId": "a5eea612-9b2b-4742-8165-bc8cac63dde8",
    "vscode": {
     "languageId": "r"
    }
   },
   "outputs": [
    {
     "data": {
      "application/vnd.vegalite.v5+json": {
       "$schema": "https://vega.github.io/schema/vega-lite/v5.20.1.json",
       "config": {
        "axis": {
         "grid": false
        },
        "view": {
         "continuousHeight": 300,
         "continuousWidth": 300,
         "stroke": null
        }
       },
       "data": {
        "name": "data-dcb125812a966ffd090a54dbd7db12b3"
       },
       "datasets": {
        "data-dcb125812a966ffd090a54dbd7db12b3": [
         {
          "columns": "Pclass",
          "percent_nan": 0,
          "total_nan": 0
         },
         {
          "columns": "Name",
          "percent_nan": 0,
          "total_nan": 0
         },
         {
          "columns": "Sex",
          "percent_nan": 0,
          "total_nan": 0
         },
         {
          "columns": "Age",
          "percent_nan": 21,
          "total_nan": 86
         },
         {
          "columns": "SibSp",
          "percent_nan": 0,
          "total_nan": 0
         },
         {
          "columns": "Parch",
          "percent_nan": 0,
          "total_nan": 0
         },
         {
          "columns": "Ticket",
          "percent_nan": 0,
          "total_nan": 0
         },
         {
          "columns": "Fare",
          "percent_nan": 0,
          "total_nan": 1
         },
         {
          "columns": "Cabin",
          "percent_nan": 78,
          "total_nan": 327
         },
         {
          "columns": "Embarked",
          "percent_nan": 0,
          "total_nan": 0
         }
        ]
       },
       "encoding": {
        "color": {
         "field": "columns",
         "legend": {
          "orient": "right"
         },
         "scale": {
          "reverse": true,
          "scheme": "lightgreyred"
         },
         "type": "nominal"
        },
        "text": {
         "field": "columns",
         "type": "nominal"
        },
        "tooltip": [
         {
          "field": "columns",
          "type": "nominal"
         },
         {
          "field": "total_nan",
          "type": "quantitative"
         },
         {
          "field": "percent_nan",
          "type": "quantitative"
         }
        ],
        "x": {
         "field": "columns",
         "title": "Columns names",
         "type": "nominal"
        },
        "y": {
         "field": "total_nan",
         "title": "Number of missing values",
         "type": "quantitative"
        }
       },
       "mark": {
        "cornerRadiusTopLeft": 5,
        "cornerRadiusTopRight": 5,
        "type": "bar"
       },
       "title": {
        "anchor": "start",
        "subtitle": "A chart represents missing data in test dataset",
        "text": "Number Of Missing values In Test Dataset"
       }
      },
      "image/png": "[encoded data removed]",
      "text/plain": [
       "<VegaLite 5 object>\n",
       "\n",
       "If you see this message, it means the renderer has not been properly enabled\n",
       "for the frontend that you are using. For more information, see\n",
       "https://altair-viz.github.io/user_guide/display_frontends.html#troubleshooting\n"
      ]
     },
     "execution_count": 29,
     "metadata": {},
     "output_type": "execute_result"
    }
   ],
   "source": [
    "plot_nan(\n",
    "    test_df,\n",
    "    name='test dataset',\n",
    "    only_nan=False,\n",
    "    use_percent=False\n",
    ")"
   ]
  },
  {
   "cell_type": "markdown",
   "id": "e3ea0e25-6bb5-408f-8671-709f7f0aa02a",
   "metadata": {
    "id": "e3ea0e25-6bb5-408f-8671-709f7f0aa02a"
   },
   "source": [
    "**conclusion:** The test data frame contains missing data of 20.57%(86) of Age column, 78.23%(327) of cabin column and 0.24%(1) of Fare column are the amount of missing data in the dataset from the data size of 418.\n"
   ]
  },
  {
   "cell_type": "markdown",
   "id": "1fG6lnoslyaM",
   "metadata": {
    "id": "1fG6lnoslyaM",
    "jp-MarkdownHeadingCollapsed": true
   },
   "source": [
    "### ii) Handling the missing values (NaN)\n",
    "\n",
    "<p>Filling missing value in the dataframes</p>\n"
   ]
  },
  {
   "cell_type": "code",
   "execution_count": null,
   "id": "e41f939a-2218-475c-b5e4-f27ca50a8ee8",
   "metadata": {
    "ExecuteTime": {
     "end_time": "2025-10-03T22:37:13.146709Z",
     "start_time": "2025-10-03T22:37:13.133348Z"
    },
    "id": "e41f939a-2218-475c-b5e4-f27ca50a8ee8",
    "vscode": {
     "languageId": "r"
    }
   },
   "outputs": [],
   "source": [
    "class FillNaN:\n",
    "    def __init__(self, dfs: List[pd.DataFrame], fill_with: Dict[str, Any]) -> None:\n",
    "        self.dfs = dfs\n",
    "        self.fill_with = fill_with\n",
    "\n",
    "    @property\n",
    "    def fill(self) -> List[pd.DataFrame]:\n",
    "        \"\"\"\n",
    "        Fills missing values in the data frames.\n",
    "        :return: A tuple of data frames\n",
    "        \"\"\"\n",
    "        lst = []\n",
    "        for df in self.dfs:\n",
    "            for col, strat in self.fill_with.items():\n",
    "                df = self.strategy(df, strat=strat, col_name=col)\n",
    "            lst.append(df)\n",
    "        return lst\n",
    "\n",
    "    @staticmethod\n",
    "    def strategy(df: pd.DataFrame, strat: str, col_name: str) -> pd.DataFrame:\n",
    "        match strat:\n",
    "            case 'mean':\n",
    "                df[col_name] = df[col_name].fillna(df[col_name].mean())\n",
    "            case 'mode':\n",
    "                df[col_name] = df[col_name].fillna(df[col_name].mode()[0])\n",
    "            case 'min':\n",
    "                df[col_name] = df[col_name].fillna(df[col_name].min())\n",
    "            case 'max':\n",
    "                df[col_name] = df[col_name].fillna(df[col_name].max())\n",
    "            case 'median':\n",
    "                df[col_name] = df[col_name].fillna(df[col_name].median())\n",
    "            case 'bfill':\n",
    "                df[col_name] = df[col_name].bfill()\n",
    "            case 'ffill':\n",
    "                df[col_name] = df[col_name].ffill()\n",
    "            case \"drop\":\n",
    "                df = df.drop(col_name, axis=1)\n",
    "            case _:\n",
    "                raise ValueError(\n",
    "                    f\"Ooh, strategy has received invalid value `{strat}` for strat\")\n",
    "        return df"
   ]
  },
  {
   "cell_type": "markdown",
   "id": "e02ac5a6-7db2-4163-81f2-05dbf6a25e3a",
   "metadata": {
    "id": "e02ac5a6-7db2-4163-81f2-05dbf6a25e3a"
   },
   "source": [
    "Filling the missing value in age with mean, Fare with ffill, Embarked with mode and Cabin with drop.\n"
   ]
  },
  {
   "cell_type": "code",
   "execution_count": null,
   "id": "49baf8f2310caf73",
   "metadata": {
    "ExecuteTime": {
     "end_time": "2025-10-03T22:37:13.180529Z",
     "start_time": "2025-10-03T22:37:13.165152Z"
    },
    "id": "49baf8f2310caf73",
    "vscode": {
     "languageId": "r"
    }
   },
   "outputs": [],
   "source": [
    "fill = FillNaN(\n",
    "    [train_x, valid_x, test_df],\n",
    "    {\"Age\": \"mean\",\n",
    "     \"Fare\": \"ffill\",\n",
    "     \"Embarked\": \"mode\",\n",
    "     \"Cabin\": \"drop\"})"
   ]
  },
  {
   "cell_type": "code",
   "execution_count": null,
   "id": "dd679420-5066-4f16-a720-b9afa7a94312",
   "metadata": {
    "ExecuteTime": {
     "end_time": "2025-10-03T22:37:13.234898Z",
     "start_time": "2025-10-03T22:37:13.192480Z"
    },
    "id": "dd679420-5066-4f16-a720-b9afa7a94312",
    "vscode": {
     "languageId": "r"
    }
   },
   "outputs": [],
   "source": [
    "clean_train_x, clean_valid_x, clean_test_df = fill.fill"
   ]
  },
  {
   "cell_type": "markdown",
   "id": "3640be44-6901-4f13-b8f0-04f4867b45af",
   "metadata": {
    "id": "3640be44-6901-4f13-b8f0-04f4867b45af"
   },
   "source": [
    "Check if there still any missing values in the data.\n"
   ]
  },
  {
   "cell_type": "markdown",
   "id": "c6c3ee03-6247-44c5-86ee-e3b1e5b5f004",
   "metadata": {
    "id": "c6c3ee03-6247-44c5-86ee-e3b1e5b5f004"
   },
   "source": [
    "**Clean train x**\n"
   ]
  },
  {
   "cell_type": "code",
   "execution_count": null,
   "id": "c4338507-507b-4e59-be64-732a3a200c69",
   "metadata": {
    "ExecuteTime": {
     "end_time": "2025-10-03T22:37:13.260333Z",
     "start_time": "2025-10-03T22:37:13.244537Z"
    },
    "colab": {
     "base_uri": "https://localhost:8080/",
     "height": 332
    },
    "id": "c4338507-507b-4e59-be64-732a3a200c69",
    "outputId": "18236591-37ce-4fa8-fbbf-fcee3ca12b30",
    "vscode": {
     "languageId": "r"
    }
   },
   "outputs": [
    {
     "data": {
      "text/html": [
       "<div>\n",
       "<style scoped>\n",
       "    .dataframe tbody tr th:only-of-type {\n",
       "        vertical-align: middle;\n",
       "    }\n",
       "\n",
       "    .dataframe tbody tr th {\n",
       "        vertical-align: top;\n",
       "    }\n",
       "\n",
       "    .dataframe thead th {\n",
       "        text-align: right;\n",
       "    }\n",
       "</style>\n",
       "<table border=\"1\" class=\"dataframe\">\n",
       "  <thead>\n",
       "    <tr style=\"text-align: right;\">\n",
       "      <th></th>\n",
       "      <th>columns</th>\n",
       "      <th>total_nan</th>\n",
       "      <th>percent_nan</th>\n",
       "    </tr>\n",
       "  </thead>\n",
       "  <tbody>\n",
       "    <tr>\n",
       "      <th>0</th>\n",
       "      <td>Pclass</td>\n",
       "      <td>0</td>\n",
       "      <td>0.0%</td>\n",
       "    </tr>\n",
       "    <tr>\n",
       "      <th>1</th>\n",
       "      <td>Name</td>\n",
       "      <td>0</td>\n",
       "      <td>0.0%</td>\n",
       "    </tr>\n",
       "    <tr>\n",
       "      <th>2</th>\n",
       "      <td>Sex</td>\n",
       "      <td>0</td>\n",
       "      <td>0.0%</td>\n",
       "    </tr>\n",
       "    <tr>\n",
       "      <th>3</th>\n",
       "      <td>Age</td>\n",
       "      <td>0</td>\n",
       "      <td>0.0%</td>\n",
       "    </tr>\n",
       "    <tr>\n",
       "      <th>4</th>\n",
       "      <td>SibSp</td>\n",
       "      <td>0</td>\n",
       "      <td>0.0%</td>\n",
       "    </tr>\n",
       "    <tr>\n",
       "      <th>5</th>\n",
       "      <td>Parch</td>\n",
       "      <td>0</td>\n",
       "      <td>0.0%</td>\n",
       "    </tr>\n",
       "    <tr>\n",
       "      <th>6</th>\n",
       "      <td>Ticket</td>\n",
       "      <td>0</td>\n",
       "      <td>0.0%</td>\n",
       "    </tr>\n",
       "    <tr>\n",
       "      <th>7</th>\n",
       "      <td>Fare</td>\n",
       "      <td>0</td>\n",
       "      <td>0.0%</td>\n",
       "    </tr>\n",
       "    <tr>\n",
       "      <th>8</th>\n",
       "      <td>Embarked</td>\n",
       "      <td>0</td>\n",
       "      <td>0.0%</td>\n",
       "    </tr>\n",
       "  </tbody>\n",
       "</table>\n",
       "</div>"
      ],
      "text/plain": [
       "    columns  total_nan percent_nan\n",
       "0    Pclass          0        0.0%\n",
       "1      Name          0        0.0%\n",
       "2       Sex          0        0.0%\n",
       "3       Age          0        0.0%\n",
       "4     SibSp          0        0.0%\n",
       "5     Parch          0        0.0%\n",
       "6    Ticket          0        0.0%\n",
       "7      Fare          0        0.0%\n",
       "8  Embarked          0        0.0%"
      ]
     },
     "execution_count": 33,
     "metadata": {},
     "output_type": "execute_result"
    }
   ],
   "source": [
    "check_n_nan(clean_train_x, only_nan=False)"
   ]
  },
  {
   "cell_type": "markdown",
   "id": "a921d930-643d-4dd8-88bd-5a7a5b0eebc4",
   "metadata": {
    "id": "a921d930-643d-4dd8-88bd-5a7a5b0eebc4"
   },
   "source": [
    "**Clean valid x**\n"
   ]
  },
  {
   "cell_type": "code",
   "execution_count": null,
   "id": "e98096ce-d542-4dbf-b9e1-a609f52f9daf",
   "metadata": {
    "ExecuteTime": {
     "end_time": "2025-10-03T22:37:13.286086Z",
     "start_time": "2025-10-03T22:37:13.272169Z"
    },
    "colab": {
     "base_uri": "https://localhost:8080/",
     "height": 332
    },
    "id": "e98096ce-d542-4dbf-b9e1-a609f52f9daf",
    "outputId": "de8b8f3e-39d7-4e4b-9979-4f84d01a959a",
    "vscode": {
     "languageId": "r"
    }
   },
   "outputs": [
    {
     "data": {
      "text/html": [
       "<div>\n",
       "<style scoped>\n",
       "    .dataframe tbody tr th:only-of-type {\n",
       "        vertical-align: middle;\n",
       "    }\n",
       "\n",
       "    .dataframe tbody tr th {\n",
       "        vertical-align: top;\n",
       "    }\n",
       "\n",
       "    .dataframe thead th {\n",
       "        text-align: right;\n",
       "    }\n",
       "</style>\n",
       "<table border=\"1\" class=\"dataframe\">\n",
       "  <thead>\n",
       "    <tr style=\"text-align: right;\">\n",
       "      <th></th>\n",
       "      <th>columns</th>\n",
       "      <th>total_nan</th>\n",
       "      <th>percent_nan</th>\n",
       "    </tr>\n",
       "  </thead>\n",
       "  <tbody>\n",
       "    <tr>\n",
       "      <th>0</th>\n",
       "      <td>Pclass</td>\n",
       "      <td>0</td>\n",
       "      <td>0.0%</td>\n",
       "    </tr>\n",
       "    <tr>\n",
       "      <th>1</th>\n",
       "      <td>Name</td>\n",
       "      <td>0</td>\n",
       "      <td>0.0%</td>\n",
       "    </tr>\n",
       "    <tr>\n",
       "      <th>2</th>\n",
       "      <td>Sex</td>\n",
       "      <td>0</td>\n",
       "      <td>0.0%</td>\n",
       "    </tr>\n",
       "    <tr>\n",
       "      <th>3</th>\n",
       "      <td>Age</td>\n",
       "      <td>0</td>\n",
       "      <td>0.0%</td>\n",
       "    </tr>\n",
       "    <tr>\n",
       "      <th>4</th>\n",
       "      <td>SibSp</td>\n",
       "      <td>0</td>\n",
       "      <td>0.0%</td>\n",
       "    </tr>\n",
       "    <tr>\n",
       "      <th>5</th>\n",
       "      <td>Parch</td>\n",
       "      <td>0</td>\n",
       "      <td>0.0%</td>\n",
       "    </tr>\n",
       "    <tr>\n",
       "      <th>6</th>\n",
       "      <td>Ticket</td>\n",
       "      <td>0</td>\n",
       "      <td>0.0%</td>\n",
       "    </tr>\n",
       "    <tr>\n",
       "      <th>7</th>\n",
       "      <td>Fare</td>\n",
       "      <td>0</td>\n",
       "      <td>0.0%</td>\n",
       "    </tr>\n",
       "    <tr>\n",
       "      <th>8</th>\n",
       "      <td>Embarked</td>\n",
       "      <td>0</td>\n",
       "      <td>0.0%</td>\n",
       "    </tr>\n",
       "  </tbody>\n",
       "</table>\n",
       "</div>"
      ],
      "text/plain": [
       "    columns  total_nan percent_nan\n",
       "0    Pclass          0        0.0%\n",
       "1      Name          0        0.0%\n",
       "2       Sex          0        0.0%\n",
       "3       Age          0        0.0%\n",
       "4     SibSp          0        0.0%\n",
       "5     Parch          0        0.0%\n",
       "6    Ticket          0        0.0%\n",
       "7      Fare          0        0.0%\n",
       "8  Embarked          0        0.0%"
      ]
     },
     "execution_count": 34,
     "metadata": {},
     "output_type": "execute_result"
    }
   ],
   "source": [
    "check_n_nan(clean_valid_x, only_nan=False)"
   ]
  },
  {
   "cell_type": "markdown",
   "id": "f47f5343-6754-4d6f-a4c3-bd1e34ba57fd",
   "metadata": {
    "id": "f47f5343-6754-4d6f-a4c3-bd1e34ba57fd"
   },
   "source": [
    "**Clean test df**\n"
   ]
  },
  {
   "cell_type": "code",
   "execution_count": null,
   "id": "f66869ed-6594-4fe7-8ec5-2648d23ae372",
   "metadata": {
    "ExecuteTime": {
     "end_time": "2025-10-03T22:37:13.317331Z",
     "start_time": "2025-10-03T22:37:13.301261Z"
    },
    "colab": {
     "base_uri": "https://localhost:8080/",
     "height": 332
    },
    "id": "f66869ed-6594-4fe7-8ec5-2648d23ae372",
    "outputId": "42e4df4b-7f57-4069-dd59-450a6e8cb425",
    "vscode": {
     "languageId": "r"
    }
   },
   "outputs": [
    {
     "data": {
      "text/html": [
       "<div>\n",
       "<style scoped>\n",
       "    .dataframe tbody tr th:only-of-type {\n",
       "        vertical-align: middle;\n",
       "    }\n",
       "\n",
       "    .dataframe tbody tr th {\n",
       "        vertical-align: top;\n",
       "    }\n",
       "\n",
       "    .dataframe thead th {\n",
       "        text-align: right;\n",
       "    }\n",
       "</style>\n",
       "<table border=\"1\" class=\"dataframe\">\n",
       "  <thead>\n",
       "    <tr style=\"text-align: right;\">\n",
       "      <th></th>\n",
       "      <th>columns</th>\n",
       "      <th>total_nan</th>\n",
       "      <th>percent_nan</th>\n",
       "    </tr>\n",
       "  </thead>\n",
       "  <tbody>\n",
       "    <tr>\n",
       "      <th>0</th>\n",
       "      <td>Pclass</td>\n",
       "      <td>0</td>\n",
       "      <td>0.0%</td>\n",
       "    </tr>\n",
       "    <tr>\n",
       "      <th>1</th>\n",
       "      <td>Name</td>\n",
       "      <td>0</td>\n",
       "      <td>0.0%</td>\n",
       "    </tr>\n",
       "    <tr>\n",
       "      <th>2</th>\n",
       "      <td>Sex</td>\n",
       "      <td>0</td>\n",
       "      <td>0.0%</td>\n",
       "    </tr>\n",
       "    <tr>\n",
       "      <th>3</th>\n",
       "      <td>Age</td>\n",
       "      <td>0</td>\n",
       "      <td>0.0%</td>\n",
       "    </tr>\n",
       "    <tr>\n",
       "      <th>4</th>\n",
       "      <td>SibSp</td>\n",
       "      <td>0</td>\n",
       "      <td>0.0%</td>\n",
       "    </tr>\n",
       "    <tr>\n",
       "      <th>5</th>\n",
       "      <td>Parch</td>\n",
       "      <td>0</td>\n",
       "      <td>0.0%</td>\n",
       "    </tr>\n",
       "    <tr>\n",
       "      <th>6</th>\n",
       "      <td>Ticket</td>\n",
       "      <td>0</td>\n",
       "      <td>0.0%</td>\n",
       "    </tr>\n",
       "    <tr>\n",
       "      <th>7</th>\n",
       "      <td>Fare</td>\n",
       "      <td>0</td>\n",
       "      <td>0.0%</td>\n",
       "    </tr>\n",
       "    <tr>\n",
       "      <th>8</th>\n",
       "      <td>Embarked</td>\n",
       "      <td>0</td>\n",
       "      <td>0.0%</td>\n",
       "    </tr>\n",
       "  </tbody>\n",
       "</table>\n",
       "</div>"
      ],
      "text/plain": [
       "    columns  total_nan percent_nan\n",
       "0    Pclass          0        0.0%\n",
       "1      Name          0        0.0%\n",
       "2       Sex          0        0.0%\n",
       "3       Age          0        0.0%\n",
       "4     SibSp          0        0.0%\n",
       "5     Parch          0        0.0%\n",
       "6    Ticket          0        0.0%\n",
       "7      Fare          0        0.0%\n",
       "8  Embarked          0        0.0%"
      ]
     },
     "execution_count": 35,
     "metadata": {},
     "output_type": "execute_result"
    }
   ],
   "source": [
    "check_n_nan(clean_test_df, only_nan=False)"
   ]
  },
  {
   "cell_type": "markdown",
   "id": "91b54b41-383b-4638-8a49-48aa3a664533",
   "metadata": {
    "id": "91b54b41-383b-4638-8a49-48aa3a664533"
   },
   "source": [
    "### iii) Handling the categorical columns\n",
    "\n",
    "<p>Encode categorical column to integer and drop high cardinality columns in the dataframes</p>\n"
   ]
  },
  {
   "cell_type": "code",
   "execution_count": null,
   "id": "cf0c58c5-1da2-4960-a1e1-29e50cb892ba",
   "metadata": {
    "ExecuteTime": {
     "end_time": "2025-10-03T22:37:13.345230Z",
     "start_time": "2025-10-03T22:37:13.332331Z"
    },
    "id": "cf0c58c5-1da2-4960-a1e1-29e50cb892ba",
    "vscode": {
     "languageId": "r"
    }
   },
   "outputs": [],
   "source": [
    "class CategoryEncoder:\n",
    "    def __init__(\n",
    "            self,\n",
    "            datasets: List[pd.DataFrame],\n",
    "            handle_with: Dict[str, str],\n",
    "    ) -> None:\n",
    "        self.datasets = datasets\n",
    "        self.handle_with = handle_with\n",
    "\n",
    "    def strategy(self, df: pd.DataFrame, col: str, strat: str) -> pd.DataFrame:\n",
    "        match strat:\n",
    "            case 'label_encode':\n",
    "                series = df[col].astype('category').cat.codes\n",
    "                df[col] = series\n",
    "            case 'one_hot_encode':\n",
    "                data = pd.get_dummies(\n",
    "                    df[col],\n",
    "                    columns=list(df[col].unique())\n",
    "                ).astype(int)\n",
    "                df = pd.concat([df, data], axis=1)\n",
    "                df = df.drop(col, axis=1)\n",
    "            case 'drop':\n",
    "                df = df.drop(col, axis=1)\n",
    "            case _:\n",
    "                raise ValueError()\n",
    "\n",
    "        return df\n",
    "\n",
    "    def encode(self) -> List[pd.DataFrame]:\n",
    "        \"\"\"\n",
    "        Encode categorical columns to integer.\n",
    "        :return: A tuple of data frames\n",
    "        \"\"\"\n",
    "\n",
    "        datasets = []\n",
    "\n",
    "        for dataset in self.datasets:\n",
    "            for col, strat in self.handle_with.items():\n",
    "                dataset = self.strategy(dataset, col, strat)\n",
    "            datasets.append(dataset)\n",
    "\n",
    "        return datasets"
   ]
  },
  {
   "cell_type": "code",
   "execution_count": null,
   "id": "eca0ff4c-7fc9-4fa6-a9d0-2d18f0594c3d",
   "metadata": {
    "ExecuteTime": {
     "end_time": "2025-10-03T22:37:13.379577Z",
     "start_time": "2025-10-03T22:37:13.357032Z"
    },
    "colab": {
     "base_uri": "https://localhost:8080/",
     "height": 272
    },
    "id": "eca0ff4c-7fc9-4fa6-a9d0-2d18f0594c3d",
    "outputId": "599612e5-eb70-480d-e73f-e5dfeb57a6e2",
    "vscode": {
     "languageId": "r"
    }
   },
   "outputs": [
    {
     "data": {
      "text/html": [
       "<div>\n",
       "<style scoped>\n",
       "    .dataframe tbody tr th:only-of-type {\n",
       "        vertical-align: middle;\n",
       "    }\n",
       "\n",
       "    .dataframe tbody tr th {\n",
       "        vertical-align: top;\n",
       "    }\n",
       "\n",
       "    .dataframe thead th {\n",
       "        text-align: right;\n",
       "    }\n",
       "</style>\n",
       "<table border=\"1\" class=\"dataframe\">\n",
       "  <thead>\n",
       "    <tr style=\"text-align: right;\">\n",
       "      <th></th>\n",
       "      <th>Pclass</th>\n",
       "      <th>Name</th>\n",
       "      <th>Sex</th>\n",
       "      <th>Age</th>\n",
       "      <th>SibSp</th>\n",
       "      <th>Parch</th>\n",
       "      <th>Ticket</th>\n",
       "      <th>Fare</th>\n",
       "      <th>Embarked</th>\n",
       "    </tr>\n",
       "    <tr>\n",
       "      <th>PassengerId</th>\n",
       "      <th></th>\n",
       "      <th></th>\n",
       "      <th></th>\n",
       "      <th></th>\n",
       "      <th></th>\n",
       "      <th></th>\n",
       "      <th></th>\n",
       "      <th></th>\n",
       "      <th></th>\n",
       "    </tr>\n",
       "  </thead>\n",
       "  <tbody>\n",
       "    <tr>\n",
       "      <th>675</th>\n",
       "      <td>2</td>\n",
       "      <td>Watson, Mr. Ennis Hastings</td>\n",
       "      <td>male</td>\n",
       "      <td>29.036629</td>\n",
       "      <td>0</td>\n",
       "      <td>0</td>\n",
       "      <td>239856</td>\n",
       "      <td>0.000</td>\n",
       "      <td>S</td>\n",
       "    </tr>\n",
       "    <tr>\n",
       "      <th>370</th>\n",
       "      <td>1</td>\n",
       "      <td>Aubart, Mme. Leontine Pauline</td>\n",
       "      <td>female</td>\n",
       "      <td>24.000000</td>\n",
       "      <td>0</td>\n",
       "      <td>0</td>\n",
       "      <td>PC 17477</td>\n",
       "      <td>69.300</td>\n",
       "      <td>C</td>\n",
       "    </tr>\n",
       "    <tr>\n",
       "      <th>701</th>\n",
       "      <td>1</td>\n",
       "      <td>Astor, Mrs. John Jacob (Madeleine Talmadge Force)</td>\n",
       "      <td>female</td>\n",
       "      <td>18.000000</td>\n",
       "      <td>1</td>\n",
       "      <td>0</td>\n",
       "      <td>PC 17757</td>\n",
       "      <td>227.525</td>\n",
       "      <td>C</td>\n",
       "    </tr>\n",
       "    <tr>\n",
       "      <th>124</th>\n",
       "      <td>2</td>\n",
       "      <td>Webber, Miss. Susan</td>\n",
       "      <td>female</td>\n",
       "      <td>32.500000</td>\n",
       "      <td>0</td>\n",
       "      <td>0</td>\n",
       "      <td>27267</td>\n",
       "      <td>13.000</td>\n",
       "      <td>S</td>\n",
       "    </tr>\n",
       "    <tr>\n",
       "      <th>324</th>\n",
       "      <td>2</td>\n",
       "      <td>Caldwell, Mrs. Albert Francis (Sylvia Mae Harb...</td>\n",
       "      <td>female</td>\n",
       "      <td>22.000000</td>\n",
       "      <td>1</td>\n",
       "      <td>1</td>\n",
       "      <td>248738</td>\n",
       "      <td>29.000</td>\n",
       "      <td>S</td>\n",
       "    </tr>\n",
       "  </tbody>\n",
       "</table>\n",
       "</div>"
      ],
      "text/plain": [
       "             Pclass                                               Name  \\\n",
       "PassengerId                                                              \n",
       "675               2                         Watson, Mr. Ennis Hastings   \n",
       "370               1                      Aubart, Mme. Leontine Pauline   \n",
       "701               1  Astor, Mrs. John Jacob (Madeleine Talmadge Force)   \n",
       "124               2                                Webber, Miss. Susan   \n",
       "324               2  Caldwell, Mrs. Albert Francis (Sylvia Mae Harb...   \n",
       "\n",
       "                Sex        Age  SibSp  Parch    Ticket     Fare Embarked  \n",
       "PassengerId                                                               \n",
       "675            male  29.036629      0      0    239856    0.000        S  \n",
       "370          female  24.000000      0      0  PC 17477   69.300        C  \n",
       "701          female  18.000000      1      0  PC 17757  227.525        C  \n",
       "124          female  32.500000      0      0     27267   13.000        S  \n",
       "324          female  22.000000      1      1    248738   29.000        S  "
      ]
     },
     "execution_count": 37,
     "metadata": {},
     "output_type": "execute_result"
    }
   ],
   "source": [
    "# First five rows from the clean train x.\n",
    "clean_train_x.head()"
   ]
  },
  {
   "cell_type": "code",
   "execution_count": null,
   "id": "a66e4adf-98d5-4c3f-89d3-36b285f36b01",
   "metadata": {
    "ExecuteTime": {
     "end_time": "2025-10-03T22:37:13.405955Z",
     "start_time": "2025-10-03T22:37:13.390858Z"
    },
    "colab": {
     "base_uri": "https://localhost:8080/",
     "height": 238
    },
    "id": "a66e4adf-98d5-4c3f-89d3-36b285f36b01",
    "outputId": "c6c23d8a-6666-4d66-db1c-65e29187999c",
    "vscode": {
     "languageId": "r"
    }
   },
   "outputs": [
    {
     "data": {
      "text/html": [
       "<div>\n",
       "<style scoped>\n",
       "    .dataframe tbody tr th:only-of-type {\n",
       "        vertical-align: middle;\n",
       "    }\n",
       "\n",
       "    .dataframe tbody tr th {\n",
       "        vertical-align: top;\n",
       "    }\n",
       "\n",
       "    .dataframe thead th {\n",
       "        text-align: right;\n",
       "    }\n",
       "</style>\n",
       "<table border=\"1\" class=\"dataframe\">\n",
       "  <thead>\n",
       "    <tr style=\"text-align: right;\">\n",
       "      <th></th>\n",
       "      <th>Name</th>\n",
       "      <th>Sex</th>\n",
       "      <th>Ticket</th>\n",
       "      <th>Embarked</th>\n",
       "    </tr>\n",
       "    <tr>\n",
       "      <th>PassengerId</th>\n",
       "      <th></th>\n",
       "      <th></th>\n",
       "      <th></th>\n",
       "      <th></th>\n",
       "    </tr>\n",
       "  </thead>\n",
       "  <tbody>\n",
       "    <tr>\n",
       "      <th>675</th>\n",
       "      <td>Watson, Mr. Ennis Hastings</td>\n",
       "      <td>male</td>\n",
       "      <td>239856</td>\n",
       "      <td>S</td>\n",
       "    </tr>\n",
       "    <tr>\n",
       "      <th>370</th>\n",
       "      <td>Aubart, Mme. Leontine Pauline</td>\n",
       "      <td>female</td>\n",
       "      <td>PC 17477</td>\n",
       "      <td>C</td>\n",
       "    </tr>\n",
       "    <tr>\n",
       "      <th>701</th>\n",
       "      <td>Astor, Mrs. John Jacob (Madeleine Talmadge Force)</td>\n",
       "      <td>female</td>\n",
       "      <td>PC 17757</td>\n",
       "      <td>C</td>\n",
       "    </tr>\n",
       "    <tr>\n",
       "      <th>124</th>\n",
       "      <td>Webber, Miss. Susan</td>\n",
       "      <td>female</td>\n",
       "      <td>27267</td>\n",
       "      <td>S</td>\n",
       "    </tr>\n",
       "    <tr>\n",
       "      <th>324</th>\n",
       "      <td>Caldwell, Mrs. Albert Francis (Sylvia Mae Harb...</td>\n",
       "      <td>female</td>\n",
       "      <td>248738</td>\n",
       "      <td>S</td>\n",
       "    </tr>\n",
       "  </tbody>\n",
       "</table>\n",
       "</div>"
      ],
      "text/plain": [
       "                                                          Name     Sex  \\\n",
       "PassengerId                                                              \n",
       "675                                 Watson, Mr. Ennis Hastings    male   \n",
       "370                              Aubart, Mme. Leontine Pauline  female   \n",
       "701          Astor, Mrs. John Jacob (Madeleine Talmadge Force)  female   \n",
       "124                                        Webber, Miss. Susan  female   \n",
       "324          Caldwell, Mrs. Albert Francis (Sylvia Mae Harb...  female   \n",
       "\n",
       "               Ticket Embarked  \n",
       "PassengerId                     \n",
       "675            239856        S  \n",
       "370          PC 17477        C  \n",
       "701          PC 17757        C  \n",
       "124             27267        S  \n",
       "324            248738        S  "
      ]
     },
     "execution_count": 38,
     "metadata": {},
     "output_type": "execute_result"
    }
   ],
   "source": [
    "# Exclude the int and float from the data.\n",
    "cat_df = clean_train_x.select_dtypes(exclude=[int, float])\n",
    "cat_df.head()"
   ]
  },
  {
   "cell_type": "code",
   "execution_count": null,
   "id": "0184a184-33b9-491a-a7ed-5d84996652bd",
   "metadata": {
    "ExecuteTime": {
     "end_time": "2025-10-03T22:37:13.429458Z",
     "start_time": "2025-10-03T22:37:13.419076Z"
    },
    "colab": {
     "base_uri": "https://localhost:8080/"
    },
    "id": "0184a184-33b9-491a-a7ed-5d84996652bd",
    "outputId": "b7b7f9de-2ae1-468b-d90f-1dd811b28475",
    "vscode": {
     "languageId": "r"
    }
   },
   "outputs": [
    {
     "data": {
      "text/plain": [
       "['Name', 'Sex', 'Ticket', 'Embarked']"
      ]
     },
     "execution_count": 39,
     "metadata": {},
     "output_type": "execute_result"
    }
   ],
   "source": [
    "# Fetch the categorical columns.\n",
    "cat_columns = list(cat_df.columns)\n",
    "cat_columns"
   ]
  },
  {
   "cell_type": "markdown",
   "id": "34387b53-4a71-48fa-a3b6-978c49b8d9c6",
   "metadata": {
    "id": "34387b53-4a71-48fa-a3b6-978c49b8d9c6"
   },
   "source": [
    "Check for columns with high cardinality column in the data.\n"
   ]
  },
  {
   "cell_type": "code",
   "execution_count": null,
   "id": "5219b3ce-592a-4173-8d2d-943f9d9b7146",
   "metadata": {
    "ExecuteTime": {
     "end_time": "2025-10-03T22:37:13.455970Z",
     "start_time": "2025-10-03T22:37:13.443630Z"
    },
    "colab": {
     "base_uri": "https://localhost:8080/",
     "height": 210
    },
    "id": "5219b3ce-592a-4173-8d2d-943f9d9b7146",
    "outputId": "49c8e981-82d0-48be-e686-8fcbec7cf856",
    "vscode": {
     "languageId": "r"
    }
   },
   "outputs": [
    {
     "data": {
      "text/plain": [
       "Name        668\n",
       "Sex           2\n",
       "Ticket      537\n",
       "Embarked      3\n",
       "dtype: int64"
      ]
     },
     "execution_count": 40,
     "metadata": {},
     "output_type": "execute_result"
    }
   ],
   "source": [
    "clean_train_x[cat_columns].nunique()"
   ]
  },
  {
   "cell_type": "code",
   "execution_count": null,
   "id": "IL7kBIALo20Z",
   "metadata": {
    "ExecuteTime": {
     "end_time": "2025-10-03T22:37:13.529582Z",
     "start_time": "2025-10-03T22:37:13.468165Z"
    },
    "id": "IL7kBIALo20Z",
    "vscode": {
     "languageId": "r"
    }
   },
   "outputs": [],
   "source": [
    "# Instantiate the CategoryEncoder\n",
    "encoder = CategoryEncoder(\n",
    "    [clean_train_x, clean_valid_x, clean_test_df],\n",
    "    {\n",
    "        \"Sex\": \"label_encode\",\n",
    "        \"Embarked\": \"one_hot_encode\",\n",
    "        \"Name\": \"drop\",\n",
    "        \"Ticket\": \"drop\"\n",
    "    }\n",
    ")\n",
    "\n",
    "# Encode the column\n",
    "num_train_x, num_valid_x, num_test_df = encoder.encode()"
   ]
  },
  {
   "cell_type": "code",
   "execution_count": null,
   "id": "FToJ4UKosTyc",
   "metadata": {
    "ExecuteTime": {
     "end_time": "2025-10-03T22:37:13.549701Z",
     "start_time": "2025-10-03T22:37:13.540020Z"
    },
    "colab": {
     "base_uri": "https://localhost:8080/",
     "height": 366
    },
    "id": "FToJ4UKosTyc",
    "outputId": "ed558dc5-e721-419c-bfb8-733b4d86eb13",
    "vscode": {
     "languageId": "r"
    }
   },
   "outputs": [
    {
     "data": {
      "text/plain": [
       "Pclass      int64\n",
       "Sex          int8\n",
       "Age       float64\n",
       "SibSp       int64\n",
       "Parch       int64\n",
       "Fare      float64\n",
       "C           int64\n",
       "Q           int64\n",
       "S           int64\n",
       "dtype: object"
      ]
     },
     "execution_count": 42,
     "metadata": {},
     "output_type": "execute_result"
    }
   ],
   "source": [
    "num_train_x.dtypes"
   ]
  },
  {
   "cell_type": "markdown",
   "id": "ii49SEPHKcF5",
   "metadata": {
    "id": "ii49SEPHKcF5"
   },
   "source": [
    "## 7) **Data visualisation**\n",
    "\n",
    "<p>Represeting the data in graphical way like making chart</p>\n"
   ]
  },
  {
   "cell_type": "code",
   "execution_count": null,
   "id": "ulg7TDeg7bf-",
   "metadata": {
    "ExecuteTime": {
     "end_time": "2025-10-03T22:37:13.614363Z",
     "start_time": "2025-10-03T22:37:13.574220Z"
    },
    "colab": {
     "base_uri": "https://localhost:8080/",
     "height": 307
    },
    "id": "ulg7TDeg7bf-",
    "outputId": "2d2dda9e-95f3-400c-a4f3-484c77335fc1",
    "vscode": {
     "languageId": "r"
    }
   },
   "outputs": [
    {
     "data": {
      "text/html": [
       "<div>\n",
       "<style scoped>\n",
       "    .dataframe tbody tr th:only-of-type {\n",
       "        vertical-align: middle;\n",
       "    }\n",
       "\n",
       "    .dataframe tbody tr th {\n",
       "        vertical-align: top;\n",
       "    }\n",
       "\n",
       "    .dataframe thead th {\n",
       "        text-align: right;\n",
       "    }\n",
       "</style>\n",
       "<table border=\"1\" class=\"dataframe\">\n",
       "  <thead>\n",
       "    <tr style=\"text-align: right;\">\n",
       "      <th></th>\n",
       "      <th>Pclass</th>\n",
       "      <th>Name</th>\n",
       "      <th>Sex</th>\n",
       "      <th>Age</th>\n",
       "      <th>SibSp</th>\n",
       "      <th>Parch</th>\n",
       "      <th>Ticket</th>\n",
       "      <th>Fare</th>\n",
       "      <th>Embarked</th>\n",
       "      <th>Survived</th>\n",
       "    </tr>\n",
       "    <tr>\n",
       "      <th>PassengerId</th>\n",
       "      <th></th>\n",
       "      <th></th>\n",
       "      <th></th>\n",
       "      <th></th>\n",
       "      <th></th>\n",
       "      <th></th>\n",
       "      <th></th>\n",
       "      <th></th>\n",
       "      <th></th>\n",
       "      <th></th>\n",
       "    </tr>\n",
       "  </thead>\n",
       "  <tbody>\n",
       "    <tr>\n",
       "      <th>675</th>\n",
       "      <td>2</td>\n",
       "      <td>Watson, Mr. Ennis Hastings</td>\n",
       "      <td>1</td>\n",
       "      <td>29.036629</td>\n",
       "      <td>0</td>\n",
       "      <td>0</td>\n",
       "      <td>239856</td>\n",
       "      <td>0.000</td>\n",
       "      <td>S</td>\n",
       "      <td>0</td>\n",
       "    </tr>\n",
       "    <tr>\n",
       "      <th>370</th>\n",
       "      <td>1</td>\n",
       "      <td>Aubart, Mme. Leontine Pauline</td>\n",
       "      <td>0</td>\n",
       "      <td>24.000000</td>\n",
       "      <td>0</td>\n",
       "      <td>0</td>\n",
       "      <td>PC 17477</td>\n",
       "      <td>69.300</td>\n",
       "      <td>C</td>\n",
       "      <td>1</td>\n",
       "    </tr>\n",
       "    <tr>\n",
       "      <th>701</th>\n",
       "      <td>1</td>\n",
       "      <td>Astor, Mrs. John Jacob (Madeleine Talmadge Force)</td>\n",
       "      <td>0</td>\n",
       "      <td>18.000000</td>\n",
       "      <td>1</td>\n",
       "      <td>0</td>\n",
       "      <td>PC 17757</td>\n",
       "      <td>227.525</td>\n",
       "      <td>C</td>\n",
       "      <td>1</td>\n",
       "    </tr>\n",
       "    <tr>\n",
       "      <th>124</th>\n",
       "      <td>2</td>\n",
       "      <td>Webber, Miss. Susan</td>\n",
       "      <td>0</td>\n",
       "      <td>32.500000</td>\n",
       "      <td>0</td>\n",
       "      <td>0</td>\n",
       "      <td>27267</td>\n",
       "      <td>13.000</td>\n",
       "      <td>S</td>\n",
       "      <td>1</td>\n",
       "    </tr>\n",
       "    <tr>\n",
       "      <th>324</th>\n",
       "      <td>2</td>\n",
       "      <td>Caldwell, Mrs. Albert Francis (Sylvia Mae Harb...</td>\n",
       "      <td>0</td>\n",
       "      <td>22.000000</td>\n",
       "      <td>1</td>\n",
       "      <td>1</td>\n",
       "      <td>248738</td>\n",
       "      <td>29.000</td>\n",
       "      <td>S</td>\n",
       "      <td>1</td>\n",
       "    </tr>\n",
       "  </tbody>\n",
       "</table>\n",
       "</div>"
      ],
      "text/plain": [
       "             Pclass                                               Name  Sex  \\\n",
       "PassengerId                                                                   \n",
       "675               2                         Watson, Mr. Ennis Hastings    1   \n",
       "370               1                      Aubart, Mme. Leontine Pauline    0   \n",
       "701               1  Astor, Mrs. John Jacob (Madeleine Talmadge Force)    0   \n",
       "124               2                                Webber, Miss. Susan    0   \n",
       "324               2  Caldwell, Mrs. Albert Francis (Sylvia Mae Harb...    0   \n",
       "\n",
       "                   Age  SibSp  Parch    Ticket     Fare Embarked  Survived  \n",
       "PassengerId                                                                 \n",
       "675          29.036629      0      0    239856    0.000        S         0  \n",
       "370          24.000000      0      0  PC 17477   69.300        C         1  \n",
       "701          18.000000      1      0  PC 17757  227.525        C         1  \n",
       "124          32.500000      0      0     27267   13.000        S         1  \n",
       "324          22.000000      1      1    248738   29.000        S         1  "
      ]
     },
     "execution_count": 43,
     "metadata": {},
     "output_type": "execute_result"
    }
   ],
   "source": [
    "visual_df = pd.concat([clean_train_x, clean_valid_x])\n",
    "visual_df['Survived'] = np.concatenate([train_y, valid_y])\n",
    "visual_df.head()"
   ]
  },
  {
   "cell_type": "code",
   "execution_count": null,
   "id": "UsL0fsm4MDiA",
   "metadata": {
    "ExecuteTime": {
     "end_time": "2025-10-04T00:37:08.071673Z",
     "start_time": "2025-10-04T00:37:07.856658Z"
    },
    "colab": {
     "base_uri": "https://localhost:8080/",
     "height": 519
    },
    "id": "UsL0fsm4MDiA",
    "outputId": "a0e79681-eb60-41c6-c949-fc0ecfe8ea19",
    "vscode": {
     "languageId": "r"
    }
   },
   "outputs": [
    {
     "data": {
      "text/html": [
       "\n",
       "<style>\n",
       "  #altair-viz-06b400deba0b4798b01b4e415938d70d.vega-embed {\n",
       "    width: 100%;\n",
       "    display: flex;\n",
       "  }\n",
       "\n",
       "  #altair-viz-06b400deba0b4798b01b4e415938d70d.vega-embed details,\n",
       "  #altair-viz-06b400deba0b4798b01b4e415938d70d.vega-embed details summary {\n",
       "    position: relative;\n",
       "  }\n",
       "</style>\n",
       "<div id=\"altair-viz-06b400deba0b4798b01b4e415938d70d\"></div>\n",
       "<script type=\"text/javascript\">\n",
       "  var VEGA_DEBUG = (typeof VEGA_DEBUG == \"undefined\") ? {} : VEGA_DEBUG;\n",
       "  (function(spec, embedOpt){\n",
       "    let outputDiv = document.currentScript.previousElementSibling;\n",
       "    if (outputDiv.id !== \"altair-viz-06b400deba0b4798b01b4e415938d70d\") {\n",
       "      outputDiv = document.getElementById(\"altair-viz-06b400deba0b4798b01b4e415938d70d\");\n",
       "    }\n",
       "\n",
       "    const paths = {\n",
       "      \"vega\": \"https://cdn.jsdelivr.net/npm/vega@5?noext\",\n",
       "      \"vega-lib\": \"https://cdn.jsdelivr.net/npm/vega-lib?noext\",\n",
       "      \"vega-lite\": \"https://cdn.jsdelivr.net/npm/vega-lite@5.20.1?noext\",\n",
       "      \"vega-embed\": \"https://cdn.jsdelivr.net/npm/vega-embed@6?noext\",\n",
       "    };\n",
       "\n",
       "    function maybeLoadScript(lib, version) {\n",
       "      var key = `${lib.replace(\"-\", \"\")}_version`;\n",
       "      return (VEGA_DEBUG[key] == version) ?\n",
       "        Promise.resolve(paths[lib]) :\n",
       "        new Promise(function(resolve, reject) {\n",
       "          var s = document.createElement('script');\n",
       "          document.getElementsByTagName(\"head\")[0].appendChild(s);\n",
       "          s.async = true;\n",
       "          s.onload = () => {\n",
       "            VEGA_DEBUG[key] = version;\n",
       "            return resolve(paths[lib]);\n",
       "          };\n",
       "          s.onerror = () => reject(`Error loading script: ${paths[lib]}`);\n",
       "          s.src = paths[lib];\n",
       "        });\n",
       "    }\n",
       "\n",
       "    function showError(err) {\n",
       "      outputDiv.innerHTML = `<div class=\"error\" style=\"color:red;\">${err}</div>`;\n",
       "      throw err;\n",
       "    }\n",
       "\n",
       "    function displayChart(vegaEmbed) {\n",
       "      vegaEmbed(outputDiv, spec, embedOpt)\n",
       "        .catch(err => showError(`Javascript Error: ${err.message}<br>This usually means there's a typo in your chart specification. See the javascript console for the full traceback.`));\n",
       "    }\n",
       "\n",
       "    if(typeof define === \"function\" && define.amd) {\n",
       "      requirejs.config({paths});\n",
       "      let deps = [\"vega-embed\"];\n",
       "      require(deps, displayChart, err => showError(`Error loading script: ${err.message}`));\n",
       "    } else {\n",
       "      maybeLoadScript(\"vega\", \"5\")\n",
       "        .then(() => maybeLoadScript(\"vega-lite\", \"5.20.1\"))\n",
       "        .then(() => maybeLoadScript(\"vega-embed\", \"6\"))\n",
       "        .catch(showError)\n",
       "        .then(() => displayChart(vegaEmbed));\n",
       "    }\n",
       "  })({\"config\": {\"view\": {\"continuousWidth\": 300, \"continuousHeight\": 300, \"stroke\": null}}, \"data\": {\"name\": \"data-d14a18c3905e1693f81043b21f7d7e86\"}, \"mark\": {\"type\": \"point\"}, \"encoding\": {\"color\": {\"field\": \"Survived\", \"legend\": {\"orient\": \"right\"}, \"scale\": {\"range\": [\"red\", \"blue\"], \"reverse\": true}, \"type\": \"nominal\"}, \"tooltip\": [{\"field\": \"Age\", \"type\": \"quantitative\"}, {\"field\": \"Fare\", \"type\": \"quantitative\"}, {\"field\": \"Survived\", \"type\": \"nominal\"}], \"x\": {\"field\": \"Age\", \"type\": \"quantitative\"}, \"y\": {\"field\": \"Fare\", \"type\": \"quantitative\"}}, \"height\": 300, \"title\": {\"text\": \"\", \"fontSize\": 18, \"subtitle\": \"\", \"subtitleFontSize\": 12}, \"width\": 300, \"$schema\": \"https://vega.github.io/schema/vega-lite/v5.20.1.json\", \"datasets\": {\"data-d14a18c3905e1693f81043b21f7d7e86\": [{\"Pclass\": 2, \"Name\": \"Watson, Mr. Ennis Hastings\", \"Sex\": \"Male (1)\", \"Age\": 29.036629422718807, \"SibSp\": 0, \"Parch\": 0, \"Ticket\": \"239856\", \"Fare\": 0.0, \"Embarked\": \"S\", \"Survived\": \"Didn't survive\"}, {\"Pclass\": 1, \"Name\": \"Aubart, Mme. Leontine Pauline\", \"Sex\": \"Female (0)\", \"Age\": 24.0, \"SibSp\": 0, \"Parch\": 0, \"Ticket\": \"PC 17477\", \"Fare\": 69.3, \"Embarked\": \"C\", \"Survived\": \"survived\"}, {\"Pclass\": 1, \"Name\": \"Astor, Mrs. John Jacob (Madeleine Talmadge Force)\", \"Sex\": \"Female (0)\", \"Age\": 18.0, \"SibSp\": 1, \"Parch\": 0, \"Ticket\": \"PC 17757\", \"Fare\": 227.525, \"Embarked\": \"C\", \"Survived\": \"survived\"}, {\"Pclass\": 2, \"Name\": \"Webber, Miss. Susan\", \"Sex\": \"Female (0)\", \"Age\": 32.5, \"SibSp\": 0, \"Parch\": 0, \"Ticket\": \"27267\", \"Fare\": 13.0, \"Embarked\": \"S\", \"Survived\": \"survived\"}, {\"Pclass\": 2, \"Name\": \"Caldwell, Mrs. Albert Francis (Sylvia Mae Harbaugh)\", \"Sex\": \"Female (0)\", \"Age\": 22.0, \"SibSp\": 1, \"Parch\": 1, \"Ticket\": \"248738\", \"Fare\": 29.0, \"Embarked\": \"S\", \"Survived\": \"survived\"}, {\"Pclass\": 1, \"Name\": \"Harper, Mrs. Henry Sleeper (Myna Haxtun)\", \"Sex\": \"Female (0)\", \"Age\": 49.0, \"SibSp\": 1, \"Parch\": 0, \"Ticket\": \"PC 17572\", \"Fare\": 76.7292, \"Embarked\": \"C\", \"Survived\": \"survived\"}, {\"Pclass\": 3, \"Name\": \"Nankoff, Mr. Minko\", \"Sex\": \"Male (1)\", \"Age\": 29.036629422718807, \"SibSp\": 0, \"Parch\": 0, \"Ticket\": \"349218\", \"Fare\": 7.8958, \"Embarked\": \"S\", \"Survived\": \"Didn't survive\"}, {\"Pclass\": 3, \"Name\": \"Dean, Mr. Bertram Frank\", \"Sex\": \"Male (1)\", \"Age\": 26.0, \"SibSp\": 1, \"Parch\": 2, \"Ticket\": \"C.A. 2315\", \"Fare\": 20.575, \"Embarked\": \"S\", \"Survived\": \"Didn't survive\"}, {\"Pclass\": 3, \"Name\": \"McMahon, Mr. Martin\", \"Sex\": \"Male (1)\", \"Age\": 29.036629422718807, \"SibSp\": 0, \"Parch\": 0, \"Ticket\": \"370372\", \"Fare\": 7.75, \"Embarked\": \"Q\", \"Survived\": \"Didn't survive\"}, {\"Pclass\": 3, \"Name\": \"Soholt, Mr. Peter Andreas Lauritz Andersen\", \"Sex\": \"Male (1)\", \"Age\": 19.0, \"SibSp\": 0, \"Parch\": 0, \"Ticket\": \"348124\", \"Fare\": 7.65, \"Embarked\": \"S\", \"Survived\": \"Didn't survive\"}, {\"Pclass\": 3, \"Name\": \"Windelov, Mr. Einar\", \"Sex\": \"Male (1)\", \"Age\": 21.0, \"SibSp\": 0, \"Parch\": 0, \"Ticket\": \"SOTON/OQ 3101317\", \"Fare\": 7.25, \"Embarked\": \"S\", \"Survived\": \"Didn't survive\"}, {\"Pclass\": 2, \"Name\": \"Fynney, Mr. Joseph J\", \"Sex\": \"Male (1)\", \"Age\": 35.0, \"SibSp\": 0, \"Parch\": 0, \"Ticket\": \"239865\", \"Fare\": 26.0, \"Embarked\": \"S\", \"Survived\": \"Didn't survive\"}, {\"Pclass\": 2, \"Name\": \"Carter, Rev. Ernest Courtenay\", \"Sex\": \"Male (1)\", \"Age\": 54.0, \"SibSp\": 1, \"Parch\": 0, \"Ticket\": \"244252\", \"Fare\": 26.0, \"Embarked\": \"S\", \"Survived\": \"Didn't survive\"}, {\"Pclass\": 3, \"Name\": \"Vande Walle, Mr. Nestor Cyriel\", \"Sex\": \"Male (1)\", \"Age\": 28.0, \"SibSp\": 0, \"Parch\": 0, \"Ticket\": \"345770\", \"Fare\": 9.5, \"Embarked\": \"S\", \"Survived\": \"Didn't survive\"}, {\"Pclass\": 2, \"Name\": \"Abelson, Mr. Samuel\", \"Sex\": \"Male (1)\", \"Age\": 30.0, \"SibSp\": 1, \"Parch\": 0, \"Ticket\": \"P/PP 3381\", \"Fare\": 24.0, \"Embarked\": \"C\", \"Survived\": \"Didn't survive\"}, {\"Pclass\": 1, \"Name\": \"Greenfield, Mr. William Bertram\", \"Sex\": \"Male (1)\", \"Age\": 23.0, \"SibSp\": 0, \"Parch\": 1, \"Ticket\": \"PC 17759\", \"Fare\": 63.3583, \"Embarked\": \"C\", \"Survived\": \"survived\"}, {\"Pclass\": 3, \"Name\": \"Gustafsson, Mr. Johan Birger\", \"Sex\": \"Male (1)\", \"Age\": 28.0, \"SibSp\": 2, \"Parch\": 0, \"Ticket\": \"3101277\", \"Fare\": 7.925, \"Embarked\": \"S\", \"Survived\": \"Didn't survive\"}, {\"Pclass\": 3, \"Name\": \"Smith, Mr. Thomas\", \"Sex\": \"Male (1)\", \"Age\": 29.036629422718807, \"SibSp\": 0, \"Parch\": 0, \"Ticket\": \"384461\", \"Fare\": 7.75, \"Embarked\": \"Q\", \"Survived\": \"Didn't survive\"}, {\"Pclass\": 3, \"Name\": \"Masselmani, Mrs. Fatima\", \"Sex\": \"Female (0)\", \"Age\": 29.036629422718807, \"SibSp\": 0, \"Parch\": 0, \"Ticket\": \"2649\", \"Fare\": 7.225, \"Embarked\": \"C\", \"Survived\": \"survived\"}, {\"Pclass\": 2, \"Name\": \"Mallet, Mr. Albert\", \"Sex\": \"Male (1)\", \"Age\": 31.0, \"SibSp\": 1, \"Parch\": 1, \"Ticket\": \"S.C./PARIS 2079\", \"Fare\": 37.0042, \"Embarked\": \"C\", \"Survived\": \"Didn't survive\"}, {\"Pclass\": 3, \"Name\": \"Johansson, Mr. Karl Johan\", \"Sex\": \"Male (1)\", \"Age\": 31.0, \"SibSp\": 0, \"Parch\": 0, \"Ticket\": \"347063\", \"Fare\": 7.775, \"Embarked\": \"S\", \"Survived\": \"Didn't survive\"}, {\"Pclass\": 1, \"Name\": \"Hoyt, Mr. William Fisher\", \"Sex\": \"Male (1)\", \"Age\": 29.036629422718807, \"SibSp\": 0, \"Parch\": 0, \"Ticket\": \"PC 17600\", \"Fare\": 30.6958, \"Embarked\": \"C\", \"Survived\": \"Didn't survive\"}, {\"Pclass\": 3, \"Name\": \"McDermott, Miss. Brigdet Delia\", \"Sex\": \"Female (0)\", \"Age\": 29.036629422718807, \"SibSp\": 0, \"Parch\": 0, \"Ticket\": \"330932\", \"Fare\": 7.7875, \"Embarked\": \"Q\", \"Survived\": \"survived\"}, {\"Pclass\": 2, \"Name\": \"Garside, Miss. Ethel\", \"Sex\": \"Female (0)\", \"Age\": 34.0, \"SibSp\": 0, \"Parch\": 0, \"Ticket\": \"243880\", \"Fare\": 13.0, \"Embarked\": \"S\", \"Survived\": \"survived\"}, {\"Pclass\": 2, \"Name\": \"Silven, Miss. Lyyli Karoliina\", \"Sex\": \"Female (0)\", \"Age\": 18.0, \"SibSp\": 0, \"Parch\": 2, \"Ticket\": \"250652\", \"Fare\": 13.0, \"Embarked\": \"S\", \"Survived\": \"survived\"}, {\"Pclass\": 3, \"Name\": \"Duane, Mr. Frank\", \"Sex\": \"Male (1)\", \"Age\": 65.0, \"SibSp\": 0, \"Parch\": 0, \"Ticket\": \"336439\", \"Fare\": 7.75, \"Embarked\": \"Q\", \"Survived\": \"Didn't survive\"}, {\"Pclass\": 2, \"Name\": \"Sjostedt, Mr. Ernst Adolf\", \"Sex\": \"Male (1)\", \"Age\": 59.0, \"SibSp\": 0, \"Parch\": 0, \"Ticket\": \"237442\", \"Fare\": 13.5, \"Embarked\": \"S\", \"Survived\": \"Didn't survive\"}, {\"Pclass\": 3, \"Name\": \"Moor, Master. Meier\", \"Sex\": \"Male (1)\", \"Age\": 6.0, \"SibSp\": 0, \"Parch\": 1, \"Ticket\": \"392096\", \"Fare\": 12.475, \"Embarked\": \"S\", \"Survived\": \"survived\"}, {\"Pclass\": 3, \"Name\": \"O'Brien, Mrs. Thomas (Johanna \\\"Hannah\\\" Godfrey)\", \"Sex\": \"Female (0)\", \"Age\": 29.036629422718807, \"SibSp\": 1, \"Parch\": 0, \"Ticket\": \"370365\", \"Fare\": 15.5, \"Embarked\": \"Q\", \"Survived\": \"survived\"}, {\"Pclass\": 3, \"Name\": \"Moussa, Mrs. (Mantoura Boulos)\", \"Sex\": \"Female (0)\", \"Age\": 29.036629422718807, \"SibSp\": 0, \"Parch\": 0, \"Ticket\": \"2626\", \"Fare\": 7.2292, \"Embarked\": \"C\", \"Survived\": \"survived\"}, {\"Pclass\": 3, \"Name\": \"Birkeland, Mr. Hans Martin Monsen\", \"Sex\": \"Male (1)\", \"Age\": 21.0, \"SibSp\": 0, \"Parch\": 0, \"Ticket\": \"312992\", \"Fare\": 7.775, \"Embarked\": \"S\", \"Survived\": \"Didn't survive\"}, {\"Pclass\": 3, \"Name\": \"Naidenoff, Mr. Penko\", \"Sex\": \"Male (1)\", \"Age\": 22.0, \"SibSp\": 0, \"Parch\": 0, \"Ticket\": \"349206\", \"Fare\": 7.8958, \"Embarked\": \"S\", \"Survived\": \"Didn't survive\"}, {\"Pclass\": 1, \"Name\": \"Frauenthal, Mrs. Henry William (Clara Heinsheimer)\", \"Sex\": \"Female (0)\", \"Age\": 29.036629422718807, \"SibSp\": 1, \"Parch\": 0, \"Ticket\": \"PC 17611\", \"Fare\": 133.65, \"Embarked\": \"S\", \"Survived\": \"survived\"}, {\"Pclass\": 3, \"Name\": \"Keefe, Mr. Arthur\", \"Sex\": \"Male (1)\", \"Age\": 29.036629422718807, \"SibSp\": 0, \"Parch\": 0, \"Ticket\": \"323592\", \"Fare\": 7.25, \"Embarked\": \"S\", \"Survived\": \"Didn't survive\"}, {\"Pclass\": 3, \"Name\": \"Charters, Mr. David\", \"Sex\": \"Male (1)\", \"Age\": 21.0, \"SibSp\": 0, \"Parch\": 0, \"Ticket\": \"A/5. 13032\", \"Fare\": 7.7333, \"Embarked\": \"Q\", \"Survived\": \"Didn't survive\"}, {\"Pclass\": 3, \"Name\": \"Petranec, Miss. Matilda\", \"Sex\": \"Female (0)\", \"Age\": 28.0, \"SibSp\": 0, \"Parch\": 0, \"Ticket\": \"349245\", \"Fare\": 7.8958, \"Embarked\": \"S\", \"Survived\": \"Didn't survive\"}, {\"Pclass\": 1, \"Name\": \"Harrison, Mr. William\", \"Sex\": \"Male (1)\", \"Age\": 40.0, \"SibSp\": 0, \"Parch\": 0, \"Ticket\": \"112059\", \"Fare\": 0.0, \"Embarked\": \"S\", \"Survived\": \"Didn't survive\"}, {\"Pclass\": 3, \"Name\": \"Lemberopolous, Mr. Peter L\", \"Sex\": \"Male (1)\", \"Age\": 34.5, \"SibSp\": 0, \"Parch\": 0, \"Ticket\": \"2683\", \"Fare\": 6.4375, \"Embarked\": \"C\", \"Survived\": \"Didn't survive\"}, {\"Pclass\": 1, \"Name\": \"Goldenberg, Mr. Samuel L\", \"Sex\": \"Male (1)\", \"Age\": 49.0, \"SibSp\": 1, \"Parch\": 0, \"Ticket\": \"17453\", \"Fare\": 89.1042, \"Embarked\": \"C\", \"Survived\": \"survived\"}, {\"Pclass\": 1, \"Name\": \"Frolicher, Miss. Hedwig Margaritha\", \"Sex\": \"Female (0)\", \"Age\": 22.0, \"SibSp\": 0, \"Parch\": 2, \"Ticket\": \"13568\", \"Fare\": 49.5, \"Embarked\": \"C\", \"Survived\": \"survived\"}, {\"Pclass\": 2, \"Name\": \"West, Mrs. Edwy Arthur (Ada Mary Worth)\", \"Sex\": \"Female (0)\", \"Age\": 33.0, \"SibSp\": 1, \"Parch\": 2, \"Ticket\": \"C.A. 34651\", \"Fare\": 27.75, \"Embarked\": \"S\", \"Survived\": \"survived\"}, {\"Pclass\": 3, \"Name\": \"Todoroff, Mr. Lalio\", \"Sex\": \"Male (1)\", \"Age\": 29.036629422718807, \"SibSp\": 0, \"Parch\": 0, \"Ticket\": \"349216\", \"Fare\": 7.8958, \"Embarked\": \"S\", \"Survived\": \"Didn't survive\"}, {\"Pclass\": 3, \"Name\": \"Goodwin, Master. Sidney Leonard\", \"Sex\": \"Male (1)\", \"Age\": 1.0, \"SibSp\": 5, \"Parch\": 2, \"Ticket\": \"CA 2144\", \"Fare\": 46.9, \"Embarked\": \"S\", \"Survived\": \"Didn't survive\"}, {\"Pclass\": 3, \"Name\": \"Lundahl, Mr. Johan Svensson\", \"Sex\": \"Male (1)\", \"Age\": 51.0, \"SibSp\": 0, \"Parch\": 0, \"Ticket\": \"347743\", \"Fare\": 7.0542, \"Embarked\": \"S\", \"Survived\": \"Didn't survive\"}, {\"Pclass\": 2, \"Name\": \"Kirkland, Rev. Charles Leonard\", \"Sex\": \"Male (1)\", \"Age\": 57.0, \"SibSp\": 0, \"Parch\": 0, \"Ticket\": \"219533\", \"Fare\": 12.35, \"Embarked\": \"Q\", \"Survived\": \"Didn't survive\"}, {\"Pclass\": 3, \"Name\": \"Shorney, Mr. Charles Joseph\", \"Sex\": \"Male (1)\", \"Age\": 29.036629422718807, \"SibSp\": 0, \"Parch\": 0, \"Ticket\": \"374910\", \"Fare\": 8.05, \"Embarked\": \"S\", \"Survived\": \"Didn't survive\"}, {\"Pclass\": 3, \"Name\": \"Sunderland, Mr. Victor Francis\", \"Sex\": \"Male (1)\", \"Age\": 16.0, \"SibSp\": 0, \"Parch\": 0, \"Ticket\": \"SOTON/OQ 392089\", \"Fare\": 8.05, \"Embarked\": \"S\", \"Survived\": \"survived\"}, {\"Pclass\": 3, \"Name\": \"de Messemaeker, Mrs. Guillaume Joseph (Emma)\", \"Sex\": \"Female (0)\", \"Age\": 36.0, \"SibSp\": 1, \"Parch\": 0, \"Ticket\": \"345572\", \"Fare\": 17.4, \"Embarked\": \"S\", \"Survived\": \"survived\"}, {\"Pclass\": 3, \"Name\": \"Svensson, Mr. Johan\", \"Sex\": \"Male (1)\", \"Age\": 74.0, \"SibSp\": 0, \"Parch\": 0, \"Ticket\": \"347060\", \"Fare\": 7.775, \"Embarked\": \"S\", \"Survived\": \"Didn't survive\"}, {\"Pclass\": 3, \"Name\": \"Stankovic, Mr. Ivan\", \"Sex\": \"Male (1)\", \"Age\": 33.0, \"SibSp\": 0, \"Parch\": 0, \"Ticket\": \"349239\", \"Fare\": 8.6625, \"Embarked\": \"C\", \"Survived\": \"Didn't survive\"}, {\"Pclass\": 2, \"Name\": \"Toomey, Miss. Ellen\", \"Sex\": \"Female (0)\", \"Age\": 50.0, \"SibSp\": 0, \"Parch\": 0, \"Ticket\": \"F.C.C. 13531\", \"Fare\": 10.5, \"Embarked\": \"S\", \"Survived\": \"survived\"}, {\"Pclass\": 3, \"Name\": \"Goldsmith, Mr. Frank John\", \"Sex\": \"Male (1)\", \"Age\": 33.0, \"SibSp\": 1, \"Parch\": 1, \"Ticket\": \"363291\", \"Fare\": 20.525, \"Embarked\": \"S\", \"Survived\": \"Didn't survive\"}, {\"Pclass\": 3, \"Name\": \"Cohen, Mr. Gurshon \\\"Gus\\\"\", \"Sex\": \"Male (1)\", \"Age\": 18.0, \"SibSp\": 0, \"Parch\": 0, \"Ticket\": \"A/5 3540\", \"Fare\": 8.05, \"Embarked\": \"S\", \"Survived\": \"survived\"}, {\"Pclass\": 1, \"Name\": \"Baumann, Mr. John D\", \"Sex\": \"Male (1)\", \"Age\": 29.036629422718807, \"SibSp\": 0, \"Parch\": 0, \"Ticket\": \"PC 17318\", \"Fare\": 25.925, \"Embarked\": \"S\", \"Survived\": \"Didn't survive\"}, {\"Pclass\": 2, \"Name\": \"Richard, Mr. Emile\", \"Sex\": \"Male (1)\", \"Age\": 23.0, \"SibSp\": 0, \"Parch\": 0, \"Ticket\": \"SC/PARIS 2133\", \"Fare\": 15.0458, \"Embarked\": \"C\", \"Survived\": \"Didn't survive\"}, {\"Pclass\": 1, \"Name\": \"Brown, Mrs. James Joseph (Margaret Tobin)\", \"Sex\": \"Female (0)\", \"Age\": 44.0, \"SibSp\": 0, \"Parch\": 0, \"Ticket\": \"PC 17610\", \"Fare\": 27.7208, \"Embarked\": \"C\", \"Survived\": \"survived\"}, {\"Pclass\": 1, \"Name\": \"Artagaveytia, Mr. Ramon\", \"Sex\": \"Male (1)\", \"Age\": 71.0, \"SibSp\": 0, \"Parch\": 0, \"Ticket\": \"PC 17609\", \"Fare\": 49.5042, \"Embarked\": \"C\", \"Survived\": \"Didn't survive\"}, {\"Pclass\": 1, \"Name\": \"Chambers, Mrs. Norman Campbell (Bertha Griggs)\", \"Sex\": \"Female (0)\", \"Age\": 33.0, \"SibSp\": 1, \"Parch\": 0, \"Ticket\": \"113806\", \"Fare\": 53.1, \"Embarked\": \"S\", \"Survived\": \"survived\"}, {\"Pclass\": 1, \"Name\": \"Newsom, Miss. Helen Monypeny\", \"Sex\": \"Female (0)\", \"Age\": 19.0, \"SibSp\": 0, \"Parch\": 2, \"Ticket\": \"11752\", \"Fare\": 26.2833, \"Embarked\": \"S\", \"Survived\": \"survived\"}, {\"Pclass\": 2, \"Name\": \"Mellinger, Miss. Madeleine Violet\", \"Sex\": \"Female (0)\", \"Age\": 13.0, \"SibSp\": 0, \"Parch\": 1, \"Ticket\": \"250644\", \"Fare\": 19.5, \"Embarked\": \"S\", \"Survived\": \"survived\"}, {\"Pclass\": 3, \"Name\": \"Saundercock, Mr. William Henry\", \"Sex\": \"Male (1)\", \"Age\": 20.0, \"SibSp\": 0, \"Parch\": 0, \"Ticket\": \"A/5. 2151\", \"Fare\": 8.05, \"Embarked\": \"S\", \"Survived\": \"Didn't survive\"}, {\"Pclass\": 3, \"Name\": \"Hagland, Mr. Konrad Mathias Reiersen\", \"Sex\": \"Male (1)\", \"Age\": 29.036629422718807, \"SibSp\": 1, \"Parch\": 0, \"Ticket\": \"65304\", \"Fare\": 19.9667, \"Embarked\": \"S\", \"Survived\": \"Didn't survive\"}, {\"Pclass\": 3, \"Name\": \"Baclini, Miss. Marie Catherine\", \"Sex\": \"Female (0)\", \"Age\": 5.0, \"SibSp\": 2, \"Parch\": 1, \"Ticket\": \"2666\", \"Fare\": 19.2583, \"Embarked\": \"C\", \"Survived\": \"survived\"}, {\"Pclass\": 1, \"Name\": \"Ryerson, Miss. Susan Parker \\\"Suzette\\\"\", \"Sex\": \"Female (0)\", \"Age\": 21.0, \"SibSp\": 2, \"Parch\": 2, \"Ticket\": \"PC 17608\", \"Fare\": 262.375, \"Embarked\": \"C\", \"Survived\": \"survived\"}, {\"Pclass\": 2, \"Name\": \"Butler, Mr. Reginald Fenton\", \"Sex\": \"Male (1)\", \"Age\": 25.0, \"SibSp\": 0, \"Parch\": 0, \"Ticket\": \"234686\", \"Fare\": 13.0, \"Embarked\": \"S\", \"Survived\": \"Didn't survive\"}, {\"Pclass\": 3, \"Name\": \"Kelly, Miss. Mary\", \"Sex\": \"Female (0)\", \"Age\": 29.036629422718807, \"SibSp\": 0, \"Parch\": 0, \"Ticket\": \"14312\", \"Fare\": 7.75, \"Embarked\": \"Q\", \"Survived\": \"survived\"}, {\"Pclass\": 1, \"Name\": \"Millet, Mr. Francis Davis\", \"Sex\": \"Male (1)\", \"Age\": 65.0, \"SibSp\": 0, \"Parch\": 0, \"Ticket\": \"13509\", \"Fare\": 26.55, \"Embarked\": \"S\", \"Survived\": \"Didn't survive\"}, {\"Pclass\": 2, \"Name\": \"Sharp, Mr. Percival James R\", \"Sex\": \"Male (1)\", \"Age\": 27.0, \"SibSp\": 0, \"Parch\": 0, \"Ticket\": \"244358\", \"Fare\": 26.0, \"Embarked\": \"S\", \"Survived\": \"Didn't survive\"}, {\"Pclass\": 3, \"Name\": \"Sage, Mr. Frederick\", \"Sex\": \"Male (1)\", \"Age\": 29.036629422718807, \"SibSp\": 8, \"Parch\": 2, \"Ticket\": \"CA. 2343\", \"Fare\": 69.55, \"Embarked\": \"S\", \"Survived\": \"Didn't survive\"}, {\"Pclass\": 3, \"Name\": \"O'Driscoll, Miss. Bridget\", \"Sex\": \"Female (0)\", \"Age\": 29.036629422718807, \"SibSp\": 0, \"Parch\": 0, \"Ticket\": \"14311\", \"Fare\": 7.75, \"Embarked\": \"Q\", \"Survived\": \"survived\"}, {\"Pclass\": 2, \"Name\": \"Carter, Mrs. Ernest Courtenay (Lilian Hughes)\", \"Sex\": \"Female (0)\", \"Age\": 44.0, \"SibSp\": 1, \"Parch\": 0, \"Ticket\": \"244252\", \"Fare\": 26.0, \"Embarked\": \"S\", \"Survived\": \"Didn't survive\"}, {\"Pclass\": 1, \"Name\": \"Andrews, Miss. Kornelia Theodosia\", \"Sex\": \"Female (0)\", \"Age\": 63.0, \"SibSp\": 1, \"Parch\": 0, \"Ticket\": \"13502\", \"Fare\": 77.9583, \"Embarked\": \"S\", \"Survived\": \"survived\"}, {\"Pclass\": 3, \"Name\": \"Lahoud, Mr. Sarkis\", \"Sex\": \"Male (1)\", \"Age\": 29.036629422718807, \"SibSp\": 0, \"Parch\": 0, \"Ticket\": \"2624\", \"Fare\": 7.225, \"Embarked\": \"C\", \"Survived\": \"Didn't survive\"}, {\"Pclass\": 3, \"Name\": \"Green, Mr. George Henry\", \"Sex\": \"Male (1)\", \"Age\": 51.0, \"SibSp\": 0, \"Parch\": 0, \"Ticket\": \"21440\", \"Fare\": 8.05, \"Embarked\": \"S\", \"Survived\": \"Didn't survive\"}, {\"Pclass\": 1, \"Name\": \"Simonius-Blumer, Col. Oberst Alfons\", \"Sex\": \"Male (1)\", \"Age\": 56.0, \"SibSp\": 0, \"Parch\": 0, \"Ticket\": \"13213\", \"Fare\": 35.5, \"Embarked\": \"C\", \"Survived\": \"survived\"}, {\"Pclass\": 1, \"Name\": \"Thayer, Mr. John Borland\", \"Sex\": \"Male (1)\", \"Age\": 49.0, \"SibSp\": 1, \"Parch\": 1, \"Ticket\": \"17421\", \"Fare\": 110.8833, \"Embarked\": \"C\", \"Survived\": \"Didn't survive\"}, {\"Pclass\": 3, \"Name\": \"Healy, Miss. Hanora \\\"Nora\\\"\", \"Sex\": \"Female (0)\", \"Age\": 29.036629422718807, \"SibSp\": 0, \"Parch\": 0, \"Ticket\": \"370375\", \"Fare\": 7.75, \"Embarked\": \"Q\", \"Survived\": \"survived\"}, {\"Pclass\": 1, \"Name\": \"Graham, Mrs. William Thompson (Edith Junkins)\", \"Sex\": \"Female (0)\", \"Age\": 58.0, \"SibSp\": 0, \"Parch\": 1, \"Ticket\": \"PC 17582\", \"Fare\": 153.4625, \"Embarked\": \"S\", \"Survived\": \"survived\"}, {\"Pclass\": 3, \"Name\": \"Elias, Mr. Joseph Jr\", \"Sex\": \"Male (1)\", \"Age\": 17.0, \"SibSp\": 1, \"Parch\": 1, \"Ticket\": \"2690\", \"Fare\": 7.2292, \"Embarked\": \"C\", \"Survived\": \"Didn't survive\"}, {\"Pclass\": 3, \"Name\": \"Sdycoff, Mr. Todor\", \"Sex\": \"Male (1)\", \"Age\": 29.036629422718807, \"SibSp\": 0, \"Parch\": 0, \"Ticket\": \"349222\", \"Fare\": 7.8958, \"Embarked\": \"S\", \"Survived\": \"Didn't survive\"}, {\"Pclass\": 2, \"Name\": \"Harris, Mr. George\", \"Sex\": \"Male (1)\", \"Age\": 62.0, \"SibSp\": 0, \"Parch\": 0, \"Ticket\": \"S.W./PP 752\", \"Fare\": 10.5, \"Embarked\": \"S\", \"Survived\": \"survived\"}, {\"Pclass\": 3, \"Name\": \"Skoog, Master. Karl Thorsten\", \"Sex\": \"Male (1)\", \"Age\": 10.0, \"SibSp\": 3, \"Parch\": 2, \"Ticket\": \"347088\", \"Fare\": 27.9, \"Embarked\": \"S\", \"Survived\": \"Didn't survive\"}, {\"Pclass\": 3, \"Name\": \"McGowan, Miss. Anna \\\"Annie\\\"\", \"Sex\": \"Female (0)\", \"Age\": 15.0, \"SibSp\": 0, \"Parch\": 0, \"Ticket\": \"330923\", \"Fare\": 8.0292, \"Embarked\": \"Q\", \"Survived\": \"survived\"}, {\"Pclass\": 3, \"Name\": \"McGovern, Miss. Mary\", \"Sex\": \"Female (0)\", \"Age\": 29.036629422718807, \"SibSp\": 0, \"Parch\": 0, \"Ticket\": \"330931\", \"Fare\": 7.8792, \"Embarked\": \"Q\", \"Survived\": \"survived\"}, {\"Pclass\": 1, \"Name\": \"Minahan, Miss. Daisy E\", \"Sex\": \"Female (0)\", \"Age\": 33.0, \"SibSp\": 1, \"Parch\": 0, \"Ticket\": \"19928\", \"Fare\": 90.0, \"Embarked\": \"Q\", \"Survived\": \"survived\"}, {\"Pclass\": 1, \"Name\": \"Leader, Dr. Alice (Farnham)\", \"Sex\": \"Female (0)\", \"Age\": 49.0, \"SibSp\": 0, \"Parch\": 0, \"Ticket\": \"17465\", \"Fare\": 25.9292, \"Embarked\": \"S\", \"Survived\": \"survived\"}, {\"Pclass\": 1, \"Name\": \"Longley, Miss. Gretchen Fiske\", \"Sex\": \"Female (0)\", \"Age\": 21.0, \"SibSp\": 0, \"Parch\": 0, \"Ticket\": \"13502\", \"Fare\": 77.9583, \"Embarked\": \"S\", \"Survived\": \"survived\"}, {\"Pclass\": 3, \"Name\": \"Kink-Heilmann, Miss. Luise Gretchen\", \"Sex\": \"Female (0)\", \"Age\": 4.0, \"SibSp\": 0, \"Parch\": 2, \"Ticket\": \"315153\", \"Fare\": 22.025, \"Embarked\": \"S\", \"Survived\": \"survived\"}, {\"Pclass\": 1, \"Name\": \"McCarthy, Mr. Timothy J\", \"Sex\": \"Male (1)\", \"Age\": 54.0, \"SibSp\": 0, \"Parch\": 0, \"Ticket\": \"17463\", \"Fare\": 51.8625, \"Embarked\": \"S\", \"Survived\": \"Didn't survive\"}, {\"Pclass\": 3, \"Name\": \"Gallagher, Mr. Martin\", \"Sex\": \"Male (1)\", \"Age\": 25.0, \"SibSp\": 0, \"Parch\": 0, \"Ticket\": \"36864\", \"Fare\": 7.7417, \"Embarked\": \"Q\", \"Survived\": \"Didn't survive\"}, {\"Pclass\": 1, \"Name\": \"Wick, Miss. Mary Natalie\", \"Sex\": \"Female (0)\", \"Age\": 31.0, \"SibSp\": 0, \"Parch\": 2, \"Ticket\": \"36928\", \"Fare\": 164.8667, \"Embarked\": \"S\", \"Survived\": \"survived\"}, {\"Pclass\": 2, \"Name\": \"Drew, Mrs. James Vivian (Lulu Thorne Christian)\", \"Sex\": \"Female (0)\", \"Age\": 34.0, \"SibSp\": 1, \"Parch\": 1, \"Ticket\": \"28220\", \"Fare\": 32.5, \"Embarked\": \"S\", \"Survived\": \"survived\"}, {\"Pclass\": 2, \"Name\": \"Nasser, Mrs. Nicholas (Adele Achem)\", \"Sex\": \"Female (0)\", \"Age\": 14.0, \"SibSp\": 1, \"Parch\": 0, \"Ticket\": \"237736\", \"Fare\": 30.0708, \"Embarked\": \"C\", \"Survived\": \"survived\"}, {\"Pclass\": 3, \"Name\": \"Johannesen-Bratthammer, Mr. Bernt\", \"Sex\": \"Male (1)\", \"Age\": 29.036629422718807, \"SibSp\": 0, \"Parch\": 0, \"Ticket\": \"65306\", \"Fare\": 8.1125, \"Embarked\": \"S\", \"Survived\": \"survived\"}, {\"Pclass\": 3, \"Name\": \"Van Impe, Mrs. Jean Baptiste (Rosalie Paula Govaert)\", \"Sex\": \"Female (0)\", \"Age\": 30.0, \"SibSp\": 1, \"Parch\": 1, \"Ticket\": \"345773\", \"Fare\": 24.15, \"Embarked\": \"S\", \"Survived\": \"Didn't survive\"}, {\"Pclass\": 1, \"Name\": \"Beckwith, Mr. Richard Leonard\", \"Sex\": \"Male (1)\", \"Age\": 37.0, \"SibSp\": 1, \"Parch\": 1, \"Ticket\": \"11751\", \"Fare\": 52.5542, \"Embarked\": \"S\", \"Survived\": \"survived\"}, {\"Pclass\": 3, \"Name\": \"Keane, Mr. Andrew \\\"Andy\\\"\", \"Sex\": \"Male (1)\", \"Age\": 29.036629422718807, \"SibSp\": 0, \"Parch\": 0, \"Ticket\": \"12460\", \"Fare\": 7.75, \"Embarked\": \"Q\", \"Survived\": \"Didn't survive\"}, {\"Pclass\": 3, \"Name\": \"Nakid, Mr. Sahid\", \"Sex\": \"Male (1)\", \"Age\": 20.0, \"SibSp\": 1, \"Parch\": 1, \"Ticket\": \"2653\", \"Fare\": 15.7417, \"Embarked\": \"C\", \"Survived\": \"survived\"}, {\"Pclass\": 1, \"Name\": \"Allison, Mrs. Hudson J C (Bessie Waldo Daniels)\", \"Sex\": \"Female (0)\", \"Age\": 25.0, \"SibSp\": 1, \"Parch\": 2, \"Ticket\": \"113781\", \"Fare\": 151.55, \"Embarked\": \"S\", \"Survived\": \"Didn't survive\"}, {\"Pclass\": 1, \"Name\": \"Hawksford, Mr. Walter James\", \"Sex\": \"Male (1)\", \"Age\": 29.036629422718807, \"SibSp\": 0, \"Parch\": 0, \"Ticket\": \"16988\", \"Fare\": 30.0, \"Embarked\": \"S\", \"Survived\": \"survived\"}, {\"Pclass\": 2, \"Name\": \"Angle, Mrs. William A (Florence \\\"Mary\\\" Agnes Hughes)\", \"Sex\": \"Female (0)\", \"Age\": 36.0, \"SibSp\": 1, \"Parch\": 0, \"Ticket\": \"226875\", \"Fare\": 26.0, \"Embarked\": \"S\", \"Survived\": \"survived\"}, {\"Pclass\": 2, \"Name\": \"Renouf, Mrs. Peter Henry (Lillian Jefferys)\", \"Sex\": \"Female (0)\", \"Age\": 30.0, \"SibSp\": 3, \"Parch\": 0, \"Ticket\": \"31027\", \"Fare\": 21.0, \"Embarked\": \"S\", \"Survived\": \"survived\"}, {\"Pclass\": 3, \"Name\": \"Nirva, Mr. Iisakki Antino Aijo\", \"Sex\": \"Male (1)\", \"Age\": 41.0, \"SibSp\": 0, \"Parch\": 0, \"Ticket\": \"SOTON/O2 3101272\", \"Fare\": 7.125, \"Embarked\": \"S\", \"Survived\": \"Didn't survive\"}, {\"Pclass\": 3, \"Name\": \"Heininen, Miss. Wendla Maria\", \"Sex\": \"Female (0)\", \"Age\": 23.0, \"SibSp\": 0, \"Parch\": 0, \"Ticket\": \"STON/O2. 3101290\", \"Fare\": 7.925, \"Embarked\": \"S\", \"Survived\": \"Didn't survive\"}, {\"Pclass\": 2, \"Name\": \"Hickman, Mr. Stanley George\", \"Sex\": \"Male (1)\", \"Age\": 21.0, \"SibSp\": 2, \"Parch\": 0, \"Ticket\": \"S.O.C. 14879\", \"Fare\": 73.5, \"Embarked\": \"S\", \"Survived\": \"Didn't survive\"}, {\"Pclass\": 3, \"Name\": \"Vander Planke, Mr. Leo Edmondus\", \"Sex\": \"Male (1)\", \"Age\": 16.0, \"SibSp\": 2, \"Parch\": 0, \"Ticket\": \"345764\", \"Fare\": 18.0, \"Embarked\": \"S\", \"Survived\": \"Didn't survive\"}, {\"Pclass\": 1, \"Name\": \"Wick, Mrs. George Dennick (Mary Hitchcock)\", \"Sex\": \"Female (0)\", \"Age\": 45.0, \"SibSp\": 1, \"Parch\": 1, \"Ticket\": \"36928\", \"Fare\": 164.8667, \"Embarked\": \"S\", \"Survived\": \"survived\"}, {\"Pclass\": 2, \"Name\": \"Mitchell, Mr. Henry Michael\", \"Sex\": \"Male (1)\", \"Age\": 70.0, \"SibSp\": 0, \"Parch\": 0, \"Ticket\": \"C.A. 24580\", \"Fare\": 10.5, \"Embarked\": \"S\", \"Survived\": \"Didn't survive\"}, {\"Pclass\": 1, \"Name\": \"Lines, Miss. Mary Conover\", \"Sex\": \"Female (0)\", \"Age\": 16.0, \"SibSp\": 0, \"Parch\": 1, \"Ticket\": \"PC 17592\", \"Fare\": 39.4, \"Embarked\": \"S\", \"Survived\": \"survived\"}, {\"Pclass\": 1, \"Name\": \"Bonnell, Miss. Elizabeth\", \"Sex\": \"Female (0)\", \"Age\": 58.0, \"SibSp\": 0, \"Parch\": 0, \"Ticket\": \"113783\", \"Fare\": 26.55, \"Embarked\": \"S\", \"Survived\": \"survived\"}, {\"Pclass\": 3, \"Name\": \"Torber, Mr. Ernst William\", \"Sex\": \"Male (1)\", \"Age\": 44.0, \"SibSp\": 0, \"Parch\": 0, \"Ticket\": \"364511\", \"Fare\": 8.05, \"Embarked\": \"S\", \"Survived\": \"Didn't survive\"}, {\"Pclass\": 3, \"Name\": \"Calic, Mr. Petar\", \"Sex\": \"Male (1)\", \"Age\": 17.0, \"SibSp\": 0, \"Parch\": 0, \"Ticket\": \"315086\", \"Fare\": 8.6625, \"Embarked\": \"S\", \"Survived\": \"Didn't survive\"}, {\"Pclass\": 2, \"Name\": \"Laroche, Mrs. Joseph (Juliette Marie Louise Lafargue)\", \"Sex\": \"Female (0)\", \"Age\": 22.0, \"SibSp\": 1, \"Parch\": 2, \"Ticket\": \"SC/Paris 2123\", \"Fare\": 41.5792, \"Embarked\": \"C\", \"Survived\": \"survived\"}, {\"Pclass\": 3, \"Name\": \"Palsson, Master. Gosta Leonard\", \"Sex\": \"Male (1)\", \"Age\": 2.0, \"SibSp\": 3, \"Parch\": 1, \"Ticket\": \"349909\", \"Fare\": 21.075, \"Embarked\": \"S\", \"Survived\": \"Didn't survive\"}, {\"Pclass\": 3, \"Name\": \"Peter, Miss. Anna\", \"Sex\": \"Female (0)\", \"Age\": 29.036629422718807, \"SibSp\": 1, \"Parch\": 1, \"Ticket\": \"2668\", \"Fare\": 22.3583, \"Embarked\": \"C\", \"Survived\": \"survived\"}, {\"Pclass\": 2, \"Name\": \"Hood, Mr. Ambrose Jr\", \"Sex\": \"Male (1)\", \"Age\": 21.0, \"SibSp\": 0, \"Parch\": 0, \"Ticket\": \"S.O.C. 14879\", \"Fare\": 73.5, \"Embarked\": \"S\", \"Survived\": \"Didn't survive\"}, {\"Pclass\": 2, \"Name\": \"Carbines, Mr. William\", \"Sex\": \"Male (1)\", \"Age\": 19.0, \"SibSp\": 0, \"Parch\": 0, \"Ticket\": \"28424\", \"Fare\": 13.0, \"Embarked\": \"S\", \"Survived\": \"Didn't survive\"}, {\"Pclass\": 3, \"Name\": \"Gustafsson, Mr. Alfred Ossian\", \"Sex\": \"Male (1)\", \"Age\": 20.0, \"SibSp\": 0, \"Parch\": 0, \"Ticket\": \"7534\", \"Fare\": 9.8458, \"Embarked\": \"S\", \"Survived\": \"Didn't survive\"}, {\"Pclass\": 3, \"Name\": \"Lefebre, Master. Henry Forbes\", \"Sex\": \"Male (1)\", \"Age\": 29.036629422718807, \"SibSp\": 3, \"Parch\": 1, \"Ticket\": \"4133\", \"Fare\": 25.4667, \"Embarked\": \"S\", \"Survived\": \"Didn't survive\"}, {\"Pclass\": 2, \"Name\": \"Gillespie, Mr. William Henry\", \"Sex\": \"Male (1)\", \"Age\": 34.0, \"SibSp\": 0, \"Parch\": 0, \"Ticket\": \"12233\", \"Fare\": 13.0, \"Embarked\": \"S\", \"Survived\": \"Didn't survive\"}, {\"Pclass\": 3, \"Name\": \"Hirvonen, Miss. Hildur E\", \"Sex\": \"Female (0)\", \"Age\": 2.0, \"SibSp\": 0, \"Parch\": 1, \"Ticket\": \"3101298\", \"Fare\": 12.2875, \"Embarked\": \"S\", \"Survived\": \"survived\"}, {\"Pclass\": 2, \"Name\": \"Watt, Mrs. James (Elizabeth \\\"Bessie\\\" Inglis Milne)\", \"Sex\": \"Female (0)\", \"Age\": 40.0, \"SibSp\": 0, \"Parch\": 0, \"Ticket\": \"C.A. 33595\", \"Fare\": 15.75, \"Embarked\": \"S\", \"Survived\": \"survived\"}, {\"Pclass\": 1, \"Name\": \"Carter, Miss. Lucile Polk\", \"Sex\": \"Female (0)\", \"Age\": 14.0, \"SibSp\": 1, \"Parch\": 2, \"Ticket\": \"113760\", \"Fare\": 120.0, \"Embarked\": \"S\", \"Survived\": \"survived\"}, {\"Pclass\": 1, \"Name\": \"Compton, Miss. Sara Rebecca\", \"Sex\": \"Female (0)\", \"Age\": 39.0, \"SibSp\": 1, \"Parch\": 1, \"Ticket\": \"PC 17756\", \"Fare\": 83.1583, \"Embarked\": \"C\", \"Survived\": \"survived\"}, {\"Pclass\": 3, \"Name\": \"Abbott, Mr. Rossmore Edward\", \"Sex\": \"Male (1)\", \"Age\": 16.0, \"SibSp\": 1, \"Parch\": 1, \"Ticket\": \"C.A. 2673\", \"Fare\": 20.25, \"Embarked\": \"S\", \"Survived\": \"Didn't survive\"}, {\"Pclass\": 2, \"Name\": \"Berriman, Mr. William John\", \"Sex\": \"Male (1)\", \"Age\": 23.0, \"SibSp\": 0, \"Parch\": 0, \"Ticket\": \"28425\", \"Fare\": 13.0, \"Embarked\": \"S\", \"Survived\": \"Didn't survive\"}, {\"Pclass\": 3, \"Name\": \"Thorneycroft, Mrs. Percival (Florence Kate White)\", \"Sex\": \"Female (0)\", \"Age\": 29.036629422718807, \"SibSp\": 1, \"Parch\": 0, \"Ticket\": \"376564\", \"Fare\": 16.1, \"Embarked\": \"S\", \"Survived\": \"survived\"}, {\"Pclass\": 3, \"Name\": \"Kassem, Mr. Fared\", \"Sex\": \"Male (1)\", \"Age\": 29.036629422718807, \"SibSp\": 0, \"Parch\": 0, \"Ticket\": \"2700\", \"Fare\": 7.2292, \"Embarked\": \"C\", \"Survived\": \"Didn't survive\"}, {\"Pclass\": 3, \"Name\": \"Leeni, Mr. Fahim (\\\"Philip Zenni\\\")\", \"Sex\": \"Male (1)\", \"Age\": 22.0, \"SibSp\": 0, \"Parch\": 0, \"Ticket\": \"2620\", \"Fare\": 7.225, \"Embarked\": \"C\", \"Survived\": \"survived\"}, {\"Pclass\": 3, \"Name\": \"Mitkoff, Mr. Mito\", \"Sex\": \"Male (1)\", \"Age\": 29.036629422718807, \"SibSp\": 0, \"Parch\": 0, \"Ticket\": \"349221\", \"Fare\": 7.8958, \"Embarked\": \"S\", \"Survived\": \"Didn't survive\"}, {\"Pclass\": 3, \"Name\": \"Slocovski, Mr. Selman Francis\", \"Sex\": \"Male (1)\", \"Age\": 29.036629422718807, \"SibSp\": 0, \"Parch\": 0, \"Ticket\": \"SOTON/OQ 392086\", \"Fare\": 8.05, \"Embarked\": \"S\", \"Survived\": \"Didn't survive\"}, {\"Pclass\": 3, \"Name\": \"Abbott, Mrs. Stanton (Rosa Hunt)\", \"Sex\": \"Female (0)\", \"Age\": 35.0, \"SibSp\": 1, \"Parch\": 1, \"Ticket\": \"C.A. 2673\", \"Fare\": 20.25, \"Embarked\": \"S\", \"Survived\": \"survived\"}, {\"Pclass\": 3, \"Name\": \"Johnston, Mr. Andrew G\", \"Sex\": \"Male (1)\", \"Age\": 29.036629422718807, \"SibSp\": 1, \"Parch\": 2, \"Ticket\": \"W./C. 6607\", \"Fare\": 23.45, \"Embarked\": \"S\", \"Survived\": \"Didn't survive\"}, {\"Pclass\": 3, \"Name\": \"Strom, Mrs. Wilhelm (Elna Matilda Persson)\", \"Sex\": \"Female (0)\", \"Age\": 29.0, \"SibSp\": 1, \"Parch\": 1, \"Ticket\": \"347054\", \"Fare\": 10.4625, \"Embarked\": \"S\", \"Survived\": \"Didn't survive\"}, {\"Pclass\": 3, \"Name\": \"Thomas, Master. Assad Alexander\", \"Sex\": \"Male (1)\", \"Age\": 0.42, \"SibSp\": 0, \"Parch\": 1, \"Ticket\": \"2625\", \"Fare\": 8.5167, \"Embarked\": \"C\", \"Survived\": \"survived\"}, {\"Pclass\": 3, \"Name\": \"Najib, Miss. Adele Kiamie \\\"Jane\\\"\", \"Sex\": \"Female (0)\", \"Age\": 15.0, \"SibSp\": 0, \"Parch\": 0, \"Ticket\": \"2667\", \"Fare\": 7.225, \"Embarked\": \"C\", \"Survived\": \"survived\"}, {\"Pclass\": 3, \"Name\": \"Danbom, Mrs. Ernst Gilbert (Anna Sigrid Maria Brogren)\", \"Sex\": \"Female (0)\", \"Age\": 28.0, \"SibSp\": 1, \"Parch\": 1, \"Ticket\": \"347080\", \"Fare\": 14.4, \"Embarked\": \"S\", \"Survived\": \"Didn't survive\"}, {\"Pclass\": 3, \"Name\": \"Ling, Mr. Lee\", \"Sex\": \"Male (1)\", \"Age\": 28.0, \"SibSp\": 0, \"Parch\": 0, \"Ticket\": \"1601\", \"Fare\": 56.4958, \"Embarked\": \"S\", \"Survived\": \"Didn't survive\"}, {\"Pclass\": 3, \"Name\": \"Calic, Mr. Jovo\", \"Sex\": \"Male (1)\", \"Age\": 17.0, \"SibSp\": 0, \"Parch\": 0, \"Ticket\": \"315093\", \"Fare\": 8.6625, \"Embarked\": \"S\", \"Survived\": \"Didn't survive\"}, {\"Pclass\": 3, \"Name\": \"Skoog, Miss. Margit Elizabeth\", \"Sex\": \"Female (0)\", \"Age\": 2.0, \"SibSp\": 3, \"Parch\": 2, \"Ticket\": \"347088\", \"Fare\": 27.9, \"Embarked\": \"S\", \"Survived\": \"Didn't survive\"}, {\"Pclass\": 3, \"Name\": \"Johnston, Miss. Catherine Helen \\\"Carrie\\\"\", \"Sex\": \"Female (0)\", \"Age\": 29.036629422718807, \"SibSp\": 1, \"Parch\": 2, \"Ticket\": \"W./C. 6607\", \"Fare\": 23.45, \"Embarked\": \"S\", \"Survived\": \"Didn't survive\"}, {\"Pclass\": 3, \"Name\": \"Dimic, Mr. Jovan\", \"Sex\": \"Male (1)\", \"Age\": 42.0, \"SibSp\": 0, \"Parch\": 0, \"Ticket\": \"315088\", \"Fare\": 8.6625, \"Embarked\": \"S\", \"Survived\": \"Didn't survive\"}, {\"Pclass\": 3, \"Name\": \"Webber, Mr. James\", \"Sex\": \"Male (1)\", \"Age\": 29.036629422718807, \"SibSp\": 0, \"Parch\": 0, \"Ticket\": \"SOTON/OQ 3101316\", \"Fare\": 8.05, \"Embarked\": \"S\", \"Survived\": \"Didn't survive\"}, {\"Pclass\": 2, \"Name\": \"Laroche, Miss. Simonne Marie Anne Andree\", \"Sex\": \"Female (0)\", \"Age\": 3.0, \"SibSp\": 1, \"Parch\": 2, \"Ticket\": \"SC/Paris 2123\", \"Fare\": 41.5792, \"Embarked\": \"C\", \"Survived\": \"survived\"}, {\"Pclass\": 3, \"Name\": \"Moss, Mr. Albert Johan\", \"Sex\": \"Male (1)\", \"Age\": 29.036629422718807, \"SibSp\": 0, \"Parch\": 0, \"Ticket\": \"312991\", \"Fare\": 7.775, \"Embarked\": \"S\", \"Survived\": \"survived\"}, {\"Pclass\": 3, \"Name\": \"Pickard, Mr. Berk (Berk Trembisky)\", \"Sex\": \"Male (1)\", \"Age\": 32.0, \"SibSp\": 0, \"Parch\": 0, \"Ticket\": \"SOTON/O.Q. 392078\", \"Fare\": 8.05, \"Embarked\": \"S\", \"Survived\": \"survived\"}, {\"Pclass\": 3, \"Name\": \"Morrow, Mr. Thomas Rowan\", \"Sex\": \"Male (1)\", \"Age\": 29.036629422718807, \"SibSp\": 0, \"Parch\": 0, \"Ticket\": \"372622\", \"Fare\": 7.75, \"Embarked\": \"Q\", \"Survived\": \"Didn't survive\"}, {\"Pclass\": 3, \"Name\": \"Lam, Mr. Ali\", \"Sex\": \"Male (1)\", \"Age\": 29.036629422718807, \"SibSp\": 0, \"Parch\": 0, \"Ticket\": \"1601\", \"Fare\": 56.4958, \"Embarked\": \"S\", \"Survived\": \"survived\"}, {\"Pclass\": 3, \"Name\": \"Ivanoff, Mr. Kanio\", \"Sex\": \"Male (1)\", \"Age\": 29.036629422718807, \"SibSp\": 0, \"Parch\": 0, \"Ticket\": \"349201\", \"Fare\": 7.8958, \"Embarked\": \"S\", \"Survived\": \"Didn't survive\"}, {\"Pclass\": 3, \"Name\": \"Danoff, Mr. Yoto\", \"Sex\": \"Male (1)\", \"Age\": 27.0, \"SibSp\": 0, \"Parch\": 0, \"Ticket\": \"349219\", \"Fare\": 7.8958, \"Embarked\": \"S\", \"Survived\": \"Didn't survive\"}, {\"Pclass\": 2, \"Name\": \"Davis, Miss. Mary\", \"Sex\": \"Female (0)\", \"Age\": 28.0, \"SibSp\": 0, \"Parch\": 0, \"Ticket\": \"237668\", \"Fare\": 13.0, \"Embarked\": \"S\", \"Survived\": \"survived\"}, {\"Pclass\": 3, \"Name\": \"Murphy, Miss. Katherine \\\"Kate\\\"\", \"Sex\": \"Female (0)\", \"Age\": 29.036629422718807, \"SibSp\": 1, \"Parch\": 0, \"Ticket\": \"367230\", \"Fare\": 15.5, \"Embarked\": \"Q\", \"Survived\": \"survived\"}, {\"Pclass\": 1, \"Name\": \"Williams, Mr. Charles Duane\", \"Sex\": \"Male (1)\", \"Age\": 51.0, \"SibSp\": 0, \"Parch\": 1, \"Ticket\": \"PC 17597\", \"Fare\": 61.3792, \"Embarked\": \"C\", \"Survived\": \"Didn't survive\"}, {\"Pclass\": 1, \"Name\": \"Woolner, Mr. Hugh\", \"Sex\": \"Male (1)\", \"Age\": 29.036629422718807, \"SibSp\": 0, \"Parch\": 0, \"Ticket\": \"19947\", \"Fare\": 35.5, \"Embarked\": \"S\", \"Survived\": \"survived\"}, {\"Pclass\": 3, \"Name\": \"Alhomaki, Mr. Ilmari Rudolf\", \"Sex\": \"Male (1)\", \"Age\": 20.0, \"SibSp\": 0, \"Parch\": 0, \"Ticket\": \"SOTON/O2 3101287\", \"Fare\": 7.925, \"Embarked\": \"S\", \"Survived\": \"Didn't survive\"}, {\"Pclass\": 3, \"Name\": \"Jussila, Mr. Eiriik\", \"Sex\": \"Male (1)\", \"Age\": 32.0, \"SibSp\": 0, \"Parch\": 0, \"Ticket\": \"STON/O 2. 3101286\", \"Fare\": 7.925, \"Embarked\": \"S\", \"Survived\": \"survived\"}, {\"Pclass\": 3, \"Name\": \"Braund, Mr. Lewis Richard\", \"Sex\": \"Male (1)\", \"Age\": 29.0, \"SibSp\": 1, \"Parch\": 0, \"Ticket\": \"3460\", \"Fare\": 7.0458, \"Embarked\": \"S\", \"Survived\": \"Didn't survive\"}, {\"Pclass\": 2, \"Name\": \"Sedgwick, Mr. Charles Frederick Waddington\", \"Sex\": \"Male (1)\", \"Age\": 25.0, \"SibSp\": 0, \"Parch\": 0, \"Ticket\": \"244361\", \"Fare\": 13.0, \"Embarked\": \"S\", \"Survived\": \"Didn't survive\"}, {\"Pclass\": 3, \"Name\": \"Skoog, Mrs. William (Anna Bernhardina Karlsson)\", \"Sex\": \"Female (0)\", \"Age\": 45.0, \"SibSp\": 1, \"Parch\": 4, \"Ticket\": \"347088\", \"Fare\": 27.9, \"Embarked\": \"S\", \"Survived\": \"Didn't survive\"}, {\"Pclass\": 3, \"Name\": \"Humblen, Mr. Adolf Mathias Nicolai Olsen\", \"Sex\": \"Male (1)\", \"Age\": 42.0, \"SibSp\": 0, \"Parch\": 0, \"Ticket\": \"348121\", \"Fare\": 7.65, \"Embarked\": \"S\", \"Survived\": \"Didn't survive\"}, {\"Pclass\": 1, \"Name\": \"Foreman, Mr. Benjamin Laventall\", \"Sex\": \"Male (1)\", \"Age\": 30.0, \"SibSp\": 0, \"Parch\": 0, \"Ticket\": \"113051\", \"Fare\": 27.75, \"Embarked\": \"C\", \"Survived\": \"Didn't survive\"}, {\"Pclass\": 3, \"Name\": \"Asplund, Master. Clarence Gustaf Hugo\", \"Sex\": \"Male (1)\", \"Age\": 9.0, \"SibSp\": 4, \"Parch\": 2, \"Ticket\": \"347077\", \"Fare\": 31.3875, \"Embarked\": \"S\", \"Survived\": \"Didn't survive\"}, {\"Pclass\": 1, \"Name\": \"Ostby, Mr. Engelhart Cornelius\", \"Sex\": \"Male (1)\", \"Age\": 65.0, \"SibSp\": 0, \"Parch\": 1, \"Ticket\": \"113509\", \"Fare\": 61.9792, \"Embarked\": \"C\", \"Survived\": \"Didn't survive\"}, {\"Pclass\": 2, \"Name\": \"Harris, Mr. Walter\", \"Sex\": \"Male (1)\", \"Age\": 30.0, \"SibSp\": 0, \"Parch\": 0, \"Ticket\": \"W/C 14208\", \"Fare\": 10.5, \"Embarked\": \"S\", \"Survived\": \"Didn't survive\"}, {\"Pclass\": 3, \"Name\": \"Attalah, Mr. Sleiman\", \"Sex\": \"Male (1)\", \"Age\": 30.0, \"SibSp\": 0, \"Parch\": 0, \"Ticket\": \"2694\", \"Fare\": 7.225, \"Embarked\": \"C\", \"Survived\": \"Didn't survive\"}, {\"Pclass\": 2, \"Name\": \"Moraweck, Dr. Ernest\", \"Sex\": \"Male (1)\", \"Age\": 54.0, \"SibSp\": 0, \"Parch\": 0, \"Ticket\": \"29011\", \"Fare\": 14.0, \"Embarked\": \"S\", \"Survived\": \"Didn't survive\"}, {\"Pclass\": 1, \"Name\": \"Bishop, Mrs. Dickinson H (Helen Walton)\", \"Sex\": \"Female (0)\", \"Age\": 19.0, \"SibSp\": 1, \"Parch\": 0, \"Ticket\": \"11967\", \"Fare\": 91.0792, \"Embarked\": \"C\", \"Survived\": \"survived\"}, {\"Pclass\": 1, \"Name\": \"Eustis, Miss. Elizabeth Mussey\", \"Sex\": \"Female (0)\", \"Age\": 54.0, \"SibSp\": 1, \"Parch\": 0, \"Ticket\": \"36947\", \"Fare\": 78.2667, \"Embarked\": \"C\", \"Survived\": \"survived\"}, {\"Pclass\": 2, \"Name\": \"Leitch, Miss. Jessie Wills\", \"Sex\": \"Female (0)\", \"Age\": 29.036629422718807, \"SibSp\": 0, \"Parch\": 0, \"Ticket\": \"248727\", \"Fare\": 33.0, \"Embarked\": \"S\", \"Survived\": \"survived\"}, {\"Pclass\": 3, \"Name\": \"Zimmerman, Mr. Leo\", \"Sex\": \"Male (1)\", \"Age\": 29.0, \"SibSp\": 0, \"Parch\": 0, \"Ticket\": \"315082\", \"Fare\": 7.875, \"Embarked\": \"S\", \"Survived\": \"Didn't survive\"}, {\"Pclass\": 2, \"Name\": \"Mellinger, Mrs. (Elizabeth Anne Maidment)\", \"Sex\": \"Female (0)\", \"Age\": 41.0, \"SibSp\": 0, \"Parch\": 1, \"Ticket\": \"250644\", \"Fare\": 19.5, \"Embarked\": \"S\", \"Survived\": \"survived\"}, {\"Pclass\": 3, \"Name\": \"Asplund, Mrs. Carl Oscar (Selma Augusta Emilia Johansson)\", \"Sex\": \"Female (0)\", \"Age\": 38.0, \"SibSp\": 1, \"Parch\": 5, \"Ticket\": \"347077\", \"Fare\": 31.3875, \"Embarked\": \"S\", \"Survived\": \"survived\"}, {\"Pclass\": 3, \"Name\": \"Andersson, Mr. August Edvard (\\\"Wennerstrom\\\")\", \"Sex\": \"Male (1)\", \"Age\": 27.0, \"SibSp\": 0, \"Parch\": 0, \"Ticket\": \"350043\", \"Fare\": 7.7958, \"Embarked\": \"S\", \"Survived\": \"survived\"}, {\"Pclass\": 1, \"Name\": \"Taylor, Mrs. Elmer Zebley (Juliet Cummins Wright)\", \"Sex\": \"Female (0)\", \"Age\": 29.036629422718807, \"SibSp\": 1, \"Parch\": 0, \"Ticket\": \"19996\", \"Fare\": 52.0, \"Embarked\": \"S\", \"Survived\": \"survived\"}, {\"Pclass\": 3, \"Name\": \"Petroff, Mr. Nedelio\", \"Sex\": \"Male (1)\", \"Age\": 19.0, \"SibSp\": 0, \"Parch\": 0, \"Ticket\": \"349212\", \"Fare\": 7.8958, \"Embarked\": \"S\", \"Survived\": \"Didn't survive\"}, {\"Pclass\": 3, \"Name\": \"Strandberg, Miss. Ida Sofia\", \"Sex\": \"Female (0)\", \"Age\": 22.0, \"SibSp\": 0, \"Parch\": 0, \"Ticket\": \"7553\", \"Fare\": 9.8375, \"Embarked\": \"S\", \"Survived\": \"Didn't survive\"}, {\"Pclass\": 3, \"Name\": \"Andersson, Mr. Anders Johan\", \"Sex\": \"Male (1)\", \"Age\": 39.0, \"SibSp\": 1, \"Parch\": 5, \"Ticket\": \"347082\", \"Fare\": 31.275, \"Embarked\": \"S\", \"Survived\": \"Didn't survive\"}, {\"Pclass\": 1, \"Name\": \"Daly, Mr. Peter Denis \", \"Sex\": \"Male (1)\", \"Age\": 51.0, \"SibSp\": 0, \"Parch\": 0, \"Ticket\": \"113055\", \"Fare\": 26.55, \"Embarked\": \"S\", \"Survived\": \"survived\"}, {\"Pclass\": 1, \"Name\": \"Walker, Mr. William Anderson\", \"Sex\": \"Male (1)\", \"Age\": 47.0, \"SibSp\": 0, \"Parch\": 0, \"Ticket\": \"36967\", \"Fare\": 34.0208, \"Embarked\": \"S\", \"Survived\": \"Didn't survive\"}, {\"Pclass\": 3, \"Name\": \"Denkoff, Mr. Mitto\", \"Sex\": \"Male (1)\", \"Age\": 29.036629422718807, \"SibSp\": 0, \"Parch\": 0, \"Ticket\": \"349225\", \"Fare\": 7.8958, \"Embarked\": \"S\", \"Survived\": \"Didn't survive\"}, {\"Pclass\": 3, \"Name\": \"Bourke, Mr. John\", \"Sex\": \"Male (1)\", \"Age\": 40.0, \"SibSp\": 1, \"Parch\": 1, \"Ticket\": \"364849\", \"Fare\": 15.5, \"Embarked\": \"Q\", \"Survived\": \"Didn't survive\"}, {\"Pclass\": 2, \"Name\": \"Christy, Miss. Julie Rachel\", \"Sex\": \"Female (0)\", \"Age\": 25.0, \"SibSp\": 1, \"Parch\": 1, \"Ticket\": \"237789\", \"Fare\": 30.0, \"Embarked\": \"S\", \"Survived\": \"survived\"}, {\"Pclass\": 1, \"Name\": \"Wright, Mr. George\", \"Sex\": \"Male (1)\", \"Age\": 62.0, \"SibSp\": 0, \"Parch\": 0, \"Ticket\": \"113807\", \"Fare\": 26.55, \"Embarked\": \"S\", \"Survived\": \"Didn't survive\"}, {\"Pclass\": 2, \"Name\": \"Mallet, Master. Andre\", \"Sex\": \"Male (1)\", \"Age\": 1.0, \"SibSp\": 0, \"Parch\": 2, \"Ticket\": \"S.C./PARIS 2079\", \"Fare\": 37.0042, \"Embarked\": \"C\", \"Survived\": \"survived\"}, {\"Pclass\": 1, \"Name\": \"Williams-Lambert, Mr. Fletcher Fellows\", \"Sex\": \"Male (1)\", \"Age\": 29.036629422718807, \"SibSp\": 0, \"Parch\": 0, \"Ticket\": \"113510\", \"Fare\": 35.0, \"Embarked\": \"S\", \"Survived\": \"Didn't survive\"}, {\"Pclass\": 1, \"Name\": \"Meyer, Mr. Edgar Joseph\", \"Sex\": \"Male (1)\", \"Age\": 28.0, \"SibSp\": 1, \"Parch\": 0, \"Ticket\": \"PC 17604\", \"Fare\": 82.1708, \"Embarked\": \"C\", \"Survived\": \"Didn't survive\"}, {\"Pclass\": 3, \"Name\": \"Asim, Mr. Adola\", \"Sex\": \"Male (1)\", \"Age\": 35.0, \"SibSp\": 0, \"Parch\": 0, \"Ticket\": \"SOTON/O.Q. 3101310\", \"Fare\": 7.05, \"Embarked\": \"S\", \"Survived\": \"Didn't survive\"}, {\"Pclass\": 3, \"Name\": \"Patchett, Mr. George\", \"Sex\": \"Male (1)\", \"Age\": 19.0, \"SibSp\": 0, \"Parch\": 0, \"Ticket\": \"358585\", \"Fare\": 14.5, \"Embarked\": \"S\", \"Survived\": \"Didn't survive\"}, {\"Pclass\": 1, \"Name\": \"Chibnall, Mrs. (Edith Martha Bowerman)\", \"Sex\": \"Female (0)\", \"Age\": 29.036629422718807, \"SibSp\": 0, \"Parch\": 1, \"Ticket\": \"113505\", \"Fare\": 55.0, \"Embarked\": \"S\", \"Survived\": \"survived\"}, {\"Pclass\": 2, \"Name\": \"Faunthorpe, Mrs. Lizzie (Elizabeth Anne Wilkinson)\", \"Sex\": \"Female (0)\", \"Age\": 29.0, \"SibSp\": 1, \"Parch\": 0, \"Ticket\": \"2926\", \"Fare\": 26.0, \"Embarked\": \"S\", \"Survived\": \"survived\"}, {\"Pclass\": 1, \"Name\": \"Gee, Mr. Arthur H\", \"Sex\": \"Male (1)\", \"Age\": 47.0, \"SibSp\": 0, \"Parch\": 0, \"Ticket\": \"111320\", \"Fare\": 38.5, \"Embarked\": \"S\", \"Survived\": \"Didn't survive\"}, {\"Pclass\": 3, \"Name\": \"Peters, Miss. Katie\", \"Sex\": \"Female (0)\", \"Age\": 29.036629422718807, \"SibSp\": 0, \"Parch\": 0, \"Ticket\": \"330935\", \"Fare\": 8.1375, \"Embarked\": \"Q\", \"Survived\": \"Didn't survive\"}, {\"Pclass\": 3, \"Name\": \"Rice, Master. Eric\", \"Sex\": \"Male (1)\", \"Age\": 7.0, \"SibSp\": 4, \"Parch\": 1, \"Ticket\": \"382652\", \"Fare\": 29.125, \"Embarked\": \"Q\", \"Survived\": \"Didn't survive\"}, {\"Pclass\": 1, \"Name\": \"Bissette, Miss. Amelia\", \"Sex\": \"Female (0)\", \"Age\": 35.0, \"SibSp\": 0, \"Parch\": 0, \"Ticket\": \"PC 17760\", \"Fare\": 135.6333, \"Embarked\": \"S\", \"Survived\": \"survived\"}, {\"Pclass\": 3, \"Name\": \"Jensen, Mr. Niels Peder\", \"Sex\": \"Male (1)\", \"Age\": 48.0, \"SibSp\": 0, \"Parch\": 0, \"Ticket\": \"350047\", \"Fare\": 7.8542, \"Embarked\": \"S\", \"Survived\": \"Didn't survive\"}, {\"Pclass\": 1, \"Name\": \"Behr, Mr. Karl Howell\", \"Sex\": \"Male (1)\", \"Age\": 26.0, \"SibSp\": 0, \"Parch\": 0, \"Ticket\": \"111369\", \"Fare\": 30.0, \"Embarked\": \"C\", \"Survived\": \"survived\"}, {\"Pclass\": 3, \"Name\": \"Larsson, Mr. Bengt Edvin\", \"Sex\": \"Male (1)\", \"Age\": 29.0, \"SibSp\": 0, \"Parch\": 0, \"Ticket\": \"347067\", \"Fare\": 7.775, \"Embarked\": \"S\", \"Survived\": \"Didn't survive\"}, {\"Pclass\": 1, \"Name\": \"Carrau, Mr. Francisco M\", \"Sex\": \"Male (1)\", \"Age\": 28.0, \"SibSp\": 0, \"Parch\": 0, \"Ticket\": \"113059\", \"Fare\": 47.1, \"Embarked\": \"S\", \"Survived\": \"Didn't survive\"}, {\"Pclass\": 1, \"Name\": \"Douglas, Mr. Walter Donald\", \"Sex\": \"Male (1)\", \"Age\": 50.0, \"SibSp\": 1, \"Parch\": 0, \"Ticket\": \"PC 17761\", \"Fare\": 106.425, \"Embarked\": \"C\", \"Survived\": \"Didn't survive\"}, {\"Pclass\": 3, \"Name\": \"Wiseman, Mr. Phillippe\", \"Sex\": \"Male (1)\", \"Age\": 29.036629422718807, \"SibSp\": 0, \"Parch\": 0, \"Ticket\": \"A/4. 34244\", \"Fare\": 7.25, \"Embarked\": \"S\", \"Survived\": \"Didn't survive\"}, {\"Pclass\": 3, \"Name\": \"Harmer, Mr. Abraham (David Lishin)\", \"Sex\": \"Male (1)\", \"Age\": 25.0, \"SibSp\": 0, \"Parch\": 0, \"Ticket\": \"374887\", \"Fare\": 7.25, \"Embarked\": \"S\", \"Survived\": \"Didn't survive\"}, {\"Pclass\": 2, \"Name\": \"Jenkin, Mr. Stephen Curnow\", \"Sex\": \"Male (1)\", \"Age\": 32.0, \"SibSp\": 0, \"Parch\": 0, \"Ticket\": \"C.A. 33111\", \"Fare\": 10.5, \"Embarked\": \"S\", \"Survived\": \"Didn't survive\"}, {\"Pclass\": 3, \"Name\": \"Ford, Mr. William Neal\", \"Sex\": \"Male (1)\", \"Age\": 16.0, \"SibSp\": 1, \"Parch\": 3, \"Ticket\": \"W./C. 6608\", \"Fare\": 34.375, \"Embarked\": \"S\", \"Survived\": \"Didn't survive\"}, {\"Pclass\": 2, \"Name\": \"Nicholls, Mr. Joseph Charles\", \"Sex\": \"Male (1)\", \"Age\": 19.0, \"SibSp\": 1, \"Parch\": 1, \"Ticket\": \"C.A. 33112\", \"Fare\": 36.75, \"Embarked\": \"S\", \"Survived\": \"Didn't survive\"}, {\"Pclass\": 1, \"Name\": \"Farthing, Mr. John\", \"Sex\": \"Male (1)\", \"Age\": 29.036629422718807, \"SibSp\": 0, \"Parch\": 0, \"Ticket\": \"PC 17483\", \"Fare\": 221.7792, \"Embarked\": \"S\", \"Survived\": \"Didn't survive\"}, {\"Pclass\": 3, \"Name\": \"Rommetvedt, Mr. Knud Paust\", \"Sex\": \"Male (1)\", \"Age\": 29.036629422718807, \"SibSp\": 0, \"Parch\": 0, \"Ticket\": \"312993\", \"Fare\": 7.775, \"Embarked\": \"S\", \"Survived\": \"Didn't survive\"}, {\"Pclass\": 2, \"Name\": \"Cameron, Miss. Clear Annie\", \"Sex\": \"Female (0)\", \"Age\": 35.0, \"SibSp\": 0, \"Parch\": 0, \"Ticket\": \"F.C.C. 13528\", \"Fare\": 21.0, \"Embarked\": \"S\", \"Survived\": \"survived\"}, {\"Pclass\": 3, \"Name\": \"Waelens, Mr. Achille\", \"Sex\": \"Male (1)\", \"Age\": 22.0, \"SibSp\": 0, \"Parch\": 0, \"Ticket\": \"345767\", \"Fare\": 9.0, \"Embarked\": \"S\", \"Survived\": \"Didn't survive\"}, {\"Pclass\": 3, \"Name\": \"Elias, Mr. Dibo\", \"Sex\": \"Male (1)\", \"Age\": 29.036629422718807, \"SibSp\": 0, \"Parch\": 0, \"Ticket\": \"2674\", \"Fare\": 7.225, \"Embarked\": \"C\", \"Survived\": \"Didn't survive\"}, {\"Pclass\": 3, \"Name\": \"Jussila, Miss. Katriina\", \"Sex\": \"Female (0)\", \"Age\": 20.0, \"SibSp\": 1, \"Parch\": 0, \"Ticket\": \"4136\", \"Fare\": 9.825, \"Embarked\": \"S\", \"Survived\": \"Didn't survive\"}, {\"Pclass\": 2, \"Name\": \"Ridsdale, Miss. Lucy\", \"Sex\": \"Female (0)\", \"Age\": 50.0, \"SibSp\": 0, \"Parch\": 0, \"Ticket\": \"W./C. 14258\", \"Fare\": 10.5, \"Embarked\": \"S\", \"Survived\": \"survived\"}, {\"Pclass\": 2, \"Name\": \"Kantor, Mr. Sinai\", \"Sex\": \"Male (1)\", \"Age\": 34.0, \"SibSp\": 1, \"Parch\": 0, \"Ticket\": \"244367\", \"Fare\": 26.0, \"Embarked\": \"S\", \"Survived\": \"Didn't survive\"}, {\"Pclass\": 2, \"Name\": \"Coleridge, Mr. Reginald Charles\", \"Sex\": \"Male (1)\", \"Age\": 29.0, \"SibSp\": 0, \"Parch\": 0, \"Ticket\": \"W./C. 14263\", \"Fare\": 10.5, \"Embarked\": \"S\", \"Survived\": \"Didn't survive\"}, {\"Pclass\": 1, \"Name\": \"Marechal, Mr. Pierre\", \"Sex\": \"Male (1)\", \"Age\": 29.036629422718807, \"SibSp\": 0, \"Parch\": 0, \"Ticket\": \"11774\", \"Fare\": 29.7, \"Embarked\": \"C\", \"Survived\": \"survived\"}, {\"Pclass\": 3, \"Name\": \"Meo, Mr. Alfonzo\", \"Sex\": \"Male (1)\", \"Age\": 55.5, \"SibSp\": 0, \"Parch\": 0, \"Ticket\": \"A.5. 11206\", \"Fare\": 8.05, \"Embarked\": \"S\", \"Survived\": \"Didn't survive\"}, {\"Pclass\": 3, \"Name\": \"Moran, Mr. James\", \"Sex\": \"Male (1)\", \"Age\": 29.036629422718807, \"SibSp\": 0, \"Parch\": 0, \"Ticket\": \"330877\", \"Fare\": 8.4583, \"Embarked\": \"Q\", \"Survived\": \"Didn't survive\"}, {\"Pclass\": 2, \"Name\": \"Turpin, Mrs. William John Robert (Dorothy Ann Wonnacott)\", \"Sex\": \"Female (0)\", \"Age\": 27.0, \"SibSp\": 1, \"Parch\": 0, \"Ticket\": \"11668\", \"Fare\": 21.0, \"Embarked\": \"S\", \"Survived\": \"Didn't survive\"}, {\"Pclass\": 1, \"Name\": \"Harris, Mrs. Henry Birkhardt (Irene Wallach)\", \"Sex\": \"Female (0)\", \"Age\": 35.0, \"SibSp\": 1, \"Parch\": 0, \"Ticket\": \"36973\", \"Fare\": 83.475, \"Embarked\": \"S\", \"Survived\": \"survived\"}, {\"Pclass\": 2, \"Name\": \"Byles, Rev. Thomas Roussel Davids\", \"Sex\": \"Male (1)\", \"Age\": 42.0, \"SibSp\": 0, \"Parch\": 0, \"Ticket\": \"244310\", \"Fare\": 13.0, \"Embarked\": \"S\", \"Survived\": \"Didn't survive\"}, {\"Pclass\": 1, \"Name\": \"Harris, Mr. Henry Birkhardt\", \"Sex\": \"Male (1)\", \"Age\": 45.0, \"SibSp\": 1, \"Parch\": 0, \"Ticket\": \"36973\", \"Fare\": 83.475, \"Embarked\": \"S\", \"Survived\": \"Didn't survive\"}, {\"Pclass\": 2, \"Name\": \"Herman, Mrs. Samuel (Jane Laver)\", \"Sex\": \"Female (0)\", \"Age\": 48.0, \"SibSp\": 1, \"Parch\": 2, \"Ticket\": \"220845\", \"Fare\": 65.0, \"Embarked\": \"S\", \"Survived\": \"survived\"}, {\"Pclass\": 3, \"Name\": \"Ayoub, Miss. Banoura\", \"Sex\": \"Female (0)\", \"Age\": 13.0, \"SibSp\": 0, \"Parch\": 0, \"Ticket\": \"2687\", \"Fare\": 7.2292, \"Embarked\": \"C\", \"Survived\": \"survived\"}, {\"Pclass\": 3, \"Name\": \"Yasbeck, Mr. Antoni\", \"Sex\": \"Male (1)\", \"Age\": 27.0, \"SibSp\": 1, \"Parch\": 0, \"Ticket\": \"2659\", \"Fare\": 14.4542, \"Embarked\": \"C\", \"Survived\": \"Didn't survive\"}, {\"Pclass\": 3, \"Name\": \"Nicola-Yarred, Master. Elias\", \"Sex\": \"Male (1)\", \"Age\": 12.0, \"SibSp\": 1, \"Parch\": 0, \"Ticket\": \"2651\", \"Fare\": 11.2417, \"Embarked\": \"C\", \"Survived\": \"survived\"}, {\"Pclass\": 3, \"Name\": \"Lefebre, Miss. Jeannie\", \"Sex\": \"Female (0)\", \"Age\": 29.036629422718807, \"SibSp\": 3, \"Parch\": 1, \"Ticket\": \"4133\", \"Fare\": 25.4667, \"Embarked\": \"S\", \"Survived\": \"Didn't survive\"}, {\"Pclass\": 3, \"Name\": \"McCoy, Mr. Bernard\", \"Sex\": \"Male (1)\", \"Age\": 29.036629422718807, \"SibSp\": 2, \"Parch\": 0, \"Ticket\": \"367226\", \"Fare\": 23.25, \"Embarked\": \"Q\", \"Survived\": \"survived\"}, {\"Pclass\": 3, \"Name\": \"Svensson, Mr. Olof\", \"Sex\": \"Male (1)\", \"Age\": 24.0, \"SibSp\": 0, \"Parch\": 0, \"Ticket\": \"350035\", \"Fare\": 7.7958, \"Embarked\": \"S\", \"Survived\": \"Didn't survive\"}, {\"Pclass\": 3, \"Name\": \"Dowdell, Miss. Elizabeth\", \"Sex\": \"Female (0)\", \"Age\": 30.0, \"SibSp\": 0, \"Parch\": 0, \"Ticket\": \"364516\", \"Fare\": 12.475, \"Embarked\": \"S\", \"Survived\": \"survived\"}, {\"Pclass\": 1, \"Name\": \"Futrelle, Mr. Jacques Heath\", \"Sex\": \"Male (1)\", \"Age\": 37.0, \"SibSp\": 1, \"Parch\": 0, \"Ticket\": \"113803\", \"Fare\": 53.1, \"Embarked\": \"S\", \"Survived\": \"Didn't survive\"}, {\"Pclass\": 3, \"Name\": \"Alexander, Mr. William\", \"Sex\": \"Male (1)\", \"Age\": 26.0, \"SibSp\": 0, \"Parch\": 0, \"Ticket\": \"3474\", \"Fare\": 7.8875, \"Embarked\": \"S\", \"Survived\": \"Didn't survive\"}, {\"Pclass\": 1, \"Name\": \"Thayer, Mrs. John Borland (Marian Longstreth Morris)\", \"Sex\": \"Female (0)\", \"Age\": 39.0, \"SibSp\": 1, \"Parch\": 1, \"Ticket\": \"17421\", \"Fare\": 110.8833, \"Embarked\": \"C\", \"Survived\": \"survived\"}, {\"Pclass\": 3, \"Name\": \"Moran, Miss. Bertha\", \"Sex\": \"Female (0)\", \"Age\": 29.036629422718807, \"SibSp\": 1, \"Parch\": 0, \"Ticket\": \"371110\", \"Fare\": 24.15, \"Embarked\": \"Q\", \"Survived\": \"survived\"}, {\"Pclass\": 3, \"Name\": \"Vander Planke, Miss. Augusta Maria\", \"Sex\": \"Female (0)\", \"Age\": 18.0, \"SibSp\": 2, \"Parch\": 0, \"Ticket\": \"345764\", \"Fare\": 18.0, \"Embarked\": \"S\", \"Survived\": \"Didn't survive\"}, {\"Pclass\": 1, \"Name\": \"Brewe, Dr. Arthur Jackson\", \"Sex\": \"Male (1)\", \"Age\": 29.036629422718807, \"SibSp\": 0, \"Parch\": 0, \"Ticket\": \"112379\", \"Fare\": 39.6, \"Embarked\": \"C\", \"Survived\": \"Didn't survive\"}, {\"Pclass\": 3, \"Name\": \"Flynn, Mr. John\", \"Sex\": \"Male (1)\", \"Age\": 29.036629422718807, \"SibSp\": 0, \"Parch\": 0, \"Ticket\": \"368323\", \"Fare\": 6.95, \"Embarked\": \"Q\", \"Survived\": \"Didn't survive\"}, {\"Pclass\": 2, \"Name\": \"Campbell, Mr. William\", \"Sex\": \"Male (1)\", \"Age\": 29.036629422718807, \"SibSp\": 0, \"Parch\": 0, \"Ticket\": \"239853\", \"Fare\": 0.0, \"Embarked\": \"S\", \"Survived\": \"Didn't survive\"}, {\"Pclass\": 2, \"Name\": \"Hamalainen, Master. Viljo\", \"Sex\": \"Male (1)\", \"Age\": 0.67, \"SibSp\": 1, \"Parch\": 1, \"Ticket\": \"250649\", \"Fare\": 14.5, \"Embarked\": \"S\", \"Survived\": \"survived\"}, {\"Pclass\": 3, \"Name\": \"Olsen, Mr. Ole Martin\", \"Sex\": \"Male (1)\", \"Age\": 29.036629422718807, \"SibSp\": 0, \"Parch\": 0, \"Ticket\": \"Fa 265302\", \"Fare\": 7.3125, \"Embarked\": \"S\", \"Survived\": \"Didn't survive\"}, {\"Pclass\": 1, \"Name\": \"Thayer, Mr. John Borland Jr\", \"Sex\": \"Male (1)\", \"Age\": 17.0, \"SibSp\": 0, \"Parch\": 2, \"Ticket\": \"17421\", \"Fare\": 110.8833, \"Embarked\": \"C\", \"Survived\": \"survived\"}, {\"Pclass\": 3, \"Name\": \"Vander Cruyssen, Mr. Victor\", \"Sex\": \"Male (1)\", \"Age\": 47.0, \"SibSp\": 0, \"Parch\": 0, \"Ticket\": \"345765\", \"Fare\": 9.0, \"Embarked\": \"S\", \"Survived\": \"Didn't survive\"}, {\"Pclass\": 1, \"Name\": \"Appleton, Mrs. Edward Dale (Charlotte Lamson)\", \"Sex\": \"Female (0)\", \"Age\": 53.0, \"SibSp\": 2, \"Parch\": 0, \"Ticket\": \"11769\", \"Fare\": 51.4792, \"Embarked\": \"S\", \"Survived\": \"survived\"}, {\"Pclass\": 3, \"Name\": \"Jansson, Mr. Carl Olof\", \"Sex\": \"Male (1)\", \"Age\": 21.0, \"SibSp\": 0, \"Parch\": 0, \"Ticket\": \"350034\", \"Fare\": 7.7958, \"Embarked\": \"S\", \"Survived\": \"survived\"}, {\"Pclass\": 3, \"Name\": \"Coelho, Mr. Domingos Fernandeo\", \"Sex\": \"Male (1)\", \"Age\": 20.0, \"SibSp\": 0, \"Parch\": 0, \"Ticket\": \"SOTON/O.Q. 3101307\", \"Fare\": 7.05, \"Embarked\": \"S\", \"Survived\": \"Didn't survive\"}, {\"Pclass\": 2, \"Name\": \"Hosono, Mr. Masabumi\", \"Sex\": \"Male (1)\", \"Age\": 42.0, \"SibSp\": 0, \"Parch\": 0, \"Ticket\": \"237798\", \"Fare\": 13.0, \"Embarked\": \"S\", \"Survived\": \"survived\"}, {\"Pclass\": 2, \"Name\": \"Becker, Master. Richard F\", \"Sex\": \"Male (1)\", \"Age\": 1.0, \"SibSp\": 2, \"Parch\": 1, \"Ticket\": \"230136\", \"Fare\": 39.0, \"Embarked\": \"S\", \"Survived\": \"survived\"}, {\"Pclass\": 1, \"Name\": \"Harper, Mr. Henry Sleeper\", \"Sex\": \"Male (1)\", \"Age\": 48.0, \"SibSp\": 1, \"Parch\": 0, \"Ticket\": \"PC 17572\", \"Fare\": 76.7292, \"Embarked\": \"C\", \"Survived\": \"survived\"}, {\"Pclass\": 1, \"Name\": \"Potter, Mrs. Thomas Jr (Lily Alexenia Wilson)\", \"Sex\": \"Female (0)\", \"Age\": 56.0, \"SibSp\": 0, \"Parch\": 1, \"Ticket\": \"11767\", \"Fare\": 83.1583, \"Embarked\": \"C\", \"Survived\": \"survived\"}, {\"Pclass\": 3, \"Name\": \"Wiklund, Mr. Jakob Alfred\", \"Sex\": \"Male (1)\", \"Age\": 18.0, \"SibSp\": 1, \"Parch\": 0, \"Ticket\": \"3101267\", \"Fare\": 6.4958, \"Embarked\": \"S\", \"Survived\": \"Didn't survive\"}, {\"Pclass\": 3, \"Name\": \"Gustafsson, Mr. Karl Gideon\", \"Sex\": \"Male (1)\", \"Age\": 19.0, \"SibSp\": 0, \"Parch\": 0, \"Ticket\": \"347069\", \"Fare\": 7.775, \"Embarked\": \"S\", \"Survived\": \"Didn't survive\"}, {\"Pclass\": 1, \"Name\": \"Thorne, Mrs. Gertrude Maybelle\", \"Sex\": \"Female (0)\", \"Age\": 29.036629422718807, \"SibSp\": 0, \"Parch\": 0, \"Ticket\": \"PC 17585\", \"Fare\": 79.2, \"Embarked\": \"C\", \"Survived\": \"survived\"}, {\"Pclass\": 1, \"Name\": \"Smart, Mr. John Montgomery\", \"Sex\": \"Male (1)\", \"Age\": 56.0, \"SibSp\": 0, \"Parch\": 0, \"Ticket\": \"113792\", \"Fare\": 26.55, \"Embarked\": \"S\", \"Survived\": \"Didn't survive\"}, {\"Pclass\": 2, \"Name\": \"Gale, Mr. Shadrach\", \"Sex\": \"Male (1)\", \"Age\": 34.0, \"SibSp\": 1, \"Parch\": 0, \"Ticket\": \"28664\", \"Fare\": 21.0, \"Embarked\": \"S\", \"Survived\": \"Didn't survive\"}, {\"Pclass\": 2, \"Name\": \"Eitemiller, Mr. George Floyd\", \"Sex\": \"Male (1)\", \"Age\": 23.0, \"SibSp\": 0, \"Parch\": 0, \"Ticket\": \"29751\", \"Fare\": 13.0, \"Embarked\": \"S\", \"Survived\": \"Didn't survive\"}, {\"Pclass\": 3, \"Name\": \"Strom, Miss. Telma Matilda\", \"Sex\": \"Female (0)\", \"Age\": 2.0, \"SibSp\": 0, \"Parch\": 1, \"Ticket\": \"347054\", \"Fare\": 10.4625, \"Embarked\": \"S\", \"Survived\": \"Didn't survive\"}, {\"Pclass\": 2, \"Name\": \"Banfield, Mr. Frederick James\", \"Sex\": \"Male (1)\", \"Age\": 28.0, \"SibSp\": 0, \"Parch\": 0, \"Ticket\": \"C.A./SOTON 34068\", \"Fare\": 10.5, \"Embarked\": \"S\", \"Survived\": \"Didn't survive\"}, {\"Pclass\": 3, \"Name\": \"Ali, Mr. Ahmed\", \"Sex\": \"Male (1)\", \"Age\": 24.0, \"SibSp\": 0, \"Parch\": 0, \"Ticket\": \"SOTON/O.Q. 3101311\", \"Fare\": 7.05, \"Embarked\": \"S\", \"Survived\": \"Didn't survive\"}, {\"Pclass\": 2, \"Name\": \"Richards, Master. George Sibley\", \"Sex\": \"Male (1)\", \"Age\": 0.83, \"SibSp\": 1, \"Parch\": 1, \"Ticket\": \"29106\", \"Fare\": 18.75, \"Embarked\": \"S\", \"Survived\": \"survived\"}, {\"Pclass\": 3, \"Name\": \"Novel, Mr. Mansouer\", \"Sex\": \"Male (1)\", \"Age\": 28.5, \"SibSp\": 0, \"Parch\": 0, \"Ticket\": \"2697\", \"Fare\": 7.2292, \"Embarked\": \"C\", \"Survived\": \"Didn't survive\"}, {\"Pclass\": 2, \"Name\": \"Wells, Miss. Joan\", \"Sex\": \"Female (0)\", \"Age\": 4.0, \"SibSp\": 1, \"Parch\": 1, \"Ticket\": \"29103\", \"Fare\": 23.0, \"Embarked\": \"S\", \"Survived\": \"survived\"}, {\"Pclass\": 3, \"Name\": \"Hanna, Mr. Mansour\", \"Sex\": \"Male (1)\", \"Age\": 23.5, \"SibSp\": 0, \"Parch\": 0, \"Ticket\": \"2693\", \"Fare\": 7.2292, \"Embarked\": \"C\", \"Survived\": \"Didn't survive\"}, {\"Pclass\": 1, \"Name\": \"Kent, Mr. Edward Austin\", \"Sex\": \"Male (1)\", \"Age\": 58.0, \"SibSp\": 0, \"Parch\": 0, \"Ticket\": \"11771\", \"Fare\": 29.7, \"Embarked\": \"C\", \"Survived\": \"Didn't survive\"}, {\"Pclass\": 1, \"Name\": \"Hogeboom, Mrs. John C (Anna Andrews)\", \"Sex\": \"Female (0)\", \"Age\": 51.0, \"SibSp\": 1, \"Parch\": 0, \"Ticket\": \"13502\", \"Fare\": 77.9583, \"Embarked\": \"S\", \"Survived\": \"survived\"}, {\"Pclass\": 1, \"Name\": \"Warren, Mrs. Frank Manley (Anna Sophia Atkinson)\", \"Sex\": \"Female (0)\", \"Age\": 60.0, \"SibSp\": 1, \"Parch\": 0, \"Ticket\": \"110813\", \"Fare\": 75.25, \"Embarked\": \"C\", \"Survived\": \"survived\"}, {\"Pclass\": 3, \"Name\": \"O'Connor, Mr. Maurice\", \"Sex\": \"Male (1)\", \"Age\": 29.036629422718807, \"SibSp\": 0, \"Parch\": 0, \"Ticket\": \"371060\", \"Fare\": 7.75, \"Embarked\": \"Q\", \"Survived\": \"Didn't survive\"}, {\"Pclass\": 3, \"Name\": \"Goncalves, Mr. Manuel Estanslas\", \"Sex\": \"Male (1)\", \"Age\": 38.0, \"SibSp\": 0, \"Parch\": 0, \"Ticket\": \"SOTON/O.Q. 3101306\", \"Fare\": 7.05, \"Embarked\": \"S\", \"Survived\": \"Didn't survive\"}, {\"Pclass\": 3, \"Name\": \"Moen, Mr. Sigurd Hansen\", \"Sex\": \"Male (1)\", \"Age\": 25.0, \"SibSp\": 0, \"Parch\": 0, \"Ticket\": \"348123\", \"Fare\": 7.65, \"Embarked\": \"S\", \"Survived\": \"Didn't survive\"}, {\"Pclass\": 3, \"Name\": \"Jussila, Miss. Mari Aina\", \"Sex\": \"Female (0)\", \"Age\": 21.0, \"SibSp\": 1, \"Parch\": 0, \"Ticket\": \"4137\", \"Fare\": 9.825, \"Embarked\": \"S\", \"Survived\": \"Didn't survive\"}, {\"Pclass\": 2, \"Name\": \"Hewlett, Mrs. (Mary D Kingcome) \", \"Sex\": \"Female (0)\", \"Age\": 55.0, \"SibSp\": 0, \"Parch\": 0, \"Ticket\": \"248706\", \"Fare\": 16.0, \"Embarked\": \"S\", \"Survived\": \"survived\"}, {\"Pclass\": 2, \"Name\": \"Slayter, Miss. Hilda Mary\", \"Sex\": \"Female (0)\", \"Age\": 30.0, \"SibSp\": 0, \"Parch\": 0, \"Ticket\": \"234818\", \"Fare\": 12.35, \"Embarked\": \"Q\", \"Survived\": \"survived\"}, {\"Pclass\": 3, \"Name\": \"Perkin, Mr. John Henry\", \"Sex\": \"Male (1)\", \"Age\": 22.0, \"SibSp\": 0, \"Parch\": 0, \"Ticket\": \"A/5 21174\", \"Fare\": 7.25, \"Embarked\": \"S\", \"Survived\": \"Didn't survive\"}, {\"Pclass\": 2, \"Name\": \"Otter, Mr. Richard\", \"Sex\": \"Male (1)\", \"Age\": 39.0, \"SibSp\": 0, \"Parch\": 0, \"Ticket\": \"28213\", \"Fare\": 13.0, \"Embarked\": \"S\", \"Survived\": \"Didn't survive\"}, {\"Pclass\": 3, \"Name\": \"Moutal, Mr. Rahamin Haim\", \"Sex\": \"Male (1)\", \"Age\": 29.036629422718807, \"SibSp\": 0, \"Parch\": 0, \"Ticket\": \"374746\", \"Fare\": 8.05, \"Embarked\": \"S\", \"Survived\": \"Didn't survive\"}, {\"Pclass\": 3, \"Name\": \"Risien, Mr. Samuel Beard\", \"Sex\": \"Male (1)\", \"Age\": 29.036629422718807, \"SibSp\": 0, \"Parch\": 0, \"Ticket\": \"364498\", \"Fare\": 14.5, \"Embarked\": \"S\", \"Survived\": \"Didn't survive\"}, {\"Pclass\": 3, \"Name\": \"Sage, Mr. George John Jr\", \"Sex\": \"Male (1)\", \"Age\": 29.036629422718807, \"SibSp\": 8, \"Parch\": 2, \"Ticket\": \"CA. 2343\", \"Fare\": 69.55, \"Embarked\": \"S\", \"Survived\": \"Didn't survive\"}, {\"Pclass\": 2, \"Name\": \"Montvila, Rev. Juozas\", \"Sex\": \"Male (1)\", \"Age\": 27.0, \"SibSp\": 0, \"Parch\": 0, \"Ticket\": \"211536\", \"Fare\": 13.0, \"Embarked\": \"S\", \"Survived\": \"Didn't survive\"}, {\"Pclass\": 3, \"Name\": \"Lang, Mr. Fang\", \"Sex\": \"Male (1)\", \"Age\": 26.0, \"SibSp\": 0, \"Parch\": 0, \"Ticket\": \"1601\", \"Fare\": 56.4958, \"Embarked\": \"S\", \"Survived\": \"survived\"}, {\"Pclass\": 1, \"Name\": \"Andrews, Mr. Thomas Jr\", \"Sex\": \"Male (1)\", \"Age\": 39.0, \"SibSp\": 0, \"Parch\": 0, \"Ticket\": \"112050\", \"Fare\": 0.0, \"Embarked\": \"S\", \"Survived\": \"Didn't survive\"}, {\"Pclass\": 1, \"Name\": \"Blank, Mr. Henry\", \"Sex\": \"Male (1)\", \"Age\": 40.0, \"SibSp\": 0, \"Parch\": 0, \"Ticket\": \"112277\", \"Fare\": 31.0, \"Embarked\": \"C\", \"Survived\": \"survived\"}, {\"Pclass\": 3, \"Name\": \"Tobin, Mr. Roger\", \"Sex\": \"Male (1)\", \"Age\": 29.036629422718807, \"SibSp\": 0, \"Parch\": 0, \"Ticket\": \"383121\", \"Fare\": 7.75, \"Embarked\": \"Q\", \"Survived\": \"Didn't survive\"}, {\"Pclass\": 1, \"Name\": \"Anderson, Mr. Harry\", \"Sex\": \"Male (1)\", \"Age\": 48.0, \"SibSp\": 0, \"Parch\": 0, \"Ticket\": \"19952\", \"Fare\": 26.55, \"Embarked\": \"S\", \"Survived\": \"survived\"}, {\"Pclass\": 1, \"Name\": \"Parr, Mr. William Henry Marsh\", \"Sex\": \"Male (1)\", \"Age\": 29.036629422718807, \"SibSp\": 0, \"Parch\": 0, \"Ticket\": \"112052\", \"Fare\": 0.0, \"Embarked\": \"S\", \"Survived\": \"Didn't survive\"}, {\"Pclass\": 3, \"Name\": \"Kiernan, Mr. Philip\", \"Sex\": \"Male (1)\", \"Age\": 29.036629422718807, \"SibSp\": 1, \"Parch\": 0, \"Ticket\": \"367229\", \"Fare\": 7.75, \"Embarked\": \"Q\", \"Survived\": \"Didn't survive\"}, {\"Pclass\": 3, \"Name\": \"Adams, Mr. John\", \"Sex\": \"Male (1)\", \"Age\": 26.0, \"SibSp\": 0, \"Parch\": 0, \"Ticket\": \"341826\", \"Fare\": 8.05, \"Embarked\": \"S\", \"Survived\": \"Didn't survive\"}, {\"Pclass\": 3, \"Name\": \"Boulos, Mr. Hanna\", \"Sex\": \"Male (1)\", \"Age\": 29.036629422718807, \"SibSp\": 0, \"Parch\": 0, \"Ticket\": \"2664\", \"Fare\": 7.225, \"Embarked\": \"C\", \"Survived\": \"Didn't survive\"}, {\"Pclass\": 2, \"Name\": \"Collyer, Mr. Harvey\", \"Sex\": \"Male (1)\", \"Age\": 31.0, \"SibSp\": 1, \"Parch\": 1, \"Ticket\": \"C.A. 31921\", \"Fare\": 26.25, \"Embarked\": \"S\", \"Survived\": \"Didn't survive\"}, {\"Pclass\": 3, \"Name\": \"Johnson, Mr. Alfred\", \"Sex\": \"Male (1)\", \"Age\": 49.0, \"SibSp\": 0, \"Parch\": 0, \"Ticket\": \"LINE\", \"Fare\": 0.0, \"Embarked\": \"S\", \"Survived\": \"Didn't survive\"}, {\"Pclass\": 3, \"Name\": \"Skoog, Master. Harald\", \"Sex\": \"Male (1)\", \"Age\": 4.0, \"SibSp\": 3, \"Parch\": 2, \"Ticket\": \"347088\", \"Fare\": 27.9, \"Embarked\": \"S\", \"Survived\": \"Didn't survive\"}, {\"Pclass\": 3, \"Name\": \"Johanson, Mr. Jakob Alfred\", \"Sex\": \"Male (1)\", \"Age\": 34.0, \"SibSp\": 0, \"Parch\": 0, \"Ticket\": \"3101264\", \"Fare\": 6.4958, \"Embarked\": \"S\", \"Survived\": \"Didn't survive\"}, {\"Pclass\": 3, \"Name\": \"Thorneycroft, Mr. Percival\", \"Sex\": \"Male (1)\", \"Age\": 29.036629422718807, \"SibSp\": 1, \"Parch\": 0, \"Ticket\": \"376564\", \"Fare\": 16.1, \"Embarked\": \"S\", \"Survived\": \"Didn't survive\"}, {\"Pclass\": 3, \"Name\": \"Hansen, Mr. Henry Damsgaard\", \"Sex\": \"Male (1)\", \"Age\": 21.0, \"SibSp\": 0, \"Parch\": 0, \"Ticket\": \"350029\", \"Fare\": 7.8542, \"Embarked\": \"S\", \"Survived\": \"Didn't survive\"}, {\"Pclass\": 2, \"Name\": \"Renouf, Mr. Peter Henry\", \"Sex\": \"Male (1)\", \"Age\": 34.0, \"SibSp\": 1, \"Parch\": 0, \"Ticket\": \"31027\", \"Fare\": 21.0, \"Embarked\": \"S\", \"Survived\": \"Didn't survive\"}, {\"Pclass\": 3, \"Name\": \"Harknett, Miss. Alice Phoebe\", \"Sex\": \"Female (0)\", \"Age\": 29.036629422718807, \"SibSp\": 0, \"Parch\": 0, \"Ticket\": \"W./C. 6609\", \"Fare\": 7.55, \"Embarked\": \"S\", \"Survived\": \"Didn't survive\"}, {\"Pclass\": 1, \"Name\": \"Bradley, Mr. George (\\\"George Arthur Brayton\\\")\", \"Sex\": \"Male (1)\", \"Age\": 29.036629422718807, \"SibSp\": 0, \"Parch\": 0, \"Ticket\": \"111427\", \"Fare\": 26.55, \"Embarked\": \"S\", \"Survived\": \"survived\"}, {\"Pclass\": 1, \"Name\": \"Bowerman, Miss. Elsie Edith\", \"Sex\": \"Female (0)\", \"Age\": 22.0, \"SibSp\": 0, \"Parch\": 1, \"Ticket\": \"113505\", \"Fare\": 55.0, \"Embarked\": \"S\", \"Survived\": \"survived\"}, {\"Pclass\": 2, \"Name\": \"Herman, Miss. Alice\", \"Sex\": \"Female (0)\", \"Age\": 24.0, \"SibSp\": 1, \"Parch\": 2, \"Ticket\": \"220845\", \"Fare\": 65.0, \"Embarked\": \"S\", \"Survived\": \"survived\"}, {\"Pclass\": 3, \"Name\": \"Landergren, Miss. Aurora Adelia\", \"Sex\": \"Female (0)\", \"Age\": 22.0, \"SibSp\": 0, \"Parch\": 0, \"Ticket\": \"C 7077\", \"Fare\": 7.25, \"Embarked\": \"S\", \"Survived\": \"survived\"}, {\"Pclass\": 2, \"Name\": \"Hart, Miss. Eva Miriam\", \"Sex\": \"Female (0)\", \"Age\": 7.0, \"SibSp\": 0, \"Parch\": 2, \"Ticket\": \"F.C.C. 13529\", \"Fare\": 26.25, \"Embarked\": \"S\", \"Survived\": \"survived\"}, {\"Pclass\": 3, \"Name\": \"Lobb, Mr. William Arthur\", \"Sex\": \"Male (1)\", \"Age\": 30.0, \"SibSp\": 1, \"Parch\": 0, \"Ticket\": \"A/5. 3336\", \"Fare\": 16.1, \"Embarked\": \"S\", \"Survived\": \"Didn't survive\"}, {\"Pclass\": 2, \"Name\": \"Ponesell, Mr. Martin\", \"Sex\": \"Male (1)\", \"Age\": 34.0, \"SibSp\": 0, \"Parch\": 0, \"Ticket\": \"250647\", \"Fare\": 13.0, \"Embarked\": \"S\", \"Survived\": \"Didn't survive\"}, {\"Pclass\": 2, \"Name\": \"Jerwan, Mrs. Amin S (Marie Marthe Thuillard)\", \"Sex\": \"Female (0)\", \"Age\": 23.0, \"SibSp\": 0, \"Parch\": 0, \"Ticket\": \"SC/AH Basle 541\", \"Fare\": 13.7917, \"Embarked\": \"C\", \"Survived\": \"survived\"}, {\"Pclass\": 3, \"Name\": \"Eklund, Mr. Hans Linus\", \"Sex\": \"Male (1)\", \"Age\": 16.0, \"SibSp\": 0, \"Parch\": 0, \"Ticket\": \"347074\", \"Fare\": 7.775, \"Embarked\": \"S\", \"Survived\": \"Didn't survive\"}, {\"Pclass\": 3, \"Name\": \"Karun, Miss. Manca\", \"Sex\": \"Female (0)\", \"Age\": 4.0, \"SibSp\": 0, \"Parch\": 1, \"Ticket\": \"349256\", \"Fare\": 13.4167, \"Embarked\": \"C\", \"Survived\": \"survived\"}, {\"Pclass\": 3, \"Name\": \"Nosworthy, Mr. Richard Cater\", \"Sex\": \"Male (1)\", \"Age\": 21.0, \"SibSp\": 0, \"Parch\": 0, \"Ticket\": \"A/4. 39886\", \"Fare\": 7.8, \"Embarked\": \"S\", \"Survived\": \"Didn't survive\"}, {\"Pclass\": 3, \"Name\": \"Goodwin, Mr. Charles Edward\", \"Sex\": \"Male (1)\", \"Age\": 14.0, \"SibSp\": 5, \"Parch\": 2, \"Ticket\": \"CA 2144\", \"Fare\": 46.9, \"Embarked\": \"S\", \"Survived\": \"Didn't survive\"}, {\"Pclass\": 1, \"Name\": \"Bishop, Mr. Dickinson H\", \"Sex\": \"Male (1)\", \"Age\": 25.0, \"SibSp\": 1, \"Parch\": 0, \"Ticket\": \"11967\", \"Fare\": 91.0792, \"Embarked\": \"C\", \"Survived\": \"survived\"}, {\"Pclass\": 2, \"Name\": \"West, Mr. Edwy Arthur\", \"Sex\": \"Male (1)\", \"Age\": 36.0, \"SibSp\": 1, \"Parch\": 2, \"Ticket\": \"C.A. 34651\", \"Fare\": 27.75, \"Embarked\": \"S\", \"Survived\": \"Didn't survive\"}, {\"Pclass\": 3, \"Name\": \"Morley, Mr. William\", \"Sex\": \"Male (1)\", \"Age\": 34.0, \"SibSp\": 0, \"Parch\": 0, \"Ticket\": \"364506\", \"Fare\": 8.05, \"Embarked\": \"S\", \"Survived\": \"Didn't survive\"}, {\"Pclass\": 3, \"Name\": \"Peduzzi, Mr. Joseph\", \"Sex\": \"Male (1)\", \"Age\": 29.036629422718807, \"SibSp\": 0, \"Parch\": 0, \"Ticket\": \"A/5 2817\", \"Fare\": 8.05, \"Embarked\": \"S\", \"Survived\": \"Didn't survive\"}, {\"Pclass\": 1, \"Name\": \"Baxter, Mr. Quigg Edmond\", \"Sex\": \"Male (1)\", \"Age\": 24.0, \"SibSp\": 0, \"Parch\": 1, \"Ticket\": \"PC 17558\", \"Fare\": 247.5208, \"Embarked\": \"C\", \"Survived\": \"Didn't survive\"}, {\"Pclass\": 3, \"Name\": \"Kallio, Mr. Nikolai Erland\", \"Sex\": \"Male (1)\", \"Age\": 17.0, \"SibSp\": 0, \"Parch\": 0, \"Ticket\": \"STON/O 2. 3101274\", \"Fare\": 7.125, \"Embarked\": \"S\", \"Survived\": \"Didn't survive\"}, {\"Pclass\": 1, \"Name\": \"Spedden, Mrs. Frederic Oakley (Margaretta Corning Stone)\", \"Sex\": \"Female (0)\", \"Age\": 40.0, \"SibSp\": 1, \"Parch\": 1, \"Ticket\": \"16966\", \"Fare\": 134.5, \"Embarked\": \"C\", \"Survived\": \"survived\"}, {\"Pclass\": 2, \"Name\": \"Hodges, Mr. Henry Price\", \"Sex\": \"Male (1)\", \"Age\": 50.0, \"SibSp\": 0, \"Parch\": 0, \"Ticket\": \"250643\", \"Fare\": 13.0, \"Embarked\": \"S\", \"Survived\": \"Didn't survive\"}, {\"Pclass\": 1, \"Name\": \"Fortune, Miss. Mabel Helen\", \"Sex\": \"Female (0)\", \"Age\": 23.0, \"SibSp\": 3, \"Parch\": 2, \"Ticket\": \"19950\", \"Fare\": 263.0, \"Embarked\": \"S\", \"Survived\": \"survived\"}, {\"Pclass\": 2, \"Name\": \"Milling, Mr. Jacob Christian\", \"Sex\": \"Male (1)\", \"Age\": 48.0, \"SibSp\": 0, \"Parch\": 0, \"Ticket\": \"234360\", \"Fare\": 13.0, \"Embarked\": \"S\", \"Survived\": \"Didn't survive\"}, {\"Pclass\": 3, \"Name\": \"Tornquist, Mr. William Henry\", \"Sex\": \"Male (1)\", \"Age\": 25.0, \"SibSp\": 0, \"Parch\": 0, \"Ticket\": \"LINE\", \"Fare\": 0.0, \"Embarked\": \"S\", \"Survived\": \"survived\"}, {\"Pclass\": 3, \"Name\": \"Vanden Steen, Mr. Leo Peter\", \"Sex\": \"Male (1)\", \"Age\": 28.0, \"SibSp\": 0, \"Parch\": 0, \"Ticket\": \"345783\", \"Fare\": 9.5, \"Embarked\": \"S\", \"Survived\": \"Didn't survive\"}, {\"Pclass\": 3, \"Name\": \"Ohman, Miss. Velin\", \"Sex\": \"Female (0)\", \"Age\": 22.0, \"SibSp\": 0, \"Parch\": 0, \"Ticket\": \"347085\", \"Fare\": 7.775, \"Embarked\": \"S\", \"Survived\": \"survived\"}, {\"Pclass\": 3, \"Name\": \"Cacic, Mr. Luka\", \"Sex\": \"Male (1)\", \"Age\": 38.0, \"SibSp\": 0, \"Parch\": 0, \"Ticket\": \"315089\", \"Fare\": 8.6625, \"Embarked\": \"S\", \"Survived\": \"Didn't survive\"}, {\"Pclass\": 3, \"Name\": \"Osen, Mr. Olaf Elon\", \"Sex\": \"Male (1)\", \"Age\": 16.0, \"SibSp\": 0, \"Parch\": 0, \"Ticket\": \"7534\", \"Fare\": 9.2167, \"Embarked\": \"S\", \"Survived\": \"Didn't survive\"}, {\"Pclass\": 3, \"Name\": \"Jardin, Mr. Jose Neto\", \"Sex\": \"Male (1)\", \"Age\": 29.036629422718807, \"SibSp\": 0, \"Parch\": 0, \"Ticket\": \"SOTON/O.Q. 3101305\", \"Fare\": 7.05, \"Embarked\": \"S\", \"Survived\": \"Didn't survive\"}, {\"Pclass\": 3, \"Name\": \"Stanley, Miss. Amy Zillah Elsie\", \"Sex\": \"Female (0)\", \"Age\": 23.0, \"SibSp\": 0, \"Parch\": 0, \"Ticket\": \"CA. 2314\", \"Fare\": 7.55, \"Embarked\": \"S\", \"Survived\": \"survived\"}, {\"Pclass\": 3, \"Name\": \"Palsson, Miss. Torborg Danira\", \"Sex\": \"Female (0)\", \"Age\": 8.0, \"SibSp\": 3, \"Parch\": 1, \"Ticket\": \"349909\", \"Fare\": 21.075, \"Embarked\": \"S\", \"Survived\": \"Didn't survive\"}, {\"Pclass\": 2, \"Name\": \"Duran y More, Miss. Asuncion\", \"Sex\": \"Female (0)\", \"Age\": 27.0, \"SibSp\": 1, \"Parch\": 0, \"Ticket\": \"SC/PARIS 2149\", \"Fare\": 13.8583, \"Embarked\": \"C\", \"Survived\": \"survived\"}, {\"Pclass\": 3, \"Name\": \"Allen, Mr. William Henry\", \"Sex\": \"Male (1)\", \"Age\": 35.0, \"SibSp\": 0, \"Parch\": 0, \"Ticket\": \"373450\", \"Fare\": 8.05, \"Embarked\": \"S\", \"Survived\": \"Didn't survive\"}, {\"Pclass\": 1, \"Name\": \"Romaine, Mr. Charles Hallace (\\\"Mr C Rolmane\\\")\", \"Sex\": \"Male (1)\", \"Age\": 45.0, \"SibSp\": 0, \"Parch\": 0, \"Ticket\": \"111428\", \"Fare\": 26.55, \"Embarked\": \"S\", \"Survived\": \"survived\"}, {\"Pclass\": 1, \"Name\": \"Carter, Master. William Thornton II\", \"Sex\": \"Male (1)\", \"Age\": 11.0, \"SibSp\": 1, \"Parch\": 2, \"Ticket\": \"113760\", \"Fare\": 120.0, \"Embarked\": \"S\", \"Survived\": \"survived\"}, {\"Pclass\": 2, \"Name\": \"Matthews, Mr. William John\", \"Sex\": \"Male (1)\", \"Age\": 30.0, \"SibSp\": 0, \"Parch\": 0, \"Ticket\": \"28228\", \"Fare\": 13.0, \"Embarked\": \"S\", \"Survived\": \"Didn't survive\"}, {\"Pclass\": 1, \"Name\": \"Saalfeld, Mr. Adolphe\", \"Sex\": \"Male (1)\", \"Age\": 29.036629422718807, \"SibSp\": 0, \"Parch\": 0, \"Ticket\": \"19988\", \"Fare\": 30.5, \"Embarked\": \"S\", \"Survived\": \"survived\"}, {\"Pclass\": 3, \"Name\": \"Rice, Mrs. William (Margaret Norton)\", \"Sex\": \"Female (0)\", \"Age\": 39.0, \"SibSp\": 0, \"Parch\": 5, \"Ticket\": \"382652\", \"Fare\": 29.125, \"Embarked\": \"Q\", \"Survived\": \"Didn't survive\"}, {\"Pclass\": 3, \"Name\": \"Chronopoulos, Mr. Apostolos\", \"Sex\": \"Male (1)\", \"Age\": 26.0, \"SibSp\": 1, \"Parch\": 0, \"Ticket\": \"2680\", \"Fare\": 14.4542, \"Embarked\": \"C\", \"Survived\": \"Didn't survive\"}, {\"Pclass\": 2, \"Name\": \"Downton, Mr. William James\", \"Sex\": \"Male (1)\", \"Age\": 54.0, \"SibSp\": 0, \"Parch\": 0, \"Ticket\": \"28403\", \"Fare\": 26.0, \"Embarked\": \"S\", \"Survived\": \"Didn't survive\"}, {\"Pclass\": 3, \"Name\": \"Beavan, Mr. William Thomas\", \"Sex\": \"Male (1)\", \"Age\": 19.0, \"SibSp\": 0, \"Parch\": 0, \"Ticket\": \"323951\", \"Fare\": 8.05, \"Embarked\": \"S\", \"Survived\": \"Didn't survive\"}, {\"Pclass\": 3, \"Name\": \"Danbom, Mr. Ernst Gilbert\", \"Sex\": \"Male (1)\", \"Age\": 34.0, \"SibSp\": 1, \"Parch\": 1, \"Ticket\": \"347080\", \"Fare\": 14.4, \"Embarked\": \"S\", \"Survived\": \"Didn't survive\"}, {\"Pclass\": 3, \"Name\": \"Andersson, Miss. Ellis Anna Maria\", \"Sex\": \"Female (0)\", \"Age\": 2.0, \"SibSp\": 4, \"Parch\": 2, \"Ticket\": \"347082\", \"Fare\": 31.275, \"Embarked\": \"S\", \"Survived\": \"Didn't survive\"}, {\"Pclass\": 3, \"Name\": \"Stoytcheff, Mr. Ilia\", \"Sex\": \"Male (1)\", \"Age\": 19.0, \"SibSp\": 0, \"Parch\": 0, \"Ticket\": \"349205\", \"Fare\": 7.8958, \"Embarked\": \"S\", \"Survived\": \"Didn't survive\"}, {\"Pclass\": 3, \"Name\": \"Kelly, Mr. James\", \"Sex\": \"Male (1)\", \"Age\": 44.0, \"SibSp\": 0, \"Parch\": 0, \"Ticket\": \"363592\", \"Fare\": 8.05, \"Embarked\": \"S\", \"Survived\": \"Didn't survive\"}, {\"Pclass\": 3, \"Name\": \"Henry, Miss. Delia\", \"Sex\": \"Female (0)\", \"Age\": 29.036629422718807, \"SibSp\": 0, \"Parch\": 0, \"Ticket\": \"382649\", \"Fare\": 7.75, \"Embarked\": \"Q\", \"Survived\": \"Didn't survive\"}, {\"Pclass\": 3, \"Name\": \"Leonard, Mr. Lionel\", \"Sex\": \"Male (1)\", \"Age\": 36.0, \"SibSp\": 0, \"Parch\": 0, \"Ticket\": \"LINE\", \"Fare\": 0.0, \"Embarked\": \"S\", \"Survived\": \"Didn't survive\"}, {\"Pclass\": 3, \"Name\": \"Sjoblom, Miss. Anna Sofia\", \"Sex\": \"Female (0)\", \"Age\": 18.0, \"SibSp\": 0, \"Parch\": 0, \"Ticket\": \"3101265\", \"Fare\": 7.4958, \"Embarked\": \"S\", \"Survived\": \"survived\"}, {\"Pclass\": 3, \"Name\": \"Karaic, Mr. Milan\", \"Sex\": \"Male (1)\", \"Age\": 30.0, \"SibSp\": 0, \"Parch\": 0, \"Ticket\": \"349246\", \"Fare\": 7.8958, \"Embarked\": \"S\", \"Survived\": \"Didn't survive\"}, {\"Pclass\": 1, \"Name\": \"Newell, Mr. Arthur Webster\", \"Sex\": \"Male (1)\", \"Age\": 58.0, \"SibSp\": 0, \"Parch\": 2, \"Ticket\": \"35273\", \"Fare\": 113.275, \"Embarked\": \"C\", \"Survived\": \"Didn't survive\"}, {\"Pclass\": 1, \"Name\": \"Hassab, Mr. Hammad\", \"Sex\": \"Male (1)\", \"Age\": 27.0, \"SibSp\": 0, \"Parch\": 0, \"Ticket\": \"PC 17572\", \"Fare\": 76.7292, \"Embarked\": \"C\", \"Survived\": \"survived\"}, {\"Pclass\": 1, \"Name\": \"Allison, Master. Hudson Trevor\", \"Sex\": \"Male (1)\", \"Age\": 0.92, \"SibSp\": 1, \"Parch\": 2, \"Ticket\": \"113781\", \"Fare\": 151.55, \"Embarked\": \"S\", \"Survived\": \"survived\"}, {\"Pclass\": 3, \"Name\": \"Pekoniemi, Mr. Edvard\", \"Sex\": \"Male (1)\", \"Age\": 21.0, \"SibSp\": 0, \"Parch\": 0, \"Ticket\": \"STON/O 2. 3101294\", \"Fare\": 7.925, \"Embarked\": \"S\", \"Survived\": \"Didn't survive\"}, {\"Pclass\": 1, \"Name\": \"Natsch, Mr. Charles H\", \"Sex\": \"Male (1)\", \"Age\": 37.0, \"SibSp\": 0, \"Parch\": 1, \"Ticket\": \"PC 17596\", \"Fare\": 29.7, \"Embarked\": \"C\", \"Survived\": \"Didn't survive\"}, {\"Pclass\": 3, \"Name\": \"Vestrom, Miss. Hulda Amanda Adolfina\", \"Sex\": \"Female (0)\", \"Age\": 14.0, \"SibSp\": 0, \"Parch\": 0, \"Ticket\": \"350406\", \"Fare\": 7.8542, \"Embarked\": \"S\", \"Survived\": \"Didn't survive\"}, {\"Pclass\": 1, \"Name\": \"Ryerson, Miss. Emily Borie\", \"Sex\": \"Female (0)\", \"Age\": 18.0, \"SibSp\": 2, \"Parch\": 2, \"Ticket\": \"PC 17608\", \"Fare\": 262.375, \"Embarked\": \"C\", \"Survived\": \"survived\"}, {\"Pclass\": 3, \"Name\": \"Shellard, Mr. Frederick William\", \"Sex\": \"Male (1)\", \"Age\": 29.036629422718807, \"SibSp\": 0, \"Parch\": 0, \"Ticket\": \"C.A. 6212\", \"Fare\": 15.1, \"Embarked\": \"S\", \"Survived\": \"Didn't survive\"}, {\"Pclass\": 3, \"Name\": \"Odahl, Mr. Nils Martin\", \"Sex\": \"Male (1)\", \"Age\": 23.0, \"SibSp\": 0, \"Parch\": 0, \"Ticket\": \"7267\", \"Fare\": 9.225, \"Embarked\": \"S\", \"Survived\": \"Didn't survive\"}, {\"Pclass\": 2, \"Name\": \"Greenberg, Mr. Samuel\", \"Sex\": \"Male (1)\", \"Age\": 52.0, \"SibSp\": 0, \"Parch\": 0, \"Ticket\": \"250647\", \"Fare\": 13.0, \"Embarked\": \"S\", \"Survived\": \"Didn't survive\"}, {\"Pclass\": 1, \"Name\": \"Silvey, Mrs. William Baird (Alice Munger)\", \"Sex\": \"Female (0)\", \"Age\": 39.0, \"SibSp\": 1, \"Parch\": 0, \"Ticket\": \"13507\", \"Fare\": 55.9, \"Embarked\": \"S\", \"Survived\": \"survived\"}, {\"Pclass\": 3, \"Name\": \"Emir, Mr. Farred Chehab\", \"Sex\": \"Male (1)\", \"Age\": 29.036629422718807, \"SibSp\": 0, \"Parch\": 0, \"Ticket\": \"2631\", \"Fare\": 7.225, \"Embarked\": \"C\", \"Survived\": \"Didn't survive\"}, {\"Pclass\": 3, \"Name\": \"Sage, Miss. Dorothy Edith \\\"Dolly\\\"\", \"Sex\": \"Female (0)\", \"Age\": 29.036629422718807, \"SibSp\": 8, \"Parch\": 2, \"Ticket\": \"CA. 2343\", \"Fare\": 69.55, \"Embarked\": \"S\", \"Survived\": \"Didn't survive\"}, {\"Pclass\": 2, \"Name\": \"Lemore, Mrs. (Amelia Milley)\", \"Sex\": \"Female (0)\", \"Age\": 34.0, \"SibSp\": 0, \"Parch\": 0, \"Ticket\": \"C.A. 34260\", \"Fare\": 10.5, \"Embarked\": \"S\", \"Survived\": \"survived\"}, {\"Pclass\": 3, \"Name\": \"Lovell, Mr. John Hall (\\\"Henry\\\")\", \"Sex\": \"Male (1)\", \"Age\": 20.5, \"SibSp\": 0, \"Parch\": 0, \"Ticket\": \"A/5 21173\", \"Fare\": 7.25, \"Embarked\": \"S\", \"Survived\": \"Didn't survive\"}, {\"Pclass\": 1, \"Name\": \"Lewy, Mr. Ervin G\", \"Sex\": \"Male (1)\", \"Age\": 29.036629422718807, \"SibSp\": 0, \"Parch\": 0, \"Ticket\": \"PC 17612\", \"Fare\": 27.7208, \"Embarked\": \"C\", \"Survived\": \"Didn't survive\"}, {\"Pclass\": 3, \"Name\": \"Tikkanen, Mr. Juho\", \"Sex\": \"Male (1)\", \"Age\": 32.0, \"SibSp\": 0, \"Parch\": 0, \"Ticket\": \"STON/O 2. 3101293\", \"Fare\": 7.925, \"Embarked\": \"S\", \"Survived\": \"Didn't survive\"}, {\"Pclass\": 3, \"Name\": \"Cribb, Mr. John Hatfield\", \"Sex\": \"Male (1)\", \"Age\": 44.0, \"SibSp\": 0, \"Parch\": 1, \"Ticket\": \"371362\", \"Fare\": 16.1, \"Embarked\": \"S\", \"Survived\": \"Didn't survive\"}, {\"Pclass\": 2, \"Name\": \"Becker, Miss. Marion Louise\", \"Sex\": \"Female (0)\", \"Age\": 4.0, \"SibSp\": 2, \"Parch\": 1, \"Ticket\": \"230136\", \"Fare\": 39.0, \"Embarked\": \"S\", \"Survived\": \"survived\"}, {\"Pclass\": 3, \"Name\": \"Pettersson, Miss. Ellen Natalia\", \"Sex\": \"Female (0)\", \"Age\": 18.0, \"SibSp\": 0, \"Parch\": 0, \"Ticket\": \"347087\", \"Fare\": 7.775, \"Embarked\": \"S\", \"Survived\": \"Didn't survive\"}, {\"Pclass\": 3, \"Name\": \"Ford, Miss. Robina Maggie \\\"Ruby\\\"\", \"Sex\": \"Female (0)\", \"Age\": 9.0, \"SibSp\": 2, \"Parch\": 2, \"Ticket\": \"W./C. 6608\", \"Fare\": 34.375, \"Embarked\": \"S\", \"Survived\": \"Didn't survive\"}, {\"Pclass\": 2, \"Name\": \"Ball, Mrs. (Ada E Hall)\", \"Sex\": \"Female (0)\", \"Age\": 36.0, \"SibSp\": 0, \"Parch\": 0, \"Ticket\": \"28551\", \"Fare\": 13.0, \"Embarked\": \"S\", \"Survived\": \"survived\"}, {\"Pclass\": 3, \"Name\": \"Maenpaa, Mr. Matti Alexanteri\", \"Sex\": \"Male (1)\", \"Age\": 22.0, \"SibSp\": 0, \"Parch\": 0, \"Ticket\": \"STON/O 2. 3101275\", \"Fare\": 7.125, \"Embarked\": \"S\", \"Survived\": \"Didn't survive\"}, {\"Pclass\": 1, \"Name\": \"Sloper, Mr. William Thompson\", \"Sex\": \"Male (1)\", \"Age\": 28.0, \"SibSp\": 0, \"Parch\": 0, \"Ticket\": \"113788\", \"Fare\": 35.5, \"Embarked\": \"S\", \"Survived\": \"survived\"}, {\"Pclass\": 3, \"Name\": \"Kraeff, Mr. Theodor\", \"Sex\": \"Male (1)\", \"Age\": 29.036629422718807, \"SibSp\": 0, \"Parch\": 0, \"Ticket\": \"349253\", \"Fare\": 7.8958, \"Embarked\": \"C\", \"Survived\": \"Didn't survive\"}, {\"Pclass\": 3, \"Name\": \"Hassan, Mr. Houssein G N\", \"Sex\": \"Male (1)\", \"Age\": 11.0, \"SibSp\": 0, \"Parch\": 0, \"Ticket\": \"2699\", \"Fare\": 18.7875, \"Embarked\": \"C\", \"Survived\": \"Didn't survive\"}, {\"Pclass\": 2, \"Name\": \"Giles, Mr. Frederick Edward\", \"Sex\": \"Male (1)\", \"Age\": 21.0, \"SibSp\": 1, \"Parch\": 0, \"Ticket\": \"28134\", \"Fare\": 11.5, \"Embarked\": \"S\", \"Survived\": \"Didn't survive\"}, {\"Pclass\": 1, \"Name\": \"Hoyt, Mr. Frederick Maxfield\", \"Sex\": \"Male (1)\", \"Age\": 38.0, \"SibSp\": 1, \"Parch\": 0, \"Ticket\": \"19943\", \"Fare\": 90.0, \"Embarked\": \"S\", \"Survived\": \"survived\"}, {\"Pclass\": 1, \"Name\": \"Robbins, Mr. Victor\", \"Sex\": \"Male (1)\", \"Age\": 29.036629422718807, \"SibSp\": 0, \"Parch\": 0, \"Ticket\": \"PC 17757\", \"Fare\": 227.525, \"Embarked\": \"C\", \"Survived\": \"Didn't survive\"}, {\"Pclass\": 3, \"Name\": \"Vande Velde, Mr. Johannes Joseph\", \"Sex\": \"Male (1)\", \"Age\": 33.0, \"SibSp\": 0, \"Parch\": 0, \"Ticket\": \"345780\", \"Fare\": 9.5, \"Embarked\": \"S\", \"Survived\": \"Didn't survive\"}, {\"Pclass\": 3, \"Name\": \"Andersson, Miss. Ebba Iris Alfrida\", \"Sex\": \"Female (0)\", \"Age\": 6.0, \"SibSp\": 4, \"Parch\": 2, \"Ticket\": \"347082\", \"Fare\": 31.275, \"Embarked\": \"S\", \"Survived\": \"Didn't survive\"}, {\"Pclass\": 2, \"Name\": \"Hocking, Mr. Richard George\", \"Sex\": \"Male (1)\", \"Age\": 23.0, \"SibSp\": 2, \"Parch\": 1, \"Ticket\": \"29104\", \"Fare\": 11.5, \"Embarked\": \"S\", \"Survived\": \"Didn't survive\"}, {\"Pclass\": 2, \"Name\": \"Richards, Master. William Rowe\", \"Sex\": \"Male (1)\", \"Age\": 3.0, \"SibSp\": 1, \"Parch\": 1, \"Ticket\": \"29106\", \"Fare\": 18.75, \"Embarked\": \"S\", \"Survived\": \"survived\"}, {\"Pclass\": 1, \"Name\": \"Guggenheim, Mr. Benjamin\", \"Sex\": \"Male (1)\", \"Age\": 46.0, \"SibSp\": 0, \"Parch\": 0, \"Ticket\": \"PC 17593\", \"Fare\": 79.2, \"Embarked\": \"C\", \"Survived\": \"Didn't survive\"}, {\"Pclass\": 3, \"Name\": \"Baclini, Miss. Helene Barbara\", \"Sex\": \"Female (0)\", \"Age\": 0.75, \"SibSp\": 2, \"Parch\": 1, \"Ticket\": \"2666\", \"Fare\": 19.2583, \"Embarked\": \"C\", \"Survived\": \"survived\"}, {\"Pclass\": 1, \"Name\": \"Hays, Mrs. Charles Melville (Clara Jennings Gregg)\", \"Sex\": \"Female (0)\", \"Age\": 52.0, \"SibSp\": 1, \"Parch\": 1, \"Ticket\": \"12749\", \"Fare\": 93.5, \"Embarked\": \"S\", \"Survived\": \"survived\"}, {\"Pclass\": 3, \"Name\": \"Ali, Mr. William\", \"Sex\": \"Male (1)\", \"Age\": 25.0, \"SibSp\": 0, \"Parch\": 0, \"Ticket\": \"SOTON/O.Q. 3101312\", \"Fare\": 7.05, \"Embarked\": \"S\", \"Survived\": \"Didn't survive\"}, {\"Pclass\": 2, \"Name\": \"Turpin, Mr. William John Robert\", \"Sex\": \"Male (1)\", \"Age\": 29.0, \"SibSp\": 1, \"Parch\": 0, \"Ticket\": \"11668\", \"Fare\": 21.0, \"Embarked\": \"S\", \"Survived\": \"Didn't survive\"}, {\"Pclass\": 1, \"Name\": \"Crosby, Miss. Harriet R\", \"Sex\": \"Female (0)\", \"Age\": 36.0, \"SibSp\": 0, \"Parch\": 2, \"Ticket\": \"WE/P 5735\", \"Fare\": 71.0, \"Embarked\": \"S\", \"Survived\": \"survived\"}, {\"Pclass\": 2, \"Name\": \"Yrois, Miss. Henriette (\\\"Mrs Harbeck\\\")\", \"Sex\": \"Female (0)\", \"Age\": 24.0, \"SibSp\": 0, \"Parch\": 0, \"Ticket\": \"248747\", \"Fare\": 13.0, \"Embarked\": \"S\", \"Survived\": \"Didn't survive\"}, {\"Pclass\": 1, \"Name\": \"Fortune, Mr. Charles Alexander\", \"Sex\": \"Male (1)\", \"Age\": 19.0, \"SibSp\": 3, \"Parch\": 2, \"Ticket\": \"19950\", \"Fare\": 263.0, \"Embarked\": \"S\", \"Survived\": \"Didn't survive\"}, {\"Pclass\": 1, \"Name\": \"Graham, Mr. George Edward\", \"Sex\": \"Male (1)\", \"Age\": 38.0, \"SibSp\": 0, \"Parch\": 1, \"Ticket\": \"PC 17582\", \"Fare\": 153.4625, \"Embarked\": \"S\", \"Survived\": \"Didn't survive\"}, {\"Pclass\": 3, \"Name\": \"Skoog, Miss. Mabel\", \"Sex\": \"Female (0)\", \"Age\": 9.0, \"SibSp\": 3, \"Parch\": 2, \"Ticket\": \"347088\", \"Fare\": 27.9, \"Embarked\": \"S\", \"Survived\": \"Didn't survive\"}, {\"Pclass\": 3, \"Name\": \"Karlsson, Mr. Nils August\", \"Sex\": \"Male (1)\", \"Age\": 22.0, \"SibSp\": 0, \"Parch\": 0, \"Ticket\": \"350060\", \"Fare\": 7.5208, \"Embarked\": \"S\", \"Survived\": \"Didn't survive\"}, {\"Pclass\": 1, \"Name\": \"Taussig, Miss. Ruth\", \"Sex\": \"Female (0)\", \"Age\": 18.0, \"SibSp\": 0, \"Parch\": 2, \"Ticket\": \"110413\", \"Fare\": 79.65, \"Embarked\": \"S\", \"Survived\": \"survived\"}, {\"Pclass\": 1, \"Name\": \"Penasco y Castellana, Mr. Victor de Satode\", \"Sex\": \"Male (1)\", \"Age\": 18.0, \"SibSp\": 1, \"Parch\": 0, \"Ticket\": \"PC 17758\", \"Fare\": 108.9, \"Embarked\": \"C\", \"Survived\": \"Didn't survive\"}, {\"Pclass\": 2, \"Name\": \"Pinsky, Mrs. (Rosa)\", \"Sex\": \"Female (0)\", \"Age\": 32.0, \"SibSp\": 0, \"Parch\": 0, \"Ticket\": \"234604\", \"Fare\": 13.0, \"Embarked\": \"S\", \"Survived\": \"survived\"}, {\"Pclass\": 3, \"Name\": \"Rice, Master. Arthur\", \"Sex\": \"Male (1)\", \"Age\": 4.0, \"SibSp\": 4, \"Parch\": 1, \"Ticket\": \"382652\", \"Fare\": 29.125, \"Embarked\": \"Q\", \"Survived\": \"Didn't survive\"}, {\"Pclass\": 2, \"Name\": \"Norman, Mr. Robert Douglas\", \"Sex\": \"Male (1)\", \"Age\": 28.0, \"SibSp\": 0, \"Parch\": 0, \"Ticket\": \"218629\", \"Fare\": 13.5, \"Embarked\": \"S\", \"Survived\": \"Didn't survive\"}, {\"Pclass\": 3, \"Name\": \"Barbara, Miss. Saiide\", \"Sex\": \"Female (0)\", \"Age\": 18.0, \"SibSp\": 0, \"Parch\": 1, \"Ticket\": \"2691\", \"Fare\": 14.4542, \"Embarked\": \"C\", \"Survived\": \"Didn't survive\"}, {\"Pclass\": 1, \"Name\": \"Harder, Mr. George Achilles\", \"Sex\": \"Male (1)\", \"Age\": 25.0, \"SibSp\": 1, \"Parch\": 0, \"Ticket\": \"11765\", \"Fare\": 55.4417, \"Embarked\": \"C\", \"Survived\": \"survived\"}, {\"Pclass\": 3, \"Name\": \"Jermyn, Miss. Annie\", \"Sex\": \"Female (0)\", \"Age\": 29.036629422718807, \"SibSp\": 0, \"Parch\": 0, \"Ticket\": \"14313\", \"Fare\": 7.75, \"Embarked\": \"Q\", \"Survived\": \"survived\"}, {\"Pclass\": 3, \"Name\": \"Davies, Mr. Alfred J\", \"Sex\": \"Male (1)\", \"Age\": 24.0, \"SibSp\": 2, \"Parch\": 0, \"Ticket\": \"A/4 48871\", \"Fare\": 24.15, \"Embarked\": \"S\", \"Survived\": \"Didn't survive\"}, {\"Pclass\": 3, \"Name\": \"Badt, Mr. Mohamed\", \"Sex\": \"Male (1)\", \"Age\": 40.0, \"SibSp\": 0, \"Parch\": 0, \"Ticket\": \"2623\", \"Fare\": 7.225, \"Embarked\": \"C\", \"Survived\": \"Didn't survive\"}, {\"Pclass\": 3, \"Name\": \"Mockler, Miss. Helen Mary \\\"Ellie\\\"\", \"Sex\": \"Female (0)\", \"Age\": 29.036629422718807, \"SibSp\": 0, \"Parch\": 0, \"Ticket\": \"330980\", \"Fare\": 7.8792, \"Embarked\": \"Q\", \"Survived\": \"survived\"}, {\"Pclass\": 3, \"Name\": \"Pasic, Mr. Jakob\", \"Sex\": \"Male (1)\", \"Age\": 21.0, \"SibSp\": 0, \"Parch\": 0, \"Ticket\": \"315097\", \"Fare\": 8.6625, \"Embarked\": \"S\", \"Survived\": \"Didn't survive\"}, {\"Pclass\": 3, \"Name\": \"Skoog, Mr. Wilhelm\", \"Sex\": \"Male (1)\", \"Age\": 40.0, \"SibSp\": 1, \"Parch\": 4, \"Ticket\": \"347088\", \"Fare\": 27.9, \"Embarked\": \"S\", \"Survived\": \"Didn't survive\"}, {\"Pclass\": 1, \"Name\": \"Hoyt, Mrs. Frederick Maxfield (Jane Anne Forby)\", \"Sex\": \"Female (0)\", \"Age\": 35.0, \"SibSp\": 1, \"Parch\": 0, \"Ticket\": \"19943\", \"Fare\": 90.0, \"Embarked\": \"S\", \"Survived\": \"survived\"}, {\"Pclass\": 3, \"Name\": \"Nysten, Miss. Anna Sofia\", \"Sex\": \"Female (0)\", \"Age\": 22.0, \"SibSp\": 0, \"Parch\": 0, \"Ticket\": \"347081\", \"Fare\": 7.75, \"Embarked\": \"S\", \"Survived\": \"survived\"}, {\"Pclass\": 2, \"Name\": \"Andrew, Mr. Edgardo Samuel\", \"Sex\": \"Male (1)\", \"Age\": 18.0, \"SibSp\": 0, \"Parch\": 0, \"Ticket\": \"231945\", \"Fare\": 11.5, \"Embarked\": \"S\", \"Survived\": \"Didn't survive\"}, {\"Pclass\": 1, \"Name\": \"Dick, Mr. Albert Adrian\", \"Sex\": \"Male (1)\", \"Age\": 31.0, \"SibSp\": 1, \"Parch\": 0, \"Ticket\": \"17474\", \"Fare\": 57.0, \"Embarked\": \"S\", \"Survived\": \"survived\"}, {\"Pclass\": 1, \"Name\": \"Van der hoef, Mr. Wyckoff\", \"Sex\": \"Male (1)\", \"Age\": 61.0, \"SibSp\": 0, \"Parch\": 0, \"Ticket\": \"111240\", \"Fare\": 33.5, \"Embarked\": \"S\", \"Survived\": \"Didn't survive\"}, {\"Pclass\": 2, \"Name\": \"Doling, Miss. Elsie\", \"Sex\": \"Female (0)\", \"Age\": 18.0, \"SibSp\": 0, \"Parch\": 1, \"Ticket\": \"231919\", \"Fare\": 23.0, \"Embarked\": \"S\", \"Survived\": \"survived\"}, {\"Pclass\": 3, \"Name\": \"Meanwell, Miss. (Marion Ogden)\", \"Sex\": \"Female (0)\", \"Age\": 29.036629422718807, \"SibSp\": 0, \"Parch\": 0, \"Ticket\": \"SOTON/O.Q. 392087\", \"Fare\": 8.05, \"Embarked\": \"S\", \"Survived\": \"Didn't survive\"}, {\"Pclass\": 2, \"Name\": \"Funk, Miss. Annie Clemmer\", \"Sex\": \"Female (0)\", \"Age\": 38.0, \"SibSp\": 0, \"Parch\": 0, \"Ticket\": \"237671\", \"Fare\": 13.0, \"Embarked\": \"S\", \"Survived\": \"Didn't survive\"}, {\"Pclass\": 3, \"Name\": \"Zabour, Miss. Hileni\", \"Sex\": \"Female (0)\", \"Age\": 14.5, \"SibSp\": 1, \"Parch\": 0, \"Ticket\": \"2665\", \"Fare\": 14.4542, \"Embarked\": \"C\", \"Survived\": \"Didn't survive\"}, {\"Pclass\": 2, \"Name\": \"Doling, Mrs. John T (Ada Julia Bone)\", \"Sex\": \"Female (0)\", \"Age\": 34.0, \"SibSp\": 0, \"Parch\": 1, \"Ticket\": \"231919\", \"Fare\": 23.0, \"Embarked\": \"S\", \"Survived\": \"survived\"}, {\"Pclass\": 1, \"Name\": \"Kimball, Mr. Edwin Nelson Jr\", \"Sex\": \"Male (1)\", \"Age\": 42.0, \"SibSp\": 1, \"Parch\": 0, \"Ticket\": \"11753\", \"Fare\": 52.5542, \"Embarked\": \"S\", \"Survived\": \"survived\"}, {\"Pclass\": 1, \"Name\": \"Dick, Mrs. Albert Adrian (Vera Gillespie)\", \"Sex\": \"Female (0)\", \"Age\": 17.0, \"SibSp\": 1, \"Parch\": 0, \"Ticket\": \"17474\", \"Fare\": 57.0, \"Embarked\": \"S\", \"Survived\": \"survived\"}, {\"Pclass\": 3, \"Name\": \"Staneff, Mr. Ivan\", \"Sex\": \"Male (1)\", \"Age\": 29.036629422718807, \"SibSp\": 0, \"Parch\": 0, \"Ticket\": \"349208\", \"Fare\": 7.8958, \"Embarked\": \"S\", \"Survived\": \"Didn't survive\"}, {\"Pclass\": 3, \"Name\": \"Mernagh, Mr. Robert\", \"Sex\": \"Male (1)\", \"Age\": 29.036629422718807, \"SibSp\": 0, \"Parch\": 0, \"Ticket\": \"368703\", \"Fare\": 7.75, \"Embarked\": \"Q\", \"Survived\": \"Didn't survive\"}, {\"Pclass\": 3, \"Name\": \"Hakkarainen, Mrs. Pekka Pietari (Elin Matilda Dolck)\", \"Sex\": \"Female (0)\", \"Age\": 24.0, \"SibSp\": 1, \"Parch\": 0, \"Ticket\": \"STON/O2. 3101279\", \"Fare\": 15.85, \"Embarked\": \"S\", \"Survived\": \"survived\"}, {\"Pclass\": 3, \"Name\": \"Pavlovic, Mr. Stefo\", \"Sex\": \"Male (1)\", \"Age\": 32.0, \"SibSp\": 0, \"Parch\": 0, \"Ticket\": \"349242\", \"Fare\": 7.8958, \"Embarked\": \"S\", \"Survived\": \"Didn't survive\"}, {\"Pclass\": 3, \"Name\": \"Heikkinen, Miss. Laina\", \"Sex\": \"Female (0)\", \"Age\": 26.0, \"SibSp\": 0, \"Parch\": 0, \"Ticket\": \"STON/O2. 3101282\", \"Fare\": 7.925, \"Embarked\": \"S\", \"Survived\": \"survived\"}, {\"Pclass\": 3, \"Name\": \"Cann, Mr. Ernest Charles\", \"Sex\": \"Male (1)\", \"Age\": 21.0, \"SibSp\": 0, \"Parch\": 0, \"Ticket\": \"A./5. 2152\", \"Fare\": 8.05, \"Embarked\": \"S\", \"Survived\": \"Didn't survive\"}, {\"Pclass\": 2, \"Name\": \"Jacobsohn, Mr. Sidney Samuel\", \"Sex\": \"Male (1)\", \"Age\": 42.0, \"SibSp\": 1, \"Parch\": 0, \"Ticket\": \"243847\", \"Fare\": 27.0, \"Embarked\": \"S\", \"Survived\": \"Didn't survive\"}, {\"Pclass\": 3, \"Name\": \"Cacic, Miss. Marija\", \"Sex\": \"Female (0)\", \"Age\": 30.0, \"SibSp\": 0, \"Parch\": 0, \"Ticket\": \"315084\", \"Fare\": 8.6625, \"Embarked\": \"S\", \"Survived\": \"Didn't survive\"}, {\"Pclass\": 3, \"Name\": \"Goodwin, Mrs. Frederick (Augusta Tyler)\", \"Sex\": \"Female (0)\", \"Age\": 43.0, \"SibSp\": 1, \"Parch\": 6, \"Ticket\": \"CA 2144\", \"Fare\": 46.9, \"Embarked\": \"S\", \"Survived\": \"Didn't survive\"}, {\"Pclass\": 3, \"Name\": \"McNamee, Mr. Neal\", \"Sex\": \"Male (1)\", \"Age\": 24.0, \"SibSp\": 1, \"Parch\": 0, \"Ticket\": \"376566\", \"Fare\": 16.1, \"Embarked\": \"S\", \"Survived\": \"Didn't survive\"}, {\"Pclass\": 3, \"Name\": \"Fischer, Mr. Eberhard Thelander\", \"Sex\": \"Male (1)\", \"Age\": 18.0, \"SibSp\": 0, \"Parch\": 0, \"Ticket\": \"350036\", \"Fare\": 7.7958, \"Embarked\": \"S\", \"Survived\": \"Didn't survive\"}, {\"Pclass\": 3, \"Name\": \"Burke, Mr. Jeremiah\", \"Sex\": \"Male (1)\", \"Age\": 19.0, \"SibSp\": 0, \"Parch\": 0, \"Ticket\": \"365222\", \"Fare\": 6.75, \"Embarked\": \"Q\", \"Survived\": \"Didn't survive\"}, {\"Pclass\": 1, \"Name\": \"Ringhini, Mr. Sante\", \"Sex\": \"Male (1)\", \"Age\": 22.0, \"SibSp\": 0, \"Parch\": 0, \"Ticket\": \"PC 17760\", \"Fare\": 135.6333, \"Embarked\": \"C\", \"Survived\": \"Didn't survive\"}, {\"Pclass\": 2, \"Name\": \"Hocking, Mrs. Elizabeth (Eliza Needs)\", \"Sex\": \"Female (0)\", \"Age\": 54.0, \"SibSp\": 1, \"Parch\": 3, \"Ticket\": \"29105\", \"Fare\": 23.0, \"Embarked\": \"S\", \"Survived\": \"survived\"}, {\"Pclass\": 3, \"Name\": \"O'Sullivan, Miss. Bridget Mary\", \"Sex\": \"Female (0)\", \"Age\": 29.036629422718807, \"SibSp\": 0, \"Parch\": 0, \"Ticket\": \"330909\", \"Fare\": 7.6292, \"Embarked\": \"Q\", \"Survived\": \"Didn't survive\"}, {\"Pclass\": 2, \"Name\": \"Reeves, Mr. David\", \"Sex\": \"Male (1)\", \"Age\": 36.0, \"SibSp\": 0, \"Parch\": 0, \"Ticket\": \"C.A. 17248\", \"Fare\": 10.5, \"Embarked\": \"S\", \"Survived\": \"Didn't survive\"}, {\"Pclass\": 1, \"Name\": \"Uruchurtu, Don. Manuel E\", \"Sex\": \"Male (1)\", \"Age\": 40.0, \"SibSp\": 0, \"Parch\": 0, \"Ticket\": \"PC 17601\", \"Fare\": 27.7208, \"Embarked\": \"C\", \"Survived\": \"Didn't survive\"}, {\"Pclass\": 3, \"Name\": \"Barton, Mr. David John\", \"Sex\": \"Male (1)\", \"Age\": 22.0, \"SibSp\": 0, \"Parch\": 0, \"Ticket\": \"324669\", \"Fare\": 8.05, \"Embarked\": \"S\", \"Survived\": \"Didn't survive\"}, {\"Pclass\": 1, \"Name\": \"Chambers, Mr. Norman Campbell\", \"Sex\": \"Male (1)\", \"Age\": 27.0, \"SibSp\": 1, \"Parch\": 0, \"Ticket\": \"113806\", \"Fare\": 53.1, \"Embarked\": \"S\", \"Survived\": \"survived\"}, {\"Pclass\": 3, \"Name\": \"McCoy, Miss. Agnes\", \"Sex\": \"Female (0)\", \"Age\": 29.036629422718807, \"SibSp\": 2, \"Parch\": 0, \"Ticket\": \"367226\", \"Fare\": 23.25, \"Embarked\": \"Q\", \"Survived\": \"survived\"}, {\"Pclass\": 1, \"Name\": \"Serepeca, Miss. Augusta\", \"Sex\": \"Female (0)\", \"Age\": 30.0, \"SibSp\": 0, \"Parch\": 0, \"Ticket\": \"113798\", \"Fare\": 31.0, \"Embarked\": \"C\", \"Survived\": \"survived\"}, {\"Pclass\": 1, \"Name\": \"Clifford, Mr. George Quincy\", \"Sex\": \"Male (1)\", \"Age\": 29.036629422718807, \"SibSp\": 0, \"Parch\": 0, \"Ticket\": \"110465\", \"Fare\": 52.0, \"Embarked\": \"S\", \"Survived\": \"Didn't survive\"}, {\"Pclass\": 2, \"Name\": \"Troutt, Miss. Edwina Celia \\\"Winnie\\\"\", \"Sex\": \"Female (0)\", \"Age\": 27.0, \"SibSp\": 0, \"Parch\": 0, \"Ticket\": \"34218\", \"Fare\": 10.5, \"Embarked\": \"S\", \"Survived\": \"survived\"}, {\"Pclass\": 3, \"Name\": \"Markun, Mr. Johann\", \"Sex\": \"Male (1)\", \"Age\": 33.0, \"SibSp\": 0, \"Parch\": 0, \"Ticket\": \"349257\", \"Fare\": 7.8958, \"Embarked\": \"S\", \"Survived\": \"Didn't survive\"}, {\"Pclass\": 2, \"Name\": \"Navratil, Mr. Michel (\\\"Louis M Hoffman\\\")\", \"Sex\": \"Male (1)\", \"Age\": 36.5, \"SibSp\": 0, \"Parch\": 2, \"Ticket\": \"230080\", \"Fare\": 26.0, \"Embarked\": \"S\", \"Survived\": \"Didn't survive\"}, {\"Pclass\": 3, \"Name\": \"Coleff, Mr. Satio\", \"Sex\": \"Male (1)\", \"Age\": 24.0, \"SibSp\": 0, \"Parch\": 0, \"Ticket\": \"349209\", \"Fare\": 7.4958, \"Embarked\": \"S\", \"Survived\": \"Didn't survive\"}, {\"Pclass\": 1, \"Name\": \"Barber, Miss. Ellen \\\"Nellie\\\"\", \"Sex\": \"Female (0)\", \"Age\": 26.0, \"SibSp\": 0, \"Parch\": 0, \"Ticket\": \"19877\", \"Fare\": 78.85, \"Embarked\": \"S\", \"Survived\": \"survived\"}, {\"Pclass\": 3, \"Name\": \"Sutehall, Mr. Henry Jr\", \"Sex\": \"Male (1)\", \"Age\": 25.0, \"SibSp\": 0, \"Parch\": 0, \"Ticket\": \"SOTON/OQ 392076\", \"Fare\": 7.05, \"Embarked\": \"S\", \"Survived\": \"Didn't survive\"}, {\"Pclass\": 3, \"Name\": \"Sirota, Mr. Maurice\", \"Sex\": \"Male (1)\", \"Age\": 29.036629422718807, \"SibSp\": 0, \"Parch\": 0, \"Ticket\": \"392092\", \"Fare\": 8.05, \"Embarked\": \"S\", \"Survived\": \"Didn't survive\"}, {\"Pclass\": 2, \"Name\": \"Gaskell, Mr. Alfred\", \"Sex\": \"Male (1)\", \"Age\": 16.0, \"SibSp\": 0, \"Parch\": 0, \"Ticket\": \"239865\", \"Fare\": 26.0, \"Embarked\": \"S\", \"Survived\": \"Didn't survive\"}, {\"Pclass\": 3, \"Name\": \"Haas, Miss. Aloisia\", \"Sex\": \"Female (0)\", \"Age\": 24.0, \"SibSp\": 0, \"Parch\": 0, \"Ticket\": \"349236\", \"Fare\": 8.85, \"Embarked\": \"S\", \"Survived\": \"Didn't survive\"}, {\"Pclass\": 1, \"Name\": \"Carter, Mrs. William Ernest (Lucile Polk)\", \"Sex\": \"Female (0)\", \"Age\": 36.0, \"SibSp\": 1, \"Parch\": 2, \"Ticket\": \"113760\", \"Fare\": 120.0, \"Embarked\": \"S\", \"Survived\": \"survived\"}, {\"Pclass\": 2, \"Name\": \"Navratil, Master. Edmond Roger\", \"Sex\": \"Male (1)\", \"Age\": 2.0, \"SibSp\": 1, \"Parch\": 1, \"Ticket\": \"230080\", \"Fare\": 26.0, \"Embarked\": \"S\", \"Survived\": \"survived\"}, {\"Pclass\": 3, \"Name\": \"Asplund, Master. Edvin Rojj Felix\", \"Sex\": \"Male (1)\", \"Age\": 3.0, \"SibSp\": 4, \"Parch\": 2, \"Ticket\": \"347077\", \"Fare\": 31.3875, \"Embarked\": \"S\", \"Survived\": \"survived\"}, {\"Pclass\": 2, \"Name\": \"Hale, Mr. Reginald\", \"Sex\": \"Male (1)\", \"Age\": 30.0, \"SibSp\": 0, \"Parch\": 0, \"Ticket\": \"250653\", \"Fare\": 13.0, \"Embarked\": \"S\", \"Survived\": \"Didn't survive\"}, {\"Pclass\": 3, \"Name\": \"Lulic, Mr. Nikola\", \"Sex\": \"Male (1)\", \"Age\": 27.0, \"SibSp\": 0, \"Parch\": 0, \"Ticket\": \"315098\", \"Fare\": 8.6625, \"Embarked\": \"S\", \"Survived\": \"survived\"}, {\"Pclass\": 2, \"Name\": \"West, Miss. Constance Mirium\", \"Sex\": \"Female (0)\", \"Age\": 5.0, \"SibSp\": 1, \"Parch\": 2, \"Ticket\": \"C.A. 34651\", \"Fare\": 27.75, \"Embarked\": \"S\", \"Survived\": \"survived\"}, {\"Pclass\": 3, \"Name\": \"Myhrman, Mr. Pehr Fabian Oliver Malkolm\", \"Sex\": \"Male (1)\", \"Age\": 18.0, \"SibSp\": 0, \"Parch\": 0, \"Ticket\": \"347078\", \"Fare\": 7.75, \"Embarked\": \"S\", \"Survived\": \"Didn't survive\"}, {\"Pclass\": 3, \"Name\": \"van Melkebeke, Mr. Philemon\", \"Sex\": \"Male (1)\", \"Age\": 29.036629422718807, \"SibSp\": 0, \"Parch\": 0, \"Ticket\": \"345777\", \"Fare\": 9.5, \"Embarked\": \"S\", \"Survived\": \"Didn't survive\"}, {\"Pclass\": 2, \"Name\": \"Abelson, Mrs. Samuel (Hannah Wizosky)\", \"Sex\": \"Female (0)\", \"Age\": 28.0, \"SibSp\": 1, \"Parch\": 0, \"Ticket\": \"P/PP 3381\", \"Fare\": 24.0, \"Embarked\": \"C\", \"Survived\": \"survived\"}, {\"Pclass\": 1, \"Name\": \"Penasco y Castellana, Mrs. Victor de Satode (Maria Josefa Perez de Soto y Vallejo)\", \"Sex\": \"Female (0)\", \"Age\": 17.0, \"SibSp\": 1, \"Parch\": 0, \"Ticket\": \"PC 17758\", \"Fare\": 108.9, \"Embarked\": \"C\", \"Survived\": \"survived\"}, {\"Pclass\": 1, \"Name\": \"Pears, Mrs. Thomas (Edith Wearne)\", \"Sex\": \"Female (0)\", \"Age\": 22.0, \"SibSp\": 1, \"Parch\": 0, \"Ticket\": \"113776\", \"Fare\": 66.6, \"Embarked\": \"S\", \"Survived\": \"survived\"}, {\"Pclass\": 2, \"Name\": \"Quick, Miss. Phyllis May\", \"Sex\": \"Female (0)\", \"Age\": 2.0, \"SibSp\": 1, \"Parch\": 1, \"Ticket\": \"26360\", \"Fare\": 26.0, \"Embarked\": \"S\", \"Survived\": \"survived\"}, {\"Pclass\": 1, \"Name\": \"Stahelin-Maeglin, Dr. Max\", \"Sex\": \"Male (1)\", \"Age\": 32.0, \"SibSp\": 0, \"Parch\": 0, \"Ticket\": \"13214\", \"Fare\": 30.5, \"Embarked\": \"C\", \"Survived\": \"survived\"}, {\"Pclass\": 3, \"Name\": \"Ahlin, Mrs. Johan (Johanna Persdotter Larsson)\", \"Sex\": \"Female (0)\", \"Age\": 40.0, \"SibSp\": 1, \"Parch\": 0, \"Ticket\": \"7546\", \"Fare\": 9.475, \"Embarked\": \"S\", \"Survived\": \"Didn't survive\"}, {\"Pclass\": 3, \"Name\": \"Baclini, Mrs. Solomon (Latifa Qurban)\", \"Sex\": \"Female (0)\", \"Age\": 24.0, \"SibSp\": 0, \"Parch\": 3, \"Ticket\": \"2666\", \"Fare\": 19.2583, \"Embarked\": \"C\", \"Survived\": \"survived\"}, {\"Pclass\": 2, \"Name\": \"Reynaldo, Ms. Encarnacion\", \"Sex\": \"Female (0)\", \"Age\": 28.0, \"SibSp\": 0, \"Parch\": 0, \"Ticket\": \"230434\", \"Fare\": 13.0, \"Embarked\": \"S\", \"Survived\": \"survived\"}, {\"Pclass\": 1, \"Name\": \"Daniel, Mr. Robert Williams\", \"Sex\": \"Male (1)\", \"Age\": 27.0, \"SibSp\": 0, \"Parch\": 0, \"Ticket\": \"113804\", \"Fare\": 30.5, \"Embarked\": \"S\", \"Survived\": \"survived\"}, {\"Pclass\": 3, \"Name\": \"Hagland, Mr. Ingvald Olai Olsen\", \"Sex\": \"Male (1)\", \"Age\": 29.036629422718807, \"SibSp\": 1, \"Parch\": 0, \"Ticket\": \"65303\", \"Fare\": 19.9667, \"Embarked\": \"S\", \"Survived\": \"Didn't survive\"}, {\"Pclass\": 3, \"Name\": \"Bostandyeff, Mr. Guentcho\", \"Sex\": \"Male (1)\", \"Age\": 26.0, \"SibSp\": 0, \"Parch\": 0, \"Ticket\": \"349224\", \"Fare\": 7.8958, \"Embarked\": \"S\", \"Survived\": \"Didn't survive\"}, {\"Pclass\": 3, \"Name\": \"Panula, Master. Juha Niilo\", \"Sex\": \"Male (1)\", \"Age\": 7.0, \"SibSp\": 4, \"Parch\": 1, \"Ticket\": \"3101295\", \"Fare\": 39.6875, \"Embarked\": \"S\", \"Survived\": \"Didn't survive\"}, {\"Pclass\": 1, \"Name\": \"Madill, Miss. Georgette Alexandra\", \"Sex\": \"Female (0)\", \"Age\": 15.0, \"SibSp\": 0, \"Parch\": 1, \"Ticket\": \"24160\", \"Fare\": 211.3375, \"Embarked\": \"S\", \"Survived\": \"survived\"}, {\"Pclass\": 3, \"Name\": \"Celotti, Mr. Francesco\", \"Sex\": \"Male (1)\", \"Age\": 24.0, \"SibSp\": 0, \"Parch\": 0, \"Ticket\": \"343275\", \"Fare\": 8.05, \"Embarked\": \"S\", \"Survived\": \"Didn't survive\"}, {\"Pclass\": 2, \"Name\": \"Mudd, Mr. Thomas Charles\", \"Sex\": \"Male (1)\", \"Age\": 16.0, \"SibSp\": 0, \"Parch\": 0, \"Ticket\": \"S.O./P.P. 3\", \"Fare\": 10.5, \"Embarked\": \"S\", \"Survived\": \"Didn't survive\"}, {\"Pclass\": 2, \"Name\": \"Fox, Mr. Stanley Hubert\", \"Sex\": \"Male (1)\", \"Age\": 36.0, \"SibSp\": 0, \"Parch\": 0, \"Ticket\": \"229236\", \"Fare\": 13.0, \"Embarked\": \"S\", \"Survived\": \"Didn't survive\"}, {\"Pclass\": 3, \"Name\": \"Chip, Mr. Chang\", \"Sex\": \"Male (1)\", \"Age\": 32.0, \"SibSp\": 0, \"Parch\": 0, \"Ticket\": \"1601\", \"Fare\": 56.4958, \"Embarked\": \"S\", \"Survived\": \"survived\"}, {\"Pclass\": 3, \"Name\": \"Drazenoic, Mr. Jozef\", \"Sex\": \"Male (1)\", \"Age\": 33.0, \"SibSp\": 0, \"Parch\": 0, \"Ticket\": \"349241\", \"Fare\": 7.8958, \"Embarked\": \"C\", \"Survived\": \"Didn't survive\"}, {\"Pclass\": 2, \"Name\": \"Pain, Dr. Alfred\", \"Sex\": \"Male (1)\", \"Age\": 23.0, \"SibSp\": 0, \"Parch\": 0, \"Ticket\": \"244278\", \"Fare\": 10.5, \"Embarked\": \"S\", \"Survived\": \"Didn't survive\"}, {\"Pclass\": 3, \"Name\": \"Johansson, Mr. Gustaf Joel\", \"Sex\": \"Male (1)\", \"Age\": 33.0, \"SibSp\": 0, \"Parch\": 0, \"Ticket\": \"7540\", \"Fare\": 8.6542, \"Embarked\": \"S\", \"Survived\": \"Didn't survive\"}, {\"Pclass\": 1, \"Name\": \"Butt, Major. Archibald Willingham\", \"Sex\": \"Male (1)\", \"Age\": 45.0, \"SibSp\": 0, \"Parch\": 0, \"Ticket\": \"113050\", \"Fare\": 26.55, \"Embarked\": \"S\", \"Survived\": \"Didn't survive\"}, {\"Pclass\": 1, \"Name\": \"Goldenberg, Mrs. Samuel L (Edwiga Grabowska)\", \"Sex\": \"Female (0)\", \"Age\": 29.036629422718807, \"SibSp\": 1, \"Parch\": 0, \"Ticket\": \"17453\", \"Fare\": 89.1042, \"Embarked\": \"C\", \"Survived\": \"survived\"}, {\"Pclass\": 1, \"Name\": \"Long, Mr. Milton Clyde\", \"Sex\": \"Male (1)\", \"Age\": 29.0, \"SibSp\": 0, \"Parch\": 0, \"Ticket\": \"113501\", \"Fare\": 30.0, \"Embarked\": \"S\", \"Survived\": \"Didn't survive\"}, {\"Pclass\": 1, \"Name\": \"Lurette, Miss. Elise\", \"Sex\": \"Female (0)\", \"Age\": 58.0, \"SibSp\": 0, \"Parch\": 0, \"Ticket\": \"PC 17569\", \"Fare\": 146.5208, \"Embarked\": \"C\", \"Survived\": \"survived\"}, {\"Pclass\": 3, \"Name\": \"Coleff, Mr. Peju\", \"Sex\": \"Male (1)\", \"Age\": 36.0, \"SibSp\": 0, \"Parch\": 0, \"Ticket\": \"349210\", \"Fare\": 7.4958, \"Embarked\": \"S\", \"Survived\": \"Didn't survive\"}, {\"Pclass\": 1, \"Name\": \"White, Mr. Richard Frasar\", \"Sex\": \"Male (1)\", \"Age\": 21.0, \"SibSp\": 0, \"Parch\": 1, \"Ticket\": \"35281\", \"Fare\": 77.2875, \"Embarked\": \"S\", \"Survived\": \"Didn't survive\"}, {\"Pclass\": 3, \"Name\": \"van Billiard, Mr. Austin Blyler\", \"Sex\": \"Male (1)\", \"Age\": 40.5, \"SibSp\": 0, \"Parch\": 2, \"Ticket\": \"A/5. 851\", \"Fare\": 14.5, \"Embarked\": \"S\", \"Survived\": \"Didn't survive\"}, {\"Pclass\": 3, \"Name\": \"Berglund, Mr. Karl Ivar Sven\", \"Sex\": \"Male (1)\", \"Age\": 22.0, \"SibSp\": 0, \"Parch\": 0, \"Ticket\": \"PP 4348\", \"Fare\": 9.35, \"Embarked\": \"S\", \"Survived\": \"Didn't survive\"}, {\"Pclass\": 3, \"Name\": \"Ibrahim Shawah, Mr. Yousseff\", \"Sex\": \"Male (1)\", \"Age\": 30.0, \"SibSp\": 0, \"Parch\": 0, \"Ticket\": \"2685\", \"Fare\": 7.2292, \"Embarked\": \"C\", \"Survived\": \"Didn't survive\"}, {\"Pclass\": 1, \"Name\": \"Flynn, Mr. John Irwin (\\\"Irving\\\")\", \"Sex\": \"Male (1)\", \"Age\": 36.0, \"SibSp\": 0, \"Parch\": 0, \"Ticket\": \"PC 17474\", \"Fare\": 26.3875, \"Embarked\": \"S\", \"Survived\": \"survived\"}, {\"Pclass\": 3, \"Name\": \"Arnold-Franchi, Mr. Josef\", \"Sex\": \"Male (1)\", \"Age\": 25.0, \"SibSp\": 1, \"Parch\": 0, \"Ticket\": \"349237\", \"Fare\": 17.8, \"Embarked\": \"S\", \"Survived\": \"Didn't survive\"}, {\"Pclass\": 3, \"Name\": \"O'Leary, Miss. Hanora \\\"Norah\\\"\", \"Sex\": \"Female (0)\", \"Age\": 29.036629422718807, \"SibSp\": 0, \"Parch\": 0, \"Ticket\": \"330919\", \"Fare\": 7.8292, \"Embarked\": \"Q\", \"Survived\": \"survived\"}, {\"Pclass\": 2, \"Name\": \"Laroche, Mr. Joseph Philippe Lemercier\", \"Sex\": \"Male (1)\", \"Age\": 25.0, \"SibSp\": 1, \"Parch\": 2, \"Ticket\": \"SC/Paris 2123\", \"Fare\": 41.5792, \"Embarked\": \"C\", \"Survived\": \"Didn't survive\"}, {\"Pclass\": 3, \"Name\": \"Goodwin, Master. Harold Victor\", \"Sex\": \"Male (1)\", \"Age\": 9.0, \"SibSp\": 5, \"Parch\": 2, \"Ticket\": \"CA 2144\", \"Fare\": 46.9, \"Embarked\": \"S\", \"Survived\": \"Didn't survive\"}, {\"Pclass\": 3, \"Name\": \"Panula, Master. Eino Viljami\", \"Sex\": \"Male (1)\", \"Age\": 1.0, \"SibSp\": 4, \"Parch\": 1, \"Ticket\": \"3101295\", \"Fare\": 39.6875, \"Embarked\": \"S\", \"Survived\": \"Didn't survive\"}, {\"Pclass\": 3, \"Name\": \"Jonsson, Mr. Carl\", \"Sex\": \"Male (1)\", \"Age\": 32.0, \"SibSp\": 0, \"Parch\": 0, \"Ticket\": \"350417\", \"Fare\": 7.8542, \"Embarked\": \"S\", \"Survived\": \"survived\"}, {\"Pclass\": 3, \"Name\": \"Tomlin, Mr. Ernest Portage\", \"Sex\": \"Male (1)\", \"Age\": 30.5, \"SibSp\": 0, \"Parch\": 0, \"Ticket\": \"364499\", \"Fare\": 8.05, \"Embarked\": \"S\", \"Survived\": \"Didn't survive\"}, {\"Pclass\": 3, \"Name\": \"Culumovic, Mr. Jeso\", \"Sex\": \"Male (1)\", \"Age\": 17.0, \"SibSp\": 0, \"Parch\": 0, \"Ticket\": \"315090\", \"Fare\": 8.6625, \"Embarked\": \"S\", \"Survived\": \"Didn't survive\"}, {\"Pclass\": 3, \"Name\": \"Widegren, Mr. Carl/Charles Peter\", \"Sex\": \"Male (1)\", \"Age\": 51.0, \"SibSp\": 0, \"Parch\": 0, \"Ticket\": \"347064\", \"Fare\": 7.75, \"Embarked\": \"S\", \"Survived\": \"Didn't survive\"}, {\"Pclass\": 2, \"Name\": \"Trout, Mrs. William H (Jessie L)\", \"Sex\": \"Female (0)\", \"Age\": 28.0, \"SibSp\": 0, \"Parch\": 0, \"Ticket\": \"240929\", \"Fare\": 12.65, \"Embarked\": \"S\", \"Survived\": \"survived\"}, {\"Pclass\": 3, \"Name\": \"Olsen, Mr. Karl Siegwart Andreas\", \"Sex\": \"Male (1)\", \"Age\": 42.0, \"SibSp\": 0, \"Parch\": 1, \"Ticket\": \"4579\", \"Fare\": 8.4042, \"Embarked\": \"S\", \"Survived\": \"Didn't survive\"}, {\"Pclass\": 3, \"Name\": \"Paulner, Mr. Uscher\", \"Sex\": \"Male (1)\", \"Age\": 29.036629422718807, \"SibSp\": 0, \"Parch\": 0, \"Ticket\": \"3411\", \"Fare\": 8.7125, \"Embarked\": \"C\", \"Survived\": \"Didn't survive\"}, {\"Pclass\": 3, \"Name\": \"Goldsmith, Master. Frank John William \\\"Frankie\\\"\", \"Sex\": \"Male (1)\", \"Age\": 9.0, \"SibSp\": 0, \"Parch\": 2, \"Ticket\": \"363291\", \"Fare\": 20.525, \"Embarked\": \"S\", \"Survived\": \"survived\"}, {\"Pclass\": 3, \"Name\": \"Oreskovic, Miss. Marija\", \"Sex\": \"Female (0)\", \"Age\": 20.0, \"SibSp\": 0, \"Parch\": 0, \"Ticket\": \"315096\", \"Fare\": 8.6625, \"Embarked\": \"S\", \"Survived\": \"Didn't survive\"}, {\"Pclass\": 3, \"Name\": \"Sandstrom, Mrs. Hjalmar (Agnes Charlotta Bengtsson)\", \"Sex\": \"Female (0)\", \"Age\": 24.0, \"SibSp\": 0, \"Parch\": 2, \"Ticket\": \"PP 9549\", \"Fare\": 16.7, \"Embarked\": \"S\", \"Survived\": \"survived\"}, {\"Pclass\": 3, \"Name\": \"Markoff, Mr. Marin\", \"Sex\": \"Male (1)\", \"Age\": 35.0, \"SibSp\": 0, \"Parch\": 0, \"Ticket\": \"349213\", \"Fare\": 7.8958, \"Embarked\": \"C\", \"Survived\": \"Didn't survive\"}, {\"Pclass\": 2, \"Name\": \"Gill, Mr. John William\", \"Sex\": \"Male (1)\", \"Age\": 24.0, \"SibSp\": 0, \"Parch\": 0, \"Ticket\": \"233866\", \"Fare\": 13.0, \"Embarked\": \"S\", \"Survived\": \"Didn't survive\"}, {\"Pclass\": 2, \"Name\": \"Davies, Master. John Morgan Jr\", \"Sex\": \"Male (1)\", \"Age\": 8.0, \"SibSp\": 1, \"Parch\": 1, \"Ticket\": \"C.A. 33112\", \"Fare\": 36.75, \"Embarked\": \"S\", \"Survived\": \"survived\"}, {\"Pclass\": 1, \"Name\": \"Crosby, Capt. Edward Gifford\", \"Sex\": \"Male (1)\", \"Age\": 70.0, \"SibSp\": 1, \"Parch\": 1, \"Ticket\": \"WE/P 5735\", \"Fare\": 71.0, \"Embarked\": \"S\", \"Survived\": \"Didn't survive\"}, {\"Pclass\": 2, \"Name\": \"Collander, Mr. Erik Gustaf\", \"Sex\": \"Male (1)\", \"Age\": 28.0, \"SibSp\": 0, \"Parch\": 0, \"Ticket\": \"248740\", \"Fare\": 13.0, \"Embarked\": \"S\", \"Survived\": \"Didn't survive\"}, {\"Pclass\": 3, \"Name\": \"Emanuel, Miss. Virginia Ethel\", \"Sex\": \"Female (0)\", \"Age\": 5.0, \"SibSp\": 0, \"Parch\": 0, \"Ticket\": \"364516\", \"Fare\": 12.475, \"Embarked\": \"S\", \"Survived\": \"survived\"}, {\"Pclass\": 2, \"Name\": \"Chapman, Mr. Charles Henry\", \"Sex\": \"Male (1)\", \"Age\": 52.0, \"SibSp\": 0, \"Parch\": 0, \"Ticket\": \"248731\", \"Fare\": 13.5, \"Embarked\": \"S\", \"Survived\": \"Didn't survive\"}, {\"Pclass\": 2, \"Name\": \"Hart, Mr. Benjamin\", \"Sex\": \"Male (1)\", \"Age\": 43.0, \"SibSp\": 1, \"Parch\": 1, \"Ticket\": \"F.C.C. 13529\", \"Fare\": 26.25, \"Embarked\": \"S\", \"Survived\": \"Didn't survive\"}, {\"Pclass\": 1, \"Name\": \"Sagesser, Mlle. Emma\", \"Sex\": \"Female (0)\", \"Age\": 24.0, \"SibSp\": 0, \"Parch\": 0, \"Ticket\": \"PC 17477\", \"Fare\": 69.3, \"Embarked\": \"C\", \"Survived\": \"survived\"}, {\"Pclass\": 3, \"Name\": \"Sawyer, Mr. Frederick Charles\", \"Sex\": \"Male (1)\", \"Age\": 24.5, \"SibSp\": 0, \"Parch\": 0, \"Ticket\": \"342826\", \"Fare\": 8.05, \"Embarked\": \"S\", \"Survived\": \"Didn't survive\"}, {\"Pclass\": 3, \"Name\": \"Theobald, Mr. Thomas Leonard\", \"Sex\": \"Male (1)\", \"Age\": 34.0, \"SibSp\": 0, \"Parch\": 0, \"Ticket\": \"363294\", \"Fare\": 8.05, \"Embarked\": \"S\", \"Survived\": \"Didn't survive\"}, {\"Pclass\": 1, \"Name\": \"Bidois, Miss. Rosalie\", \"Sex\": \"Female (0)\", \"Age\": 42.0, \"SibSp\": 0, \"Parch\": 0, \"Ticket\": \"PC 17757\", \"Fare\": 227.525, \"Embarked\": \"C\", \"Survived\": \"survived\"}, {\"Pclass\": 3, \"Name\": \"Carlsson, Mr. August Sigfrid\", \"Sex\": \"Male (1)\", \"Age\": 28.0, \"SibSp\": 0, \"Parch\": 0, \"Ticket\": \"350042\", \"Fare\": 7.7958, \"Embarked\": \"S\", \"Survived\": \"Didn't survive\"}, {\"Pclass\": 2, \"Name\": \"Williams, Mr. Charles Eugene\", \"Sex\": \"Male (1)\", \"Age\": 29.036629422718807, \"SibSp\": 0, \"Parch\": 0, \"Ticket\": \"244373\", \"Fare\": 13.0, \"Embarked\": \"S\", \"Survived\": \"survived\"}, {\"Pclass\": 2, \"Name\": \"Levy, Mr. Rene Jacques\", \"Sex\": \"Male (1)\", \"Age\": 36.0, \"SibSp\": 0, \"Parch\": 0, \"Ticket\": \"SC/Paris 2163\", \"Fare\": 12.875, \"Embarked\": \"C\", \"Survived\": \"Didn't survive\"}, {\"Pclass\": 3, \"Name\": \"Gilinski, Mr. Eliezer\", \"Sex\": \"Male (1)\", \"Age\": 22.0, \"SibSp\": 0, \"Parch\": 0, \"Ticket\": \"14973\", \"Fare\": 8.05, \"Embarked\": \"S\", \"Survived\": \"Didn't survive\"}, {\"Pclass\": 3, \"Name\": \"Mineff, Mr. Ivan\", \"Sex\": \"Male (1)\", \"Age\": 24.0, \"SibSp\": 0, \"Parch\": 0, \"Ticket\": \"349233\", \"Fare\": 7.8958, \"Embarked\": \"S\", \"Survived\": \"Didn't survive\"}, {\"Pclass\": 3, \"Name\": \"Razi, Mr. Raihed\", \"Sex\": \"Male (1)\", \"Age\": 29.036629422718807, \"SibSp\": 0, \"Parch\": 0, \"Ticket\": \"2629\", \"Fare\": 7.2292, \"Embarked\": \"C\", \"Survived\": \"Didn't survive\"}, {\"Pclass\": 2, \"Name\": \"Knight, Mr. Robert J\", \"Sex\": \"Male (1)\", \"Age\": 29.036629422718807, \"SibSp\": 0, \"Parch\": 0, \"Ticket\": \"239855\", \"Fare\": 0.0, \"Embarked\": \"S\", \"Survived\": \"Didn't survive\"}, {\"Pclass\": 3, \"Name\": \"Lindahl, Miss. Agda Thorilda Viktoria\", \"Sex\": \"Female (0)\", \"Age\": 25.0, \"SibSp\": 0, \"Parch\": 0, \"Ticket\": \"347071\", \"Fare\": 7.775, \"Embarked\": \"S\", \"Survived\": \"Didn't survive\"}, {\"Pclass\": 3, \"Name\": \"Mangan, Miss. Mary\", \"Sex\": \"Female (0)\", \"Age\": 30.5, \"SibSp\": 0, \"Parch\": 0, \"Ticket\": \"364850\", \"Fare\": 7.75, \"Embarked\": \"Q\", \"Survived\": \"Didn't survive\"}, {\"Pclass\": 3, \"Name\": \"Rosblom, Mr. Viktor Richard\", \"Sex\": \"Male (1)\", \"Age\": 18.0, \"SibSp\": 1, \"Parch\": 1, \"Ticket\": \"370129\", \"Fare\": 20.2125, \"Embarked\": \"S\", \"Survived\": \"Didn't survive\"}, {\"Pclass\": 3, \"Name\": \"Van Impe, Miss. Catharina\", \"Sex\": \"Female (0)\", \"Age\": 10.0, \"SibSp\": 0, \"Parch\": 2, \"Ticket\": \"345773\", \"Fare\": 24.15, \"Embarked\": \"S\", \"Survived\": \"Didn't survive\"}, {\"Pclass\": 3, \"Name\": \"Jensen, Mr. Svend Lauritz\", \"Sex\": \"Male (1)\", \"Age\": 17.0, \"SibSp\": 1, \"Parch\": 0, \"Ticket\": \"350048\", \"Fare\": 7.0542, \"Embarked\": \"S\", \"Survived\": \"Didn't survive\"}, {\"Pclass\": 3, \"Name\": \"de Pelsmaeker, Mr. Alfons\", \"Sex\": \"Male (1)\", \"Age\": 16.0, \"SibSp\": 0, \"Parch\": 0, \"Ticket\": \"345778\", \"Fare\": 9.5, \"Embarked\": \"S\", \"Survived\": \"Didn't survive\"}, {\"Pclass\": 1, \"Name\": \"Newell, Miss. Marjorie\", \"Sex\": \"Female (0)\", \"Age\": 23.0, \"SibSp\": 1, \"Parch\": 0, \"Ticket\": \"35273\", \"Fare\": 113.275, \"Embarked\": \"C\", \"Survived\": \"survived\"}, {\"Pclass\": 1, \"Name\": \"Futrelle, Mrs. Jacques Heath (Lily May Peel)\", \"Sex\": \"Female (0)\", \"Age\": 35.0, \"SibSp\": 1, \"Parch\": 0, \"Ticket\": \"113803\", \"Fare\": 53.1, \"Embarked\": \"S\", \"Survived\": \"survived\"}, {\"Pclass\": 3, \"Name\": \"Rouse, Mr. Richard Henry\", \"Sex\": \"Male (1)\", \"Age\": 50.0, \"SibSp\": 0, \"Parch\": 0, \"Ticket\": \"A/5 3594\", \"Fare\": 8.05, \"Embarked\": \"S\", \"Survived\": \"Didn't survive\"}, {\"Pclass\": 1, \"Name\": \"Sutton, Mr. Frederick\", \"Sex\": \"Male (1)\", \"Age\": 61.0, \"SibSp\": 0, \"Parch\": 0, \"Ticket\": \"36963\", \"Fare\": 32.3208, \"Embarked\": \"S\", \"Survived\": \"Didn't survive\"}, {\"Pclass\": 1, \"Name\": \"Hippach, Miss. Jean Gertrude\", \"Sex\": \"Female (0)\", \"Age\": 16.0, \"SibSp\": 0, \"Parch\": 1, \"Ticket\": \"111361\", \"Fare\": 57.9792, \"Embarked\": \"C\", \"Survived\": \"survived\"}, {\"Pclass\": 2, \"Name\": \"Clarke, Mrs. Charles V (Ada Maria Winfield)\", \"Sex\": \"Female (0)\", \"Age\": 28.0, \"SibSp\": 1, \"Parch\": 0, \"Ticket\": \"2003\", \"Fare\": 26.0, \"Embarked\": \"S\", \"Survived\": \"survived\"}, {\"Pclass\": 3, \"Name\": \"Christmann, Mr. Emil\", \"Sex\": \"Male (1)\", \"Age\": 29.0, \"SibSp\": 0, \"Parch\": 0, \"Ticket\": \"343276\", \"Fare\": 8.05, \"Embarked\": \"S\", \"Survived\": \"Didn't survive\"}, {\"Pclass\": 2, \"Name\": \"Lehmann, Miss. Bertha\", \"Sex\": \"Female (0)\", \"Age\": 17.0, \"SibSp\": 0, \"Parch\": 0, \"Ticket\": \"SC 1748\", \"Fare\": 12.0, \"Embarked\": \"C\", \"Survived\": \"survived\"}, {\"Pclass\": 1, \"Name\": \"Reuchlin, Jonkheer. John George\", \"Sex\": \"Male (1)\", \"Age\": 38.0, \"SibSp\": 0, \"Parch\": 0, \"Ticket\": \"19972\", \"Fare\": 0.0, \"Embarked\": \"S\", \"Survived\": \"Didn't survive\"}, {\"Pclass\": 3, \"Name\": \"Niskanen, Mr. Juha\", \"Sex\": \"Male (1)\", \"Age\": 39.0, \"SibSp\": 0, \"Parch\": 0, \"Ticket\": \"STON/O 2. 3101289\", \"Fare\": 7.925, \"Embarked\": \"S\", \"Survived\": \"survived\"}, {\"Pclass\": 1, \"Name\": \"Silverthorne, Mr. Spencer Victor\", \"Sex\": \"Male (1)\", \"Age\": 35.0, \"SibSp\": 0, \"Parch\": 0, \"Ticket\": \"PC 17475\", \"Fare\": 26.2875, \"Embarked\": \"S\", \"Survived\": \"survived\"}, {\"Pclass\": 1, \"Name\": \"Allison, Miss. Helen Loraine\", \"Sex\": \"Female (0)\", \"Age\": 2.0, \"SibSp\": 1, \"Parch\": 2, \"Ticket\": \"113781\", \"Fare\": 151.55, \"Embarked\": \"S\", \"Survived\": \"Didn't survive\"}, {\"Pclass\": 3, \"Name\": \"Smiljanic, Mr. Mile\", \"Sex\": \"Male (1)\", \"Age\": 29.036629422718807, \"SibSp\": 0, \"Parch\": 0, \"Ticket\": \"315037\", \"Fare\": 8.6625, \"Embarked\": \"S\", \"Survived\": \"Didn't survive\"}, {\"Pclass\": 3, \"Name\": \"Johansson, Mr. Erik\", \"Sex\": \"Male (1)\", \"Age\": 22.0, \"SibSp\": 0, \"Parch\": 0, \"Ticket\": \"350052\", \"Fare\": 7.7958, \"Embarked\": \"S\", \"Survived\": \"Didn't survive\"}, {\"Pclass\": 3, \"Name\": \"Backstrom, Mr. Karl Alfred\", \"Sex\": \"Male (1)\", \"Age\": 32.0, \"SibSp\": 1, \"Parch\": 0, \"Ticket\": \"3101278\", \"Fare\": 15.85, \"Embarked\": \"S\", \"Survived\": \"Didn't survive\"}, {\"Pclass\": 3, \"Name\": \"Johnson, Mr. William Cahoone Jr\", \"Sex\": \"Male (1)\", \"Age\": 19.0, \"SibSp\": 0, \"Parch\": 0, \"Ticket\": \"LINE\", \"Fare\": 0.0, \"Embarked\": \"S\", \"Survived\": \"Didn't survive\"}, {\"Pclass\": 3, \"Name\": \"Nilsson, Miss. Helmina Josefina\", \"Sex\": \"Female (0)\", \"Age\": 26.0, \"SibSp\": 0, \"Parch\": 0, \"Ticket\": \"347470\", \"Fare\": 7.8542, \"Embarked\": \"S\", \"Survived\": \"survived\"}, {\"Pclass\": 2, \"Name\": \"Harper, Miss. Annie Jessie \\\"Nina\\\"\", \"Sex\": \"Female (0)\", \"Age\": 6.0, \"SibSp\": 0, \"Parch\": 1, \"Ticket\": \"248727\", \"Fare\": 33.0, \"Embarked\": \"S\", \"Survived\": \"survived\"}, {\"Pclass\": 3, \"Name\": \"Lefebre, Miss. Mathilde\", \"Sex\": \"Female (0)\", \"Age\": 29.036629422718807, \"SibSp\": 3, \"Parch\": 1, \"Ticket\": \"4133\", \"Fare\": 25.4667, \"Embarked\": \"S\", \"Survived\": \"Didn't survive\"}, {\"Pclass\": 3, \"Name\": \"McEvoy, Mr. Michael\", \"Sex\": \"Male (1)\", \"Age\": 29.036629422718807, \"SibSp\": 0, \"Parch\": 0, \"Ticket\": \"36568\", \"Fare\": 15.5, \"Embarked\": \"Q\", \"Survived\": \"Didn't survive\"}, {\"Pclass\": 3, \"Name\": \"Hegarty, Miss. Hanora \\\"Nora\\\"\", \"Sex\": \"Female (0)\", \"Age\": 18.0, \"SibSp\": 0, \"Parch\": 0, \"Ticket\": \"365226\", \"Fare\": 6.75, \"Embarked\": \"Q\", \"Survived\": \"Didn't survive\"}, {\"Pclass\": 3, \"Name\": \"Salonen, Mr. Johan Werner\", \"Sex\": \"Male (1)\", \"Age\": 39.0, \"SibSp\": 0, \"Parch\": 0, \"Ticket\": \"3101296\", \"Fare\": 7.925, \"Embarked\": \"S\", \"Survived\": \"Didn't survive\"}, {\"Pclass\": 3, \"Name\": \"Turja, Miss. Anna Sofia\", \"Sex\": \"Female (0)\", \"Age\": 18.0, \"SibSp\": 0, \"Parch\": 0, \"Ticket\": \"4138\", \"Fare\": 9.8417, \"Embarked\": \"S\", \"Survived\": \"survived\"}, {\"Pclass\": 3, \"Name\": \"Mamee, Mr. Hanna\", \"Sex\": \"Male (1)\", \"Age\": 29.036629422718807, \"SibSp\": 0, \"Parch\": 0, \"Ticket\": \"2677\", \"Fare\": 7.2292, \"Embarked\": \"C\", \"Survived\": \"survived\"}, {\"Pclass\": 3, \"Name\": \"Betros, Mr. Tannous\", \"Sex\": \"Male (1)\", \"Age\": 20.0, \"SibSp\": 0, \"Parch\": 0, \"Ticket\": \"2648\", \"Fare\": 4.0125, \"Embarked\": \"C\", \"Survived\": \"Didn't survive\"}, {\"Pclass\": 3, \"Name\": \"Connolly, Miss. Kate\", \"Sex\": \"Female (0)\", \"Age\": 22.0, \"SibSp\": 0, \"Parch\": 0, \"Ticket\": \"370373\", \"Fare\": 7.75, \"Embarked\": \"Q\", \"Survived\": \"survived\"}, {\"Pclass\": 3, \"Name\": \"Larsson, Mr. August Viktor\", \"Sex\": \"Male (1)\", \"Age\": 29.0, \"SibSp\": 0, \"Parch\": 0, \"Ticket\": \"7545\", \"Fare\": 9.4833, \"Embarked\": \"S\", \"Survived\": \"Didn't survive\"}, {\"Pclass\": 3, \"Name\": \"Bourke, Mrs. John (Catherine)\", \"Sex\": \"Female (0)\", \"Age\": 32.0, \"SibSp\": 1, \"Parch\": 1, \"Ticket\": \"364849\", \"Fare\": 15.5, \"Embarked\": \"Q\", \"Survived\": \"Didn't survive\"}, {\"Pclass\": 3, \"Name\": \"Elias, Mr. Tannous\", \"Sex\": \"Male (1)\", \"Age\": 15.0, \"SibSp\": 1, \"Parch\": 1, \"Ticket\": \"2695\", \"Fare\": 7.2292, \"Embarked\": \"C\", \"Survived\": \"Didn't survive\"}, {\"Pclass\": 2, \"Name\": \"Shelley, Mrs. William (Imanita Parrish Hall)\", \"Sex\": \"Female (0)\", \"Age\": 25.0, \"SibSp\": 0, \"Parch\": 1, \"Ticket\": \"230433\", \"Fare\": 26.0, \"Embarked\": \"S\", \"Survived\": \"survived\"}, {\"Pclass\": 3, \"Name\": \"Johnson, Mr. Malkolm Joackim\", \"Sex\": \"Male (1)\", \"Age\": 33.0, \"SibSp\": 0, \"Parch\": 0, \"Ticket\": \"347062\", \"Fare\": 7.775, \"Embarked\": \"S\", \"Survived\": \"Didn't survive\"}, {\"Pclass\": 1, \"Name\": \"Minahan, Dr. William Edward\", \"Sex\": \"Male (1)\", \"Age\": 44.0, \"SibSp\": 2, \"Parch\": 0, \"Ticket\": \"19928\", \"Fare\": 90.0, \"Embarked\": \"Q\", \"Survived\": \"Didn't survive\"}, {\"Pclass\": 3, \"Name\": \"Johnson, Mrs. Oscar W (Elisabeth Vilhelmina Berg)\", \"Sex\": \"Female (0)\", \"Age\": 27.0, \"SibSp\": 0, \"Parch\": 2, \"Ticket\": \"347742\", \"Fare\": 11.1333, \"Embarked\": \"S\", \"Survived\": \"survived\"}, {\"Pclass\": 3, \"Name\": \"Sage, Miss. Constance Gladys\", \"Sex\": \"Female (0)\", \"Age\": 29.036629422718807, \"SibSp\": 8, \"Parch\": 2, \"Ticket\": \"CA. 2343\", \"Fare\": 69.55, \"Embarked\": \"S\", \"Survived\": \"Didn't survive\"}, {\"Pclass\": 2, \"Name\": \"Hickman, Mr. Leonard Mark\", \"Sex\": \"Male (1)\", \"Age\": 24.0, \"SibSp\": 2, \"Parch\": 0, \"Ticket\": \"S.O.C. 14879\", \"Fare\": 73.5, \"Embarked\": \"S\", \"Survived\": \"Didn't survive\"}, {\"Pclass\": 3, \"Name\": \"Nicola-Yarred, Miss. Jamila\", \"Sex\": \"Female (0)\", \"Age\": 14.0, \"SibSp\": 1, \"Parch\": 0, \"Ticket\": \"2651\", \"Fare\": 11.2417, \"Embarked\": \"C\", \"Survived\": \"survived\"}, {\"Pclass\": 2, \"Name\": \"Chapman, Mr. John Henry\", \"Sex\": \"Male (1)\", \"Age\": 37.0, \"SibSp\": 1, \"Parch\": 0, \"Ticket\": \"SC/AH 29037\", \"Fare\": 26.0, \"Embarked\": \"S\", \"Survived\": \"Didn't survive\"}, {\"Pclass\": 1, \"Name\": \"Kenyon, Mrs. Frederick R (Marion)\", \"Sex\": \"Female (0)\", \"Age\": 29.036629422718807, \"SibSp\": 1, \"Parch\": 0, \"Ticket\": \"17464\", \"Fare\": 51.8625, \"Embarked\": \"S\", \"Survived\": \"survived\"}, {\"Pclass\": 3, \"Name\": \"Nenkoff, Mr. Christo\", \"Sex\": \"Male (1)\", \"Age\": 29.036629422718807, \"SibSp\": 0, \"Parch\": 0, \"Ticket\": \"349234\", \"Fare\": 7.8958, \"Embarked\": \"S\", \"Survived\": \"Didn't survive\"}, {\"Pclass\": 3, \"Name\": \"Backstrom, Mrs. Karl Alfred (Maria Mathilda Gustafsson)\", \"Sex\": \"Female (0)\", \"Age\": 33.0, \"SibSp\": 3, \"Parch\": 0, \"Ticket\": \"3101278\", \"Fare\": 15.85, \"Embarked\": \"S\", \"Survived\": \"survived\"}, {\"Pclass\": 3, \"Name\": \"Ekstrom, Mr. Johan\", \"Sex\": \"Male (1)\", \"Age\": 45.0, \"SibSp\": 0, \"Parch\": 0, \"Ticket\": \"347061\", \"Fare\": 6.975, \"Embarked\": \"S\", \"Survived\": \"Didn't survive\"}, {\"Pclass\": 3, \"Name\": \"Olsson, Miss. Elina\", \"Sex\": \"Female (0)\", \"Age\": 31.0, \"SibSp\": 0, \"Parch\": 0, \"Ticket\": \"350407\", \"Fare\": 7.8542, \"Embarked\": \"S\", \"Survived\": \"Didn't survive\"}, {\"Pclass\": 3, \"Name\": \"Yousif, Mr. Wazli\", \"Sex\": \"Male (1)\", \"Age\": 29.036629422718807, \"SibSp\": 0, \"Parch\": 0, \"Ticket\": \"2647\", \"Fare\": 7.225, \"Embarked\": \"C\", \"Survived\": \"Didn't survive\"}, {\"Pclass\": 3, \"Name\": \"Hart, Mr. Henry\", \"Sex\": \"Male (1)\", \"Age\": 29.036629422718807, \"SibSp\": 0, \"Parch\": 0, \"Ticket\": \"394140\", \"Fare\": 6.8583, \"Embarked\": \"Q\", \"Survived\": \"Didn't survive\"}, {\"Pclass\": 3, \"Name\": \"Slabenoff, Mr. Petco\", \"Sex\": \"Male (1)\", \"Age\": 29.036629422718807, \"SibSp\": 0, \"Parch\": 0, \"Ticket\": \"349214\", \"Fare\": 7.8958, \"Embarked\": \"S\", \"Survived\": \"Didn't survive\"}, {\"Pclass\": 3, \"Name\": \"Dahl, Mr. Karl Edwart\", \"Sex\": \"Male (1)\", \"Age\": 45.0, \"SibSp\": 0, \"Parch\": 0, \"Ticket\": \"7598\", \"Fare\": 8.05, \"Embarked\": \"S\", \"Survived\": \"survived\"}, {\"Pclass\": 3, \"Name\": \"Stanley, Mr. Edward Roland\", \"Sex\": \"Male (1)\", \"Age\": 21.0, \"SibSp\": 0, \"Parch\": 0, \"Ticket\": \"A/4 45380\", \"Fare\": 8.05, \"Embarked\": \"S\", \"Survived\": \"Didn't survive\"}, {\"Pclass\": 1, \"Name\": \"Roebling, Mr. Washington Augustus II\", \"Sex\": \"Male (1)\", \"Age\": 31.0, \"SibSp\": 0, \"Parch\": 0, \"Ticket\": \"PC 17590\", \"Fare\": 50.4958, \"Embarked\": \"S\", \"Survived\": \"Didn't survive\"}, {\"Pclass\": 2, \"Name\": \"Parkes, Mr. Francis \\\"Frank\\\"\", \"Sex\": \"Male (1)\", \"Age\": 29.036629422718807, \"SibSp\": 0, \"Parch\": 0, \"Ticket\": \"239853\", \"Fare\": 0.0, \"Embarked\": \"S\", \"Survived\": \"Didn't survive\"}, {\"Pclass\": 3, \"Name\": \"Baclini, Miss. Eugenie\", \"Sex\": \"Female (0)\", \"Age\": 0.75, \"SibSp\": 2, \"Parch\": 1, \"Ticket\": \"2666\", \"Fare\": 19.2583, \"Embarked\": \"C\", \"Survived\": \"survived\"}, {\"Pclass\": 3, \"Name\": \"Abbing, Mr. Anthony\", \"Sex\": \"Male (1)\", \"Age\": 42.0, \"SibSp\": 0, \"Parch\": 0, \"Ticket\": \"C.A. 5547\", \"Fare\": 7.55, \"Embarked\": \"S\", \"Survived\": \"Didn't survive\"}, {\"Pclass\": 2, \"Name\": \"Louch, Mrs. Charles Alexander (Alice Adelaide Slow)\", \"Sex\": \"Female (0)\", \"Age\": 42.0, \"SibSp\": 1, \"Parch\": 0, \"Ticket\": \"SC/AH 3085\", \"Fare\": 26.0, \"Embarked\": \"S\", \"Survived\": \"survived\"}, {\"Pclass\": 1, \"Name\": \"Porter, Mr. Walter Chamberlain\", \"Sex\": \"Male (1)\", \"Age\": 47.0, \"SibSp\": 0, \"Parch\": 0, \"Ticket\": \"110465\", \"Fare\": 52.0, \"Embarked\": \"S\", \"Survived\": \"Didn't survive\"}, {\"Pclass\": 1, \"Name\": \"Holverson, Mr. Alexander Oskar\", \"Sex\": \"Male (1)\", \"Age\": 42.0, \"SibSp\": 1, \"Parch\": 0, \"Ticket\": \"113789\", \"Fare\": 52.0, \"Embarked\": \"S\", \"Survived\": \"Didn't survive\"}, {\"Pclass\": 3, \"Name\": \"Hendekovic, Mr. Ignjac\", \"Sex\": \"Male (1)\", \"Age\": 28.0, \"SibSp\": 0, \"Parch\": 0, \"Ticket\": \"349243\", \"Fare\": 7.8958, \"Embarked\": \"S\", \"Survived\": \"Didn't survive\"}, {\"Pclass\": 1, \"Name\": \"Cavendish, Mr. Tyrell William\", \"Sex\": \"Male (1)\", \"Age\": 36.0, \"SibSp\": 1, \"Parch\": 0, \"Ticket\": \"19877\", \"Fare\": 78.85, \"Embarked\": \"S\", \"Survived\": \"Didn't survive\"}, {\"Pclass\": 2, \"Name\": \"Mack, Mrs. (Mary)\", \"Sex\": \"Female (0)\", \"Age\": 57.0, \"SibSp\": 0, \"Parch\": 0, \"Ticket\": \"S.O./P.P. 3\", \"Fare\": 10.5, \"Embarked\": \"S\", \"Survived\": \"Didn't survive\"}, {\"Pclass\": 3, \"Name\": \"Nysveen, Mr. Johan Hansen\", \"Sex\": \"Male (1)\", \"Age\": 61.0, \"SibSp\": 0, \"Parch\": 0, \"Ticket\": \"345364\", \"Fare\": 6.2375, \"Embarked\": \"S\", \"Survived\": \"Didn't survive\"}, {\"Pclass\": 1, \"Name\": \"Rothes, the Countess. of (Lucy Noel Martha Dyer-Edwards)\", \"Sex\": \"Female (0)\", \"Age\": 33.0, \"SibSp\": 0, \"Parch\": 0, \"Ticket\": \"110152\", \"Fare\": 86.5, \"Embarked\": \"S\", \"Survived\": \"survived\"}, {\"Pclass\": 3, \"Name\": \"Simmons, Mr. John\", \"Sex\": \"Male (1)\", \"Age\": 29.036629422718807, \"SibSp\": 0, \"Parch\": 0, \"Ticket\": \"SOTON/OQ 392082\", \"Fare\": 8.05, \"Embarked\": \"S\", \"Survived\": \"Didn't survive\"}, {\"Pclass\": 2, \"Name\": \"Richards, Mrs. Sidney (Emily Hocking)\", \"Sex\": \"Female (0)\", \"Age\": 24.0, \"SibSp\": 2, \"Parch\": 3, \"Ticket\": \"29106\", \"Fare\": 18.75, \"Embarked\": \"S\", \"Survived\": \"survived\"}, {\"Pclass\": 2, \"Name\": \"Wheadon, Mr. Edward H\", \"Sex\": \"Male (1)\", \"Age\": 66.0, \"SibSp\": 0, \"Parch\": 0, \"Ticket\": \"C.A. 24579\", \"Fare\": 10.5, \"Embarked\": \"S\", \"Survived\": \"Didn't survive\"}, {\"Pclass\": 2, \"Name\": \"Fahlstrom, Mr. Arne Jonas\", \"Sex\": \"Male (1)\", \"Age\": 18.0, \"SibSp\": 0, \"Parch\": 0, \"Ticket\": \"236171\", \"Fare\": 13.0, \"Embarked\": \"S\", \"Survived\": \"Didn't survive\"}, {\"Pclass\": 3, \"Name\": \"Sundman, Mr. Johan Julian\", \"Sex\": \"Male (1)\", \"Age\": 44.0, \"SibSp\": 0, \"Parch\": 0, \"Ticket\": \"STON/O 2. 3101269\", \"Fare\": 7.925, \"Embarked\": \"S\", \"Survived\": \"survived\"}, {\"Pclass\": 1, \"Name\": \"Klaber, Mr. Herman\", \"Sex\": \"Male (1)\", \"Age\": 29.036629422718807, \"SibSp\": 0, \"Parch\": 0, \"Ticket\": \"113028\", \"Fare\": 26.55, \"Embarked\": \"S\", \"Survived\": \"Didn't survive\"}, {\"Pclass\": 1, \"Name\": \"Fortune, Miss. Alice Elizabeth\", \"Sex\": \"Female (0)\", \"Age\": 24.0, \"SibSp\": 3, \"Parch\": 2, \"Ticket\": \"19950\", \"Fare\": 263.0, \"Embarked\": \"S\", \"Survived\": \"survived\"}, {\"Pclass\": 3, \"Name\": \"Kilgannon, Mr. Thomas J\", \"Sex\": \"Male (1)\", \"Age\": 29.036629422718807, \"SibSp\": 0, \"Parch\": 0, \"Ticket\": \"36865\", \"Fare\": 7.7375, \"Embarked\": \"Q\", \"Survived\": \"Didn't survive\"}, {\"Pclass\": 2, \"Name\": \"Buss, Miss. Kate\", \"Sex\": \"Female (0)\", \"Age\": 36.0, \"SibSp\": 0, \"Parch\": 0, \"Ticket\": \"27849\", \"Fare\": 13.0, \"Embarked\": \"S\", \"Survived\": \"survived\"}, {\"Pclass\": 3, \"Name\": \"Sandstrom, Miss. Marguerite Rut\", \"Sex\": \"Female (0)\", \"Age\": 4.0, \"SibSp\": 1, \"Parch\": 1, \"Ticket\": \"PP 9549\", \"Fare\": 16.7, \"Embarked\": \"S\", \"Survived\": \"survived\"}, {\"Pclass\": 1, \"Name\": \"Rood, Mr. Hugh Roscoe\", \"Sex\": \"Male (1)\", \"Age\": 29.036629422718807, \"SibSp\": 0, \"Parch\": 0, \"Ticket\": \"113767\", \"Fare\": 50.0, \"Embarked\": \"S\", \"Survived\": \"Didn't survive\"}, {\"Pclass\": 2, \"Name\": \"Collyer, Mrs. Harvey (Charlotte Annie Tate)\", \"Sex\": \"Female (0)\", \"Age\": 31.0, \"SibSp\": 1, \"Parch\": 1, \"Ticket\": \"C.A. 31921\", \"Fare\": 26.25, \"Embarked\": \"S\", \"Survived\": \"survived\"}, {\"Pclass\": 2, \"Name\": \"Sobey, Mr. Samuel James Hayden\", \"Sex\": \"Male (1)\", \"Age\": 25.0, \"SibSp\": 0, \"Parch\": 0, \"Ticket\": \"C.A. 29178\", \"Fare\": 13.0, \"Embarked\": \"S\", \"Survived\": \"Didn't survive\"}, {\"Pclass\": 3, \"Name\": \"O'Dwyer, Miss. Ellen \\\"Nellie\\\"\", \"Sex\": \"Female (0)\", \"Age\": 29.036629422718807, \"SibSp\": 0, \"Parch\": 0, \"Ticket\": \"330959\", \"Fare\": 7.8792, \"Embarked\": \"Q\", \"Survived\": \"survived\"}, {\"Pclass\": 1, \"Name\": \"Swift, Mrs. Frederick Joel (Margaret Welles Barron)\", \"Sex\": \"Female (0)\", \"Age\": 48.0, \"SibSp\": 0, \"Parch\": 0, \"Ticket\": \"17466\", \"Fare\": 25.9292, \"Embarked\": \"S\", \"Survived\": \"survived\"}, {\"Pclass\": 1, \"Name\": \"Cherry, Miss. Gladys\", \"Sex\": \"Female (0)\", \"Age\": 30.0, \"SibSp\": 0, \"Parch\": 0, \"Ticket\": \"110152\", \"Fare\": 86.5, \"Embarked\": \"S\", \"Survived\": \"survived\"}, {\"Pclass\": 1, \"Name\": \"Allen, Miss. Elisabeth Walton\", \"Sex\": \"Female (0)\", \"Age\": 29.0, \"SibSp\": 0, \"Parch\": 0, \"Ticket\": \"24160\", \"Fare\": 211.3375, \"Embarked\": \"S\", \"Survived\": \"survived\"}, {\"Pclass\": 2, \"Name\": \"Hamalainen, Mrs. William (Anna)\", \"Sex\": \"Female (0)\", \"Age\": 24.0, \"SibSp\": 0, \"Parch\": 2, \"Ticket\": \"250649\", \"Fare\": 14.5, \"Embarked\": \"S\", \"Survived\": \"survived\"}, {\"Pclass\": 3, \"Name\": \"Bing, Mr. Lee\", \"Sex\": \"Male (1)\", \"Age\": 32.0, \"SibSp\": 0, \"Parch\": 0, \"Ticket\": \"1601\", \"Fare\": 56.4958, \"Embarked\": \"S\", \"Survived\": \"survived\"}, {\"Pclass\": 3, \"Name\": \"Olsvigen, Mr. Thor Anderson\", \"Sex\": \"Male (1)\", \"Age\": 20.0, \"SibSp\": 0, \"Parch\": 0, \"Ticket\": \"6563\", \"Fare\": 9.225, \"Embarked\": \"S\", \"Survived\": \"Didn't survive\"}, {\"Pclass\": 2, \"Name\": \"Davies, Mr. Charles Henry\", \"Sex\": \"Male (1)\", \"Age\": 18.0, \"SibSp\": 0, \"Parch\": 0, \"Ticket\": \"S.O.C. 14879\", \"Fare\": 73.5, \"Embarked\": \"S\", \"Survived\": \"Didn't survive\"}, {\"Pclass\": 3, \"Name\": \"Sadlier, Mr. Matthew\", \"Sex\": \"Male (1)\", \"Age\": 29.036629422718807, \"SibSp\": 0, \"Parch\": 0, \"Ticket\": \"367655\", \"Fare\": 7.7292, \"Embarked\": \"Q\", \"Survived\": \"Didn't survive\"}, {\"Pclass\": 2, \"Name\": \"Caldwell, Master. Alden Gates\", \"Sex\": \"Male (1)\", \"Age\": 0.83, \"SibSp\": 0, \"Parch\": 2, \"Ticket\": \"248738\", \"Fare\": 29.0, \"Embarked\": \"S\", \"Survived\": \"survived\"}, {\"Pclass\": 1, \"Name\": \"Blackwell, Mr. Stephen Weart\", \"Sex\": \"Male (1)\", \"Age\": 45.0, \"SibSp\": 0, \"Parch\": 0, \"Ticket\": \"113784\", \"Fare\": 35.5, \"Embarked\": \"S\", \"Survived\": \"Didn't survive\"}, {\"Pclass\": 1, \"Name\": \"Shutes, Miss. Elizabeth W\", \"Sex\": \"Female (0)\", \"Age\": 40.0, \"SibSp\": 0, \"Parch\": 0, \"Ticket\": \"PC 17582\", \"Fare\": 153.4625, \"Embarked\": \"S\", \"Survived\": \"survived\"}, {\"Pclass\": 1, \"Name\": \"Rothschild, Mrs. Martin (Elizabeth L. Barrett)\", \"Sex\": \"Female (0)\", \"Age\": 54.0, \"SibSp\": 1, \"Parch\": 0, \"Ticket\": \"PC 17603\", \"Fare\": 59.4, \"Embarked\": \"C\", \"Survived\": \"survived\"}, {\"Pclass\": 3, \"Name\": \"O'Connell, Mr. Patrick D\", \"Sex\": \"Male (1)\", \"Age\": 29.036629422718807, \"SibSp\": 0, \"Parch\": 0, \"Ticket\": \"334912\", \"Fare\": 7.7333, \"Embarked\": \"Q\", \"Survived\": \"Didn't survive\"}, {\"Pclass\": 2, \"Name\": \"Collyer, Miss. Marjorie \\\"Lottie\\\"\", \"Sex\": \"Female (0)\", \"Age\": 8.0, \"SibSp\": 0, \"Parch\": 2, \"Ticket\": \"C.A. 31921\", \"Fare\": 26.25, \"Embarked\": \"S\", \"Survived\": \"survived\"}, {\"Pclass\": 3, \"Name\": \"Jonkoff, Mr. Lalio\", \"Sex\": \"Male (1)\", \"Age\": 23.0, \"SibSp\": 0, \"Parch\": 0, \"Ticket\": \"349204\", \"Fare\": 7.8958, \"Embarked\": \"S\", \"Survived\": \"Didn't survive\"}, {\"Pclass\": 3, \"Name\": \"Cook, Mr. Jacob\", \"Sex\": \"Male (1)\", \"Age\": 43.0, \"SibSp\": 0, \"Parch\": 0, \"Ticket\": \"A/5 3536\", \"Fare\": 8.05, \"Embarked\": \"S\", \"Survived\": \"Didn't survive\"}, {\"Pclass\": 1, \"Name\": \"Mayne, Mlle. Berthe Antonine (\\\"Mrs de Villiers\\\")\", \"Sex\": \"Female (0)\", \"Age\": 24.0, \"SibSp\": 0, \"Parch\": 0, \"Ticket\": \"PC 17482\", \"Fare\": 49.5042, \"Embarked\": \"C\", \"Survived\": \"survived\"}, {\"Pclass\": 3, \"Name\": \"Carr, Miss. Helen \\\"Ellen\\\"\", \"Sex\": \"Female (0)\", \"Age\": 16.0, \"SibSp\": 0, \"Parch\": 0, \"Ticket\": \"367231\", \"Fare\": 7.75, \"Embarked\": \"Q\", \"Survived\": \"survived\"}, {\"Pclass\": 1, \"Name\": \"Bazzani, Miss. Albina\", \"Sex\": \"Female (0)\", \"Age\": 32.0, \"SibSp\": 0, \"Parch\": 0, \"Ticket\": \"11813\", \"Fare\": 76.2917, \"Embarked\": \"C\", \"Survived\": \"survived\"}, {\"Pclass\": 3, \"Name\": \"Vander Planke, Mrs. Julius (Emelia Maria Vandemoortele)\", \"Sex\": \"Female (0)\", \"Age\": 31.0, \"SibSp\": 1, \"Parch\": 0, \"Ticket\": \"345763\", \"Fare\": 18.0, \"Embarked\": \"S\", \"Survived\": \"Didn't survive\"}, {\"Pclass\": 2, \"Name\": \"Nasser, Mr. Nicholas\", \"Sex\": \"Male (1)\", \"Age\": 32.5, \"SibSp\": 1, \"Parch\": 0, \"Ticket\": \"237736\", \"Fare\": 30.0708, \"Embarked\": \"C\", \"Survived\": \"Didn't survive\"}, {\"Pclass\": 1, \"Name\": \"Smith, Mr. Richard William\", \"Sex\": \"Male (1)\", \"Age\": 29.036629422718807, \"SibSp\": 0, \"Parch\": 0, \"Ticket\": \"113056\", \"Fare\": 26.0, \"Embarked\": \"S\", \"Survived\": \"Didn't survive\"}, {\"Pclass\": 3, \"Name\": \"Goodwin, Miss. Lillian Amy\", \"Sex\": \"Female (0)\", \"Age\": 16.0, \"SibSp\": 5, \"Parch\": 2, \"Ticket\": \"CA 2144\", \"Fare\": 46.9, \"Embarked\": \"S\", \"Survived\": \"Didn't survive\"}, {\"Pclass\": 3, \"Name\": \"Saad, Mr. Amin\", \"Sex\": \"Male (1)\", \"Age\": 29.036629422718807, \"SibSp\": 0, \"Parch\": 0, \"Ticket\": \"2671\", \"Fare\": 7.2292, \"Embarked\": \"C\", \"Survived\": \"Didn't survive\"}, {\"Pclass\": 2, \"Name\": \"Weisz, Mrs. Leopold (Mathilde Francoise Pede)\", \"Sex\": \"Female (0)\", \"Age\": 29.0, \"SibSp\": 1, \"Parch\": 0, \"Ticket\": \"228414\", \"Fare\": 26.0, \"Embarked\": \"S\", \"Survived\": \"survived\"}, {\"Pclass\": 3, \"Name\": \"Hansen, Mr. Claus Peter\", \"Sex\": \"Male (1)\", \"Age\": 41.0, \"SibSp\": 2, \"Parch\": 0, \"Ticket\": \"350026\", \"Fare\": 14.1083, \"Embarked\": \"S\", \"Survived\": \"Didn't survive\"}, {\"Pclass\": 1, \"Name\": \"Stone, Mrs. George Nelson (Martha Evelyn)\", \"Sex\": \"Female (0)\", \"Age\": 62.0, \"SibSp\": 0, \"Parch\": 0, \"Ticket\": \"113572\", \"Fare\": 80.0, \"Embarked\": \"S\", \"Survived\": \"survived\"}, {\"Pclass\": 2, \"Name\": \"Keane, Miss. Nora A\", \"Sex\": \"Female (0)\", \"Age\": 29.036629422718807, \"SibSp\": 0, \"Parch\": 0, \"Ticket\": \"226593\", \"Fare\": 12.35, \"Embarked\": \"Q\", \"Survived\": \"survived\"}, {\"Pclass\": 3, \"Name\": \"Dahlberg, Miss. Gerda Ulrika\", \"Sex\": \"Female (0)\", \"Age\": 22.0, \"SibSp\": 0, \"Parch\": 0, \"Ticket\": \"7552\", \"Fare\": 10.5167, \"Embarked\": \"S\", \"Survived\": \"Didn't survive\"}, {\"Pclass\": 3, \"Name\": \"Goldsmith, Mrs. Frank John (Emily Alice Brown)\", \"Sex\": \"Female (0)\", \"Age\": 31.0, \"SibSp\": 1, \"Parch\": 1, \"Ticket\": \"363291\", \"Fare\": 20.525, \"Embarked\": \"S\", \"Survived\": \"survived\"}, {\"Pclass\": 3, \"Name\": \"Madsen, Mr. Fridtjof Arne\", \"Sex\": \"Male (1)\", \"Age\": 24.0, \"SibSp\": 0, \"Parch\": 0, \"Ticket\": \"C 17369\", \"Fare\": 7.1417, \"Embarked\": \"S\", \"Survived\": \"survived\"}, {\"Pclass\": 3, \"Name\": \"Olsen, Mr. Henry Margido\", \"Sex\": \"Male (1)\", \"Age\": 28.0, \"SibSp\": 0, \"Parch\": 0, \"Ticket\": \"C 4001\", \"Fare\": 22.525, \"Embarked\": \"S\", \"Survived\": \"Didn't survive\"}, {\"Pclass\": 3, \"Name\": \"Lam, Mr. Len\", \"Sex\": \"Male (1)\", \"Age\": 29.036629422718807, \"SibSp\": 0, \"Parch\": 0, \"Ticket\": \"1601\", \"Fare\": 56.4958, \"Embarked\": \"S\", \"Survived\": \"Didn't survive\"}, {\"Pclass\": 1, \"Name\": \"Hippach, Mrs. Louis Albert (Ida Sophia Fischer)\", \"Sex\": \"Female (0)\", \"Age\": 44.0, \"SibSp\": 0, \"Parch\": 1, \"Ticket\": \"111361\", \"Fare\": 57.9792, \"Embarked\": \"C\", \"Survived\": \"survived\"}, {\"Pclass\": 1, \"Name\": \"Ross, Mr. John Hugo\", \"Sex\": \"Male (1)\", \"Age\": 36.0, \"SibSp\": 0, \"Parch\": 0, \"Ticket\": \"13049\", \"Fare\": 40.125, \"Embarked\": \"C\", \"Survived\": \"Didn't survive\"}, {\"Pclass\": 3, \"Name\": \"Scanlan, Mr. James\", \"Sex\": \"Male (1)\", \"Age\": 29.036629422718807, \"SibSp\": 0, \"Parch\": 0, \"Ticket\": \"36209\", \"Fare\": 7.725, \"Embarked\": \"Q\", \"Survived\": \"Didn't survive\"}, {\"Pclass\": 2, \"Name\": \"Nye, Mrs. (Elizabeth Ramell)\", \"Sex\": \"Female (0)\", \"Age\": 29.0, \"SibSp\": 0, \"Parch\": 0, \"Ticket\": \"C.A. 29395\", \"Fare\": 10.5, \"Embarked\": \"S\", \"Survived\": \"survived\"}, {\"Pclass\": 3, \"Name\": \"Braund, Mr. Owen Harris\", \"Sex\": \"Male (1)\", \"Age\": 22.0, \"SibSp\": 1, \"Parch\": 0, \"Ticket\": \"A/5 21171\", \"Fare\": 7.25, \"Embarked\": \"S\", \"Survived\": \"Didn't survive\"}, {\"Pclass\": 3, \"Name\": \"Ilmakangas, Miss. Pieta Sofia\", \"Sex\": \"Female (0)\", \"Age\": 25.0, \"SibSp\": 1, \"Parch\": 0, \"Ticket\": \"STON/O2. 3101271\", \"Fare\": 7.925, \"Embarked\": \"S\", \"Survived\": \"Didn't survive\"}, {\"Pclass\": 1, \"Name\": \"Graham, Miss. Margaret Edith\", \"Sex\": \"Female (0)\", \"Age\": 19.0, \"SibSp\": 0, \"Parch\": 0, \"Ticket\": \"112053\", \"Fare\": 30.0, \"Embarked\": \"S\", \"Survived\": \"survived\"}, {\"Pclass\": 1, \"Name\": \"Marvin, Mr. Daniel Warner\", \"Sex\": \"Male (1)\", \"Age\": 19.0, \"SibSp\": 1, \"Parch\": 0, \"Ticket\": \"113773\", \"Fare\": 53.1, \"Embarked\": \"S\", \"Survived\": \"Didn't survive\"}, {\"Pclass\": 1, \"Name\": \"Giglio, Mr. Victor\", \"Sex\": \"Male (1)\", \"Age\": 24.0, \"SibSp\": 0, \"Parch\": 0, \"Ticket\": \"PC 17593\", \"Fare\": 79.2, \"Embarked\": \"C\", \"Survived\": \"Didn't survive\"}, {\"Pclass\": 3, \"Name\": \"Hampe, Mr. Leon\", \"Sex\": \"Male (1)\", \"Age\": 20.0, \"SibSp\": 0, \"Parch\": 0, \"Ticket\": \"345769\", \"Fare\": 9.5, \"Embarked\": \"S\", \"Survived\": \"Didn't survive\"}, {\"Pclass\": 3, \"Name\": \"Panula, Mr. Jaako Arnold\", \"Sex\": \"Male (1)\", \"Age\": 14.0, \"SibSp\": 4, \"Parch\": 1, \"Ticket\": \"3101295\", \"Fare\": 39.6875, \"Embarked\": \"S\", \"Survived\": \"Didn't survive\"}, {\"Pclass\": 1, \"Name\": \"Perreault, Miss. Anne\", \"Sex\": \"Female (0)\", \"Age\": 30.0, \"SibSp\": 0, \"Parch\": 0, \"Ticket\": \"12749\", \"Fare\": 93.5, \"Embarked\": \"S\", \"Survived\": \"survived\"}, {\"Pclass\": 3, \"Name\": \"Yousseff, Mr. Gerious\", \"Sex\": \"Male (1)\", \"Age\": 29.036629422718807, \"SibSp\": 0, \"Parch\": 0, \"Ticket\": \"2627\", \"Fare\": 14.4583, \"Embarked\": \"C\", \"Survived\": \"Didn't survive\"}, {\"Pclass\": 3, \"Name\": \"Balkic, Mr. Cerin\", \"Sex\": \"Male (1)\", \"Age\": 26.0, \"SibSp\": 0, \"Parch\": 0, \"Ticket\": \"349248\", \"Fare\": 7.8958, \"Embarked\": \"S\", \"Survived\": \"Didn't survive\"}, {\"Pclass\": 3, \"Name\": \"Madigan, Miss. Margaret \\\"Maggie\\\"\", \"Sex\": \"Female (0)\", \"Age\": 29.036629422718807, \"SibSp\": 0, \"Parch\": 0, \"Ticket\": \"370370\", \"Fare\": 7.75, \"Embarked\": \"Q\", \"Survived\": \"survived\"}, {\"Pclass\": 3, \"Name\": \"Lester, Mr. James\", \"Sex\": \"Male (1)\", \"Age\": 39.0, \"SibSp\": 0, \"Parch\": 0, \"Ticket\": \"A/4 48871\", \"Fare\": 24.15, \"Embarked\": \"S\", \"Survived\": \"Didn't survive\"}, {\"Pclass\": 1, \"Name\": \"Smith, Mr. James Clinch\", \"Sex\": \"Male (1)\", \"Age\": 56.0, \"SibSp\": 0, \"Parch\": 0, \"Ticket\": \"17764\", \"Fare\": 30.6958, \"Embarked\": \"C\", \"Survived\": \"Didn't survive\"}, {\"Pclass\": 2, \"Name\": \"Phillips, Miss. Kate Florence (\\\"Mrs Kate Louise Phillips Marshall\\\")\", \"Sex\": \"Female (0)\", \"Age\": 19.0, \"SibSp\": 0, \"Parch\": 0, \"Ticket\": \"250655\", \"Fare\": 26.0, \"Embarked\": \"S\", \"Survived\": \"survived\"}, {\"Pclass\": 3, \"Name\": \"Dooley, Mr. Patrick\", \"Sex\": \"Male (1)\", \"Age\": 32.0, \"SibSp\": 0, \"Parch\": 0, \"Ticket\": \"370376\", \"Fare\": 7.75, \"Embarked\": \"Q\", \"Survived\": \"Didn't survive\"}, {\"Pclass\": 3, \"Name\": \"Coutts, Master. William Loch \\\"William\\\"\", \"Sex\": \"Male (1)\", \"Age\": 3.0, \"SibSp\": 1, \"Parch\": 1, \"Ticket\": \"C.A. 37671\", \"Fare\": 15.9, \"Embarked\": \"S\", \"Survived\": \"survived\"}, {\"Pclass\": 1, \"Name\": \"Fleming, Miss. Margaret\", \"Sex\": \"Female (0)\", \"Age\": 29.036629422718807, \"SibSp\": 0, \"Parch\": 0, \"Ticket\": \"17421\", \"Fare\": 110.8833, \"Embarked\": \"C\", \"Survived\": \"survived\"}, {\"Pclass\": 3, \"Name\": \"Panula, Master. Urho Abraham\", \"Sex\": \"Male (1)\", \"Age\": 2.0, \"SibSp\": 4, \"Parch\": 1, \"Ticket\": \"3101295\", \"Fare\": 39.6875, \"Embarked\": \"S\", \"Survived\": \"Didn't survive\"}, {\"Pclass\": 2, \"Name\": \"Bryhl, Mr. Kurt Arnold Gottfrid\", \"Sex\": \"Male (1)\", \"Age\": 25.0, \"SibSp\": 1, \"Parch\": 0, \"Ticket\": \"236853\", \"Fare\": 26.0, \"Embarked\": \"S\", \"Survived\": \"Didn't survive\"}, {\"Pclass\": 3, \"Name\": \"Yasbeck, Mrs. Antoni (Selini Alexander)\", \"Sex\": \"Female (0)\", \"Age\": 15.0, \"SibSp\": 1, \"Parch\": 0, \"Ticket\": \"2659\", \"Fare\": 14.4542, \"Embarked\": \"C\", \"Survived\": \"survived\"}, {\"Pclass\": 3, \"Name\": \"Plotcharsky, Mr. Vasil\", \"Sex\": \"Male (1)\", \"Age\": 29.036629422718807, \"SibSp\": 0, \"Parch\": 0, \"Ticket\": \"349227\", \"Fare\": 7.8958, \"Embarked\": \"S\", \"Survived\": \"Didn't survive\"}, {\"Pclass\": 3, \"Name\": \"Ryan, Mr. Patrick\", \"Sex\": \"Male (1)\", \"Age\": 29.036629422718807, \"SibSp\": 0, \"Parch\": 0, \"Ticket\": \"371110\", \"Fare\": 24.15, \"Embarked\": \"Q\", \"Survived\": \"Didn't survive\"}, {\"Pclass\": 1, \"Name\": \"Maioni, Miss. Roberta\", \"Sex\": \"Female (0)\", \"Age\": 16.0, \"SibSp\": 0, \"Parch\": 0, \"Ticket\": \"110152\", \"Fare\": 86.5, \"Embarked\": \"S\", \"Survived\": \"survived\"}, {\"Pclass\": 2, \"Name\": \"Hold, Mr. Stephen\", \"Sex\": \"Male (1)\", \"Age\": 44.0, \"SibSp\": 1, \"Parch\": 0, \"Ticket\": \"26707\", \"Fare\": 26.0, \"Embarked\": \"S\", \"Survived\": \"Didn't survive\"}, {\"Pclass\": 1, \"Name\": \"Holverson, Mrs. Alexander Oskar (Mary Aline Towner)\", \"Sex\": \"Female (0)\", \"Age\": 35.0, \"SibSp\": 1, \"Parch\": 0, \"Ticket\": \"113789\", \"Fare\": 52.0, \"Embarked\": \"S\", \"Survived\": \"survived\"}, {\"Pclass\": 1, \"Name\": \"Harrington, Mr. Charles H\", \"Sex\": \"Male (1)\", \"Age\": 29.036629422718807, \"SibSp\": 0, \"Parch\": 0, \"Ticket\": \"113796\", \"Fare\": 42.4, \"Embarked\": \"S\", \"Survived\": \"Didn't survive\"}, {\"Pclass\": 3, \"Name\": \"Willey, Mr. Edward\", \"Sex\": \"Male (1)\", \"Age\": 29.036629422718807, \"SibSp\": 0, \"Parch\": 0, \"Ticket\": \"S.O./P.P. 751\", \"Fare\": 7.55, \"Embarked\": \"S\", \"Survived\": \"Didn't survive\"}, {\"Pclass\": 3, \"Name\": \"Panula, Mr. Ernesti Arvid\", \"Sex\": \"Male (1)\", \"Age\": 16.0, \"SibSp\": 4, \"Parch\": 1, \"Ticket\": \"3101295\", \"Fare\": 39.6875, \"Embarked\": \"S\", \"Survived\": \"Didn't survive\"}, {\"Pclass\": 3, \"Name\": \"Andersson, Master. Sigvard Harald Elias\", \"Sex\": \"Male (1)\", \"Age\": 4.0, \"SibSp\": 4, \"Parch\": 2, \"Ticket\": \"347082\", \"Fare\": 31.275, \"Embarked\": \"S\", \"Survived\": \"Didn't survive\"}, {\"Pclass\": 3, \"Name\": \"Sivola, Mr. Antti Wilhelm\", \"Sex\": \"Male (1)\", \"Age\": 21.0, \"SibSp\": 0, \"Parch\": 0, \"Ticket\": \"STON/O 2. 3101280\", \"Fare\": 7.925, \"Embarked\": \"S\", \"Survived\": \"Didn't survive\"}, {\"Pclass\": 3, \"Name\": \"Peter, Mrs. Catherine (Catherine Rizk)\", \"Sex\": \"Female (0)\", \"Age\": 29.036629422718807, \"SibSp\": 0, \"Parch\": 2, \"Ticket\": \"2668\", \"Fare\": 22.3583, \"Embarked\": \"C\", \"Survived\": \"survived\"}, {\"Pclass\": 2, \"Name\": \"Frost, Mr. Anthony Wood \\\"Archie\\\"\", \"Sex\": \"Male (1)\", \"Age\": 29.036629422718807, \"SibSp\": 0, \"Parch\": 0, \"Ticket\": \"239854\", \"Fare\": 0.0, \"Embarked\": \"S\", \"Survived\": \"Didn't survive\"}, {\"Pclass\": 3, \"Name\": \"Mullens, Miss. Katherine \\\"Katie\\\"\", \"Sex\": \"Female (0)\", \"Age\": 29.036629422718807, \"SibSp\": 0, \"Parch\": 0, \"Ticket\": \"35852\", \"Fare\": 7.7333, \"Embarked\": \"Q\", \"Survived\": \"survived\"}, {\"Pclass\": 1, \"Name\": \"Davidson, Mr. Thornton\", \"Sex\": \"Male (1)\", \"Age\": 31.0, \"SibSp\": 1, \"Parch\": 0, \"Ticket\": \"F.C. 12750\", \"Fare\": 52.0, \"Embarked\": \"S\", \"Survived\": \"Didn't survive\"}, {\"Pclass\": 3, \"Name\": \"Salkjelsvik, Miss. Anna Kristine\", \"Sex\": \"Female (0)\", \"Age\": 21.0, \"SibSp\": 0, \"Parch\": 0, \"Ticket\": \"343120\", \"Fare\": 7.65, \"Embarked\": \"S\", \"Survived\": \"survived\"}, {\"Pclass\": 1, \"Name\": \"Frolicher-Stehli, Mr. Maxmillian\", \"Sex\": \"Male (1)\", \"Age\": 60.0, \"SibSp\": 1, \"Parch\": 1, \"Ticket\": \"13567\", \"Fare\": 79.2, \"Embarked\": \"C\", \"Survived\": \"survived\"}, {\"Pclass\": 3, \"Name\": \"Devaney, Miss. Margaret Delia\", \"Sex\": \"Female (0)\", \"Age\": 19.0, \"SibSp\": 0, \"Parch\": 0, \"Ticket\": \"330958\", \"Fare\": 7.8792, \"Embarked\": \"Q\", \"Survived\": \"survived\"}, {\"Pclass\": 3, \"Name\": \"Lindblom, Miss. Augusta Charlotta\", \"Sex\": \"Female (0)\", \"Age\": 45.0, \"SibSp\": 0, \"Parch\": 0, \"Ticket\": \"347073\", \"Fare\": 7.75, \"Embarked\": \"S\", \"Survived\": \"Didn't survive\"}, {\"Pclass\": 1, \"Name\": \"Duff Gordon, Lady. (Lucille Christiana Sutherland) (\\\"Mrs Morgan\\\")\", \"Sex\": \"Female (0)\", \"Age\": 48.0, \"SibSp\": 1, \"Parch\": 0, \"Ticket\": \"11755\", \"Fare\": 39.6, \"Embarked\": \"C\", \"Survived\": \"survived\"}, {\"Pclass\": 3, \"Name\": \"Dakic, Mr. Branko\", \"Sex\": \"Male (1)\", \"Age\": 19.0, \"SibSp\": 0, \"Parch\": 0, \"Ticket\": \"349228\", \"Fare\": 10.1708, \"Embarked\": \"S\", \"Survived\": \"Didn't survive\"}, {\"Pclass\": 3, \"Name\": \"Holm, Mr. John Fredrik Alexander\", \"Sex\": \"Male (1)\", \"Age\": 43.0, \"SibSp\": 0, \"Parch\": 0, \"Ticket\": \"C 7075\", \"Fare\": 6.45, \"Embarked\": \"S\", \"Survived\": \"Didn't survive\"}, {\"Pclass\": 2, \"Name\": \"Harper, Rev. John\", \"Sex\": \"Male (1)\", \"Age\": 28.0, \"SibSp\": 0, \"Parch\": 1, \"Ticket\": \"248727\", \"Fare\": 33.0, \"Embarked\": \"S\", \"Survived\": \"Didn't survive\"}, {\"Pclass\": 2, \"Name\": \"Hickman, Mr. Lewis\", \"Sex\": \"Male (1)\", \"Age\": 32.0, \"SibSp\": 2, \"Parch\": 0, \"Ticket\": \"S.O.C. 14879\", \"Fare\": 73.5, \"Embarked\": \"S\", \"Survived\": \"Didn't survive\"}, {\"Pclass\": 3, \"Name\": \"Rosblom, Mrs. Viktor (Helena Wilhelmina)\", \"Sex\": \"Female (0)\", \"Age\": 41.0, \"SibSp\": 0, \"Parch\": 2, \"Ticket\": \"370129\", \"Fare\": 20.2125, \"Embarked\": \"S\", \"Survived\": \"Didn't survive\"}, {\"Pclass\": 3, \"Name\": \"Moubarek, Master. Gerios\", \"Sex\": \"Male (1)\", \"Age\": 31.7090395480226, \"SibSp\": 1, \"Parch\": 1, \"Ticket\": \"2661\", \"Fare\": 15.2458, \"Embarked\": \"C\", \"Survived\": \"survived\"}, {\"Pclass\": 3, \"Name\": \"Osman, Mrs. Mara\", \"Sex\": \"Female (0)\", \"Age\": 31.0, \"SibSp\": 0, \"Parch\": 0, \"Ticket\": \"349244\", \"Fare\": 8.6833, \"Embarked\": \"S\", \"Survived\": \"survived\"}, {\"Pclass\": 3, \"Name\": \"Kelly, Miss. Anna Katherine \\\"Annie Kate\\\"\", \"Sex\": \"Female (0)\", \"Age\": 31.7090395480226, \"SibSp\": 0, \"Parch\": 0, \"Ticket\": \"9234\", \"Fare\": 7.75, \"Embarked\": \"Q\", \"Survived\": \"survived\"}, {\"Pclass\": 2, \"Name\": \"Troupiansky, Mr. Moses Aaron\", \"Sex\": \"Male (1)\", \"Age\": 23.0, \"SibSp\": 0, \"Parch\": 0, \"Ticket\": \"233639\", \"Fare\": 13.0, \"Embarked\": \"S\", \"Survived\": \"Didn't survive\"}, {\"Pclass\": 2, \"Name\": \"Meyer, Mr. August\", \"Sex\": \"Male (1)\", \"Age\": 39.0, \"SibSp\": 0, \"Parch\": 0, \"Ticket\": \"248723\", \"Fare\": 13.0, \"Embarked\": \"S\", \"Survived\": \"Didn't survive\"}, {\"Pclass\": 3, \"Name\": \"Glynn, Miss. Mary Agatha\", \"Sex\": \"Female (0)\", \"Age\": 31.7090395480226, \"SibSp\": 0, \"Parch\": 0, \"Ticket\": \"335677\", \"Fare\": 7.75, \"Embarked\": \"Q\", \"Survived\": \"survived\"}, {\"Pclass\": 3, \"Name\": \"Sivic, Mr. Husein\", \"Sex\": \"Male (1)\", \"Age\": 40.0, \"SibSp\": 0, \"Parch\": 0, \"Ticket\": \"349251\", \"Fare\": 7.8958, \"Embarked\": \"S\", \"Survived\": \"Didn't survive\"}, {\"Pclass\": 3, \"Name\": \"Daly, Mr. Eugene Patrick\", \"Sex\": \"Male (1)\", \"Age\": 29.0, \"SibSp\": 0, \"Parch\": 0, \"Ticket\": \"382651\", \"Fare\": 7.75, \"Embarked\": \"Q\", \"Survived\": \"survived\"}, {\"Pclass\": 1, \"Name\": \"Duff Gordon, Sir. Cosmo Edmund (\\\"Mr Morgan\\\")\", \"Sex\": \"Male (1)\", \"Age\": 49.0, \"SibSp\": 1, \"Parch\": 0, \"Ticket\": \"PC 17485\", \"Fare\": 56.9292, \"Embarked\": \"C\", \"Survived\": \"survived\"}, {\"Pclass\": 2, \"Name\": \"Givard, Mr. Hans Kristensen\", \"Sex\": \"Male (1)\", \"Age\": 30.0, \"SibSp\": 0, \"Parch\": 0, \"Ticket\": \"250646\", \"Fare\": 13.0, \"Embarked\": \"S\", \"Survived\": \"Didn't survive\"}, {\"Pclass\": 2, \"Name\": \"Ilett, Miss. Bertha\", \"Sex\": \"Female (0)\", \"Age\": 17.0, \"SibSp\": 0, \"Parch\": 0, \"Ticket\": \"SO/C 14885\", \"Fare\": 10.5, \"Embarked\": \"S\", \"Survived\": \"survived\"}, {\"Pclass\": 3, \"Name\": \"Doharr, Mr. Tannous\", \"Sex\": \"Male (1)\", \"Age\": 31.7090395480226, \"SibSp\": 0, \"Parch\": 0, \"Ticket\": \"2686\", \"Fare\": 7.2292, \"Embarked\": \"C\", \"Survived\": \"Didn't survive\"}, {\"Pclass\": 3, \"Name\": \"Andersson, Mrs. Anders Johan (Alfrida Konstantia Brogren)\", \"Sex\": \"Female (0)\", \"Age\": 39.0, \"SibSp\": 1, \"Parch\": 5, \"Ticket\": \"347082\", \"Fare\": 31.275, \"Embarked\": \"S\", \"Survived\": \"Didn't survive\"}, {\"Pclass\": 3, \"Name\": \"Gronnestad, Mr. Daniel Danielsen\", \"Sex\": \"Male (1)\", \"Age\": 32.0, \"SibSp\": 0, \"Parch\": 0, \"Ticket\": \"8471\", \"Fare\": 8.3625, \"Embarked\": \"S\", \"Survived\": \"Didn't survive\"}, {\"Pclass\": 1, \"Name\": \"Dodge, Master. Washington\", \"Sex\": \"Male (1)\", \"Age\": 4.0, \"SibSp\": 0, \"Parch\": 2, \"Ticket\": \"33638\", \"Fare\": 81.8583, \"Embarked\": \"S\", \"Survived\": \"survived\"}, {\"Pclass\": 3, \"Name\": \"Gilnagh, Miss. Katherine \\\"Katie\\\"\", \"Sex\": \"Female (0)\", \"Age\": 16.0, \"SibSp\": 0, \"Parch\": 0, \"Ticket\": \"35851\", \"Fare\": 7.7333, \"Embarked\": \"Q\", \"Survived\": \"survived\"}, {\"Pclass\": 3, \"Name\": \"Rekic, Mr. Tido\", \"Sex\": \"Male (1)\", \"Age\": 38.0, \"SibSp\": 0, \"Parch\": 0, \"Ticket\": \"349249\", \"Fare\": 7.8958, \"Embarked\": \"S\", \"Survived\": \"Didn't survive\"}, {\"Pclass\": 1, \"Name\": \"Homer, Mr. Harry (\\\"Mr E Haven\\\")\", \"Sex\": \"Male (1)\", \"Age\": 35.0, \"SibSp\": 0, \"Parch\": 0, \"Ticket\": \"111426\", \"Fare\": 26.55, \"Embarked\": \"C\", \"Survived\": \"survived\"}, {\"Pclass\": 2, \"Name\": \"Sinkkonen, Miss. Anna\", \"Sex\": \"Female (0)\", \"Age\": 30.0, \"SibSp\": 0, \"Parch\": 0, \"Ticket\": \"250648\", \"Fare\": 13.0, \"Embarked\": \"S\", \"Survived\": \"survived\"}, {\"Pclass\": 1, \"Name\": \"Frauenthal, Dr. Henry William\", \"Sex\": \"Male (1)\", \"Age\": 50.0, \"SibSp\": 2, \"Parch\": 0, \"Ticket\": \"PC 17611\", \"Fare\": 133.65, \"Embarked\": \"S\", \"Survived\": \"survived\"}, {\"Pclass\": 3, \"Name\": \"Rintamaki, Mr. Matti\", \"Sex\": \"Male (1)\", \"Age\": 35.0, \"SibSp\": 0, \"Parch\": 0, \"Ticket\": \"STON/O 2. 3101273\", \"Fare\": 7.125, \"Embarked\": \"S\", \"Survived\": \"Didn't survive\"}, {\"Pclass\": 3, \"Name\": \"Nakid, Miss. Maria (\\\"Mary\\\")\", \"Sex\": \"Female (0)\", \"Age\": 1.0, \"SibSp\": 0, \"Parch\": 2, \"Ticket\": \"2653\", \"Fare\": 15.7417, \"Embarked\": \"C\", \"Survived\": \"survived\"}, {\"Pclass\": 3, \"Name\": \"Reed, Mr. James George\", \"Sex\": \"Male (1)\", \"Age\": 31.7090395480226, \"SibSp\": 0, \"Parch\": 0, \"Ticket\": \"362316\", \"Fare\": 7.25, \"Embarked\": \"S\", \"Survived\": \"Didn't survive\"}, {\"Pclass\": 3, \"Name\": \"Adahl, Mr. Mauritz Nils Martin\", \"Sex\": \"Male (1)\", \"Age\": 30.0, \"SibSp\": 0, \"Parch\": 0, \"Ticket\": \"C 7076\", \"Fare\": 7.25, \"Embarked\": \"S\", \"Survived\": \"Didn't survive\"}, {\"Pclass\": 3, \"Name\": \"Dennis, Mr. Samuel\", \"Sex\": \"Male (1)\", \"Age\": 22.0, \"SibSp\": 0, \"Parch\": 0, \"Ticket\": \"A/5 21172\", \"Fare\": 7.25, \"Embarked\": \"S\", \"Survived\": \"Didn't survive\"}, {\"Pclass\": 1, \"Name\": \"Hays, Miss. Margaret Bechstein\", \"Sex\": \"Female (0)\", \"Age\": 24.0, \"SibSp\": 0, \"Parch\": 0, \"Ticket\": \"11767\", \"Fare\": 83.1583, \"Embarked\": \"C\", \"Survived\": \"survived\"}, {\"Pclass\": 3, \"Name\": \"Turkula, Mrs. (Hedwig)\", \"Sex\": \"Female (0)\", \"Age\": 63.0, \"SibSp\": 0, \"Parch\": 0, \"Ticket\": \"4134\", \"Fare\": 9.5875, \"Embarked\": \"S\", \"Survived\": \"survived\"}, {\"Pclass\": 3, \"Name\": \"Boulos, Mrs. Joseph (Sultana)\", \"Sex\": \"Female (0)\", \"Age\": 31.7090395480226, \"SibSp\": 0, \"Parch\": 2, \"Ticket\": \"2678\", \"Fare\": 15.2458, \"Embarked\": \"C\", \"Survived\": \"Didn't survive\"}, {\"Pclass\": 3, \"Name\": \"Farrell, Mr. James\", \"Sex\": \"Male (1)\", \"Age\": 40.5, \"SibSp\": 0, \"Parch\": 0, \"Ticket\": \"367232\", \"Fare\": 7.75, \"Embarked\": \"Q\", \"Survived\": \"Didn't survive\"}, {\"Pclass\": 1, \"Name\": \"Cleaver, Miss. Alice\", \"Sex\": \"Female (0)\", \"Age\": 22.0, \"SibSp\": 0, \"Parch\": 0, \"Ticket\": \"113781\", \"Fare\": 151.55, \"Embarked\": \"S\", \"Survived\": \"survived\"}, {\"Pclass\": 3, \"Name\": \"Vovk, Mr. Janko\", \"Sex\": \"Male (1)\", \"Age\": 22.0, \"SibSp\": 0, \"Parch\": 0, \"Ticket\": \"349252\", \"Fare\": 7.8958, \"Embarked\": \"S\", \"Survived\": \"Didn't survive\"}, {\"Pclass\": 3, \"Name\": \"Sage, Master. Thomas Henry\", \"Sex\": \"Male (1)\", \"Age\": 31.7090395480226, \"SibSp\": 8, \"Parch\": 2, \"Ticket\": \"CA. 2343\", \"Fare\": 69.55, \"Embarked\": \"S\", \"Survived\": \"Didn't survive\"}, {\"Pclass\": 3, \"Name\": \"Moran, Mr. Daniel J\", \"Sex\": \"Male (1)\", \"Age\": 31.7090395480226, \"SibSp\": 1, \"Parch\": 0, \"Ticket\": \"371110\", \"Fare\": 24.15, \"Embarked\": \"Q\", \"Survived\": \"Didn't survive\"}, {\"Pclass\": 1, \"Name\": \"Cumings, Mrs. John Bradley (Florence Briggs Thayer)\", \"Sex\": \"Female (0)\", \"Age\": 38.0, \"SibSp\": 1, \"Parch\": 0, \"Ticket\": \"PC 17599\", \"Fare\": 71.2833, \"Embarked\": \"C\", \"Survived\": \"survived\"}, {\"Pclass\": 3, \"Name\": \"Klasen, Mr. Klas Albin\", \"Sex\": \"Male (1)\", \"Age\": 18.0, \"SibSp\": 1, \"Parch\": 1, \"Ticket\": \"350404\", \"Fare\": 7.8542, \"Embarked\": \"S\", \"Survived\": \"Didn't survive\"}, {\"Pclass\": 1, \"Name\": \"Silvey, Mr. William Baird\", \"Sex\": \"Male (1)\", \"Age\": 50.0, \"SibSp\": 1, \"Parch\": 0, \"Ticket\": \"13507\", \"Fare\": 55.9, \"Embarked\": \"S\", \"Survived\": \"Didn't survive\"}, {\"Pclass\": 3, \"Name\": \"Crease, Mr. Ernest James\", \"Sex\": \"Male (1)\", \"Age\": 19.0, \"SibSp\": 0, \"Parch\": 0, \"Ticket\": \"S.P. 3464\", \"Fare\": 8.1583, \"Embarked\": \"S\", \"Survived\": \"Didn't survive\"}, {\"Pclass\": 3, \"Name\": \"Connors, Mr. Patrick\", \"Sex\": \"Male (1)\", \"Age\": 70.5, \"SibSp\": 0, \"Parch\": 0, \"Ticket\": \"370369\", \"Fare\": 7.75, \"Embarked\": \"Q\", \"Survived\": \"Didn't survive\"}, {\"Pclass\": 3, \"Name\": \"Saad, Mr. Khalil\", \"Sex\": \"Male (1)\", \"Age\": 25.0, \"SibSp\": 0, \"Parch\": 0, \"Ticket\": \"2672\", \"Fare\": 7.225, \"Embarked\": \"C\", \"Survived\": \"Didn't survive\"}, {\"Pclass\": 3, \"Name\": \"Jensen, Mr. Hans Peder\", \"Sex\": \"Male (1)\", \"Age\": 20.0, \"SibSp\": 0, \"Parch\": 0, \"Ticket\": \"350050\", \"Fare\": 7.8542, \"Embarked\": \"S\", \"Survived\": \"Didn't survive\"}, {\"Pclass\": 3, \"Name\": \"Maisner, Mr. Simon\", \"Sex\": \"Male (1)\", \"Age\": 31.7090395480226, \"SibSp\": 0, \"Parch\": 0, \"Ticket\": \"A/S 2816\", \"Fare\": 8.05, \"Embarked\": \"S\", \"Survived\": \"Didn't survive\"}, {\"Pclass\": 3, \"Name\": \"Andersson, Miss. Erna Alexandra\", \"Sex\": \"Female (0)\", \"Age\": 17.0, \"SibSp\": 4, \"Parch\": 2, \"Ticket\": \"3101281\", \"Fare\": 7.925, \"Embarked\": \"S\", \"Survived\": \"survived\"}, {\"Pclass\": 1, \"Name\": \"Molson, Mr. Harry Markland\", \"Sex\": \"Male (1)\", \"Age\": 55.0, \"SibSp\": 0, \"Parch\": 0, \"Ticket\": \"113787\", \"Fare\": 30.5, \"Embarked\": \"S\", \"Survived\": \"Didn't survive\"}, {\"Pclass\": 3, \"Name\": \"Rice, Master. George Hugh\", \"Sex\": \"Male (1)\", \"Age\": 8.0, \"SibSp\": 4, \"Parch\": 1, \"Ticket\": \"382652\", \"Fare\": 29.125, \"Embarked\": \"Q\", \"Survived\": \"Didn't survive\"}, {\"Pclass\": 3, \"Name\": \"Bowen, Mr. David John \\\"Dai\\\"\", \"Sex\": \"Male (1)\", \"Age\": 21.0, \"SibSp\": 0, \"Parch\": 0, \"Ticket\": \"54636\", \"Fare\": 16.1, \"Embarked\": \"S\", \"Survived\": \"Didn't survive\"}, {\"Pclass\": 2, \"Name\": \"Beane, Mr. Edward\", \"Sex\": \"Male (1)\", \"Age\": 32.0, \"SibSp\": 1, \"Parch\": 0, \"Ticket\": \"2908\", \"Fare\": 26.0, \"Embarked\": \"S\", \"Survived\": \"survived\"}, {\"Pclass\": 3, \"Name\": \"Edvardsson, Mr. Gustaf Hjalmar\", \"Sex\": \"Male (1)\", \"Age\": 18.0, \"SibSp\": 0, \"Parch\": 0, \"Ticket\": \"349912\", \"Fare\": 7.775, \"Embarked\": \"S\", \"Survived\": \"Didn't survive\"}, {\"Pclass\": 2, \"Name\": \"del Carlo, Mr. Sebastiano\", \"Sex\": \"Male (1)\", \"Age\": 29.0, \"SibSp\": 1, \"Parch\": 0, \"Ticket\": \"SC/PARIS 2167\", \"Fare\": 27.7208, \"Embarked\": \"C\", \"Survived\": \"Didn't survive\"}, {\"Pclass\": 3, \"Name\": \"Dean, Master. Bertram Vere\", \"Sex\": \"Male (1)\", \"Age\": 1.0, \"SibSp\": 1, \"Parch\": 2, \"Ticket\": \"C.A. 2315\", \"Fare\": 20.575, \"Embarked\": \"S\", \"Survived\": \"survived\"}, {\"Pclass\": 3, \"Name\": \"Persson, Mr. Ernst Ulrik\", \"Sex\": \"Male (1)\", \"Age\": 25.0, \"SibSp\": 1, \"Parch\": 0, \"Ticket\": \"347083\", \"Fare\": 7.775, \"Embarked\": \"S\", \"Survived\": \"survived\"}, {\"Pclass\": 1, \"Name\": \"Cairns, Mr. Alexander\", \"Sex\": \"Male (1)\", \"Age\": 31.7090395480226, \"SibSp\": 0, \"Parch\": 0, \"Ticket\": \"113798\", \"Fare\": 31.0, \"Embarked\": \"S\", \"Survived\": \"Didn't survive\"}, {\"Pclass\": 1, \"Name\": \"Taussig, Mrs. Emil (Tillie Mandelbaum)\", \"Sex\": \"Female (0)\", \"Age\": 39.0, \"SibSp\": 1, \"Parch\": 1, \"Ticket\": \"110413\", \"Fare\": 79.65, \"Embarked\": \"S\", \"Survived\": \"survived\"}, {\"Pclass\": 3, \"Name\": \"Zabour, Miss. Thamine\", \"Sex\": \"Female (0)\", \"Age\": 31.7090395480226, \"SibSp\": 1, \"Parch\": 0, \"Ticket\": \"2665\", \"Fare\": 14.4542, \"Embarked\": \"C\", \"Survived\": \"Didn't survive\"}, {\"Pclass\": 3, \"Name\": \"Allum, Mr. Owen George\", \"Sex\": \"Male (1)\", \"Age\": 18.0, \"SibSp\": 0, \"Parch\": 0, \"Ticket\": \"2223\", \"Fare\": 8.3, \"Embarked\": \"S\", \"Survived\": \"Didn't survive\"}, {\"Pclass\": 3, \"Name\": \"Goodwin, Master. William Frederick\", \"Sex\": \"Male (1)\", \"Age\": 11.0, \"SibSp\": 5, \"Parch\": 2, \"Ticket\": \"CA 2144\", \"Fare\": 46.9, \"Embarked\": \"S\", \"Survived\": \"Didn't survive\"}, {\"Pclass\": 3, \"Name\": \"Canavan, Miss. Mary\", \"Sex\": \"Female (0)\", \"Age\": 21.0, \"SibSp\": 0, \"Parch\": 0, \"Ticket\": \"364846\", \"Fare\": 7.75, \"Embarked\": \"Q\", \"Survived\": \"Didn't survive\"}, {\"Pclass\": 3, \"Name\": \"Sirayanian, Mr. Orsen\", \"Sex\": \"Male (1)\", \"Age\": 22.0, \"SibSp\": 0, \"Parch\": 0, \"Ticket\": \"2669\", \"Fare\": 7.2292, \"Embarked\": \"C\", \"Survived\": \"Didn't survive\"}, {\"Pclass\": 2, \"Name\": \"Bystrom, Mrs. (Karolina)\", \"Sex\": \"Female (0)\", \"Age\": 42.0, \"SibSp\": 0, \"Parch\": 0, \"Ticket\": \"236852\", \"Fare\": 13.0, \"Embarked\": \"S\", \"Survived\": \"survived\"}, {\"Pclass\": 3, \"Name\": \"Barah, Mr. Hanna Assi\", \"Sex\": \"Male (1)\", \"Age\": 20.0, \"SibSp\": 0, \"Parch\": 0, \"Ticket\": \"2663\", \"Fare\": 7.2292, \"Embarked\": \"C\", \"Survived\": \"survived\"}, {\"Pclass\": 1, \"Name\": \"McGough, Mr. James Robert\", \"Sex\": \"Male (1)\", \"Age\": 36.0, \"SibSp\": 0, \"Parch\": 0, \"Ticket\": \"PC 17473\", \"Fare\": 26.2875, \"Embarked\": \"S\", \"Survived\": \"survived\"}, {\"Pclass\": 2, \"Name\": \"Pengelly, Mr. Frederick William\", \"Sex\": \"Male (1)\", \"Age\": 19.0, \"SibSp\": 0, \"Parch\": 0, \"Ticket\": \"28665\", \"Fare\": 10.5, \"Embarked\": \"S\", \"Survived\": \"Didn't survive\"}, {\"Pclass\": 3, \"Name\": \"Kink, Mr. Vincenz\", \"Sex\": \"Male (1)\", \"Age\": 26.0, \"SibSp\": 2, \"Parch\": 0, \"Ticket\": \"315151\", \"Fare\": 8.6625, \"Embarked\": \"S\", \"Survived\": \"Didn't survive\"}, {\"Pclass\": 1, \"Name\": \"Fortune, Mr. Mark\", \"Sex\": \"Male (1)\", \"Age\": 64.0, \"SibSp\": 1, \"Parch\": 4, \"Ticket\": \"19950\", \"Fare\": 263.0, \"Embarked\": \"S\", \"Survived\": \"Didn't survive\"}, {\"Pclass\": 3, \"Name\": \"Jalsevac, Mr. Ivan\", \"Sex\": \"Male (1)\", \"Age\": 29.0, \"SibSp\": 0, \"Parch\": 0, \"Ticket\": \"349240\", \"Fare\": 7.8958, \"Embarked\": \"C\", \"Survived\": \"survived\"}, {\"Pclass\": 3, \"Name\": \"Petroff, Mr. Pastcho (\\\"Pentcho\\\")\", \"Sex\": \"Male (1)\", \"Age\": 31.7090395480226, \"SibSp\": 0, \"Parch\": 0, \"Ticket\": \"349215\", \"Fare\": 7.8958, \"Embarked\": \"S\", \"Survived\": \"Didn't survive\"}, {\"Pclass\": 2, \"Name\": \"Lahtinen, Mrs. William (Anna Sylfven)\", \"Sex\": \"Female (0)\", \"Age\": 26.0, \"SibSp\": 1, \"Parch\": 1, \"Ticket\": \"250651\", \"Fare\": 26.0, \"Embarked\": \"S\", \"Survived\": \"Didn't survive\"}, {\"Pclass\": 3, \"Name\": \"Moor, Mrs. (Beila)\", \"Sex\": \"Female (0)\", \"Age\": 27.0, \"SibSp\": 0, \"Parch\": 1, \"Ticket\": \"392096\", \"Fare\": 12.475, \"Embarked\": \"S\", \"Survived\": \"survived\"}, {\"Pclass\": 3, \"Name\": \"O'Brien, Mr. Thomas\", \"Sex\": \"Male (1)\", \"Age\": 31.7090395480226, \"SibSp\": 1, \"Parch\": 0, \"Ticket\": \"370365\", \"Fare\": 15.5, \"Embarked\": \"Q\", \"Survived\": \"Didn't survive\"}, {\"Pclass\": 3, \"Name\": \"Turcin, Mr. Stjepan\", \"Sex\": \"Male (1)\", \"Age\": 36.0, \"SibSp\": 0, \"Parch\": 0, \"Ticket\": \"349247\", \"Fare\": 7.8958, \"Embarked\": \"S\", \"Survived\": \"Didn't survive\"}, {\"Pclass\": 2, \"Name\": \"Smith, Miss. Marion Elsie\", \"Sex\": \"Female (0)\", \"Age\": 40.0, \"SibSp\": 0, \"Parch\": 0, \"Ticket\": \"31418\", \"Fare\": 13.0, \"Embarked\": \"S\", \"Survived\": \"survived\"}, {\"Pclass\": 3, \"Name\": \"Rush, Mr. Alfred George John\", \"Sex\": \"Male (1)\", \"Age\": 16.0, \"SibSp\": 0, \"Parch\": 0, \"Ticket\": \"A/4. 20589\", \"Fare\": 8.05, \"Embarked\": \"S\", \"Survived\": \"Didn't survive\"}, {\"Pclass\": 3, \"Name\": \"Stranden, Mr. Juho\", \"Sex\": \"Male (1)\", \"Age\": 31.0, \"SibSp\": 0, \"Parch\": 0, \"Ticket\": \"STON/O 2. 3101288\", \"Fare\": 7.925, \"Embarked\": \"S\", \"Survived\": \"survived\"}, {\"Pclass\": 3, \"Name\": \"Panula, Mrs. Juha (Maria Emilia Ojala)\", \"Sex\": \"Female (0)\", \"Age\": 41.0, \"SibSp\": 0, \"Parch\": 5, \"Ticket\": \"3101295\", \"Fare\": 39.6875, \"Embarked\": \"S\", \"Survived\": \"Didn't survive\"}, {\"Pclass\": 3, \"Name\": \"Caram, Mrs. Joseph (Maria Elias)\", \"Sex\": \"Female (0)\", \"Age\": 31.7090395480226, \"SibSp\": 1, \"Parch\": 0, \"Ticket\": \"2689\", \"Fare\": 14.4583, \"Embarked\": \"C\", \"Survived\": \"Didn't survive\"}, {\"Pclass\": 3, \"Name\": \"Mannion, Miss. Margareth\", \"Sex\": \"Female (0)\", \"Age\": 31.7090395480226, \"SibSp\": 0, \"Parch\": 0, \"Ticket\": \"36866\", \"Fare\": 7.7375, \"Embarked\": \"Q\", \"Survived\": \"survived\"}, {\"Pclass\": 3, \"Name\": \"Ford, Mrs. Edward (Margaret Ann Watson)\", \"Sex\": \"Female (0)\", \"Age\": 48.0, \"SibSp\": 1, \"Parch\": 3, \"Ticket\": \"W./C. 6608\", \"Fare\": 34.375, \"Embarked\": \"S\", \"Survived\": \"Didn't survive\"}, {\"Pclass\": 3, \"Name\": \"Albimona, Mr. Nassef Cassem\", \"Sex\": \"Male (1)\", \"Age\": 26.0, \"SibSp\": 0, \"Parch\": 0, \"Ticket\": \"2699\", \"Fare\": 18.7875, \"Embarked\": \"C\", \"Survived\": \"survived\"}, {\"Pclass\": 3, \"Name\": \"Robins, Mrs. Alexander A (Grace Charity Laury)\", \"Sex\": \"Female (0)\", \"Age\": 47.0, \"SibSp\": 1, \"Parch\": 0, \"Ticket\": \"A/5. 3337\", \"Fare\": 14.5, \"Embarked\": \"S\", \"Survived\": \"Didn't survive\"}, {\"Pclass\": 1, \"Name\": \"Stephenson, Mrs. Walter Bertram (Martha Eustis)\", \"Sex\": \"Female (0)\", \"Age\": 52.0, \"SibSp\": 1, \"Parch\": 0, \"Ticket\": \"36947\", \"Fare\": 78.2667, \"Embarked\": \"C\", \"Survived\": \"survived\"}, {\"Pclass\": 3, \"Name\": \"Hedman, Mr. Oskar Arvid\", \"Sex\": \"Male (1)\", \"Age\": 27.0, \"SibSp\": 0, \"Parch\": 0, \"Ticket\": \"347089\", \"Fare\": 6.975, \"Embarked\": \"S\", \"Survived\": \"survived\"}, {\"Pclass\": 1, \"Name\": \"Ward, Miss. Anna\", \"Sex\": \"Female (0)\", \"Age\": 35.0, \"SibSp\": 0, \"Parch\": 0, \"Ticket\": \"PC 17755\", \"Fare\": 512.3292, \"Embarked\": \"C\", \"Survived\": \"survived\"}, {\"Pclass\": 3, \"Name\": \"Arnold-Franchi, Mrs. Josef (Josefine Franchi)\", \"Sex\": \"Female (0)\", \"Age\": 18.0, \"SibSp\": 1, \"Parch\": 0, \"Ticket\": \"349237\", \"Fare\": 17.8, \"Embarked\": \"S\", \"Survived\": \"Didn't survive\"}, {\"Pclass\": 3, \"Name\": \"Kalvik, Mr. Johannes Halvorsen\", \"Sex\": \"Male (1)\", \"Age\": 21.0, \"SibSp\": 0, \"Parch\": 0, \"Ticket\": \"8475\", \"Fare\": 8.4333, \"Embarked\": \"S\", \"Survived\": \"Didn't survive\"}, {\"Pclass\": 2, \"Name\": \"Kantor, Mrs. Sinai (Miriam Sternin)\", \"Sex\": \"Female (0)\", \"Age\": 24.0, \"SibSp\": 1, \"Parch\": 0, \"Ticket\": \"244367\", \"Fare\": 26.0, \"Embarked\": \"S\", \"Survived\": \"survived\"}, {\"Pclass\": 3, \"Name\": \"Rice, Master. Eugene\", \"Sex\": \"Male (1)\", \"Age\": 2.0, \"SibSp\": 4, \"Parch\": 1, \"Ticket\": \"382652\", \"Fare\": 29.125, \"Embarked\": \"Q\", \"Survived\": \"Didn't survive\"}, {\"Pclass\": 1, \"Name\": \"Widener, Mr. Harry Elkins\", \"Sex\": \"Male (1)\", \"Age\": 27.0, \"SibSp\": 0, \"Parch\": 2, \"Ticket\": \"113503\", \"Fare\": 211.5, \"Embarked\": \"C\", \"Survived\": \"Didn't survive\"}, {\"Pclass\": 3, \"Name\": \"Leinonen, Mr. Antti Gustaf\", \"Sex\": \"Male (1)\", \"Age\": 32.0, \"SibSp\": 0, \"Parch\": 0, \"Ticket\": \"STON/O 2. 3101292\", \"Fare\": 7.925, \"Embarked\": \"S\", \"Survived\": \"Didn't survive\"}, {\"Pclass\": 3, \"Name\": \"Aks, Mrs. Sam (Leah Rosen)\", \"Sex\": \"Female (0)\", \"Age\": 18.0, \"SibSp\": 0, \"Parch\": 1, \"Ticket\": \"392091\", \"Fare\": 9.35, \"Embarked\": \"S\", \"Survived\": \"survived\"}, {\"Pclass\": 3, \"Name\": \"Sheerlinck, Mr. Jan Baptist\", \"Sex\": \"Male (1)\", \"Age\": 29.0, \"SibSp\": 0, \"Parch\": 0, \"Ticket\": \"345779\", \"Fare\": 9.5, \"Embarked\": \"S\", \"Survived\": \"survived\"}, {\"Pclass\": 1, \"Name\": \"Burns, Miss. Elizabeth Margaret\", \"Sex\": \"Female (0)\", \"Age\": 41.0, \"SibSp\": 0, \"Parch\": 0, \"Ticket\": \"16966\", \"Fare\": 134.5, \"Embarked\": \"C\", \"Survived\": \"survived\"}, {\"Pclass\": 3, \"Name\": \"Youseff, Mr. Gerious\", \"Sex\": \"Male (1)\", \"Age\": 45.5, \"SibSp\": 0, \"Parch\": 0, \"Ticket\": \"2628\", \"Fare\": 7.225, \"Embarked\": \"C\", \"Survived\": \"Didn't survive\"}, {\"Pclass\": 3, \"Name\": \"Dantcheff, Mr. Ristiu\", \"Sex\": \"Male (1)\", \"Age\": 25.0, \"SibSp\": 0, \"Parch\": 0, \"Ticket\": \"349203\", \"Fare\": 7.8958, \"Embarked\": \"S\", \"Survived\": \"Didn't survive\"}, {\"Pclass\": 3, \"Name\": \"Andersson, Miss. Ingeborg Constanzia\", \"Sex\": \"Female (0)\", \"Age\": 9.0, \"SibSp\": 4, \"Parch\": 2, \"Ticket\": \"347082\", \"Fare\": 31.275, \"Embarked\": \"S\", \"Survived\": \"Didn't survive\"}, {\"Pclass\": 2, \"Name\": \"Leyson, Mr. Robert William Norman\", \"Sex\": \"Male (1)\", \"Age\": 24.0, \"SibSp\": 0, \"Parch\": 0, \"Ticket\": \"C.A. 29566\", \"Fare\": 10.5, \"Embarked\": \"S\", \"Survived\": \"Didn't survive\"}, {\"Pclass\": 3, \"Name\": \"Mionoff, Mr. Stoytcho\", \"Sex\": \"Male (1)\", \"Age\": 28.0, \"SibSp\": 0, \"Parch\": 0, \"Ticket\": \"349207\", \"Fare\": 7.8958, \"Embarked\": \"S\", \"Survived\": \"Didn't survive\"}, {\"Pclass\": 1, \"Name\": \"Spencer, Mrs. William Augustus (Marie Eugenie)\", \"Sex\": \"Female (0)\", \"Age\": 31.7090395480226, \"SibSp\": 1, \"Parch\": 0, \"Ticket\": \"PC 17569\", \"Fare\": 146.5208, \"Embarked\": \"C\", \"Survived\": \"survived\"}, {\"Pclass\": 3, \"Name\": \"Somerton, Mr. Francis William\", \"Sex\": \"Male (1)\", \"Age\": 30.0, \"SibSp\": 0, \"Parch\": 0, \"Ticket\": \"A.5. 18509\", \"Fare\": 8.05, \"Embarked\": \"S\", \"Survived\": \"Didn't survive\"}, {\"Pclass\": 3, \"Name\": \"Andersen-Jensen, Miss. Carla Christine Nielsine\", \"Sex\": \"Female (0)\", \"Age\": 19.0, \"SibSp\": 1, \"Parch\": 0, \"Ticket\": \"350046\", \"Fare\": 7.8542, \"Embarked\": \"S\", \"Survived\": \"survived\"}, {\"Pclass\": 1, \"Name\": \"Fry, Mr. Richard\", \"Sex\": \"Male (1)\", \"Age\": 31.7090395480226, \"SibSp\": 0, \"Parch\": 0, \"Ticket\": \"112058\", \"Fare\": 0.0, \"Embarked\": \"S\", \"Survived\": \"Didn't survive\"}, {\"Pclass\": 2, \"Name\": \"Gavey, Mr. Lawrence\", \"Sex\": \"Male (1)\", \"Age\": 26.0, \"SibSp\": 0, \"Parch\": 0, \"Ticket\": \"31028\", \"Fare\": 10.5, \"Embarked\": \"S\", \"Survived\": \"Didn't survive\"}, {\"Pclass\": 3, \"Name\": \"Connaghton, Mr. Michael\", \"Sex\": \"Male (1)\", \"Age\": 31.0, \"SibSp\": 0, \"Parch\": 0, \"Ticket\": \"335097\", \"Fare\": 7.75, \"Embarked\": \"Q\", \"Survived\": \"Didn't survive\"}, {\"Pclass\": 3, \"Name\": \"Sage, Mr. Douglas Bullen\", \"Sex\": \"Male (1)\", \"Age\": 31.7090395480226, \"SibSp\": 8, \"Parch\": 2, \"Ticket\": \"CA. 2343\", \"Fare\": 69.55, \"Embarked\": \"S\", \"Survived\": \"Didn't survive\"}, {\"Pclass\": 1, \"Name\": \"Carter, Mr. William Ernest\", \"Sex\": \"Male (1)\", \"Age\": 36.0, \"SibSp\": 1, \"Parch\": 2, \"Ticket\": \"113760\", \"Fare\": 120.0, \"Embarked\": \"S\", \"Survived\": \"survived\"}, {\"Pclass\": 3, \"Name\": \"Honkanen, Miss. Eliina\", \"Sex\": \"Female (0)\", \"Age\": 27.0, \"SibSp\": 0, \"Parch\": 0, \"Ticket\": \"STON/O2. 3101283\", \"Fare\": 7.925, \"Embarked\": \"S\", \"Survived\": \"survived\"}, {\"Pclass\": 3, \"Name\": \"Gustafsson, Mr. Anders Vilhelm\", \"Sex\": \"Male (1)\", \"Age\": 37.0, \"SibSp\": 2, \"Parch\": 0, \"Ticket\": \"3101276\", \"Fare\": 7.925, \"Embarked\": \"S\", \"Survived\": \"Didn't survive\"}, {\"Pclass\": 2, \"Name\": \"Bailey, Mr. Percy Andrew\", \"Sex\": \"Male (1)\", \"Age\": 18.0, \"SibSp\": 0, \"Parch\": 0, \"Ticket\": \"29108\", \"Fare\": 11.5, \"Embarked\": \"S\", \"Survived\": \"Didn't survive\"}, {\"Pclass\": 1, \"Name\": \"Nicholson, Mr. Arthur Ernest\", \"Sex\": \"Male (1)\", \"Age\": 64.0, \"SibSp\": 0, \"Parch\": 0, \"Ticket\": \"693\", \"Fare\": 26.0, \"Embarked\": \"S\", \"Survived\": \"Didn't survive\"}, {\"Pclass\": 2, \"Name\": \"Beane, Mrs. Edward (Ethel Clarke)\", \"Sex\": \"Female (0)\", \"Age\": 19.0, \"SibSp\": 1, \"Parch\": 0, \"Ticket\": \"2908\", \"Fare\": 26.0, \"Embarked\": \"S\", \"Survived\": \"survived\"}, {\"Pclass\": 3, \"Name\": \"Ford, Miss. Doolina Margaret \\\"Daisy\\\"\", \"Sex\": \"Female (0)\", \"Age\": 21.0, \"SibSp\": 2, \"Parch\": 2, \"Ticket\": \"W./C. 6608\", \"Fare\": 34.375, \"Embarked\": \"S\", \"Survived\": \"Didn't survive\"}, {\"Pclass\": 3, \"Name\": \"Toufik, Mr. Nakli\", \"Sex\": \"Male (1)\", \"Age\": 31.7090395480226, \"SibSp\": 0, \"Parch\": 0, \"Ticket\": \"2641\", \"Fare\": 7.2292, \"Embarked\": \"C\", \"Survived\": \"Didn't survive\"}, {\"Pclass\": 3, \"Name\": \"Radeff, Mr. Alexander\", \"Sex\": \"Male (1)\", \"Age\": 31.7090395480226, \"SibSp\": 0, \"Parch\": 0, \"Ticket\": \"349223\", \"Fare\": 7.8958, \"Embarked\": \"S\", \"Survived\": \"Didn't survive\"}, {\"Pclass\": 2, \"Name\": \"Pernot, Mr. Rene\", \"Sex\": \"Male (1)\", \"Age\": 31.7090395480226, \"SibSp\": 0, \"Parch\": 0, \"Ticket\": \"SC/PARIS 2131\", \"Fare\": 15.05, \"Embarked\": \"C\", \"Survived\": \"Didn't survive\"}, {\"Pclass\": 3, \"Name\": \"Sage, Miss. Stella Anna\", \"Sex\": \"Female (0)\", \"Age\": 31.7090395480226, \"SibSp\": 8, \"Parch\": 2, \"Ticket\": \"CA. 2343\", \"Fare\": 69.55, \"Embarked\": \"S\", \"Survived\": \"Didn't survive\"}, {\"Pclass\": 2, \"Name\": \"Jarvis, Mr. John Denzil\", \"Sex\": \"Male (1)\", \"Age\": 47.0, \"SibSp\": 0, \"Parch\": 0, \"Ticket\": \"237565\", \"Fare\": 15.0, \"Embarked\": \"S\", \"Survived\": \"Didn't survive\"}, {\"Pclass\": 3, \"Name\": \"Boulos, Miss. Nourelain\", \"Sex\": \"Female (0)\", \"Age\": 9.0, \"SibSp\": 1, \"Parch\": 1, \"Ticket\": \"2678\", \"Fare\": 15.2458, \"Embarked\": \"C\", \"Survived\": \"Didn't survive\"}, {\"Pclass\": 3, \"Name\": \"Foo, Mr. Choong\", \"Sex\": \"Male (1)\", \"Age\": 31.7090395480226, \"SibSp\": 0, \"Parch\": 0, \"Ticket\": \"1601\", \"Fare\": 56.4958, \"Embarked\": \"S\", \"Survived\": \"survived\"}, {\"Pclass\": 2, \"Name\": \"Kelly, Mrs. Florence \\\"Fannie\\\"\", \"Sex\": \"Female (0)\", \"Age\": 45.0, \"SibSp\": 0, \"Parch\": 0, \"Ticket\": \"223596\", \"Fare\": 13.5, \"Embarked\": \"S\", \"Survived\": \"survived\"}, {\"Pclass\": 2, \"Name\": \"Morley, Mr. Henry Samuel (\\\"Mr Henry Marshall\\\")\", \"Sex\": \"Male (1)\", \"Age\": 39.0, \"SibSp\": 0, \"Parch\": 0, \"Ticket\": \"250655\", \"Fare\": 26.0, \"Embarked\": \"S\", \"Survived\": \"Didn't survive\"}, {\"Pclass\": 2, \"Name\": \"Mellors, Mr. William John\", \"Sex\": \"Male (1)\", \"Age\": 19.0, \"SibSp\": 0, \"Parch\": 0, \"Ticket\": \"SW/PP 751\", \"Fare\": 10.5, \"Embarked\": \"S\", \"Survived\": \"survived\"}, {\"Pclass\": 3, \"Name\": \"Lievens, Mr. Rene Aime\", \"Sex\": \"Male (1)\", \"Age\": 24.0, \"SibSp\": 0, \"Parch\": 0, \"Ticket\": \"345781\", \"Fare\": 9.5, \"Embarked\": \"S\", \"Survived\": \"Didn't survive\"}, {\"Pclass\": 3, \"Name\": \"Lennon, Mr. Denis\", \"Sex\": \"Male (1)\", \"Age\": 31.7090395480226, \"SibSp\": 1, \"Parch\": 0, \"Ticket\": \"370371\", \"Fare\": 15.5, \"Embarked\": \"Q\", \"Survived\": \"Didn't survive\"}, {\"Pclass\": 3, \"Name\": \"Petterson, Mr. Johan Emil\", \"Sex\": \"Male (1)\", \"Age\": 25.0, \"SibSp\": 1, \"Parch\": 0, \"Ticket\": \"347076\", \"Fare\": 7.775, \"Embarked\": \"S\", \"Survived\": \"Didn't survive\"}, {\"Pclass\": 1, \"Name\": \"Seward, Mr. Frederic Kimber\", \"Sex\": \"Male (1)\", \"Age\": 34.0, \"SibSp\": 0, \"Parch\": 0, \"Ticket\": \"113794\", \"Fare\": 26.55, \"Embarked\": \"S\", \"Survived\": \"survived\"}, {\"Pclass\": 3, \"Name\": \"Rogers, Mr. William John\", \"Sex\": \"Male (1)\", \"Age\": 31.7090395480226, \"SibSp\": 0, \"Parch\": 0, \"Ticket\": \"S.C./A.4. 23567\", \"Fare\": 8.05, \"Embarked\": \"S\", \"Survived\": \"Didn't survive\"}, {\"Pclass\": 3, \"Name\": \"de Mulder, Mr. Theodore\", \"Sex\": \"Male (1)\", \"Age\": 30.0, \"SibSp\": 0, \"Parch\": 0, \"Ticket\": \"345774\", \"Fare\": 9.5, \"Embarked\": \"S\", \"Survived\": \"survived\"}, {\"Pclass\": 3, \"Name\": \"Moore, Mr. Leonard Charles\", \"Sex\": \"Male (1)\", \"Age\": 31.7090395480226, \"SibSp\": 0, \"Parch\": 0, \"Ticket\": \"A4. 54510\", \"Fare\": 8.05, \"Embarked\": \"S\", \"Survived\": \"Didn't survive\"}, {\"Pclass\": 1, \"Name\": \"Taussig, Mr. Emil\", \"Sex\": \"Male (1)\", \"Age\": 52.0, \"SibSp\": 1, \"Parch\": 1, \"Ticket\": \"110413\", \"Fare\": 79.65, \"Embarked\": \"S\", \"Survived\": \"Didn't survive\"}, {\"Pclass\": 3, \"Name\": \"Flynn, Mr. James\", \"Sex\": \"Male (1)\", \"Age\": 31.7090395480226, \"SibSp\": 0, \"Parch\": 0, \"Ticket\": \"364851\", \"Fare\": 7.75, \"Embarked\": \"Q\", \"Survived\": \"Didn't survive\"}, {\"Pclass\": 1, \"Name\": \"Robert, Mrs. Edward Scott (Elisabeth Walton McMillan)\", \"Sex\": \"Female (0)\", \"Age\": 43.0, \"SibSp\": 0, \"Parch\": 1, \"Ticket\": \"24160\", \"Fare\": 211.3375, \"Embarked\": \"S\", \"Survived\": \"survived\"}, {\"Pclass\": 3, \"Name\": \"Johnson, Master. Harold Theodor\", \"Sex\": \"Male (1)\", \"Age\": 4.0, \"SibSp\": 1, \"Parch\": 1, \"Ticket\": \"347742\", \"Fare\": 11.1333, \"Embarked\": \"S\", \"Survived\": \"survived\"}, {\"Pclass\": 3, \"Name\": \"Meek, Mrs. Thomas (Annie Louise Rowley)\", \"Sex\": \"Female (0)\", \"Age\": 31.7090395480226, \"SibSp\": 0, \"Parch\": 0, \"Ticket\": \"343095\", \"Fare\": 8.05, \"Embarked\": \"S\", \"Survived\": \"Didn't survive\"}, {\"Pclass\": 1, \"Name\": \"Carlsson, Mr. Frans Olof\", \"Sex\": \"Male (1)\", \"Age\": 33.0, \"SibSp\": 0, \"Parch\": 0, \"Ticket\": \"695\", \"Fare\": 5.0, \"Embarked\": \"S\", \"Survived\": \"Didn't survive\"}, {\"Pclass\": 3, \"Name\": \"Barbara, Mrs. (Catherine David)\", \"Sex\": \"Female (0)\", \"Age\": 45.0, \"SibSp\": 0, \"Parch\": 1, \"Ticket\": \"2691\", \"Fare\": 14.4542, \"Embarked\": \"C\", \"Survived\": \"Didn't survive\"}, {\"Pclass\": 2, \"Name\": \"Rugg, Miss. Emily\", \"Sex\": \"Female (0)\", \"Age\": 21.0, \"SibSp\": 0, \"Parch\": 0, \"Ticket\": \"C.A. 31026\", \"Fare\": 10.5, \"Embarked\": \"S\", \"Survived\": \"survived\"}, {\"Pclass\": 3, \"Name\": \"Lobb, Mrs. William Arthur (Cordelia K Stanlick)\", \"Sex\": \"Female (0)\", \"Age\": 26.0, \"SibSp\": 1, \"Parch\": 0, \"Ticket\": \"A/5. 3336\", \"Fare\": 16.1, \"Embarked\": \"S\", \"Survived\": \"Didn't survive\"}, {\"Pclass\": 2, \"Name\": \"Wilhelms, Mr. Charles\", \"Sex\": \"Male (1)\", \"Age\": 31.0, \"SibSp\": 0, \"Parch\": 0, \"Ticket\": \"244270\", \"Fare\": 13.0, \"Embarked\": \"S\", \"Survived\": \"survived\"}, {\"Pclass\": 2, \"Name\": \"Quick, Mrs. Frederick Charles (Jane Richards)\", \"Sex\": \"Female (0)\", \"Age\": 33.0, \"SibSp\": 0, \"Parch\": 2, \"Ticket\": \"26360\", \"Fare\": 26.0, \"Embarked\": \"S\", \"Survived\": \"survived\"}, {\"Pclass\": 2, \"Name\": \"Jacobsohn, Mrs. Sidney Samuel (Amy Frances Christy)\", \"Sex\": \"Female (0)\", \"Age\": 24.0, \"SibSp\": 2, \"Parch\": 1, \"Ticket\": \"243847\", \"Fare\": 27.0, \"Embarked\": \"S\", \"Survived\": \"survived\"}, {\"Pclass\": 3, \"Name\": \"Coutts, Master. Eden Leslie \\\"Neville\\\"\", \"Sex\": \"Male (1)\", \"Age\": 9.0, \"SibSp\": 1, \"Parch\": 1, \"Ticket\": \"C.A. 37671\", \"Fare\": 15.9, \"Embarked\": \"S\", \"Survived\": \"survived\"}, {\"Pclass\": 3, \"Name\": \"Elsbury, Mr. William James\", \"Sex\": \"Male (1)\", \"Age\": 47.0, \"SibSp\": 0, \"Parch\": 0, \"Ticket\": \"A/5 3902\", \"Fare\": 7.25, \"Embarked\": \"S\", \"Survived\": \"Didn't survive\"}, {\"Pclass\": 1, \"Name\": \"LeRoy, Miss. Bertha\", \"Sex\": \"Female (0)\", \"Age\": 30.0, \"SibSp\": 0, \"Parch\": 0, \"Ticket\": \"PC 17761\", \"Fare\": 106.425, \"Embarked\": \"C\", \"Survived\": \"survived\"}, {\"Pclass\": 1, \"Name\": \"Baxter, Mrs. James (Helene DeLaudeniere Chaput)\", \"Sex\": \"Female (0)\", \"Age\": 50.0, \"SibSp\": 0, \"Parch\": 1, \"Ticket\": \"PC 17558\", \"Fare\": 247.5208, \"Embarked\": \"C\", \"Survived\": \"survived\"}, {\"Pclass\": 3, \"Name\": \"Augustsson, Mr. Albert\", \"Sex\": \"Male (1)\", \"Age\": 23.0, \"SibSp\": 0, \"Parch\": 0, \"Ticket\": \"347468\", \"Fare\": 7.8542, \"Embarked\": \"S\", \"Survived\": \"Didn't survive\"}, {\"Pclass\": 1, \"Name\": \"Taylor, Mr. Elmer Zebley\", \"Sex\": \"Male (1)\", \"Age\": 48.0, \"SibSp\": 1, \"Parch\": 0, \"Ticket\": \"19996\", \"Fare\": 52.0, \"Embarked\": \"S\", \"Survived\": \"survived\"}, {\"Pclass\": 3, \"Name\": \"Oreskovic, Mr. Luka\", \"Sex\": \"Male (1)\", \"Age\": 20.0, \"SibSp\": 0, \"Parch\": 0, \"Ticket\": \"315094\", \"Fare\": 8.6625, \"Embarked\": \"S\", \"Survived\": \"Didn't survive\"}, {\"Pclass\": 2, \"Name\": \"McKane, Mr. Peter David\", \"Sex\": \"Male (1)\", \"Age\": 46.0, \"SibSp\": 0, \"Parch\": 0, \"Ticket\": \"28403\", \"Fare\": 26.0, \"Embarked\": \"S\", \"Survived\": \"Didn't survive\"}, {\"Pclass\": 1, \"Name\": \"Partner, Mr. Austen\", \"Sex\": \"Male (1)\", \"Age\": 45.5, \"SibSp\": 0, \"Parch\": 0, \"Ticket\": \"113043\", \"Fare\": 28.5, \"Embarked\": \"S\", \"Survived\": \"Didn't survive\"}, {\"Pclass\": 2, \"Name\": \"Hunt, Mr. George Henry\", \"Sex\": \"Male (1)\", \"Age\": 33.0, \"SibSp\": 0, \"Parch\": 0, \"Ticket\": \"SCO/W 1585\", \"Fare\": 12.275, \"Embarked\": \"S\", \"Survived\": \"Didn't survive\"}, {\"Pclass\": 3, \"Name\": \"Palsson, Miss. Stina Viola\", \"Sex\": \"Female (0)\", \"Age\": 3.0, \"SibSp\": 3, \"Parch\": 1, \"Ticket\": \"349909\", \"Fare\": 21.075, \"Embarked\": \"S\", \"Survived\": \"Didn't survive\"}, {\"Pclass\": 3, \"Name\": \"Asplund, Miss. Lillian Gertrud\", \"Sex\": \"Female (0)\", \"Age\": 5.0, \"SibSp\": 4, \"Parch\": 2, \"Ticket\": \"347077\", \"Fare\": 31.3875, \"Embarked\": \"S\", \"Survived\": \"survived\"}, {\"Pclass\": 3, \"Name\": \"Bengtsson, Mr. John Viktor\", \"Sex\": \"Male (1)\", \"Age\": 26.0, \"SibSp\": 0, \"Parch\": 0, \"Ticket\": \"347068\", \"Fare\": 7.775, \"Embarked\": \"S\", \"Survived\": \"Didn't survive\"}, {\"Pclass\": 3, \"Name\": \"Attalah, Miss. Malake\", \"Sex\": \"Female (0)\", \"Age\": 17.0, \"SibSp\": 0, \"Parch\": 0, \"Ticket\": \"2627\", \"Fare\": 14.4583, \"Embarked\": \"C\", \"Survived\": \"Didn't survive\"}, {\"Pclass\": 1, \"Name\": \"Newell, Miss. Madeleine\", \"Sex\": \"Female (0)\", \"Age\": 31.0, \"SibSp\": 1, \"Parch\": 0, \"Ticket\": \"35273\", \"Fare\": 113.275, \"Embarked\": \"C\", \"Survived\": \"survived\"}, {\"Pclass\": 1, \"Name\": \"Chaffee, Mr. Herbert Fuller\", \"Sex\": \"Male (1)\", \"Age\": 46.0, \"SibSp\": 1, \"Parch\": 0, \"Ticket\": \"W.E.P. 5734\", \"Fare\": 61.175, \"Embarked\": \"S\", \"Survived\": \"Didn't survive\"}, {\"Pclass\": 2, \"Name\": \"Brown, Mr. Thomas William Solomon\", \"Sex\": \"Male (1)\", \"Age\": 60.0, \"SibSp\": 1, \"Parch\": 1, \"Ticket\": \"29750\", \"Fare\": 39.0, \"Embarked\": \"S\", \"Survived\": \"Didn't survive\"}, {\"Pclass\": 1, \"Name\": \"Colley, Mr. Edward Pomeroy\", \"Sex\": \"Male (1)\", \"Age\": 47.0, \"SibSp\": 0, \"Parch\": 0, \"Ticket\": \"5727\", \"Fare\": 25.5875, \"Embarked\": \"S\", \"Survived\": \"Didn't survive\"}, {\"Pclass\": 1, \"Name\": \"Weir, Col. John\", \"Sex\": \"Male (1)\", \"Age\": 60.0, \"SibSp\": 0, \"Parch\": 0, \"Ticket\": \"113800\", \"Fare\": 26.55, \"Embarked\": \"S\", \"Survived\": \"Didn't survive\"}, {\"Pclass\": 3, \"Name\": \"Hakkarainen, Mr. Pekka Pietari\", \"Sex\": \"Male (1)\", \"Age\": 28.0, \"SibSp\": 1, \"Parch\": 0, \"Ticket\": \"STON/O2. 3101279\", \"Fare\": 15.85, \"Embarked\": \"S\", \"Survived\": \"Didn't survive\"}, {\"Pclass\": 3, \"Name\": \"Cor, Mr. Liudevit\", \"Sex\": \"Male (1)\", \"Age\": 19.0, \"SibSp\": 0, \"Parch\": 0, \"Ticket\": \"349231\", \"Fare\": 7.8958, \"Embarked\": \"S\", \"Survived\": \"Didn't survive\"}, {\"Pclass\": 3, \"Name\": \"Murdlin, Mr. Joseph\", \"Sex\": \"Male (1)\", \"Age\": 31.7090395480226, \"SibSp\": 0, \"Parch\": 0, \"Ticket\": \"A./5. 3235\", \"Fare\": 8.05, \"Embarked\": \"S\", \"Survived\": \"Didn't survive\"}, {\"Pclass\": 2, \"Name\": \"Parrish, Mrs. (Lutie Davis)\", \"Sex\": \"Female (0)\", \"Age\": 50.0, \"SibSp\": 0, \"Parch\": 1, \"Ticket\": \"230433\", \"Fare\": 26.0, \"Embarked\": \"S\", \"Survived\": \"survived\"}, {\"Pclass\": 1, \"Name\": \"Icard, Miss. Amelie\", \"Sex\": \"Female (0)\", \"Age\": 38.0, \"SibSp\": 0, \"Parch\": 0, \"Ticket\": \"113572\", \"Fare\": 80.0, \"Embarked\": \"S\", \"Survived\": \"survived\"}, {\"Pclass\": 3, \"Name\": \"Andreasson, Mr. Paul Edvin\", \"Sex\": \"Male (1)\", \"Age\": 20.0, \"SibSp\": 0, \"Parch\": 0, \"Ticket\": \"347466\", \"Fare\": 7.8542, \"Embarked\": \"S\", \"Survived\": \"Didn't survive\"}, {\"Pclass\": 3, \"Name\": \"Corn, Mr. Harry\", \"Sex\": \"Male (1)\", \"Age\": 30.0, \"SibSp\": 0, \"Parch\": 0, \"Ticket\": \"SOTON/OQ 392090\", \"Fare\": 8.05, \"Embarked\": \"S\", \"Survived\": \"Didn't survive\"}, {\"Pclass\": 3, \"Name\": \"Williams, Mr. Howard Hugh \\\"Harry\\\"\", \"Sex\": \"Male (1)\", \"Age\": 31.7090395480226, \"SibSp\": 0, \"Parch\": 0, \"Ticket\": \"A/5 2466\", \"Fare\": 8.05, \"Embarked\": \"S\", \"Survived\": \"Didn't survive\"}, {\"Pclass\": 2, \"Name\": \"Brown, Mrs. Thomas William Solomon (Elizabeth Catherine Ford)\", \"Sex\": \"Female (0)\", \"Age\": 40.0, \"SibSp\": 1, \"Parch\": 1, \"Ticket\": \"29750\", \"Fare\": 39.0, \"Embarked\": \"S\", \"Survived\": \"survived\"}, {\"Pclass\": 2, \"Name\": \"Cunningham, Mr. Alfred Fleming\", \"Sex\": \"Male (1)\", \"Age\": 31.7090395480226, \"SibSp\": 0, \"Parch\": 0, \"Ticket\": \"239853\", \"Fare\": 0.0, \"Embarked\": \"S\", \"Survived\": \"Didn't survive\"}, {\"Pclass\": 2, \"Name\": \"Bracken, Mr. James H\", \"Sex\": \"Male (1)\", \"Age\": 27.0, \"SibSp\": 0, \"Parch\": 0, \"Ticket\": \"220367\", \"Fare\": 13.0, \"Embarked\": \"S\", \"Survived\": \"Didn't survive\"}, {\"Pclass\": 3, \"Name\": \"Horgan, Mr. John\", \"Sex\": \"Male (1)\", \"Age\": 31.7090395480226, \"SibSp\": 0, \"Parch\": 0, \"Ticket\": \"370377\", \"Fare\": 7.75, \"Embarked\": \"Q\", \"Survived\": \"Didn't survive\"}, {\"Pclass\": 1, \"Name\": \"Isham, Miss. Ann Elizabeth\", \"Sex\": \"Female (0)\", \"Age\": 50.0, \"SibSp\": 0, \"Parch\": 0, \"Ticket\": \"PC 17595\", \"Fare\": 28.7125, \"Embarked\": \"C\", \"Survived\": \"Didn't survive\"}, {\"Pclass\": 2, \"Name\": \"Kvillner, Mr. Johan Henrik Johannesson\", \"Sex\": \"Male (1)\", \"Age\": 31.0, \"SibSp\": 0, \"Parch\": 0, \"Ticket\": \"C.A. 18723\", \"Fare\": 10.5, \"Embarked\": \"S\", \"Survived\": \"Didn't survive\"}, {\"Pclass\": 1, \"Name\": \"White, Mr. Percival Wayland\", \"Sex\": \"Male (1)\", \"Age\": 54.0, \"SibSp\": 0, \"Parch\": 1, \"Ticket\": \"35281\", \"Fare\": 77.2875, \"Embarked\": \"S\", \"Survived\": \"Didn't survive\"}, {\"Pclass\": 3, \"Name\": \"Lindqvist, Mr. Eino William\", \"Sex\": \"Male (1)\", \"Age\": 20.0, \"SibSp\": 1, \"Parch\": 0, \"Ticket\": \"STON/O 2. 3101285\", \"Fare\": 7.925, \"Embarked\": \"S\", \"Survived\": \"survived\"}, {\"Pclass\": 3, \"Name\": \"Dorking, Mr. Edward Arthur\", \"Sex\": \"Male (1)\", \"Age\": 19.0, \"SibSp\": 0, \"Parch\": 0, \"Ticket\": \"A/5. 10482\", \"Fare\": 8.05, \"Embarked\": \"S\", \"Survived\": \"survived\"}, {\"Pclass\": 1, \"Name\": \"Lesurer, Mr. Gustave J\", \"Sex\": \"Male (1)\", \"Age\": 35.0, \"SibSp\": 0, \"Parch\": 0, \"Ticket\": \"PC 17755\", \"Fare\": 512.3292, \"Embarked\": \"C\", \"Survived\": \"survived\"}, {\"Pclass\": 1, \"Name\": \"Cardeza, Mr. Thomas Drake Martinez\", \"Sex\": \"Male (1)\", \"Age\": 36.0, \"SibSp\": 0, \"Parch\": 1, \"Ticket\": \"PC 17755\", \"Fare\": 512.3292, \"Embarked\": \"C\", \"Survived\": \"survived\"}, {\"Pclass\": 3, \"Name\": \"Garfirth, Mr. John\", \"Sex\": \"Male (1)\", \"Age\": 31.7090395480226, \"SibSp\": 0, \"Parch\": 0, \"Ticket\": \"358585\", \"Fare\": 14.5, \"Embarked\": \"S\", \"Survived\": \"Didn't survive\"}, {\"Pclass\": 3, \"Name\": \"Davison, Mrs. Thomas Henry (Mary E Finck)\", \"Sex\": \"Female (0)\", \"Age\": 31.7090395480226, \"SibSp\": 1, \"Parch\": 0, \"Ticket\": \"386525\", \"Fare\": 16.1, \"Embarked\": \"S\", \"Survived\": \"survived\"}, {\"Pclass\": 2, \"Name\": \"Slemen, Mr. Richard James\", \"Sex\": \"Male (1)\", \"Age\": 35.0, \"SibSp\": 0, \"Parch\": 0, \"Ticket\": \"28206\", \"Fare\": 10.5, \"Embarked\": \"S\", \"Survived\": \"Didn't survive\"}, {\"Pclass\": 3, \"Name\": \"Olsson, Mr. Nils Johan Goransson\", \"Sex\": \"Male (1)\", \"Age\": 28.0, \"SibSp\": 0, \"Parch\": 0, \"Ticket\": \"347464\", \"Fare\": 7.8542, \"Embarked\": \"S\", \"Survived\": \"Didn't survive\"}, {\"Pclass\": 3, \"Name\": \"Bourke, Miss. Mary\", \"Sex\": \"Female (0)\", \"Age\": 31.7090395480226, \"SibSp\": 0, \"Parch\": 2, \"Ticket\": \"364848\", \"Fare\": 7.75, \"Embarked\": \"Q\", \"Survived\": \"Didn't survive\"}, {\"Pclass\": 3, \"Name\": \"Brocklebank, Mr. William Alfred\", \"Sex\": \"Male (1)\", \"Age\": 35.0, \"SibSp\": 0, \"Parch\": 0, \"Ticket\": \"364512\", \"Fare\": 8.05, \"Embarked\": \"S\", \"Survived\": \"Didn't survive\"}, {\"Pclass\": 3, \"Name\": \"Hansen, Mr. Henrik Juul\", \"Sex\": \"Male (1)\", \"Age\": 26.0, \"SibSp\": 1, \"Parch\": 0, \"Ticket\": \"350025\", \"Fare\": 7.8542, \"Embarked\": \"S\", \"Survived\": \"Didn't survive\"}, {\"Pclass\": 3, \"Name\": \"Williams, Mr. Leslie\", \"Sex\": \"Male (1)\", \"Age\": 28.5, \"SibSp\": 0, \"Parch\": 0, \"Ticket\": \"54636\", \"Fare\": 16.1, \"Embarked\": \"S\", \"Survived\": \"Didn't survive\"}, {\"Pclass\": 2, \"Name\": \"Navratil, Master. Michel M\", \"Sex\": \"Male (1)\", \"Age\": 3.0, \"SibSp\": 1, \"Parch\": 1, \"Ticket\": \"230080\", \"Fare\": 26.0, \"Embarked\": \"S\", \"Survived\": \"survived\"}, {\"Pclass\": 1, \"Name\": \"Beckwith, Mrs. Richard Leonard (Sallie Monypeny)\", \"Sex\": \"Female (0)\", \"Age\": 47.0, \"SibSp\": 1, \"Parch\": 1, \"Ticket\": \"11751\", \"Fare\": 52.5542, \"Embarked\": \"S\", \"Survived\": \"survived\"}, {\"Pclass\": 1, \"Name\": \"Goldschmidt, Mr. George B\", \"Sex\": \"Male (1)\", \"Age\": 71.0, \"SibSp\": 0, \"Parch\": 0, \"Ticket\": \"PC 17754\", \"Fare\": 34.6542, \"Embarked\": \"C\", \"Survived\": \"Didn't survive\"}, {\"Pclass\": 3, \"Name\": \"Laleff, Mr. Kristo\", \"Sex\": \"Male (1)\", \"Age\": 31.7090395480226, \"SibSp\": 0, \"Parch\": 0, \"Ticket\": \"349217\", \"Fare\": 7.8958, \"Embarked\": \"S\", \"Survived\": \"Didn't survive\"}, {\"Pclass\": 2, \"Name\": \"Hart, Mrs. Benjamin (Esther Ada Bloomfield)\", \"Sex\": \"Female (0)\", \"Age\": 45.0, \"SibSp\": 1, \"Parch\": 1, \"Ticket\": \"F.C.C. 13529\", \"Fare\": 26.25, \"Embarked\": \"S\", \"Survived\": \"survived\"}, {\"Pclass\": 3, \"Name\": \"Johnson, Miss. Eleanor Ileen\", \"Sex\": \"Female (0)\", \"Age\": 1.0, \"SibSp\": 1, \"Parch\": 1, \"Ticket\": \"347742\", \"Fare\": 11.1333, \"Embarked\": \"S\", \"Survived\": \"survived\"}, {\"Pclass\": 3, \"Name\": \"Samaan, Mr. Youssef\", \"Sex\": \"Male (1)\", \"Age\": 31.7090395480226, \"SibSp\": 2, \"Parch\": 0, \"Ticket\": \"2662\", \"Fare\": 21.6792, \"Embarked\": \"C\", \"Survived\": \"Didn't survive\"}, {\"Pclass\": 1, \"Name\": \"Young, Miss. Marie Grice\", \"Sex\": \"Female (0)\", \"Age\": 36.0, \"SibSp\": 0, \"Parch\": 0, \"Ticket\": \"PC 17760\", \"Fare\": 135.6333, \"Embarked\": \"C\", \"Survived\": \"survived\"}, {\"Pclass\": 1, \"Name\": \"Bjornstrom-Steffansson, Mr. Mauritz Hakan\", \"Sex\": \"Male (1)\", \"Age\": 28.0, \"SibSp\": 0, \"Parch\": 0, \"Ticket\": \"110564\", \"Fare\": 26.55, \"Embarked\": \"S\", \"Survived\": \"survived\"}, {\"Pclass\": 3, \"Name\": \"Palsson, Mrs. Nils (Alma Cornelia Berglund)\", \"Sex\": \"Female (0)\", \"Age\": 29.0, \"SibSp\": 0, \"Parch\": 4, \"Ticket\": \"349909\", \"Fare\": 21.075, \"Embarked\": \"S\", \"Survived\": \"Didn't survive\"}, {\"Pclass\": 1, \"Name\": \"Francatelli, Miss. Laura Mabel\", \"Sex\": \"Female (0)\", \"Age\": 30.0, \"SibSp\": 0, \"Parch\": 0, \"Ticket\": \"PC 17485\", \"Fare\": 56.9292, \"Embarked\": \"C\", \"Survived\": \"survived\"}, {\"Pclass\": 1, \"Name\": \"Pears, Mr. Thomas Clinton\", \"Sex\": \"Male (1)\", \"Age\": 29.0, \"SibSp\": 1, \"Parch\": 0, \"Ticket\": \"113776\", \"Fare\": 66.6, \"Embarked\": \"S\", \"Survived\": \"Didn't survive\"}, {\"Pclass\": 3, \"Name\": \"O'Brien, Mr. Timothy\", \"Sex\": \"Male (1)\", \"Age\": 31.7090395480226, \"SibSp\": 0, \"Parch\": 0, \"Ticket\": \"330979\", \"Fare\": 7.8292, \"Embarked\": \"Q\", \"Survived\": \"Didn't survive\"}, {\"Pclass\": 3, \"Name\": \"Lefebre, Miss. Ida\", \"Sex\": \"Female (0)\", \"Age\": 31.7090395480226, \"SibSp\": 3, \"Parch\": 1, \"Ticket\": \"4133\", \"Fare\": 25.4667, \"Embarked\": \"S\", \"Survived\": \"Didn't survive\"}, {\"Pclass\": 3, \"Name\": \"Coxon, Mr. Daniel\", \"Sex\": \"Male (1)\", \"Age\": 59.0, \"SibSp\": 0, \"Parch\": 0, \"Ticket\": \"364500\", \"Fare\": 7.25, \"Embarked\": \"S\", \"Survived\": \"Didn't survive\"}, {\"Pclass\": 1, \"Name\": \"Stewart, Mr. Albert A\", \"Sex\": \"Male (1)\", \"Age\": 31.7090395480226, \"SibSp\": 0, \"Parch\": 0, \"Ticket\": \"PC 17605\", \"Fare\": 27.7208, \"Embarked\": \"C\", \"Survived\": \"Didn't survive\"}, {\"Pclass\": 2, \"Name\": \"Brown, Miss. Amelia \\\"Mildred\\\"\", \"Sex\": \"Female (0)\", \"Age\": 24.0, \"SibSp\": 0, \"Parch\": 0, \"Ticket\": \"248733\", \"Fare\": 13.0, \"Embarked\": \"S\", \"Survived\": \"survived\"}, {\"Pclass\": 1, \"Name\": \"Stead, Mr. William Thomas\", \"Sex\": \"Male (1)\", \"Age\": 62.0, \"SibSp\": 0, \"Parch\": 0, \"Ticket\": \"113514\", \"Fare\": 26.55, \"Embarked\": \"S\", \"Survived\": \"Didn't survive\"}, {\"Pclass\": 3, \"Name\": \"Murphy, Miss. Margaret Jane\", \"Sex\": \"Female (0)\", \"Age\": 31.7090395480226, \"SibSp\": 1, \"Parch\": 0, \"Ticket\": \"367230\", \"Fare\": 15.5, \"Embarked\": \"Q\", \"Survived\": \"survived\"}, {\"Pclass\": 1, \"Name\": \"Calderhead, Mr. Edward Pennington\", \"Sex\": \"Male (1)\", \"Age\": 42.0, \"SibSp\": 0, \"Parch\": 0, \"Ticket\": \"PC 17476\", \"Fare\": 26.2875, \"Embarked\": \"S\", \"Survived\": \"survived\"}, {\"Pclass\": 1, \"Name\": \"Barkworth, Mr. Algernon Henry Wilson\", \"Sex\": \"Male (1)\", \"Age\": 80.0, \"SibSp\": 0, \"Parch\": 0, \"Ticket\": \"27042\", \"Fare\": 30.0, \"Embarked\": \"S\", \"Survived\": \"survived\"}, {\"Pclass\": 3, \"Name\": \"McCormack, Mr. Thomas Joseph\", \"Sex\": \"Male (1)\", \"Age\": 31.7090395480226, \"SibSp\": 0, \"Parch\": 0, \"Ticket\": \"367228\", \"Fare\": 7.75, \"Embarked\": \"Q\", \"Survived\": \"survived\"}, {\"Pclass\": 1, \"Name\": \"Meyer, Mrs. Edgar Joseph (Leila Saks)\", \"Sex\": \"Female (0)\", \"Age\": 31.7090395480226, \"SibSp\": 1, \"Parch\": 0, \"Ticket\": \"PC 17604\", \"Fare\": 82.1708, \"Embarked\": \"C\", \"Survived\": \"survived\"}, {\"Pclass\": 1, \"Name\": \"Endres, Miss. Caroline Louise\", \"Sex\": \"Female (0)\", \"Age\": 38.0, \"SibSp\": 0, \"Parch\": 0, \"Ticket\": \"PC 17757\", \"Fare\": 227.525, \"Embarked\": \"C\", \"Survived\": \"survived\"}, {\"Pclass\": 1, \"Name\": \"Peuchen, Major. Arthur Godfrey\", \"Sex\": \"Male (1)\", \"Age\": 52.0, \"SibSp\": 0, \"Parch\": 0, \"Ticket\": \"113786\", \"Fare\": 30.5, \"Embarked\": \"S\", \"Survived\": \"survived\"}, {\"Pclass\": 3, \"Name\": \"Moubarek, Master. Halim Gonios (\\\"William George\\\")\", \"Sex\": \"Male (1)\", \"Age\": 31.7090395480226, \"SibSp\": 1, \"Parch\": 1, \"Ticket\": \"2661\", \"Fare\": 15.2458, \"Embarked\": \"C\", \"Survived\": \"survived\"}, {\"Pclass\": 3, \"Name\": \"Lindell, Mr. Edvard Bengtsson\", \"Sex\": \"Male (1)\", \"Age\": 36.0, \"SibSp\": 1, \"Parch\": 0, \"Ticket\": \"349910\", \"Fare\": 15.55, \"Embarked\": \"S\", \"Survived\": \"Didn't survive\"}, {\"Pclass\": 3, \"Name\": \"Gheorgheff, Mr. Stanio\", \"Sex\": \"Male (1)\", \"Age\": 31.7090395480226, \"SibSp\": 0, \"Parch\": 0, \"Ticket\": \"349254\", \"Fare\": 7.8958, \"Embarked\": \"C\", \"Survived\": \"Didn't survive\"}, {\"Pclass\": 3, \"Name\": \"Van Impe, Mr. Jean Baptiste\", \"Sex\": \"Male (1)\", \"Age\": 36.0, \"SibSp\": 1, \"Parch\": 1, \"Ticket\": \"345773\", \"Fare\": 24.15, \"Embarked\": \"S\", \"Survived\": \"Didn't survive\"}, {\"Pclass\": 3, \"Name\": \"Laitinen, Miss. Kristina Sofia\", \"Sex\": \"Female (0)\", \"Age\": 37.0, \"SibSp\": 0, \"Parch\": 0, \"Ticket\": \"4135\", \"Fare\": 9.5875, \"Embarked\": \"S\", \"Survived\": \"Didn't survive\"}, {\"Pclass\": 3, \"Name\": \"Andersson, Miss. Sigrid Elisabeth\", \"Sex\": \"Female (0)\", \"Age\": 11.0, \"SibSp\": 4, \"Parch\": 2, \"Ticket\": \"347082\", \"Fare\": 31.275, \"Embarked\": \"S\", \"Survived\": \"Didn't survive\"}, {\"Pclass\": 2, \"Name\": \"Beesley, Mr. Lawrence\", \"Sex\": \"Male (1)\", \"Age\": 34.0, \"SibSp\": 0, \"Parch\": 0, \"Ticket\": \"248698\", \"Fare\": 13.0, \"Embarked\": \"S\", \"Survived\": \"survived\"}, {\"Pclass\": 3, \"Name\": \"Touma, Mrs. Darwis (Hanne Youssef Razi)\", \"Sex\": \"Female (0)\", \"Age\": 29.0, \"SibSp\": 0, \"Parch\": 2, \"Ticket\": \"2650\", \"Fare\": 15.2458, \"Embarked\": \"C\", \"Survived\": \"survived\"}, {\"Pclass\": 2, \"Name\": \"Padro y Manent, Mr. Julian\", \"Sex\": \"Male (1)\", \"Age\": 31.7090395480226, \"SibSp\": 0, \"Parch\": 0, \"Ticket\": \"SC/PARIS 2146\", \"Fare\": 13.8625, \"Embarked\": \"C\", \"Survived\": \"survived\"}, {\"Pclass\": 2, \"Name\": \"Bateman, Rev. Robert James\", \"Sex\": \"Male (1)\", \"Age\": 51.0, \"SibSp\": 0, \"Parch\": 0, \"Ticket\": \"S.O.P. 1166\", \"Fare\": 12.525, \"Embarked\": \"S\", \"Survived\": \"Didn't survive\"}]}}, {\"mode\": \"vega-lite\"});\n",
       "</script>"
      ],
      "text/plain": [
       "alt.Chart(...)"
      ]
     },
     "execution_count": 71,
     "metadata": {},
     "output_type": "execute_result"
    }
   ],
   "source": [
    "alt.renderers.enable(\"html\")\n",
    "\n",
    "\n",
    "class Graph:\n",
    "    def __init__(\n",
    "        self, data: pd.DataFrame, map_values: Optional[Dict[str, Dict[str, Any]]] = None\n",
    "    ) -> None:\n",
    "        data = data.copy()\n",
    "\n",
    "        if map_values:\n",
    "            for key, value in map_values.items():\n",
    "                data[key] = data[key].map(lambda col: value[col])\n",
    "\n",
    "        self.__data = data\n",
    "\n",
    "    def setting_colors(\n",
    "        self, x: str, color: List[str] | str\n",
    "    ) -> Tuple[pd.DataFrame, alt.Color]:\n",
    "\n",
    "        # Color map.\n",
    "        if isinstance(color, list):\n",
    "            alt_color = (\n",
    "                alt.Color(x).scale(range=color, reverse=True).legend(orient=\"right\")\n",
    "            )\n",
    "        else:\n",
    "            alt_color = (\n",
    "                alt.Color(x).scale(scheme=color, reverse=True).legend(orient=\"right\")\n",
    "            )\n",
    "        return alt_color\n",
    "\n",
    "    def col_bar_char(\n",
    "        self,\n",
    "        x_column: str,\n",
    "        group_by: str,\n",
    "        color: List | str = \"paired\",\n",
    "        width: int = 200,\n",
    "        height: int = 200,\n",
    "        title: Optional[str] = None,\n",
    "        subtitle: Optional[str] = None,\n",
    "        x_title: str | None = None,\n",
    "        y_title: str | None = None,\n",
    "    ):\n",
    "        alt_color = self.setting_colors(x_column, color=color)\n",
    "\n",
    "        data = self.__data\n",
    "\n",
    "        x_title = x_title.title() if x_title else x_column.title()\n",
    "        y_title = y_title.title() if y_title else \"Number of Passengers\"\n",
    "\n",
    "        source = data.groupby(group_by)[x_column].value_counts().reset_index()\n",
    "\n",
    "        grouped_bars = (\n",
    "            alt.Chart(source)\n",
    "            .mark_bar(cornerRadius=10)\n",
    "            .encode(\n",
    "                x=alt.X(x_column, title=x_title),\n",
    "                y=alt.Y(\"count:Q\", title=y_title),\n",
    "                color=alt_color,\n",
    "                column=group_by,\n",
    "            )\n",
    "            .encode(\n",
    "                tooltip=[\n",
    "                    alt.Tooltip(x_column, title=x_title),\n",
    "                    alt.Tooltip(\"count\", title=y_title),\n",
    "                ],\n",
    "            )\n",
    "            .properties(\n",
    "                width=width,\n",
    "                height=height,\n",
    "                title=alt.Title(\n",
    "                    title if title else \"\",\n",
    "                    fontSize=18,\n",
    "                    subtitle=subtitle if subtitle else \"\",\n",
    "                    subtitleFontSize=12,\n",
    "                    # dy=-10,\n",
    "                ),\n",
    "            )\n",
    "        )\n",
    "\n",
    "        return grouped_bars\n",
    "\n",
    "    def bar_chart(\n",
    "        self,\n",
    "        x_column: str,\n",
    "        color: List | str = \"paired\",\n",
    "        width: int = 200,\n",
    "        height: int = 200,\n",
    "        title: Optional[str] = None,\n",
    "        subtitle: Optional[str] = None,\n",
    "        x_title: str | None = None,\n",
    "        y_title: str | None = None,\n",
    "    ) -> alt.ChartDataType:  # Make copy then change column data to str\n",
    "\n",
    "        alt_color = self.setting_colors(x_column, color=color)\n",
    "\n",
    "        data = self.__data\n",
    "\n",
    "        x_title = x_title.title() if x_title else x_column.title()\n",
    "        y_title = y_title.title() if y_title else \"Number of Passengers\"\n",
    "\n",
    "        # Return the alt chart\n",
    "        bar_layer = (\n",
    "            alt.Chart(data)\n",
    "            .mark_bar(cornerRadius=10)\n",
    "            .encode(\n",
    "                x=alt.X(\n",
    "                    x_column,\n",
    "                    title=x_title,\n",
    "                    axis=alt.Axis(grid=False, labelFontWeight=\"bold\"),\n",
    "                ),\n",
    "                y=alt.Y(\n",
    "                    \"count()\",\n",
    "                    title=y_title,\n",
    "                    axis=alt.Axis(grid=False, labelFontWeight=\"bold\"),\n",
    "                ),\n",
    "                color=alt_color.legend(orient=\"right\"),\n",
    "                tooltip=[\n",
    "                    alt.Tooltip(x_column, title=x_title),\n",
    "                    alt.Tooltip(\"count()\", title=y_title),\n",
    "                ],\n",
    "            )\n",
    "            .properties(\n",
    "                width=width,\n",
    "                height=height,\n",
    "                title=alt.Title(\n",
    "                    title if title else \"\",\n",
    "                    fontSize=18,\n",
    "                    subtitle=subtitle if subtitle else \"\",\n",
    "                    subtitleFontSize=12,\n",
    "                    # dy=-10,\n",
    "                ),\n",
    "            )\n",
    "        )\n",
    "\n",
    "        text_layer = (\n",
    "            alt.Chart(data)\n",
    "            .mark_text(\n",
    "                align=\"center\",\n",
    "                baseline=\"bottom\",  # Align text to the bottom of its bounding box\n",
    "                dy=-5,  # Adjust vertical position (negative for above the bar)\n",
    "                fontSize=12,\n",
    "                fontWeight=\"bold\",\n",
    "            )\n",
    "            .encode(x=x_column, y=\"count()\", text=alt.Text(\"count()\"))\n",
    "        )\n",
    "\n",
    "        return bar_layer + text_layer  # .configure_view(\n",
    "\n",
    "    def donut_chart(\n",
    "        self,\n",
    "        x: str,\n",
    "        inner_radius: int = 50,\n",
    "        color: List | str = \"paired\",\n",
    "        width: int = 200,\n",
    "        height: int = 200,\n",
    "    ) -> alt.ChartDataType:\n",
    "\n",
    "        data = self.__data\n",
    "\n",
    "        value_counts = data[x].value_counts().reset_index()\n",
    "        value_counts[\"count\"] = (value_counts[\"count\"] / data.shape[0]).round(3)\n",
    "\n",
    "        donut_chart = (\n",
    "            alt.Chart(value_counts)\n",
    "            .mark_arc(innerRadius=inner_radius)\n",
    "            .encode(\n",
    "                theta=\"count\",\n",
    "                color=f\"{x}:N\",\n",
    "                tooltip=[\n",
    "                    alt.Tooltip(f\"{x}\".title()),\n",
    "                    alt.Tooltip(\"count\", title=\"Percentage\"),\n",
    "                ],\n",
    "            )\n",
    "            .properties(\n",
    "                width=width,\n",
    "                height=height,\n",
    "            )\n",
    "        )\n",
    "        return donut_chart\n",
    "\n",
    "    def scatter_chart(\n",
    "        self,\n",
    "        x: str,\n",
    "        y: str,\n",
    "        color_with: Optional[str] = None,\n",
    "        width: int = 300,\n",
    "        height: int = 300,\n",
    "        title: Optional[str] = None,\n",
    "        subtitle: Optional[str] = None,\n",
    "        color: List[str] | str = \"dark2\",\n",
    "    ):\n",
    "        alt_color = None\n",
    "\n",
    "        if color_with:\n",
    "            alt_color = self.setting_colors(color_with, color=color)\n",
    "\n",
    "        tooltips = (\n",
    "            [alt.Tooltip(x), alt.Tooltip(y), alt.Tooltip(color_with)]\n",
    "            if color_with\n",
    "            else [alt.Tooltip(x), alt.Tooltip(y)]\n",
    "        )\n",
    "\n",
    "        encode_param = (\n",
    "            dict(x=\"%s:Q\" % x, y=\"%s:Q\" % y, color=alt_color, tooltip=tooltips)\n",
    "            if color_with\n",
    "            else dict(x=\"%s:Q\" % x, y=\"%s:Q\" % y, tooltip=tooltips)\n",
    "        )\n",
    "\n",
    "        data = self.__data\n",
    "\n",
    "        # Scatter Plot\n",
    "        points = (\n",
    "            alt.Chart(data)\n",
    "            .mark_point()\n",
    "            .encode(**encode_param)\n",
    "            .properties(\n",
    "                width=width,\n",
    "                height=height,\n",
    "                title=alt.Title(\n",
    "                    title if title else \"\",\n",
    "                    fontSize=18,\n",
    "                    subtitle=subtitle if subtitle else \"\",\n",
    "                    subtitleFontSize=12,\n",
    "                ),\n",
    "            )\n",
    "        )\n",
    "\n",
    "        points = points.configure_view(stroke=None)\n",
    "\n",
    "        return points\n",
    "\n",
    "    def concat(\n",
    "        self,\n",
    "        *args,\n",
    "        use: Literal[\"vconcat\", \"hconcat\"] = \"vconcat\",\n",
    "        show_stroke: bool = False,\n",
    "    ):\n",
    "        if use == \"vconcat\":\n",
    "            if show_stroke:\n",
    "                return alt.vconcat(*args)\n",
    "            return alt.vconcat(*args).configure_view(stroke=None)\n",
    "        elif use == \"hconcat\":\n",
    "            if show_stroke:\n",
    "                return alt.hconcat(*args)\n",
    "            return alt.hconcat(*args).configure_view(stroke=None)\n",
    "        else:\n",
    "            raise ValueError(\"Received invalid value `%s`\" % use)\n",
    "\n",
    "\n",
    "graph = Graph(\n",
    "    visual_df,\n",
    "    map_values={\n",
    "        \"Sex\": {0: \"Female (0)\", 1: \"Male (1)\"},\n",
    "        \"Survived\": {0: \"Didn't survive\", 1: \"survived\"},\n",
    "    },\n",
    ")\n",
    "graph.bar_chart(\"Embarked\")\n",
    "donut = graph.donut_chart(\"Embarked\")\n",
    "col_bar = graph.scatter_chart(\n",
    "    \"Age\", \"Fare\", color_with=\"Survived\", color=[\"red\", \"blue\"]\n",
    ")\n",
    "col_bar\n",
    "\n",
    "# hconcat = graph.concat(bar, donut, use=\"hconcat\", show_stroke=True)\n",
    "# graph.concat(hconcat, col_bar, use=\"vconcat\")\n",
    "# col_bar"
   ]
  },
  {
   "cell_type": "code",
   "execution_count": null,
   "id": "bd2a59f4-34c0-495a-bb70-191118b83d74",
   "metadata": {
    "ExecuteTime": {
     "end_time": "2025-10-03T22:37:14.143567Z",
     "start_time": "2025-10-03T22:37:14.126763Z"
    },
    "vscode": {
     "languageId": "r"
    }
   },
   "outputs": [],
   "source": [
    "x = clean_train_x['Embarked'].value_counts().reset_index()\n",
    "x[\"count\"] = (x[\"count\"] / clean_train_x.shape[0]).round(3)"
   ]
  },
  {
   "cell_type": "code",
   "execution_count": null,
   "id": "45398cfb-bf8c-400c-aaa4-3f7d02cae801",
   "metadata": {
    "ExecuteTime": {
     "end_time": "2025-10-04T00:06:14.155314Z",
     "start_time": "2025-10-04T00:06:14.068928Z"
    },
    "vscode": {
     "languageId": "r"
    }
   },
   "outputs": [],
   "source": []
  },
  {
   "cell_type": "code",
   "execution_count": null,
   "id": "d2eaef2a-93ed-408a-a08e-f861247edeb1",
   "metadata": {
    "ExecuteTime": {
     "end_time": "2025-10-03T22:37:14.279492Z",
     "start_time": "2025-10-03T22:37:14.274489Z"
    },
    "vscode": {
     "languageId": "r"
    }
   },
   "outputs": [],
   "source": []
  },
  {
   "cell_type": "code",
   "execution_count": null,
   "id": "af27aa4c-89ac-4139-a713-5665113fe923",
   "metadata": {
    "vscode": {
     "languageId": "r"
    }
   },
   "outputs": [],
   "source": []
  }
 ],
 "metadata": {
  "colab": {
   "provenance": []
  },
  "kernelspec": {
   "display_name": "R",
   "language": "R",
   "name": "ir"
  },
  "language_info": {
   "codemirror_mode": "r",
   "file_extension": ".r",
   "mimetype": "text/x-r-source",
   "name": "R",
   "pygments_lexer": "r",
   "version": "4.5.1"
  }
 },
 "nbformat": 4,
 "nbformat_minor": 5
}
